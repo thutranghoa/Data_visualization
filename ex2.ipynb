{
 "cells": [
  {
   "cell_type": "code",
   "execution_count": 2,
   "metadata": {},
   "outputs": [
    {
     "name": "stdout",
     "output_type": "stream",
     "text": [
      "odict_keys(['births2006.idx', 'births2006.smpl'])\n"
     ]
    },
    {
     "data": {
      "text/html": [
       "<div>\n",
       "<style scoped>\n",
       "    .dataframe tbody tr th:only-of-type {\n",
       "        vertical-align: middle;\n",
       "    }\n",
       "\n",
       "    .dataframe tbody tr th {\n",
       "        vertical-align: top;\n",
       "    }\n",
       "\n",
       "    .dataframe thead th {\n",
       "        text-align: right;\n",
       "    }\n",
       "</style>\n",
       "<table border=\"1\" class=\"dataframe\">\n",
       "  <thead>\n",
       "    <tr style=\"text-align: right;\">\n",
       "      <th></th>\n",
       "      <th>DOB_MM</th>\n",
       "      <th>DOB_WK</th>\n",
       "      <th>MAGER</th>\n",
       "      <th>TBO_REC</th>\n",
       "      <th>WTGAIN</th>\n",
       "      <th>SEX</th>\n",
       "      <th>APGAR5</th>\n",
       "      <th>DMEDUC</th>\n",
       "      <th>UPREVIS</th>\n",
       "      <th>ESTGEST</th>\n",
       "      <th>DMETH_REC</th>\n",
       "      <th>DPLURAL</th>\n",
       "      <th>DBWT</th>\n",
       "    </tr>\n",
       "  </thead>\n",
       "  <tbody>\n",
       "    <tr>\n",
       "      <th>0</th>\n",
       "      <td>9</td>\n",
       "      <td>1</td>\n",
       "      <td>25</td>\n",
       "      <td>2</td>\n",
       "      <td>NaN</td>\n",
       "      <td>F</td>\n",
       "      <td>NaN</td>\n",
       "      <td>NULL</td>\n",
       "      <td>10</td>\n",
       "      <td>99</td>\n",
       "      <td>Vaginal</td>\n",
       "      <td>1 Single</td>\n",
       "      <td>3800</td>\n",
       "    </tr>\n",
       "    <tr>\n",
       "      <th>1</th>\n",
       "      <td>2</td>\n",
       "      <td>6</td>\n",
       "      <td>28</td>\n",
       "      <td>2</td>\n",
       "      <td>26</td>\n",
       "      <td>M</td>\n",
       "      <td>9</td>\n",
       "      <td>2 years of college</td>\n",
       "      <td>10</td>\n",
       "      <td>37</td>\n",
       "      <td>Vaginal</td>\n",
       "      <td>1 Single</td>\n",
       "      <td>3625</td>\n",
       "    </tr>\n",
       "    <tr>\n",
       "      <th>2</th>\n",
       "      <td>2</td>\n",
       "      <td>2</td>\n",
       "      <td>18</td>\n",
       "      <td>2</td>\n",
       "      <td>25</td>\n",
       "      <td>F</td>\n",
       "      <td>9</td>\n",
       "      <td>NULL</td>\n",
       "      <td>14</td>\n",
       "      <td>38</td>\n",
       "      <td>Vaginal</td>\n",
       "      <td>1 Single</td>\n",
       "      <td>3650</td>\n",
       "    </tr>\n",
       "    <tr>\n",
       "      <th>3</th>\n",
       "      <td>10</td>\n",
       "      <td>5</td>\n",
       "      <td>21</td>\n",
       "      <td>2</td>\n",
       "      <td>6</td>\n",
       "      <td>M</td>\n",
       "      <td>9</td>\n",
       "      <td>NULL</td>\n",
       "      <td>22</td>\n",
       "      <td>38</td>\n",
       "      <td>Vaginal</td>\n",
       "      <td>1 Single</td>\n",
       "      <td>3045</td>\n",
       "    </tr>\n",
       "    <tr>\n",
       "      <th>4</th>\n",
       "      <td>7</td>\n",
       "      <td>7</td>\n",
       "      <td>25</td>\n",
       "      <td>1</td>\n",
       "      <td>36</td>\n",
       "      <td>M</td>\n",
       "      <td>10</td>\n",
       "      <td>2 years of high school</td>\n",
       "      <td>15</td>\n",
       "      <td>40</td>\n",
       "      <td>Vaginal</td>\n",
       "      <td>1 Single</td>\n",
       "      <td>3827</td>\n",
       "    </tr>\n",
       "  </tbody>\n",
       "</table>\n",
       "</div>"
      ],
      "text/plain": [
       "   DOB_MM  DOB_WK  MAGER TBO_REC WTGAIN SEX APGAR5                  DMEDUC  \\\n",
       "0       9       1     25       2    NaN   F    NaN                    NULL   \n",
       "1       2       6     28       2     26   M      9      2 years of college   \n",
       "2       2       2     18       2     25   F      9                    NULL   \n",
       "3      10       5     21       2      6   M      9                    NULL   \n",
       "4       7       7     25       1     36   M     10  2 years of high school   \n",
       "\n",
       "   UPREVIS  ESTGEST DMETH_REC   DPLURAL  DBWT  \n",
       "0       10       99   Vaginal  1 Single  3800  \n",
       "1       10       37   Vaginal  1 Single  3625  \n",
       "2       14       38   Vaginal  1 Single  3650  \n",
       "3       22       38   Vaginal  1 Single  3045  \n",
       "4       15       40   Vaginal  1 Single  3827  "
      ]
     },
     "execution_count": 2,
     "metadata": {},
     "output_type": "execute_result"
    }
   ],
   "source": [
    "import numpy as np\n",
    "import pandas as pd\n",
    "import matplotlib.pyplot as plt\n",
    "import seaborn as sns\n",
    "import pyreadr\n",
    "\n",
    "data = pyreadr.read_r (\"births2006.smpl.rda\")\n",
    "print (data.keys())\n",
    "\n",
    "df = data['births2006.smpl']\n",
    "\n",
    "df.head(5)\n"
   ]
  },
  {
   "cell_type": "code",
   "execution_count": 4,
   "metadata": {},
   "outputs": [
    {
     "name": "stdout",
     "output_type": "stream",
     "text": [
      "Index(['DOB_MM', 'DOB_WK', 'MAGER', 'TBO_REC', 'WTGAIN', 'SEX', 'APGAR5',\n",
      "       'DMEDUC', 'UPREVIS', 'ESTGEST', 'DMETH_REC', 'DPLURAL', 'DBWT'],\n",
      "      dtype='object')\n"
     ]
    }
   ],
   "source": [
    "print (df.columns)"
   ]
  },
  {
   "cell_type": "code",
   "execution_count": 1,
   "metadata": {},
   "outputs": [
    {
     "name": "stdout",
     "output_type": "stream",
     "text": [
      "[[ 1  2  3  4]\n",
      " [ 5  6  7  8]\n",
      " [ 9 10 11 12]\n",
      " [13 14 15 16]]\n"
     ]
    }
   ],
   "source": [
    "import numpy as np\n",
    "a = np.array([[1, 2,3,4],\n",
    "                    [5,6,7,8],\n",
    "                    [9,10,11,12],\n",
    "                    [13,14,15,16]])\n",
    "print (a)"
   ]
  },
  {
   "cell_type": "code",
   "execution_count": 16,
   "metadata": {},
   "outputs": [
    {
     "name": "stdout",
     "output_type": "stream",
     "text": [
      "7\n"
     ]
    }
   ],
   "source": [
    "print (a[1::2][0][2])"
   ]
  }
 ],
 "metadata": {
  "kernelspec": {
   "display_name": "Python 3",
   "language": "python",
   "name": "python3"
  },
  "language_info": {
   "codemirror_mode": {
    "name": "ipython",
    "version": 3
   },
   "file_extension": ".py",
   "mimetype": "text/x-python",
   "name": "python",
   "nbconvert_exporter": "python",
   "pygments_lexer": "ipython3",
   "version": "3.10.6"
  },
  "orig_nbformat": 4,
  "vscode": {
   "interpreter": {
    "hash": "916dbcbb3f70747c44a77c7bcd40155683ae19c65e1c03b4aa3499c5328201f1"
   }
  }
 },
 "nbformat": 4,
 "nbformat_minor": 2
}
