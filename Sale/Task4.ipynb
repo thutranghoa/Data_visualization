{
  "cells": [
    {
      "cell_type": "code",
      "execution_count": 3,
      "metadata": {
        "id": "vb-WICOtv4PX"
      },
      "outputs": [],
      "source": [
        "import numpy as np\n",
        "import pandas as pd\n",
        "import plotly.graph_objects as go\n",
        "import matplotlib.pyplot as plt"
      ]
    },
    {
      "cell_type": "code",
      "execution_count": 4,
      "metadata": {
        "id": "h3YV1-jWwIEK"
      },
      "outputs": [],
      "source": [
        "xls = pd.ExcelFile('Hoạt động bán hàng All RM Tháng 3 theo tuần.xlsx')\n",
        "\n",
        "\n",
        "sheet_names = xls.sheet_names\n",
        "\n",
        "dfs = {}\n",
        "\n",
        "\n",
        "for sheet_name in sheet_names:\n",
        "    dfs[sheet_name] = xls.parse(sheet_name)\n"
      ]
    },
    {
      "cell_type": "code",
      "execution_count": 5,
      "metadata": {
        "id": "ooMcUYVY9Zse"
      },
      "outputs": [],
      "source": [
        "df1 = dfs['Tuần 06.03-12.03']\n",
        "df2 = dfs['Tuần 13.03-19.03']\n",
        "df3 = dfs['Tuần 20.03-26.03']\n",
        "df4 = dfs['Tuần 27.02-05.03']\n",
        "df5 = dfs['Tuần 27.03-01.04']"
      ]
    },
    {
      "cell_type": "code",
      "execution_count": 6,
      "metadata": {
        "id": "Q8CGlJ2z9cVE"
      },
      "outputs": [],
      "source": [
        "df1['w']='w1'\n",
        "df2['w']='w2'\n",
        "df3['w']='w3'\n",
        "df4['w']='w4'\n",
        "df5['w']='w5'"
      ]
    },
    {
      "cell_type": "code",
      "execution_count": 7,
      "metadata": {
        "id": "4jubz44twWNe"
      },
      "outputs": [],
      "source": [
        "df_all = pd.concat([df1,df2,df3,df4,df5])\n",
        "df_all['w']='all'"
      ]
    },
    {
      "cell_type": "code",
      "execution_count": 8,
      "metadata": {
        "id": "_QOkX8iDDF6p"
      },
      "outputs": [],
      "source": [
        "def fix(df):\n",
        "  df['Tỉ lệ hoạt động'] = df['Đã active hạn mức']/df['Đã gọi']\n",
        "  df = df.loc[df[' Rm name'] != '0.Toàn hàng']\n",
        "  df = df.loc[df[' Rm name'] != '1.Toàn chi nhánh']\n",
        "  df = df.loc[df[' Rm name'] != '2.Toàn team']\n",
        "  df.replace([np.inf, -np.inf], 0, inplace=True)\n",
        "  df_sorted = df.sort_values(by='Tỉ lệ hoạt động', ascending=False)\n",
        "  top_10 = df_sorted.head(10)[::-1]\n",
        "  return top_10"
      ]
    },
    {
      "cell_type": "code",
      "execution_count": 9,
      "metadata": {
        "id": "gXjOg1SqDR94"
      },
      "outputs": [],
      "source": [
        "df = pd.concat([fix(df1),fix(df2),fix(df3),fix(df4),fix(df5), fix(df_all)])"
      ]
    },
    {
      "cell_type": "code",
      "execution_count": 10,
      "metadata": {
        "colab": {
          "base_uri": "https://localhost:8080/",
          "height": 542
        },
        "id": "G2mALIzV_R2w",
        "outputId": "9e638808-41e9-4bbb-de4b-6492f9dcd26d"
      },
      "outputs": [
        {
          "data": {
            "application/vnd.plotly.v1+json": {
              "config": {
                "plotlyServerURL": "https://plotly.com"
              },
              "data": [
                {
                  "marker": {
                    "color": "teal",
                    "line": {
                      "color": "black",
                      "width": 1
                    },
                    "size": 10
                  },
                  "mode": "markers",
                  "type": "scatter",
                  "x": [
                    [
                      0.6666666666666666,
                      0.6666666666666666,
                      1,
                      1,
                      1,
                      1,
                      1,
                      1,
                      1,
                      2,
                      1,
                      1,
                      1,
                      1,
                      1,
                      1,
                      1,
                      2,
                      2,
                      2,
                      0.5714285714285714,
                      1,
                      1,
                      1,
                      1,
                      1,
                      1,
                      1,
                      1.5,
                      3,
                      0.5,
                      1,
                      1,
                      1,
                      1,
                      1,
                      1,
                      1,
                      1,
                      1,
                      0.6666666666666666,
                      1,
                      1,
                      1,
                      1,
                      1,
                      1,
                      1,
                      1.5,
                      3,
                      1,
                      1,
                      1.5,
                      1.5,
                      2,
                      2,
                      2,
                      2,
                      3,
                      3
                    ]
                  ],
                  "y": [
                    [
                      "Nguyễn Thanh Hải",
                      "Phạm Thị Trang Nhung",
                      "Nguyễn Duy Minh",
                      "Tạ Phương Thành",
                      "Nguyễn Phan Quỳnh Na",
                      "Mai Hoàng Phú",
                      "Lê Minh Tùng",
                      "Nguyễn Xuân Trường",
                      "Dương Đình Tân",
                      "Nguyễn Thành Phi",
                      "Đinh Thị Thu Thảo",
                      "Nguyễn Thị Thảo Yến",
                      "Nguyễn Chính Hiệp",
                      "Huỳnh Thị Bích Tuyền",
                      "Phạm Ngọc Điệp",
                      "Nguyễn Thanh Hải",
                      "Nguyễn Ngọc Thắng",
                      "Nguyễn Thị Ngọc Lan",
                      "Đặng Thị Trúc Duyên",
                      "Hà Thị Thủy Tiên",
                      "Phạm Văn Thìn",
                      "Lê Hoàng Dzũ",
                      "LÊ THANH HẬU",
                      "Trần Nho Liêm",
                      "Phạm Thị Hoa Mai",
                      "Nguyễn Hải Đăng",
                      "Nguyễn Đình Trí",
                      "Trần Thị Lâm Quỳnh",
                      "Lê Thị Hồng Thúy",
                      "Hồ Hữu Thông",
                      "Nguyễn Thị Tố Trâm",
                      "Nguyễn Phấn Sinh",
                      "Thang Hữu Duy",
                      "Nguyễn Thị Phương Uyên",
                      "Quách Văn Nguyên",
                      "Đinh Thị Thu Thảo",
                      "Lê Thị Quỳnh Trang",
                      "Đô Bá Dũng",
                      "Nguyễn Ngọc Thắng",
                      "Dương Thị Hoa",
                      "Đỗ Thị Hường",
                      "Nguyễn Thị Thái Phương",
                      "Nguyễn Anh Tuấn",
                      "Nguyễn Thị Minh Ngọc",
                      "Lê Văn Thành",
                      "Nguyễn Công Toàn",
                      "Đinh Minh Thư",
                      "Nguyễn Ngọc Thành",
                      "Nguyễn Thị Thúy Hằng",
                      "Nguyễn Mạnh Cường",
                      "Nguyễn Ngọc Thắng",
                      "Đinh Thị Thu Thảo",
                      "Lê Thị Hồng Thúy",
                      "Nguyễn Thị Thúy Hằng",
                      "Nguyễn Thành Phi",
                      "Hà Thị Thủy Tiên",
                      "Đặng Thị Trúc Duyên",
                      "Nguyễn Thị Ngọc Lan",
                      "Nguyễn Mạnh Cường",
                      "Hồ Hữu Thông"
                    ]
                  ]
                }
              ],
              "layout": {
                "shapes": [
                  {
                    "layer": "below",
                    "line": {
                      "color": "darkblue",
                      "width": 4
                    },
                    "type": "line",
                    "x0": 0.6666666666666666,
                    "x1": 0,
                    "y0": "Nguyễn Thanh Hải",
                    "y1": "Nguyễn Thanh Hải"
                  },
                  {
                    "layer": "below",
                    "line": {
                      "color": "darkblue",
                      "width": 4
                    },
                    "type": "line",
                    "x0": 0.6666666666666666,
                    "x1": 0,
                    "y0": "Phạm Thị Trang Nhung",
                    "y1": "Phạm Thị Trang Nhung"
                  },
                  {
                    "layer": "below",
                    "line": {
                      "color": "darkblue",
                      "width": 4
                    },
                    "type": "line",
                    "x0": 1,
                    "x1": 0,
                    "y0": "Nguyễn Duy Minh",
                    "y1": "Nguyễn Duy Minh"
                  },
                  {
                    "layer": "below",
                    "line": {
                      "color": "darkblue",
                      "width": 4
                    },
                    "type": "line",
                    "x0": 1,
                    "x1": 0,
                    "y0": "Tạ Phương Thành",
                    "y1": "Tạ Phương Thành"
                  },
                  {
                    "layer": "below",
                    "line": {
                      "color": "darkblue",
                      "width": 4
                    },
                    "type": "line",
                    "x0": 1,
                    "x1": 0,
                    "y0": "Nguyễn Phan Quỳnh Na",
                    "y1": "Nguyễn Phan Quỳnh Na"
                  },
                  {
                    "layer": "below",
                    "line": {
                      "color": "darkblue",
                      "width": 4
                    },
                    "type": "line",
                    "x0": 1,
                    "x1": 0,
                    "y0": "Mai Hoàng Phú",
                    "y1": "Mai Hoàng Phú"
                  },
                  {
                    "layer": "below",
                    "line": {
                      "color": "darkblue",
                      "width": 4
                    },
                    "type": "line",
                    "x0": 1,
                    "x1": 0,
                    "y0": "Lê Minh Tùng",
                    "y1": "Lê Minh Tùng"
                  },
                  {
                    "layer": "below",
                    "line": {
                      "color": "darkblue",
                      "width": 4
                    },
                    "type": "line",
                    "x0": 1,
                    "x1": 0,
                    "y0": "Nguyễn Xuân Trường",
                    "y1": "Nguyễn Xuân Trường"
                  },
                  {
                    "layer": "below",
                    "line": {
                      "color": "darkblue",
                      "width": 4
                    },
                    "type": "line",
                    "x0": 1,
                    "x1": 0,
                    "y0": "Dương Đình Tân",
                    "y1": "Dương Đình Tân"
                  },
                  {
                    "layer": "below",
                    "line": {
                      "color": "darkblue",
                      "width": 4
                    },
                    "type": "line",
                    "x0": 2,
                    "x1": 0,
                    "y0": "Nguyễn Thành Phi",
                    "y1": "Nguyễn Thành Phi"
                  },
                  {
                    "layer": "below",
                    "line": {
                      "color": "darkblue",
                      "width": 4
                    },
                    "type": "line",
                    "x0": 1,
                    "x1": 0,
                    "y0": "Đinh Thị Thu Thảo",
                    "y1": "Đinh Thị Thu Thảo"
                  },
                  {
                    "layer": "below",
                    "line": {
                      "color": "darkblue",
                      "width": 4
                    },
                    "type": "line",
                    "x0": 1,
                    "x1": 0,
                    "y0": "Nguyễn Thị Thảo Yến",
                    "y1": "Nguyễn Thị Thảo Yến"
                  },
                  {
                    "layer": "below",
                    "line": {
                      "color": "darkblue",
                      "width": 4
                    },
                    "type": "line",
                    "x0": 1,
                    "x1": 0,
                    "y0": "Nguyễn Chính Hiệp",
                    "y1": "Nguyễn Chính Hiệp"
                  },
                  {
                    "layer": "below",
                    "line": {
                      "color": "darkblue",
                      "width": 4
                    },
                    "type": "line",
                    "x0": 1,
                    "x1": 0,
                    "y0": "Huỳnh Thị Bích Tuyền",
                    "y1": "Huỳnh Thị Bích Tuyền"
                  },
                  {
                    "layer": "below",
                    "line": {
                      "color": "darkblue",
                      "width": 4
                    },
                    "type": "line",
                    "x0": 1,
                    "x1": 0,
                    "y0": "Phạm Ngọc Điệp",
                    "y1": "Phạm Ngọc Điệp"
                  },
                  {
                    "layer": "below",
                    "line": {
                      "color": "darkblue",
                      "width": 4
                    },
                    "type": "line",
                    "x0": 1,
                    "x1": 0,
                    "y0": "Nguyễn Thanh Hải",
                    "y1": "Nguyễn Thanh Hải"
                  },
                  {
                    "layer": "below",
                    "line": {
                      "color": "darkblue",
                      "width": 4
                    },
                    "type": "line",
                    "x0": 1,
                    "x1": 0,
                    "y0": "Nguyễn Ngọc Thắng",
                    "y1": "Nguyễn Ngọc Thắng"
                  },
                  {
                    "layer": "below",
                    "line": {
                      "color": "darkblue",
                      "width": 4
                    },
                    "type": "line",
                    "x0": 2,
                    "x1": 0,
                    "y0": "Nguyễn Thị Ngọc Lan",
                    "y1": "Nguyễn Thị Ngọc Lan"
                  },
                  {
                    "layer": "below",
                    "line": {
                      "color": "darkblue",
                      "width": 4
                    },
                    "type": "line",
                    "x0": 2,
                    "x1": 0,
                    "y0": "Đặng Thị Trúc Duyên",
                    "y1": "Đặng Thị Trúc Duyên"
                  },
                  {
                    "layer": "below",
                    "line": {
                      "color": "darkblue",
                      "width": 4
                    },
                    "type": "line",
                    "x0": 2,
                    "x1": 0,
                    "y0": "Hà Thị Thủy Tiên",
                    "y1": "Hà Thị Thủy Tiên"
                  },
                  {
                    "layer": "below",
                    "line": {
                      "color": "darkblue",
                      "width": 4
                    },
                    "type": "line",
                    "x0": 0.5714285714285714,
                    "x1": 0,
                    "y0": "Phạm Văn Thìn",
                    "y1": "Phạm Văn Thìn"
                  },
                  {
                    "layer": "below",
                    "line": {
                      "color": "darkblue",
                      "width": 4
                    },
                    "type": "line",
                    "x0": 1,
                    "x1": 0,
                    "y0": "Lê Hoàng Dzũ",
                    "y1": "Lê Hoàng Dzũ"
                  },
                  {
                    "layer": "below",
                    "line": {
                      "color": "darkblue",
                      "width": 4
                    },
                    "type": "line",
                    "x0": 1,
                    "x1": 0,
                    "y0": "LÊ THANH HẬU",
                    "y1": "LÊ THANH HẬU"
                  },
                  {
                    "layer": "below",
                    "line": {
                      "color": "darkblue",
                      "width": 4
                    },
                    "type": "line",
                    "x0": 1,
                    "x1": 0,
                    "y0": "Trần Nho Liêm",
                    "y1": "Trần Nho Liêm"
                  },
                  {
                    "layer": "below",
                    "line": {
                      "color": "darkblue",
                      "width": 4
                    },
                    "type": "line",
                    "x0": 1,
                    "x1": 0,
                    "y0": "Phạm Thị Hoa Mai",
                    "y1": "Phạm Thị Hoa Mai"
                  },
                  {
                    "layer": "below",
                    "line": {
                      "color": "darkblue",
                      "width": 4
                    },
                    "type": "line",
                    "x0": 1,
                    "x1": 0,
                    "y0": "Nguyễn Hải Đăng",
                    "y1": "Nguyễn Hải Đăng"
                  },
                  {
                    "layer": "below",
                    "line": {
                      "color": "darkblue",
                      "width": 4
                    },
                    "type": "line",
                    "x0": 1,
                    "x1": 0,
                    "y0": "Nguyễn Đình Trí",
                    "y1": "Nguyễn Đình Trí"
                  },
                  {
                    "layer": "below",
                    "line": {
                      "color": "darkblue",
                      "width": 4
                    },
                    "type": "line",
                    "x0": 1,
                    "x1": 0,
                    "y0": "Trần Thị Lâm Quỳnh",
                    "y1": "Trần Thị Lâm Quỳnh"
                  },
                  {
                    "layer": "below",
                    "line": {
                      "color": "darkblue",
                      "width": 4
                    },
                    "type": "line",
                    "x0": 1.5,
                    "x1": 0,
                    "y0": "Lê Thị Hồng Thúy",
                    "y1": "Lê Thị Hồng Thúy"
                  },
                  {
                    "layer": "below",
                    "line": {
                      "color": "darkblue",
                      "width": 4
                    },
                    "type": "line",
                    "x0": 3,
                    "x1": 0,
                    "y0": "Hồ Hữu Thông",
                    "y1": "Hồ Hữu Thông"
                  },
                  {
                    "layer": "below",
                    "line": {
                      "color": "darkblue",
                      "width": 4
                    },
                    "type": "line",
                    "x0": 0.5,
                    "x1": 0,
                    "y0": "Nguyễn Thị Tố Trâm",
                    "y1": "Nguyễn Thị Tố Trâm"
                  },
                  {
                    "layer": "below",
                    "line": {
                      "color": "darkblue",
                      "width": 4
                    },
                    "type": "line",
                    "x0": 1,
                    "x1": 0,
                    "y0": "Nguyễn Phấn Sinh",
                    "y1": "Nguyễn Phấn Sinh"
                  },
                  {
                    "layer": "below",
                    "line": {
                      "color": "darkblue",
                      "width": 4
                    },
                    "type": "line",
                    "x0": 1,
                    "x1": 0,
                    "y0": "Thang Hữu Duy",
                    "y1": "Thang Hữu Duy"
                  },
                  {
                    "layer": "below",
                    "line": {
                      "color": "darkblue",
                      "width": 4
                    },
                    "type": "line",
                    "x0": 1,
                    "x1": 0,
                    "y0": "Nguyễn Thị Phương Uyên",
                    "y1": "Nguyễn Thị Phương Uyên"
                  },
                  {
                    "layer": "below",
                    "line": {
                      "color": "darkblue",
                      "width": 4
                    },
                    "type": "line",
                    "x0": 1,
                    "x1": 0,
                    "y0": "Quách Văn Nguyên",
                    "y1": "Quách Văn Nguyên"
                  },
                  {
                    "layer": "below",
                    "line": {
                      "color": "darkblue",
                      "width": 4
                    },
                    "type": "line",
                    "x0": 1,
                    "x1": 0,
                    "y0": "Đinh Thị Thu Thảo",
                    "y1": "Đinh Thị Thu Thảo"
                  },
                  {
                    "layer": "below",
                    "line": {
                      "color": "darkblue",
                      "width": 4
                    },
                    "type": "line",
                    "x0": 1,
                    "x1": 0,
                    "y0": "Lê Thị Quỳnh Trang",
                    "y1": "Lê Thị Quỳnh Trang"
                  },
                  {
                    "layer": "below",
                    "line": {
                      "color": "darkblue",
                      "width": 4
                    },
                    "type": "line",
                    "x0": 1,
                    "x1": 0,
                    "y0": "Đô Bá Dũng",
                    "y1": "Đô Bá Dũng"
                  },
                  {
                    "layer": "below",
                    "line": {
                      "color": "darkblue",
                      "width": 4
                    },
                    "type": "line",
                    "x0": 1,
                    "x1": 0,
                    "y0": "Nguyễn Ngọc Thắng",
                    "y1": "Nguyễn Ngọc Thắng"
                  },
                  {
                    "layer": "below",
                    "line": {
                      "color": "darkblue",
                      "width": 4
                    },
                    "type": "line",
                    "x0": 1,
                    "x1": 0,
                    "y0": "Dương Thị Hoa",
                    "y1": "Dương Thị Hoa"
                  },
                  {
                    "layer": "below",
                    "line": {
                      "color": "darkblue",
                      "width": 4
                    },
                    "type": "line",
                    "x0": 0.6666666666666666,
                    "x1": 0,
                    "y0": "Đỗ Thị Hường",
                    "y1": "Đỗ Thị Hường"
                  },
                  {
                    "layer": "below",
                    "line": {
                      "color": "darkblue",
                      "width": 4
                    },
                    "type": "line",
                    "x0": 1,
                    "x1": 0,
                    "y0": "Nguyễn Thị Thái Phương",
                    "y1": "Nguyễn Thị Thái Phương"
                  },
                  {
                    "layer": "below",
                    "line": {
                      "color": "darkblue",
                      "width": 4
                    },
                    "type": "line",
                    "x0": 1,
                    "x1": 0,
                    "y0": "Nguyễn Anh Tuấn",
                    "y1": "Nguyễn Anh Tuấn"
                  },
                  {
                    "layer": "below",
                    "line": {
                      "color": "darkblue",
                      "width": 4
                    },
                    "type": "line",
                    "x0": 1,
                    "x1": 0,
                    "y0": "Nguyễn Thị Minh Ngọc",
                    "y1": "Nguyễn Thị Minh Ngọc"
                  },
                  {
                    "layer": "below",
                    "line": {
                      "color": "darkblue",
                      "width": 4
                    },
                    "type": "line",
                    "x0": 1,
                    "x1": 0,
                    "y0": "Lê Văn Thành",
                    "y1": "Lê Văn Thành"
                  },
                  {
                    "layer": "below",
                    "line": {
                      "color": "darkblue",
                      "width": 4
                    },
                    "type": "line",
                    "x0": 1,
                    "x1": 0,
                    "y0": "Nguyễn Công Toàn",
                    "y1": "Nguyễn Công Toàn"
                  },
                  {
                    "layer": "below",
                    "line": {
                      "color": "darkblue",
                      "width": 4
                    },
                    "type": "line",
                    "x0": 1,
                    "x1": 0,
                    "y0": "Đinh Minh Thư",
                    "y1": "Đinh Minh Thư"
                  },
                  {
                    "layer": "below",
                    "line": {
                      "color": "darkblue",
                      "width": 4
                    },
                    "type": "line",
                    "x0": 1,
                    "x1": 0,
                    "y0": "Nguyễn Ngọc Thành",
                    "y1": "Nguyễn Ngọc Thành"
                  },
                  {
                    "layer": "below",
                    "line": {
                      "color": "darkblue",
                      "width": 4
                    },
                    "type": "line",
                    "x0": 1.5,
                    "x1": 0,
                    "y0": "Nguyễn Thị Thúy Hằng",
                    "y1": "Nguyễn Thị Thúy Hằng"
                  },
                  {
                    "layer": "below",
                    "line": {
                      "color": "darkblue",
                      "width": 4
                    },
                    "type": "line",
                    "x0": 3,
                    "x1": 0,
                    "y0": "Nguyễn Mạnh Cường",
                    "y1": "Nguyễn Mạnh Cường"
                  },
                  {
                    "layer": "below",
                    "line": {
                      "color": "darkblue",
                      "width": 4
                    },
                    "type": "line",
                    "x0": 1,
                    "x1": 0,
                    "y0": "Nguyễn Ngọc Thắng",
                    "y1": "Nguyễn Ngọc Thắng"
                  },
                  {
                    "layer": "below",
                    "line": {
                      "color": "darkblue",
                      "width": 4
                    },
                    "type": "line",
                    "x0": 1,
                    "x1": 0,
                    "y0": "Đinh Thị Thu Thảo",
                    "y1": "Đinh Thị Thu Thảo"
                  },
                  {
                    "layer": "below",
                    "line": {
                      "color": "darkblue",
                      "width": 4
                    },
                    "type": "line",
                    "x0": 1.5,
                    "x1": 0,
                    "y0": "Lê Thị Hồng Thúy",
                    "y1": "Lê Thị Hồng Thúy"
                  },
                  {
                    "layer": "below",
                    "line": {
                      "color": "darkblue",
                      "width": 4
                    },
                    "type": "line",
                    "x0": 1.5,
                    "x1": 0,
                    "y0": "Nguyễn Thị Thúy Hằng",
                    "y1": "Nguyễn Thị Thúy Hằng"
                  },
                  {
                    "layer": "below",
                    "line": {
                      "color": "darkblue",
                      "width": 4
                    },
                    "type": "line",
                    "x0": 2,
                    "x1": 0,
                    "y0": "Nguyễn Thành Phi",
                    "y1": "Nguyễn Thành Phi"
                  },
                  {
                    "layer": "below",
                    "line": {
                      "color": "darkblue",
                      "width": 4
                    },
                    "type": "line",
                    "x0": 2,
                    "x1": 0,
                    "y0": "Hà Thị Thủy Tiên",
                    "y1": "Hà Thị Thủy Tiên"
                  },
                  {
                    "layer": "below",
                    "line": {
                      "color": "darkblue",
                      "width": 4
                    },
                    "type": "line",
                    "x0": 2,
                    "x1": 0,
                    "y0": "Đặng Thị Trúc Duyên",
                    "y1": "Đặng Thị Trúc Duyên"
                  },
                  {
                    "layer": "below",
                    "line": {
                      "color": "darkblue",
                      "width": 4
                    },
                    "type": "line",
                    "x0": 2,
                    "x1": 0,
                    "y0": "Nguyễn Thị Ngọc Lan",
                    "y1": "Nguyễn Thị Ngọc Lan"
                  },
                  {
                    "layer": "below",
                    "line": {
                      "color": "darkblue",
                      "width": 4
                    },
                    "type": "line",
                    "x0": 3,
                    "x1": 0,
                    "y0": "Nguyễn Mạnh Cường",
                    "y1": "Nguyễn Mạnh Cường"
                  },
                  {
                    "layer": "below",
                    "line": {
                      "color": "darkblue",
                      "width": 4
                    },
                    "type": "line",
                    "x0": 3,
                    "x1": 0,
                    "y0": "Hồ Hữu Thông",
                    "y1": "Hồ Hữu Thông"
                  }
                ],
                "template": {
                  "data": {
                    "bar": [
                      {
                        "error_x": {
                          "color": "#2a3f5f"
                        },
                        "error_y": {
                          "color": "#2a3f5f"
                        },
                        "marker": {
                          "line": {
                            "color": "white",
                            "width": 0.5
                          },
                          "pattern": {
                            "fillmode": "overlay",
                            "size": 10,
                            "solidity": 0.2
                          }
                        },
                        "type": "bar"
                      }
                    ],
                    "barpolar": [
                      {
                        "marker": {
                          "line": {
                            "color": "white",
                            "width": 0.5
                          },
                          "pattern": {
                            "fillmode": "overlay",
                            "size": 10,
                            "solidity": 0.2
                          }
                        },
                        "type": "barpolar"
                      }
                    ],
                    "carpet": [
                      {
                        "aaxis": {
                          "endlinecolor": "#2a3f5f",
                          "gridcolor": "#C8D4E3",
                          "linecolor": "#C8D4E3",
                          "minorgridcolor": "#C8D4E3",
                          "startlinecolor": "#2a3f5f"
                        },
                        "baxis": {
                          "endlinecolor": "#2a3f5f",
                          "gridcolor": "#C8D4E3",
                          "linecolor": "#C8D4E3",
                          "minorgridcolor": "#C8D4E3",
                          "startlinecolor": "#2a3f5f"
                        },
                        "type": "carpet"
                      }
                    ],
                    "choropleth": [
                      {
                        "colorbar": {
                          "outlinewidth": 0,
                          "ticks": ""
                        },
                        "type": "choropleth"
                      }
                    ],
                    "contour": [
                      {
                        "colorbar": {
                          "outlinewidth": 0,
                          "ticks": ""
                        },
                        "colorscale": [
                          [
                            0,
                            "#0d0887"
                          ],
                          [
                            0.1111111111111111,
                            "#46039f"
                          ],
                          [
                            0.2222222222222222,
                            "#7201a8"
                          ],
                          [
                            0.3333333333333333,
                            "#9c179e"
                          ],
                          [
                            0.4444444444444444,
                            "#bd3786"
                          ],
                          [
                            0.5555555555555556,
                            "#d8576b"
                          ],
                          [
                            0.6666666666666666,
                            "#ed7953"
                          ],
                          [
                            0.7777777777777778,
                            "#fb9f3a"
                          ],
                          [
                            0.8888888888888888,
                            "#fdca26"
                          ],
                          [
                            1,
                            "#f0f921"
                          ]
                        ],
                        "type": "contour"
                      }
                    ],
                    "contourcarpet": [
                      {
                        "colorbar": {
                          "outlinewidth": 0,
                          "ticks": ""
                        },
                        "type": "contourcarpet"
                      }
                    ],
                    "heatmap": [
                      {
                        "colorbar": {
                          "outlinewidth": 0,
                          "ticks": ""
                        },
                        "colorscale": [
                          [
                            0,
                            "#0d0887"
                          ],
                          [
                            0.1111111111111111,
                            "#46039f"
                          ],
                          [
                            0.2222222222222222,
                            "#7201a8"
                          ],
                          [
                            0.3333333333333333,
                            "#9c179e"
                          ],
                          [
                            0.4444444444444444,
                            "#bd3786"
                          ],
                          [
                            0.5555555555555556,
                            "#d8576b"
                          ],
                          [
                            0.6666666666666666,
                            "#ed7953"
                          ],
                          [
                            0.7777777777777778,
                            "#fb9f3a"
                          ],
                          [
                            0.8888888888888888,
                            "#fdca26"
                          ],
                          [
                            1,
                            "#f0f921"
                          ]
                        ],
                        "type": "heatmap"
                      }
                    ],
                    "heatmapgl": [
                      {
                        "colorbar": {
                          "outlinewidth": 0,
                          "ticks": ""
                        },
                        "colorscale": [
                          [
                            0,
                            "#0d0887"
                          ],
                          [
                            0.1111111111111111,
                            "#46039f"
                          ],
                          [
                            0.2222222222222222,
                            "#7201a8"
                          ],
                          [
                            0.3333333333333333,
                            "#9c179e"
                          ],
                          [
                            0.4444444444444444,
                            "#bd3786"
                          ],
                          [
                            0.5555555555555556,
                            "#d8576b"
                          ],
                          [
                            0.6666666666666666,
                            "#ed7953"
                          ],
                          [
                            0.7777777777777778,
                            "#fb9f3a"
                          ],
                          [
                            0.8888888888888888,
                            "#fdca26"
                          ],
                          [
                            1,
                            "#f0f921"
                          ]
                        ],
                        "type": "heatmapgl"
                      }
                    ],
                    "histogram": [
                      {
                        "marker": {
                          "pattern": {
                            "fillmode": "overlay",
                            "size": 10,
                            "solidity": 0.2
                          }
                        },
                        "type": "histogram"
                      }
                    ],
                    "histogram2d": [
                      {
                        "colorbar": {
                          "outlinewidth": 0,
                          "ticks": ""
                        },
                        "colorscale": [
                          [
                            0,
                            "#0d0887"
                          ],
                          [
                            0.1111111111111111,
                            "#46039f"
                          ],
                          [
                            0.2222222222222222,
                            "#7201a8"
                          ],
                          [
                            0.3333333333333333,
                            "#9c179e"
                          ],
                          [
                            0.4444444444444444,
                            "#bd3786"
                          ],
                          [
                            0.5555555555555556,
                            "#d8576b"
                          ],
                          [
                            0.6666666666666666,
                            "#ed7953"
                          ],
                          [
                            0.7777777777777778,
                            "#fb9f3a"
                          ],
                          [
                            0.8888888888888888,
                            "#fdca26"
                          ],
                          [
                            1,
                            "#f0f921"
                          ]
                        ],
                        "type": "histogram2d"
                      }
                    ],
                    "histogram2dcontour": [
                      {
                        "colorbar": {
                          "outlinewidth": 0,
                          "ticks": ""
                        },
                        "colorscale": [
                          [
                            0,
                            "#0d0887"
                          ],
                          [
                            0.1111111111111111,
                            "#46039f"
                          ],
                          [
                            0.2222222222222222,
                            "#7201a8"
                          ],
                          [
                            0.3333333333333333,
                            "#9c179e"
                          ],
                          [
                            0.4444444444444444,
                            "#bd3786"
                          ],
                          [
                            0.5555555555555556,
                            "#d8576b"
                          ],
                          [
                            0.6666666666666666,
                            "#ed7953"
                          ],
                          [
                            0.7777777777777778,
                            "#fb9f3a"
                          ],
                          [
                            0.8888888888888888,
                            "#fdca26"
                          ],
                          [
                            1,
                            "#f0f921"
                          ]
                        ],
                        "type": "histogram2dcontour"
                      }
                    ],
                    "mesh3d": [
                      {
                        "colorbar": {
                          "outlinewidth": 0,
                          "ticks": ""
                        },
                        "type": "mesh3d"
                      }
                    ],
                    "parcoords": [
                      {
                        "line": {
                          "colorbar": {
                            "outlinewidth": 0,
                            "ticks": ""
                          }
                        },
                        "type": "parcoords"
                      }
                    ],
                    "pie": [
                      {
                        "automargin": true,
                        "type": "pie"
                      }
                    ],
                    "scatter": [
                      {
                        "fillpattern": {
                          "fillmode": "overlay",
                          "size": 10,
                          "solidity": 0.2
                        },
                        "type": "scatter"
                      }
                    ],
                    "scatter3d": [
                      {
                        "line": {
                          "colorbar": {
                            "outlinewidth": 0,
                            "ticks": ""
                          }
                        },
                        "marker": {
                          "colorbar": {
                            "outlinewidth": 0,
                            "ticks": ""
                          }
                        },
                        "type": "scatter3d"
                      }
                    ],
                    "scattercarpet": [
                      {
                        "marker": {
                          "colorbar": {
                            "outlinewidth": 0,
                            "ticks": ""
                          }
                        },
                        "type": "scattercarpet"
                      }
                    ],
                    "scattergeo": [
                      {
                        "marker": {
                          "colorbar": {
                            "outlinewidth": 0,
                            "ticks": ""
                          }
                        },
                        "type": "scattergeo"
                      }
                    ],
                    "scattergl": [
                      {
                        "marker": {
                          "colorbar": {
                            "outlinewidth": 0,
                            "ticks": ""
                          }
                        },
                        "type": "scattergl"
                      }
                    ],
                    "scattermapbox": [
                      {
                        "marker": {
                          "colorbar": {
                            "outlinewidth": 0,
                            "ticks": ""
                          }
                        },
                        "type": "scattermapbox"
                      }
                    ],
                    "scatterpolar": [
                      {
                        "marker": {
                          "colorbar": {
                            "outlinewidth": 0,
                            "ticks": ""
                          }
                        },
                        "type": "scatterpolar"
                      }
                    ],
                    "scatterpolargl": [
                      {
                        "marker": {
                          "colorbar": {
                            "outlinewidth": 0,
                            "ticks": ""
                          }
                        },
                        "type": "scatterpolargl"
                      }
                    ],
                    "scatterternary": [
                      {
                        "marker": {
                          "colorbar": {
                            "outlinewidth": 0,
                            "ticks": ""
                          }
                        },
                        "type": "scatterternary"
                      }
                    ],
                    "surface": [
                      {
                        "colorbar": {
                          "outlinewidth": 0,
                          "ticks": ""
                        },
                        "colorscale": [
                          [
                            0,
                            "#0d0887"
                          ],
                          [
                            0.1111111111111111,
                            "#46039f"
                          ],
                          [
                            0.2222222222222222,
                            "#7201a8"
                          ],
                          [
                            0.3333333333333333,
                            "#9c179e"
                          ],
                          [
                            0.4444444444444444,
                            "#bd3786"
                          ],
                          [
                            0.5555555555555556,
                            "#d8576b"
                          ],
                          [
                            0.6666666666666666,
                            "#ed7953"
                          ],
                          [
                            0.7777777777777778,
                            "#fb9f3a"
                          ],
                          [
                            0.8888888888888888,
                            "#fdca26"
                          ],
                          [
                            1,
                            "#f0f921"
                          ]
                        ],
                        "type": "surface"
                      }
                    ],
                    "table": [
                      {
                        "cells": {
                          "fill": {
                            "color": "#EBF0F8"
                          },
                          "line": {
                            "color": "white"
                          }
                        },
                        "header": {
                          "fill": {
                            "color": "#C8D4E3"
                          },
                          "line": {
                            "color": "white"
                          }
                        },
                        "type": "table"
                      }
                    ]
                  },
                  "layout": {
                    "annotationdefaults": {
                      "arrowcolor": "#2a3f5f",
                      "arrowhead": 0,
                      "arrowwidth": 1
                    },
                    "autotypenumbers": "strict",
                    "coloraxis": {
                      "colorbar": {
                        "outlinewidth": 0,
                        "ticks": ""
                      }
                    },
                    "colorscale": {
                      "diverging": [
                        [
                          0,
                          "#8e0152"
                        ],
                        [
                          0.1,
                          "#c51b7d"
                        ],
                        [
                          0.2,
                          "#de77ae"
                        ],
                        [
                          0.3,
                          "#f1b6da"
                        ],
                        [
                          0.4,
                          "#fde0ef"
                        ],
                        [
                          0.5,
                          "#f7f7f7"
                        ],
                        [
                          0.6,
                          "#e6f5d0"
                        ],
                        [
                          0.7,
                          "#b8e186"
                        ],
                        [
                          0.8,
                          "#7fbc41"
                        ],
                        [
                          0.9,
                          "#4d9221"
                        ],
                        [
                          1,
                          "#276419"
                        ]
                      ],
                      "sequential": [
                        [
                          0,
                          "#0d0887"
                        ],
                        [
                          0.1111111111111111,
                          "#46039f"
                        ],
                        [
                          0.2222222222222222,
                          "#7201a8"
                        ],
                        [
                          0.3333333333333333,
                          "#9c179e"
                        ],
                        [
                          0.4444444444444444,
                          "#bd3786"
                        ],
                        [
                          0.5555555555555556,
                          "#d8576b"
                        ],
                        [
                          0.6666666666666666,
                          "#ed7953"
                        ],
                        [
                          0.7777777777777778,
                          "#fb9f3a"
                        ],
                        [
                          0.8888888888888888,
                          "#fdca26"
                        ],
                        [
                          1,
                          "#f0f921"
                        ]
                      ],
                      "sequentialminus": [
                        [
                          0,
                          "#0d0887"
                        ],
                        [
                          0.1111111111111111,
                          "#46039f"
                        ],
                        [
                          0.2222222222222222,
                          "#7201a8"
                        ],
                        [
                          0.3333333333333333,
                          "#9c179e"
                        ],
                        [
                          0.4444444444444444,
                          "#bd3786"
                        ],
                        [
                          0.5555555555555556,
                          "#d8576b"
                        ],
                        [
                          0.6666666666666666,
                          "#ed7953"
                        ],
                        [
                          0.7777777777777778,
                          "#fb9f3a"
                        ],
                        [
                          0.8888888888888888,
                          "#fdca26"
                        ],
                        [
                          1,
                          "#f0f921"
                        ]
                      ]
                    },
                    "colorway": [
                      "#636efa",
                      "#EF553B",
                      "#00cc96",
                      "#ab63fa",
                      "#FFA15A",
                      "#19d3f3",
                      "#FF6692",
                      "#B6E880",
                      "#FF97FF",
                      "#FECB52"
                    ],
                    "font": {
                      "color": "#2a3f5f"
                    },
                    "geo": {
                      "bgcolor": "white",
                      "lakecolor": "white",
                      "landcolor": "white",
                      "showlakes": true,
                      "showland": true,
                      "subunitcolor": "#C8D4E3"
                    },
                    "hoverlabel": {
                      "align": "left"
                    },
                    "hovermode": "closest",
                    "mapbox": {
                      "style": "light"
                    },
                    "paper_bgcolor": "white",
                    "plot_bgcolor": "white",
                    "polar": {
                      "angularaxis": {
                        "gridcolor": "#EBF0F8",
                        "linecolor": "#EBF0F8",
                        "ticks": ""
                      },
                      "bgcolor": "white",
                      "radialaxis": {
                        "gridcolor": "#EBF0F8",
                        "linecolor": "#EBF0F8",
                        "ticks": ""
                      }
                    },
                    "scene": {
                      "xaxis": {
                        "backgroundcolor": "white",
                        "gridcolor": "#DFE8F3",
                        "gridwidth": 2,
                        "linecolor": "#EBF0F8",
                        "showbackground": true,
                        "ticks": "",
                        "zerolinecolor": "#EBF0F8"
                      },
                      "yaxis": {
                        "backgroundcolor": "white",
                        "gridcolor": "#DFE8F3",
                        "gridwidth": 2,
                        "linecolor": "#EBF0F8",
                        "showbackground": true,
                        "ticks": "",
                        "zerolinecolor": "#EBF0F8"
                      },
                      "zaxis": {
                        "backgroundcolor": "white",
                        "gridcolor": "#DFE8F3",
                        "gridwidth": 2,
                        "linecolor": "#EBF0F8",
                        "showbackground": true,
                        "ticks": "",
                        "zerolinecolor": "#EBF0F8"
                      }
                    },
                    "shapedefaults": {
                      "line": {
                        "color": "#2a3f5f"
                      }
                    },
                    "ternary": {
                      "aaxis": {
                        "gridcolor": "#DFE8F3",
                        "linecolor": "#A2B1C6",
                        "ticks": ""
                      },
                      "baxis": {
                        "gridcolor": "#DFE8F3",
                        "linecolor": "#A2B1C6",
                        "ticks": ""
                      },
                      "bgcolor": "white",
                      "caxis": {
                        "gridcolor": "#DFE8F3",
                        "linecolor": "#A2B1C6",
                        "ticks": ""
                      }
                    },
                    "title": {
                      "x": 0.05
                    },
                    "xaxis": {
                      "automargin": true,
                      "gridcolor": "#EBF0F8",
                      "linecolor": "#EBF0F8",
                      "ticks": "",
                      "title": {
                        "standoff": 15
                      },
                      "zerolinecolor": "#EBF0F8",
                      "zerolinewidth": 2
                    },
                    "yaxis": {
                      "automargin": true,
                      "gridcolor": "#EBF0F8",
                      "linecolor": "#EBF0F8",
                      "ticks": "",
                      "title": {
                        "standoff": 15
                      },
                      "zerolinecolor": "#EBF0F8",
                      "zerolinewidth": 2
                    }
                  }
                },
                "title": {
                  "text": "A horizontal lollipop chart with lines",
                  "x": 0.5,
                  "y": 0.9
                },
                "updatemenus": [
                  {
                    "buttons": [
                      {
                        "args": [
                          {
                            "x": [
                              [
                                0.6666666666666666,
                                0.6666666666666666,
                                1,
                                1,
                                1,
                                1,
                                1,
                                1,
                                1,
                                2
                              ]
                            ],
                            "y": [
                              [
                                "Nguyễn Thanh Hải",
                                "Phạm Thị Trang Nhung",
                                "Nguyễn Duy Minh",
                                "Tạ Phương Thành",
                                "Nguyễn Phan Quỳnh Na",
                                "Mai Hoàng Phú",
                                "Lê Minh Tùng",
                                "Nguyễn Xuân Trường",
                                "Dương Đình Tân",
                                "Nguyễn Thành Phi"
                              ]
                            ]
                          }
                        ],
                        "label": "Tuần 27.02 - 05.03",
                        "method": "restyle"
                      },
                      {
                        "args": [
                          {
                            "x": [
                              [
                                1,
                                1,
                                1,
                                1,
                                1,
                                1,
                                1,
                                2,
                                2,
                                2
                              ]
                            ],
                            "y": [
                              [
                                "Đinh Thị Thu Thảo",
                                "Nguyễn Thị Thảo Yến",
                                "Nguyễn Chính Hiệp",
                                "Huỳnh Thị Bích Tuyền",
                                "Phạm Ngọc Điệp",
                                "Nguyễn Thanh Hải",
                                "Nguyễn Ngọc Thắng",
                                "Nguyễn Thị Ngọc Lan",
                                "Đặng Thị Trúc Duyên",
                                "Hà Thị Thủy Tiên"
                              ]
                            ]
                          }
                        ],
                        "label": "Tuần 06.03 - 12.03",
                        "method": "restyle"
                      },
                      {
                        "args": [
                          {
                            "x": [
                              [
                                0.5714285714285714,
                                1,
                                1,
                                1,
                                1,
                                1,
                                1,
                                1,
                                1.5,
                                3
                              ]
                            ],
                            "y": [
                              [
                                "Phạm Văn Thìn",
                                "Lê Hoàng Dzũ",
                                "LÊ THANH HẬU",
                                "Trần Nho Liêm",
                                "Phạm Thị Hoa Mai",
                                "Nguyễn Hải Đăng",
                                "Nguyễn Đình Trí",
                                "Trần Thị Lâm Quỳnh",
                                "Lê Thị Hồng Thúy",
                                "Hồ Hữu Thông"
                              ]
                            ]
                          }
                        ],
                        "label": "Tuần 13.03 - 19.03",
                        "method": "restyle"
                      },
                      {
                        "args": [
                          {
                            "x": [
                              [
                                0.5,
                                1,
                                1,
                                1,
                                1,
                                1,
                                1,
                                1,
                                1,
                                1
                              ]
                            ],
                            "y": [
                              [
                                "Nguyễn Thị Tố Trâm",
                                "Nguyễn Phấn Sinh",
                                "Thang Hữu Duy",
                                "Nguyễn Thị Phương Uyên",
                                "Quách Văn Nguyên",
                                "Đinh Thị Thu Thảo",
                                "Lê Thị Quỳnh Trang",
                                "Đô Bá Dũng",
                                "Nguyễn Ngọc Thắng",
                                "Dương Thị Hoa"
                              ]
                            ]
                          }
                        ],
                        "label": "Tuần 20.03 - 26.03",
                        "method": "restyle"
                      },
                      {
                        "args": [
                          {
                            "x": [
                              [
                                0.6666666666666666,
                                1,
                                1,
                                1,
                                1,
                                1,
                                1,
                                1,
                                1.5,
                                3
                              ]
                            ],
                            "y": [
                              [
                                "Đỗ Thị Hường",
                                "Nguyễn Thị Thái Phương",
                                "Nguyễn Anh Tuấn",
                                "Nguyễn Thị Minh Ngọc",
                                "Lê Văn Thành",
                                "Nguyễn Công Toàn",
                                "Đinh Minh Thư",
                                "Nguyễn Ngọc Thành",
                                "Nguyễn Thị Thúy Hằng",
                                "Nguyễn Mạnh Cường"
                              ]
                            ]
                          }
                        ],
                        "label": "Tuần 27.03 - 01.04",
                        "method": "restyle"
                      },
                      {
                        "args": [
                          {
                            "x": [
                              [
                                1,
                                1,
                                1.5,
                                1.5,
                                2,
                                2,
                                2,
                                2,
                                3,
                                3
                              ]
                            ],
                            "y": [
                              [
                                "Nguyễn Ngọc Thắng",
                                "Đinh Thị Thu Thảo",
                                "Lê Thị Hồng Thúy",
                                "Nguyễn Thị Thúy Hằng",
                                "Nguyễn Thành Phi",
                                "Hà Thị Thủy Tiên",
                                "Đặng Thị Trúc Duyên",
                                "Nguyễn Thị Ngọc Lan",
                                "Nguyễn Mạnh Cường",
                                "Hồ Hữu Thông"
                              ]
                            ]
                          }
                        ],
                        "label": "Tháng 3",
                        "method": "restyle"
                      }
                    ],
                    "direction": "down",
                    "pad": {
                      "r": 10,
                      "t": 5
                    },
                    "showactive": true,
                    "x": -0.1,
                    "xanchor": "left",
                    "y": 1.3,
                    "yanchor": "top"
                  }
                ],
                "xaxis": {
                  "title": {
                    "text": "Tỉ lệ hoạt động"
                  }
                },
                "yaxis": {
                  "title": {
                    "text": "Top 10"
                  }
                }
              }
            }
          },
          "metadata": {},
          "output_type": "display_data"
        }
      ],
      "source": [
        "# create figure\n",
        "fig = go.Figure()\n",
        "\n",
        "# Add surface trace\n",
        "fig.add_trace(go.Scatter(\n",
        "    x= [df['Tỉ lệ hoạt động']],\n",
        "    y= [df[' Rm name']],\n",
        "    mode='markers',\n",
        "    marker=dict(\n",
        "        color='teal',\n",
        "        size=10,\n",
        "        line=dict(\n",
        "            color='black',\n",
        "            width=1\n",
        "        )   \n",
        ")))\n",
        "\n",
        "shapes = [dict(\n",
        "            type='line',\n",
        "            x0 = df.iloc[i]['Tỉ lệ hoạt động'],\n",
        "            y0 = df.iloc[i][' Rm name'],\n",
        "            x1 = 0,\n",
        "            y1 = df.iloc[i][' Rm name'],\n",
        "            line=dict(\n",
        "                color='darkblue', \n",
        "                width = 4),\n",
        "            layer='below') \n",
        "            for i in range(0, len(df))]\n",
        "\n",
        "\n",
        "# Update plot sizing\n",
        "fig.update_layout(\n",
        "    shapes=shapes,\n",
        "    template=\"plotly_white\",\n",
        ")\n",
        "\n",
        "\n",
        "# Add dropdown\n",
        "fig.update_layout(\n",
        "    updatemenus=[\n",
        "        dict(\n",
        "            buttons=list([\n",
        "                dict(\n",
        "                    args=[{'x': [df['Tỉ lệ hoạt động'][df['w']=='w1']],\n",
        "                           'y': [df[' Rm name'][df['w']=='w1']]\n",
        "                           }],\n",
        "                    label=\"Tuần 27.02 - 05.03\",\n",
        "                    method=\"restyle\"\n",
        "                ),\n",
        "                dict(\n",
        "                    args=[{'x': [df['Tỉ lệ hoạt động'][df['w']=='w2']],\n",
        "                           'y': [df[' Rm name'][df['w']=='w2']]\n",
        "                           }],\n",
        "                    label=\"Tuần 06.03 - 12.03\",\n",
        "                    method=\"restyle\"\n",
        "                ),\n",
        "                dict(\n",
        "                    args=[{'x': [df['Tỉ lệ hoạt động'][df['w']=='w3']],\n",
        "                           'y': [df[' Rm name'][df['w']=='w3']]\n",
        "                           }],\n",
        "                    label=\"Tuần 13.03 - 19.03\",\n",
        "                    method=\"restyle\"\n",
        "                ),\n",
        "                dict(\n",
        "                    args=[{'x': [df['Tỉ lệ hoạt động'][df['w']=='w4']],\n",
        "                           'y': [df[' Rm name'][df['w']=='w4']]\n",
        "                           }],\n",
        "                    label=\"Tuần 20.03 - 26.03\",\n",
        "                    method=\"restyle\"\n",
        "                ),\n",
        "                dict(\n",
        "                    args=[{'x': [df['Tỉ lệ hoạt động'][df['w']=='w5']],\n",
        "                           'y': [df[' Rm name'][df['w']=='w5']]\n",
        "                           }],\n",
        "                    label=\"Tuần 27.03 - 01.04\",\n",
        "                    method=\"restyle\"\n",
        "                ),\n",
        "                dict(\n",
        "                    args=[{'x': [df['Tỉ lệ hoạt động'][df['w']=='all']],\n",
        "                           'y': [df[' Rm name'][df['w']=='all']]\n",
        "                           }],\n",
        "                    label=\"Tháng 3\",\n",
        "                    method=\"restyle\"\n",
        "                )\n",
        "            ]),\n",
        "            direction=\"down\",\n",
        "            pad={\"r\": 10, \"t\": 5},\n",
        "            showactive=True,\n",
        "            x=-0.1,\n",
        "            xanchor=\"left\",\n",
        "            y=1.3,\n",
        "            yanchor=\"top\"\n",
        "        ),\n",
        "    ]\n",
        ")\n",
        "\n",
        "\n",
        "# Add annotation\n",
        "fig.update_layout(\n",
        "    title={\n",
        "        'text': \"A horizontal lollipop chart with lines\",\n",
        "        'x': 0.5,\n",
        "        'y': 0.9\n",
        "    },\n",
        "    xaxis_title=\"Tỉ lệ hoạt động\",\n",
        "    yaxis_title=\"Top 10\"\n",
        ")\n",
        "\n",
        "fig.show()"
      ]
    },
    {
      "cell_type": "code",
      "execution_count": 11,
      "metadata": {
        "colab": {
          "base_uri": "https://localhost:8080/",
          "height": 1000
        },
        "id": "0ry2_e5yzO_W",
        "outputId": "3b1c1b6d-a114-4ba0-dbd4-b17f0f6875fc"
      },
      "outputs": [
        {
          "data": {
            "text/html": [
              "<div>\n",
              "<style scoped>\n",
              "    .dataframe tbody tr th:only-of-type {\n",
              "        vertical-align: middle;\n",
              "    }\n",
              "\n",
              "    .dataframe tbody tr th {\n",
              "        vertical-align: top;\n",
              "    }\n",
              "\n",
              "    .dataframe thead th {\n",
              "        text-align: right;\n",
              "    }\n",
              "</style>\n",
              "<table border=\"1\" class=\"dataframe\">\n",
              "  <thead>\n",
              "    <tr style=\"text-align: right;\">\n",
              "      <th></th>\n",
              "      <th>Hub</th>\n",
              "      <th>Rm</th>\n",
              "      <th>Rm name</th>\n",
              "      <th>Team</th>\n",
              "      <th>Phân khúc</th>\n",
              "      <th>Đã phân bổ</th>\n",
              "      <th>Đã gọi</th>\n",
              "      <th>Đã gặp</th>\n",
              "      <th>Thu thập hồ sơ</th>\n",
              "      <th>Định giá</th>\n",
              "      <th>Đã trình</th>\n",
              "      <th>Đã phê duyệt</th>\n",
              "      <th>Đã active hạn mức</th>\n",
              "      <th>w</th>\n",
              "      <th>Tỉ lệ hoạt động</th>\n",
              "    </tr>\n",
              "  </thead>\n",
              "  <tbody>\n",
              "    <tr>\n",
              "      <th>50</th>\n",
              "      <td>Hồng Bàng</td>\n",
              "      <td>haint30</td>\n",
              "      <td>Nguyễn Thanh Hải</td>\n",
              "      <td>NaN</td>\n",
              "      <td>SME</td>\n",
              "      <td>3</td>\n",
              "      <td>3</td>\n",
              "      <td>3</td>\n",
              "      <td>0</td>\n",
              "      <td>1</td>\n",
              "      <td>1</td>\n",
              "      <td>2</td>\n",
              "      <td>2</td>\n",
              "      <td>w1</td>\n",
              "      <td>0.666667</td>\n",
              "    </tr>\n",
              "    <tr>\n",
              "      <th>6</th>\n",
              "      <td>Bắc Ninh</td>\n",
              "      <td>nhungptt</td>\n",
              "      <td>Phạm Thị Trang Nhung</td>\n",
              "      <td>Bắc Ninh 1</td>\n",
              "      <td>SME</td>\n",
              "      <td>2</td>\n",
              "      <td>3</td>\n",
              "      <td>2</td>\n",
              "      <td>0</td>\n",
              "      <td>1</td>\n",
              "      <td>1</td>\n",
              "      <td>2</td>\n",
              "      <td>2</td>\n",
              "      <td>w1</td>\n",
              "      <td>0.666667</td>\n",
              "    </tr>\n",
              "    <tr>\n",
              "      <th>217</th>\n",
              "      <td>Cần Thơ</td>\n",
              "      <td>minhnd</td>\n",
              "      <td>Nguyễn Duy Minh</td>\n",
              "      <td>Võ Anh Đức</td>\n",
              "      <td>SME</td>\n",
              "      <td>4</td>\n",
              "      <td>1</td>\n",
              "      <td>2</td>\n",
              "      <td>1</td>\n",
              "      <td>1</td>\n",
              "      <td>1</td>\n",
              "      <td>0</td>\n",
              "      <td>1</td>\n",
              "      <td>w1</td>\n",
              "      <td>1.000000</td>\n",
              "    </tr>\n",
              "    <tr>\n",
              "      <th>1051</th>\n",
              "      <td>Đống Đa</td>\n",
              "      <td>thanhtp2</td>\n",
              "      <td>Tạ Phương Thành</td>\n",
              "      <td>Hoàng Ngọc Chinh</td>\n",
              "      <td>SME</td>\n",
              "      <td>2</td>\n",
              "      <td>1</td>\n",
              "      <td>1</td>\n",
              "      <td>1</td>\n",
              "      <td>3</td>\n",
              "      <td>3</td>\n",
              "      <td>1</td>\n",
              "      <td>1</td>\n",
              "      <td>w1</td>\n",
              "      <td>1.000000</td>\n",
              "    </tr>\n",
              "    <tr>\n",
              "      <th>45</th>\n",
              "      <td>Hải Châu</td>\n",
              "      <td>nanpq2</td>\n",
              "      <td>Nguyễn Phan Quỳnh Na</td>\n",
              "      <td>Bùi Thị Thùy Nhung</td>\n",
              "      <td>SME</td>\n",
              "      <td>2</td>\n",
              "      <td>2</td>\n",
              "      <td>2</td>\n",
              "      <td>2</td>\n",
              "      <td>2</td>\n",
              "      <td>2</td>\n",
              "      <td>3</td>\n",
              "      <td>2</td>\n",
              "      <td>w1</td>\n",
              "      <td>1.000000</td>\n",
              "    </tr>\n",
              "    <tr>\n",
              "      <th>12</th>\n",
              "      <td>Cần Thơ</td>\n",
              "      <td>phumh2</td>\n",
              "      <td>Mai Hoàng Phú</td>\n",
              "      <td>NaN</td>\n",
              "      <td>SME</td>\n",
              "      <td>2</td>\n",
              "      <td>1</td>\n",
              "      <td>0</td>\n",
              "      <td>0</td>\n",
              "      <td>1</td>\n",
              "      <td>1</td>\n",
              "      <td>1</td>\n",
              "      <td>1</td>\n",
              "      <td>w1</td>\n",
              "      <td>1.000000</td>\n",
              "    </tr>\n",
              "    <tr>\n",
              "      <th>88</th>\n",
              "      <td>Sở Giao dịch</td>\n",
              "      <td>tunglm3</td>\n",
              "      <td>Lê Minh Tùng</td>\n",
              "      <td>Tạ Thị Thúy Hường RM</td>\n",
              "      <td>SME</td>\n",
              "      <td>73</td>\n",
              "      <td>1</td>\n",
              "      <td>1</td>\n",
              "      <td>0</td>\n",
              "      <td>0</td>\n",
              "      <td>0</td>\n",
              "      <td>1</td>\n",
              "      <td>1</td>\n",
              "      <td>w1</td>\n",
              "      <td>1.000000</td>\n",
              "    </tr>\n",
              "    <tr>\n",
              "      <th>888</th>\n",
              "      <td>Sở Giao dịch</td>\n",
              "      <td>truongnx</td>\n",
              "      <td>Nguyễn Xuân Trường</td>\n",
              "      <td>Tạ Thị Thúy Hường RM</td>\n",
              "      <td>SME</td>\n",
              "      <td>2</td>\n",
              "      <td>1</td>\n",
              "      <td>1</td>\n",
              "      <td>0</td>\n",
              "      <td>0</td>\n",
              "      <td>0</td>\n",
              "      <td>0</td>\n",
              "      <td>1</td>\n",
              "      <td>w1</td>\n",
              "      <td>1.000000</td>\n",
              "    </tr>\n",
              "    <tr>\n",
              "      <th>32</th>\n",
              "      <td>Hoàng Mai</td>\n",
              "      <td>tandd3</td>\n",
              "      <td>Dương Đình Tân</td>\n",
              "      <td>Phạm Tuấn Minh</td>\n",
              "      <td>SME</td>\n",
              "      <td>23</td>\n",
              "      <td>1</td>\n",
              "      <td>1</td>\n",
              "      <td>1</td>\n",
              "      <td>1</td>\n",
              "      <td>1</td>\n",
              "      <td>1</td>\n",
              "      <td>1</td>\n",
              "      <td>w1</td>\n",
              "      <td>1.000000</td>\n",
              "    </tr>\n",
              "    <tr>\n",
              "      <th>102</th>\n",
              "      <td>Trần Hưng Đạo</td>\n",
              "      <td>phint2</td>\n",
              "      <td>Nguyễn Thành Phi</td>\n",
              "      <td>Nguyễn Văn Tuấn</td>\n",
              "      <td>SME</td>\n",
              "      <td>4</td>\n",
              "      <td>2</td>\n",
              "      <td>2</td>\n",
              "      <td>0</td>\n",
              "      <td>0</td>\n",
              "      <td>0</td>\n",
              "      <td>2</td>\n",
              "      <td>4</td>\n",
              "      <td>w1</td>\n",
              "      <td>2.000000</td>\n",
              "    </tr>\n",
              "    <tr>\n",
              "      <th>124</th>\n",
              "      <td>Tân Thuận</td>\n",
              "      <td>thaodtt15</td>\n",
              "      <td>Đinh Thị Thu Thảo</td>\n",
              "      <td>NaN</td>\n",
              "      <td>SME</td>\n",
              "      <td>1</td>\n",
              "      <td>1</td>\n",
              "      <td>1</td>\n",
              "      <td>1</td>\n",
              "      <td>1</td>\n",
              "      <td>1</td>\n",
              "      <td>1</td>\n",
              "      <td>1</td>\n",
              "      <td>w2</td>\n",
              "      <td>1.000000</td>\n",
              "    </tr>\n",
              "    <tr>\n",
              "      <th>64</th>\n",
              "      <td>Long An</td>\n",
              "      <td>yenntt1</td>\n",
              "      <td>Nguyễn Thị Thảo Yến</td>\n",
              "      <td>Lương Thị Hồng Huyên</td>\n",
              "      <td>SME</td>\n",
              "      <td>0</td>\n",
              "      <td>1</td>\n",
              "      <td>1</td>\n",
              "      <td>2</td>\n",
              "      <td>1</td>\n",
              "      <td>1</td>\n",
              "      <td>2</td>\n",
              "      <td>1</td>\n",
              "      <td>w2</td>\n",
              "      <td>1.000000</td>\n",
              "    </tr>\n",
              "    <tr>\n",
              "      <th>78</th>\n",
              "      <td>Nam Thăng Long</td>\n",
              "      <td>hiepnc3</td>\n",
              "      <td>Nguyễn Chính Hiệp</td>\n",
              "      <td>NaN</td>\n",
              "      <td>SME</td>\n",
              "      <td>43</td>\n",
              "      <td>1</td>\n",
              "      <td>1</td>\n",
              "      <td>1</td>\n",
              "      <td>1</td>\n",
              "      <td>1</td>\n",
              "      <td>1</td>\n",
              "      <td>1</td>\n",
              "      <td>w2</td>\n",
              "      <td>1.000000</td>\n",
              "    </tr>\n",
              "    <tr>\n",
              "      <th>95</th>\n",
              "      <td>SSE Miền Nam</td>\n",
              "      <td>tuyenhtb2</td>\n",
              "      <td>Huỳnh Thị Bích Tuyền</td>\n",
              "      <td>NaN</td>\n",
              "      <td>SSE</td>\n",
              "      <td>1</td>\n",
              "      <td>1</td>\n",
              "      <td>1</td>\n",
              "      <td>1</td>\n",
              "      <td>1</td>\n",
              "      <td>1</td>\n",
              "      <td>1</td>\n",
              "      <td>1</td>\n",
              "      <td>w2</td>\n",
              "      <td>1.000000</td>\n",
              "    </tr>\n",
              "    <tr>\n",
              "      <th>65</th>\n",
              "      <td>Long An</td>\n",
              "      <td>dieppn2</td>\n",
              "      <td>Phạm Ngọc Điệp</td>\n",
              "      <td>Lương Thị Hồng Huyên</td>\n",
              "      <td>SME</td>\n",
              "      <td>1</td>\n",
              "      <td>1</td>\n",
              "      <td>1</td>\n",
              "      <td>1</td>\n",
              "      <td>1</td>\n",
              "      <td>1</td>\n",
              "      <td>1</td>\n",
              "      <td>1</td>\n",
              "      <td>w2</td>\n",
              "      <td>1.000000</td>\n",
              "    </tr>\n",
              "    <tr>\n",
              "      <th>59</th>\n",
              "      <td>Hồng Bàng</td>\n",
              "      <td>haint30</td>\n",
              "      <td>Nguyễn Thanh Hải</td>\n",
              "      <td>NaN</td>\n",
              "      <td>SME</td>\n",
              "      <td>17</td>\n",
              "      <td>2</td>\n",
              "      <td>2</td>\n",
              "      <td>0</td>\n",
              "      <td>2</td>\n",
              "      <td>2</td>\n",
              "      <td>2</td>\n",
              "      <td>2</td>\n",
              "      <td>w2</td>\n",
              "      <td>1.000000</td>\n",
              "    </tr>\n",
              "    <tr>\n",
              "      <th>96</th>\n",
              "      <td>SSE Miền Nam</td>\n",
              "      <td>thangnn5</td>\n",
              "      <td>Nguyễn Ngọc Thắng</td>\n",
              "      <td>NaN</td>\n",
              "      <td>SSE</td>\n",
              "      <td>0</td>\n",
              "      <td>1</td>\n",
              "      <td>1</td>\n",
              "      <td>1</td>\n",
              "      <td>1</td>\n",
              "      <td>1</td>\n",
              "      <td>1</td>\n",
              "      <td>1</td>\n",
              "      <td>w2</td>\n",
              "      <td>1.000000</td>\n",
              "    </tr>\n",
              "    <tr>\n",
              "      <th>84</th>\n",
              "      <td>Quảng Nam</td>\n",
              "      <td>lanntn9</td>\n",
              "      <td>Nguyễn Thị Ngọc Lan</td>\n",
              "      <td>NaN</td>\n",
              "      <td>SME</td>\n",
              "      <td>13</td>\n",
              "      <td>1</td>\n",
              "      <td>1</td>\n",
              "      <td>1</td>\n",
              "      <td>1</td>\n",
              "      <td>1</td>\n",
              "      <td>2</td>\n",
              "      <td>2</td>\n",
              "      <td>w2</td>\n",
              "      <td>2.000000</td>\n",
              "    </tr>\n",
              "    <tr>\n",
              "      <th>66</th>\n",
              "      <td>Long An</td>\n",
              "      <td>duyendtt2</td>\n",
              "      <td>Đặng Thị Trúc Duyên</td>\n",
              "      <td>NaN</td>\n",
              "      <td>SME</td>\n",
              "      <td>6</td>\n",
              "      <td>1</td>\n",
              "      <td>1</td>\n",
              "      <td>0</td>\n",
              "      <td>0</td>\n",
              "      <td>0</td>\n",
              "      <td>1</td>\n",
              "      <td>2</td>\n",
              "      <td>w2</td>\n",
              "      <td>2.000000</td>\n",
              "    </tr>\n",
              "    <tr>\n",
              "      <th>93</th>\n",
              "      <td>SSE Miền Nam</td>\n",
              "      <td>tienhtt4</td>\n",
              "      <td>Hà Thị Thủy Tiên</td>\n",
              "      <td>NaN</td>\n",
              "      <td>SSE</td>\n",
              "      <td>1</td>\n",
              "      <td>1</td>\n",
              "      <td>1</td>\n",
              "      <td>2</td>\n",
              "      <td>2</td>\n",
              "      <td>2</td>\n",
              "      <td>2</td>\n",
              "      <td>2</td>\n",
              "      <td>w2</td>\n",
              "      <td>2.000000</td>\n",
              "    </tr>\n",
              "    <tr>\n",
              "      <th>37</th>\n",
              "      <td>Huế</td>\n",
              "      <td>thinpv2</td>\n",
              "      <td>Phạm Văn Thìn</td>\n",
              "      <td>NaN</td>\n",
              "      <td>SME</td>\n",
              "      <td>37</td>\n",
              "      <td>7</td>\n",
              "      <td>7</td>\n",
              "      <td>7</td>\n",
              "      <td>3</td>\n",
              "      <td>4</td>\n",
              "      <td>4</td>\n",
              "      <td>4</td>\n",
              "      <td>w3</td>\n",
              "      <td>0.571429</td>\n",
              "    </tr>\n",
              "    <tr>\n",
              "      <th>26</th>\n",
              "      <td>Gò Vấp</td>\n",
              "      <td>dzulh</td>\n",
              "      <td>Lê Hoàng Dzũ</td>\n",
              "      <td>Lê Hoàng Long</td>\n",
              "      <td>SME</td>\n",
              "      <td>10</td>\n",
              "      <td>1</td>\n",
              "      <td>1</td>\n",
              "      <td>1</td>\n",
              "      <td>2</td>\n",
              "      <td>1</td>\n",
              "      <td>1</td>\n",
              "      <td>1</td>\n",
              "      <td>w3</td>\n",
              "      <td>1.000000</td>\n",
              "    </tr>\n",
              "    <tr>\n",
              "      <th>39</th>\n",
              "      <td>Huế</td>\n",
              "      <td>hault5</td>\n",
              "      <td>LÊ THANH HẬU</td>\n",
              "      <td>NaN</td>\n",
              "      <td>SME</td>\n",
              "      <td>7</td>\n",
              "      <td>1</td>\n",
              "      <td>2</td>\n",
              "      <td>0</td>\n",
              "      <td>1</td>\n",
              "      <td>1</td>\n",
              "      <td>1</td>\n",
              "      <td>1</td>\n",
              "      <td>w3</td>\n",
              "      <td>1.000000</td>\n",
              "    </tr>\n",
              "    <tr>\n",
              "      <th>255</th>\n",
              "      <td>Cộng Hòa</td>\n",
              "      <td>liemtn3</td>\n",
              "      <td>Trần Nho Liêm</td>\n",
              "      <td>Phan Văn Long</td>\n",
              "      <td>SME</td>\n",
              "      <td>0</td>\n",
              "      <td>1</td>\n",
              "      <td>1</td>\n",
              "      <td>0</td>\n",
              "      <td>0</td>\n",
              "      <td>0</td>\n",
              "      <td>0</td>\n",
              "      <td>1</td>\n",
              "      <td>w3</td>\n",
              "      <td>1.000000</td>\n",
              "    </tr>\n",
              "    <tr>\n",
              "      <th>59</th>\n",
              "      <td>Hải Châu</td>\n",
              "      <td>maipth1</td>\n",
              "      <td>Phạm Thị Hoa Mai</td>\n",
              "      <td>Nguyễn Tấn</td>\n",
              "      <td>SME</td>\n",
              "      <td>8</td>\n",
              "      <td>1</td>\n",
              "      <td>0</td>\n",
              "      <td>0</td>\n",
              "      <td>1</td>\n",
              "      <td>1</td>\n",
              "      <td>1</td>\n",
              "      <td>1</td>\n",
              "      <td>w3</td>\n",
              "      <td>1.000000</td>\n",
              "    </tr>\n",
              "    <tr>\n",
              "      <th>8</th>\n",
              "      <td>Bắc Giang</td>\n",
              "      <td>dangnh5</td>\n",
              "      <td>Nguyễn Hải Đăng</td>\n",
              "      <td>Nguyễn Duy Phú</td>\n",
              "      <td>SME</td>\n",
              "      <td>2</td>\n",
              "      <td>1</td>\n",
              "      <td>2</td>\n",
              "      <td>1</td>\n",
              "      <td>1</td>\n",
              "      <td>1</td>\n",
              "      <td>1</td>\n",
              "      <td>1</td>\n",
              "      <td>w3</td>\n",
              "      <td>1.000000</td>\n",
              "    </tr>\n",
              "    <tr>\n",
              "      <th>353</th>\n",
              "      <td>Huế</td>\n",
              "      <td>trind2</td>\n",
              "      <td>Nguyễn Đình Trí</td>\n",
              "      <td>NaN</td>\n",
              "      <td>SME</td>\n",
              "      <td>1</td>\n",
              "      <td>1</td>\n",
              "      <td>1</td>\n",
              "      <td>0</td>\n",
              "      <td>0</td>\n",
              "      <td>0</td>\n",
              "      <td>0</td>\n",
              "      <td>1</td>\n",
              "      <td>w3</td>\n",
              "      <td>1.000000</td>\n",
              "    </tr>\n",
              "    <tr>\n",
              "      <th>1008</th>\n",
              "      <td>Đống Đa</td>\n",
              "      <td>quynhttl3</td>\n",
              "      <td>Trần Thị Lâm Quỳnh</td>\n",
              "      <td>Hoàng Ngọc Chinh</td>\n",
              "      <td>SME</td>\n",
              "      <td>0</td>\n",
              "      <td>1</td>\n",
              "      <td>0</td>\n",
              "      <td>0</td>\n",
              "      <td>0</td>\n",
              "      <td>0</td>\n",
              "      <td>0</td>\n",
              "      <td>1</td>\n",
              "      <td>w3</td>\n",
              "      <td>1.000000</td>\n",
              "    </tr>\n",
              "    <tr>\n",
              "      <th>122</th>\n",
              "      <td>Vũng Tàu</td>\n",
              "      <td>thuylth</td>\n",
              "      <td>Lê Thị Hồng Thúy</td>\n",
              "      <td>Bùi Thị Hoài Thương</td>\n",
              "      <td>SME</td>\n",
              "      <td>2</td>\n",
              "      <td>2</td>\n",
              "      <td>2</td>\n",
              "      <td>2</td>\n",
              "      <td>2</td>\n",
              "      <td>2</td>\n",
              "      <td>2</td>\n",
              "      <td>3</td>\n",
              "      <td>w3</td>\n",
              "      <td>1.500000</td>\n",
              "    </tr>\n",
              "    <tr>\n",
              "      <th>101</th>\n",
              "      <td>SSE Miền Nam</td>\n",
              "      <td>thonghh2</td>\n",
              "      <td>Hồ Hữu Thông</td>\n",
              "      <td>Nguyễn Mạnh Tài</td>\n",
              "      <td>SSE</td>\n",
              "      <td>3</td>\n",
              "      <td>1</td>\n",
              "      <td>0</td>\n",
              "      <td>1</td>\n",
              "      <td>2</td>\n",
              "      <td>2</td>\n",
              "      <td>3</td>\n",
              "      <td>3</td>\n",
              "      <td>w3</td>\n",
              "      <td>3.000000</td>\n",
              "    </tr>\n",
              "    <tr>\n",
              "      <th>524</th>\n",
              "      <td>MC Miền Nam</td>\n",
              "      <td>tramntt1</td>\n",
              "      <td>Nguyễn Thị Tố Trâm</td>\n",
              "      <td>NaN</td>\n",
              "      <td>SME</td>\n",
              "      <td>49</td>\n",
              "      <td>2</td>\n",
              "      <td>1</td>\n",
              "      <td>0</td>\n",
              "      <td>0</td>\n",
              "      <td>0</td>\n",
              "      <td>0</td>\n",
              "      <td>1</td>\n",
              "      <td>w4</td>\n",
              "      <td>0.500000</td>\n",
              "    </tr>\n",
              "    <tr>\n",
              "      <th>14</th>\n",
              "      <td>Cầu Giấy</td>\n",
              "      <td>sinhnp2</td>\n",
              "      <td>Nguyễn Phấn Sinh</td>\n",
              "      <td>NaN</td>\n",
              "      <td>SME</td>\n",
              "      <td>1</td>\n",
              "      <td>1</td>\n",
              "      <td>3</td>\n",
              "      <td>0</td>\n",
              "      <td>0</td>\n",
              "      <td>0</td>\n",
              "      <td>1</td>\n",
              "      <td>1</td>\n",
              "      <td>w4</td>\n",
              "      <td>1.000000</td>\n",
              "    </tr>\n",
              "    <tr>\n",
              "      <th>523</th>\n",
              "      <td>MC Miền Nam</td>\n",
              "      <td>duyth3</td>\n",
              "      <td>Thang Hữu Duy</td>\n",
              "      <td>NaN</td>\n",
              "      <td>SME</td>\n",
              "      <td>84</td>\n",
              "      <td>1</td>\n",
              "      <td>1</td>\n",
              "      <td>1</td>\n",
              "      <td>0</td>\n",
              "      <td>1</td>\n",
              "      <td>0</td>\n",
              "      <td>1</td>\n",
              "      <td>w4</td>\n",
              "      <td>1.000000</td>\n",
              "    </tr>\n",
              "    <tr>\n",
              "      <th>82</th>\n",
              "      <td>SSE Miền Nam</td>\n",
              "      <td>uyenntp3</td>\n",
              "      <td>Nguyễn Thị Phương Uyên</td>\n",
              "      <td>NaN</td>\n",
              "      <td>SSE</td>\n",
              "      <td>1</td>\n",
              "      <td>1</td>\n",
              "      <td>1</td>\n",
              "      <td>1</td>\n",
              "      <td>1</td>\n",
              "      <td>1</td>\n",
              "      <td>1</td>\n",
              "      <td>1</td>\n",
              "      <td>w4</td>\n",
              "      <td>1.000000</td>\n",
              "    </tr>\n",
              "    <tr>\n",
              "      <th>945</th>\n",
              "      <td>Tân Bình</td>\n",
              "      <td>nguyenqv1</td>\n",
              "      <td>Quách Văn Nguyên</td>\n",
              "      <td>NaN</td>\n",
              "      <td>SME</td>\n",
              "      <td>22</td>\n",
              "      <td>2</td>\n",
              "      <td>2</td>\n",
              "      <td>0</td>\n",
              "      <td>1</td>\n",
              "      <td>1</td>\n",
              "      <td>0</td>\n",
              "      <td>2</td>\n",
              "      <td>w4</td>\n",
              "      <td>1.000000</td>\n",
              "    </tr>\n",
              "    <tr>\n",
              "      <th>952</th>\n",
              "      <td>Tân Thuận</td>\n",
              "      <td>thaodtt15</td>\n",
              "      <td>Đinh Thị Thu Thảo</td>\n",
              "      <td>NaN</td>\n",
              "      <td>SME</td>\n",
              "      <td>0</td>\n",
              "      <td>1</td>\n",
              "      <td>1</td>\n",
              "      <td>0</td>\n",
              "      <td>0</td>\n",
              "      <td>0</td>\n",
              "      <td>0</td>\n",
              "      <td>1</td>\n",
              "      <td>w4</td>\n",
              "      <td>1.000000</td>\n",
              "    </tr>\n",
              "    <tr>\n",
              "      <th>973</th>\n",
              "      <td>Vũng Tàu</td>\n",
              "      <td>trangltq3</td>\n",
              "      <td>Lê Thị Quỳnh Trang</td>\n",
              "      <td>Bùi Thị Hoài Thương</td>\n",
              "      <td>SME</td>\n",
              "      <td>1</td>\n",
              "      <td>1</td>\n",
              "      <td>2</td>\n",
              "      <td>0</td>\n",
              "      <td>0</td>\n",
              "      <td>0</td>\n",
              "      <td>0</td>\n",
              "      <td>1</td>\n",
              "      <td>w4</td>\n",
              "      <td>1.000000</td>\n",
              "    </tr>\n",
              "    <tr>\n",
              "      <th>43</th>\n",
              "      <td>Hải Dương</td>\n",
              "      <td>dungdb2</td>\n",
              "      <td>Đô Bá Dũng</td>\n",
              "      <td>NaN</td>\n",
              "      <td>SME</td>\n",
              "      <td>19</td>\n",
              "      <td>1</td>\n",
              "      <td>1</td>\n",
              "      <td>0</td>\n",
              "      <td>1</td>\n",
              "      <td>1</td>\n",
              "      <td>1</td>\n",
              "      <td>1</td>\n",
              "      <td>w4</td>\n",
              "      <td>1.000000</td>\n",
              "    </tr>\n",
              "    <tr>\n",
              "      <th>81</th>\n",
              "      <td>SSE Miền Nam</td>\n",
              "      <td>thangnn5</td>\n",
              "      <td>Nguyễn Ngọc Thắng</td>\n",
              "      <td>NaN</td>\n",
              "      <td>SSE</td>\n",
              "      <td>1</td>\n",
              "      <td>1</td>\n",
              "      <td>1</td>\n",
              "      <td>1</td>\n",
              "      <td>1</td>\n",
              "      <td>1</td>\n",
              "      <td>1</td>\n",
              "      <td>1</td>\n",
              "      <td>w4</td>\n",
              "      <td>1.000000</td>\n",
              "    </tr>\n",
              "    <tr>\n",
              "      <th>76</th>\n",
              "      <td>SSE Miền Bắc</td>\n",
              "      <td>hoadt24</td>\n",
              "      <td>Dương Thị Hoa</td>\n",
              "      <td>NaN</td>\n",
              "      <td>SSE</td>\n",
              "      <td>1</td>\n",
              "      <td>1</td>\n",
              "      <td>1</td>\n",
              "      <td>1</td>\n",
              "      <td>1</td>\n",
              "      <td>1</td>\n",
              "      <td>1</td>\n",
              "      <td>1</td>\n",
              "      <td>w4</td>\n",
              "      <td>1.000000</td>\n",
              "    </tr>\n",
              "    <tr>\n",
              "      <th>63</th>\n",
              "      <td>Long Biên</td>\n",
              "      <td>huongdt33</td>\n",
              "      <td>Đỗ Thị Hường</td>\n",
              "      <td>Nguyễn Thành Công</td>\n",
              "      <td>SME</td>\n",
              "      <td>33</td>\n",
              "      <td>3</td>\n",
              "      <td>3</td>\n",
              "      <td>1</td>\n",
              "      <td>0</td>\n",
              "      <td>0</td>\n",
              "      <td>2</td>\n",
              "      <td>2</td>\n",
              "      <td>w5</td>\n",
              "      <td>0.666667</td>\n",
              "    </tr>\n",
              "    <tr>\n",
              "      <th>167</th>\n",
              "      <td>Bắc Ninh</td>\n",
              "      <td>phuongntt7</td>\n",
              "      <td>Nguyễn Thị Thái Phương</td>\n",
              "      <td>Bắc Ninh 1</td>\n",
              "      <td>SME</td>\n",
              "      <td>45</td>\n",
              "      <td>1</td>\n",
              "      <td>0</td>\n",
              "      <td>3</td>\n",
              "      <td>1</td>\n",
              "      <td>0</td>\n",
              "      <td>0</td>\n",
              "      <td>1</td>\n",
              "      <td>w5</td>\n",
              "      <td>1.000000</td>\n",
              "    </tr>\n",
              "    <tr>\n",
              "      <th>17</th>\n",
              "      <td>Cầu Giấy</td>\n",
              "      <td>tuanna30</td>\n",
              "      <td>Nguyễn Anh Tuấn</td>\n",
              "      <td>Nguyễn Quốc Đại</td>\n",
              "      <td>SME</td>\n",
              "      <td>23</td>\n",
              "      <td>1</td>\n",
              "      <td>1</td>\n",
              "      <td>0</td>\n",
              "      <td>0</td>\n",
              "      <td>0</td>\n",
              "      <td>1</td>\n",
              "      <td>1</td>\n",
              "      <td>w5</td>\n",
              "      <td>1.000000</td>\n",
              "    </tr>\n",
              "    <tr>\n",
              "      <th>92</th>\n",
              "      <td>Sài Gòn</td>\n",
              "      <td>ngocntm7</td>\n",
              "      <td>Nguyễn Thị Minh Ngọc</td>\n",
              "      <td>Phạm Minh</td>\n",
              "      <td>SME</td>\n",
              "      <td>21</td>\n",
              "      <td>1</td>\n",
              "      <td>0</td>\n",
              "      <td>0</td>\n",
              "      <td>0</td>\n",
              "      <td>1</td>\n",
              "      <td>1</td>\n",
              "      <td>1</td>\n",
              "      <td>w5</td>\n",
              "      <td>1.000000</td>\n",
              "    </tr>\n",
              "    <tr>\n",
              "      <th>71</th>\n",
              "      <td>Nam Thăng Long</td>\n",
              "      <td>thanhlv6</td>\n",
              "      <td>Lê Văn Thành</td>\n",
              "      <td>Trần Tiến Thành</td>\n",
              "      <td>SME</td>\n",
              "      <td>84</td>\n",
              "      <td>1</td>\n",
              "      <td>1</td>\n",
              "      <td>0</td>\n",
              "      <td>1</td>\n",
              "      <td>1</td>\n",
              "      <td>1</td>\n",
              "      <td>1</td>\n",
              "      <td>w5</td>\n",
              "      <td>1.000000</td>\n",
              "    </tr>\n",
              "    <tr>\n",
              "      <th>1041</th>\n",
              "      <td>Đắk Lắk</td>\n",
              "      <td>toannc2</td>\n",
              "      <td>Nguyễn Công Toàn</td>\n",
              "      <td>NaN</td>\n",
              "      <td>SME</td>\n",
              "      <td>1</td>\n",
              "      <td>1</td>\n",
              "      <td>5</td>\n",
              "      <td>1</td>\n",
              "      <td>0</td>\n",
              "      <td>0</td>\n",
              "      <td>1</td>\n",
              "      <td>1</td>\n",
              "      <td>w5</td>\n",
              "      <td>1.000000</td>\n",
              "    </tr>\n",
              "    <tr>\n",
              "      <th>90</th>\n",
              "      <td>Sài Gòn</td>\n",
              "      <td>thudm2</td>\n",
              "      <td>Đinh Minh Thư</td>\n",
              "      <td>Nguyễn Trường Quang</td>\n",
              "      <td>SME</td>\n",
              "      <td>2</td>\n",
              "      <td>1</td>\n",
              "      <td>1</td>\n",
              "      <td>1</td>\n",
              "      <td>1</td>\n",
              "      <td>1</td>\n",
              "      <td>2</td>\n",
              "      <td>1</td>\n",
              "      <td>w5</td>\n",
              "      <td>1.000000</td>\n",
              "    </tr>\n",
              "    <tr>\n",
              "      <th>86</th>\n",
              "      <td>SSE Miền Nam</td>\n",
              "      <td>thanhnn11</td>\n",
              "      <td>Nguyễn Ngọc Thành</td>\n",
              "      <td>NaN</td>\n",
              "      <td>SSE</td>\n",
              "      <td>1</td>\n",
              "      <td>1</td>\n",
              "      <td>2</td>\n",
              "      <td>2</td>\n",
              "      <td>0</td>\n",
              "      <td>1</td>\n",
              "      <td>1</td>\n",
              "      <td>1</td>\n",
              "      <td>w5</td>\n",
              "      <td>1.000000</td>\n",
              "    </tr>\n",
              "    <tr>\n",
              "      <th>1031</th>\n",
              "      <td>Đà Nẵng</td>\n",
              "      <td>hangntt48</td>\n",
              "      <td>Nguyễn Thị Thúy Hằng</td>\n",
              "      <td>Phan Nhật Nam</td>\n",
              "      <td>SME</td>\n",
              "      <td>2</td>\n",
              "      <td>2</td>\n",
              "      <td>2</td>\n",
              "      <td>0</td>\n",
              "      <td>1</td>\n",
              "      <td>1</td>\n",
              "      <td>3</td>\n",
              "      <td>3</td>\n",
              "      <td>w5</td>\n",
              "      <td>1.500000</td>\n",
              "    </tr>\n",
              "    <tr>\n",
              "      <th>34</th>\n",
              "      <td>Hoàng Mai</td>\n",
              "      <td>cuongnm18</td>\n",
              "      <td>Nguyễn Mạnh Cường</td>\n",
              "      <td>Phạm Việt Hưng</td>\n",
              "      <td>SME</td>\n",
              "      <td>2</td>\n",
              "      <td>1</td>\n",
              "      <td>0</td>\n",
              "      <td>0</td>\n",
              "      <td>0</td>\n",
              "      <td>0</td>\n",
              "      <td>2</td>\n",
              "      <td>3</td>\n",
              "      <td>w5</td>\n",
              "      <td>3.000000</td>\n",
              "    </tr>\n",
              "    <tr>\n",
              "      <th>96</th>\n",
              "      <td>SSE Miền Nam</td>\n",
              "      <td>thangnn5</td>\n",
              "      <td>Nguyễn Ngọc Thắng</td>\n",
              "      <td>NaN</td>\n",
              "      <td>SSE</td>\n",
              "      <td>0</td>\n",
              "      <td>1</td>\n",
              "      <td>1</td>\n",
              "      <td>1</td>\n",
              "      <td>1</td>\n",
              "      <td>1</td>\n",
              "      <td>1</td>\n",
              "      <td>1</td>\n",
              "      <td>all</td>\n",
              "      <td>1.000000</td>\n",
              "    </tr>\n",
              "    <tr>\n",
              "      <th>124</th>\n",
              "      <td>Tân Thuận</td>\n",
              "      <td>thaodtt15</td>\n",
              "      <td>Đinh Thị Thu Thảo</td>\n",
              "      <td>NaN</td>\n",
              "      <td>SME</td>\n",
              "      <td>1</td>\n",
              "      <td>1</td>\n",
              "      <td>1</td>\n",
              "      <td>1</td>\n",
              "      <td>1</td>\n",
              "      <td>1</td>\n",
              "      <td>1</td>\n",
              "      <td>1</td>\n",
              "      <td>all</td>\n",
              "      <td>1.000000</td>\n",
              "    </tr>\n",
              "    <tr>\n",
              "      <th>122</th>\n",
              "      <td>Vũng Tàu</td>\n",
              "      <td>thuylth</td>\n",
              "      <td>Lê Thị Hồng Thúy</td>\n",
              "      <td>Bùi Thị Hoài Thương</td>\n",
              "      <td>SME</td>\n",
              "      <td>2</td>\n",
              "      <td>2</td>\n",
              "      <td>2</td>\n",
              "      <td>2</td>\n",
              "      <td>2</td>\n",
              "      <td>2</td>\n",
              "      <td>2</td>\n",
              "      <td>3</td>\n",
              "      <td>all</td>\n",
              "      <td>1.500000</td>\n",
              "    </tr>\n",
              "    <tr>\n",
              "      <th>1031</th>\n",
              "      <td>Đà Nẵng</td>\n",
              "      <td>hangntt48</td>\n",
              "      <td>Nguyễn Thị Thúy Hằng</td>\n",
              "      <td>Phan Nhật Nam</td>\n",
              "      <td>SME</td>\n",
              "      <td>2</td>\n",
              "      <td>2</td>\n",
              "      <td>2</td>\n",
              "      <td>0</td>\n",
              "      <td>1</td>\n",
              "      <td>1</td>\n",
              "      <td>3</td>\n",
              "      <td>3</td>\n",
              "      <td>all</td>\n",
              "      <td>1.500000</td>\n",
              "    </tr>\n",
              "    <tr>\n",
              "      <th>102</th>\n",
              "      <td>Trần Hưng Đạo</td>\n",
              "      <td>phint2</td>\n",
              "      <td>Nguyễn Thành Phi</td>\n",
              "      <td>Nguyễn Văn Tuấn</td>\n",
              "      <td>SME</td>\n",
              "      <td>4</td>\n",
              "      <td>2</td>\n",
              "      <td>2</td>\n",
              "      <td>0</td>\n",
              "      <td>0</td>\n",
              "      <td>0</td>\n",
              "      <td>2</td>\n",
              "      <td>4</td>\n",
              "      <td>all</td>\n",
              "      <td>2.000000</td>\n",
              "    </tr>\n",
              "    <tr>\n",
              "      <th>93</th>\n",
              "      <td>SSE Miền Nam</td>\n",
              "      <td>tienhtt4</td>\n",
              "      <td>Hà Thị Thủy Tiên</td>\n",
              "      <td>NaN</td>\n",
              "      <td>SSE</td>\n",
              "      <td>1</td>\n",
              "      <td>1</td>\n",
              "      <td>1</td>\n",
              "      <td>2</td>\n",
              "      <td>2</td>\n",
              "      <td>2</td>\n",
              "      <td>2</td>\n",
              "      <td>2</td>\n",
              "      <td>all</td>\n",
              "      <td>2.000000</td>\n",
              "    </tr>\n",
              "    <tr>\n",
              "      <th>66</th>\n",
              "      <td>Long An</td>\n",
              "      <td>duyendtt2</td>\n",
              "      <td>Đặng Thị Trúc Duyên</td>\n",
              "      <td>NaN</td>\n",
              "      <td>SME</td>\n",
              "      <td>6</td>\n",
              "      <td>1</td>\n",
              "      <td>1</td>\n",
              "      <td>0</td>\n",
              "      <td>0</td>\n",
              "      <td>0</td>\n",
              "      <td>1</td>\n",
              "      <td>2</td>\n",
              "      <td>all</td>\n",
              "      <td>2.000000</td>\n",
              "    </tr>\n",
              "    <tr>\n",
              "      <th>84</th>\n",
              "      <td>Quảng Nam</td>\n",
              "      <td>lanntn9</td>\n",
              "      <td>Nguyễn Thị Ngọc Lan</td>\n",
              "      <td>NaN</td>\n",
              "      <td>SME</td>\n",
              "      <td>13</td>\n",
              "      <td>1</td>\n",
              "      <td>1</td>\n",
              "      <td>1</td>\n",
              "      <td>1</td>\n",
              "      <td>1</td>\n",
              "      <td>2</td>\n",
              "      <td>2</td>\n",
              "      <td>all</td>\n",
              "      <td>2.000000</td>\n",
              "    </tr>\n",
              "    <tr>\n",
              "      <th>34</th>\n",
              "      <td>Hoàng Mai</td>\n",
              "      <td>cuongnm18</td>\n",
              "      <td>Nguyễn Mạnh Cường</td>\n",
              "      <td>Phạm Việt Hưng</td>\n",
              "      <td>SME</td>\n",
              "      <td>2</td>\n",
              "      <td>1</td>\n",
              "      <td>0</td>\n",
              "      <td>0</td>\n",
              "      <td>0</td>\n",
              "      <td>0</td>\n",
              "      <td>2</td>\n",
              "      <td>3</td>\n",
              "      <td>all</td>\n",
              "      <td>3.000000</td>\n",
              "    </tr>\n",
              "    <tr>\n",
              "      <th>101</th>\n",
              "      <td>SSE Miền Nam</td>\n",
              "      <td>thonghh2</td>\n",
              "      <td>Hồ Hữu Thông</td>\n",
              "      <td>Nguyễn Mạnh Tài</td>\n",
              "      <td>SSE</td>\n",
              "      <td>3</td>\n",
              "      <td>1</td>\n",
              "      <td>0</td>\n",
              "      <td>1</td>\n",
              "      <td>2</td>\n",
              "      <td>2</td>\n",
              "      <td>3</td>\n",
              "      <td>3</td>\n",
              "      <td>all</td>\n",
              "      <td>3.000000</td>\n",
              "    </tr>\n",
              "  </tbody>\n",
              "</table>\n",
              "</div>"
            ],
            "text/plain": [
              "                 Hub          Rm                 Rm name  \\\n",
              "50         Hồng Bàng     haint30        Nguyễn Thanh Hải   \n",
              "6           Bắc Ninh    nhungptt    Phạm Thị Trang Nhung   \n",
              "217          Cần Thơ      minhnd         Nguyễn Duy Minh   \n",
              "1051         Đống Đa    thanhtp2         Tạ Phương Thành   \n",
              "45          Hải Châu      nanpq2    Nguyễn Phan Quỳnh Na   \n",
              "12           Cần Thơ      phumh2           Mai Hoàng Phú   \n",
              "88      Sở Giao dịch     tunglm3            Lê Minh Tùng   \n",
              "888     Sở Giao dịch    truongnx      Nguyễn Xuân Trường   \n",
              "32         Hoàng Mai      tandd3          Dương Đình Tân   \n",
              "102    Trần Hưng Đạo      phint2        Nguyễn Thành Phi   \n",
              "124        Tân Thuận   thaodtt15       Đinh Thị Thu Thảo   \n",
              "64           Long An     yenntt1     Nguyễn Thị Thảo Yến   \n",
              "78    Nam Thăng Long     hiepnc3       Nguyễn Chính Hiệp   \n",
              "95      SSE Miền Nam   tuyenhtb2    Huỳnh Thị Bích Tuyền   \n",
              "65           Long An     dieppn2          Phạm Ngọc Điệp   \n",
              "59         Hồng Bàng     haint30        Nguyễn Thanh Hải   \n",
              "96      SSE Miền Nam    thangnn5       Nguyễn Ngọc Thắng   \n",
              "84         Quảng Nam     lanntn9     Nguyễn Thị Ngọc Lan   \n",
              "66           Long An   duyendtt2     Đặng Thị Trúc Duyên   \n",
              "93      SSE Miền Nam    tienhtt4        Hà Thị Thủy Tiên   \n",
              "37               Huế     thinpv2           Phạm Văn Thìn   \n",
              "26            Gò Vấp       dzulh            Lê Hoàng Dzũ   \n",
              "39               Huế      hault5            LÊ THANH HẬU   \n",
              "255         Cộng Hòa     liemtn3           Trần Nho Liêm   \n",
              "59          Hải Châu     maipth1        Phạm Thị Hoa Mai   \n",
              "8          Bắc Giang     dangnh5         Nguyễn Hải Đăng   \n",
              "353              Huế      trind2         Nguyễn Đình Trí   \n",
              "1008         Đống Đa   quynhttl3      Trần Thị Lâm Quỳnh   \n",
              "122         Vũng Tàu     thuylth        Lê Thị Hồng Thúy   \n",
              "101     SSE Miền Nam    thonghh2            Hồ Hữu Thông   \n",
              "524      MC Miền Nam    tramntt1      Nguyễn Thị Tố Trâm   \n",
              "14          Cầu Giấy     sinhnp2        Nguyễn Phấn Sinh   \n",
              "523      MC Miền Nam      duyth3           Thang Hữu Duy   \n",
              "82      SSE Miền Nam    uyenntp3  Nguyễn Thị Phương Uyên   \n",
              "945         Tân Bình   nguyenqv1        Quách Văn Nguyên   \n",
              "952        Tân Thuận   thaodtt15       Đinh Thị Thu Thảo   \n",
              "973         Vũng Tàu   trangltq3      Lê Thị Quỳnh Trang   \n",
              "43         Hải Dương     dungdb2              Đô Bá Dũng   \n",
              "81      SSE Miền Nam    thangnn5       Nguyễn Ngọc Thắng   \n",
              "76      SSE Miền Bắc     hoadt24           Dương Thị Hoa   \n",
              "63         Long Biên   huongdt33            Đỗ Thị Hường   \n",
              "167         Bắc Ninh  phuongntt7  Nguyễn Thị Thái Phương   \n",
              "17          Cầu Giấy    tuanna30         Nguyễn Anh Tuấn   \n",
              "92           Sài Gòn    ngocntm7    Nguyễn Thị Minh Ngọc   \n",
              "71    Nam Thăng Long    thanhlv6            Lê Văn Thành   \n",
              "1041         Đắk Lắk     toannc2        Nguyễn Công Toàn   \n",
              "90           Sài Gòn      thudm2           Đinh Minh Thư   \n",
              "86      SSE Miền Nam   thanhnn11       Nguyễn Ngọc Thành   \n",
              "1031         Đà Nẵng   hangntt48    Nguyễn Thị Thúy Hằng   \n",
              "34         Hoàng Mai   cuongnm18       Nguyễn Mạnh Cường   \n",
              "96      SSE Miền Nam    thangnn5       Nguyễn Ngọc Thắng   \n",
              "124        Tân Thuận   thaodtt15       Đinh Thị Thu Thảo   \n",
              "122         Vũng Tàu     thuylth        Lê Thị Hồng Thúy   \n",
              "1031         Đà Nẵng   hangntt48    Nguyễn Thị Thúy Hằng   \n",
              "102    Trần Hưng Đạo      phint2        Nguyễn Thành Phi   \n",
              "93      SSE Miền Nam    tienhtt4        Hà Thị Thủy Tiên   \n",
              "66           Long An   duyendtt2     Đặng Thị Trúc Duyên   \n",
              "84         Quảng Nam     lanntn9     Nguyễn Thị Ngọc Lan   \n",
              "34         Hoàng Mai   cuongnm18       Nguyễn Mạnh Cường   \n",
              "101     SSE Miền Nam    thonghh2            Hồ Hữu Thông   \n",
              "\n",
              "                      Team  Phân khúc  Đã phân bổ  Đã gọi  Đã gặp  \\\n",
              "50                     NaN        SME           3       3       3   \n",
              "6               Bắc Ninh 1        SME           2       3       2   \n",
              "217             Võ Anh Đức        SME           4       1       2   \n",
              "1051      Hoàng Ngọc Chinh        SME           2       1       1   \n",
              "45      Bùi Thị Thùy Nhung        SME           2       2       2   \n",
              "12                     NaN        SME           2       1       0   \n",
              "88    Tạ Thị Thúy Hường RM        SME          73       1       1   \n",
              "888   Tạ Thị Thúy Hường RM        SME           2       1       1   \n",
              "32          Phạm Tuấn Minh        SME          23       1       1   \n",
              "102        Nguyễn Văn Tuấn        SME           4       2       2   \n",
              "124                    NaN        SME           1       1       1   \n",
              "64    Lương Thị Hồng Huyên        SME           0       1       1   \n",
              "78                     NaN        SME          43       1       1   \n",
              "95                     NaN        SSE           1       1       1   \n",
              "65    Lương Thị Hồng Huyên        SME           1       1       1   \n",
              "59                     NaN        SME          17       2       2   \n",
              "96                     NaN        SSE           0       1       1   \n",
              "84                     NaN        SME          13       1       1   \n",
              "66                     NaN        SME           6       1       1   \n",
              "93                     NaN        SSE           1       1       1   \n",
              "37                     NaN        SME          37       7       7   \n",
              "26           Lê Hoàng Long        SME          10       1       1   \n",
              "39                     NaN        SME           7       1       2   \n",
              "255          Phan Văn Long        SME           0       1       1   \n",
              "59              Nguyễn Tấn        SME           8       1       0   \n",
              "8           Nguyễn Duy Phú        SME           2       1       2   \n",
              "353                    NaN        SME           1       1       1   \n",
              "1008      Hoàng Ngọc Chinh        SME           0       1       0   \n",
              "122    Bùi Thị Hoài Thương        SME           2       2       2   \n",
              "101        Nguyễn Mạnh Tài        SSE           3       1       0   \n",
              "524                    NaN        SME          49       2       1   \n",
              "14                     NaN        SME           1       1       3   \n",
              "523                    NaN        SME          84       1       1   \n",
              "82                     NaN        SSE           1       1       1   \n",
              "945                    NaN        SME          22       2       2   \n",
              "952                    NaN        SME           0       1       1   \n",
              "973    Bùi Thị Hoài Thương        SME           1       1       2   \n",
              "43                     NaN        SME          19       1       1   \n",
              "81                     NaN        SSE           1       1       1   \n",
              "76                     NaN        SSE           1       1       1   \n",
              "63       Nguyễn Thành Công        SME          33       3       3   \n",
              "167             Bắc Ninh 1        SME          45       1       0   \n",
              "17         Nguyễn Quốc Đại        SME          23       1       1   \n",
              "92               Phạm Minh        SME          21       1       0   \n",
              "71         Trần Tiến Thành        SME          84       1       1   \n",
              "1041                   NaN        SME           1       1       5   \n",
              "90     Nguyễn Trường Quang        SME           2       1       1   \n",
              "86                     NaN        SSE           1       1       2   \n",
              "1031         Phan Nhật Nam        SME           2       2       2   \n",
              "34          Phạm Việt Hưng        SME           2       1       0   \n",
              "96                     NaN        SSE           0       1       1   \n",
              "124                    NaN        SME           1       1       1   \n",
              "122    Bùi Thị Hoài Thương        SME           2       2       2   \n",
              "1031         Phan Nhật Nam        SME           2       2       2   \n",
              "102        Nguyễn Văn Tuấn        SME           4       2       2   \n",
              "93                     NaN        SSE           1       1       1   \n",
              "66                     NaN        SME           6       1       1   \n",
              "84                     NaN        SME          13       1       1   \n",
              "34          Phạm Việt Hưng        SME           2       1       0   \n",
              "101        Nguyễn Mạnh Tài        SSE           3       1       0   \n",
              "\n",
              "      Thu thập hồ sơ   Định giá   Đã trình   Đã phê duyệt  Đã active hạn mức  \\\n",
              "50                 0          1          1              2                  2   \n",
              "6                  0          1          1              2                  2   \n",
              "217                1          1          1              0                  1   \n",
              "1051               1          3          3              1                  1   \n",
              "45                 2          2          2              3                  2   \n",
              "12                 0          1          1              1                  1   \n",
              "88                 0          0          0              1                  1   \n",
              "888                0          0          0              0                  1   \n",
              "32                 1          1          1              1                  1   \n",
              "102                0          0          0              2                  4   \n",
              "124                1          1          1              1                  1   \n",
              "64                 2          1          1              2                  1   \n",
              "78                 1          1          1              1                  1   \n",
              "95                 1          1          1              1                  1   \n",
              "65                 1          1          1              1                  1   \n",
              "59                 0          2          2              2                  2   \n",
              "96                 1          1          1              1                  1   \n",
              "84                 1          1          1              2                  2   \n",
              "66                 0          0          0              1                  2   \n",
              "93                 2          2          2              2                  2   \n",
              "37                 7          3          4              4                  4   \n",
              "26                 1          2          1              1                  1   \n",
              "39                 0          1          1              1                  1   \n",
              "255                0          0          0              0                  1   \n",
              "59                 0          1          1              1                  1   \n",
              "8                  1          1          1              1                  1   \n",
              "353                0          0          0              0                  1   \n",
              "1008               0          0          0              0                  1   \n",
              "122                2          2          2              2                  3   \n",
              "101                1          2          2              3                  3   \n",
              "524                0          0          0              0                  1   \n",
              "14                 0          0          0              1                  1   \n",
              "523                1          0          1              0                  1   \n",
              "82                 1          1          1              1                  1   \n",
              "945                0          1          1              0                  2   \n",
              "952                0          0          0              0                  1   \n",
              "973                0          0          0              0                  1   \n",
              "43                 0          1          1              1                  1   \n",
              "81                 1          1          1              1                  1   \n",
              "76                 1          1          1              1                  1   \n",
              "63                 1          0          0              2                  2   \n",
              "167                3          1          0              0                  1   \n",
              "17                 0          0          0              1                  1   \n",
              "92                 0          0          1              1                  1   \n",
              "71                 0          1          1              1                  1   \n",
              "1041               1          0          0              1                  1   \n",
              "90                 1          1          1              2                  1   \n",
              "86                 2          0          1              1                  1   \n",
              "1031               0          1          1              3                  3   \n",
              "34                 0          0          0              2                  3   \n",
              "96                 1          1          1              1                  1   \n",
              "124                1          1          1              1                  1   \n",
              "122                2          2          2              2                  3   \n",
              "1031               0          1          1              3                  3   \n",
              "102                0          0          0              2                  4   \n",
              "93                 2          2          2              2                  2   \n",
              "66                 0          0          0              1                  2   \n",
              "84                 1          1          1              2                  2   \n",
              "34                 0          0          0              2                  3   \n",
              "101                1          2          2              3                  3   \n",
              "\n",
              "        w  Tỉ lệ hoạt động  \n",
              "50     w1         0.666667  \n",
              "6      w1         0.666667  \n",
              "217    w1         1.000000  \n",
              "1051   w1         1.000000  \n",
              "45     w1         1.000000  \n",
              "12     w1         1.000000  \n",
              "88     w1         1.000000  \n",
              "888    w1         1.000000  \n",
              "32     w1         1.000000  \n",
              "102    w1         2.000000  \n",
              "124    w2         1.000000  \n",
              "64     w2         1.000000  \n",
              "78     w2         1.000000  \n",
              "95     w2         1.000000  \n",
              "65     w2         1.000000  \n",
              "59     w2         1.000000  \n",
              "96     w2         1.000000  \n",
              "84     w2         2.000000  \n",
              "66     w2         2.000000  \n",
              "93     w2         2.000000  \n",
              "37     w3         0.571429  \n",
              "26     w3         1.000000  \n",
              "39     w3         1.000000  \n",
              "255    w3         1.000000  \n",
              "59     w3         1.000000  \n",
              "8      w3         1.000000  \n",
              "353    w3         1.000000  \n",
              "1008   w3         1.000000  \n",
              "122    w3         1.500000  \n",
              "101    w3         3.000000  \n",
              "524    w4         0.500000  \n",
              "14     w4         1.000000  \n",
              "523    w4         1.000000  \n",
              "82     w4         1.000000  \n",
              "945    w4         1.000000  \n",
              "952    w4         1.000000  \n",
              "973    w4         1.000000  \n",
              "43     w4         1.000000  \n",
              "81     w4         1.000000  \n",
              "76     w4         1.000000  \n",
              "63     w5         0.666667  \n",
              "167    w5         1.000000  \n",
              "17     w5         1.000000  \n",
              "92     w5         1.000000  \n",
              "71     w5         1.000000  \n",
              "1041   w5         1.000000  \n",
              "90     w5         1.000000  \n",
              "86     w5         1.000000  \n",
              "1031   w5         1.500000  \n",
              "34     w5         3.000000  \n",
              "96    all         1.000000  \n",
              "124   all         1.000000  \n",
              "122   all         1.500000  \n",
              "1031  all         1.500000  \n",
              "102   all         2.000000  \n",
              "93    all         2.000000  \n",
              "66    all         2.000000  \n",
              "84    all         2.000000  \n",
              "34    all         3.000000  \n",
              "101   all         3.000000  "
            ]
          },
          "execution_count": 11,
          "metadata": {},
          "output_type": "execute_result"
        }
      ],
      "source": [
        "df\n"
      ]
    },
    {
      "cell_type": "code",
      "execution_count": 12,
      "metadata": {
        "colab": {
          "base_uri": "https://localhost:8080/"
        },
        "id": "sT1aZM3e0DaR",
        "outputId": "5213d842-139d-446b-eb2e-31fbdd7d8e19"
      },
      "outputs": [
        {
          "name": "stdout",
          "output_type": "stream",
          "text": [
            "(0.6666666666666666, 'Nguyễn Thanh Hải') (0, 'Nguyễn Thanh Hải')\n",
            "(0.6666666666666666, 'Phạm Thị Trang Nhung') (0, 'Phạm Thị Trang Nhung')\n",
            "(1.0, 'Nguyễn Duy Minh') (0, 'Nguyễn Duy Minh')\n",
            "(1.0, 'Tạ Phương Thành') (0, 'Tạ Phương Thành')\n",
            "(1.0, 'Nguyễn Phan Quỳnh Na') (0, 'Nguyễn Phan Quỳnh Na')\n",
            "(1.0, 'Mai Hoàng Phú') (0, 'Mai Hoàng Phú')\n",
            "(1.0, 'Lê Minh Tùng') (0, 'Lê Minh Tùng')\n",
            "(1.0, 'Nguyễn Xuân Trường') (0, 'Nguyễn Xuân Trường')\n",
            "(1.0, 'Dương Đình Tân') (0, 'Dương Đình Tân')\n",
            "(2.0, 'Nguyễn Thành Phi') (0, 'Nguyễn Thành Phi')\n",
            "(1.0, 'Đinh Thị Thu Thảo') (0, 'Đinh Thị Thu Thảo')\n",
            "(1.0, 'Nguyễn Thị Thảo Yến') (0, 'Nguyễn Thị Thảo Yến')\n",
            "(1.0, 'Nguyễn Chính Hiệp') (0, 'Nguyễn Chính Hiệp')\n",
            "(1.0, 'Huỳnh Thị Bích Tuyền') (0, 'Huỳnh Thị Bích Tuyền')\n",
            "(1.0, 'Phạm Ngọc Điệp') (0, 'Phạm Ngọc Điệp')\n",
            "(1.0, 'Nguyễn Thanh Hải') (0, 'Nguyễn Thanh Hải')\n",
            "(1.0, 'Nguyễn Ngọc Thắng') (0, 'Nguyễn Ngọc Thắng')\n",
            "(2.0, 'Nguyễn Thị Ngọc Lan') (0, 'Nguyễn Thị Ngọc Lan')\n",
            "(2.0, 'Đặng Thị Trúc Duyên') (0, 'Đặng Thị Trúc Duyên')\n",
            "(2.0, 'Hà Thị Thủy Tiên') (0, 'Hà Thị Thủy Tiên')\n",
            "(0.5714285714285714, 'Phạm Văn Thìn') (0, 'Phạm Văn Thìn')\n",
            "(1.0, 'Lê Hoàng Dzũ') (0, 'Lê Hoàng Dzũ')\n",
            "(1.0, 'LÊ THANH HẬU') (0, 'LÊ THANH HẬU')\n",
            "(1.0, 'Trần Nho Liêm') (0, 'Trần Nho Liêm')\n",
            "(1.0, 'Phạm Thị Hoa Mai') (0, 'Phạm Thị Hoa Mai')\n",
            "(1.0, 'Nguyễn Hải Đăng') (0, 'Nguyễn Hải Đăng')\n",
            "(1.0, 'Nguyễn Đình Trí') (0, 'Nguyễn Đình Trí')\n",
            "(1.0, 'Trần Thị Lâm Quỳnh') (0, 'Trần Thị Lâm Quỳnh')\n",
            "(1.5, 'Lê Thị Hồng Thúy') (0, 'Lê Thị Hồng Thúy')\n",
            "(3.0, 'Hồ Hữu Thông') (0, 'Hồ Hữu Thông')\n",
            "(0.5, 'Nguyễn Thị Tố Trâm') (0, 'Nguyễn Thị Tố Trâm')\n",
            "(1.0, 'Nguyễn Phấn Sinh') (0, 'Nguyễn Phấn Sinh')\n",
            "(1.0, 'Thang Hữu Duy') (0, 'Thang Hữu Duy')\n",
            "(1.0, 'Nguyễn Thị Phương Uyên') (0, 'Nguyễn Thị Phương Uyên')\n",
            "(1.0, 'Quách Văn Nguyên') (0, 'Quách Văn Nguyên')\n",
            "(1.0, 'Đinh Thị Thu Thảo') (0, 'Đinh Thị Thu Thảo')\n",
            "(1.0, 'Lê Thị Quỳnh Trang') (0, 'Lê Thị Quỳnh Trang')\n",
            "(1.0, 'Đô Bá Dũng') (0, 'Đô Bá Dũng')\n",
            "(1.0, 'Nguyễn Ngọc Thắng') (0, 'Nguyễn Ngọc Thắng')\n",
            "(1.0, 'Dương Thị Hoa') (0, 'Dương Thị Hoa')\n",
            "(0.6666666666666666, 'Đỗ Thị Hường') (0, 'Đỗ Thị Hường')\n",
            "(1.0, 'Nguyễn Thị Thái Phương') (0, 'Nguyễn Thị Thái Phương')\n",
            "(1.0, 'Nguyễn Anh Tuấn') (0, 'Nguyễn Anh Tuấn')\n",
            "(1.0, 'Nguyễn Thị Minh Ngọc') (0, 'Nguyễn Thị Minh Ngọc')\n",
            "(1.0, 'Lê Văn Thành') (0, 'Lê Văn Thành')\n",
            "(1.0, 'Nguyễn Công Toàn') (0, 'Nguyễn Công Toàn')\n",
            "(1.0, 'Đinh Minh Thư') (0, 'Đinh Minh Thư')\n",
            "(1.0, 'Nguyễn Ngọc Thành') (0, 'Nguyễn Ngọc Thành')\n",
            "(1.5, 'Nguyễn Thị Thúy Hằng') (0, 'Nguyễn Thị Thúy Hằng')\n",
            "(3.0, 'Nguyễn Mạnh Cường') (0, 'Nguyễn Mạnh Cường')\n",
            "(1.0, 'Nguyễn Ngọc Thắng') (0, 'Nguyễn Ngọc Thắng')\n",
            "(1.0, 'Đinh Thị Thu Thảo') (0, 'Đinh Thị Thu Thảo')\n",
            "(1.5, 'Lê Thị Hồng Thúy') (0, 'Lê Thị Hồng Thúy')\n",
            "(1.5, 'Nguyễn Thị Thúy Hằng') (0, 'Nguyễn Thị Thúy Hằng')\n",
            "(2.0, 'Nguyễn Thành Phi') (0, 'Nguyễn Thành Phi')\n",
            "(2.0, 'Hà Thị Thủy Tiên') (0, 'Hà Thị Thủy Tiên')\n",
            "(2.0, 'Đặng Thị Trúc Duyên') (0, 'Đặng Thị Trúc Duyên')\n",
            "(2.0, 'Nguyễn Thị Ngọc Lan') (0, 'Nguyễn Thị Ngọc Lan')\n",
            "(3.0, 'Nguyễn Mạnh Cường') (0, 'Nguyễn Mạnh Cường')\n",
            "(3.0, 'Hồ Hữu Thông') (0, 'Hồ Hữu Thông')\n"
          ]
        }
      ],
      "source": [
        "for i in range(0, len(df)):\n",
        "  x0 = df.iloc[i]['Tỉ lệ hoạt động']\n",
        "  y0 = df.iloc[i][' Rm name']\n",
        "  x1 = 0\n",
        "  y1 = df.iloc[i][' Rm name']\n",
        "  print((x0,y0),(x1,y1))"
      ]
    }
  ],
  "metadata": {
    "colab": {
      "provenance": []
    },
    "kernelspec": {
      "display_name": "Python 3",
      "name": "python3"
    },
    "language_info": {
      "codemirror_mode": {
        "name": "ipython",
        "version": 3
      },
      "file_extension": ".py",
      "mimetype": "text/x-python",
      "name": "python",
      "nbconvert_exporter": "python",
      "pygments_lexer": "ipython3",
      "version": "3.10.6"
    }
  },
  "nbformat": 4,
  "nbformat_minor": 0
}
