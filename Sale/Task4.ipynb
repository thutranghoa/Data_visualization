{
  "cells": [
    {
      "cell_type": "code",
      "execution_count": 1,
      "metadata": {
        "id": "vb-WICOtv4PX"
      },
      "outputs": [],
      "source": [
        "import numpy as np\n",
        "import pandas as pd\n",
        "import plotly.graph_objects as go\n",
        "import matplotlib.pyplot as plt"
      ]
    },
    {
      "cell_type": "code",
      "execution_count": 2,
      "metadata": {
        "id": "h3YV1-jWwIEK"
      },
      "outputs": [],
      "source": [
        "xls = pd.ExcelFile('Hoạt động bán hàng All RM Tháng 3 theo tuần.xlsx')\n",
        "\n",
        "\n",
        "sheet_names = xls.sheet_names\n",
        "\n",
        "dfs = {}\n",
        "\n",
        "\n",
        "for sheet_name in sheet_names:\n",
        "    dfs[sheet_name] = xls.parse(sheet_name)\n"
      ]
    },
    {
      "cell_type": "code",
      "execution_count": 3,
      "metadata": {
        "id": "ooMcUYVY9Zse"
      },
      "outputs": [],
      "source": [
        "df1 = dfs['Tuần 06.03-12.03']\n",
        "df2 = dfs['Tuần 13.03-19.03']\n",
        "df3 = dfs['Tuần 20.03-26.03']\n",
        "df4 = dfs['Tuần 27.02-05.03']\n",
        "df5 = dfs['Tuần 27.03-01.04']"
      ]
    },
    {
      "cell_type": "code",
      "execution_count": 4,
      "metadata": {
        "id": "Q8CGlJ2z9cVE"
      },
      "outputs": [],
      "source": [
        "df1['w']='w1'\n",
        "df2['w']='w2'\n",
        "df3['w']='w3'\n",
        "df4['w']='w4'\n",
        "df5['w']='w5'"
      ]
    },
    {
      "cell_type": "code",
      "execution_count": 5,
      "metadata": {
        "id": "4jubz44twWNe"
      },
      "outputs": [],
      "source": [
        "df_all = pd.concat([df1,df2,df3,df4,df5])\n",
        "df_all['w']='all'"
      ]
    },
    {
      "cell_type": "code",
      "execution_count": 6,
      "metadata": {
        "id": "_QOkX8iDDF6p"
      },
      "outputs": [],
      "source": [
        "def fix(df):\n",
        "  df['Tỉ lệ hoạt động'] = df['Đã active hạn mức']/df['Đã gọi']\n",
        "  df = df.loc[df[' Rm name'] != '0.Toàn hàng']\n",
        "  df = df.loc[df[' Rm name'] != '1.Toàn chi nhánh']\n",
        "  df = df.loc[df[' Rm name'] != '2.Toàn team']\n",
        "  df.replace([np.inf, -np.inf], 0, inplace=True)\n",
        "  df_sorted = df.sort_values(by='Tỉ lệ hoạt động', ascending=False)\n",
        "  top_10 = df_sorted.head(10)[::-1]\n",
        "  return top_10"
      ]
    },
    {
      "cell_type": "code",
      "execution_count": 18,
      "metadata": {
        "id": "gXjOg1SqDR94"
      },
      "outputs": [],
      "source": [
        "df = pd.concat([fix(df1),fix(df2),fix(df3),fix(df4),fix(df5), fix(df_all)])"
      ]
    },
    {
      "cell_type": "code",
      "execution_count": 28,
      "metadata": {
        "colab": {
          "base_uri": "https://localhost:8080/",
          "height": 542
        },
        "id": "G2mALIzV_R2w",
        "outputId": "9e638808-41e9-4bbb-de4b-6492f9dcd26d"
      },
      "outputs": [
        {
          "data": {
            "application/vnd.plotly.v1+json": {
              "config": {
                "plotlyServerURL": "https://plotly.com"
              },
              "data": [
                {
                  "marker": {
                    "color": "teal",
                    "line": {
                      "color": "black",
                      "width": 1
                    },
                    "size": 10
                  },
                  "mode": "markers",
                  "type": "scatter",
                  "x": [
                    0.6666666666666666,
                    0.6666666666666666,
                    1,
                    1,
                    1,
                    1,
                    1,
                    1,
                    1,
                    2,
                    1,
                    1,
                    1,
                    1,
                    1,
                    1,
                    1,
                    2,
                    2,
                    2,
                    0.5714285714285714,
                    1,
                    1,
                    1,
                    1,
                    1,
                    1,
                    1,
                    1.5,
                    3,
                    0.5,
                    1,
                    1,
                    1,
                    1,
                    1,
                    1,
                    1,
                    1,
                    1,
                    0.6666666666666666,
                    1,
                    1,
                    1,
                    1,
                    1,
                    1,
                    1,
                    1.5,
                    3,
                    1,
                    1,
                    1.5,
                    1.5,
                    2,
                    2,
                    2,
                    2,
                    3,
                    3
                  ],
                  "y": [
                    "Nguyễn Thanh Hải",
                    "Phạm Thị Trang Nhung",
                    "Nguyễn Duy Minh",
                    "Tạ Phương Thành",
                    "Nguyễn Phan Quỳnh Na",
                    "Mai Hoàng Phú",
                    "Lê Minh Tùng",
                    "Nguyễn Xuân Trường",
                    "Dương Đình Tân",
                    "Nguyễn Thành Phi",
                    "Đinh Thị Thu Thảo",
                    "Nguyễn Thị Thảo Yến",
                    "Nguyễn Chính Hiệp",
                    "Huỳnh Thị Bích Tuyền",
                    "Phạm Ngọc Điệp",
                    "Nguyễn Thanh Hải",
                    "Nguyễn Ngọc Thắng",
                    "Nguyễn Thị Ngọc Lan",
                    "Đặng Thị Trúc Duyên",
                    "Hà Thị Thủy Tiên",
                    "Phạm Văn Thìn",
                    "Lê Hoàng Dzũ",
                    "LÊ THANH HẬU",
                    "Trần Nho Liêm",
                    "Phạm Thị Hoa Mai",
                    "Nguyễn Hải Đăng",
                    "Nguyễn Đình Trí",
                    "Trần Thị Lâm Quỳnh",
                    "Lê Thị Hồng Thúy",
                    "Hồ Hữu Thông",
                    "Nguyễn Thị Tố Trâm",
                    "Nguyễn Phấn Sinh",
                    "Thang Hữu Duy",
                    "Nguyễn Thị Phương Uyên",
                    "Quách Văn Nguyên",
                    "Đinh Thị Thu Thảo",
                    "Lê Thị Quỳnh Trang",
                    "Đô Bá Dũng",
                    "Nguyễn Ngọc Thắng",
                    "Dương Thị Hoa",
                    "Đỗ Thị Hường",
                    "Nguyễn Thị Thái Phương",
                    "Nguyễn Anh Tuấn",
                    "Nguyễn Thị Minh Ngọc",
                    "Lê Văn Thành",
                    "Nguyễn Công Toàn",
                    "Đinh Minh Thư",
                    "Nguyễn Ngọc Thành",
                    "Nguyễn Thị Thúy Hằng",
                    "Nguyễn Mạnh Cường",
                    "Nguyễn Ngọc Thắng",
                    "Đinh Thị Thu Thảo",
                    "Lê Thị Hồng Thúy",
                    "Nguyễn Thị Thúy Hằng",
                    "Nguyễn Thành Phi",
                    "Hà Thị Thủy Tiên",
                    "Đặng Thị Trúc Duyên",
                    "Nguyễn Thị Ngọc Lan",
                    "Nguyễn Mạnh Cường",
                    "Hồ Hữu Thông"
                  ]
                }
              ],
              "layout": {
                "shapes": [
                  {
                    "layer": "below",
                    "line": {
                      "color": "darkblue",
                      "width": 4
                    },
                    "type": "line",
                    "x0": 0.6666666666666666,
                    "x1": 0,
                    "y0": "Nguyễn Thanh Hải",
                    "y1": "Nguyễn Thanh Hải"
                  },
                  {
                    "layer": "below",
                    "line": {
                      "color": "darkblue",
                      "width": 4
                    },
                    "type": "line",
                    "x0": 0.6666666666666666,
                    "x1": 0,
                    "y0": "Phạm Thị Trang Nhung",
                    "y1": "Phạm Thị Trang Nhung"
                  },
                  {
                    "layer": "below",
                    "line": {
                      "color": "darkblue",
                      "width": 4
                    },
                    "type": "line",
                    "x0": 1,
                    "x1": 0,
                    "y0": "Nguyễn Duy Minh",
                    "y1": "Nguyễn Duy Minh"
                  },
                  {
                    "layer": "below",
                    "line": {
                      "color": "darkblue",
                      "width": 4
                    },
                    "type": "line",
                    "x0": 1,
                    "x1": 0,
                    "y0": "Tạ Phương Thành",
                    "y1": "Tạ Phương Thành"
                  },
                  {
                    "layer": "below",
                    "line": {
                      "color": "darkblue",
                      "width": 4
                    },
                    "type": "line",
                    "x0": 1,
                    "x1": 0,
                    "y0": "Nguyễn Phan Quỳnh Na",
                    "y1": "Nguyễn Phan Quỳnh Na"
                  },
                  {
                    "layer": "below",
                    "line": {
                      "color": "darkblue",
                      "width": 4
                    },
                    "type": "line",
                    "x0": 1,
                    "x1": 0,
                    "y0": "Mai Hoàng Phú",
                    "y1": "Mai Hoàng Phú"
                  },
                  {
                    "layer": "below",
                    "line": {
                      "color": "darkblue",
                      "width": 4
                    },
                    "type": "line",
                    "x0": 1,
                    "x1": 0,
                    "y0": "Lê Minh Tùng",
                    "y1": "Lê Minh Tùng"
                  },
                  {
                    "layer": "below",
                    "line": {
                      "color": "darkblue",
                      "width": 4
                    },
                    "type": "line",
                    "x0": 1,
                    "x1": 0,
                    "y0": "Nguyễn Xuân Trường",
                    "y1": "Nguyễn Xuân Trường"
                  },
                  {
                    "layer": "below",
                    "line": {
                      "color": "darkblue",
                      "width": 4
                    },
                    "type": "line",
                    "x0": 1,
                    "x1": 0,
                    "y0": "Dương Đình Tân",
                    "y1": "Dương Đình Tân"
                  },
                  {
                    "layer": "below",
                    "line": {
                      "color": "darkblue",
                      "width": 4
                    },
                    "type": "line",
                    "x0": 2,
                    "x1": 0,
                    "y0": "Nguyễn Thành Phi",
                    "y1": "Nguyễn Thành Phi"
                  },
                  {
                    "layer": "below",
                    "line": {
                      "color": "darkblue",
                      "width": 4
                    },
                    "type": "line",
                    "x0": 1,
                    "x1": 0,
                    "y0": "Đinh Thị Thu Thảo",
                    "y1": "Đinh Thị Thu Thảo"
                  },
                  {
                    "layer": "below",
                    "line": {
                      "color": "darkblue",
                      "width": 4
                    },
                    "type": "line",
                    "x0": 1,
                    "x1": 0,
                    "y0": "Nguyễn Thị Thảo Yến",
                    "y1": "Nguyễn Thị Thảo Yến"
                  },
                  {
                    "layer": "below",
                    "line": {
                      "color": "darkblue",
                      "width": 4
                    },
                    "type": "line",
                    "x0": 1,
                    "x1": 0,
                    "y0": "Nguyễn Chính Hiệp",
                    "y1": "Nguyễn Chính Hiệp"
                  },
                  {
                    "layer": "below",
                    "line": {
                      "color": "darkblue",
                      "width": 4
                    },
                    "type": "line",
                    "x0": 1,
                    "x1": 0,
                    "y0": "Huỳnh Thị Bích Tuyền",
                    "y1": "Huỳnh Thị Bích Tuyền"
                  },
                  {
                    "layer": "below",
                    "line": {
                      "color": "darkblue",
                      "width": 4
                    },
                    "type": "line",
                    "x0": 1,
                    "x1": 0,
                    "y0": "Phạm Ngọc Điệp",
                    "y1": "Phạm Ngọc Điệp"
                  },
                  {
                    "layer": "below",
                    "line": {
                      "color": "darkblue",
                      "width": 4
                    },
                    "type": "line",
                    "x0": 1,
                    "x1": 0,
                    "y0": "Nguyễn Thanh Hải",
                    "y1": "Nguyễn Thanh Hải"
                  },
                  {
                    "layer": "below",
                    "line": {
                      "color": "darkblue",
                      "width": 4
                    },
                    "type": "line",
                    "x0": 1,
                    "x1": 0,
                    "y0": "Nguyễn Ngọc Thắng",
                    "y1": "Nguyễn Ngọc Thắng"
                  },
                  {
                    "layer": "below",
                    "line": {
                      "color": "darkblue",
                      "width": 4
                    },
                    "type": "line",
                    "x0": 2,
                    "x1": 0,
                    "y0": "Nguyễn Thị Ngọc Lan",
                    "y1": "Nguyễn Thị Ngọc Lan"
                  },
                  {
                    "layer": "below",
                    "line": {
                      "color": "darkblue",
                      "width": 4
                    },
                    "type": "line",
                    "x0": 2,
                    "x1": 0,
                    "y0": "Đặng Thị Trúc Duyên",
                    "y1": "Đặng Thị Trúc Duyên"
                  },
                  {
                    "layer": "below",
                    "line": {
                      "color": "darkblue",
                      "width": 4
                    },
                    "type": "line",
                    "x0": 2,
                    "x1": 0,
                    "y0": "Hà Thị Thủy Tiên",
                    "y1": "Hà Thị Thủy Tiên"
                  },
                  {
                    "layer": "below",
                    "line": {
                      "color": "darkblue",
                      "width": 4
                    },
                    "type": "line",
                    "x0": 0.5714285714285714,
                    "x1": 0,
                    "y0": "Phạm Văn Thìn",
                    "y1": "Phạm Văn Thìn"
                  },
                  {
                    "layer": "below",
                    "line": {
                      "color": "darkblue",
                      "width": 4
                    },
                    "type": "line",
                    "x0": 1,
                    "x1": 0,
                    "y0": "Lê Hoàng Dzũ",
                    "y1": "Lê Hoàng Dzũ"
                  },
                  {
                    "layer": "below",
                    "line": {
                      "color": "darkblue",
                      "width": 4
                    },
                    "type": "line",
                    "x0": 1,
                    "x1": 0,
                    "y0": "LÊ THANH HẬU",
                    "y1": "LÊ THANH HẬU"
                  },
                  {
                    "layer": "below",
                    "line": {
                      "color": "darkblue",
                      "width": 4
                    },
                    "type": "line",
                    "x0": 1,
                    "x1": 0,
                    "y0": "Trần Nho Liêm",
                    "y1": "Trần Nho Liêm"
                  },
                  {
                    "layer": "below",
                    "line": {
                      "color": "darkblue",
                      "width": 4
                    },
                    "type": "line",
                    "x0": 1,
                    "x1": 0,
                    "y0": "Phạm Thị Hoa Mai",
                    "y1": "Phạm Thị Hoa Mai"
                  },
                  {
                    "layer": "below",
                    "line": {
                      "color": "darkblue",
                      "width": 4
                    },
                    "type": "line",
                    "x0": 1,
                    "x1": 0,
                    "y0": "Nguyễn Hải Đăng",
                    "y1": "Nguyễn Hải Đăng"
                  },
                  {
                    "layer": "below",
                    "line": {
                      "color": "darkblue",
                      "width": 4
                    },
                    "type": "line",
                    "x0": 1,
                    "x1": 0,
                    "y0": "Nguyễn Đình Trí",
                    "y1": "Nguyễn Đình Trí"
                  },
                  {
                    "layer": "below",
                    "line": {
                      "color": "darkblue",
                      "width": 4
                    },
                    "type": "line",
                    "x0": 1,
                    "x1": 0,
                    "y0": "Trần Thị Lâm Quỳnh",
                    "y1": "Trần Thị Lâm Quỳnh"
                  },
                  {
                    "layer": "below",
                    "line": {
                      "color": "darkblue",
                      "width": 4
                    },
                    "type": "line",
                    "x0": 1.5,
                    "x1": 0,
                    "y0": "Lê Thị Hồng Thúy",
                    "y1": "Lê Thị Hồng Thúy"
                  },
                  {
                    "layer": "below",
                    "line": {
                      "color": "darkblue",
                      "width": 4
                    },
                    "type": "line",
                    "x0": 3,
                    "x1": 0,
                    "y0": "Hồ Hữu Thông",
                    "y1": "Hồ Hữu Thông"
                  },
                  {
                    "layer": "below",
                    "line": {
                      "color": "darkblue",
                      "width": 4
                    },
                    "type": "line",
                    "x0": 0.5,
                    "x1": 0,
                    "y0": "Nguyễn Thị Tố Trâm",
                    "y1": "Nguyễn Thị Tố Trâm"
                  },
                  {
                    "layer": "below",
                    "line": {
                      "color": "darkblue",
                      "width": 4
                    },
                    "type": "line",
                    "x0": 1,
                    "x1": 0,
                    "y0": "Nguyễn Phấn Sinh",
                    "y1": "Nguyễn Phấn Sinh"
                  },
                  {
                    "layer": "below",
                    "line": {
                      "color": "darkblue",
                      "width": 4
                    },
                    "type": "line",
                    "x0": 1,
                    "x1": 0,
                    "y0": "Thang Hữu Duy",
                    "y1": "Thang Hữu Duy"
                  },
                  {
                    "layer": "below",
                    "line": {
                      "color": "darkblue",
                      "width": 4
                    },
                    "type": "line",
                    "x0": 1,
                    "x1": 0,
                    "y0": "Nguyễn Thị Phương Uyên",
                    "y1": "Nguyễn Thị Phương Uyên"
                  },
                  {
                    "layer": "below",
                    "line": {
                      "color": "darkblue",
                      "width": 4
                    },
                    "type": "line",
                    "x0": 1,
                    "x1": 0,
                    "y0": "Quách Văn Nguyên",
                    "y1": "Quách Văn Nguyên"
                  },
                  {
                    "layer": "below",
                    "line": {
                      "color": "darkblue",
                      "width": 4
                    },
                    "type": "line",
                    "x0": 1,
                    "x1": 0,
                    "y0": "Đinh Thị Thu Thảo",
                    "y1": "Đinh Thị Thu Thảo"
                  },
                  {
                    "layer": "below",
                    "line": {
                      "color": "darkblue",
                      "width": 4
                    },
                    "type": "line",
                    "x0": 1,
                    "x1": 0,
                    "y0": "Lê Thị Quỳnh Trang",
                    "y1": "Lê Thị Quỳnh Trang"
                  },
                  {
                    "layer": "below",
                    "line": {
                      "color": "darkblue",
                      "width": 4
                    },
                    "type": "line",
                    "x0": 1,
                    "x1": 0,
                    "y0": "Đô Bá Dũng",
                    "y1": "Đô Bá Dũng"
                  },
                  {
                    "layer": "below",
                    "line": {
                      "color": "darkblue",
                      "width": 4
                    },
                    "type": "line",
                    "x0": 1,
                    "x1": 0,
                    "y0": "Nguyễn Ngọc Thắng",
                    "y1": "Nguyễn Ngọc Thắng"
                  },
                  {
                    "layer": "below",
                    "line": {
                      "color": "darkblue",
                      "width": 4
                    },
                    "type": "line",
                    "x0": 1,
                    "x1": 0,
                    "y0": "Dương Thị Hoa",
                    "y1": "Dương Thị Hoa"
                  },
                  {
                    "layer": "below",
                    "line": {
                      "color": "darkblue",
                      "width": 4
                    },
                    "type": "line",
                    "x0": 0.6666666666666666,
                    "x1": 0,
                    "y0": "Đỗ Thị Hường",
                    "y1": "Đỗ Thị Hường"
                  },
                  {
                    "layer": "below",
                    "line": {
                      "color": "darkblue",
                      "width": 4
                    },
                    "type": "line",
                    "x0": 1,
                    "x1": 0,
                    "y0": "Nguyễn Thị Thái Phương",
                    "y1": "Nguyễn Thị Thái Phương"
                  },
                  {
                    "layer": "below",
                    "line": {
                      "color": "darkblue",
                      "width": 4
                    },
                    "type": "line",
                    "x0": 1,
                    "x1": 0,
                    "y0": "Nguyễn Anh Tuấn",
                    "y1": "Nguyễn Anh Tuấn"
                  },
                  {
                    "layer": "below",
                    "line": {
                      "color": "darkblue",
                      "width": 4
                    },
                    "type": "line",
                    "x0": 1,
                    "x1": 0,
                    "y0": "Nguyễn Thị Minh Ngọc",
                    "y1": "Nguyễn Thị Minh Ngọc"
                  },
                  {
                    "layer": "below",
                    "line": {
                      "color": "darkblue",
                      "width": 4
                    },
                    "type": "line",
                    "x0": 1,
                    "x1": 0,
                    "y0": "Lê Văn Thành",
                    "y1": "Lê Văn Thành"
                  },
                  {
                    "layer": "below",
                    "line": {
                      "color": "darkblue",
                      "width": 4
                    },
                    "type": "line",
                    "x0": 1,
                    "x1": 0,
                    "y0": "Nguyễn Công Toàn",
                    "y1": "Nguyễn Công Toàn"
                  },
                  {
                    "layer": "below",
                    "line": {
                      "color": "darkblue",
                      "width": 4
                    },
                    "type": "line",
                    "x0": 1,
                    "x1": 0,
                    "y0": "Đinh Minh Thư",
                    "y1": "Đinh Minh Thư"
                  },
                  {
                    "layer": "below",
                    "line": {
                      "color": "darkblue",
                      "width": 4
                    },
                    "type": "line",
                    "x0": 1,
                    "x1": 0,
                    "y0": "Nguyễn Ngọc Thành",
                    "y1": "Nguyễn Ngọc Thành"
                  },
                  {
                    "layer": "below",
                    "line": {
                      "color": "darkblue",
                      "width": 4
                    },
                    "type": "line",
                    "x0": 1.5,
                    "x1": 0,
                    "y0": "Nguyễn Thị Thúy Hằng",
                    "y1": "Nguyễn Thị Thúy Hằng"
                  },
                  {
                    "layer": "below",
                    "line": {
                      "color": "darkblue",
                      "width": 4
                    },
                    "type": "line",
                    "x0": 3,
                    "x1": 0,
                    "y0": "Nguyễn Mạnh Cường",
                    "y1": "Nguyễn Mạnh Cường"
                  },
                  {
                    "layer": "below",
                    "line": {
                      "color": "darkblue",
                      "width": 4
                    },
                    "type": "line",
                    "x0": 1,
                    "x1": 0,
                    "y0": "Nguyễn Ngọc Thắng",
                    "y1": "Nguyễn Ngọc Thắng"
                  },
                  {
                    "layer": "below",
                    "line": {
                      "color": "darkblue",
                      "width": 4
                    },
                    "type": "line",
                    "x0": 1,
                    "x1": 0,
                    "y0": "Đinh Thị Thu Thảo",
                    "y1": "Đinh Thị Thu Thảo"
                  },
                  {
                    "layer": "below",
                    "line": {
                      "color": "darkblue",
                      "width": 4
                    },
                    "type": "line",
                    "x0": 1.5,
                    "x1": 0,
                    "y0": "Lê Thị Hồng Thúy",
                    "y1": "Lê Thị Hồng Thúy"
                  },
                  {
                    "layer": "below",
                    "line": {
                      "color": "darkblue",
                      "width": 4
                    },
                    "type": "line",
                    "x0": 1.5,
                    "x1": 0,
                    "y0": "Nguyễn Thị Thúy Hằng",
                    "y1": "Nguyễn Thị Thúy Hằng"
                  },
                  {
                    "layer": "below",
                    "line": {
                      "color": "darkblue",
                      "width": 4
                    },
                    "type": "line",
                    "x0": 2,
                    "x1": 0,
                    "y0": "Nguyễn Thành Phi",
                    "y1": "Nguyễn Thành Phi"
                  },
                  {
                    "layer": "below",
                    "line": {
                      "color": "darkblue",
                      "width": 4
                    },
                    "type": "line",
                    "x0": 2,
                    "x1": 0,
                    "y0": "Hà Thị Thủy Tiên",
                    "y1": "Hà Thị Thủy Tiên"
                  },
                  {
                    "layer": "below",
                    "line": {
                      "color": "darkblue",
                      "width": 4
                    },
                    "type": "line",
                    "x0": 2,
                    "x1": 0,
                    "y0": "Đặng Thị Trúc Duyên",
                    "y1": "Đặng Thị Trúc Duyên"
                  },
                  {
                    "layer": "below",
                    "line": {
                      "color": "darkblue",
                      "width": 4
                    },
                    "type": "line",
                    "x0": 2,
                    "x1": 0,
                    "y0": "Nguyễn Thị Ngọc Lan",
                    "y1": "Nguyễn Thị Ngọc Lan"
                  },
                  {
                    "layer": "below",
                    "line": {
                      "color": "darkblue",
                      "width": 4
                    },
                    "type": "line",
                    "x0": 3,
                    "x1": 0,
                    "y0": "Nguyễn Mạnh Cường",
                    "y1": "Nguyễn Mạnh Cường"
                  },
                  {
                    "layer": "below",
                    "line": {
                      "color": "darkblue",
                      "width": 4
                    },
                    "type": "line",
                    "x0": 3,
                    "x1": 0,
                    "y0": "Hồ Hữu Thông",
                    "y1": "Hồ Hữu Thông"
                  }
                ],
                "template": {
                  "data": {
                    "bar": [
                      {
                        "error_x": {
                          "color": "#2a3f5f"
                        },
                        "error_y": {
                          "color": "#2a3f5f"
                        },
                        "marker": {
                          "line": {
                            "color": "white",
                            "width": 0.5
                          },
                          "pattern": {
                            "fillmode": "overlay",
                            "size": 10,
                            "solidity": 0.2
                          }
                        },
                        "type": "bar"
                      }
                    ],
                    "barpolar": [
                      {
                        "marker": {
                          "line": {
                            "color": "white",
                            "width": 0.5
                          },
                          "pattern": {
                            "fillmode": "overlay",
                            "size": 10,
                            "solidity": 0.2
                          }
                        },
                        "type": "barpolar"
                      }
                    ],
                    "carpet": [
                      {
                        "aaxis": {
                          "endlinecolor": "#2a3f5f",
                          "gridcolor": "#C8D4E3",
                          "linecolor": "#C8D4E3",
                          "minorgridcolor": "#C8D4E3",
                          "startlinecolor": "#2a3f5f"
                        },
                        "baxis": {
                          "endlinecolor": "#2a3f5f",
                          "gridcolor": "#C8D4E3",
                          "linecolor": "#C8D4E3",
                          "minorgridcolor": "#C8D4E3",
                          "startlinecolor": "#2a3f5f"
                        },
                        "type": "carpet"
                      }
                    ],
                    "choropleth": [
                      {
                        "colorbar": {
                          "outlinewidth": 0,
                          "ticks": ""
                        },
                        "type": "choropleth"
                      }
                    ],
                    "contour": [
                      {
                        "colorbar": {
                          "outlinewidth": 0,
                          "ticks": ""
                        },
                        "colorscale": [
                          [
                            0,
                            "#0d0887"
                          ],
                          [
                            0.1111111111111111,
                            "#46039f"
                          ],
                          [
                            0.2222222222222222,
                            "#7201a8"
                          ],
                          [
                            0.3333333333333333,
                            "#9c179e"
                          ],
                          [
                            0.4444444444444444,
                            "#bd3786"
                          ],
                          [
                            0.5555555555555556,
                            "#d8576b"
                          ],
                          [
                            0.6666666666666666,
                            "#ed7953"
                          ],
                          [
                            0.7777777777777778,
                            "#fb9f3a"
                          ],
                          [
                            0.8888888888888888,
                            "#fdca26"
                          ],
                          [
                            1,
                            "#f0f921"
                          ]
                        ],
                        "type": "contour"
                      }
                    ],
                    "contourcarpet": [
                      {
                        "colorbar": {
                          "outlinewidth": 0,
                          "ticks": ""
                        },
                        "type": "contourcarpet"
                      }
                    ],
                    "heatmap": [
                      {
                        "colorbar": {
                          "outlinewidth": 0,
                          "ticks": ""
                        },
                        "colorscale": [
                          [
                            0,
                            "#0d0887"
                          ],
                          [
                            0.1111111111111111,
                            "#46039f"
                          ],
                          [
                            0.2222222222222222,
                            "#7201a8"
                          ],
                          [
                            0.3333333333333333,
                            "#9c179e"
                          ],
                          [
                            0.4444444444444444,
                            "#bd3786"
                          ],
                          [
                            0.5555555555555556,
                            "#d8576b"
                          ],
                          [
                            0.6666666666666666,
                            "#ed7953"
                          ],
                          [
                            0.7777777777777778,
                            "#fb9f3a"
                          ],
                          [
                            0.8888888888888888,
                            "#fdca26"
                          ],
                          [
                            1,
                            "#f0f921"
                          ]
                        ],
                        "type": "heatmap"
                      }
                    ],
                    "heatmapgl": [
                      {
                        "colorbar": {
                          "outlinewidth": 0,
                          "ticks": ""
                        },
                        "colorscale": [
                          [
                            0,
                            "#0d0887"
                          ],
                          [
                            0.1111111111111111,
                            "#46039f"
                          ],
                          [
                            0.2222222222222222,
                            "#7201a8"
                          ],
                          [
                            0.3333333333333333,
                            "#9c179e"
                          ],
                          [
                            0.4444444444444444,
                            "#bd3786"
                          ],
                          [
                            0.5555555555555556,
                            "#d8576b"
                          ],
                          [
                            0.6666666666666666,
                            "#ed7953"
                          ],
                          [
                            0.7777777777777778,
                            "#fb9f3a"
                          ],
                          [
                            0.8888888888888888,
                            "#fdca26"
                          ],
                          [
                            1,
                            "#f0f921"
                          ]
                        ],
                        "type": "heatmapgl"
                      }
                    ],
                    "histogram": [
                      {
                        "marker": {
                          "pattern": {
                            "fillmode": "overlay",
                            "size": 10,
                            "solidity": 0.2
                          }
                        },
                        "type": "histogram"
                      }
                    ],
                    "histogram2d": [
                      {
                        "colorbar": {
                          "outlinewidth": 0,
                          "ticks": ""
                        },
                        "colorscale": [
                          [
                            0,
                            "#0d0887"
                          ],
                          [
                            0.1111111111111111,
                            "#46039f"
                          ],
                          [
                            0.2222222222222222,
                            "#7201a8"
                          ],
                          [
                            0.3333333333333333,
                            "#9c179e"
                          ],
                          [
                            0.4444444444444444,
                            "#bd3786"
                          ],
                          [
                            0.5555555555555556,
                            "#d8576b"
                          ],
                          [
                            0.6666666666666666,
                            "#ed7953"
                          ],
                          [
                            0.7777777777777778,
                            "#fb9f3a"
                          ],
                          [
                            0.8888888888888888,
                            "#fdca26"
                          ],
                          [
                            1,
                            "#f0f921"
                          ]
                        ],
                        "type": "histogram2d"
                      }
                    ],
                    "histogram2dcontour": [
                      {
                        "colorbar": {
                          "outlinewidth": 0,
                          "ticks": ""
                        },
                        "colorscale": [
                          [
                            0,
                            "#0d0887"
                          ],
                          [
                            0.1111111111111111,
                            "#46039f"
                          ],
                          [
                            0.2222222222222222,
                            "#7201a8"
                          ],
                          [
                            0.3333333333333333,
                            "#9c179e"
                          ],
                          [
                            0.4444444444444444,
                            "#bd3786"
                          ],
                          [
                            0.5555555555555556,
                            "#d8576b"
                          ],
                          [
                            0.6666666666666666,
                            "#ed7953"
                          ],
                          [
                            0.7777777777777778,
                            "#fb9f3a"
                          ],
                          [
                            0.8888888888888888,
                            "#fdca26"
                          ],
                          [
                            1,
                            "#f0f921"
                          ]
                        ],
                        "type": "histogram2dcontour"
                      }
                    ],
                    "mesh3d": [
                      {
                        "colorbar": {
                          "outlinewidth": 0,
                          "ticks": ""
                        },
                        "type": "mesh3d"
                      }
                    ],
                    "parcoords": [
                      {
                        "line": {
                          "colorbar": {
                            "outlinewidth": 0,
                            "ticks": ""
                          }
                        },
                        "type": "parcoords"
                      }
                    ],
                    "pie": [
                      {
                        "automargin": true,
                        "type": "pie"
                      }
                    ],
                    "scatter": [
                      {
                        "fillpattern": {
                          "fillmode": "overlay",
                          "size": 10,
                          "solidity": 0.2
                        },
                        "type": "scatter"
                      }
                    ],
                    "scatter3d": [
                      {
                        "line": {
                          "colorbar": {
                            "outlinewidth": 0,
                            "ticks": ""
                          }
                        },
                        "marker": {
                          "colorbar": {
                            "outlinewidth": 0,
                            "ticks": ""
                          }
                        },
                        "type": "scatter3d"
                      }
                    ],
                    "scattercarpet": [
                      {
                        "marker": {
                          "colorbar": {
                            "outlinewidth": 0,
                            "ticks": ""
                          }
                        },
                        "type": "scattercarpet"
                      }
                    ],
                    "scattergeo": [
                      {
                        "marker": {
                          "colorbar": {
                            "outlinewidth": 0,
                            "ticks": ""
                          }
                        },
                        "type": "scattergeo"
                      }
                    ],
                    "scattergl": [
                      {
                        "marker": {
                          "colorbar": {
                            "outlinewidth": 0,
                            "ticks": ""
                          }
                        },
                        "type": "scattergl"
                      }
                    ],
                    "scattermapbox": [
                      {
                        "marker": {
                          "colorbar": {
                            "outlinewidth": 0,
                            "ticks": ""
                          }
                        },
                        "type": "scattermapbox"
                      }
                    ],
                    "scatterpolar": [
                      {
                        "marker": {
                          "colorbar": {
                            "outlinewidth": 0,
                            "ticks": ""
                          }
                        },
                        "type": "scatterpolar"
                      }
                    ],
                    "scatterpolargl": [
                      {
                        "marker": {
                          "colorbar": {
                            "outlinewidth": 0,
                            "ticks": ""
                          }
                        },
                        "type": "scatterpolargl"
                      }
                    ],
                    "scatterternary": [
                      {
                        "marker": {
                          "colorbar": {
                            "outlinewidth": 0,
                            "ticks": ""
                          }
                        },
                        "type": "scatterternary"
                      }
                    ],
                    "surface": [
                      {
                        "colorbar": {
                          "outlinewidth": 0,
                          "ticks": ""
                        },
                        "colorscale": [
                          [
                            0,
                            "#0d0887"
                          ],
                          [
                            0.1111111111111111,
                            "#46039f"
                          ],
                          [
                            0.2222222222222222,
                            "#7201a8"
                          ],
                          [
                            0.3333333333333333,
                            "#9c179e"
                          ],
                          [
                            0.4444444444444444,
                            "#bd3786"
                          ],
                          [
                            0.5555555555555556,
                            "#d8576b"
                          ],
                          [
                            0.6666666666666666,
                            "#ed7953"
                          ],
                          [
                            0.7777777777777778,
                            "#fb9f3a"
                          ],
                          [
                            0.8888888888888888,
                            "#fdca26"
                          ],
                          [
                            1,
                            "#f0f921"
                          ]
                        ],
                        "type": "surface"
                      }
                    ],
                    "table": [
                      {
                        "cells": {
                          "fill": {
                            "color": "#EBF0F8"
                          },
                          "line": {
                            "color": "white"
                          }
                        },
                        "header": {
                          "fill": {
                            "color": "#C8D4E3"
                          },
                          "line": {
                            "color": "white"
                          }
                        },
                        "type": "table"
                      }
                    ]
                  },
                  "layout": {
                    "annotationdefaults": {
                      "arrowcolor": "#2a3f5f",
                      "arrowhead": 0,
                      "arrowwidth": 1
                    },
                    "autotypenumbers": "strict",
                    "coloraxis": {
                      "colorbar": {
                        "outlinewidth": 0,
                        "ticks": ""
                      }
                    },
                    "colorscale": {
                      "diverging": [
                        [
                          0,
                          "#8e0152"
                        ],
                        [
                          0.1,
                          "#c51b7d"
                        ],
                        [
                          0.2,
                          "#de77ae"
                        ],
                        [
                          0.3,
                          "#f1b6da"
                        ],
                        [
                          0.4,
                          "#fde0ef"
                        ],
                        [
                          0.5,
                          "#f7f7f7"
                        ],
                        [
                          0.6,
                          "#e6f5d0"
                        ],
                        [
                          0.7,
                          "#b8e186"
                        ],
                        [
                          0.8,
                          "#7fbc41"
                        ],
                        [
                          0.9,
                          "#4d9221"
                        ],
                        [
                          1,
                          "#276419"
                        ]
                      ],
                      "sequential": [
                        [
                          0,
                          "#0d0887"
                        ],
                        [
                          0.1111111111111111,
                          "#46039f"
                        ],
                        [
                          0.2222222222222222,
                          "#7201a8"
                        ],
                        [
                          0.3333333333333333,
                          "#9c179e"
                        ],
                        [
                          0.4444444444444444,
                          "#bd3786"
                        ],
                        [
                          0.5555555555555556,
                          "#d8576b"
                        ],
                        [
                          0.6666666666666666,
                          "#ed7953"
                        ],
                        [
                          0.7777777777777778,
                          "#fb9f3a"
                        ],
                        [
                          0.8888888888888888,
                          "#fdca26"
                        ],
                        [
                          1,
                          "#f0f921"
                        ]
                      ],
                      "sequentialminus": [
                        [
                          0,
                          "#0d0887"
                        ],
                        [
                          0.1111111111111111,
                          "#46039f"
                        ],
                        [
                          0.2222222222222222,
                          "#7201a8"
                        ],
                        [
                          0.3333333333333333,
                          "#9c179e"
                        ],
                        [
                          0.4444444444444444,
                          "#bd3786"
                        ],
                        [
                          0.5555555555555556,
                          "#d8576b"
                        ],
                        [
                          0.6666666666666666,
                          "#ed7953"
                        ],
                        [
                          0.7777777777777778,
                          "#fb9f3a"
                        ],
                        [
                          0.8888888888888888,
                          "#fdca26"
                        ],
                        [
                          1,
                          "#f0f921"
                        ]
                      ]
                    },
                    "colorway": [
                      "#636efa",
                      "#EF553B",
                      "#00cc96",
                      "#ab63fa",
                      "#FFA15A",
                      "#19d3f3",
                      "#FF6692",
                      "#B6E880",
                      "#FF97FF",
                      "#FECB52"
                    ],
                    "font": {
                      "color": "#2a3f5f"
                    },
                    "geo": {
                      "bgcolor": "white",
                      "lakecolor": "white",
                      "landcolor": "white",
                      "showlakes": true,
                      "showland": true,
                      "subunitcolor": "#C8D4E3"
                    },
                    "hoverlabel": {
                      "align": "left"
                    },
                    "hovermode": "closest",
                    "mapbox": {
                      "style": "light"
                    },
                    "paper_bgcolor": "white",
                    "plot_bgcolor": "white",
                    "polar": {
                      "angularaxis": {
                        "gridcolor": "#EBF0F8",
                        "linecolor": "#EBF0F8",
                        "ticks": ""
                      },
                      "bgcolor": "white",
                      "radialaxis": {
                        "gridcolor": "#EBF0F8",
                        "linecolor": "#EBF0F8",
                        "ticks": ""
                      }
                    },
                    "scene": {
                      "xaxis": {
                        "backgroundcolor": "white",
                        "gridcolor": "#DFE8F3",
                        "gridwidth": 2,
                        "linecolor": "#EBF0F8",
                        "showbackground": true,
                        "ticks": "",
                        "zerolinecolor": "#EBF0F8"
                      },
                      "yaxis": {
                        "backgroundcolor": "white",
                        "gridcolor": "#DFE8F3",
                        "gridwidth": 2,
                        "linecolor": "#EBF0F8",
                        "showbackground": true,
                        "ticks": "",
                        "zerolinecolor": "#EBF0F8"
                      },
                      "zaxis": {
                        "backgroundcolor": "white",
                        "gridcolor": "#DFE8F3",
                        "gridwidth": 2,
                        "linecolor": "#EBF0F8",
                        "showbackground": true,
                        "ticks": "",
                        "zerolinecolor": "#EBF0F8"
                      }
                    },
                    "shapedefaults": {
                      "line": {
                        "color": "#2a3f5f"
                      }
                    },
                    "ternary": {
                      "aaxis": {
                        "gridcolor": "#DFE8F3",
                        "linecolor": "#A2B1C6",
                        "ticks": ""
                      },
                      "baxis": {
                        "gridcolor": "#DFE8F3",
                        "linecolor": "#A2B1C6",
                        "ticks": ""
                      },
                      "bgcolor": "white",
                      "caxis": {
                        "gridcolor": "#DFE8F3",
                        "linecolor": "#A2B1C6",
                        "ticks": ""
                      }
                    },
                    "title": {
                      "x": 0.05
                    },
                    "xaxis": {
                      "automargin": true,
                      "gridcolor": "#EBF0F8",
                      "linecolor": "#EBF0F8",
                      "ticks": "",
                      "title": {
                        "standoff": 15
                      },
                      "zerolinecolor": "#EBF0F8",
                      "zerolinewidth": 2
                    },
                    "yaxis": {
                      "automargin": true,
                      "gridcolor": "#EBF0F8",
                      "linecolor": "#EBF0F8",
                      "ticks": "",
                      "title": {
                        "standoff": 15
                      },
                      "zerolinecolor": "#EBF0F8",
                      "zerolinewidth": 2
                    }
                  }
                },
                "title": {
                  "text": "A horizontal lollipop chart with lines",
                  "x": 0.5,
                  "y": 0.9
                },
                "updatemenus": [
                  {
                    "buttons": [
                      {
                        "args": [
                          {
                            "x": [
                              [
                                0.6666666666666666,
                                0.6666666666666666,
                                1,
                                1,
                                1,
                                1,
                                1,
                                1,
                                1,
                                2
                              ]
                            ],
                            "y": [
                              [
                                "Nguyễn Thanh Hải",
                                "Phạm Thị Trang Nhung",
                                "Nguyễn Duy Minh",
                                "Tạ Phương Thành",
                                "Nguyễn Phan Quỳnh Na",
                                "Mai Hoàng Phú",
                                "Lê Minh Tùng",
                                "Nguyễn Xuân Trường",
                                "Dương Đình Tân",
                                "Nguyễn Thành Phi"
                              ]
                            ]
                          }
                        ],
                        "label": "Tuần 27.02 - 05.03",
                        "method": "restyle"
                      },
                      {
                        "args": [
                          {
                            "x": [
                              [
                                1,
                                1,
                                1,
                                1,
                                1,
                                1,
                                1,
                                2,
                                2,
                                2
                              ]
                            ],
                            "y": [
                              [
                                "Đinh Thị Thu Thảo",
                                "Nguyễn Thị Thảo Yến",
                                "Nguyễn Chính Hiệp",
                                "Huỳnh Thị Bích Tuyền",
                                "Phạm Ngọc Điệp",
                                "Nguyễn Thanh Hải",
                                "Nguyễn Ngọc Thắng",
                                "Nguyễn Thị Ngọc Lan",
                                "Đặng Thị Trúc Duyên",
                                "Hà Thị Thủy Tiên"
                              ]
                            ]
                          }
                        ],
                        "label": "Tuần 06.03 - 12.03",
                        "method": "restyle"
                      },
                      {
                        "args": [
                          {
                            "x": [
                              [
                                0.5714285714285714,
                                1,
                                1,
                                1,
                                1,
                                1,
                                1,
                                1,
                                1.5,
                                3
                              ]
                            ],
                            "y": [
                              [
                                "Phạm Văn Thìn",
                                "Lê Hoàng Dzũ",
                                "LÊ THANH HẬU",
                                "Trần Nho Liêm",
                                "Phạm Thị Hoa Mai",
                                "Nguyễn Hải Đăng",
                                "Nguyễn Đình Trí",
                                "Trần Thị Lâm Quỳnh",
                                "Lê Thị Hồng Thúy",
                                "Hồ Hữu Thông"
                              ]
                            ]
                          }
                        ],
                        "label": "Tuần 13.03 - 19.03",
                        "method": "restyle"
                      },
                      {
                        "args": [
                          {
                            "x": [
                              [
                                0.5,
                                1,
                                1,
                                1,
                                1,
                                1,
                                1,
                                1,
                                1,
                                1
                              ]
                            ],
                            "y": [
                              [
                                "Nguyễn Thị Tố Trâm",
                                "Nguyễn Phấn Sinh",
                                "Thang Hữu Duy",
                                "Nguyễn Thị Phương Uyên",
                                "Quách Văn Nguyên",
                                "Đinh Thị Thu Thảo",
                                "Lê Thị Quỳnh Trang",
                                "Đô Bá Dũng",
                                "Nguyễn Ngọc Thắng",
                                "Dương Thị Hoa"
                              ]
                            ]
                          }
                        ],
                        "label": "Tuần 20.03 - 26.03",
                        "method": "restyle"
                      },
                      {
                        "args": [
                          {
                            "x": [
                              [
                                0.6666666666666666,
                                1,
                                1,
                                1,
                                1,
                                1,
                                1,
                                1,
                                1.5,
                                3
                              ]
                            ],
                            "y": [
                              [
                                "Đỗ Thị Hường",
                                "Nguyễn Thị Thái Phương",
                                "Nguyễn Anh Tuấn",
                                "Nguyễn Thị Minh Ngọc",
                                "Lê Văn Thành",
                                "Nguyễn Công Toàn",
                                "Đinh Minh Thư",
                                "Nguyễn Ngọc Thành",
                                "Nguyễn Thị Thúy Hằng",
                                "Nguyễn Mạnh Cường"
                              ]
                            ]
                          }
                        ],
                        "label": "Tuần 27.03 - 01.04",
                        "method": "restyle"
                      },
                      {
                        "args": [
                          {
                            "x": [
                              [
                                1,
                                1,
                                1.5,
                                1.5,
                                2,
                                2,
                                2,
                                2,
                                3,
                                3
                              ]
                            ],
                            "y": [
                              [
                                "Nguyễn Ngọc Thắng",
                                "Đinh Thị Thu Thảo",
                                "Lê Thị Hồng Thúy",
                                "Nguyễn Thị Thúy Hằng",
                                "Nguyễn Thành Phi",
                                "Hà Thị Thủy Tiên",
                                "Đặng Thị Trúc Duyên",
                                "Nguyễn Thị Ngọc Lan",
                                "Nguyễn Mạnh Cường",
                                "Hồ Hữu Thông"
                              ]
                            ]
                          }
                        ],
                        "label": "Tháng 3",
                        "method": "restyle"
                      }
                    ],
                    "direction": "down",
                    "pad": {
                      "r": 10,
                      "t": 5
                    },
                    "showactive": true,
                    "x": -0.1,
                    "xanchor": "left",
                    "y": 1.3,
                    "yanchor": "top"
                  }
                ],
                "xaxis": {
                  "title": {
                    "text": "Tỉ lệ hoạt động"
                  }
                },
                "yaxis": {
                  "title": {
                    "text": "Top 10"
                  }
                }
              }
            }
          },
          "metadata": {},
          "output_type": "display_data"
        }
      ],
      "source": [
        "# create figure\n",
        "fig = go.Figure()\n",
        "\n",
        "# Add surface trace\n",
        "fig.add_trace(go.Scatter(\n",
        "    x= [df['Tỉ lệ hoạt động']],\n",
        "    y= [df[' Rm name']],\n",
        "    mode='markers',\n",
        "    marker=dict(\n",
        "        color='teal',\n",
        "        size=10,\n",
        "        line=dict(\n",
        "            color='black',\n",
        "            width=1\n",
        "        )   \n",
        ")))\n",
        "\n",
        "shapes = [dict(\n",
        "            type='line',\n",
        "            x0 = df.iloc[i]['Tỉ lệ hoạt động'],\n",
        "            y0 = df.iloc[i][' Rm name'],\n",
        "            x1 = 0,\n",
        "            y1 = df.iloc[i][' Rm name'],\n",
        "            line=dict(\n",
        "                color='darkblue', \n",
        "                width = 4),\n",
        "            layer='below') \n",
        "            for i in range(0, len(df))]\n",
        "\n",
        "\n",
        "# Update plot sizing\n",
        "fig.update_layout(\n",
        "    shapes=shapes,\n",
        "    template=\"plotly_white\",\n",
        ")\n",
        "\n",
        "\n",
        "# Add dropdown\n",
        "fig.update_layout(\n",
        "    updatemenus=[\n",
        "        dict(\n",
        "            buttons=list([\n",
        "                dict(\n",
        "                    args=[{'x': [df['Tỉ lệ hoạt động'][df['w']=='w1']],\n",
        "                           'y': [df[' Rm name'][df['w']=='w1']]\n",
        "                           }],\n",
        "                    label=\"Tuần 27.02 - 05.03\",\n",
        "                    method=\"restyle\"\n",
        "                ),\n",
        "                dict(\n",
        "                    args=[{'x': [df['Tỉ lệ hoạt động'][df['w']=='w2']],\n",
        "                           'y': [df[' Rm name'][df['w']=='w2']]\n",
        "                           }],\n",
        "                    label=\"Tuần 06.03 - 12.03\",\n",
        "                    method=\"restyle\"\n",
        "                ),\n",
        "                dict(\n",
        "                    args=[{'x': [df['Tỉ lệ hoạt động'][df['w']=='w3']],\n",
        "                           'y': [df[' Rm name'][df['w']=='w3']]\n",
        "                           }],\n",
        "                    label=\"Tuần 13.03 - 19.03\",\n",
        "                    method=\"restyle\"\n",
        "                ),\n",
        "                dict(\n",
        "                    args=[{'x': [df['Tỉ lệ hoạt động'][df['w']=='w4']],\n",
        "                           'y': [df[' Rm name'][df['w']=='w4']]\n",
        "                           }],\n",
        "                    label=\"Tuần 20.03 - 26.03\",\n",
        "                    method=\"restyle\"\n",
        "                ),\n",
        "                dict(\n",
        "                    args=[{'x': [df['Tỉ lệ hoạt động'][df['w']=='w5']],\n",
        "                           'y': [df[' Rm name'][df['w']=='w5']]\n",
        "                           }],\n",
        "                    label=\"Tuần 27.03 - 01.04\",\n",
        "                    method=\"restyle\"\n",
        "                ),\n",
        "                dict(\n",
        "                    args=[{'x': [df['Tỉ lệ hoạt động'][df['w']=='all']],\n",
        "                           'y': [df[' Rm name'][df['w']=='all']]\n",
        "                           }],\n",
        "                    label=\"Tháng 3\",\n",
        "                    method=\"restyle\"\n",
        "                )\n",
        "            ]),\n",
        "            direction=\"down\",\n",
        "            pad={\"r\": 10, \"t\": 5},\n",
        "            showactive=True,\n",
        "            x=-0.1,\n",
        "            xanchor=\"left\",\n",
        "            y=1.3,\n",
        "            yanchor=\"top\"\n",
        "        ),\n",
        "    ]\n",
        ")\n",
        "\n",
        "\n",
        "# Add annotation\n",
        "fig.update_layout(\n",
        "    title={\n",
        "        'text': \"A horizontal lollipop chart with lines\",\n",
        "        'x': 0.5,\n",
        "        'y': 0.9\n",
        "    },\n",
        "    xaxis_title=\"Tỉ lệ hoạt động\",\n",
        "    yaxis_title=\"Top 10\"\n",
        ")\n",
        "\n",
        "fig.show()"
      ]
    },
    {
      "cell_type": "code",
      "execution_count": 23,
      "metadata": {
        "colab": {
          "base_uri": "https://localhost:8080/",
          "height": 1000
        },
        "id": "0ry2_e5yzO_W",
        "outputId": "3b1c1b6d-a114-4ba0-dbd4-b17f0f6875fc"
      },
      "outputs": [
        {
          "data": {
            "application/vnd.plotly.v1+json": {
              "config": {
                "plotlyServerURL": "https://plotly.com"
              },
              "data": [
                {
                  "marker": {
                    "color": "darkorange",
                    "size": 10
                  },
                  "mode": "markers",
                  "type": "scatter",
                  "x": [
                    0.6666666666666666,
                    0.6666666666666666,
                    1,
                    1,
                    1,
                    1,
                    1,
                    1,
                    1,
                    2,
                    1,
                    1,
                    1,
                    1,
                    1,
                    1,
                    1,
                    2,
                    2,
                    2,
                    0.5714285714285714,
                    1,
                    1,
                    1,
                    1,
                    1,
                    1,
                    1,
                    1.5,
                    3,
                    0.5,
                    1,
                    1,
                    1,
                    1,
                    1,
                    1,
                    1,
                    1,
                    1,
                    0.6666666666666666,
                    1,
                    1,
                    1,
                    1,
                    1,
                    1,
                    1,
                    1.5,
                    3,
                    1,
                    1,
                    1.5,
                    1.5,
                    2,
                    2,
                    2,
                    2,
                    3,
                    3
                  ],
                  "y": [
                    "Nguyễn Thanh Hải",
                    "Phạm Thị Trang Nhung",
                    "Nguyễn Duy Minh",
                    "Tạ Phương Thành",
                    "Nguyễn Phan Quỳnh Na",
                    "Mai Hoàng Phú",
                    "Lê Minh Tùng",
                    "Nguyễn Xuân Trường",
                    "Dương Đình Tân",
                    "Nguyễn Thành Phi",
                    "Đinh Thị Thu Thảo",
                    "Nguyễn Thị Thảo Yến",
                    "Nguyễn Chính Hiệp",
                    "Huỳnh Thị Bích Tuyền",
                    "Phạm Ngọc Điệp",
                    "Nguyễn Thanh Hải",
                    "Nguyễn Ngọc Thắng",
                    "Nguyễn Thị Ngọc Lan",
                    "Đặng Thị Trúc Duyên",
                    "Hà Thị Thủy Tiên",
                    "Phạm Văn Thìn",
                    "Lê Hoàng Dzũ",
                    "LÊ THANH HẬU",
                    "Trần Nho Liêm",
                    "Phạm Thị Hoa Mai",
                    "Nguyễn Hải Đăng",
                    "Nguyễn Đình Trí",
                    "Trần Thị Lâm Quỳnh",
                    "Lê Thị Hồng Thúy",
                    "Hồ Hữu Thông",
                    "Nguyễn Thị Tố Trâm",
                    "Nguyễn Phấn Sinh",
                    "Thang Hữu Duy",
                    "Nguyễn Thị Phương Uyên",
                    "Quách Văn Nguyên",
                    "Đinh Thị Thu Thảo",
                    "Lê Thị Quỳnh Trang",
                    "Đô Bá Dũng",
                    "Nguyễn Ngọc Thắng",
                    "Dương Thị Hoa",
                    "Đỗ Thị Hường",
                    "Nguyễn Thị Thái Phương",
                    "Nguyễn Anh Tuấn",
                    "Nguyễn Thị Minh Ngọc",
                    "Lê Văn Thành",
                    "Nguyễn Công Toàn",
                    "Đinh Minh Thư",
                    "Nguyễn Ngọc Thành",
                    "Nguyễn Thị Thúy Hằng",
                    "Nguyễn Mạnh Cường",
                    "Nguyễn Ngọc Thắng",
                    "Đinh Thị Thu Thảo",
                    "Lê Thị Hồng Thúy",
                    "Nguyễn Thị Thúy Hằng",
                    "Nguyễn Thành Phi",
                    "Hà Thị Thủy Tiên",
                    "Đặng Thị Trúc Duyên",
                    "Nguyễn Thị Ngọc Lan",
                    "Nguyễn Mạnh Cường",
                    "Hồ Hữu Thông"
                  ]
                }
              ],
              "layout": {
                "shapes": [
                  {
                    "line": {
                      "color": "crimson",
                      "width": 3
                    },
                    "type": "line",
                    "x0": 0.6666666666666666,
                    "x1": 0,
                    "y0": "Nguyễn Thanh Hải",
                    "y1": "Nguyễn Thanh Hải"
                  },
                  {
                    "line": {
                      "color": "crimson",
                      "width": 3
                    },
                    "type": "line",
                    "x0": 0.6666666666666666,
                    "x1": 0,
                    "y0": "Phạm Thị Trang Nhung",
                    "y1": "Phạm Thị Trang Nhung"
                  },
                  {
                    "line": {
                      "color": "crimson",
                      "width": 3
                    },
                    "type": "line",
                    "x0": 1,
                    "x1": 0,
                    "y0": "Nguyễn Duy Minh",
                    "y1": "Nguyễn Duy Minh"
                  },
                  {
                    "line": {
                      "color": "crimson",
                      "width": 3
                    },
                    "type": "line",
                    "x0": 1,
                    "x1": 0,
                    "y0": "Tạ Phương Thành",
                    "y1": "Tạ Phương Thành"
                  },
                  {
                    "line": {
                      "color": "crimson",
                      "width": 3
                    },
                    "type": "line",
                    "x0": 1,
                    "x1": 0,
                    "y0": "Nguyễn Phan Quỳnh Na",
                    "y1": "Nguyễn Phan Quỳnh Na"
                  },
                  {
                    "line": {
                      "color": "crimson",
                      "width": 3
                    },
                    "type": "line",
                    "x0": 1,
                    "x1": 0,
                    "y0": "Mai Hoàng Phú",
                    "y1": "Mai Hoàng Phú"
                  },
                  {
                    "line": {
                      "color": "crimson",
                      "width": 3
                    },
                    "type": "line",
                    "x0": 1,
                    "x1": 0,
                    "y0": "Lê Minh Tùng",
                    "y1": "Lê Minh Tùng"
                  },
                  {
                    "line": {
                      "color": "crimson",
                      "width": 3
                    },
                    "type": "line",
                    "x0": 1,
                    "x1": 0,
                    "y0": "Nguyễn Xuân Trường",
                    "y1": "Nguyễn Xuân Trường"
                  },
                  {
                    "line": {
                      "color": "crimson",
                      "width": 3
                    },
                    "type": "line",
                    "x0": 1,
                    "x1": 0,
                    "y0": "Dương Đình Tân",
                    "y1": "Dương Đình Tân"
                  },
                  {
                    "line": {
                      "color": "crimson",
                      "width": 3
                    },
                    "type": "line",
                    "x0": 2,
                    "x1": 0,
                    "y0": "Nguyễn Thành Phi",
                    "y1": "Nguyễn Thành Phi"
                  },
                  {
                    "line": {
                      "color": "crimson",
                      "width": 3
                    },
                    "type": "line",
                    "x0": 1,
                    "x1": 0,
                    "y0": "Đinh Thị Thu Thảo",
                    "y1": "Đinh Thị Thu Thảo"
                  },
                  {
                    "line": {
                      "color": "crimson",
                      "width": 3
                    },
                    "type": "line",
                    "x0": 1,
                    "x1": 0,
                    "y0": "Nguyễn Thị Thảo Yến",
                    "y1": "Nguyễn Thị Thảo Yến"
                  },
                  {
                    "line": {
                      "color": "crimson",
                      "width": 3
                    },
                    "type": "line",
                    "x0": 1,
                    "x1": 0,
                    "y0": "Nguyễn Chính Hiệp",
                    "y1": "Nguyễn Chính Hiệp"
                  },
                  {
                    "line": {
                      "color": "crimson",
                      "width": 3
                    },
                    "type": "line",
                    "x0": 1,
                    "x1": 0,
                    "y0": "Huỳnh Thị Bích Tuyền",
                    "y1": "Huỳnh Thị Bích Tuyền"
                  },
                  {
                    "line": {
                      "color": "crimson",
                      "width": 3
                    },
                    "type": "line",
                    "x0": 1,
                    "x1": 0,
                    "y0": "Phạm Ngọc Điệp",
                    "y1": "Phạm Ngọc Điệp"
                  },
                  {
                    "line": {
                      "color": "crimson",
                      "width": 3
                    },
                    "type": "line",
                    "x0": 1,
                    "x1": 0,
                    "y0": "Nguyễn Thanh Hải",
                    "y1": "Nguyễn Thanh Hải"
                  },
                  {
                    "line": {
                      "color": "crimson",
                      "width": 3
                    },
                    "type": "line",
                    "x0": 1,
                    "x1": 0,
                    "y0": "Nguyễn Ngọc Thắng",
                    "y1": "Nguyễn Ngọc Thắng"
                  },
                  {
                    "line": {
                      "color": "crimson",
                      "width": 3
                    },
                    "type": "line",
                    "x0": 2,
                    "x1": 0,
                    "y0": "Nguyễn Thị Ngọc Lan",
                    "y1": "Nguyễn Thị Ngọc Lan"
                  },
                  {
                    "line": {
                      "color": "crimson",
                      "width": 3
                    },
                    "type": "line",
                    "x0": 2,
                    "x1": 0,
                    "y0": "Đặng Thị Trúc Duyên",
                    "y1": "Đặng Thị Trúc Duyên"
                  },
                  {
                    "line": {
                      "color": "crimson",
                      "width": 3
                    },
                    "type": "line",
                    "x0": 2,
                    "x1": 0,
                    "y0": "Hà Thị Thủy Tiên",
                    "y1": "Hà Thị Thủy Tiên"
                  },
                  {
                    "line": {
                      "color": "crimson",
                      "width": 3
                    },
                    "type": "line",
                    "x0": 0.5714285714285714,
                    "x1": 0,
                    "y0": "Phạm Văn Thìn",
                    "y1": "Phạm Văn Thìn"
                  },
                  {
                    "line": {
                      "color": "crimson",
                      "width": 3
                    },
                    "type": "line",
                    "x0": 1,
                    "x1": 0,
                    "y0": "Lê Hoàng Dzũ",
                    "y1": "Lê Hoàng Dzũ"
                  },
                  {
                    "line": {
                      "color": "crimson",
                      "width": 3
                    },
                    "type": "line",
                    "x0": 1,
                    "x1": 0,
                    "y0": "LÊ THANH HẬU",
                    "y1": "LÊ THANH HẬU"
                  },
                  {
                    "line": {
                      "color": "crimson",
                      "width": 3
                    },
                    "type": "line",
                    "x0": 1,
                    "x1": 0,
                    "y0": "Trần Nho Liêm",
                    "y1": "Trần Nho Liêm"
                  },
                  {
                    "line": {
                      "color": "crimson",
                      "width": 3
                    },
                    "type": "line",
                    "x0": 1,
                    "x1": 0,
                    "y0": "Phạm Thị Hoa Mai",
                    "y1": "Phạm Thị Hoa Mai"
                  },
                  {
                    "line": {
                      "color": "crimson",
                      "width": 3
                    },
                    "type": "line",
                    "x0": 1,
                    "x1": 0,
                    "y0": "Nguyễn Hải Đăng",
                    "y1": "Nguyễn Hải Đăng"
                  },
                  {
                    "line": {
                      "color": "crimson",
                      "width": 3
                    },
                    "type": "line",
                    "x0": 1,
                    "x1": 0,
                    "y0": "Nguyễn Đình Trí",
                    "y1": "Nguyễn Đình Trí"
                  },
                  {
                    "line": {
                      "color": "crimson",
                      "width": 3
                    },
                    "type": "line",
                    "x0": 1,
                    "x1": 0,
                    "y0": "Trần Thị Lâm Quỳnh",
                    "y1": "Trần Thị Lâm Quỳnh"
                  },
                  {
                    "line": {
                      "color": "crimson",
                      "width": 3
                    },
                    "type": "line",
                    "x0": 1.5,
                    "x1": 0,
                    "y0": "Lê Thị Hồng Thúy",
                    "y1": "Lê Thị Hồng Thúy"
                  },
                  {
                    "line": {
                      "color": "crimson",
                      "width": 3
                    },
                    "type": "line",
                    "x0": 3,
                    "x1": 0,
                    "y0": "Hồ Hữu Thông",
                    "y1": "Hồ Hữu Thông"
                  },
                  {
                    "line": {
                      "color": "crimson",
                      "width": 3
                    },
                    "type": "line",
                    "x0": 0.5,
                    "x1": 0,
                    "y0": "Nguyễn Thị Tố Trâm",
                    "y1": "Nguyễn Thị Tố Trâm"
                  },
                  {
                    "line": {
                      "color": "crimson",
                      "width": 3
                    },
                    "type": "line",
                    "x0": 1,
                    "x1": 0,
                    "y0": "Nguyễn Phấn Sinh",
                    "y1": "Nguyễn Phấn Sinh"
                  },
                  {
                    "line": {
                      "color": "crimson",
                      "width": 3
                    },
                    "type": "line",
                    "x0": 1,
                    "x1": 0,
                    "y0": "Thang Hữu Duy",
                    "y1": "Thang Hữu Duy"
                  },
                  {
                    "line": {
                      "color": "crimson",
                      "width": 3
                    },
                    "type": "line",
                    "x0": 1,
                    "x1": 0,
                    "y0": "Nguyễn Thị Phương Uyên",
                    "y1": "Nguyễn Thị Phương Uyên"
                  },
                  {
                    "line": {
                      "color": "crimson",
                      "width": 3
                    },
                    "type": "line",
                    "x0": 1,
                    "x1": 0,
                    "y0": "Quách Văn Nguyên",
                    "y1": "Quách Văn Nguyên"
                  },
                  {
                    "line": {
                      "color": "crimson",
                      "width": 3
                    },
                    "type": "line",
                    "x0": 1,
                    "x1": 0,
                    "y0": "Đinh Thị Thu Thảo",
                    "y1": "Đinh Thị Thu Thảo"
                  },
                  {
                    "line": {
                      "color": "crimson",
                      "width": 3
                    },
                    "type": "line",
                    "x0": 1,
                    "x1": 0,
                    "y0": "Lê Thị Quỳnh Trang",
                    "y1": "Lê Thị Quỳnh Trang"
                  },
                  {
                    "line": {
                      "color": "crimson",
                      "width": 3
                    },
                    "type": "line",
                    "x0": 1,
                    "x1": 0,
                    "y0": "Đô Bá Dũng",
                    "y1": "Đô Bá Dũng"
                  },
                  {
                    "line": {
                      "color": "crimson",
                      "width": 3
                    },
                    "type": "line",
                    "x0": 1,
                    "x1": 0,
                    "y0": "Nguyễn Ngọc Thắng",
                    "y1": "Nguyễn Ngọc Thắng"
                  },
                  {
                    "line": {
                      "color": "crimson",
                      "width": 3
                    },
                    "type": "line",
                    "x0": 1,
                    "x1": 0,
                    "y0": "Dương Thị Hoa",
                    "y1": "Dương Thị Hoa"
                  },
                  {
                    "line": {
                      "color": "crimson",
                      "width": 3
                    },
                    "type": "line",
                    "x0": 0.6666666666666666,
                    "x1": 0,
                    "y0": "Đỗ Thị Hường",
                    "y1": "Đỗ Thị Hường"
                  },
                  {
                    "line": {
                      "color": "crimson",
                      "width": 3
                    },
                    "type": "line",
                    "x0": 1,
                    "x1": 0,
                    "y0": "Nguyễn Thị Thái Phương",
                    "y1": "Nguyễn Thị Thái Phương"
                  },
                  {
                    "line": {
                      "color": "crimson",
                      "width": 3
                    },
                    "type": "line",
                    "x0": 1,
                    "x1": 0,
                    "y0": "Nguyễn Anh Tuấn",
                    "y1": "Nguyễn Anh Tuấn"
                  },
                  {
                    "line": {
                      "color": "crimson",
                      "width": 3
                    },
                    "type": "line",
                    "x0": 1,
                    "x1": 0,
                    "y0": "Nguyễn Thị Minh Ngọc",
                    "y1": "Nguyễn Thị Minh Ngọc"
                  },
                  {
                    "line": {
                      "color": "crimson",
                      "width": 3
                    },
                    "type": "line",
                    "x0": 1,
                    "x1": 0,
                    "y0": "Lê Văn Thành",
                    "y1": "Lê Văn Thành"
                  },
                  {
                    "line": {
                      "color": "crimson",
                      "width": 3
                    },
                    "type": "line",
                    "x0": 1,
                    "x1": 0,
                    "y0": "Nguyễn Công Toàn",
                    "y1": "Nguyễn Công Toàn"
                  },
                  {
                    "line": {
                      "color": "crimson",
                      "width": 3
                    },
                    "type": "line",
                    "x0": 1,
                    "x1": 0,
                    "y0": "Đinh Minh Thư",
                    "y1": "Đinh Minh Thư"
                  },
                  {
                    "line": {
                      "color": "crimson",
                      "width": 3
                    },
                    "type": "line",
                    "x0": 1,
                    "x1": 0,
                    "y0": "Nguyễn Ngọc Thành",
                    "y1": "Nguyễn Ngọc Thành"
                  },
                  {
                    "line": {
                      "color": "crimson",
                      "width": 3
                    },
                    "type": "line",
                    "x0": 1.5,
                    "x1": 0,
                    "y0": "Nguyễn Thị Thúy Hằng",
                    "y1": "Nguyễn Thị Thúy Hằng"
                  },
                  {
                    "line": {
                      "color": "crimson",
                      "width": 3
                    },
                    "type": "line",
                    "x0": 3,
                    "x1": 0,
                    "y0": "Nguyễn Mạnh Cường",
                    "y1": "Nguyễn Mạnh Cường"
                  },
                  {
                    "line": {
                      "color": "crimson",
                      "width": 3
                    },
                    "type": "line",
                    "x0": 1,
                    "x1": 0,
                    "y0": "Nguyễn Ngọc Thắng",
                    "y1": "Nguyễn Ngọc Thắng"
                  },
                  {
                    "line": {
                      "color": "crimson",
                      "width": 3
                    },
                    "type": "line",
                    "x0": 1,
                    "x1": 0,
                    "y0": "Đinh Thị Thu Thảo",
                    "y1": "Đinh Thị Thu Thảo"
                  },
                  {
                    "line": {
                      "color": "crimson",
                      "width": 3
                    },
                    "type": "line",
                    "x0": 1.5,
                    "x1": 0,
                    "y0": "Lê Thị Hồng Thúy",
                    "y1": "Lê Thị Hồng Thúy"
                  },
                  {
                    "line": {
                      "color": "crimson",
                      "width": 3
                    },
                    "type": "line",
                    "x0": 1.5,
                    "x1": 0,
                    "y0": "Nguyễn Thị Thúy Hằng",
                    "y1": "Nguyễn Thị Thúy Hằng"
                  },
                  {
                    "line": {
                      "color": "crimson",
                      "width": 3
                    },
                    "type": "line",
                    "x0": 2,
                    "x1": 0,
                    "y0": "Nguyễn Thành Phi",
                    "y1": "Nguyễn Thành Phi"
                  },
                  {
                    "line": {
                      "color": "crimson",
                      "width": 3
                    },
                    "type": "line",
                    "x0": 2,
                    "x1": 0,
                    "y0": "Hà Thị Thủy Tiên",
                    "y1": "Hà Thị Thủy Tiên"
                  },
                  {
                    "line": {
                      "color": "crimson",
                      "width": 3
                    },
                    "type": "line",
                    "x0": 2,
                    "x1": 0,
                    "y0": "Đặng Thị Trúc Duyên",
                    "y1": "Đặng Thị Trúc Duyên"
                  },
                  {
                    "line": {
                      "color": "crimson",
                      "width": 3
                    },
                    "type": "line",
                    "x0": 2,
                    "x1": 0,
                    "y0": "Nguyễn Thị Ngọc Lan",
                    "y1": "Nguyễn Thị Ngọc Lan"
                  },
                  {
                    "line": {
                      "color": "crimson",
                      "width": 3
                    },
                    "type": "line",
                    "x0": 3,
                    "x1": 0,
                    "y0": "Nguyễn Mạnh Cường",
                    "y1": "Nguyễn Mạnh Cường"
                  },
                  {
                    "line": {
                      "color": "crimson",
                      "width": 3
                    },
                    "type": "line",
                    "x0": 3,
                    "x1": 0,
                    "y0": "Hồ Hữu Thông",
                    "y1": "Hồ Hữu Thông"
                  }
                ],
                "template": {
                  "data": {
                    "bar": [
                      {
                        "error_x": {
                          "color": "#2a3f5f"
                        },
                        "error_y": {
                          "color": "#2a3f5f"
                        },
                        "marker": {
                          "line": {
                            "color": "#E5ECF6",
                            "width": 0.5
                          },
                          "pattern": {
                            "fillmode": "overlay",
                            "size": 10,
                            "solidity": 0.2
                          }
                        },
                        "type": "bar"
                      }
                    ],
                    "barpolar": [
                      {
                        "marker": {
                          "line": {
                            "color": "#E5ECF6",
                            "width": 0.5
                          },
                          "pattern": {
                            "fillmode": "overlay",
                            "size": 10,
                            "solidity": 0.2
                          }
                        },
                        "type": "barpolar"
                      }
                    ],
                    "carpet": [
                      {
                        "aaxis": {
                          "endlinecolor": "#2a3f5f",
                          "gridcolor": "white",
                          "linecolor": "white",
                          "minorgridcolor": "white",
                          "startlinecolor": "#2a3f5f"
                        },
                        "baxis": {
                          "endlinecolor": "#2a3f5f",
                          "gridcolor": "white",
                          "linecolor": "white",
                          "minorgridcolor": "white",
                          "startlinecolor": "#2a3f5f"
                        },
                        "type": "carpet"
                      }
                    ],
                    "choropleth": [
                      {
                        "colorbar": {
                          "outlinewidth": 0,
                          "ticks": ""
                        },
                        "type": "choropleth"
                      }
                    ],
                    "contour": [
                      {
                        "colorbar": {
                          "outlinewidth": 0,
                          "ticks": ""
                        },
                        "colorscale": [
                          [
                            0,
                            "#0d0887"
                          ],
                          [
                            0.1111111111111111,
                            "#46039f"
                          ],
                          [
                            0.2222222222222222,
                            "#7201a8"
                          ],
                          [
                            0.3333333333333333,
                            "#9c179e"
                          ],
                          [
                            0.4444444444444444,
                            "#bd3786"
                          ],
                          [
                            0.5555555555555556,
                            "#d8576b"
                          ],
                          [
                            0.6666666666666666,
                            "#ed7953"
                          ],
                          [
                            0.7777777777777778,
                            "#fb9f3a"
                          ],
                          [
                            0.8888888888888888,
                            "#fdca26"
                          ],
                          [
                            1,
                            "#f0f921"
                          ]
                        ],
                        "type": "contour"
                      }
                    ],
                    "contourcarpet": [
                      {
                        "colorbar": {
                          "outlinewidth": 0,
                          "ticks": ""
                        },
                        "type": "contourcarpet"
                      }
                    ],
                    "heatmap": [
                      {
                        "colorbar": {
                          "outlinewidth": 0,
                          "ticks": ""
                        },
                        "colorscale": [
                          [
                            0,
                            "#0d0887"
                          ],
                          [
                            0.1111111111111111,
                            "#46039f"
                          ],
                          [
                            0.2222222222222222,
                            "#7201a8"
                          ],
                          [
                            0.3333333333333333,
                            "#9c179e"
                          ],
                          [
                            0.4444444444444444,
                            "#bd3786"
                          ],
                          [
                            0.5555555555555556,
                            "#d8576b"
                          ],
                          [
                            0.6666666666666666,
                            "#ed7953"
                          ],
                          [
                            0.7777777777777778,
                            "#fb9f3a"
                          ],
                          [
                            0.8888888888888888,
                            "#fdca26"
                          ],
                          [
                            1,
                            "#f0f921"
                          ]
                        ],
                        "type": "heatmap"
                      }
                    ],
                    "heatmapgl": [
                      {
                        "colorbar": {
                          "outlinewidth": 0,
                          "ticks": ""
                        },
                        "colorscale": [
                          [
                            0,
                            "#0d0887"
                          ],
                          [
                            0.1111111111111111,
                            "#46039f"
                          ],
                          [
                            0.2222222222222222,
                            "#7201a8"
                          ],
                          [
                            0.3333333333333333,
                            "#9c179e"
                          ],
                          [
                            0.4444444444444444,
                            "#bd3786"
                          ],
                          [
                            0.5555555555555556,
                            "#d8576b"
                          ],
                          [
                            0.6666666666666666,
                            "#ed7953"
                          ],
                          [
                            0.7777777777777778,
                            "#fb9f3a"
                          ],
                          [
                            0.8888888888888888,
                            "#fdca26"
                          ],
                          [
                            1,
                            "#f0f921"
                          ]
                        ],
                        "type": "heatmapgl"
                      }
                    ],
                    "histogram": [
                      {
                        "marker": {
                          "pattern": {
                            "fillmode": "overlay",
                            "size": 10,
                            "solidity": 0.2
                          }
                        },
                        "type": "histogram"
                      }
                    ],
                    "histogram2d": [
                      {
                        "colorbar": {
                          "outlinewidth": 0,
                          "ticks": ""
                        },
                        "colorscale": [
                          [
                            0,
                            "#0d0887"
                          ],
                          [
                            0.1111111111111111,
                            "#46039f"
                          ],
                          [
                            0.2222222222222222,
                            "#7201a8"
                          ],
                          [
                            0.3333333333333333,
                            "#9c179e"
                          ],
                          [
                            0.4444444444444444,
                            "#bd3786"
                          ],
                          [
                            0.5555555555555556,
                            "#d8576b"
                          ],
                          [
                            0.6666666666666666,
                            "#ed7953"
                          ],
                          [
                            0.7777777777777778,
                            "#fb9f3a"
                          ],
                          [
                            0.8888888888888888,
                            "#fdca26"
                          ],
                          [
                            1,
                            "#f0f921"
                          ]
                        ],
                        "type": "histogram2d"
                      }
                    ],
                    "histogram2dcontour": [
                      {
                        "colorbar": {
                          "outlinewidth": 0,
                          "ticks": ""
                        },
                        "colorscale": [
                          [
                            0,
                            "#0d0887"
                          ],
                          [
                            0.1111111111111111,
                            "#46039f"
                          ],
                          [
                            0.2222222222222222,
                            "#7201a8"
                          ],
                          [
                            0.3333333333333333,
                            "#9c179e"
                          ],
                          [
                            0.4444444444444444,
                            "#bd3786"
                          ],
                          [
                            0.5555555555555556,
                            "#d8576b"
                          ],
                          [
                            0.6666666666666666,
                            "#ed7953"
                          ],
                          [
                            0.7777777777777778,
                            "#fb9f3a"
                          ],
                          [
                            0.8888888888888888,
                            "#fdca26"
                          ],
                          [
                            1,
                            "#f0f921"
                          ]
                        ],
                        "type": "histogram2dcontour"
                      }
                    ],
                    "mesh3d": [
                      {
                        "colorbar": {
                          "outlinewidth": 0,
                          "ticks": ""
                        },
                        "type": "mesh3d"
                      }
                    ],
                    "parcoords": [
                      {
                        "line": {
                          "colorbar": {
                            "outlinewidth": 0,
                            "ticks": ""
                          }
                        },
                        "type": "parcoords"
                      }
                    ],
                    "pie": [
                      {
                        "automargin": true,
                        "type": "pie"
                      }
                    ],
                    "scatter": [
                      {
                        "fillpattern": {
                          "fillmode": "overlay",
                          "size": 10,
                          "solidity": 0.2
                        },
                        "type": "scatter"
                      }
                    ],
                    "scatter3d": [
                      {
                        "line": {
                          "colorbar": {
                            "outlinewidth": 0,
                            "ticks": ""
                          }
                        },
                        "marker": {
                          "colorbar": {
                            "outlinewidth": 0,
                            "ticks": ""
                          }
                        },
                        "type": "scatter3d"
                      }
                    ],
                    "scattercarpet": [
                      {
                        "marker": {
                          "colorbar": {
                            "outlinewidth": 0,
                            "ticks": ""
                          }
                        },
                        "type": "scattercarpet"
                      }
                    ],
                    "scattergeo": [
                      {
                        "marker": {
                          "colorbar": {
                            "outlinewidth": 0,
                            "ticks": ""
                          }
                        },
                        "type": "scattergeo"
                      }
                    ],
                    "scattergl": [
                      {
                        "marker": {
                          "colorbar": {
                            "outlinewidth": 0,
                            "ticks": ""
                          }
                        },
                        "type": "scattergl"
                      }
                    ],
                    "scattermapbox": [
                      {
                        "marker": {
                          "colorbar": {
                            "outlinewidth": 0,
                            "ticks": ""
                          }
                        },
                        "type": "scattermapbox"
                      }
                    ],
                    "scatterpolar": [
                      {
                        "marker": {
                          "colorbar": {
                            "outlinewidth": 0,
                            "ticks": ""
                          }
                        },
                        "type": "scatterpolar"
                      }
                    ],
                    "scatterpolargl": [
                      {
                        "marker": {
                          "colorbar": {
                            "outlinewidth": 0,
                            "ticks": ""
                          }
                        },
                        "type": "scatterpolargl"
                      }
                    ],
                    "scatterternary": [
                      {
                        "marker": {
                          "colorbar": {
                            "outlinewidth": 0,
                            "ticks": ""
                          }
                        },
                        "type": "scatterternary"
                      }
                    ],
                    "surface": [
                      {
                        "colorbar": {
                          "outlinewidth": 0,
                          "ticks": ""
                        },
                        "colorscale": [
                          [
                            0,
                            "#0d0887"
                          ],
                          [
                            0.1111111111111111,
                            "#46039f"
                          ],
                          [
                            0.2222222222222222,
                            "#7201a8"
                          ],
                          [
                            0.3333333333333333,
                            "#9c179e"
                          ],
                          [
                            0.4444444444444444,
                            "#bd3786"
                          ],
                          [
                            0.5555555555555556,
                            "#d8576b"
                          ],
                          [
                            0.6666666666666666,
                            "#ed7953"
                          ],
                          [
                            0.7777777777777778,
                            "#fb9f3a"
                          ],
                          [
                            0.8888888888888888,
                            "#fdca26"
                          ],
                          [
                            1,
                            "#f0f921"
                          ]
                        ],
                        "type": "surface"
                      }
                    ],
                    "table": [
                      {
                        "cells": {
                          "fill": {
                            "color": "#EBF0F8"
                          },
                          "line": {
                            "color": "white"
                          }
                        },
                        "header": {
                          "fill": {
                            "color": "#C8D4E3"
                          },
                          "line": {
                            "color": "white"
                          }
                        },
                        "type": "table"
                      }
                    ]
                  },
                  "layout": {
                    "annotationdefaults": {
                      "arrowcolor": "#2a3f5f",
                      "arrowhead": 0,
                      "arrowwidth": 1
                    },
                    "autotypenumbers": "strict",
                    "coloraxis": {
                      "colorbar": {
                        "outlinewidth": 0,
                        "ticks": ""
                      }
                    },
                    "colorscale": {
                      "diverging": [
                        [
                          0,
                          "#8e0152"
                        ],
                        [
                          0.1,
                          "#c51b7d"
                        ],
                        [
                          0.2,
                          "#de77ae"
                        ],
                        [
                          0.3,
                          "#f1b6da"
                        ],
                        [
                          0.4,
                          "#fde0ef"
                        ],
                        [
                          0.5,
                          "#f7f7f7"
                        ],
                        [
                          0.6,
                          "#e6f5d0"
                        ],
                        [
                          0.7,
                          "#b8e186"
                        ],
                        [
                          0.8,
                          "#7fbc41"
                        ],
                        [
                          0.9,
                          "#4d9221"
                        ],
                        [
                          1,
                          "#276419"
                        ]
                      ],
                      "sequential": [
                        [
                          0,
                          "#0d0887"
                        ],
                        [
                          0.1111111111111111,
                          "#46039f"
                        ],
                        [
                          0.2222222222222222,
                          "#7201a8"
                        ],
                        [
                          0.3333333333333333,
                          "#9c179e"
                        ],
                        [
                          0.4444444444444444,
                          "#bd3786"
                        ],
                        [
                          0.5555555555555556,
                          "#d8576b"
                        ],
                        [
                          0.6666666666666666,
                          "#ed7953"
                        ],
                        [
                          0.7777777777777778,
                          "#fb9f3a"
                        ],
                        [
                          0.8888888888888888,
                          "#fdca26"
                        ],
                        [
                          1,
                          "#f0f921"
                        ]
                      ],
                      "sequentialminus": [
                        [
                          0,
                          "#0d0887"
                        ],
                        [
                          0.1111111111111111,
                          "#46039f"
                        ],
                        [
                          0.2222222222222222,
                          "#7201a8"
                        ],
                        [
                          0.3333333333333333,
                          "#9c179e"
                        ],
                        [
                          0.4444444444444444,
                          "#bd3786"
                        ],
                        [
                          0.5555555555555556,
                          "#d8576b"
                        ],
                        [
                          0.6666666666666666,
                          "#ed7953"
                        ],
                        [
                          0.7777777777777778,
                          "#fb9f3a"
                        ],
                        [
                          0.8888888888888888,
                          "#fdca26"
                        ],
                        [
                          1,
                          "#f0f921"
                        ]
                      ]
                    },
                    "colorway": [
                      "#636efa",
                      "#EF553B",
                      "#00cc96",
                      "#ab63fa",
                      "#FFA15A",
                      "#19d3f3",
                      "#FF6692",
                      "#B6E880",
                      "#FF97FF",
                      "#FECB52"
                    ],
                    "font": {
                      "color": "#2a3f5f"
                    },
                    "geo": {
                      "bgcolor": "white",
                      "lakecolor": "white",
                      "landcolor": "#E5ECF6",
                      "showlakes": true,
                      "showland": true,
                      "subunitcolor": "white"
                    },
                    "hoverlabel": {
                      "align": "left"
                    },
                    "hovermode": "closest",
                    "mapbox": {
                      "style": "light"
                    },
                    "paper_bgcolor": "white",
                    "plot_bgcolor": "#E5ECF6",
                    "polar": {
                      "angularaxis": {
                        "gridcolor": "white",
                        "linecolor": "white",
                        "ticks": ""
                      },
                      "bgcolor": "#E5ECF6",
                      "radialaxis": {
                        "gridcolor": "white",
                        "linecolor": "white",
                        "ticks": ""
                      }
                    },
                    "scene": {
                      "xaxis": {
                        "backgroundcolor": "#E5ECF6",
                        "gridcolor": "white",
                        "gridwidth": 2,
                        "linecolor": "white",
                        "showbackground": true,
                        "ticks": "",
                        "zerolinecolor": "white"
                      },
                      "yaxis": {
                        "backgroundcolor": "#E5ECF6",
                        "gridcolor": "white",
                        "gridwidth": 2,
                        "linecolor": "white",
                        "showbackground": true,
                        "ticks": "",
                        "zerolinecolor": "white"
                      },
                      "zaxis": {
                        "backgroundcolor": "#E5ECF6",
                        "gridcolor": "white",
                        "gridwidth": 2,
                        "linecolor": "white",
                        "showbackground": true,
                        "ticks": "",
                        "zerolinecolor": "white"
                      }
                    },
                    "shapedefaults": {
                      "line": {
                        "color": "#2a3f5f"
                      }
                    },
                    "ternary": {
                      "aaxis": {
                        "gridcolor": "white",
                        "linecolor": "white",
                        "ticks": ""
                      },
                      "baxis": {
                        "gridcolor": "white",
                        "linecolor": "white",
                        "ticks": ""
                      },
                      "bgcolor": "#E5ECF6",
                      "caxis": {
                        "gridcolor": "white",
                        "linecolor": "white",
                        "ticks": ""
                      }
                    },
                    "title": {
                      "x": 0.05
                    },
                    "xaxis": {
                      "automargin": true,
                      "gridcolor": "white",
                      "linecolor": "white",
                      "ticks": "",
                      "title": {
                        "standoff": 15
                      },
                      "zerolinecolor": "white",
                      "zerolinewidth": 2
                    },
                    "yaxis": {
                      "automargin": true,
                      "gridcolor": "white",
                      "linecolor": "white",
                      "ticks": "",
                      "title": {
                        "standoff": 15
                      },
                      "zerolinecolor": "white",
                      "zerolinewidth": 2
                    }
                  }
                },
                "title": {
                  "font": {
                    "size": 30
                  },
                  "text": "A horizontal lollipop chart with lines",
                  "x": 0.5,
                  "y": 0.9
                },
                "updatemenus": [
                  {
                    "buttons": [
                      {
                        "args": [
                          {
                            "x": [
                              [
                                0.6666666666666666,
                                0.6666666666666666,
                                1,
                                1,
                                1,
                                1,
                                1,
                                1,
                                1,
                                2
                              ]
                            ],
                            "y": [
                              [
                                "Nguyễn Thanh Hải",
                                "Phạm Thị Trang Nhung",
                                "Nguyễn Duy Minh",
                                "Tạ Phương Thành",
                                "Nguyễn Phan Quỳnh Na",
                                "Mai Hoàng Phú",
                                "Lê Minh Tùng",
                                "Nguyễn Xuân Trường",
                                "Dương Đình Tân",
                                "Nguyễn Thành Phi"
                              ]
                            ]
                          }
                        ],
                        "label": "Tuần 27.02 - 05.03",
                        "method": "restyle"
                      },
                      {
                        "args": [
                          {
                            "x": [
                              [
                                1,
                                1,
                                1,
                                1,
                                1,
                                1,
                                1,
                                2,
                                2,
                                2
                              ]
                            ],
                            "y": [
                              [
                                "Đinh Thị Thu Thảo",
                                "Nguyễn Thị Thảo Yến",
                                "Nguyễn Chính Hiệp",
                                "Huỳnh Thị Bích Tuyền",
                                "Phạm Ngọc Điệp",
                                "Nguyễn Thanh Hải",
                                "Nguyễn Ngọc Thắng",
                                "Nguyễn Thị Ngọc Lan",
                                "Đặng Thị Trúc Duyên",
                                "Hà Thị Thủy Tiên"
                              ]
                            ]
                          }
                        ],
                        "label": "Tuần 06.03 - 12.03",
                        "method": "restyle"
                      },
                      {
                        "args": [
                          {
                            "x": [
                              [
                                0.5714285714285714,
                                1,
                                1,
                                1,
                                1,
                                1,
                                1,
                                1,
                                1.5,
                                3
                              ]
                            ],
                            "y": [
                              [
                                "Phạm Văn Thìn",
                                "Lê Hoàng Dzũ",
                                "LÊ THANH HẬU",
                                "Trần Nho Liêm",
                                "Phạm Thị Hoa Mai",
                                "Nguyễn Hải Đăng",
                                "Nguyễn Đình Trí",
                                "Trần Thị Lâm Quỳnh",
                                "Lê Thị Hồng Thúy",
                                "Hồ Hữu Thông"
                              ]
                            ]
                          }
                        ],
                        "label": "Tuần 13.03 - 19.03",
                        "method": "restyle"
                      },
                      {
                        "args": [
                          {
                            "x": [
                              [
                                0.5,
                                1,
                                1,
                                1,
                                1,
                                1,
                                1,
                                1,
                                1,
                                1
                              ]
                            ],
                            "y": [
                              [
                                "Nguyễn Thị Tố Trâm",
                                "Nguyễn Phấn Sinh",
                                "Thang Hữu Duy",
                                "Nguyễn Thị Phương Uyên",
                                "Quách Văn Nguyên",
                                "Đinh Thị Thu Thảo",
                                "Lê Thị Quỳnh Trang",
                                "Đô Bá Dũng",
                                "Nguyễn Ngọc Thắng",
                                "Dương Thị Hoa"
                              ]
                            ]
                          }
                        ],
                        "label": "Tuần 20.03 - 26.03",
                        "method": "restyle"
                      },
                      {
                        "args": [
                          {
                            "x": [
                              [
                                0.6666666666666666,
                                1,
                                1,
                                1,
                                1,
                                1,
                                1,
                                1,
                                1.5,
                                3
                              ]
                            ],
                            "y": [
                              [
                                "Đỗ Thị Hường",
                                "Nguyễn Thị Thái Phương",
                                "Nguyễn Anh Tuấn",
                                "Nguyễn Thị Minh Ngọc",
                                "Lê Văn Thành",
                                "Nguyễn Công Toàn",
                                "Đinh Minh Thư",
                                "Nguyễn Ngọc Thành",
                                "Nguyễn Thị Thúy Hằng",
                                "Nguyễn Mạnh Cường"
                              ]
                            ]
                          }
                        ],
                        "label": "Tuần 27.03 - 01.04",
                        "method": "restyle"
                      },
                      {
                        "args": [
                          {
                            "x": [
                              [
                                1,
                                1,
                                1.5,
                                1.5,
                                2,
                                2,
                                2,
                                2,
                                3,
                                3
                              ]
                            ],
                            "y": [
                              [
                                "Nguyễn Ngọc Thắng",
                                "Đinh Thị Thu Thảo",
                                "Lê Thị Hồng Thúy",
                                "Nguyễn Thị Thúy Hằng",
                                "Nguyễn Thành Phi",
                                "Hà Thị Thủy Tiên",
                                "Đặng Thị Trúc Duyên",
                                "Nguyễn Thị Ngọc Lan",
                                "Nguyễn Mạnh Cường",
                                "Hồ Hữu Thông"
                              ]
                            ]
                          }
                        ],
                        "label": "Tháng 3",
                        "method": "restyle"
                      }
                    ],
                    "direction": "down",
                    "showactive": true,
                    "x": -0.1,
                    "xanchor": "left",
                    "y": 1.3,
                    "yanchor": "top"
                  }
                ],
                "xaxis": {
                  "title": {
                    "text": "Tỉ lệ hoạt động"
                  }
                },
                "yaxis": {
                  "title": {
                    "text": "Top 10"
                  }
                }
              }
            }
          },
          "metadata": {},
          "output_type": "display_data"
        }
      ],
      "source": [
        "fig2 = go.Figure()# Draw Points\n",
        "fig2.add_trace(go.Scatter(x = df['Tỉ lệ hoạt động'], \n",
        "                          y = df[' Rm name'],\n",
        "                          mode = 'markers',\n",
        "                          marker_color ='darkorange',\n",
        "                          marker_size  = 10))# Draw Lines\n",
        "\n",
        "for i in range(0, len(df)):\n",
        "    fig2.add_shape(type='line',\n",
        "                    x0 = df.iloc[i]['Tỉ lệ hoạt động'],\n",
        "                    y0 = df.iloc[i][' Rm name'],\n",
        "                    x1 = 0,\n",
        "                    y1 = df.iloc[i][' Rm name'],\n",
        "                    line=dict(color='crimson', width = 3))# Set title\n",
        "    \n",
        "fig2.update_layout(title_text =\n",
        "                   \"Mean Wealth (U$S) Bottom 15 Countries\",\n",
        "                    title_font_size = 30)# Set x-axes range\n",
        "\n",
        "fig2.update_layout(\n",
        "    updatemenus=[\n",
        "        dict(\n",
        "            buttons=list([\n",
        "                dict(\n",
        "                    args=[{'x': [df['Tỉ lệ hoạt động'][df['w']=='w1']],\n",
        "                           'y': [df[' Rm name'][df['w']=='w1']]\n",
        "                           }],\n",
        "                    label=\"Tuần 27.02 - 05.03\",\n",
        "                    method=\"restyle\"\n",
        "                ),\n",
        "                dict(\n",
        "                    args=[{'x': [df['Tỉ lệ hoạt động'][df['w']=='w2']],\n",
        "                           'y': [df[' Rm name'][df['w']=='w2']]\n",
        "                           }],\n",
        "                    label=\"Tuần 06.03 - 12.03\",\n",
        "                    method=\"restyle\"\n",
        "                ),\n",
        "                dict(\n",
        "                    args=[{'x': [df['Tỉ lệ hoạt động'][df['w']=='w3']],\n",
        "                           'y': [df[' Rm name'][df['w']=='w3']]\n",
        "                           }],\n",
        "                    label=\"Tuần 13.03 - 19.03\",\n",
        "                    method=\"restyle\"\n",
        "                ),\n",
        "                dict(\n",
        "                    args=[{'x': [df['Tỉ lệ hoạt động'][df['w']=='w4']],\n",
        "                           'y': [df[' Rm name'][df['w']=='w4']]\n",
        "                           }],\n",
        "                    label=\"Tuần 20.03 - 26.03\",\n",
        "                    method=\"restyle\"\n",
        "                ),\n",
        "                dict(\n",
        "                    args=[{'x': [df['Tỉ lệ hoạt động'][df['w']=='w5']],\n",
        "                           'y': [df[' Rm name'][df['w']=='w5']]\n",
        "                           }],\n",
        "                    label=\"Tuần 27.03 - 01.04\",\n",
        "                    method=\"restyle\"\n",
        "                ),\n",
        "                dict(\n",
        "                    args=[{'x': [df['Tỉ lệ hoạt động'][df['w']=='all']],\n",
        "                           'y': [df[' Rm name'][df['w']=='all']]\n",
        "                           }],\n",
        "                    label=\"Tháng 3\",\n",
        "                    method=\"restyle\"\n",
        "                )\n",
        "            ]),\n",
        "            direction=\"down\",\n",
        "            # pad={\"r\": 10, \"t\": 5},\n",
        "            showactive=True,\n",
        "            x=-0.1,\n",
        "            xanchor=\"left\",\n",
        "            y=1.3,\n",
        "            yanchor=\"top\"\n",
        "        ),\n",
        "    ]\n",
        ")\n",
        "\n",
        "\n",
        "# Add annotation\n",
        "fig2.update_layout(\n",
        "    title={\n",
        "        'text': \"A horizontal lollipop chart with lines\",\n",
        "        'x': 0.5,\n",
        "        'y': 0.9\n",
        "    },\n",
        "    xaxis_title=\"Tỉ lệ hoạt động\",\n",
        "    yaxis_title=\"Top 10\"\n",
        ")\n",
        "\n",
        "fig2.show()\n"
      ]
    },
    {
      "cell_type": "code",
      "execution_count": 10,
      "metadata": {
        "colab": {
          "base_uri": "https://localhost:8080/"
        },
        "id": "sT1aZM3e0DaR",
        "outputId": "5213d842-139d-446b-eb2e-31fbdd7d8e19"
      },
      "outputs": [
        {
          "name": "stdout",
          "output_type": "stream",
          "text": [
            "(0.6666666666666666, 'Nguyễn Thanh Hải') (0, 'Nguyễn Thanh Hải')\n",
            "(0.6666666666666666, 'Phạm Thị Trang Nhung') (0, 'Phạm Thị Trang Nhung')\n",
            "(1.0, 'Nguyễn Duy Minh') (0, 'Nguyễn Duy Minh')\n",
            "(1.0, 'Tạ Phương Thành') (0, 'Tạ Phương Thành')\n",
            "(1.0, 'Nguyễn Phan Quỳnh Na') (0, 'Nguyễn Phan Quỳnh Na')\n",
            "(1.0, 'Mai Hoàng Phú') (0, 'Mai Hoàng Phú')\n",
            "(1.0, 'Lê Minh Tùng') (0, 'Lê Minh Tùng')\n",
            "(1.0, 'Nguyễn Xuân Trường') (0, 'Nguyễn Xuân Trường')\n",
            "(1.0, 'Dương Đình Tân') (0, 'Dương Đình Tân')\n",
            "(2.0, 'Nguyễn Thành Phi') (0, 'Nguyễn Thành Phi')\n",
            "(1.0, 'Đinh Thị Thu Thảo') (0, 'Đinh Thị Thu Thảo')\n",
            "(1.0, 'Nguyễn Thị Thảo Yến') (0, 'Nguyễn Thị Thảo Yến')\n",
            "(1.0, 'Nguyễn Chính Hiệp') (0, 'Nguyễn Chính Hiệp')\n",
            "(1.0, 'Huỳnh Thị Bích Tuyền') (0, 'Huỳnh Thị Bích Tuyền')\n",
            "(1.0, 'Phạm Ngọc Điệp') (0, 'Phạm Ngọc Điệp')\n",
            "(1.0, 'Nguyễn Thanh Hải') (0, 'Nguyễn Thanh Hải')\n",
            "(1.0, 'Nguyễn Ngọc Thắng') (0, 'Nguyễn Ngọc Thắng')\n",
            "(2.0, 'Nguyễn Thị Ngọc Lan') (0, 'Nguyễn Thị Ngọc Lan')\n",
            "(2.0, 'Đặng Thị Trúc Duyên') (0, 'Đặng Thị Trúc Duyên')\n",
            "(2.0, 'Hà Thị Thủy Tiên') (0, 'Hà Thị Thủy Tiên')\n",
            "(0.5714285714285714, 'Phạm Văn Thìn') (0, 'Phạm Văn Thìn')\n",
            "(1.0, 'Lê Hoàng Dzũ') (0, 'Lê Hoàng Dzũ')\n",
            "(1.0, 'LÊ THANH HẬU') (0, 'LÊ THANH HẬU')\n",
            "(1.0, 'Trần Nho Liêm') (0, 'Trần Nho Liêm')\n",
            "(1.0, 'Phạm Thị Hoa Mai') (0, 'Phạm Thị Hoa Mai')\n",
            "(1.0, 'Nguyễn Hải Đăng') (0, 'Nguyễn Hải Đăng')\n",
            "(1.0, 'Nguyễn Đình Trí') (0, 'Nguyễn Đình Trí')\n",
            "(1.0, 'Trần Thị Lâm Quỳnh') (0, 'Trần Thị Lâm Quỳnh')\n",
            "(1.5, 'Lê Thị Hồng Thúy') (0, 'Lê Thị Hồng Thúy')\n",
            "(3.0, 'Hồ Hữu Thông') (0, 'Hồ Hữu Thông')\n",
            "(0.5, 'Nguyễn Thị Tố Trâm') (0, 'Nguyễn Thị Tố Trâm')\n",
            "(1.0, 'Nguyễn Phấn Sinh') (0, 'Nguyễn Phấn Sinh')\n",
            "(1.0, 'Thang Hữu Duy') (0, 'Thang Hữu Duy')\n",
            "(1.0, 'Nguyễn Thị Phương Uyên') (0, 'Nguyễn Thị Phương Uyên')\n",
            "(1.0, 'Quách Văn Nguyên') (0, 'Quách Văn Nguyên')\n",
            "(1.0, 'Đinh Thị Thu Thảo') (0, 'Đinh Thị Thu Thảo')\n",
            "(1.0, 'Lê Thị Quỳnh Trang') (0, 'Lê Thị Quỳnh Trang')\n",
            "(1.0, 'Đô Bá Dũng') (0, 'Đô Bá Dũng')\n",
            "(1.0, 'Nguyễn Ngọc Thắng') (0, 'Nguyễn Ngọc Thắng')\n",
            "(1.0, 'Dương Thị Hoa') (0, 'Dương Thị Hoa')\n",
            "(0.6666666666666666, 'Đỗ Thị Hường') (0, 'Đỗ Thị Hường')\n",
            "(1.0, 'Nguyễn Thị Thái Phương') (0, 'Nguyễn Thị Thái Phương')\n",
            "(1.0, 'Nguyễn Anh Tuấn') (0, 'Nguyễn Anh Tuấn')\n",
            "(1.0, 'Nguyễn Thị Minh Ngọc') (0, 'Nguyễn Thị Minh Ngọc')\n",
            "(1.0, 'Lê Văn Thành') (0, 'Lê Văn Thành')\n",
            "(1.0, 'Nguyễn Công Toàn') (0, 'Nguyễn Công Toàn')\n",
            "(1.0, 'Đinh Minh Thư') (0, 'Đinh Minh Thư')\n",
            "(1.0, 'Nguyễn Ngọc Thành') (0, 'Nguyễn Ngọc Thành')\n",
            "(1.5, 'Nguyễn Thị Thúy Hằng') (0, 'Nguyễn Thị Thúy Hằng')\n",
            "(3.0, 'Nguyễn Mạnh Cường') (0, 'Nguyễn Mạnh Cường')\n",
            "(1.0, 'Nguyễn Ngọc Thắng') (0, 'Nguyễn Ngọc Thắng')\n",
            "(1.0, 'Đinh Thị Thu Thảo') (0, 'Đinh Thị Thu Thảo')\n",
            "(1.5, 'Lê Thị Hồng Thúy') (0, 'Lê Thị Hồng Thúy')\n",
            "(1.5, 'Nguyễn Thị Thúy Hằng') (0, 'Nguyễn Thị Thúy Hằng')\n",
            "(2.0, 'Nguyễn Thành Phi') (0, 'Nguyễn Thành Phi')\n",
            "(2.0, 'Hà Thị Thủy Tiên') (0, 'Hà Thị Thủy Tiên')\n",
            "(2.0, 'Đặng Thị Trúc Duyên') (0, 'Đặng Thị Trúc Duyên')\n",
            "(2.0, 'Nguyễn Thị Ngọc Lan') (0, 'Nguyễn Thị Ngọc Lan')\n",
            "(3.0, 'Nguyễn Mạnh Cường') (0, 'Nguyễn Mạnh Cường')\n",
            "(3.0, 'Hồ Hữu Thông') (0, 'Hồ Hữu Thông')\n"
          ]
        }
      ],
      "source": [
        "for i in range(0, len(df)):\n",
        "  x0 = df.iloc[i]['Tỉ lệ hoạt động']\n",
        "  y0 = df.iloc[i][' Rm name']\n",
        "  x1 = 0\n",
        "  y1 = df.iloc[i][' Rm name']\n",
        "  print((x0,y0),(x1,y1))"
      ]
    }
  ],
  "metadata": {
    "colab": {
      "provenance": []
    },
    "kernelspec": {
      "display_name": "Python 3",
      "name": "python3"
    },
    "language_info": {
      "codemirror_mode": {
        "name": "ipython",
        "version": 3
      },
      "file_extension": ".py",
      "mimetype": "text/x-python",
      "name": "python",
      "nbconvert_exporter": "python",
      "pygments_lexer": "ipython3",
      "version": "3.8.10"
    }
  },
  "nbformat": 4,
  "nbformat_minor": 0
}
