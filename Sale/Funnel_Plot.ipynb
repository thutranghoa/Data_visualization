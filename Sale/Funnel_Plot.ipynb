{
  "cells": [
    {
      "cell_type": "code",
      "execution_count": 19,
      "metadata": {
        "colab": {
          "base_uri": "https://localhost:8080/"
        },
        "id": "ZoyzY9XwoiBP",
        "outputId": "5e49d879-7ccc-43cf-9886-4c784da25bba"
      },
      "outputs": [
        {
          "ename": "ModuleNotFoundError",
          "evalue": "No module named 'google'",
          "output_type": "error",
          "traceback": [
            "\u001b[0;31m---------------------------------------------------------------------------\u001b[0m",
            "\u001b[0;31mModuleNotFoundError\u001b[0m                       Traceback (most recent call last)",
            "Cell \u001b[0;32mIn[19], line 1\u001b[0m\n\u001b[0;32m----> 1\u001b[0m \u001b[39mfrom\u001b[39;00m \u001b[39mgoogle\u001b[39;00m\u001b[39m.\u001b[39;00m\u001b[39mcolab\u001b[39;00m \u001b[39mimport\u001b[39;00m drive\n\u001b[1;32m      2\u001b[0m drive\u001b[39m.\u001b[39mmount(\u001b[39m'\u001b[39m\u001b[39m/content/gdrive\u001b[39m\u001b[39m'\u001b[39m)\n",
            "\u001b[0;31mModuleNotFoundError\u001b[0m: No module named 'google'"
          ]
        }
      ],
      "source": [
        "from google.colab import drive\n",
        "drive.mount('/content/gdrive')\n",
        "\n"
      ]
    },
    {
      "cell_type": "code",
      "execution_count": null,
      "metadata": {
        "id": "fGrrAPA5otzB"
      },
      "outputs": [],
      "source": [
        "import pandas as pd\n",
        "import plotly.express as px\n"
      ]
    },
    {
      "cell_type": "markdown",
      "metadata": {
        "id": "7AP7VxzupWSH"
      },
      "source": [
        "# Gộp sheet"
      ]
    },
    {
      "cell_type": "code",
      "execution_count": null,
      "metadata": {
        "colab": {
          "base_uri": "https://localhost:8080/",
          "height": 423
        },
        "id": "rDbb-NUipVPo",
        "outputId": "d8ba4c77-2c95-42db-bd25-b75c20497f12"
      },
      "outputs": [
        {
          "data": {
            "text/html": [
              "<div>\n",
              "<style scoped>\n",
              "    .dataframe tbody tr th:only-of-type {\n",
              "        vertical-align: middle;\n",
              "    }\n",
              "\n",
              "    .dataframe tbody tr th {\n",
              "        vertical-align: top;\n",
              "    }\n",
              "\n",
              "    .dataframe thead th {\n",
              "        text-align: right;\n",
              "    }\n",
              "</style>\n",
              "<table border=\"1\" class=\"dataframe\">\n",
              "  <thead>\n",
              "    <tr style=\"text-align: right;\">\n",
              "      <th></th>\n",
              "      <th>Hub</th>\n",
              "      <th>Rm</th>\n",
              "      <th>Rm name</th>\n",
              "      <th>Team</th>\n",
              "      <th>Phân khúc</th>\n",
              "      <th>Đã phân bổ</th>\n",
              "      <th>Đã gọi</th>\n",
              "      <th>Đã gặp</th>\n",
              "      <th>Thu thập hồ sơ</th>\n",
              "      <th>Định giá</th>\n",
              "      <th>Đã trình</th>\n",
              "      <th>Đã phê duyệt</th>\n",
              "      <th>Đã active hạn mức</th>\n",
              "    </tr>\n",
              "  </thead>\n",
              "  <tbody>\n",
              "    <tr>\n",
              "      <th>0</th>\n",
              "      <td>0.Toàn hàng</td>\n",
              "      <td>NaN</td>\n",
              "      <td>0.Toàn hàng</td>\n",
              "      <td>NaN</td>\n",
              "      <td>NaN</td>\n",
              "      <td>15965</td>\n",
              "      <td>4599</td>\n",
              "      <td>835</td>\n",
              "      <td>137</td>\n",
              "      <td>140</td>\n",
              "      <td>140</td>\n",
              "      <td>90</td>\n",
              "      <td>59</td>\n",
              "    </tr>\n",
              "    <tr>\n",
              "      <th>1</th>\n",
              "      <td>Bắc Ninh</td>\n",
              "      <td>NaN</td>\n",
              "      <td>1.Toàn chi nhánh</td>\n",
              "      <td>NaN</td>\n",
              "      <td>NaN</td>\n",
              "      <td>169</td>\n",
              "      <td>135</td>\n",
              "      <td>23</td>\n",
              "      <td>3</td>\n",
              "      <td>3</td>\n",
              "      <td>2</td>\n",
              "      <td>1</td>\n",
              "      <td>3</td>\n",
              "    </tr>\n",
              "    <tr>\n",
              "      <th>2</th>\n",
              "      <td>Bắc Ninh</td>\n",
              "      <td>NaN</td>\n",
              "      <td>2.Toàn team</td>\n",
              "      <td>Bắc Ninh 1</td>\n",
              "      <td>NaN</td>\n",
              "      <td>65</td>\n",
              "      <td>26</td>\n",
              "      <td>13</td>\n",
              "      <td>2</td>\n",
              "      <td>2</td>\n",
              "      <td>2</td>\n",
              "      <td>1</td>\n",
              "      <td>2</td>\n",
              "    </tr>\n",
              "    <tr>\n",
              "      <th>3</th>\n",
              "      <td>Bắc Ninh</td>\n",
              "      <td>nhungptt</td>\n",
              "      <td>Phạm Thị Trang Nhung</td>\n",
              "      <td>Bắc Ninh 1</td>\n",
              "      <td>SME</td>\n",
              "      <td>2</td>\n",
              "      <td>7</td>\n",
              "      <td>4</td>\n",
              "      <td>2</td>\n",
              "      <td>1</td>\n",
              "      <td>1</td>\n",
              "      <td>1</td>\n",
              "      <td>1</td>\n",
              "    </tr>\n",
              "    <tr>\n",
              "      <th>4</th>\n",
              "      <td>Bến Thành</td>\n",
              "      <td>NaN</td>\n",
              "      <td>1.Toàn chi nhánh</td>\n",
              "      <td>NaN</td>\n",
              "      <td>NaN</td>\n",
              "      <td>215</td>\n",
              "      <td>57</td>\n",
              "      <td>50</td>\n",
              "      <td>11</td>\n",
              "      <td>6</td>\n",
              "      <td>6</td>\n",
              "      <td>3</td>\n",
              "      <td>1</td>\n",
              "    </tr>\n",
              "    <tr>\n",
              "      <th>...</th>\n",
              "      <td>...</td>\n",
              "      <td>...</td>\n",
              "      <td>...</td>\n",
              "      <td>...</td>\n",
              "      <td>...</td>\n",
              "      <td>...</td>\n",
              "      <td>...</td>\n",
              "      <td>...</td>\n",
              "      <td>...</td>\n",
              "      <td>...</td>\n",
              "      <td>...</td>\n",
              "      <td>...</td>\n",
              "      <td>...</td>\n",
              "    </tr>\n",
              "    <tr>\n",
              "      <th>1052</th>\n",
              "      <td>Đống Đa</td>\n",
              "      <td>hieuht6</td>\n",
              "      <td>Hoàng Trọng Hiếu</td>\n",
              "      <td>Trương Văn Định</td>\n",
              "      <td>SME</td>\n",
              "      <td>1</td>\n",
              "      <td>1</td>\n",
              "      <td>1</td>\n",
              "      <td>0</td>\n",
              "      <td>1</td>\n",
              "      <td>1</td>\n",
              "      <td>2</td>\n",
              "      <td>0</td>\n",
              "    </tr>\n",
              "    <tr>\n",
              "      <th>1053</th>\n",
              "      <td>Đống Đa</td>\n",
              "      <td>cuongnx6</td>\n",
              "      <td>Nguyễn Xuân Cường</td>\n",
              "      <td>NaN</td>\n",
              "      <td>SME</td>\n",
              "      <td>18</td>\n",
              "      <td>0</td>\n",
              "      <td>1</td>\n",
              "      <td>0</td>\n",
              "      <td>1</td>\n",
              "      <td>0</td>\n",
              "      <td>1</td>\n",
              "      <td>3</td>\n",
              "    </tr>\n",
              "    <tr>\n",
              "      <th>1054</th>\n",
              "      <td>Đống Đa</td>\n",
              "      <td>binhtt10</td>\n",
              "      <td>Trần Thanh Bình</td>\n",
              "      <td>NaN</td>\n",
              "      <td>SME</td>\n",
              "      <td>6</td>\n",
              "      <td>4</td>\n",
              "      <td>3</td>\n",
              "      <td>4</td>\n",
              "      <td>4</td>\n",
              "      <td>4</td>\n",
              "      <td>4</td>\n",
              "      <td>2</td>\n",
              "    </tr>\n",
              "    <tr>\n",
              "      <th>1055</th>\n",
              "      <td>Đống Đa</td>\n",
              "      <td>linhtt29</td>\n",
              "      <td>Tạ Thị Linh</td>\n",
              "      <td>NaN</td>\n",
              "      <td>SME</td>\n",
              "      <td>14</td>\n",
              "      <td>0</td>\n",
              "      <td>0</td>\n",
              "      <td>0</td>\n",
              "      <td>1</td>\n",
              "      <td>1</td>\n",
              "      <td>1</td>\n",
              "      <td>0</td>\n",
              "    </tr>\n",
              "    <tr>\n",
              "      <th>1056</th>\n",
              "      <td>Đống Đa</td>\n",
              "      <td>hatt35</td>\n",
              "      <td>Trần Thu Hà</td>\n",
              "      <td>NaN</td>\n",
              "      <td>SME</td>\n",
              "      <td>1</td>\n",
              "      <td>0</td>\n",
              "      <td>0</td>\n",
              "      <td>0</td>\n",
              "      <td>1</td>\n",
              "      <td>1</td>\n",
              "      <td>1</td>\n",
              "      <td>0</td>\n",
              "    </tr>\n",
              "  </tbody>\n",
              "</table>\n",
              "<p>5291 rows × 13 columns</p>\n",
              "</div>"
            ],
            "text/plain": [
              "              Hub        Rm               Rm name             Team  Phân khúc  \\\n",
              "0     0.Toàn hàng       NaN           0.Toàn hàng              NaN        NaN   \n",
              "1        Bắc Ninh       NaN      1.Toàn chi nhánh              NaN        NaN   \n",
              "2        Bắc Ninh       NaN           2.Toàn team       Bắc Ninh 1        NaN   \n",
              "3        Bắc Ninh  nhungptt  Phạm Thị Trang Nhung       Bắc Ninh 1        SME   \n",
              "4       Bến Thành       NaN      1.Toàn chi nhánh              NaN        NaN   \n",
              "...           ...       ...                   ...              ...        ...   \n",
              "1052      Đống Đa   hieuht6      Hoàng Trọng Hiếu  Trương Văn Định        SME   \n",
              "1053      Đống Đa  cuongnx6     Nguyễn Xuân Cường              NaN        SME   \n",
              "1054      Đống Đa  binhtt10       Trần Thanh Bình              NaN        SME   \n",
              "1055      Đống Đa  linhtt29           Tạ Thị Linh              NaN        SME   \n",
              "1056      Đống Đa    hatt35           Trần Thu Hà              NaN        SME   \n",
              "\n",
              "      Đã phân bổ  Đã gọi  Đã gặp  Thu thập hồ sơ   Định giá   Đã trình  \\\n",
              "0          15965    4599     835             137        140        140   \n",
              "1            169     135      23               3          3          2   \n",
              "2             65      26      13               2          2          2   \n",
              "3              2       7       4               2          1          1   \n",
              "4            215      57      50              11          6          6   \n",
              "...          ...     ...     ...             ...        ...        ...   \n",
              "1052           1       1       1               0          1          1   \n",
              "1053          18       0       1               0          1          0   \n",
              "1054           6       4       3               4          4          4   \n",
              "1055          14       0       0               0          1          1   \n",
              "1056           1       0       0               0          1          1   \n",
              "\n",
              "       Đã phê duyệt  Đã active hạn mức  \n",
              "0                90                 59  \n",
              "1                 1                  3  \n",
              "2                 1                  2  \n",
              "3                 1                  1  \n",
              "4                 3                  1  \n",
              "...             ...                ...  \n",
              "1052              2                  0  \n",
              "1053              1                  3  \n",
              "1054              4                  2  \n",
              "1055              1                  0  \n",
              "1056              1                  0  \n",
              "\n",
              "[5291 rows x 13 columns]"
            ]
          },
          "execution_count": 3,
          "metadata": {},
          "output_type": "execute_result"
        }
      ],
      "source": [
        "Sheet1 =pd.read_excel('Hoạt động bán hàng All RM Tháng 3 theo tuần.xlsx',sheet_name='Tuần 27.02-05.03')\n",
        "Sheet2 =pd.read_excel('Hoạt động bán hàng All RM Tháng 3 theo tuần.xlsx',sheet_name='Tuần 06.03-12.03')\n",
        "Sheet3 =pd.read_excel('Hoạt động bán hàng All RM Tháng 3 theo tuần.xlsx',sheet_name='Tuần 13.03-19.03')\n",
        "Sheet4 =pd.read_excel('Hoạt động bán hàng All RM Tháng 3 theo tuần.xlsx',sheet_name='Tuần 20.03-26.03')\n",
        "Sheet5 =pd.read_excel('Hoạt động bán hàng All RM Tháng 3 theo tuần.xlsx',sheet_name='Tuần 27.03-01.04')\n",
        "\n",
        "df = pd.concat([Sheet1,Sheet2,Sheet3,Sheet4,Sheet5])\n",
        "df\n",
        "\n"
      ]
    },
    {
      "cell_type": "code",
      "execution_count": null,
      "metadata": {
        "colab": {
          "base_uri": "https://localhost:8080/",
          "height": 423
        },
        "id": "yBQbXg0rVTzF",
        "outputId": "0ab1ec19-38bd-4061-c783-67d40571ff3e"
      },
      "outputs": [
        {
          "data": {
            "text/html": [
              "<div>\n",
              "<style scoped>\n",
              "    .dataframe tbody tr th:only-of-type {\n",
              "        vertical-align: middle;\n",
              "    }\n",
              "\n",
              "    .dataframe tbody tr th {\n",
              "        vertical-align: top;\n",
              "    }\n",
              "\n",
              "    .dataframe thead th {\n",
              "        text-align: right;\n",
              "    }\n",
              "</style>\n",
              "<table border=\"1\" class=\"dataframe\">\n",
              "  <thead>\n",
              "    <tr style=\"text-align: right;\">\n",
              "      <th></th>\n",
              "      <th>Hub</th>\n",
              "      <th>Rm</th>\n",
              "      <th>Rm name</th>\n",
              "      <th>Team</th>\n",
              "      <th>Phân khúc</th>\n",
              "      <th>Đã phân bổ</th>\n",
              "      <th>Đã gọi</th>\n",
              "      <th>Đã gặp</th>\n",
              "      <th>Thu thập hồ sơ</th>\n",
              "      <th>Định giá</th>\n",
              "      <th>Đã trình</th>\n",
              "      <th>Đã phê duyệt</th>\n",
              "      <th>Đã active hạn mức</th>\n",
              "    </tr>\n",
              "  </thead>\n",
              "  <tbody>\n",
              "    <tr>\n",
              "      <th>0</th>\n",
              "      <td>0.Toàn hàng</td>\n",
              "      <td>NaN</td>\n",
              "      <td>0.Toàn hàng</td>\n",
              "      <td>NaN</td>\n",
              "      <td>NaN</td>\n",
              "      <td>15965</td>\n",
              "      <td>4599</td>\n",
              "      <td>835</td>\n",
              "      <td>137</td>\n",
              "      <td>140</td>\n",
              "      <td>140</td>\n",
              "      <td>90</td>\n",
              "      <td>59</td>\n",
              "    </tr>\n",
              "    <tr>\n",
              "      <th>1</th>\n",
              "      <td>Bắc Ninh</td>\n",
              "      <td>NaN</td>\n",
              "      <td>1.Toàn chi nhánh</td>\n",
              "      <td>NaN</td>\n",
              "      <td>NaN</td>\n",
              "      <td>169</td>\n",
              "      <td>135</td>\n",
              "      <td>23</td>\n",
              "      <td>3</td>\n",
              "      <td>3</td>\n",
              "      <td>2</td>\n",
              "      <td>1</td>\n",
              "      <td>3</td>\n",
              "    </tr>\n",
              "    <tr>\n",
              "      <th>4</th>\n",
              "      <td>Bến Thành</td>\n",
              "      <td>NaN</td>\n",
              "      <td>1.Toàn chi nhánh</td>\n",
              "      <td>NaN</td>\n",
              "      <td>NaN</td>\n",
              "      <td>215</td>\n",
              "      <td>57</td>\n",
              "      <td>50</td>\n",
              "      <td>11</td>\n",
              "      <td>6</td>\n",
              "      <td>6</td>\n",
              "      <td>3</td>\n",
              "      <td>1</td>\n",
              "    </tr>\n",
              "    <tr>\n",
              "      <th>9</th>\n",
              "      <td>Cần Thơ</td>\n",
              "      <td>NaN</td>\n",
              "      <td>1.Toàn chi nhánh</td>\n",
              "      <td>NaN</td>\n",
              "      <td>NaN</td>\n",
              "      <td>45</td>\n",
              "      <td>14</td>\n",
              "      <td>15</td>\n",
              "      <td>4</td>\n",
              "      <td>1</td>\n",
              "      <td>1</td>\n",
              "      <td>1</td>\n",
              "      <td>1</td>\n",
              "    </tr>\n",
              "    <tr>\n",
              "      <th>11</th>\n",
              "      <td>Cầu Giấy</td>\n",
              "      <td>NaN</td>\n",
              "      <td>1.Toàn chi nhánh</td>\n",
              "      <td>NaN</td>\n",
              "      <td>NaN</td>\n",
              "      <td>254</td>\n",
              "      <td>42</td>\n",
              "      <td>30</td>\n",
              "      <td>1</td>\n",
              "      <td>3</td>\n",
              "      <td>3</td>\n",
              "      <td>3</td>\n",
              "      <td>2</td>\n",
              "    </tr>\n",
              "    <tr>\n",
              "      <th>...</th>\n",
              "      <td>...</td>\n",
              "      <td>...</td>\n",
              "      <td>...</td>\n",
              "      <td>...</td>\n",
              "      <td>...</td>\n",
              "      <td>...</td>\n",
              "      <td>...</td>\n",
              "      <td>...</td>\n",
              "      <td>...</td>\n",
              "      <td>...</td>\n",
              "      <td>...</td>\n",
              "      <td>...</td>\n",
              "      <td>...</td>\n",
              "    </tr>\n",
              "    <tr>\n",
              "      <th>1022</th>\n",
              "      <td>Đồng Nai</td>\n",
              "      <td>NaN</td>\n",
              "      <td>1.Toàn chi nhánh</td>\n",
              "      <td>NaN</td>\n",
              "      <td>NaN</td>\n",
              "      <td>9</td>\n",
              "      <td>8</td>\n",
              "      <td>7</td>\n",
              "      <td>1</td>\n",
              "      <td>1</td>\n",
              "      <td>1</td>\n",
              "      <td>0</td>\n",
              "      <td>0</td>\n",
              "    </tr>\n",
              "    <tr>\n",
              "      <th>1029</th>\n",
              "      <td>Đà Nẵng</td>\n",
              "      <td>NaN</td>\n",
              "      <td>1.Toàn chi nhánh</td>\n",
              "      <td>NaN</td>\n",
              "      <td>NaN</td>\n",
              "      <td>79</td>\n",
              "      <td>28</td>\n",
              "      <td>26</td>\n",
              "      <td>4</td>\n",
              "      <td>4</td>\n",
              "      <td>6</td>\n",
              "      <td>7</td>\n",
              "      <td>5</td>\n",
              "    </tr>\n",
              "    <tr>\n",
              "      <th>1036</th>\n",
              "      <td>Đô Thành</td>\n",
              "      <td>NaN</td>\n",
              "      <td>1.Toàn chi nhánh</td>\n",
              "      <td>NaN</td>\n",
              "      <td>NaN</td>\n",
              "      <td>88</td>\n",
              "      <td>10</td>\n",
              "      <td>10</td>\n",
              "      <td>3</td>\n",
              "      <td>2</td>\n",
              "      <td>3</td>\n",
              "      <td>2</td>\n",
              "      <td>1</td>\n",
              "    </tr>\n",
              "    <tr>\n",
              "      <th>1040</th>\n",
              "      <td>Đắk Lắk</td>\n",
              "      <td>NaN</td>\n",
              "      <td>1.Toàn chi nhánh</td>\n",
              "      <td>NaN</td>\n",
              "      <td>NaN</td>\n",
              "      <td>6</td>\n",
              "      <td>1</td>\n",
              "      <td>5</td>\n",
              "      <td>1</td>\n",
              "      <td>0</td>\n",
              "      <td>0</td>\n",
              "      <td>1</td>\n",
              "      <td>1</td>\n",
              "    </tr>\n",
              "    <tr>\n",
              "      <th>1042</th>\n",
              "      <td>Đống Đa</td>\n",
              "      <td>NaN</td>\n",
              "      <td>1.Toàn chi nhánh</td>\n",
              "      <td>NaN</td>\n",
              "      <td>NaN</td>\n",
              "      <td>237</td>\n",
              "      <td>34</td>\n",
              "      <td>17</td>\n",
              "      <td>8</td>\n",
              "      <td>13</td>\n",
              "      <td>11</td>\n",
              "      <td>15</td>\n",
              "      <td>10</td>\n",
              "    </tr>\n",
              "  </tbody>\n",
              "</table>\n",
              "<p>465 rows × 13 columns</p>\n",
              "</div>"
            ],
            "text/plain": [
              "              Hub   Rm           Rm name  Team  Phân khúc  Đã phân bổ  Đã gọi  \\\n",
              "0     0.Toàn hàng  NaN       0.Toàn hàng   NaN        NaN       15965    4599   \n",
              "1        Bắc Ninh  NaN  1.Toàn chi nhánh   NaN        NaN         169     135   \n",
              "4       Bến Thành  NaN  1.Toàn chi nhánh   NaN        NaN         215      57   \n",
              "9         Cần Thơ  NaN  1.Toàn chi nhánh   NaN        NaN          45      14   \n",
              "11       Cầu Giấy  NaN  1.Toàn chi nhánh   NaN        NaN         254      42   \n",
              "...           ...  ...               ...   ...        ...         ...     ...   \n",
              "1022     Đồng Nai  NaN  1.Toàn chi nhánh   NaN        NaN           9       8   \n",
              "1029      Đà Nẵng  NaN  1.Toàn chi nhánh   NaN        NaN          79      28   \n",
              "1036     Đô Thành  NaN  1.Toàn chi nhánh   NaN        NaN          88      10   \n",
              "1040      Đắk Lắk  NaN  1.Toàn chi nhánh   NaN        NaN           6       1   \n",
              "1042      Đống Đa  NaN  1.Toàn chi nhánh   NaN        NaN         237      34   \n",
              "\n",
              "      Đã gặp  Thu thập hồ sơ   Định giá   Đã trình   Đã phê duyệt  \\\n",
              "0        835             137        140        140             90   \n",
              "1         23               3          3          2              1   \n",
              "4         50              11          6          6              3   \n",
              "9         15               4          1          1              1   \n",
              "11        30               1          3          3              3   \n",
              "...      ...             ...        ...        ...            ...   \n",
              "1022       7               1          1          1              0   \n",
              "1029      26               4          4          6              7   \n",
              "1036      10               3          2          3              2   \n",
              "1040       5               1          0          0              1   \n",
              "1042      17               8         13         11             15   \n",
              "\n",
              "      Đã active hạn mức  \n",
              "0                    59  \n",
              "1                     3  \n",
              "4                     1  \n",
              "9                     1  \n",
              "11                    2  \n",
              "...                 ...  \n",
              "1022                  0  \n",
              "1029                  5  \n",
              "1036                  1  \n",
              "1040                  1  \n",
              "1042                 10  \n",
              "\n",
              "[465 rows x 13 columns]"
            ]
          },
          "execution_count": 4,
          "metadata": {},
          "output_type": "execute_result"
        }
      ],
      "source": [
        "toan_chi_nhanh_df = df[(df[' Rm name']).isin([\"0.Toàn hàng\",\"1.Toàn chi nhánh\"])]\n",
        "  \n",
        "toan_chi_nhanh_df.shape[0]\n",
        "toan_chi_nhanh_df"
      ]
    },
    {
      "cell_type": "code",
      "execution_count": null,
      "metadata": {
        "colab": {
          "base_uri": "https://localhost:8080/",
          "height": 516
        },
        "id": "jiUbE8nIqjii",
        "outputId": "2ae8443b-8ab2-4cd7-aeeb-7019d4dadfb7"
      },
      "outputs": [
        {
          "name": "stderr",
          "output_type": "stream",
          "text": [
            "/tmp/ipykernel_7125/3103612540.py:1: FutureWarning: The default value of numeric_only in DataFrameGroupBy.sum is deprecated. In a future version, numeric_only will default to False. Either specify numeric_only or select only columns which should be valid for the function.\n",
            "  df_hub = toan_chi_nhanh_df.groupby( by= 'Hub').sum().reset_index()\n"
          ]
        },
        {
          "data": {
            "text/html": [
              "<div>\n",
              "<style scoped>\n",
              "    .dataframe tbody tr th:only-of-type {\n",
              "        vertical-align: middle;\n",
              "    }\n",
              "\n",
              "    .dataframe tbody tr th {\n",
              "        vertical-align: top;\n",
              "    }\n",
              "\n",
              "    .dataframe thead th {\n",
              "        text-align: right;\n",
              "    }\n",
              "</style>\n",
              "<table border=\"1\" class=\"dataframe\">\n",
              "  <thead>\n",
              "    <tr style=\"text-align: right;\">\n",
              "      <th></th>\n",
              "      <th>Hub</th>\n",
              "      <th>Đã phân bổ</th>\n",
              "      <th>Đã gọi</th>\n",
              "      <th>Đã gặp</th>\n",
              "      <th>Thu thập hồ sơ</th>\n",
              "      <th>Định giá</th>\n",
              "      <th>Đã trình</th>\n",
              "      <th>Đã phê duyệt</th>\n",
              "      <th>Đã active hạn mức</th>\n",
              "    </tr>\n",
              "  </thead>\n",
              "  <tbody>\n",
              "    <tr>\n",
              "      <th>0</th>\n",
              "      <td>0.Toàn hàng</td>\n",
              "      <td>47252</td>\n",
              "      <td>21090</td>\n",
              "      <td>3556</td>\n",
              "      <td>619</td>\n",
              "      <td>676</td>\n",
              "      <td>649</td>\n",
              "      <td>474</td>\n",
              "      <td>325</td>\n",
              "    </tr>\n",
              "    <tr>\n",
              "      <th>1</th>\n",
              "      <td>Bình Dương</td>\n",
              "      <td>955</td>\n",
              "      <td>713</td>\n",
              "      <td>114</td>\n",
              "      <td>18</td>\n",
              "      <td>20</td>\n",
              "      <td>12</td>\n",
              "      <td>8</td>\n",
              "      <td>7</td>\n",
              "    </tr>\n",
              "    <tr>\n",
              "      <th>2</th>\n",
              "      <td>Bình Định</td>\n",
              "      <td>670</td>\n",
              "      <td>123</td>\n",
              "      <td>19</td>\n",
              "      <td>7</td>\n",
              "      <td>6</td>\n",
              "      <td>8</td>\n",
              "      <td>2</td>\n",
              "      <td>2</td>\n",
              "    </tr>\n",
              "    <tr>\n",
              "      <th>3</th>\n",
              "      <td>Bắc Giang</td>\n",
              "      <td>96</td>\n",
              "      <td>39</td>\n",
              "      <td>34</td>\n",
              "      <td>4</td>\n",
              "      <td>3</td>\n",
              "      <td>3</td>\n",
              "      <td>2</td>\n",
              "      <td>2</td>\n",
              "    </tr>\n",
              "    <tr>\n",
              "      <th>4</th>\n",
              "      <td>Bắc Ninh</td>\n",
              "      <td>680</td>\n",
              "      <td>453</td>\n",
              "      <td>93</td>\n",
              "      <td>19</td>\n",
              "      <td>20</td>\n",
              "      <td>19</td>\n",
              "      <td>14</td>\n",
              "      <td>12</td>\n",
              "    </tr>\n",
              "    <tr>\n",
              "      <th>...</th>\n",
              "      <td>...</td>\n",
              "      <td>...</td>\n",
              "      <td>...</td>\n",
              "      <td>...</td>\n",
              "      <td>...</td>\n",
              "      <td>...</td>\n",
              "      <td>...</td>\n",
              "      <td>...</td>\n",
              "      <td>...</td>\n",
              "    </tr>\n",
              "    <tr>\n",
              "      <th>88</th>\n",
              "      <td>Đà Nẵng</td>\n",
              "      <td>392</td>\n",
              "      <td>110</td>\n",
              "      <td>94</td>\n",
              "      <td>12</td>\n",
              "      <td>16</td>\n",
              "      <td>13</td>\n",
              "      <td>12</td>\n",
              "      <td>8</td>\n",
              "    </tr>\n",
              "    <tr>\n",
              "      <th>89</th>\n",
              "      <td>Đô Thành</td>\n",
              "      <td>669</td>\n",
              "      <td>107</td>\n",
              "      <td>61</td>\n",
              "      <td>12</td>\n",
              "      <td>7</td>\n",
              "      <td>9</td>\n",
              "      <td>6</td>\n",
              "      <td>5</td>\n",
              "    </tr>\n",
              "    <tr>\n",
              "      <th>90</th>\n",
              "      <td>Đắk Lắk</td>\n",
              "      <td>26</td>\n",
              "      <td>24</td>\n",
              "      <td>35</td>\n",
              "      <td>3</td>\n",
              "      <td>2</td>\n",
              "      <td>2</td>\n",
              "      <td>2</td>\n",
              "      <td>2</td>\n",
              "    </tr>\n",
              "    <tr>\n",
              "      <th>91</th>\n",
              "      <td>Đống Đa</td>\n",
              "      <td>1473</td>\n",
              "      <td>410</td>\n",
              "      <td>120</td>\n",
              "      <td>34</td>\n",
              "      <td>45</td>\n",
              "      <td>43</td>\n",
              "      <td>35</td>\n",
              "      <td>21</td>\n",
              "    </tr>\n",
              "    <tr>\n",
              "      <th>92</th>\n",
              "      <td>Đồng Nai</td>\n",
              "      <td>185</td>\n",
              "      <td>109</td>\n",
              "      <td>33</td>\n",
              "      <td>4</td>\n",
              "      <td>4</td>\n",
              "      <td>2</td>\n",
              "      <td>0</td>\n",
              "      <td>0</td>\n",
              "    </tr>\n",
              "  </tbody>\n",
              "</table>\n",
              "<p>93 rows × 9 columns</p>\n",
              "</div>"
            ],
            "text/plain": [
              "            Hub  Đã phân bổ  Đã gọi  Đã gặp  Thu thập hồ sơ   Định giá  \\\n",
              "0   0.Toàn hàng       47252   21090    3556             619        676   \n",
              "1    Bình Dương         955     713     114              18         20   \n",
              "2     Bình Định         670     123      19               7          6   \n",
              "3     Bắc Giang          96      39      34               4          3   \n",
              "4      Bắc Ninh         680     453      93              19         20   \n",
              "..          ...         ...     ...     ...             ...        ...   \n",
              "88      Đà Nẵng         392     110      94              12         16   \n",
              "89     Đô Thành         669     107      61              12          7   \n",
              "90      Đắk Lắk          26      24      35               3          2   \n",
              "91      Đống Đa        1473     410     120              34         45   \n",
              "92     Đồng Nai         185     109      33               4          4   \n",
              "\n",
              "     Đã trình   Đã phê duyệt  Đã active hạn mức  \n",
              "0         649            474                325  \n",
              "1          12              8                  7  \n",
              "2           8              2                  2  \n",
              "3           3              2                  2  \n",
              "4          19             14                 12  \n",
              "..        ...            ...                ...  \n",
              "88         13             12                  8  \n",
              "89          9              6                  5  \n",
              "90          2              2                  2  \n",
              "91         43             35                 21  \n",
              "92          2              0                  0  \n",
              "\n",
              "[93 rows x 9 columns]"
            ]
          },
          "execution_count": 7,
          "metadata": {},
          "output_type": "execute_result"
        }
      ],
      "source": [
        "df_hub = toan_chi_nhanh_df.groupby( by= 'Hub').sum().reset_index()\n",
        "\n",
        "df_hub\n"
      ]
    },
    {
      "cell_type": "code",
      "execution_count": null,
      "metadata": {
        "id": "EFifHKQTVSxC"
      },
      "outputs": [],
      "source": []
    },
    {
      "cell_type": "code",
      "execution_count": null,
      "metadata": {
        "colab": {
          "base_uri": "https://localhost:8080/",
          "height": 423
        },
        "id": "B-XYvo3ItkUv",
        "outputId": "af422be6-b9fd-4e43-9b5e-be37b5236089"
      },
      "outputs": [
        {
          "data": {
            "text/html": [
              "<div>\n",
              "<style scoped>\n",
              "    .dataframe tbody tr th:only-of-type {\n",
              "        vertical-align: middle;\n",
              "    }\n",
              "\n",
              "    .dataframe tbody tr th {\n",
              "        vertical-align: top;\n",
              "    }\n",
              "\n",
              "    .dataframe thead th {\n",
              "        text-align: right;\n",
              "    }\n",
              "</style>\n",
              "<table border=\"1\" class=\"dataframe\">\n",
              "  <thead>\n",
              "    <tr style=\"text-align: right;\">\n",
              "      <th></th>\n",
              "      <th>Hub</th>\n",
              "      <th>Đã phân bổ</th>\n",
              "      <th>Đã gọi</th>\n",
              "      <th>Đã gặp</th>\n",
              "      <th>Thu thập hồ sơ</th>\n",
              "      <th>Định giá</th>\n",
              "      <th>Đã trình</th>\n",
              "      <th>Đã phê duyệt</th>\n",
              "      <th>Đã active hạn mức</th>\n",
              "    </tr>\n",
              "  </thead>\n",
              "  <tbody>\n",
              "    <tr>\n",
              "      <th>Values</th>\n",
              "      <td>0.Toàn hàng</td>\n",
              "      <td>47252</td>\n",
              "      <td>21090</td>\n",
              "      <td>3556</td>\n",
              "      <td>619</td>\n",
              "      <td>676</td>\n",
              "      <td>649</td>\n",
              "      <td>474</td>\n",
              "      <td>325</td>\n",
              "    </tr>\n",
              "    <tr>\n",
              "      <th>Values</th>\n",
              "      <td>Bình Dương</td>\n",
              "      <td>955</td>\n",
              "      <td>713</td>\n",
              "      <td>114</td>\n",
              "      <td>18</td>\n",
              "      <td>20</td>\n",
              "      <td>12</td>\n",
              "      <td>8</td>\n",
              "      <td>7</td>\n",
              "    </tr>\n",
              "    <tr>\n",
              "      <th>Values</th>\n",
              "      <td>Bình Định</td>\n",
              "      <td>670</td>\n",
              "      <td>123</td>\n",
              "      <td>19</td>\n",
              "      <td>7</td>\n",
              "      <td>6</td>\n",
              "      <td>8</td>\n",
              "      <td>2</td>\n",
              "      <td>2</td>\n",
              "    </tr>\n",
              "    <tr>\n",
              "      <th>Values</th>\n",
              "      <td>Bắc Giang</td>\n",
              "      <td>96</td>\n",
              "      <td>39</td>\n",
              "      <td>34</td>\n",
              "      <td>4</td>\n",
              "      <td>3</td>\n",
              "      <td>3</td>\n",
              "      <td>2</td>\n",
              "      <td>2</td>\n",
              "    </tr>\n",
              "    <tr>\n",
              "      <th>Values</th>\n",
              "      <td>Bắc Ninh</td>\n",
              "      <td>680</td>\n",
              "      <td>453</td>\n",
              "      <td>93</td>\n",
              "      <td>19</td>\n",
              "      <td>20</td>\n",
              "      <td>19</td>\n",
              "      <td>14</td>\n",
              "      <td>12</td>\n",
              "    </tr>\n",
              "    <tr>\n",
              "      <th>...</th>\n",
              "      <td>...</td>\n",
              "      <td>...</td>\n",
              "      <td>...</td>\n",
              "      <td>...</td>\n",
              "      <td>...</td>\n",
              "      <td>...</td>\n",
              "      <td>...</td>\n",
              "      <td>...</td>\n",
              "      <td>...</td>\n",
              "    </tr>\n",
              "    <tr>\n",
              "      <th>Values</th>\n",
              "      <td>Đà Nẵng</td>\n",
              "      <td>392</td>\n",
              "      <td>110</td>\n",
              "      <td>94</td>\n",
              "      <td>12</td>\n",
              "      <td>16</td>\n",
              "      <td>13</td>\n",
              "      <td>12</td>\n",
              "      <td>8</td>\n",
              "    </tr>\n",
              "    <tr>\n",
              "      <th>Values</th>\n",
              "      <td>Đô Thành</td>\n",
              "      <td>669</td>\n",
              "      <td>107</td>\n",
              "      <td>61</td>\n",
              "      <td>12</td>\n",
              "      <td>7</td>\n",
              "      <td>9</td>\n",
              "      <td>6</td>\n",
              "      <td>5</td>\n",
              "    </tr>\n",
              "    <tr>\n",
              "      <th>Values</th>\n",
              "      <td>Đắk Lắk</td>\n",
              "      <td>26</td>\n",
              "      <td>24</td>\n",
              "      <td>35</td>\n",
              "      <td>3</td>\n",
              "      <td>2</td>\n",
              "      <td>2</td>\n",
              "      <td>2</td>\n",
              "      <td>2</td>\n",
              "    </tr>\n",
              "    <tr>\n",
              "      <th>Values</th>\n",
              "      <td>Đống Đa</td>\n",
              "      <td>1473</td>\n",
              "      <td>410</td>\n",
              "      <td>120</td>\n",
              "      <td>34</td>\n",
              "      <td>45</td>\n",
              "      <td>43</td>\n",
              "      <td>35</td>\n",
              "      <td>21</td>\n",
              "    </tr>\n",
              "    <tr>\n",
              "      <th>Values</th>\n",
              "      <td>Đồng Nai</td>\n",
              "      <td>185</td>\n",
              "      <td>109</td>\n",
              "      <td>33</td>\n",
              "      <td>4</td>\n",
              "      <td>4</td>\n",
              "      <td>2</td>\n",
              "      <td>0</td>\n",
              "      <td>0</td>\n",
              "    </tr>\n",
              "  </tbody>\n",
              "</table>\n",
              "<p>93 rows × 9 columns</p>\n",
              "</div>"
            ],
            "text/plain": [
              "                Hub  Đã phân bổ  Đã gọi  Đã gặp  Thu thập hồ sơ   Định giá  \\\n",
              "Values  0.Toàn hàng       47252   21090    3556             619        676   \n",
              "Values   Bình Dương         955     713     114              18         20   \n",
              "Values    Bình Định         670     123      19               7          6   \n",
              "Values    Bắc Giang          96      39      34               4          3   \n",
              "Values     Bắc Ninh         680     453      93              19         20   \n",
              "...             ...         ...     ...     ...             ...        ...   \n",
              "Values      Đà Nẵng         392     110      94              12         16   \n",
              "Values     Đô Thành         669     107      61              12          7   \n",
              "Values      Đắk Lắk          26      24      35               3          2   \n",
              "Values      Đống Đa        1473     410     120              34         45   \n",
              "Values     Đồng Nai         185     109      33               4          4   \n",
              "\n",
              "         Đã trình   Đã phê duyệt  Đã active hạn mức  \n",
              "Values        649            474                325  \n",
              "Values         12              8                  7  \n",
              "Values          8              2                  2  \n",
              "Values          3              2                  2  \n",
              "Values         19             14                 12  \n",
              "...           ...            ...                ...  \n",
              "Values         13             12                  8  \n",
              "Values          9              6                  5  \n",
              "Values          2              2                  2  \n",
              "Values         43             35                 21  \n",
              "Values          2              0                  0  \n",
              "\n",
              "[93 rows x 9 columns]"
            ]
          },
          "execution_count": 8,
          "metadata": {},
          "output_type": "execute_result"
        }
      ],
      "source": [
        "hub_rename_index_df = df_hub.rename(index = {i : \"Values\" for i in df_hub.index})\n",
        "hub_rename_index_df"
      ]
    },
    {
      "cell_type": "code",
      "execution_count": null,
      "metadata": {
        "colab": {
          "base_uri": "https://localhost:8080/",
          "height": 457
        },
        "id": "sk6Uey25tkfN",
        "outputId": "30d932b9-0222-4fbc-9ecd-1bc3184601f4"
      },
      "outputs": [
        {
          "data": {
            "text/html": [
              "<div>\n",
              "<style scoped>\n",
              "    .dataframe tbody tr th:only-of-type {\n",
              "        vertical-align: middle;\n",
              "    }\n",
              "\n",
              "    .dataframe tbody tr th {\n",
              "        vertical-align: top;\n",
              "    }\n",
              "\n",
              "    .dataframe thead th {\n",
              "        text-align: right;\n",
              "    }\n",
              "</style>\n",
              "<table border=\"1\" class=\"dataframe\">\n",
              "  <thead>\n",
              "    <tr style=\"text-align: right;\">\n",
              "      <th></th>\n",
              "      <th>Values</th>\n",
              "      <th>Values</th>\n",
              "      <th>Values</th>\n",
              "      <th>Values</th>\n",
              "      <th>Values</th>\n",
              "      <th>Values</th>\n",
              "      <th>Values</th>\n",
              "      <th>Values</th>\n",
              "      <th>Values</th>\n",
              "      <th>Values</th>\n",
              "      <th>...</th>\n",
              "      <th>Values</th>\n",
              "      <th>Values</th>\n",
              "      <th>Values</th>\n",
              "      <th>Values</th>\n",
              "      <th>Values</th>\n",
              "      <th>Values</th>\n",
              "      <th>Values</th>\n",
              "      <th>Values</th>\n",
              "      <th>Values</th>\n",
              "      <th>Values</th>\n",
              "    </tr>\n",
              "  </thead>\n",
              "  <tbody>\n",
              "    <tr>\n",
              "      <th>Hub</th>\n",
              "      <td>0.Toàn hàng</td>\n",
              "      <td>Bình Dương</td>\n",
              "      <td>Bình Định</td>\n",
              "      <td>Bắc Giang</td>\n",
              "      <td>Bắc Ninh</td>\n",
              "      <td>Bến Thành</td>\n",
              "      <td>CRM</td>\n",
              "      <td>CRM Miền Bắc</td>\n",
              "      <td>CRM_EB</td>\n",
              "      <td>CRM_EB_2</td>\n",
              "      <td>...</td>\n",
              "      <td>Tân Bình</td>\n",
              "      <td>Tân Thuận</td>\n",
              "      <td>Tây Hồ</td>\n",
              "      <td>Vĩnh Phúc</td>\n",
              "      <td>Vũng Tàu</td>\n",
              "      <td>Đà Nẵng</td>\n",
              "      <td>Đô Thành</td>\n",
              "      <td>Đắk Lắk</td>\n",
              "      <td>Đống Đa</td>\n",
              "      <td>Đồng Nai</td>\n",
              "    </tr>\n",
              "    <tr>\n",
              "      <th>Đã phân bổ</th>\n",
              "      <td>47252</td>\n",
              "      <td>955</td>\n",
              "      <td>670</td>\n",
              "      <td>96</td>\n",
              "      <td>680</td>\n",
              "      <td>787</td>\n",
              "      <td>0</td>\n",
              "      <td>0</td>\n",
              "      <td>0</td>\n",
              "      <td>0</td>\n",
              "      <td>...</td>\n",
              "      <td>621</td>\n",
              "      <td>655</td>\n",
              "      <td>693</td>\n",
              "      <td>131</td>\n",
              "      <td>600</td>\n",
              "      <td>392</td>\n",
              "      <td>669</td>\n",
              "      <td>26</td>\n",
              "      <td>1473</td>\n",
              "      <td>185</td>\n",
              "    </tr>\n",
              "    <tr>\n",
              "      <th>Đã gọi</th>\n",
              "      <td>21090</td>\n",
              "      <td>713</td>\n",
              "      <td>123</td>\n",
              "      <td>39</td>\n",
              "      <td>453</td>\n",
              "      <td>212</td>\n",
              "      <td>0</td>\n",
              "      <td>0</td>\n",
              "      <td>0</td>\n",
              "      <td>0</td>\n",
              "      <td>...</td>\n",
              "      <td>160</td>\n",
              "      <td>261</td>\n",
              "      <td>185</td>\n",
              "      <td>38</td>\n",
              "      <td>240</td>\n",
              "      <td>110</td>\n",
              "      <td>107</td>\n",
              "      <td>24</td>\n",
              "      <td>410</td>\n",
              "      <td>109</td>\n",
              "    </tr>\n",
              "    <tr>\n",
              "      <th>Đã gặp</th>\n",
              "      <td>3556</td>\n",
              "      <td>114</td>\n",
              "      <td>19</td>\n",
              "      <td>34</td>\n",
              "      <td>93</td>\n",
              "      <td>184</td>\n",
              "      <td>0</td>\n",
              "      <td>0</td>\n",
              "      <td>0</td>\n",
              "      <td>0</td>\n",
              "      <td>...</td>\n",
              "      <td>84</td>\n",
              "      <td>99</td>\n",
              "      <td>41</td>\n",
              "      <td>37</td>\n",
              "      <td>109</td>\n",
              "      <td>94</td>\n",
              "      <td>61</td>\n",
              "      <td>35</td>\n",
              "      <td>120</td>\n",
              "      <td>33</td>\n",
              "    </tr>\n",
              "    <tr>\n",
              "      <th>Thu thập hồ sơ</th>\n",
              "      <td>619</td>\n",
              "      <td>18</td>\n",
              "      <td>7</td>\n",
              "      <td>4</td>\n",
              "      <td>19</td>\n",
              "      <td>24</td>\n",
              "      <td>0</td>\n",
              "      <td>0</td>\n",
              "      <td>0</td>\n",
              "      <td>0</td>\n",
              "      <td>...</td>\n",
              "      <td>9</td>\n",
              "      <td>10</td>\n",
              "      <td>7</td>\n",
              "      <td>2</td>\n",
              "      <td>13</td>\n",
              "      <td>12</td>\n",
              "      <td>12</td>\n",
              "      <td>3</td>\n",
              "      <td>34</td>\n",
              "      <td>4</td>\n",
              "    </tr>\n",
              "    <tr>\n",
              "      <th>Định giá</th>\n",
              "      <td>676</td>\n",
              "      <td>20</td>\n",
              "      <td>6</td>\n",
              "      <td>3</td>\n",
              "      <td>20</td>\n",
              "      <td>20</td>\n",
              "      <td>0</td>\n",
              "      <td>0</td>\n",
              "      <td>0</td>\n",
              "      <td>0</td>\n",
              "      <td>...</td>\n",
              "      <td>24</td>\n",
              "      <td>12</td>\n",
              "      <td>10</td>\n",
              "      <td>1</td>\n",
              "      <td>17</td>\n",
              "      <td>16</td>\n",
              "      <td>7</td>\n",
              "      <td>2</td>\n",
              "      <td>45</td>\n",
              "      <td>4</td>\n",
              "    </tr>\n",
              "    <tr>\n",
              "      <th>Đã trình</th>\n",
              "      <td>649</td>\n",
              "      <td>12</td>\n",
              "      <td>8</td>\n",
              "      <td>3</td>\n",
              "      <td>19</td>\n",
              "      <td>21</td>\n",
              "      <td>0</td>\n",
              "      <td>0</td>\n",
              "      <td>0</td>\n",
              "      <td>0</td>\n",
              "      <td>...</td>\n",
              "      <td>23</td>\n",
              "      <td>13</td>\n",
              "      <td>10</td>\n",
              "      <td>1</td>\n",
              "      <td>16</td>\n",
              "      <td>13</td>\n",
              "      <td>9</td>\n",
              "      <td>2</td>\n",
              "      <td>43</td>\n",
              "      <td>2</td>\n",
              "    </tr>\n",
              "    <tr>\n",
              "      <th>Đã phê duyệt</th>\n",
              "      <td>474</td>\n",
              "      <td>8</td>\n",
              "      <td>2</td>\n",
              "      <td>2</td>\n",
              "      <td>14</td>\n",
              "      <td>7</td>\n",
              "      <td>0</td>\n",
              "      <td>0</td>\n",
              "      <td>0</td>\n",
              "      <td>0</td>\n",
              "      <td>...</td>\n",
              "      <td>13</td>\n",
              "      <td>9</td>\n",
              "      <td>8</td>\n",
              "      <td>0</td>\n",
              "      <td>12</td>\n",
              "      <td>12</td>\n",
              "      <td>6</td>\n",
              "      <td>2</td>\n",
              "      <td>35</td>\n",
              "      <td>0</td>\n",
              "    </tr>\n",
              "    <tr>\n",
              "      <th>Đã active hạn mức</th>\n",
              "      <td>325</td>\n",
              "      <td>7</td>\n",
              "      <td>2</td>\n",
              "      <td>2</td>\n",
              "      <td>12</td>\n",
              "      <td>3</td>\n",
              "      <td>0</td>\n",
              "      <td>0</td>\n",
              "      <td>0</td>\n",
              "      <td>0</td>\n",
              "      <td>...</td>\n",
              "      <td>10</td>\n",
              "      <td>10</td>\n",
              "      <td>0</td>\n",
              "      <td>0</td>\n",
              "      <td>13</td>\n",
              "      <td>8</td>\n",
              "      <td>5</td>\n",
              "      <td>2</td>\n",
              "      <td>21</td>\n",
              "      <td>0</td>\n",
              "    </tr>\n",
              "  </tbody>\n",
              "</table>\n",
              "<p>9 rows × 93 columns</p>\n",
              "</div>"
            ],
            "text/plain": [
              "                        Values      Values     Values     Values    Values  \\\n",
              "Hub                0.Toàn hàng  Bình Dương  Bình Định  Bắc Giang  Bắc Ninh   \n",
              "Đã phân bổ               47252         955        670         96       680   \n",
              "Đã gọi                   21090         713        123         39       453   \n",
              "Đã gặp                    3556         114         19         34        93   \n",
              "Thu thập hồ sơ             619          18          7          4        19   \n",
              " Định giá                  676          20          6          3        20   \n",
              " Đã trình                  649          12          8          3        19   \n",
              " Đã phê duyệt              474           8          2          2        14   \n",
              "Đã active hạn mức          325           7          2          2        12   \n",
              "\n",
              "                      Values Values        Values  Values    Values  ...  \\\n",
              "Hub                Bến Thành    CRM  CRM Miền Bắc  CRM_EB  CRM_EB_2  ...   \n",
              "Đã phân bổ               787      0             0       0         0  ...   \n",
              "Đã gọi                   212      0             0       0         0  ...   \n",
              "Đã gặp                   184      0             0       0         0  ...   \n",
              "Thu thập hồ sơ            24      0             0       0         0  ...   \n",
              " Định giá                 20      0             0       0         0  ...   \n",
              " Đã trình                 21      0             0       0         0  ...   \n",
              " Đã phê duyệt              7      0             0       0         0  ...   \n",
              "Đã active hạn mức          3      0             0       0         0  ...   \n",
              "\n",
              "                     Values     Values  Values     Values    Values   Values  \\\n",
              "Hub                Tân Bình  Tân Thuận  Tây Hồ  Vĩnh Phúc  Vũng Tàu  Đà Nẵng   \n",
              "Đã phân bổ              621        655     693        131       600      392   \n",
              "Đã gọi                  160        261     185         38       240      110   \n",
              "Đã gặp                   84         99      41         37       109       94   \n",
              "Thu thập hồ sơ            9         10       7          2        13       12   \n",
              " Định giá                24         12      10          1        17       16   \n",
              " Đã trình                23         13      10          1        16       13   \n",
              " Đã phê duyệt            13          9       8          0        12       12   \n",
              "Đã active hạn mức        10         10       0          0        13        8   \n",
              "\n",
              "                     Values   Values   Values    Values  \n",
              "Hub                Đô Thành  Đắk Lắk  Đống Đa  Đồng Nai  \n",
              "Đã phân bổ              669       26     1473       185  \n",
              "Đã gọi                  107       24      410       109  \n",
              "Đã gặp                   61       35      120        33  \n",
              "Thu thập hồ sơ           12        3       34         4  \n",
              " Định giá                 7        2       45         4  \n",
              " Đã trình                 9        2       43         2  \n",
              " Đã phê duyệt             6        2       35         0  \n",
              "Đã active hạn mức         5        2       21         0  \n",
              "\n",
              "[9 rows x 93 columns]"
            ]
          },
          "execution_count": 9,
          "metadata": {},
          "output_type": "execute_result"
        }
      ],
      "source": [
        "hub_rename_index_df.T"
      ]
    },
    {
      "cell_type": "code",
      "execution_count": null,
      "metadata": {
        "colab": {
          "base_uri": "https://localhost:8080/",
          "height": 36
        },
        "id": "JbB75Xp8utRZ",
        "outputId": "96be1411-d88f-41f8-f390-bf91832a6904"
      },
      "outputs": [
        {
          "data": {
            "text/plain": [
              "'0.Toàn hàng'"
            ]
          },
          "execution_count": 10,
          "metadata": {},
          "output_type": "execute_result"
        }
      ],
      "source": [
        "Provinces_list = ['0.Toàn hàng', 'Bình Dương', 'Bình Định', 'Bắc Giang' ,'Bắc Ninh', 'Bến Thành'\n",
        " , 'Cần Thơ'\n",
        ",  'Cộng Hòa' \n",
        ", 'Gò Vấp' ,'HCM' , 'Huế' ,'Hà Nam' ,'Hà Nội' , 'Hải Châu'\n",
        ", 'Hải Dương' ,'Hải Phòng' ,'Hồng Bàng' ,'Khánh Hòa' ,'Kiên Giang'\n",
        " ,'Long An' , 'Lâm Đồng'\n",
        "  ,'Nam Định'\n",
        " ,'Nghệ An' ,'Ninh Bình' ,'Phú Thọ' ,'Quảng Nam' ,'Quảng Ninh' ,'Thanh Hóa'\n",
        " ,'Thanh Xuân' ,'Thái Nguyên' ,'Trần Hưng Đạo' ,'Tân Bình' ,'Tân Thuận'\n",
        " ,'Tây Hồ' ,'Vĩnh Phúc' ,'Vũng Tàu' ,'Đà Nẵng' ,'Đô Thành' ,'Đắk Lắk' ,'Đống Đa','Đồng Nai']\n",
        "Provinces_list[0]\n",
        "\n"
      ]
    },
    {
      "cell_type": "code",
      "execution_count": null,
      "metadata": {
        "id": "4m625nYx2I34"
      },
      "outputs": [],
      "source": []
    },
    {
      "cell_type": "code",
      "execution_count": null,
      "metadata": {
        "id": "2FF3GltcwH-i"
      },
      "outputs": [],
      "source": [
        "def get_data(province):\n",
        "    df  = hub_rename_index_df[hub_rename_index_df['Hub']==province].T.reset_index().drop(0).drop(1)\n",
        "    df  = df.rename(columns= {'index' :'State'})\n",
        "    return df\n"
      ]
    },
    {
      "cell_type": "markdown",
      "metadata": {
        "id": "8b_qLDLXCLZK"
      },
      "source": [
        "## dropdown các tỉnh"
      ]
    },
    {
      "cell_type": "code",
      "execution_count": null,
      "metadata": {
        "colab": {
          "base_uri": "https://localhost:8080/",
          "height": 542
        },
        "id": "8hu30BUkqjnW",
        "outputId": "49636aca-db32-40d8-c6f9-71ee19493e73"
      },
      "outputs": [
        {
          "data": {
            "application/vnd.plotly.v1+json": {
              "config": {
                "plotlyServerURL": "https://plotly.com"
              },
              "data": [
                {
                  "domain": {
                    "x": [
                      0,
                      1
                    ],
                    "y": [
                      0,
                      1
                    ]
                  },
                  "hovertemplate": "State=%{label}<br>Values=%{value}<extra></extra>",
                  "labels": [
                    "Đã gọi",
                    "Đã gặp",
                    "Thu thập hồ sơ",
                    " Định giá",
                    " Đã trình",
                    " Đã phê duyệt",
                    "Đã active hạn mức"
                  ],
                  "legendgroup": "",
                  "name": "",
                  "showlegend": true,
                  "type": "funnelarea",
                  "values": [
                    109,
                    33,
                    4,
                    4,
                    2,
                    0,
                    0
                  ]
                }
              ],
              "layout": {
                "funnelareacolorway": [
                  "rgb(102,194,165)",
                  "rgb(252,141,98)",
                  "rgb(141,160,203)",
                  "rgb(231,138,195)",
                  "rgb(166,216,84)",
                  "rgb(255,217,47)",
                  "rgb(229,196,148)",
                  "rgb(179,179,179)"
                ],
                "legend": {
                  "tracegroupgap": 0
                },
                "margin": {
                  "t": 60
                },
                "template": {
                  "data": {
                    "bar": [
                      {
                        "error_x": {
                          "color": "#2a3f5f"
                        },
                        "error_y": {
                          "color": "#2a3f5f"
                        },
                        "marker": {
                          "line": {
                            "color": "#E5ECF6",
                            "width": 0.5
                          },
                          "pattern": {
                            "fillmode": "overlay",
                            "size": 10,
                            "solidity": 0.2
                          }
                        },
                        "type": "bar"
                      }
                    ],
                    "barpolar": [
                      {
                        "marker": {
                          "line": {
                            "color": "#E5ECF6",
                            "width": 0.5
                          },
                          "pattern": {
                            "fillmode": "overlay",
                            "size": 10,
                            "solidity": 0.2
                          }
                        },
                        "type": "barpolar"
                      }
                    ],
                    "carpet": [
                      {
                        "aaxis": {
                          "endlinecolor": "#2a3f5f",
                          "gridcolor": "white",
                          "linecolor": "white",
                          "minorgridcolor": "white",
                          "startlinecolor": "#2a3f5f"
                        },
                        "baxis": {
                          "endlinecolor": "#2a3f5f",
                          "gridcolor": "white",
                          "linecolor": "white",
                          "minorgridcolor": "white",
                          "startlinecolor": "#2a3f5f"
                        },
                        "type": "carpet"
                      }
                    ],
                    "choropleth": [
                      {
                        "colorbar": {
                          "outlinewidth": 0,
                          "ticks": ""
                        },
                        "type": "choropleth"
                      }
                    ],
                    "contour": [
                      {
                        "colorbar": {
                          "outlinewidth": 0,
                          "ticks": ""
                        },
                        "colorscale": [
                          [
                            0,
                            "#0d0887"
                          ],
                          [
                            0.1111111111111111,
                            "#46039f"
                          ],
                          [
                            0.2222222222222222,
                            "#7201a8"
                          ],
                          [
                            0.3333333333333333,
                            "#9c179e"
                          ],
                          [
                            0.4444444444444444,
                            "#bd3786"
                          ],
                          [
                            0.5555555555555556,
                            "#d8576b"
                          ],
                          [
                            0.6666666666666666,
                            "#ed7953"
                          ],
                          [
                            0.7777777777777778,
                            "#fb9f3a"
                          ],
                          [
                            0.8888888888888888,
                            "#fdca26"
                          ],
                          [
                            1,
                            "#f0f921"
                          ]
                        ],
                        "type": "contour"
                      }
                    ],
                    "contourcarpet": [
                      {
                        "colorbar": {
                          "outlinewidth": 0,
                          "ticks": ""
                        },
                        "type": "contourcarpet"
                      }
                    ],
                    "heatmap": [
                      {
                        "colorbar": {
                          "outlinewidth": 0,
                          "ticks": ""
                        },
                        "colorscale": [
                          [
                            0,
                            "#0d0887"
                          ],
                          [
                            0.1111111111111111,
                            "#46039f"
                          ],
                          [
                            0.2222222222222222,
                            "#7201a8"
                          ],
                          [
                            0.3333333333333333,
                            "#9c179e"
                          ],
                          [
                            0.4444444444444444,
                            "#bd3786"
                          ],
                          [
                            0.5555555555555556,
                            "#d8576b"
                          ],
                          [
                            0.6666666666666666,
                            "#ed7953"
                          ],
                          [
                            0.7777777777777778,
                            "#fb9f3a"
                          ],
                          [
                            0.8888888888888888,
                            "#fdca26"
                          ],
                          [
                            1,
                            "#f0f921"
                          ]
                        ],
                        "type": "heatmap"
                      }
                    ],
                    "heatmapgl": [
                      {
                        "colorbar": {
                          "outlinewidth": 0,
                          "ticks": ""
                        },
                        "colorscale": [
                          [
                            0,
                            "#0d0887"
                          ],
                          [
                            0.1111111111111111,
                            "#46039f"
                          ],
                          [
                            0.2222222222222222,
                            "#7201a8"
                          ],
                          [
                            0.3333333333333333,
                            "#9c179e"
                          ],
                          [
                            0.4444444444444444,
                            "#bd3786"
                          ],
                          [
                            0.5555555555555556,
                            "#d8576b"
                          ],
                          [
                            0.6666666666666666,
                            "#ed7953"
                          ],
                          [
                            0.7777777777777778,
                            "#fb9f3a"
                          ],
                          [
                            0.8888888888888888,
                            "#fdca26"
                          ],
                          [
                            1,
                            "#f0f921"
                          ]
                        ],
                        "type": "heatmapgl"
                      }
                    ],
                    "histogram": [
                      {
                        "marker": {
                          "pattern": {
                            "fillmode": "overlay",
                            "size": 10,
                            "solidity": 0.2
                          }
                        },
                        "type": "histogram"
                      }
                    ],
                    "histogram2d": [
                      {
                        "colorbar": {
                          "outlinewidth": 0,
                          "ticks": ""
                        },
                        "colorscale": [
                          [
                            0,
                            "#0d0887"
                          ],
                          [
                            0.1111111111111111,
                            "#46039f"
                          ],
                          [
                            0.2222222222222222,
                            "#7201a8"
                          ],
                          [
                            0.3333333333333333,
                            "#9c179e"
                          ],
                          [
                            0.4444444444444444,
                            "#bd3786"
                          ],
                          [
                            0.5555555555555556,
                            "#d8576b"
                          ],
                          [
                            0.6666666666666666,
                            "#ed7953"
                          ],
                          [
                            0.7777777777777778,
                            "#fb9f3a"
                          ],
                          [
                            0.8888888888888888,
                            "#fdca26"
                          ],
                          [
                            1,
                            "#f0f921"
                          ]
                        ],
                        "type": "histogram2d"
                      }
                    ],
                    "histogram2dcontour": [
                      {
                        "colorbar": {
                          "outlinewidth": 0,
                          "ticks": ""
                        },
                        "colorscale": [
                          [
                            0,
                            "#0d0887"
                          ],
                          [
                            0.1111111111111111,
                            "#46039f"
                          ],
                          [
                            0.2222222222222222,
                            "#7201a8"
                          ],
                          [
                            0.3333333333333333,
                            "#9c179e"
                          ],
                          [
                            0.4444444444444444,
                            "#bd3786"
                          ],
                          [
                            0.5555555555555556,
                            "#d8576b"
                          ],
                          [
                            0.6666666666666666,
                            "#ed7953"
                          ],
                          [
                            0.7777777777777778,
                            "#fb9f3a"
                          ],
                          [
                            0.8888888888888888,
                            "#fdca26"
                          ],
                          [
                            1,
                            "#f0f921"
                          ]
                        ],
                        "type": "histogram2dcontour"
                      }
                    ],
                    "mesh3d": [
                      {
                        "colorbar": {
                          "outlinewidth": 0,
                          "ticks": ""
                        },
                        "type": "mesh3d"
                      }
                    ],
                    "parcoords": [
                      {
                        "line": {
                          "colorbar": {
                            "outlinewidth": 0,
                            "ticks": ""
                          }
                        },
                        "type": "parcoords"
                      }
                    ],
                    "pie": [
                      {
                        "automargin": true,
                        "type": "pie"
                      }
                    ],
                    "scatter": [
                      {
                        "fillpattern": {
                          "fillmode": "overlay",
                          "size": 10,
                          "solidity": 0.2
                        },
                        "type": "scatter"
                      }
                    ],
                    "scatter3d": [
                      {
                        "line": {
                          "colorbar": {
                            "outlinewidth": 0,
                            "ticks": ""
                          }
                        },
                        "marker": {
                          "colorbar": {
                            "outlinewidth": 0,
                            "ticks": ""
                          }
                        },
                        "type": "scatter3d"
                      }
                    ],
                    "scattercarpet": [
                      {
                        "marker": {
                          "colorbar": {
                            "outlinewidth": 0,
                            "ticks": ""
                          }
                        },
                        "type": "scattercarpet"
                      }
                    ],
                    "scattergeo": [
                      {
                        "marker": {
                          "colorbar": {
                            "outlinewidth": 0,
                            "ticks": ""
                          }
                        },
                        "type": "scattergeo"
                      }
                    ],
                    "scattergl": [
                      {
                        "marker": {
                          "colorbar": {
                            "outlinewidth": 0,
                            "ticks": ""
                          }
                        },
                        "type": "scattergl"
                      }
                    ],
                    "scattermapbox": [
                      {
                        "marker": {
                          "colorbar": {
                            "outlinewidth": 0,
                            "ticks": ""
                          }
                        },
                        "type": "scattermapbox"
                      }
                    ],
                    "scatterpolar": [
                      {
                        "marker": {
                          "colorbar": {
                            "outlinewidth": 0,
                            "ticks": ""
                          }
                        },
                        "type": "scatterpolar"
                      }
                    ],
                    "scatterpolargl": [
                      {
                        "marker": {
                          "colorbar": {
                            "outlinewidth": 0,
                            "ticks": ""
                          }
                        },
                        "type": "scatterpolargl"
                      }
                    ],
                    "scatterternary": [
                      {
                        "marker": {
                          "colorbar": {
                            "outlinewidth": 0,
                            "ticks": ""
                          }
                        },
                        "type": "scatterternary"
                      }
                    ],
                    "surface": [
                      {
                        "colorbar": {
                          "outlinewidth": 0,
                          "ticks": ""
                        },
                        "colorscale": [
                          [
                            0,
                            "#0d0887"
                          ],
                          [
                            0.1111111111111111,
                            "#46039f"
                          ],
                          [
                            0.2222222222222222,
                            "#7201a8"
                          ],
                          [
                            0.3333333333333333,
                            "#9c179e"
                          ],
                          [
                            0.4444444444444444,
                            "#bd3786"
                          ],
                          [
                            0.5555555555555556,
                            "#d8576b"
                          ],
                          [
                            0.6666666666666666,
                            "#ed7953"
                          ],
                          [
                            0.7777777777777778,
                            "#fb9f3a"
                          ],
                          [
                            0.8888888888888888,
                            "#fdca26"
                          ],
                          [
                            1,
                            "#f0f921"
                          ]
                        ],
                        "type": "surface"
                      }
                    ],
                    "table": [
                      {
                        "cells": {
                          "fill": {
                            "color": "#EBF0F8"
                          },
                          "line": {
                            "color": "white"
                          }
                        },
                        "header": {
                          "fill": {
                            "color": "#C8D4E3"
                          },
                          "line": {
                            "color": "white"
                          }
                        },
                        "type": "table"
                      }
                    ]
                  },
                  "layout": {
                    "annotationdefaults": {
                      "arrowcolor": "#2a3f5f",
                      "arrowhead": 0,
                      "arrowwidth": 1
                    },
                    "autotypenumbers": "strict",
                    "coloraxis": {
                      "colorbar": {
                        "outlinewidth": 0,
                        "ticks": ""
                      }
                    },
                    "colorscale": {
                      "diverging": [
                        [
                          0,
                          "#8e0152"
                        ],
                        [
                          0.1,
                          "#c51b7d"
                        ],
                        [
                          0.2,
                          "#de77ae"
                        ],
                        [
                          0.3,
                          "#f1b6da"
                        ],
                        [
                          0.4,
                          "#fde0ef"
                        ],
                        [
                          0.5,
                          "#f7f7f7"
                        ],
                        [
                          0.6,
                          "#e6f5d0"
                        ],
                        [
                          0.7,
                          "#b8e186"
                        ],
                        [
                          0.8,
                          "#7fbc41"
                        ],
                        [
                          0.9,
                          "#4d9221"
                        ],
                        [
                          1,
                          "#276419"
                        ]
                      ],
                      "sequential": [
                        [
                          0,
                          "#0d0887"
                        ],
                        [
                          0.1111111111111111,
                          "#46039f"
                        ],
                        [
                          0.2222222222222222,
                          "#7201a8"
                        ],
                        [
                          0.3333333333333333,
                          "#9c179e"
                        ],
                        [
                          0.4444444444444444,
                          "#bd3786"
                        ],
                        [
                          0.5555555555555556,
                          "#d8576b"
                        ],
                        [
                          0.6666666666666666,
                          "#ed7953"
                        ],
                        [
                          0.7777777777777778,
                          "#fb9f3a"
                        ],
                        [
                          0.8888888888888888,
                          "#fdca26"
                        ],
                        [
                          1,
                          "#f0f921"
                        ]
                      ],
                      "sequentialminus": [
                        [
                          0,
                          "#0d0887"
                        ],
                        [
                          0.1111111111111111,
                          "#46039f"
                        ],
                        [
                          0.2222222222222222,
                          "#7201a8"
                        ],
                        [
                          0.3333333333333333,
                          "#9c179e"
                        ],
                        [
                          0.4444444444444444,
                          "#bd3786"
                        ],
                        [
                          0.5555555555555556,
                          "#d8576b"
                        ],
                        [
                          0.6666666666666666,
                          "#ed7953"
                        ],
                        [
                          0.7777777777777778,
                          "#fb9f3a"
                        ],
                        [
                          0.8888888888888888,
                          "#fdca26"
                        ],
                        [
                          1,
                          "#f0f921"
                        ]
                      ]
                    },
                    "colorway": [
                      "#636efa",
                      "#EF553B",
                      "#00cc96",
                      "#ab63fa",
                      "#FFA15A",
                      "#19d3f3",
                      "#FF6692",
                      "#B6E880",
                      "#FF97FF",
                      "#FECB52"
                    ],
                    "font": {
                      "color": "#2a3f5f"
                    },
                    "geo": {
                      "bgcolor": "white",
                      "lakecolor": "white",
                      "landcolor": "#E5ECF6",
                      "showlakes": true,
                      "showland": true,
                      "subunitcolor": "white"
                    },
                    "hoverlabel": {
                      "align": "left"
                    },
                    "hovermode": "closest",
                    "mapbox": {
                      "style": "light"
                    },
                    "paper_bgcolor": "white",
                    "plot_bgcolor": "#E5ECF6",
                    "polar": {
                      "angularaxis": {
                        "gridcolor": "white",
                        "linecolor": "white",
                        "ticks": ""
                      },
                      "bgcolor": "#E5ECF6",
                      "radialaxis": {
                        "gridcolor": "white",
                        "linecolor": "white",
                        "ticks": ""
                      }
                    },
                    "scene": {
                      "xaxis": {
                        "backgroundcolor": "#E5ECF6",
                        "gridcolor": "white",
                        "gridwidth": 2,
                        "linecolor": "white",
                        "showbackground": true,
                        "ticks": "",
                        "zerolinecolor": "white"
                      },
                      "yaxis": {
                        "backgroundcolor": "#E5ECF6",
                        "gridcolor": "white",
                        "gridwidth": 2,
                        "linecolor": "white",
                        "showbackground": true,
                        "ticks": "",
                        "zerolinecolor": "white"
                      },
                      "zaxis": {
                        "backgroundcolor": "#E5ECF6",
                        "gridcolor": "white",
                        "gridwidth": 2,
                        "linecolor": "white",
                        "showbackground": true,
                        "ticks": "",
                        "zerolinecolor": "white"
                      }
                    },
                    "shapedefaults": {
                      "line": {
                        "color": "#2a3f5f"
                      }
                    },
                    "ternary": {
                      "aaxis": {
                        "gridcolor": "white",
                        "linecolor": "white",
                        "ticks": ""
                      },
                      "baxis": {
                        "gridcolor": "white",
                        "linecolor": "white",
                        "ticks": ""
                      },
                      "bgcolor": "#E5ECF6",
                      "caxis": {
                        "gridcolor": "white",
                        "linecolor": "white",
                        "ticks": ""
                      }
                    },
                    "title": {
                      "x": 0.05
                    },
                    "xaxis": {
                      "automargin": true,
                      "gridcolor": "white",
                      "linecolor": "white",
                      "ticks": "",
                      "title": {
                        "standoff": 15
                      },
                      "zerolinecolor": "white",
                      "zerolinewidth": 2
                    },
                    "yaxis": {
                      "automargin": true,
                      "gridcolor": "white",
                      "linecolor": "white",
                      "ticks": "",
                      "title": {
                        "standoff": 15
                      },
                      "zerolinecolor": "white",
                      "zerolinewidth": 2
                    }
                  }
                },
                "updatemenus": [
                  {
                    "buttons": [
                      {
                        "args": [
                          {
                            "text": [
                              [
                                "Đã gọi",
                                "Đã gặp",
                                "Thu thập hồ sơ",
                                " Định giá",
                                " Đã trình",
                                " Đã phê duyệt",
                                "Đã active hạn mức"
                              ]
                            ],
                            "values": [
                              [
                                21090,
                                3556,
                                619,
                                676,
                                649,
                                474,
                                325
                              ]
                            ]
                          }
                        ],
                        "label": "0.Toàn hàng",
                        "method": "update"
                      },
                      {
                        "args": [
                          {
                            "text": [
                              [
                                "Đã gọi",
                                "Đã gặp",
                                "Thu thập hồ sơ",
                                " Định giá",
                                " Đã trình",
                                " Đã phê duyệt",
                                "Đã active hạn mức"
                              ]
                            ],
                            "values": [
                              [
                                713,
                                114,
                                18,
                                20,
                                12,
                                8,
                                7
                              ]
                            ]
                          }
                        ],
                        "label": "Bình Dương",
                        "method": "update"
                      },
                      {
                        "args": [
                          {
                            "text": [
                              [
                                "Đã gọi",
                                "Đã gặp",
                                "Thu thập hồ sơ",
                                " Định giá",
                                " Đã trình",
                                " Đã phê duyệt",
                                "Đã active hạn mức"
                              ]
                            ],
                            "values": [
                              [
                                123,
                                19,
                                7,
                                6,
                                8,
                                2,
                                2
                              ]
                            ]
                          }
                        ],
                        "label": "Bình Định",
                        "method": "update"
                      },
                      {
                        "args": [
                          {
                            "text": [
                              [
                                "Đã gọi",
                                "Đã gặp",
                                "Thu thập hồ sơ",
                                " Định giá",
                                " Đã trình",
                                " Đã phê duyệt",
                                "Đã active hạn mức"
                              ]
                            ],
                            "values": [
                              [
                                39,
                                34,
                                4,
                                3,
                                3,
                                2,
                                2
                              ]
                            ]
                          }
                        ],
                        "label": "Bắc Giang",
                        "method": "update"
                      },
                      {
                        "args": [
                          {
                            "text": [
                              [
                                "Đã gọi",
                                "Đã gặp",
                                "Thu thập hồ sơ",
                                " Định giá",
                                " Đã trình",
                                " Đã phê duyệt",
                                "Đã active hạn mức"
                              ]
                            ],
                            "values": [
                              [
                                453,
                                93,
                                19,
                                20,
                                19,
                                14,
                                12
                              ]
                            ]
                          }
                        ],
                        "label": "Bắc Ninh",
                        "method": "update"
                      },
                      {
                        "args": [
                          {
                            "text": [
                              [
                                "Đã gọi",
                                "Đã gặp",
                                "Thu thập hồ sơ",
                                " Định giá",
                                " Đã trình",
                                " Đã phê duyệt",
                                "Đã active hạn mức"
                              ]
                            ],
                            "values": [
                              [
                                212,
                                184,
                                24,
                                20,
                                21,
                                7,
                                3
                              ]
                            ]
                          }
                        ],
                        "label": "Bến Thành",
                        "method": "update"
                      },
                      {
                        "args": [
                          {
                            "text": [
                              [
                                "Đã gọi",
                                "Đã gặp",
                                "Thu thập hồ sơ",
                                " Định giá",
                                " Đã trình",
                                " Đã phê duyệt",
                                "Đã active hạn mức"
                              ]
                            ],
                            "values": [
                              [
                                76,
                                62,
                                6,
                                6,
                                6,
                                5,
                                7
                              ]
                            ]
                          }
                        ],
                        "label": "Cần Thơ",
                        "method": "update"
                      },
                      {
                        "args": [
                          {
                            "text": [
                              [
                                "Đã gọi",
                                "Đã gặp",
                                "Thu thập hồ sơ",
                                " Định giá",
                                " Đã trình",
                                " Đã phê duyệt",
                                "Đã active hạn mức"
                              ]
                            ],
                            "values": [
                              [
                                650,
                                80,
                                11,
                                14,
                                12,
                                7,
                                6
                              ]
                            ]
                          }
                        ],
                        "label": "Cộng Hòa",
                        "method": "update"
                      },
                      {
                        "args": [
                          {
                            "text": [
                              [
                                "Đã gọi",
                                "Đã gặp",
                                "Thu thập hồ sơ",
                                " Định giá",
                                " Đã trình",
                                " Đã phê duyệt",
                                "Đã active hạn mức"
                              ]
                            ],
                            "values": [
                              [
                                409,
                                72,
                                19,
                                25,
                                20,
                                15,
                                7
                              ]
                            ]
                          }
                        ],
                        "label": "Gò Vấp",
                        "method": "update"
                      },
                      {
                        "args": [
                          {
                            "text": [
                              [
                                "Đã gọi",
                                "Đã gặp",
                                "Thu thập hồ sơ",
                                " Định giá",
                                " Đã trình",
                                " Đã phê duyệt",
                                "Đã active hạn mức"
                              ]
                            ],
                            "values": [
                              [
                                230,
                                93,
                                15,
                                19,
                                20,
                                17,
                                8
                              ]
                            ]
                          }
                        ],
                        "label": "HCM",
                        "method": "update"
                      },
                      {
                        "args": [
                          {
                            "text": [
                              [
                                "Đã gọi",
                                "Đã gặp",
                                "Thu thập hồ sơ",
                                " Định giá",
                                " Đã trình",
                                " Đã phê duyệt",
                                "Đã active hạn mức"
                              ]
                            ],
                            "values": [
                              [
                                161,
                                71,
                                15,
                                9,
                                10,
                                8,
                                9
                              ]
                            ]
                          }
                        ],
                        "label": "Huế",
                        "method": "update"
                      },
                      {
                        "args": [
                          {
                            "text": [
                              [
                                "Đã gọi",
                                "Đã gặp",
                                "Thu thập hồ sơ",
                                " Định giá",
                                " Đã trình",
                                " Đã phê duyệt",
                                "Đã active hạn mức"
                              ]
                            ],
                            "values": [
                              [
                                280,
                                37,
                                6,
                                5,
                                5,
                                3,
                                4
                              ]
                            ]
                          }
                        ],
                        "label": "Hà Nam",
                        "method": "update"
                      },
                      {
                        "args": [
                          {
                            "text": [
                              [
                                "Đã gọi",
                                "Đã gặp",
                                "Thu thập hồ sơ",
                                " Định giá",
                                " Đã trình",
                                " Đã phê duyệt",
                                "Đã active hạn mức"
                              ]
                            ],
                            "values": [
                              [
                                408,
                                158,
                                12,
                                16,
                                17,
                                13,
                                3
                              ]
                            ]
                          }
                        ],
                        "label": "Hà Nội",
                        "method": "update"
                      },
                      {
                        "args": [
                          {
                            "text": [
                              [
                                "Đã gọi",
                                "Đã gặp",
                                "Thu thập hồ sơ",
                                " Định giá",
                                " Đã trình",
                                " Đã phê duyệt",
                                "Đã active hạn mức"
                              ]
                            ],
                            "values": [
                              [
                                190,
                                102,
                                45,
                                43,
                                36,
                                27,
                                22
                              ]
                            ]
                          }
                        ],
                        "label": "Hải Châu",
                        "method": "update"
                      },
                      {
                        "args": [
                          {
                            "text": [
                              [
                                "Đã gọi",
                                "Đã gặp",
                                "Thu thập hồ sơ",
                                " Định giá",
                                " Đã trình",
                                " Đã phê duyệt",
                                "Đã active hạn mức"
                              ]
                            ],
                            "values": [
                              [
                                67,
                                48,
                                1,
                                2,
                                2,
                                3,
                                3
                              ]
                            ]
                          }
                        ],
                        "label": "Hải Dương",
                        "method": "update"
                      },
                      {
                        "args": [
                          {
                            "text": [
                              [
                                "Đã gọi",
                                "Đã gặp",
                                "Thu thập hồ sơ",
                                " Định giá",
                                " Đã trình",
                                " Đã phê duyệt",
                                "Đã active hạn mức"
                              ]
                            ],
                            "values": [
                              [
                                59,
                                33,
                                6,
                                5,
                                2,
                                2,
                                2
                              ]
                            ]
                          }
                        ],
                        "label": "Hải Phòng",
                        "method": "update"
                      },
                      {
                        "args": [
                          {
                            "text": [
                              [
                                "Đã gọi",
                                "Đã gặp",
                                "Thu thập hồ sơ",
                                " Định giá",
                                " Đã trình",
                                " Đã phê duyệt",
                                "Đã active hạn mức"
                              ]
                            ],
                            "values": [
                              [
                                616,
                                91,
                                18,
                                12,
                                11,
                                7,
                                7
                              ]
                            ]
                          }
                        ],
                        "label": "Hồng Bàng",
                        "method": "update"
                      },
                      {
                        "args": [
                          {
                            "text": [
                              [
                                "Đã gọi",
                                "Đã gặp",
                                "Thu thập hồ sơ",
                                " Định giá",
                                " Đã trình",
                                " Đã phê duyệt",
                                "Đã active hạn mức"
                              ]
                            ],
                            "values": [
                              [
                                143,
                                34,
                                6,
                                7,
                                8,
                                2,
                                2
                              ]
                            ]
                          }
                        ],
                        "label": "Khánh Hòa",
                        "method": "update"
                      },
                      {
                        "args": [
                          {
                            "text": [
                              [
                                "Đã gọi",
                                "Đã gặp",
                                "Thu thập hồ sơ",
                                " Định giá",
                                " Đã trình",
                                " Đã phê duyệt",
                                "Đã active hạn mức"
                              ]
                            ],
                            "values": [
                              [
                                20,
                                21,
                                0,
                                0,
                                0,
                                0,
                                0
                              ]
                            ]
                          }
                        ],
                        "label": "Kiên Giang",
                        "method": "update"
                      },
                      {
                        "args": [
                          {
                            "text": [
                              [
                                "Đã gọi",
                                "Đã gặp",
                                "Thu thập hồ sơ",
                                " Định giá",
                                " Đã trình",
                                " Đã phê duyệt",
                                "Đã active hạn mức"
                              ]
                            ],
                            "values": [
                              [
                                44,
                                40,
                                8,
                                10,
                                10,
                                12,
                                6
                              ]
                            ]
                          }
                        ],
                        "label": "Long An",
                        "method": "update"
                      },
                      {
                        "args": [
                          {
                            "text": [
                              [
                                "Đã gọi",
                                "Đã gặp",
                                "Thu thập hồ sơ",
                                " Định giá",
                                " Đã trình",
                                " Đã phê duyệt",
                                "Đã active hạn mức"
                              ]
                            ],
                            "values": [
                              [
                                26,
                                20,
                                5,
                                5,
                                4,
                                1,
                                2
                              ]
                            ]
                          }
                        ],
                        "label": "Lâm Đồng",
                        "method": "update"
                      },
                      {
                        "args": [
                          {
                            "text": [
                              [
                                "Đã gọi",
                                "Đã gặp",
                                "Thu thập hồ sơ",
                                " Định giá",
                                " Đã trình",
                                " Đã phê duyệt",
                                "Đã active hạn mức"
                              ]
                            ],
                            "values": [
                              [
                                67,
                                19,
                                0,
                                1,
                                1,
                                1,
                                0
                              ]
                            ]
                          }
                        ],
                        "label": "Nam Định",
                        "method": "update"
                      },
                      {
                        "args": [
                          {
                            "text": [
                              [
                                "Đã gọi",
                                "Đã gặp",
                                "Thu thập hồ sơ",
                                " Định giá",
                                " Đã trình",
                                " Đã phê duyệt",
                                "Đã active hạn mức"
                              ]
                            ],
                            "values": [
                              [
                                177,
                                67,
                                15,
                                14,
                                14,
                                8,
                                5
                              ]
                            ]
                          }
                        ],
                        "label": "Nghệ An",
                        "method": "update"
                      },
                      {
                        "args": [
                          {
                            "text": [
                              [
                                "Đã gọi",
                                "Đã gặp",
                                "Thu thập hồ sơ",
                                " Định giá",
                                " Đã trình",
                                " Đã phê duyệt",
                                "Đã active hạn mức"
                              ]
                            ],
                            "values": [
                              [
                                121,
                                12,
                                1,
                                2,
                                2,
                                1,
                                0
                              ]
                            ]
                          }
                        ],
                        "label": "Ninh Bình",
                        "method": "update"
                      },
                      {
                        "args": [
                          {
                            "text": [
                              [
                                "Đã gọi",
                                "Đã gặp",
                                "Thu thập hồ sơ",
                                " Định giá",
                                " Đã trình",
                                " Đã phê duyệt",
                                "Đã active hạn mức"
                              ]
                            ],
                            "values": [
                              [
                                52,
                                42,
                                0,
                                1,
                                1,
                                1,
                                1
                              ]
                            ]
                          }
                        ],
                        "label": "Phú Thọ",
                        "method": "update"
                      },
                      {
                        "args": [
                          {
                            "text": [
                              [
                                "Đã gọi",
                                "Đã gặp",
                                "Thu thập hồ sơ",
                                " Định giá",
                                " Đã trình",
                                " Đã phê duyệt",
                                "Đã active hạn mức"
                              ]
                            ],
                            "values": [
                              [
                                71,
                                41,
                                7,
                                6,
                                6,
                                6,
                                3
                              ]
                            ]
                          }
                        ],
                        "label": "Quảng Nam",
                        "method": "update"
                      },
                      {
                        "args": [
                          {
                            "text": [
                              [
                                "Đã gọi",
                                "Đã gặp",
                                "Thu thập hồ sơ",
                                " Định giá",
                                " Đã trình",
                                " Đã phê duyệt",
                                "Đã active hạn mức"
                              ]
                            ],
                            "values": [
                              [
                                65,
                                55,
                                7,
                                6,
                                7,
                                3,
                                4
                              ]
                            ]
                          }
                        ],
                        "label": "Quảng Ninh",
                        "method": "update"
                      },
                      {
                        "args": [
                          {
                            "text": [
                              [
                                "Đã gọi",
                                "Đã gặp",
                                "Thu thập hồ sơ",
                                " Định giá",
                                " Đã trình",
                                " Đã phê duyệt",
                                "Đã active hạn mức"
                              ]
                            ],
                            "values": [
                              [
                                366,
                                71,
                                1,
                                4,
                                4,
                                4,
                                3
                              ]
                            ]
                          }
                        ],
                        "label": "Thanh Hóa",
                        "method": "update"
                      },
                      {
                        "args": [
                          {
                            "text": [
                              [
                                "Đã gọi",
                                "Đã gặp",
                                "Thu thập hồ sơ",
                                " Định giá",
                                " Đã trình",
                                " Đã phê duyệt",
                                "Đã active hạn mức"
                              ]
                            ],
                            "values": [
                              [
                                677,
                                66,
                                17,
                                17,
                                17,
                                10,
                                1
                              ]
                            ]
                          }
                        ],
                        "label": "Thanh Xuân",
                        "method": "update"
                      },
                      {
                        "args": [
                          {
                            "text": [
                              [
                                "Đã gọi",
                                "Đã gặp",
                                "Thu thập hồ sơ",
                                " Định giá",
                                " Đã trình",
                                " Đã phê duyệt",
                                "Đã active hạn mức"
                              ]
                            ],
                            "values": [
                              [
                                332,
                                67,
                                6,
                                8,
                                8,
                                4,
                                3
                              ]
                            ]
                          }
                        ],
                        "label": "Thái Nguyên",
                        "method": "update"
                      },
                      {
                        "args": [
                          {
                            "text": [
                              [
                                "Đã gọi",
                                "Đã gặp",
                                "Thu thập hồ sơ",
                                " Định giá",
                                " Đã trình",
                                " Đã phê duyệt",
                                "Đã active hạn mức"
                              ]
                            ],
                            "values": [
                              [
                                136,
                                83,
                                16,
                                12,
                                13,
                                11,
                                7
                              ]
                            ]
                          }
                        ],
                        "label": "Trần Hưng Đạo",
                        "method": "update"
                      },
                      {
                        "args": [
                          {
                            "text": [
                              [
                                "Đã gọi",
                                "Đã gặp",
                                "Thu thập hồ sơ",
                                " Định giá",
                                " Đã trình",
                                " Đã phê duyệt",
                                "Đã active hạn mức"
                              ]
                            ],
                            "values": [
                              [
                                160,
                                84,
                                9,
                                24,
                                23,
                                13,
                                10
                              ]
                            ]
                          }
                        ],
                        "label": "Tân Bình",
                        "method": "update"
                      },
                      {
                        "args": [
                          {
                            "text": [
                              [
                                "Đã gọi",
                                "Đã gặp",
                                "Thu thập hồ sơ",
                                " Định giá",
                                " Đã trình",
                                " Đã phê duyệt",
                                "Đã active hạn mức"
                              ]
                            ],
                            "values": [
                              [
                                261,
                                99,
                                10,
                                12,
                                13,
                                9,
                                10
                              ]
                            ]
                          }
                        ],
                        "label": "Tân Thuận",
                        "method": "update"
                      },
                      {
                        "args": [
                          {
                            "text": [
                              [
                                "Đã gọi",
                                "Đã gặp",
                                "Thu thập hồ sơ",
                                " Định giá",
                                " Đã trình",
                                " Đã phê duyệt",
                                "Đã active hạn mức"
                              ]
                            ],
                            "values": [
                              [
                                185,
                                41,
                                7,
                                10,
                                10,
                                8,
                                0
                              ]
                            ]
                          }
                        ],
                        "label": "Tây Hồ",
                        "method": "update"
                      },
                      {
                        "args": [
                          {
                            "text": [
                              [
                                "Đã gọi",
                                "Đã gặp",
                                "Thu thập hồ sơ",
                                " Định giá",
                                " Đã trình",
                                " Đã phê duyệt",
                                "Đã active hạn mức"
                              ]
                            ],
                            "values": [
                              [
                                38,
                                37,
                                2,
                                1,
                                1,
                                0,
                                0
                              ]
                            ]
                          }
                        ],
                        "label": "Vĩnh Phúc",
                        "method": "update"
                      },
                      {
                        "args": [
                          {
                            "text": [
                              [
                                "Đã gọi",
                                "Đã gặp",
                                "Thu thập hồ sơ",
                                " Định giá",
                                " Đã trình",
                                " Đã phê duyệt",
                                "Đã active hạn mức"
                              ]
                            ],
                            "values": [
                              [
                                240,
                                109,
                                13,
                                17,
                                16,
                                12,
                                13
                              ]
                            ]
                          }
                        ],
                        "label": "Vũng Tàu",
                        "method": "update"
                      },
                      {
                        "args": [
                          {
                            "text": [
                              [
                                "Đã gọi",
                                "Đã gặp",
                                "Thu thập hồ sơ",
                                " Định giá",
                                " Đã trình",
                                " Đã phê duyệt",
                                "Đã active hạn mức"
                              ]
                            ],
                            "values": [
                              [
                                110,
                                94,
                                12,
                                16,
                                13,
                                12,
                                8
                              ]
                            ]
                          }
                        ],
                        "label": "Đà Nẵng",
                        "method": "update"
                      },
                      {
                        "args": [
                          {
                            "text": [
                              [
                                "Đã gọi",
                                "Đã gặp",
                                "Thu thập hồ sơ",
                                " Định giá",
                                " Đã trình",
                                " Đã phê duyệt",
                                "Đã active hạn mức"
                              ]
                            ],
                            "values": [
                              [
                                107,
                                61,
                                12,
                                7,
                                9,
                                6,
                                5
                              ]
                            ]
                          }
                        ],
                        "label": "Đô Thành",
                        "method": "update"
                      },
                      {
                        "args": [
                          {
                            "text": [
                              [
                                "Đã gọi",
                                "Đã gặp",
                                "Thu thập hồ sơ",
                                " Định giá",
                                " Đã trình",
                                " Đã phê duyệt",
                                "Đã active hạn mức"
                              ]
                            ],
                            "values": [
                              [
                                24,
                                35,
                                3,
                                2,
                                2,
                                2,
                                2
                              ]
                            ]
                          }
                        ],
                        "label": "Đắk Lắk",
                        "method": "update"
                      },
                      {
                        "args": [
                          {
                            "text": [
                              [
                                "Đã gọi",
                                "Đã gặp",
                                "Thu thập hồ sơ",
                                " Định giá",
                                " Đã trình",
                                " Đã phê duyệt",
                                "Đã active hạn mức"
                              ]
                            ],
                            "values": [
                              [
                                410,
                                120,
                                34,
                                45,
                                43,
                                35,
                                21
                              ]
                            ]
                          }
                        ],
                        "label": "Đống Đa",
                        "method": "update"
                      },
                      {
                        "args": [
                          {
                            "text": [
                              [
                                "Đã gọi",
                                "Đã gặp",
                                "Thu thập hồ sơ",
                                " Định giá",
                                " Đã trình",
                                " Đã phê duyệt",
                                "Đã active hạn mức"
                              ]
                            ],
                            "values": [
                              [
                                109,
                                33,
                                4,
                                4,
                                2,
                                0,
                                0
                              ]
                            ]
                          }
                        ],
                        "label": "Đồng Nai",
                        "method": "update"
                      }
                    ]
                  }
                ]
              }
            }
          },
          "metadata": {},
          "output_type": "display_data"
        }
      ],
      "source": [
        "import plotly.express as px\n",
        "import pandas as pd\n",
        "\n",
        "buttons = []\n",
        "for i in Provinces_list:\n",
        "  df = get_data(i)\n",
        "  buttons.append(\n",
        "              dict(\n",
        "                  args=[{'values': [df['Values']],\n",
        "                        'text': [df['State']]}],\n",
        "                  label=i,\n",
        "                  method='update'\n",
        "              )\n",
        "  )\n",
        "buttons[0]\n",
        "fig = px.funnel_area(df, names='State', values='Values',\n",
        "                    #  title='Funnel Area Chart of State Values',\n",
        "                    color_discrete_sequence=px.colors.qualitative.Set2)\n",
        "\n",
        "\n",
        "\n",
        "# Add dropdown\n",
        "fig.update_layout(\n",
        "    updatemenus=[\n",
        "        dict(\n",
        "            buttons=buttons,\n",
        "            # direction=\"down\",\n",
        "            # showactive=True,\n",
        "            # x=1.1,\n",
        "            # y=1.1,\n",
        "        ),\n",
        "    ]\n",
        ")\n",
        "\n",
        "\n",
        "fig.show()"
      ]
    },
    {
      "cell_type": "code",
      "execution_count": null,
      "metadata": {
        "colab": {
          "base_uri": "https://localhost:8080/",
          "height": 542
        },
        "id": "E5u6xYxHChYg",
        "outputId": "c4710735-e843-4bd0-c348-7b164e3b8197"
      },
      "outputs": [
        {
          "data": {
            "application/vnd.plotly.v1+json": {
              "config": {
                "plotlyServerURL": "https://plotly.com"
              },
              "data": [
                {
                  "marker": {
                    "color": "#39FFFF"
                  },
                  "textinfo": "value+percent previous",
                  "type": "funnel",
                  "x": [
                    713,
                    114,
                    18,
                    20,
                    12,
                    8,
                    7
                  ],
                  "y": [
                    "Đã gọi",
                    "Đã gặp",
                    "Thu thập hồ sơ",
                    " Định giá",
                    " Đã trình",
                    " Đã phê duyệt",
                    "Đã active hạn mức"
                  ]
                }
              ],
              "layout": {
                "font": {
                  "size": 18
                },
                "plot_bgcolor": "white",
                "template": {
                  "data": {
                    "bar": [
                      {
                        "error_x": {
                          "color": "#2a3f5f"
                        },
                        "error_y": {
                          "color": "#2a3f5f"
                        },
                        "marker": {
                          "line": {
                            "color": "#E5ECF6",
                            "width": 0.5
                          },
                          "pattern": {
                            "fillmode": "overlay",
                            "size": 10,
                            "solidity": 0.2
                          }
                        },
                        "type": "bar"
                      }
                    ],
                    "barpolar": [
                      {
                        "marker": {
                          "line": {
                            "color": "#E5ECF6",
                            "width": 0.5
                          },
                          "pattern": {
                            "fillmode": "overlay",
                            "size": 10,
                            "solidity": 0.2
                          }
                        },
                        "type": "barpolar"
                      }
                    ],
                    "carpet": [
                      {
                        "aaxis": {
                          "endlinecolor": "#2a3f5f",
                          "gridcolor": "white",
                          "linecolor": "white",
                          "minorgridcolor": "white",
                          "startlinecolor": "#2a3f5f"
                        },
                        "baxis": {
                          "endlinecolor": "#2a3f5f",
                          "gridcolor": "white",
                          "linecolor": "white",
                          "minorgridcolor": "white",
                          "startlinecolor": "#2a3f5f"
                        },
                        "type": "carpet"
                      }
                    ],
                    "choropleth": [
                      {
                        "colorbar": {
                          "outlinewidth": 0,
                          "ticks": ""
                        },
                        "type": "choropleth"
                      }
                    ],
                    "contour": [
                      {
                        "colorbar": {
                          "outlinewidth": 0,
                          "ticks": ""
                        },
                        "colorscale": [
                          [
                            0,
                            "#0d0887"
                          ],
                          [
                            0.1111111111111111,
                            "#46039f"
                          ],
                          [
                            0.2222222222222222,
                            "#7201a8"
                          ],
                          [
                            0.3333333333333333,
                            "#9c179e"
                          ],
                          [
                            0.4444444444444444,
                            "#bd3786"
                          ],
                          [
                            0.5555555555555556,
                            "#d8576b"
                          ],
                          [
                            0.6666666666666666,
                            "#ed7953"
                          ],
                          [
                            0.7777777777777778,
                            "#fb9f3a"
                          ],
                          [
                            0.8888888888888888,
                            "#fdca26"
                          ],
                          [
                            1,
                            "#f0f921"
                          ]
                        ],
                        "type": "contour"
                      }
                    ],
                    "contourcarpet": [
                      {
                        "colorbar": {
                          "outlinewidth": 0,
                          "ticks": ""
                        },
                        "type": "contourcarpet"
                      }
                    ],
                    "heatmap": [
                      {
                        "colorbar": {
                          "outlinewidth": 0,
                          "ticks": ""
                        },
                        "colorscale": [
                          [
                            0,
                            "#0d0887"
                          ],
                          [
                            0.1111111111111111,
                            "#46039f"
                          ],
                          [
                            0.2222222222222222,
                            "#7201a8"
                          ],
                          [
                            0.3333333333333333,
                            "#9c179e"
                          ],
                          [
                            0.4444444444444444,
                            "#bd3786"
                          ],
                          [
                            0.5555555555555556,
                            "#d8576b"
                          ],
                          [
                            0.6666666666666666,
                            "#ed7953"
                          ],
                          [
                            0.7777777777777778,
                            "#fb9f3a"
                          ],
                          [
                            0.8888888888888888,
                            "#fdca26"
                          ],
                          [
                            1,
                            "#f0f921"
                          ]
                        ],
                        "type": "heatmap"
                      }
                    ],
                    "heatmapgl": [
                      {
                        "colorbar": {
                          "outlinewidth": 0,
                          "ticks": ""
                        },
                        "colorscale": [
                          [
                            0,
                            "#0d0887"
                          ],
                          [
                            0.1111111111111111,
                            "#46039f"
                          ],
                          [
                            0.2222222222222222,
                            "#7201a8"
                          ],
                          [
                            0.3333333333333333,
                            "#9c179e"
                          ],
                          [
                            0.4444444444444444,
                            "#bd3786"
                          ],
                          [
                            0.5555555555555556,
                            "#d8576b"
                          ],
                          [
                            0.6666666666666666,
                            "#ed7953"
                          ],
                          [
                            0.7777777777777778,
                            "#fb9f3a"
                          ],
                          [
                            0.8888888888888888,
                            "#fdca26"
                          ],
                          [
                            1,
                            "#f0f921"
                          ]
                        ],
                        "type": "heatmapgl"
                      }
                    ],
                    "histogram": [
                      {
                        "marker": {
                          "pattern": {
                            "fillmode": "overlay",
                            "size": 10,
                            "solidity": 0.2
                          }
                        },
                        "type": "histogram"
                      }
                    ],
                    "histogram2d": [
                      {
                        "colorbar": {
                          "outlinewidth": 0,
                          "ticks": ""
                        },
                        "colorscale": [
                          [
                            0,
                            "#0d0887"
                          ],
                          [
                            0.1111111111111111,
                            "#46039f"
                          ],
                          [
                            0.2222222222222222,
                            "#7201a8"
                          ],
                          [
                            0.3333333333333333,
                            "#9c179e"
                          ],
                          [
                            0.4444444444444444,
                            "#bd3786"
                          ],
                          [
                            0.5555555555555556,
                            "#d8576b"
                          ],
                          [
                            0.6666666666666666,
                            "#ed7953"
                          ],
                          [
                            0.7777777777777778,
                            "#fb9f3a"
                          ],
                          [
                            0.8888888888888888,
                            "#fdca26"
                          ],
                          [
                            1,
                            "#f0f921"
                          ]
                        ],
                        "type": "histogram2d"
                      }
                    ],
                    "histogram2dcontour": [
                      {
                        "colorbar": {
                          "outlinewidth": 0,
                          "ticks": ""
                        },
                        "colorscale": [
                          [
                            0,
                            "#0d0887"
                          ],
                          [
                            0.1111111111111111,
                            "#46039f"
                          ],
                          [
                            0.2222222222222222,
                            "#7201a8"
                          ],
                          [
                            0.3333333333333333,
                            "#9c179e"
                          ],
                          [
                            0.4444444444444444,
                            "#bd3786"
                          ],
                          [
                            0.5555555555555556,
                            "#d8576b"
                          ],
                          [
                            0.6666666666666666,
                            "#ed7953"
                          ],
                          [
                            0.7777777777777778,
                            "#fb9f3a"
                          ],
                          [
                            0.8888888888888888,
                            "#fdca26"
                          ],
                          [
                            1,
                            "#f0f921"
                          ]
                        ],
                        "type": "histogram2dcontour"
                      }
                    ],
                    "mesh3d": [
                      {
                        "colorbar": {
                          "outlinewidth": 0,
                          "ticks": ""
                        },
                        "type": "mesh3d"
                      }
                    ],
                    "parcoords": [
                      {
                        "line": {
                          "colorbar": {
                            "outlinewidth": 0,
                            "ticks": ""
                          }
                        },
                        "type": "parcoords"
                      }
                    ],
                    "pie": [
                      {
                        "automargin": true,
                        "type": "pie"
                      }
                    ],
                    "scatter": [
                      {
                        "fillpattern": {
                          "fillmode": "overlay",
                          "size": 10,
                          "solidity": 0.2
                        },
                        "type": "scatter"
                      }
                    ],
                    "scatter3d": [
                      {
                        "line": {
                          "colorbar": {
                            "outlinewidth": 0,
                            "ticks": ""
                          }
                        },
                        "marker": {
                          "colorbar": {
                            "outlinewidth": 0,
                            "ticks": ""
                          }
                        },
                        "type": "scatter3d"
                      }
                    ],
                    "scattercarpet": [
                      {
                        "marker": {
                          "colorbar": {
                            "outlinewidth": 0,
                            "ticks": ""
                          }
                        },
                        "type": "scattercarpet"
                      }
                    ],
                    "scattergeo": [
                      {
                        "marker": {
                          "colorbar": {
                            "outlinewidth": 0,
                            "ticks": ""
                          }
                        },
                        "type": "scattergeo"
                      }
                    ],
                    "scattergl": [
                      {
                        "marker": {
                          "colorbar": {
                            "outlinewidth": 0,
                            "ticks": ""
                          }
                        },
                        "type": "scattergl"
                      }
                    ],
                    "scattermapbox": [
                      {
                        "marker": {
                          "colorbar": {
                            "outlinewidth": 0,
                            "ticks": ""
                          }
                        },
                        "type": "scattermapbox"
                      }
                    ],
                    "scatterpolar": [
                      {
                        "marker": {
                          "colorbar": {
                            "outlinewidth": 0,
                            "ticks": ""
                          }
                        },
                        "type": "scatterpolar"
                      }
                    ],
                    "scatterpolargl": [
                      {
                        "marker": {
                          "colorbar": {
                            "outlinewidth": 0,
                            "ticks": ""
                          }
                        },
                        "type": "scatterpolargl"
                      }
                    ],
                    "scatterternary": [
                      {
                        "marker": {
                          "colorbar": {
                            "outlinewidth": 0,
                            "ticks": ""
                          }
                        },
                        "type": "scatterternary"
                      }
                    ],
                    "surface": [
                      {
                        "colorbar": {
                          "outlinewidth": 0,
                          "ticks": ""
                        },
                        "colorscale": [
                          [
                            0,
                            "#0d0887"
                          ],
                          [
                            0.1111111111111111,
                            "#46039f"
                          ],
                          [
                            0.2222222222222222,
                            "#7201a8"
                          ],
                          [
                            0.3333333333333333,
                            "#9c179e"
                          ],
                          [
                            0.4444444444444444,
                            "#bd3786"
                          ],
                          [
                            0.5555555555555556,
                            "#d8576b"
                          ],
                          [
                            0.6666666666666666,
                            "#ed7953"
                          ],
                          [
                            0.7777777777777778,
                            "#fb9f3a"
                          ],
                          [
                            0.8888888888888888,
                            "#fdca26"
                          ],
                          [
                            1,
                            "#f0f921"
                          ]
                        ],
                        "type": "surface"
                      }
                    ],
                    "table": [
                      {
                        "cells": {
                          "fill": {
                            "color": "#EBF0F8"
                          },
                          "line": {
                            "color": "white"
                          }
                        },
                        "header": {
                          "fill": {
                            "color": "#C8D4E3"
                          },
                          "line": {
                            "color": "white"
                          }
                        },
                        "type": "table"
                      }
                    ]
                  },
                  "layout": {
                    "annotationdefaults": {
                      "arrowcolor": "#2a3f5f",
                      "arrowhead": 0,
                      "arrowwidth": 1
                    },
                    "autotypenumbers": "strict",
                    "coloraxis": {
                      "colorbar": {
                        "outlinewidth": 0,
                        "ticks": ""
                      }
                    },
                    "colorscale": {
                      "diverging": [
                        [
                          0,
                          "#8e0152"
                        ],
                        [
                          0.1,
                          "#c51b7d"
                        ],
                        [
                          0.2,
                          "#de77ae"
                        ],
                        [
                          0.3,
                          "#f1b6da"
                        ],
                        [
                          0.4,
                          "#fde0ef"
                        ],
                        [
                          0.5,
                          "#f7f7f7"
                        ],
                        [
                          0.6,
                          "#e6f5d0"
                        ],
                        [
                          0.7,
                          "#b8e186"
                        ],
                        [
                          0.8,
                          "#7fbc41"
                        ],
                        [
                          0.9,
                          "#4d9221"
                        ],
                        [
                          1,
                          "#276419"
                        ]
                      ],
                      "sequential": [
                        [
                          0,
                          "#0d0887"
                        ],
                        [
                          0.1111111111111111,
                          "#46039f"
                        ],
                        [
                          0.2222222222222222,
                          "#7201a8"
                        ],
                        [
                          0.3333333333333333,
                          "#9c179e"
                        ],
                        [
                          0.4444444444444444,
                          "#bd3786"
                        ],
                        [
                          0.5555555555555556,
                          "#d8576b"
                        ],
                        [
                          0.6666666666666666,
                          "#ed7953"
                        ],
                        [
                          0.7777777777777778,
                          "#fb9f3a"
                        ],
                        [
                          0.8888888888888888,
                          "#fdca26"
                        ],
                        [
                          1,
                          "#f0f921"
                        ]
                      ],
                      "sequentialminus": [
                        [
                          0,
                          "#0d0887"
                        ],
                        [
                          0.1111111111111111,
                          "#46039f"
                        ],
                        [
                          0.2222222222222222,
                          "#7201a8"
                        ],
                        [
                          0.3333333333333333,
                          "#9c179e"
                        ],
                        [
                          0.4444444444444444,
                          "#bd3786"
                        ],
                        [
                          0.5555555555555556,
                          "#d8576b"
                        ],
                        [
                          0.6666666666666666,
                          "#ed7953"
                        ],
                        [
                          0.7777777777777778,
                          "#fb9f3a"
                        ],
                        [
                          0.8888888888888888,
                          "#fdca26"
                        ],
                        [
                          1,
                          "#f0f921"
                        ]
                      ]
                    },
                    "colorway": [
                      "#636efa",
                      "#EF553B",
                      "#00cc96",
                      "#ab63fa",
                      "#FFA15A",
                      "#19d3f3",
                      "#FF6692",
                      "#B6E880",
                      "#FF97FF",
                      "#FECB52"
                    ],
                    "font": {
                      "color": "#2a3f5f"
                    },
                    "geo": {
                      "bgcolor": "white",
                      "lakecolor": "white",
                      "landcolor": "#E5ECF6",
                      "showlakes": true,
                      "showland": true,
                      "subunitcolor": "white"
                    },
                    "hoverlabel": {
                      "align": "left"
                    },
                    "hovermode": "closest",
                    "mapbox": {
                      "style": "light"
                    },
                    "paper_bgcolor": "white",
                    "plot_bgcolor": "#E5ECF6",
                    "polar": {
                      "angularaxis": {
                        "gridcolor": "white",
                        "linecolor": "white",
                        "ticks": ""
                      },
                      "bgcolor": "#E5ECF6",
                      "radialaxis": {
                        "gridcolor": "white",
                        "linecolor": "white",
                        "ticks": ""
                      }
                    },
                    "scene": {
                      "xaxis": {
                        "backgroundcolor": "#E5ECF6",
                        "gridcolor": "white",
                        "gridwidth": 2,
                        "linecolor": "white",
                        "showbackground": true,
                        "ticks": "",
                        "zerolinecolor": "white"
                      },
                      "yaxis": {
                        "backgroundcolor": "#E5ECF6",
                        "gridcolor": "white",
                        "gridwidth": 2,
                        "linecolor": "white",
                        "showbackground": true,
                        "ticks": "",
                        "zerolinecolor": "white"
                      },
                      "zaxis": {
                        "backgroundcolor": "#E5ECF6",
                        "gridcolor": "white",
                        "gridwidth": 2,
                        "linecolor": "white",
                        "showbackground": true,
                        "ticks": "",
                        "zerolinecolor": "white"
                      }
                    },
                    "shapedefaults": {
                      "line": {
                        "color": "#2a3f5f"
                      }
                    },
                    "ternary": {
                      "aaxis": {
                        "gridcolor": "white",
                        "linecolor": "white",
                        "ticks": ""
                      },
                      "baxis": {
                        "gridcolor": "white",
                        "linecolor": "white",
                        "ticks": ""
                      },
                      "bgcolor": "#E5ECF6",
                      "caxis": {
                        "gridcolor": "white",
                        "linecolor": "white",
                        "ticks": ""
                      }
                    },
                    "title": {
                      "x": 0.05
                    },
                    "xaxis": {
                      "automargin": true,
                      "gridcolor": "white",
                      "linecolor": "white",
                      "ticks": "",
                      "title": {
                        "standoff": 15
                      },
                      "zerolinecolor": "white",
                      "zerolinewidth": 2
                    },
                    "yaxis": {
                      "automargin": true,
                      "gridcolor": "white",
                      "linecolor": "white",
                      "ticks": "",
                      "title": {
                        "standoff": 15
                      },
                      "zerolinecolor": "white",
                      "zerolinewidth": 2
                    }
                  }
                },
                "title": {
                  "text": "Biểu đồ phễu",
                  "x": 0.55
                },
                "updatemenus": [
                  {
                    "buttons": [
                      {
                        "args": [
                          {
                            "textinfo": "value+percent previous",
                            "x": [
                              [
                                21090,
                                3556,
                                619,
                                676,
                                649,
                                474,
                                325
                              ]
                            ],
                            "y": [
                              [
                                "Đã gọi",
                                "Đã gặp",
                                "Thu thập hồ sơ",
                                " Định giá",
                                " Đã trình",
                                " Đã phê duyệt",
                                "Đã active hạn mức"
                              ]
                            ]
                          }
                        ],
                        "label": "0.Toàn hàng",
                        "method": "update"
                      },
                      {
                        "args": [
                          {
                            "textinfo": "value+percent previous",
                            "x": [
                              [
                                713,
                                114,
                                18,
                                20,
                                12,
                                8,
                                7
                              ]
                            ],
                            "y": [
                              [
                                "Đã gọi",
                                "Đã gặp",
                                "Thu thập hồ sơ",
                                " Định giá",
                                " Đã trình",
                                " Đã phê duyệt",
                                "Đã active hạn mức"
                              ]
                            ]
                          }
                        ],
                        "label": "Bình Dương",
                        "method": "update"
                      },
                      {
                        "args": [
                          {
                            "textinfo": "value+percent previous",
                            "x": [
                              [
                                123,
                                19,
                                7,
                                6,
                                8,
                                2,
                                2
                              ]
                            ],
                            "y": [
                              [
                                "Đã gọi",
                                "Đã gặp",
                                "Thu thập hồ sơ",
                                " Định giá",
                                " Đã trình",
                                " Đã phê duyệt",
                                "Đã active hạn mức"
                              ]
                            ]
                          }
                        ],
                        "label": "Bình Định",
                        "method": "update"
                      },
                      {
                        "args": [
                          {
                            "textinfo": "value+percent previous",
                            "x": [
                              [
                                39,
                                34,
                                4,
                                3,
                                3,
                                2,
                                2
                              ]
                            ],
                            "y": [
                              [
                                "Đã gọi",
                                "Đã gặp",
                                "Thu thập hồ sơ",
                                " Định giá",
                                " Đã trình",
                                " Đã phê duyệt",
                                "Đã active hạn mức"
                              ]
                            ]
                          }
                        ],
                        "label": "Bắc Giang",
                        "method": "update"
                      },
                      {
                        "args": [
                          {
                            "textinfo": "value+percent previous",
                            "x": [
                              [
                                453,
                                93,
                                19,
                                20,
                                19,
                                14,
                                12
                              ]
                            ],
                            "y": [
                              [
                                "Đã gọi",
                                "Đã gặp",
                                "Thu thập hồ sơ",
                                " Định giá",
                                " Đã trình",
                                " Đã phê duyệt",
                                "Đã active hạn mức"
                              ]
                            ]
                          }
                        ],
                        "label": "Bắc Ninh",
                        "method": "update"
                      },
                      {
                        "args": [
                          {
                            "textinfo": "value+percent previous",
                            "x": [
                              [
                                212,
                                184,
                                24,
                                20,
                                21,
                                7,
                                3
                              ]
                            ],
                            "y": [
                              [
                                "Đã gọi",
                                "Đã gặp",
                                "Thu thập hồ sơ",
                                " Định giá",
                                " Đã trình",
                                " Đã phê duyệt",
                                "Đã active hạn mức"
                              ]
                            ]
                          }
                        ],
                        "label": "Bến Thành",
                        "method": "update"
                      },
                      {
                        "args": [
                          {
                            "textinfo": "value+percent previous",
                            "x": [
                              [
                                76,
                                62,
                                6,
                                6,
                                6,
                                5,
                                7
                              ]
                            ],
                            "y": [
                              [
                                "Đã gọi",
                                "Đã gặp",
                                "Thu thập hồ sơ",
                                " Định giá",
                                " Đã trình",
                                " Đã phê duyệt",
                                "Đã active hạn mức"
                              ]
                            ]
                          }
                        ],
                        "label": "Cần Thơ",
                        "method": "update"
                      },
                      {
                        "args": [
                          {
                            "textinfo": "value+percent previous",
                            "x": [
                              [
                                650,
                                80,
                                11,
                                14,
                                12,
                                7,
                                6
                              ]
                            ],
                            "y": [
                              [
                                "Đã gọi",
                                "Đã gặp",
                                "Thu thập hồ sơ",
                                " Định giá",
                                " Đã trình",
                                " Đã phê duyệt",
                                "Đã active hạn mức"
                              ]
                            ]
                          }
                        ],
                        "label": "Cộng Hòa",
                        "method": "update"
                      },
                      {
                        "args": [
                          {
                            "textinfo": "value+percent previous",
                            "x": [
                              [
                                409,
                                72,
                                19,
                                25,
                                20,
                                15,
                                7
                              ]
                            ],
                            "y": [
                              [
                                "Đã gọi",
                                "Đã gặp",
                                "Thu thập hồ sơ",
                                " Định giá",
                                " Đã trình",
                                " Đã phê duyệt",
                                "Đã active hạn mức"
                              ]
                            ]
                          }
                        ],
                        "label": "Gò Vấp",
                        "method": "update"
                      },
                      {
                        "args": [
                          {
                            "textinfo": "value+percent previous",
                            "x": [
                              [
                                230,
                                93,
                                15,
                                19,
                                20,
                                17,
                                8
                              ]
                            ],
                            "y": [
                              [
                                "Đã gọi",
                                "Đã gặp",
                                "Thu thập hồ sơ",
                                " Định giá",
                                " Đã trình",
                                " Đã phê duyệt",
                                "Đã active hạn mức"
                              ]
                            ]
                          }
                        ],
                        "label": "HCM",
                        "method": "update"
                      },
                      {
                        "args": [
                          {
                            "textinfo": "value+percent previous",
                            "x": [
                              [
                                161,
                                71,
                                15,
                                9,
                                10,
                                8,
                                9
                              ]
                            ],
                            "y": [
                              [
                                "Đã gọi",
                                "Đã gặp",
                                "Thu thập hồ sơ",
                                " Định giá",
                                " Đã trình",
                                " Đã phê duyệt",
                                "Đã active hạn mức"
                              ]
                            ]
                          }
                        ],
                        "label": "Huế",
                        "method": "update"
                      },
                      {
                        "args": [
                          {
                            "textinfo": "value+percent previous",
                            "x": [
                              [
                                280,
                                37,
                                6,
                                5,
                                5,
                                3,
                                4
                              ]
                            ],
                            "y": [
                              [
                                "Đã gọi",
                                "Đã gặp",
                                "Thu thập hồ sơ",
                                " Định giá",
                                " Đã trình",
                                " Đã phê duyệt",
                                "Đã active hạn mức"
                              ]
                            ]
                          }
                        ],
                        "label": "Hà Nam",
                        "method": "update"
                      },
                      {
                        "args": [
                          {
                            "textinfo": "value+percent previous",
                            "x": [
                              [
                                408,
                                158,
                                12,
                                16,
                                17,
                                13,
                                3
                              ]
                            ],
                            "y": [
                              [
                                "Đã gọi",
                                "Đã gặp",
                                "Thu thập hồ sơ",
                                " Định giá",
                                " Đã trình",
                                " Đã phê duyệt",
                                "Đã active hạn mức"
                              ]
                            ]
                          }
                        ],
                        "label": "Hà Nội",
                        "method": "update"
                      },
                      {
                        "args": [
                          {
                            "textinfo": "value+percent previous",
                            "x": [
                              [
                                190,
                                102,
                                45,
                                43,
                                36,
                                27,
                                22
                              ]
                            ],
                            "y": [
                              [
                                "Đã gọi",
                                "Đã gặp",
                                "Thu thập hồ sơ",
                                " Định giá",
                                " Đã trình",
                                " Đã phê duyệt",
                                "Đã active hạn mức"
                              ]
                            ]
                          }
                        ],
                        "label": "Hải Châu",
                        "method": "update"
                      },
                      {
                        "args": [
                          {
                            "textinfo": "value+percent previous",
                            "x": [
                              [
                                67,
                                48,
                                1,
                                2,
                                2,
                                3,
                                3
                              ]
                            ],
                            "y": [
                              [
                                "Đã gọi",
                                "Đã gặp",
                                "Thu thập hồ sơ",
                                " Định giá",
                                " Đã trình",
                                " Đã phê duyệt",
                                "Đã active hạn mức"
                              ]
                            ]
                          }
                        ],
                        "label": "Hải Dương",
                        "method": "update"
                      },
                      {
                        "args": [
                          {
                            "textinfo": "value+percent previous",
                            "x": [
                              [
                                59,
                                33,
                                6,
                                5,
                                2,
                                2,
                                2
                              ]
                            ],
                            "y": [
                              [
                                "Đã gọi",
                                "Đã gặp",
                                "Thu thập hồ sơ",
                                " Định giá",
                                " Đã trình",
                                " Đã phê duyệt",
                                "Đã active hạn mức"
                              ]
                            ]
                          }
                        ],
                        "label": "Hải Phòng",
                        "method": "update"
                      },
                      {
                        "args": [
                          {
                            "textinfo": "value+percent previous",
                            "x": [
                              [
                                616,
                                91,
                                18,
                                12,
                                11,
                                7,
                                7
                              ]
                            ],
                            "y": [
                              [
                                "Đã gọi",
                                "Đã gặp",
                                "Thu thập hồ sơ",
                                " Định giá",
                                " Đã trình",
                                " Đã phê duyệt",
                                "Đã active hạn mức"
                              ]
                            ]
                          }
                        ],
                        "label": "Hồng Bàng",
                        "method": "update"
                      },
                      {
                        "args": [
                          {
                            "textinfo": "value+percent previous",
                            "x": [
                              [
                                143,
                                34,
                                6,
                                7,
                                8,
                                2,
                                2
                              ]
                            ],
                            "y": [
                              [
                                "Đã gọi",
                                "Đã gặp",
                                "Thu thập hồ sơ",
                                " Định giá",
                                " Đã trình",
                                " Đã phê duyệt",
                                "Đã active hạn mức"
                              ]
                            ]
                          }
                        ],
                        "label": "Khánh Hòa",
                        "method": "update"
                      },
                      {
                        "args": [
                          {
                            "textinfo": "value+percent previous",
                            "x": [
                              [
                                20,
                                21,
                                0,
                                0,
                                0,
                                0,
                                0
                              ]
                            ],
                            "y": [
                              [
                                "Đã gọi",
                                "Đã gặp",
                                "Thu thập hồ sơ",
                                " Định giá",
                                " Đã trình",
                                " Đã phê duyệt",
                                "Đã active hạn mức"
                              ]
                            ]
                          }
                        ],
                        "label": "Kiên Giang",
                        "method": "update"
                      },
                      {
                        "args": [
                          {
                            "textinfo": "value+percent previous",
                            "x": [
                              [
                                44,
                                40,
                                8,
                                10,
                                10,
                                12,
                                6
                              ]
                            ],
                            "y": [
                              [
                                "Đã gọi",
                                "Đã gặp",
                                "Thu thập hồ sơ",
                                " Định giá",
                                " Đã trình",
                                " Đã phê duyệt",
                                "Đã active hạn mức"
                              ]
                            ]
                          }
                        ],
                        "label": "Long An",
                        "method": "update"
                      },
                      {
                        "args": [
                          {
                            "textinfo": "value+percent previous",
                            "x": [
                              [
                                26,
                                20,
                                5,
                                5,
                                4,
                                1,
                                2
                              ]
                            ],
                            "y": [
                              [
                                "Đã gọi",
                                "Đã gặp",
                                "Thu thập hồ sơ",
                                " Định giá",
                                " Đã trình",
                                " Đã phê duyệt",
                                "Đã active hạn mức"
                              ]
                            ]
                          }
                        ],
                        "label": "Lâm Đồng",
                        "method": "update"
                      },
                      {
                        "args": [
                          {
                            "textinfo": "value+percent previous",
                            "x": [
                              [
                                67,
                                19,
                                0,
                                1,
                                1,
                                1,
                                0
                              ]
                            ],
                            "y": [
                              [
                                "Đã gọi",
                                "Đã gặp",
                                "Thu thập hồ sơ",
                                " Định giá",
                                " Đã trình",
                                " Đã phê duyệt",
                                "Đã active hạn mức"
                              ]
                            ]
                          }
                        ],
                        "label": "Nam Định",
                        "method": "update"
                      },
                      {
                        "args": [
                          {
                            "textinfo": "value+percent previous",
                            "x": [
                              [
                                177,
                                67,
                                15,
                                14,
                                14,
                                8,
                                5
                              ]
                            ],
                            "y": [
                              [
                                "Đã gọi",
                                "Đã gặp",
                                "Thu thập hồ sơ",
                                " Định giá",
                                " Đã trình",
                                " Đã phê duyệt",
                                "Đã active hạn mức"
                              ]
                            ]
                          }
                        ],
                        "label": "Nghệ An",
                        "method": "update"
                      },
                      {
                        "args": [
                          {
                            "textinfo": "value+percent previous",
                            "x": [
                              [
                                121,
                                12,
                                1,
                                2,
                                2,
                                1,
                                0
                              ]
                            ],
                            "y": [
                              [
                                "Đã gọi",
                                "Đã gặp",
                                "Thu thập hồ sơ",
                                " Định giá",
                                " Đã trình",
                                " Đã phê duyệt",
                                "Đã active hạn mức"
                              ]
                            ]
                          }
                        ],
                        "label": "Ninh Bình",
                        "method": "update"
                      },
                      {
                        "args": [
                          {
                            "textinfo": "value+percent previous",
                            "x": [
                              [
                                52,
                                42,
                                0,
                                1,
                                1,
                                1,
                                1
                              ]
                            ],
                            "y": [
                              [
                                "Đã gọi",
                                "Đã gặp",
                                "Thu thập hồ sơ",
                                " Định giá",
                                " Đã trình",
                                " Đã phê duyệt",
                                "Đã active hạn mức"
                              ]
                            ]
                          }
                        ],
                        "label": "Phú Thọ",
                        "method": "update"
                      },
                      {
                        "args": [
                          {
                            "textinfo": "value+percent previous",
                            "x": [
                              [
                                71,
                                41,
                                7,
                                6,
                                6,
                                6,
                                3
                              ]
                            ],
                            "y": [
                              [
                                "Đã gọi",
                                "Đã gặp",
                                "Thu thập hồ sơ",
                                " Định giá",
                                " Đã trình",
                                " Đã phê duyệt",
                                "Đã active hạn mức"
                              ]
                            ]
                          }
                        ],
                        "label": "Quảng Nam",
                        "method": "update"
                      },
                      {
                        "args": [
                          {
                            "textinfo": "value+percent previous",
                            "x": [
                              [
                                65,
                                55,
                                7,
                                6,
                                7,
                                3,
                                4
                              ]
                            ],
                            "y": [
                              [
                                "Đã gọi",
                                "Đã gặp",
                                "Thu thập hồ sơ",
                                " Định giá",
                                " Đã trình",
                                " Đã phê duyệt",
                                "Đã active hạn mức"
                              ]
                            ]
                          }
                        ],
                        "label": "Quảng Ninh",
                        "method": "update"
                      },
                      {
                        "args": [
                          {
                            "textinfo": "value+percent previous",
                            "x": [
                              [
                                366,
                                71,
                                1,
                                4,
                                4,
                                4,
                                3
                              ]
                            ],
                            "y": [
                              [
                                "Đã gọi",
                                "Đã gặp",
                                "Thu thập hồ sơ",
                                " Định giá",
                                " Đã trình",
                                " Đã phê duyệt",
                                "Đã active hạn mức"
                              ]
                            ]
                          }
                        ],
                        "label": "Thanh Hóa",
                        "method": "update"
                      },
                      {
                        "args": [
                          {
                            "textinfo": "value+percent previous",
                            "x": [
                              [
                                677,
                                66,
                                17,
                                17,
                                17,
                                10,
                                1
                              ]
                            ],
                            "y": [
                              [
                                "Đã gọi",
                                "Đã gặp",
                                "Thu thập hồ sơ",
                                " Định giá",
                                " Đã trình",
                                " Đã phê duyệt",
                                "Đã active hạn mức"
                              ]
                            ]
                          }
                        ],
                        "label": "Thanh Xuân",
                        "method": "update"
                      },
                      {
                        "args": [
                          {
                            "textinfo": "value+percent previous",
                            "x": [
                              [
                                332,
                                67,
                                6,
                                8,
                                8,
                                4,
                                3
                              ]
                            ],
                            "y": [
                              [
                                "Đã gọi",
                                "Đã gặp",
                                "Thu thập hồ sơ",
                                " Định giá",
                                " Đã trình",
                                " Đã phê duyệt",
                                "Đã active hạn mức"
                              ]
                            ]
                          }
                        ],
                        "label": "Thái Nguyên",
                        "method": "update"
                      },
                      {
                        "args": [
                          {
                            "textinfo": "value+percent previous",
                            "x": [
                              [
                                136,
                                83,
                                16,
                                12,
                                13,
                                11,
                                7
                              ]
                            ],
                            "y": [
                              [
                                "Đã gọi",
                                "Đã gặp",
                                "Thu thập hồ sơ",
                                " Định giá",
                                " Đã trình",
                                " Đã phê duyệt",
                                "Đã active hạn mức"
                              ]
                            ]
                          }
                        ],
                        "label": "Trần Hưng Đạo",
                        "method": "update"
                      },
                      {
                        "args": [
                          {
                            "textinfo": "value+percent previous",
                            "x": [
                              [
                                160,
                                84,
                                9,
                                24,
                                23,
                                13,
                                10
                              ]
                            ],
                            "y": [
                              [
                                "Đã gọi",
                                "Đã gặp",
                                "Thu thập hồ sơ",
                                " Định giá",
                                " Đã trình",
                                " Đã phê duyệt",
                                "Đã active hạn mức"
                              ]
                            ]
                          }
                        ],
                        "label": "Tân Bình",
                        "method": "update"
                      },
                      {
                        "args": [
                          {
                            "textinfo": "value+percent previous",
                            "x": [
                              [
                                261,
                                99,
                                10,
                                12,
                                13,
                                9,
                                10
                              ]
                            ],
                            "y": [
                              [
                                "Đã gọi",
                                "Đã gặp",
                                "Thu thập hồ sơ",
                                " Định giá",
                                " Đã trình",
                                " Đã phê duyệt",
                                "Đã active hạn mức"
                              ]
                            ]
                          }
                        ],
                        "label": "Tân Thuận",
                        "method": "update"
                      },
                      {
                        "args": [
                          {
                            "textinfo": "value+percent previous",
                            "x": [
                              [
                                185,
                                41,
                                7,
                                10,
                                10,
                                8,
                                0
                              ]
                            ],
                            "y": [
                              [
                                "Đã gọi",
                                "Đã gặp",
                                "Thu thập hồ sơ",
                                " Định giá",
                                " Đã trình",
                                " Đã phê duyệt",
                                "Đã active hạn mức"
                              ]
                            ]
                          }
                        ],
                        "label": "Tây Hồ",
                        "method": "update"
                      },
                      {
                        "args": [
                          {
                            "textinfo": "value+percent previous",
                            "x": [
                              [
                                38,
                                37,
                                2,
                                1,
                                1,
                                0,
                                0
                              ]
                            ],
                            "y": [
                              [
                                "Đã gọi",
                                "Đã gặp",
                                "Thu thập hồ sơ",
                                " Định giá",
                                " Đã trình",
                                " Đã phê duyệt",
                                "Đã active hạn mức"
                              ]
                            ]
                          }
                        ],
                        "label": "Vĩnh Phúc",
                        "method": "update"
                      },
                      {
                        "args": [
                          {
                            "textinfo": "value+percent previous",
                            "x": [
                              [
                                240,
                                109,
                                13,
                                17,
                                16,
                                12,
                                13
                              ]
                            ],
                            "y": [
                              [
                                "Đã gọi",
                                "Đã gặp",
                                "Thu thập hồ sơ",
                                " Định giá",
                                " Đã trình",
                                " Đã phê duyệt",
                                "Đã active hạn mức"
                              ]
                            ]
                          }
                        ],
                        "label": "Vũng Tàu",
                        "method": "update"
                      },
                      {
                        "args": [
                          {
                            "textinfo": "value+percent previous",
                            "x": [
                              [
                                110,
                                94,
                                12,
                                16,
                                13,
                                12,
                                8
                              ]
                            ],
                            "y": [
                              [
                                "Đã gọi",
                                "Đã gặp",
                                "Thu thập hồ sơ",
                                " Định giá",
                                " Đã trình",
                                " Đã phê duyệt",
                                "Đã active hạn mức"
                              ]
                            ]
                          }
                        ],
                        "label": "Đà Nẵng",
                        "method": "update"
                      },
                      {
                        "args": [
                          {
                            "textinfo": "value+percent previous",
                            "x": [
                              [
                                107,
                                61,
                                12,
                                7,
                                9,
                                6,
                                5
                              ]
                            ],
                            "y": [
                              [
                                "Đã gọi",
                                "Đã gặp",
                                "Thu thập hồ sơ",
                                " Định giá",
                                " Đã trình",
                                " Đã phê duyệt",
                                "Đã active hạn mức"
                              ]
                            ]
                          }
                        ],
                        "label": "Đô Thành",
                        "method": "update"
                      },
                      {
                        "args": [
                          {
                            "textinfo": "value+percent previous",
                            "x": [
                              [
                                24,
                                35,
                                3,
                                2,
                                2,
                                2,
                                2
                              ]
                            ],
                            "y": [
                              [
                                "Đã gọi",
                                "Đã gặp",
                                "Thu thập hồ sơ",
                                " Định giá",
                                " Đã trình",
                                " Đã phê duyệt",
                                "Đã active hạn mức"
                              ]
                            ]
                          }
                        ],
                        "label": "Đắk Lắk",
                        "method": "update"
                      },
                      {
                        "args": [
                          {
                            "textinfo": "value+percent previous",
                            "x": [
                              [
                                410,
                                120,
                                34,
                                45,
                                43,
                                35,
                                21
                              ]
                            ],
                            "y": [
                              [
                                "Đã gọi",
                                "Đã gặp",
                                "Thu thập hồ sơ",
                                " Định giá",
                                " Đã trình",
                                " Đã phê duyệt",
                                "Đã active hạn mức"
                              ]
                            ]
                          }
                        ],
                        "label": "Đống Đa",
                        "method": "update"
                      },
                      {
                        "args": [
                          {
                            "textinfo": "value+percent previous",
                            "x": [
                              [
                                109,
                                33,
                                4,
                                4,
                                2,
                                0,
                                0
                              ]
                            ],
                            "y": [
                              [
                                "Đã gọi",
                                "Đã gặp",
                                "Thu thập hồ sơ",
                                " Định giá",
                                " Đã trình",
                                " Đã phê duyệt",
                                "Đã active hạn mức"
                              ]
                            ]
                          }
                        ],
                        "label": "Đồng Nai",
                        "method": "update"
                      }
                    ],
                    "direction": "down"
                  }
                ]
              }
            }
          },
          "metadata": {},
          "output_type": "display_data"
        }
      ],
      "source": [
        "import plotly.graph_objects as go\n",
        "import pandas as pd\n",
        "\n",
        "df = get_data(Provinces_list[1])\n",
        "fig = go.Figure(go.Funnel(\n",
        "        y=df['State'],\n",
        "        x=df['Values'],\n",
        "        textinfo=\"value+percent previous\",\n",
        "        marker={\"color\": \"#39FFFF\"}\n",
        "\n",
        "))\n",
        "\n",
        "fig.update_layout(\n",
        "            title='Biểu đồ phễu',\n",
        "            title_x=0.55,\n",
        "                font=dict(size=18),\n",
        "                  plot_bgcolor='white',\n",
        "\n",
        " \n",
        ")\n",
        "\n",
        "\n",
        "\n",
        "buttons = []\n",
        "for province in Provinces_list:\n",
        "    df = get_data(province)\n",
        "    buttons.append(dict(\n",
        "        label=province,\n",
        "        method='update',\n",
        "        args=[{'y': [df['State']],\n",
        "               'x': [df['Values']],\n",
        "               'textinfo': \"value+percent previous\",\n",
        "}]\n",
        "    ))\n",
        "\n",
        "fig.update_layout(\n",
        "              updatemenus=[dict(\n",
        "              buttons=buttons,\n",
        "              direction='down',\n",
        "\n",
        "              )]\n",
        ")\n",
        "\n",
        "fig.show()"
      ]
    },
    {
      "cell_type": "code",
      "execution_count": null,
      "metadata": {
        "id": "F9UB3xVwwx8A"
      },
      "outputs": [],
      "source": [
        "            ['aggrnyl', 'agsunset', 'algae', 'amp', 'armyrose', 'balance',\n",
        "             'blackbody', 'bluered', 'blues', 'blugrn', 'bluyl', 'brbg',\n",
        "             'brwnyl', 'bugn', 'bupu', 'burg', 'burgyl', 'cividis', 'curl',\n",
        "             'darkmint', 'deep', 'delta', 'dense', 'earth', 'edge', 'electric',\n",
        "             'emrld', 'fall', 'geyser', 'gnbu', 'gray', 'greens', 'greys',\n",
        "             'haline', 'hot', 'hsv', 'ice', 'icefire', 'inferno', 'jet',\n",
        "             'magenta', 'magma', 'matter', 'mint', 'mrybm', 'mygbm', 'oranges',\n",
        "             'orrd', 'oryel', 'oxy', 'peach', 'phase', 'picnic', 'pinkyl',\n",
        "             'piyg', 'plasma', 'plotly3', 'portland', 'prgn', 'pubu', 'pubugn',\n",
        "             'puor', 'purd', 'purp', 'purples', 'purpor', 'rainbow', 'rdbu',\n",
        "             'rdgy', 'rdpu', 'rdylbu', 'rdylgn', 'redor', 'reds', 'solar',\n",
        "             'spectral', 'speed', 'sunset', 'sunsetdark', 'teal', 'tealgrn',\n",
        "             'tealrose', 'tempo', 'temps', 'thermal', 'tropic', 'turbid',\n",
        "             'turbo', 'twilight', 'viridis', 'ylgn', 'ylgnbu', 'ylorbr',\n",
        "             'ylorrd']."
      ]
    },
    {
      "cell_type": "code",
      "execution_count": null,
      "metadata": {
        "id": "UUnzxvVuChbF"
      },
      "outputs": [],
      "source": []
    },
    {
      "cell_type": "code",
      "execution_count": null,
      "metadata": {
        "id": "jEigMk7iChdT"
      },
      "outputs": [],
      "source": []
    },
    {
      "cell_type": "code",
      "execution_count": null,
      "metadata": {
        "id": "5cfkWqBzChfN"
      },
      "outputs": [],
      "source": []
    },
    {
      "cell_type": "code",
      "execution_count": null,
      "metadata": {
        "id": "WHjU2R3RChha"
      },
      "outputs": [],
      "source": []
    },
    {
      "cell_type": "code",
      "execution_count": null,
      "metadata": {
        "id": "fdupAUbLChjg"
      },
      "outputs": [],
      "source": []
    },
    {
      "cell_type": "code",
      "execution_count": null,
      "metadata": {
        "id": "mjE4K3doChlG"
      },
      "outputs": [],
      "source": []
    },
    {
      "cell_type": "code",
      "execution_count": null,
      "metadata": {
        "id": "eOD4d6fTCho2"
      },
      "outputs": [],
      "source": []
    },
    {
      "cell_type": "code",
      "execution_count": null,
      "metadata": {
        "id": "hhCA9aw_ClgK"
      },
      "outputs": [],
      "source": []
    },
    {
      "cell_type": "code",
      "execution_count": null,
      "metadata": {
        "id": "5sOfpabfClii"
      },
      "outputs": [],
      "source": []
    },
    {
      "cell_type": "code",
      "execution_count": null,
      "metadata": {
        "id": "5y7nss_rClki"
      },
      "outputs": [],
      "source": []
    },
    {
      "cell_type": "code",
      "execution_count": null,
      "metadata": {
        "id": "rQu4zs6LClmv"
      },
      "outputs": [],
      "source": []
    },
    {
      "cell_type": "code",
      "execution_count": null,
      "metadata": {
        "id": "pAl1aRyPClo8"
      },
      "outputs": [],
      "source": []
    },
    {
      "cell_type": "code",
      "execution_count": null,
      "metadata": {
        "colab": {
          "base_uri": "https://localhost:8080/"
        },
        "id": "0quZDMU4-ozk",
        "outputId": "6565d343-2551-41b4-9d3c-b56f2ad96799"
      },
      "outputs": [
        {
          "data": {
            "text/plain": [
              "{'args': [{'x': [array([ 9, 62, 37, 97, 51, 44, 24, 79, 59, 32, 96, 88, 52, 62, 58, 52, 12,\n",
              "           39,  2,  3, 56, 81, 59,  2,  2, 92, 54, 87, 96, 97,  1, 19,  2, 53,\n",
              "           44, 90, 32, 70, 32, 68, 55, 75, 56, 17, 38, 24, 69, 98, 70, 86, 11,\n",
              "           16, 97, 73, 59, 70, 80, 93,  3, 20, 59, 36, 19, 90, 67, 19, 20, 96,\n",
              "           71, 52, 33, 40, 39, 82,  1, 11, 92, 57, 89, 50, 23, 31, 94, 42, 99,\n",
              "            7, 16, 90, 60,  2,  1, 48, 12, 69, 37, 32,  9, 99, 19, 48])],\n",
              "   'y': [array([ 80,   3,  20,  24,  54,  33,  24,  75,  72,  36,  38,  84,  99,\n",
              "            89,  99,  25,  93,  18,  82,  66,  54,  35,  80,  61,  41, 100,\n",
              "            33,  68,  33,  14,  21,  48,  20,   8,   7,  67,  17,  33,  48,\n",
              "            76,  59,  86,  22,  30,  38,  51,  54,   8,  27,  27,  98,  21,\n",
              "            30,  97,  28,  64,  97,  69,  61,  48,  19,   4,  35,  64,  49,\n",
              "            17,  44,  92,  30,  93,  46,   6,  99,  37,  24,  93,  46,  53,\n",
              "            95,  99,  60,  97,  63,  85,  32,  87,  33,  67,  18,  25,  95,\n",
              "            54,  58,  67,  46,  24,  32,  47,  86,  23])],\n",
              "   'type': 'scatter'}],\n",
              " 'label': 'Scatter Plot 1',\n",
              " 'method': 'update'}"
            ]
          },
          "execution_count": 14,
          "metadata": {},
          "output_type": "execute_result"
        }
      ],
      "source": [
        "import plotly.graph_objects as px\n",
        "import numpy as np\n",
        "\n",
        "\n",
        "# creating random data through randomint\n",
        "# function of numpy.random\n",
        "np.random.seed(42)\n",
        "\n",
        "random_x = np.random.randint(1, 101, 100)\n",
        "random_y = np.random.randint(1, 101, 100)\n",
        "\n",
        "# create 10 different sets of random data\n",
        "data = []\n",
        "for i in range(10):\n",
        "    x = np.random.randint(1, 101, 100)\n",
        "    y = np.random.randint(1, 101, 100)\n",
        "    data.append({'x': x, 'y': y})\n",
        "# create list of buttons for dropdown\n",
        "buttons = []\n",
        "for i in range(10):\n",
        "    buttons.append(\n",
        "        dict(\n",
        "            args=[{\"x\": [data[i]['x']], \"y\": [data[i]['y']], \"type\": \"scatter\"}],\n",
        "            label=f\"Scatter Plot {i+1}\",\n",
        "            method=\"update\"\n",
        "        )\n",
        "    )\n",
        "    buttons.append(\n",
        "        dict(\n",
        "            args=[{\"x\": [data[i]['x']], \"y\": [data[i]['y']], \"type\": \"bar\"}],\n",
        "            label=f\"Bar Chart {i+1}\",\n",
        "            method=\"update\"\n",
        "        )\n",
        "    )\n",
        "\n",
        "buttons[0]\n",
        "\n",
        "# plot = px.Figure(data=[px.Scatter(\n",
        "#     x=random_x,\n",
        "#     y=random_y,\n",
        "#     mode='markers',)\n",
        "# ])\n",
        "\n",
        "# # Add dropdown\n",
        "# plot.update_layout(\n",
        "#     updatemenus=[\n",
        "#         dict(\n",
        "#             buttons=buttons,\n",
        "#             direction=\"down\",\n",
        "#             showactive=True,\n",
        "#             x=1.1,\n",
        "#             y=1.1,\n",
        "#         ),\n",
        "#     ]\n",
        "# )\n",
        "\n",
        "# plot.show()"
      ]
    },
    {
      "cell_type": "code",
      "execution_count": null,
      "metadata": {
        "id": "Ycx3u3YC-o2B"
      },
      "outputs": [],
      "source": []
    },
    {
      "cell_type": "code",
      "execution_count": null,
      "metadata": {
        "id": "HfJ2kxkd-o5r"
      },
      "outputs": [],
      "source": []
    },
    {
      "cell_type": "code",
      "execution_count": null,
      "metadata": {
        "id": "wwvRuWPW-pBn"
      },
      "outputs": [],
      "source": []
    },
    {
      "cell_type": "code",
      "execution_count": null,
      "metadata": {
        "id": "_N0FaGVp-pFK"
      },
      "outputs": [],
      "source": []
    },
    {
      "cell_type": "code",
      "execution_count": null,
      "metadata": {
        "id": "-2KI8Fxdqjpu"
      },
      "outputs": [],
      "source": []
    },
    {
      "cell_type": "code",
      "execution_count": null,
      "metadata": {
        "colab": {
          "base_uri": "https://localhost:8080/"
        },
        "id": "hwQbRVy3qjt6",
        "outputId": "eb0c2271-1898-4136-cedf-6c0d4461255e"
      },
      "outputs": [
        {
          "name": "stdout",
          "output_type": "stream",
          "text": [
            "DataFrame ban đầu:\n",
            "    Name  Age      City\n",
            "0   John   25  New York\n",
            "1   Mary   30     Paris\n",
            "2  Peter   35    London\n",
            "\n",
            "DataFrame sau khi đổi tên:\n",
            "        Name  Age      City\n",
            "State   John   25  New York\n",
            "State   Mary   30     Paris\n",
            "State  Peter   35    London\n"
          ]
        }
      ],
      "source": [
        "df = pd.DataFrame({'Name': ['John', 'Mary', 'Peter'], \n",
        "                   'Age': [25, 30, 35], \n",
        "                   'City': ['New York', 'Paris', 'London']})\n",
        "print(\"DataFrame ban đầu:\")\n",
        "print(df)\n",
        "\n",
        "# Đổi tên tất cả các chỉ mục thành \"State\"\n",
        "df = df.rename(index={col: 'State' for col in df.index})\n",
        "print(\"\\nDataFrame sau khi đổi tên:\")\n",
        "print(df)"
      ]
    },
    {
      "cell_type": "code",
      "execution_count": null,
      "metadata": {
        "id": "wUfVXC08qjwB"
      },
      "outputs": [],
      "source": []
    },
    {
      "cell_type": "code",
      "execution_count": null,
      "metadata": {
        "id": "iaNZZP_GqjyF"
      },
      "outputs": [],
      "source": []
    },
    {
      "cell_type": "code",
      "execution_count": null,
      "metadata": {
        "id": "XT4msOytqjz9"
      },
      "outputs": [],
      "source": []
    },
    {
      "cell_type": "code",
      "execution_count": null,
      "metadata": {
        "id": "SKeeTS9kqj2F"
      },
      "outputs": [],
      "source": []
    },
    {
      "cell_type": "code",
      "execution_count": null,
      "metadata": {
        "id": "Lr8OahXUqj5u"
      },
      "outputs": [],
      "source": []
    },
    {
      "cell_type": "code",
      "execution_count": null,
      "metadata": {
        "id": "WIFZu4XRpVTV"
      },
      "outputs": [],
      "source": []
    },
    {
      "cell_type": "markdown",
      "metadata": {
        "id": "GjwhiTm-NJdX"
      },
      "source": [
        "# Funnel : Vẽ ảo lắm, giá trị bị lệch nhiều, mai fix lại"
      ]
    },
    {
      "cell_type": "markdown",
      "metadata": {
        "id": "ny0H4AtPMp-m"
      },
      "source": [
        "# Tuần 20.3 - 26.3"
      ]
    },
    {
      "cell_type": "code",
      "execution_count": null,
      "metadata": {
        "colab": {
          "base_uri": "https://localhost:8080/",
          "height": 516
        },
        "id": "PpteZutX0yUe",
        "outputId": "764f5f2e-8bd3-4088-bc78-fda1a0de566d"
      },
      "outputs": [
        {
          "ename": "KeyError",
          "evalue": "'Hub'",
          "output_type": "error",
          "traceback": [
            "\u001b[0;31m---------------------------------------------------------------------------\u001b[0m",
            "\u001b[0;31mKeyError\u001b[0m                                  Traceback (most recent call last)",
            "Cell \u001b[0;32mIn[15], line 1\u001b[0m\n\u001b[0;32m----> 1\u001b[0m df_hub \u001b[39m=\u001b[39m df\u001b[39m.\u001b[39;49mgroupby( by\u001b[39m=\u001b[39;49m \u001b[39m'\u001b[39;49m\u001b[39mHub\u001b[39;49m\u001b[39m'\u001b[39;49m)\u001b[39m.\u001b[39msum()\u001b[39m.\u001b[39mreset_index()\n\u001b[1;32m      2\u001b[0m df_hub\n",
            "File \u001b[0;32m~/.local/lib/python3.10/site-packages/pandas/core/frame.py:8402\u001b[0m, in \u001b[0;36mDataFrame.groupby\u001b[0;34m(self, by, axis, level, as_index, sort, group_keys, squeeze, observed, dropna)\u001b[0m\n\u001b[1;32m   8399\u001b[0m     \u001b[39mraise\u001b[39;00m \u001b[39mTypeError\u001b[39;00m(\u001b[39m\"\u001b[39m\u001b[39mYou have to supply one of \u001b[39m\u001b[39m'\u001b[39m\u001b[39mby\u001b[39m\u001b[39m'\u001b[39m\u001b[39m and \u001b[39m\u001b[39m'\u001b[39m\u001b[39mlevel\u001b[39m\u001b[39m'\u001b[39m\u001b[39m\"\u001b[39m)\n\u001b[1;32m   8400\u001b[0m axis \u001b[39m=\u001b[39m \u001b[39mself\u001b[39m\u001b[39m.\u001b[39m_get_axis_number(axis)\n\u001b[0;32m-> 8402\u001b[0m \u001b[39mreturn\u001b[39;00m DataFrameGroupBy(\n\u001b[1;32m   8403\u001b[0m     obj\u001b[39m=\u001b[39;49m\u001b[39mself\u001b[39;49m,\n\u001b[1;32m   8404\u001b[0m     keys\u001b[39m=\u001b[39;49mby,\n\u001b[1;32m   8405\u001b[0m     axis\u001b[39m=\u001b[39;49maxis,\n\u001b[1;32m   8406\u001b[0m     level\u001b[39m=\u001b[39;49mlevel,\n\u001b[1;32m   8407\u001b[0m     as_index\u001b[39m=\u001b[39;49mas_index,\n\u001b[1;32m   8408\u001b[0m     sort\u001b[39m=\u001b[39;49msort,\n\u001b[1;32m   8409\u001b[0m     group_keys\u001b[39m=\u001b[39;49mgroup_keys,\n\u001b[1;32m   8410\u001b[0m     squeeze\u001b[39m=\u001b[39;49msqueeze,\n\u001b[1;32m   8411\u001b[0m     observed\u001b[39m=\u001b[39;49mobserved,\n\u001b[1;32m   8412\u001b[0m     dropna\u001b[39m=\u001b[39;49mdropna,\n\u001b[1;32m   8413\u001b[0m )\n",
            "File \u001b[0;32m~/.local/lib/python3.10/site-packages/pandas/core/groupby/groupby.py:965\u001b[0m, in \u001b[0;36mGroupBy.__init__\u001b[0;34m(self, obj, keys, axis, level, grouper, exclusions, selection, as_index, sort, group_keys, squeeze, observed, mutated, dropna)\u001b[0m\n\u001b[1;32m    962\u001b[0m \u001b[39mif\u001b[39;00m grouper \u001b[39mis\u001b[39;00m \u001b[39mNone\u001b[39;00m:\n\u001b[1;32m    963\u001b[0m     \u001b[39mfrom\u001b[39;00m \u001b[39mpandas\u001b[39;00m\u001b[39m.\u001b[39;00m\u001b[39mcore\u001b[39;00m\u001b[39m.\u001b[39;00m\u001b[39mgroupby\u001b[39;00m\u001b[39m.\u001b[39;00m\u001b[39mgrouper\u001b[39;00m \u001b[39mimport\u001b[39;00m get_grouper\n\u001b[0;32m--> 965\u001b[0m     grouper, exclusions, obj \u001b[39m=\u001b[39m get_grouper(\n\u001b[1;32m    966\u001b[0m         obj,\n\u001b[1;32m    967\u001b[0m         keys,\n\u001b[1;32m    968\u001b[0m         axis\u001b[39m=\u001b[39;49maxis,\n\u001b[1;32m    969\u001b[0m         level\u001b[39m=\u001b[39;49mlevel,\n\u001b[1;32m    970\u001b[0m         sort\u001b[39m=\u001b[39;49msort,\n\u001b[1;32m    971\u001b[0m         observed\u001b[39m=\u001b[39;49mobserved,\n\u001b[1;32m    972\u001b[0m         mutated\u001b[39m=\u001b[39;49m\u001b[39mself\u001b[39;49m\u001b[39m.\u001b[39;49mmutated,\n\u001b[1;32m    973\u001b[0m         dropna\u001b[39m=\u001b[39;49m\u001b[39mself\u001b[39;49m\u001b[39m.\u001b[39;49mdropna,\n\u001b[1;32m    974\u001b[0m     )\n\u001b[1;32m    976\u001b[0m \u001b[39mself\u001b[39m\u001b[39m.\u001b[39mobj \u001b[39m=\u001b[39m obj\n\u001b[1;32m    977\u001b[0m \u001b[39mself\u001b[39m\u001b[39m.\u001b[39maxis \u001b[39m=\u001b[39m obj\u001b[39m.\u001b[39m_get_axis_number(axis)\n",
            "File \u001b[0;32m~/.local/lib/python3.10/site-packages/pandas/core/groupby/grouper.py:888\u001b[0m, in \u001b[0;36mget_grouper\u001b[0;34m(obj, key, axis, level, sort, observed, mutated, validate, dropna)\u001b[0m\n\u001b[1;32m    886\u001b[0m         in_axis, level, gpr \u001b[39m=\u001b[39m \u001b[39mFalse\u001b[39;00m, gpr, \u001b[39mNone\u001b[39;00m\n\u001b[1;32m    887\u001b[0m     \u001b[39melse\u001b[39;00m:\n\u001b[0;32m--> 888\u001b[0m         \u001b[39mraise\u001b[39;00m \u001b[39mKeyError\u001b[39;00m(gpr)\n\u001b[1;32m    889\u001b[0m \u001b[39melif\u001b[39;00m \u001b[39misinstance\u001b[39m(gpr, Grouper) \u001b[39mand\u001b[39;00m gpr\u001b[39m.\u001b[39mkey \u001b[39mis\u001b[39;00m \u001b[39mnot\u001b[39;00m \u001b[39mNone\u001b[39;00m:\n\u001b[1;32m    890\u001b[0m     \u001b[39m# Add key to exclusions\u001b[39;00m\n\u001b[1;32m    891\u001b[0m     exclusions\u001b[39m.\u001b[39madd(gpr\u001b[39m.\u001b[39mkey)\n",
            "\u001b[0;31mKeyError\u001b[0m: 'Hub'"
          ]
        }
      ],
      "source": [
        "df_hub = df.groupby( by= 'Hub').sum().reset_index()\n",
        "df_hub"
      ]
    },
    {
      "cell_type": "code",
      "execution_count": 21,
      "metadata": {
        "colab": {
          "base_uri": "https://localhost:8080/",
          "height": 300
        },
        "id": "IbTL93lu-Jtg",
        "outputId": "4770e128-dac5-4023-a49d-2a3fd5cdd7de"
      },
      "outputs": [
        {
          "data": {
            "text/html": [
              "<div>\n",
              "<style scoped>\n",
              "    .dataframe tbody tr th:only-of-type {\n",
              "        vertical-align: middle;\n",
              "    }\n",
              "\n",
              "    .dataframe tbody tr th {\n",
              "        vertical-align: top;\n",
              "    }\n",
              "\n",
              "    .dataframe thead th {\n",
              "        text-align: right;\n",
              "    }\n",
              "</style>\n",
              "<table border=\"1\" class=\"dataframe\">\n",
              "  <thead>\n",
              "    <tr style=\"text-align: right;\">\n",
              "      <th></th>\n",
              "      <th>index</th>\n",
              "      <th>State</th>\n",
              "      <th>Values</th>\n",
              "      <th>Name</th>\n",
              "    </tr>\n",
              "  </thead>\n",
              "  <tbody>\n",
              "    <tr>\n",
              "      <th>0</th>\n",
              "      <td>1</td>\n",
              "      <td>Đã phân bổ</td>\n",
              "      <td>4519</td>\n",
              "      <td>Miền Trung</td>\n",
              "    </tr>\n",
              "    <tr>\n",
              "      <th>1</th>\n",
              "      <td>2</td>\n",
              "      <td>Đã gọi</td>\n",
              "      <td>1701</td>\n",
              "      <td>Miền Trung</td>\n",
              "    </tr>\n",
              "    <tr>\n",
              "      <th>2</th>\n",
              "      <td>3</td>\n",
              "      <td>Đã gặp</td>\n",
              "      <td>598</td>\n",
              "      <td>Miền Trung</td>\n",
              "    </tr>\n",
              "    <tr>\n",
              "      <th>3</th>\n",
              "      <td>4</td>\n",
              "      <td>Thu thập hồ sơ</td>\n",
              "      <td>58</td>\n",
              "      <td>Miền Trung</td>\n",
              "    </tr>\n",
              "    <tr>\n",
              "      <th>4</th>\n",
              "      <td>5</td>\n",
              "      <td>Định giá</td>\n",
              "      <td>65</td>\n",
              "      <td>Miền Trung</td>\n",
              "    </tr>\n",
              "    <tr>\n",
              "      <th>5</th>\n",
              "      <td>6</td>\n",
              "      <td>Đã trình</td>\n",
              "      <td>63</td>\n",
              "      <td>Miền Trung</td>\n",
              "    </tr>\n",
              "    <tr>\n",
              "      <th>6</th>\n",
              "      <td>7</td>\n",
              "      <td>Đã phê duyệt</td>\n",
              "      <td>44</td>\n",
              "      <td>Miền Trung</td>\n",
              "    </tr>\n",
              "    <tr>\n",
              "      <th>7</th>\n",
              "      <td>8</td>\n",
              "      <td>Đã active hạn mức</td>\n",
              "      <td>30</td>\n",
              "      <td>Miền Trung</td>\n",
              "    </tr>\n",
              "  </tbody>\n",
              "</table>\n",
              "</div>"
            ],
            "text/plain": [
              "   index              State  Values        Name\n",
              "0      1         Đã phân bổ    4519  Miền Trung\n",
              "1      2             Đã gọi    1701  Miền Trung\n",
              "2      3             Đã gặp     598  Miền Trung\n",
              "3      4     Thu thập hồ sơ      58  Miền Trung\n",
              "4      5           Định giá      65  Miền Trung\n",
              "5      6           Đã trình      63  Miền Trung\n",
              "6      7       Đã phê duyệt      44  Miền Trung\n",
              "7      8  Đã active hạn mức      30  Miền Trung"
            ]
          },
          "execution_count": 21,
          "metadata": {},
          "output_type": "execute_result"
        }
      ],
      "source": [
        "\n",
        "\n",
        "# Bắc Giang\n",
        "# Bắc Ninh\n",
        "# Cao Bằng\n",
        "# Hà Nội\n",
        "# Hải Dương\n",
        "# Hải Phòng\n",
        "# Hòa Bình\n",
        "# Hưng Yên\n",
        "\n",
        "\n",
        "northern_provinces = ['Hà Nội', 'Bắc Ninh', 'Hải Phòng', 'Hải Dương', 'Hưng Yên','Bắc Giang','Yên Bái','Tuyên Quang','Vĩnh Phúc','Quảng Ninh','Sơn La' ,'Thái Bình','Thái Nguyên',\n",
        "                      'Lạng Sơn','Nam Định','Ninh Bình','Phú Thọ']\n",
        "\n",
        "southern_provinces = ['HCM', 'Đồng Nai', 'Bình Dương', 'Long An', 'Tiền Giang','Ninh Thuận','Sóc Trăng'\n",
        "                    ,'Tây Ninh','Tiền Giang','Trà Vinh','Vĩnh Long']\n",
        "\n",
        "trung_provinces = ['Thanh Hóa','Quảng Nam','Nghệ An','Đà Nẵng','Khánh Hòa']\n",
        "\n",
        "trung_pro_df = df_hub[df_hub['Hub'].isin(northern_provinces)] \n",
        "sum_trung_pro_df = trung_pro_df.sum().reset_index()\n",
        "sum_trung_pro_df = sum_trung_pro_df.drop(0)\n",
        "sum_trung_pro_df['Name'] = 'Miền Trung'\n",
        "sum_trung_pro_df = sum_trung_pro_df.rename(columns= {0 : 'Values' ,'index' : 'State'})\n",
        "sum_trung_pro_df = sum_trung_pro_df.reset_index()\n",
        "sum_trung_pro_df['Values'] = sum_trung_pro_df['Values'].astype('int64')\n",
        "\n",
        "\n",
        "\n",
        "\n",
        "nor_pro_df = df_hub[df_hub['Hub'].isin(northern_provinces)] \n",
        "sum_nor_pro_df = nor_pro_df.sum().reset_index()\n",
        "sum_nor_pro_df = sum_nor_pro_df.drop(0)\n",
        "sum_nor_pro_df['Name'] = 'Miền Bắc'\n",
        "sum_nor_pro_df = sum_nor_pro_df.rename(columns= {0 : 'Values' ,'index' : 'State'})\n",
        "sum_nor_pro_df = sum_nor_pro_df.reset_index()\n",
        "sum_nor_pro_df['Values'] = sum_nor_pro_df['Values'].astype('int64')\n",
        "\n",
        "\n",
        "south_pro_df = df_hub[df_hub['Hub'].isin(southern_provinces)] \n",
        "sum_south_pro_df = south_pro_df.sum().reset_index()\n",
        "sum_south_pro_df = sum_south_pro_df.drop(0)\n",
        "sum_south_pro_df['Name'] = 'Miền Nam'\n",
        "sum_south_pro_df = sum_south_pro_df.rename(columns= {0 : 'Values' ,'index' : 'State'})\n",
        "sum_south_pro_df = sum_south_pro_df.reset_index()\n",
        "sum_south_pro_df['Values'] = sum_south_pro_df['Values'].astype('int64')\n",
        "\n",
        "\n",
        "\n",
        "\n",
        "\n",
        "total_df = pd.concat([sum_nor_pro_df,sum_south_pro_df])\n",
        "total_df = total_df.rename(columns= {0 : 'Values' ,'index' : 'State'})\n",
        "total_df = total_df.reset_index()\n",
        "\n",
        "total_df['Values'] = total_df['Values'].astype('int64')\n",
        "sum_trung_pro_df"
      ]
    },
    {
      "cell_type": "markdown",
      "metadata": {
        "id": "Zf-xIxJz9XzQ"
      },
      "source": [
        "# Toàn hàng"
      ]
    },
    {
      "cell_type": "code",
      "execution_count": 22,
      "metadata": {
        "colab": {
          "base_uri": "https://localhost:8080/",
          "height": 817
        },
        "id": "Vsy3wZw79VMO",
        "outputId": "37b45eb0-ae4b-4872-d4bc-3450fea46a30"
      },
      "outputs": [
        {
          "data": {
            "application/vnd.plotly.v1+json": {
              "config": {
                "plotlyServerURL": "https://plotly.com"
              },
              "data": [
                {
                  "domain": {
                    "x": [
                      0,
                      1
                    ],
                    "y": [
                      0,
                      1
                    ]
                  },
                  "hovertemplate": "State=%{label}<br>Values=%{value}<extra></extra>",
                  "labels": [
                    "Đã phân bổ",
                    "Đã gọi",
                    "Đã gặp",
                    " Định giá",
                    " Đã trình",
                    "Thu thập hồ sơ",
                    " Đã phê duyệt",
                    "Đã active hạn mức"
                  ],
                  "legendgroup": "",
                  "name": "",
                  "showlegend": true,
                  "type": "funnelarea",
                  "values": [
                    47252,
                    21090,
                    3556,
                    676,
                    649,
                    619,
                    474,
                    325
                  ]
                }
              ],
              "layout": {
                "font": {
                  "size": 20
                },
                "funnelareacolorway": [
                  "rgb(102,194,165)",
                  "rgb(252,141,98)",
                  "rgb(141,160,203)",
                  "rgb(231,138,195)",
                  "rgb(166,216,84)",
                  "rgb(255,217,47)",
                  "rgb(229,196,148)",
                  "rgb(179,179,179)"
                ],
                "height": 800,
                "legend": {
                  "tracegroupgap": 0
                },
                "template": {
                  "data": {
                    "bar": [
                      {
                        "error_x": {
                          "color": "#2a3f5f"
                        },
                        "error_y": {
                          "color": "#2a3f5f"
                        },
                        "marker": {
                          "line": {
                            "color": "#E5ECF6",
                            "width": 0.5
                          },
                          "pattern": {
                            "fillmode": "overlay",
                            "size": 10,
                            "solidity": 0.2
                          }
                        },
                        "type": "bar"
                      }
                    ],
                    "barpolar": [
                      {
                        "marker": {
                          "line": {
                            "color": "#E5ECF6",
                            "width": 0.5
                          },
                          "pattern": {
                            "fillmode": "overlay",
                            "size": 10,
                            "solidity": 0.2
                          }
                        },
                        "type": "barpolar"
                      }
                    ],
                    "carpet": [
                      {
                        "aaxis": {
                          "endlinecolor": "#2a3f5f",
                          "gridcolor": "white",
                          "linecolor": "white",
                          "minorgridcolor": "white",
                          "startlinecolor": "#2a3f5f"
                        },
                        "baxis": {
                          "endlinecolor": "#2a3f5f",
                          "gridcolor": "white",
                          "linecolor": "white",
                          "minorgridcolor": "white",
                          "startlinecolor": "#2a3f5f"
                        },
                        "type": "carpet"
                      }
                    ],
                    "choropleth": [
                      {
                        "colorbar": {
                          "outlinewidth": 0,
                          "ticks": ""
                        },
                        "type": "choropleth"
                      }
                    ],
                    "contour": [
                      {
                        "colorbar": {
                          "outlinewidth": 0,
                          "ticks": ""
                        },
                        "colorscale": [
                          [
                            0,
                            "#0d0887"
                          ],
                          [
                            0.1111111111111111,
                            "#46039f"
                          ],
                          [
                            0.2222222222222222,
                            "#7201a8"
                          ],
                          [
                            0.3333333333333333,
                            "#9c179e"
                          ],
                          [
                            0.4444444444444444,
                            "#bd3786"
                          ],
                          [
                            0.5555555555555556,
                            "#d8576b"
                          ],
                          [
                            0.6666666666666666,
                            "#ed7953"
                          ],
                          [
                            0.7777777777777778,
                            "#fb9f3a"
                          ],
                          [
                            0.8888888888888888,
                            "#fdca26"
                          ],
                          [
                            1,
                            "#f0f921"
                          ]
                        ],
                        "type": "contour"
                      }
                    ],
                    "contourcarpet": [
                      {
                        "colorbar": {
                          "outlinewidth": 0,
                          "ticks": ""
                        },
                        "type": "contourcarpet"
                      }
                    ],
                    "heatmap": [
                      {
                        "colorbar": {
                          "outlinewidth": 0,
                          "ticks": ""
                        },
                        "colorscale": [
                          [
                            0,
                            "#0d0887"
                          ],
                          [
                            0.1111111111111111,
                            "#46039f"
                          ],
                          [
                            0.2222222222222222,
                            "#7201a8"
                          ],
                          [
                            0.3333333333333333,
                            "#9c179e"
                          ],
                          [
                            0.4444444444444444,
                            "#bd3786"
                          ],
                          [
                            0.5555555555555556,
                            "#d8576b"
                          ],
                          [
                            0.6666666666666666,
                            "#ed7953"
                          ],
                          [
                            0.7777777777777778,
                            "#fb9f3a"
                          ],
                          [
                            0.8888888888888888,
                            "#fdca26"
                          ],
                          [
                            1,
                            "#f0f921"
                          ]
                        ],
                        "type": "heatmap"
                      }
                    ],
                    "heatmapgl": [
                      {
                        "colorbar": {
                          "outlinewidth": 0,
                          "ticks": ""
                        },
                        "colorscale": [
                          [
                            0,
                            "#0d0887"
                          ],
                          [
                            0.1111111111111111,
                            "#46039f"
                          ],
                          [
                            0.2222222222222222,
                            "#7201a8"
                          ],
                          [
                            0.3333333333333333,
                            "#9c179e"
                          ],
                          [
                            0.4444444444444444,
                            "#bd3786"
                          ],
                          [
                            0.5555555555555556,
                            "#d8576b"
                          ],
                          [
                            0.6666666666666666,
                            "#ed7953"
                          ],
                          [
                            0.7777777777777778,
                            "#fb9f3a"
                          ],
                          [
                            0.8888888888888888,
                            "#fdca26"
                          ],
                          [
                            1,
                            "#f0f921"
                          ]
                        ],
                        "type": "heatmapgl"
                      }
                    ],
                    "histogram": [
                      {
                        "marker": {
                          "pattern": {
                            "fillmode": "overlay",
                            "size": 10,
                            "solidity": 0.2
                          }
                        },
                        "type": "histogram"
                      }
                    ],
                    "histogram2d": [
                      {
                        "colorbar": {
                          "outlinewidth": 0,
                          "ticks": ""
                        },
                        "colorscale": [
                          [
                            0,
                            "#0d0887"
                          ],
                          [
                            0.1111111111111111,
                            "#46039f"
                          ],
                          [
                            0.2222222222222222,
                            "#7201a8"
                          ],
                          [
                            0.3333333333333333,
                            "#9c179e"
                          ],
                          [
                            0.4444444444444444,
                            "#bd3786"
                          ],
                          [
                            0.5555555555555556,
                            "#d8576b"
                          ],
                          [
                            0.6666666666666666,
                            "#ed7953"
                          ],
                          [
                            0.7777777777777778,
                            "#fb9f3a"
                          ],
                          [
                            0.8888888888888888,
                            "#fdca26"
                          ],
                          [
                            1,
                            "#f0f921"
                          ]
                        ],
                        "type": "histogram2d"
                      }
                    ],
                    "histogram2dcontour": [
                      {
                        "colorbar": {
                          "outlinewidth": 0,
                          "ticks": ""
                        },
                        "colorscale": [
                          [
                            0,
                            "#0d0887"
                          ],
                          [
                            0.1111111111111111,
                            "#46039f"
                          ],
                          [
                            0.2222222222222222,
                            "#7201a8"
                          ],
                          [
                            0.3333333333333333,
                            "#9c179e"
                          ],
                          [
                            0.4444444444444444,
                            "#bd3786"
                          ],
                          [
                            0.5555555555555556,
                            "#d8576b"
                          ],
                          [
                            0.6666666666666666,
                            "#ed7953"
                          ],
                          [
                            0.7777777777777778,
                            "#fb9f3a"
                          ],
                          [
                            0.8888888888888888,
                            "#fdca26"
                          ],
                          [
                            1,
                            "#f0f921"
                          ]
                        ],
                        "type": "histogram2dcontour"
                      }
                    ],
                    "mesh3d": [
                      {
                        "colorbar": {
                          "outlinewidth": 0,
                          "ticks": ""
                        },
                        "type": "mesh3d"
                      }
                    ],
                    "parcoords": [
                      {
                        "line": {
                          "colorbar": {
                            "outlinewidth": 0,
                            "ticks": ""
                          }
                        },
                        "type": "parcoords"
                      }
                    ],
                    "pie": [
                      {
                        "automargin": true,
                        "type": "pie"
                      }
                    ],
                    "scatter": [
                      {
                        "fillpattern": {
                          "fillmode": "overlay",
                          "size": 10,
                          "solidity": 0.2
                        },
                        "type": "scatter"
                      }
                    ],
                    "scatter3d": [
                      {
                        "line": {
                          "colorbar": {
                            "outlinewidth": 0,
                            "ticks": ""
                          }
                        },
                        "marker": {
                          "colorbar": {
                            "outlinewidth": 0,
                            "ticks": ""
                          }
                        },
                        "type": "scatter3d"
                      }
                    ],
                    "scattercarpet": [
                      {
                        "marker": {
                          "colorbar": {
                            "outlinewidth": 0,
                            "ticks": ""
                          }
                        },
                        "type": "scattercarpet"
                      }
                    ],
                    "scattergeo": [
                      {
                        "marker": {
                          "colorbar": {
                            "outlinewidth": 0,
                            "ticks": ""
                          }
                        },
                        "type": "scattergeo"
                      }
                    ],
                    "scattergl": [
                      {
                        "marker": {
                          "colorbar": {
                            "outlinewidth": 0,
                            "ticks": ""
                          }
                        },
                        "type": "scattergl"
                      }
                    ],
                    "scattermapbox": [
                      {
                        "marker": {
                          "colorbar": {
                            "outlinewidth": 0,
                            "ticks": ""
                          }
                        },
                        "type": "scattermapbox"
                      }
                    ],
                    "scatterpolar": [
                      {
                        "marker": {
                          "colorbar": {
                            "outlinewidth": 0,
                            "ticks": ""
                          }
                        },
                        "type": "scatterpolar"
                      }
                    ],
                    "scatterpolargl": [
                      {
                        "marker": {
                          "colorbar": {
                            "outlinewidth": 0,
                            "ticks": ""
                          }
                        },
                        "type": "scatterpolargl"
                      }
                    ],
                    "scatterternary": [
                      {
                        "marker": {
                          "colorbar": {
                            "outlinewidth": 0,
                            "ticks": ""
                          }
                        },
                        "type": "scatterternary"
                      }
                    ],
                    "surface": [
                      {
                        "colorbar": {
                          "outlinewidth": 0,
                          "ticks": ""
                        },
                        "colorscale": [
                          [
                            0,
                            "#0d0887"
                          ],
                          [
                            0.1111111111111111,
                            "#46039f"
                          ],
                          [
                            0.2222222222222222,
                            "#7201a8"
                          ],
                          [
                            0.3333333333333333,
                            "#9c179e"
                          ],
                          [
                            0.4444444444444444,
                            "#bd3786"
                          ],
                          [
                            0.5555555555555556,
                            "#d8576b"
                          ],
                          [
                            0.6666666666666666,
                            "#ed7953"
                          ],
                          [
                            0.7777777777777778,
                            "#fb9f3a"
                          ],
                          [
                            0.8888888888888888,
                            "#fdca26"
                          ],
                          [
                            1,
                            "#f0f921"
                          ]
                        ],
                        "type": "surface"
                      }
                    ],
                    "table": [
                      {
                        "cells": {
                          "fill": {
                            "color": "#EBF0F8"
                          },
                          "line": {
                            "color": "white"
                          }
                        },
                        "header": {
                          "fill": {
                            "color": "#C8D4E3"
                          },
                          "line": {
                            "color": "white"
                          }
                        },
                        "type": "table"
                      }
                    ]
                  },
                  "layout": {
                    "annotationdefaults": {
                      "arrowcolor": "#2a3f5f",
                      "arrowhead": 0,
                      "arrowwidth": 1
                    },
                    "autotypenumbers": "strict",
                    "coloraxis": {
                      "colorbar": {
                        "outlinewidth": 0,
                        "ticks": ""
                      }
                    },
                    "colorscale": {
                      "diverging": [
                        [
                          0,
                          "#8e0152"
                        ],
                        [
                          0.1,
                          "#c51b7d"
                        ],
                        [
                          0.2,
                          "#de77ae"
                        ],
                        [
                          0.3,
                          "#f1b6da"
                        ],
                        [
                          0.4,
                          "#fde0ef"
                        ],
                        [
                          0.5,
                          "#f7f7f7"
                        ],
                        [
                          0.6,
                          "#e6f5d0"
                        ],
                        [
                          0.7,
                          "#b8e186"
                        ],
                        [
                          0.8,
                          "#7fbc41"
                        ],
                        [
                          0.9,
                          "#4d9221"
                        ],
                        [
                          1,
                          "#276419"
                        ]
                      ],
                      "sequential": [
                        [
                          0,
                          "#0d0887"
                        ],
                        [
                          0.1111111111111111,
                          "#46039f"
                        ],
                        [
                          0.2222222222222222,
                          "#7201a8"
                        ],
                        [
                          0.3333333333333333,
                          "#9c179e"
                        ],
                        [
                          0.4444444444444444,
                          "#bd3786"
                        ],
                        [
                          0.5555555555555556,
                          "#d8576b"
                        ],
                        [
                          0.6666666666666666,
                          "#ed7953"
                        ],
                        [
                          0.7777777777777778,
                          "#fb9f3a"
                        ],
                        [
                          0.8888888888888888,
                          "#fdca26"
                        ],
                        [
                          1,
                          "#f0f921"
                        ]
                      ],
                      "sequentialminus": [
                        [
                          0,
                          "#0d0887"
                        ],
                        [
                          0.1111111111111111,
                          "#46039f"
                        ],
                        [
                          0.2222222222222222,
                          "#7201a8"
                        ],
                        [
                          0.3333333333333333,
                          "#9c179e"
                        ],
                        [
                          0.4444444444444444,
                          "#bd3786"
                        ],
                        [
                          0.5555555555555556,
                          "#d8576b"
                        ],
                        [
                          0.6666666666666666,
                          "#ed7953"
                        ],
                        [
                          0.7777777777777778,
                          "#fb9f3a"
                        ],
                        [
                          0.8888888888888888,
                          "#fdca26"
                        ],
                        [
                          1,
                          "#f0f921"
                        ]
                      ]
                    },
                    "colorway": [
                      "#636efa",
                      "#EF553B",
                      "#00cc96",
                      "#ab63fa",
                      "#FFA15A",
                      "#19d3f3",
                      "#FF6692",
                      "#B6E880",
                      "#FF97FF",
                      "#FECB52"
                    ],
                    "font": {
                      "color": "#2a3f5f"
                    },
                    "geo": {
                      "bgcolor": "white",
                      "lakecolor": "white",
                      "landcolor": "#E5ECF6",
                      "showlakes": true,
                      "showland": true,
                      "subunitcolor": "white"
                    },
                    "hoverlabel": {
                      "align": "left"
                    },
                    "hovermode": "closest",
                    "mapbox": {
                      "style": "light"
                    },
                    "paper_bgcolor": "white",
                    "plot_bgcolor": "#E5ECF6",
                    "polar": {
                      "angularaxis": {
                        "gridcolor": "white",
                        "linecolor": "white",
                        "ticks": ""
                      },
                      "bgcolor": "#E5ECF6",
                      "radialaxis": {
                        "gridcolor": "white",
                        "linecolor": "white",
                        "ticks": ""
                      }
                    },
                    "scene": {
                      "xaxis": {
                        "backgroundcolor": "#E5ECF6",
                        "gridcolor": "white",
                        "gridwidth": 2,
                        "linecolor": "white",
                        "showbackground": true,
                        "ticks": "",
                        "zerolinecolor": "white"
                      },
                      "yaxis": {
                        "backgroundcolor": "#E5ECF6",
                        "gridcolor": "white",
                        "gridwidth": 2,
                        "linecolor": "white",
                        "showbackground": true,
                        "ticks": "",
                        "zerolinecolor": "white"
                      },
                      "zaxis": {
                        "backgroundcolor": "#E5ECF6",
                        "gridcolor": "white",
                        "gridwidth": 2,
                        "linecolor": "white",
                        "showbackground": true,
                        "ticks": "",
                        "zerolinecolor": "white"
                      }
                    },
                    "shapedefaults": {
                      "line": {
                        "color": "#2a3f5f"
                      }
                    },
                    "ternary": {
                      "aaxis": {
                        "gridcolor": "white",
                        "linecolor": "white",
                        "ticks": ""
                      },
                      "baxis": {
                        "gridcolor": "white",
                        "linecolor": "white",
                        "ticks": ""
                      },
                      "bgcolor": "#E5ECF6",
                      "caxis": {
                        "gridcolor": "white",
                        "linecolor": "white",
                        "ticks": ""
                      }
                    },
                    "title": {
                      "x": 0.05
                    },
                    "xaxis": {
                      "automargin": true,
                      "gridcolor": "white",
                      "linecolor": "white",
                      "ticks": "",
                      "title": {
                        "standoff": 15
                      },
                      "zerolinecolor": "white",
                      "zerolinewidth": 2
                    },
                    "yaxis": {
                      "automargin": true,
                      "gridcolor": "white",
                      "linecolor": "white",
                      "ticks": "",
                      "title": {
                        "standoff": 15
                      },
                      "zerolinecolor": "white",
                      "zerolinewidth": 2
                    }
                  }
                },
                "title": {
                  "font": {
                    "size": 20
                  },
                  "text": "Biểu đồ phễu"
                },
                "width": 1000
              }
            }
          },
          "metadata": {},
          "output_type": "display_data"
        }
      ],
      "source": [
        "import plotly.express as px\n",
        "import pandas as pd\n",
        "\n",
        "Toan_Hang_df = df_hub[df_hub['Hub']=='0.Toàn hàng'].T.reset_index()\n",
        "Toan_Hang_df = Toan_Hang_df.drop(0)\n",
        "# Toan_Hang_df = Toan_Hang_df.drop(1)\n",
        "Toan_Hang_df = Toan_Hang_df.rename(columns= {0 : 'Values' ,'index' : 'State'})\n",
        "Toan_Hang_df = Toan_Hang_df.sort_values(by = ['Values'],ascending = False)\n",
        "\n",
        "Toan_Hang_df['Values'] = Toan_Hang_df['Values'].astype('int64')\n",
        "\n",
        "# values = Toan_Hang_df['Values'], text = Toan_Hang_df['State'],\n",
        "fig = px.funnel_area(Toan_Hang_df, names='State', values='Values',\n",
        "                     title='Funnel Area Chart of State Values',\n",
        "                     color_discrete_sequence=px.colors.qualitative.Set2,\n",
        "                     )\n",
        "\n",
        "fig.update_layout(\n",
        "    title=\"Biểu đồ phễu\",\n",
        "    title_font_size=20,\n",
        "    font=dict(size=20),\n",
        "    width=1000,\n",
        "    height=800\n",
        ")\n",
        "\n",
        "fig.show()"
      ]
    },
    {
      "cell_type": "markdown",
      "metadata": {
        "id": "EbHVCcSwFGCZ"
      },
      "source": [
        "# DropDown : Toàn hàng, miền bắc, nam, trung"
      ]
    },
    {
      "cell_type": "code",
      "execution_count": 23,
      "metadata": {
        "colab": {
          "base_uri": "https://localhost:8080/",
          "height": 817
        },
        "id": "W9oOfCZL_vLN",
        "outputId": "1642735c-716f-46eb-dde6-f19b579de63a"
      },
      "outputs": [
        {
          "data": {
            "application/vnd.plotly.v1+json": {
              "config": {
                "plotlyServerURL": "https://plotly.com"
              },
              "data": [
                {
                  "domain": {
                    "x": [
                      0,
                      1
                    ],
                    "y": [
                      0,
                      1
                    ]
                  },
                  "hovertemplate": "State=%{label}<br>Values=%{value}<extra></extra>",
                  "labels": [
                    "Đã phân bổ",
                    "Đã gọi",
                    "Đã gặp",
                    "Thu thập hồ sơ",
                    " Định giá",
                    " Đã trình",
                    " Đã phê duyệt",
                    "Đã active hạn mức"
                  ],
                  "legendgroup": "",
                  "name": "",
                  "showlegend": true,
                  "type": "funnelarea",
                  "values": [
                    4519,
                    1701,
                    598,
                    58,
                    65,
                    63,
                    44,
                    30
                  ]
                }
              ],
              "layout": {
                "font": {
                  "size": 20
                },
                "funnelareacolorway": [
                  "rgb(102,194,165)",
                  "rgb(252,141,98)",
                  "rgb(141,160,203)",
                  "rgb(231,138,195)",
                  "rgb(166,216,84)",
                  "rgb(255,217,47)",
                  "rgb(229,196,148)",
                  "rgb(179,179,179)"
                ],
                "height": 800,
                "legend": {
                  "tracegroupgap": 0
                },
                "margin": {
                  "t": 60
                },
                "template": {
                  "data": {
                    "bar": [
                      {
                        "error_x": {
                          "color": "#2a3f5f"
                        },
                        "error_y": {
                          "color": "#2a3f5f"
                        },
                        "marker": {
                          "line": {
                            "color": "#E5ECF6",
                            "width": 0.5
                          },
                          "pattern": {
                            "fillmode": "overlay",
                            "size": 10,
                            "solidity": 0.2
                          }
                        },
                        "type": "bar"
                      }
                    ],
                    "barpolar": [
                      {
                        "marker": {
                          "line": {
                            "color": "#E5ECF6",
                            "width": 0.5
                          },
                          "pattern": {
                            "fillmode": "overlay",
                            "size": 10,
                            "solidity": 0.2
                          }
                        },
                        "type": "barpolar"
                      }
                    ],
                    "carpet": [
                      {
                        "aaxis": {
                          "endlinecolor": "#2a3f5f",
                          "gridcolor": "white",
                          "linecolor": "white",
                          "minorgridcolor": "white",
                          "startlinecolor": "#2a3f5f"
                        },
                        "baxis": {
                          "endlinecolor": "#2a3f5f",
                          "gridcolor": "white",
                          "linecolor": "white",
                          "minorgridcolor": "white",
                          "startlinecolor": "#2a3f5f"
                        },
                        "type": "carpet"
                      }
                    ],
                    "choropleth": [
                      {
                        "colorbar": {
                          "outlinewidth": 0,
                          "ticks": ""
                        },
                        "type": "choropleth"
                      }
                    ],
                    "contour": [
                      {
                        "colorbar": {
                          "outlinewidth": 0,
                          "ticks": ""
                        },
                        "colorscale": [
                          [
                            0,
                            "#0d0887"
                          ],
                          [
                            0.1111111111111111,
                            "#46039f"
                          ],
                          [
                            0.2222222222222222,
                            "#7201a8"
                          ],
                          [
                            0.3333333333333333,
                            "#9c179e"
                          ],
                          [
                            0.4444444444444444,
                            "#bd3786"
                          ],
                          [
                            0.5555555555555556,
                            "#d8576b"
                          ],
                          [
                            0.6666666666666666,
                            "#ed7953"
                          ],
                          [
                            0.7777777777777778,
                            "#fb9f3a"
                          ],
                          [
                            0.8888888888888888,
                            "#fdca26"
                          ],
                          [
                            1,
                            "#f0f921"
                          ]
                        ],
                        "type": "contour"
                      }
                    ],
                    "contourcarpet": [
                      {
                        "colorbar": {
                          "outlinewidth": 0,
                          "ticks": ""
                        },
                        "type": "contourcarpet"
                      }
                    ],
                    "heatmap": [
                      {
                        "colorbar": {
                          "outlinewidth": 0,
                          "ticks": ""
                        },
                        "colorscale": [
                          [
                            0,
                            "#0d0887"
                          ],
                          [
                            0.1111111111111111,
                            "#46039f"
                          ],
                          [
                            0.2222222222222222,
                            "#7201a8"
                          ],
                          [
                            0.3333333333333333,
                            "#9c179e"
                          ],
                          [
                            0.4444444444444444,
                            "#bd3786"
                          ],
                          [
                            0.5555555555555556,
                            "#d8576b"
                          ],
                          [
                            0.6666666666666666,
                            "#ed7953"
                          ],
                          [
                            0.7777777777777778,
                            "#fb9f3a"
                          ],
                          [
                            0.8888888888888888,
                            "#fdca26"
                          ],
                          [
                            1,
                            "#f0f921"
                          ]
                        ],
                        "type": "heatmap"
                      }
                    ],
                    "heatmapgl": [
                      {
                        "colorbar": {
                          "outlinewidth": 0,
                          "ticks": ""
                        },
                        "colorscale": [
                          [
                            0,
                            "#0d0887"
                          ],
                          [
                            0.1111111111111111,
                            "#46039f"
                          ],
                          [
                            0.2222222222222222,
                            "#7201a8"
                          ],
                          [
                            0.3333333333333333,
                            "#9c179e"
                          ],
                          [
                            0.4444444444444444,
                            "#bd3786"
                          ],
                          [
                            0.5555555555555556,
                            "#d8576b"
                          ],
                          [
                            0.6666666666666666,
                            "#ed7953"
                          ],
                          [
                            0.7777777777777778,
                            "#fb9f3a"
                          ],
                          [
                            0.8888888888888888,
                            "#fdca26"
                          ],
                          [
                            1,
                            "#f0f921"
                          ]
                        ],
                        "type": "heatmapgl"
                      }
                    ],
                    "histogram": [
                      {
                        "marker": {
                          "pattern": {
                            "fillmode": "overlay",
                            "size": 10,
                            "solidity": 0.2
                          }
                        },
                        "type": "histogram"
                      }
                    ],
                    "histogram2d": [
                      {
                        "colorbar": {
                          "outlinewidth": 0,
                          "ticks": ""
                        },
                        "colorscale": [
                          [
                            0,
                            "#0d0887"
                          ],
                          [
                            0.1111111111111111,
                            "#46039f"
                          ],
                          [
                            0.2222222222222222,
                            "#7201a8"
                          ],
                          [
                            0.3333333333333333,
                            "#9c179e"
                          ],
                          [
                            0.4444444444444444,
                            "#bd3786"
                          ],
                          [
                            0.5555555555555556,
                            "#d8576b"
                          ],
                          [
                            0.6666666666666666,
                            "#ed7953"
                          ],
                          [
                            0.7777777777777778,
                            "#fb9f3a"
                          ],
                          [
                            0.8888888888888888,
                            "#fdca26"
                          ],
                          [
                            1,
                            "#f0f921"
                          ]
                        ],
                        "type": "histogram2d"
                      }
                    ],
                    "histogram2dcontour": [
                      {
                        "colorbar": {
                          "outlinewidth": 0,
                          "ticks": ""
                        },
                        "colorscale": [
                          [
                            0,
                            "#0d0887"
                          ],
                          [
                            0.1111111111111111,
                            "#46039f"
                          ],
                          [
                            0.2222222222222222,
                            "#7201a8"
                          ],
                          [
                            0.3333333333333333,
                            "#9c179e"
                          ],
                          [
                            0.4444444444444444,
                            "#bd3786"
                          ],
                          [
                            0.5555555555555556,
                            "#d8576b"
                          ],
                          [
                            0.6666666666666666,
                            "#ed7953"
                          ],
                          [
                            0.7777777777777778,
                            "#fb9f3a"
                          ],
                          [
                            0.8888888888888888,
                            "#fdca26"
                          ],
                          [
                            1,
                            "#f0f921"
                          ]
                        ],
                        "type": "histogram2dcontour"
                      }
                    ],
                    "mesh3d": [
                      {
                        "colorbar": {
                          "outlinewidth": 0,
                          "ticks": ""
                        },
                        "type": "mesh3d"
                      }
                    ],
                    "parcoords": [
                      {
                        "line": {
                          "colorbar": {
                            "outlinewidth": 0,
                            "ticks": ""
                          }
                        },
                        "type": "parcoords"
                      }
                    ],
                    "pie": [
                      {
                        "automargin": true,
                        "type": "pie"
                      }
                    ],
                    "scatter": [
                      {
                        "fillpattern": {
                          "fillmode": "overlay",
                          "size": 10,
                          "solidity": 0.2
                        },
                        "type": "scatter"
                      }
                    ],
                    "scatter3d": [
                      {
                        "line": {
                          "colorbar": {
                            "outlinewidth": 0,
                            "ticks": ""
                          }
                        },
                        "marker": {
                          "colorbar": {
                            "outlinewidth": 0,
                            "ticks": ""
                          }
                        },
                        "type": "scatter3d"
                      }
                    ],
                    "scattercarpet": [
                      {
                        "marker": {
                          "colorbar": {
                            "outlinewidth": 0,
                            "ticks": ""
                          }
                        },
                        "type": "scattercarpet"
                      }
                    ],
                    "scattergeo": [
                      {
                        "marker": {
                          "colorbar": {
                            "outlinewidth": 0,
                            "ticks": ""
                          }
                        },
                        "type": "scattergeo"
                      }
                    ],
                    "scattergl": [
                      {
                        "marker": {
                          "colorbar": {
                            "outlinewidth": 0,
                            "ticks": ""
                          }
                        },
                        "type": "scattergl"
                      }
                    ],
                    "scattermapbox": [
                      {
                        "marker": {
                          "colorbar": {
                            "outlinewidth": 0,
                            "ticks": ""
                          }
                        },
                        "type": "scattermapbox"
                      }
                    ],
                    "scatterpolar": [
                      {
                        "marker": {
                          "colorbar": {
                            "outlinewidth": 0,
                            "ticks": ""
                          }
                        },
                        "type": "scatterpolar"
                      }
                    ],
                    "scatterpolargl": [
                      {
                        "marker": {
                          "colorbar": {
                            "outlinewidth": 0,
                            "ticks": ""
                          }
                        },
                        "type": "scatterpolargl"
                      }
                    ],
                    "scatterternary": [
                      {
                        "marker": {
                          "colorbar": {
                            "outlinewidth": 0,
                            "ticks": ""
                          }
                        },
                        "type": "scatterternary"
                      }
                    ],
                    "surface": [
                      {
                        "colorbar": {
                          "outlinewidth": 0,
                          "ticks": ""
                        },
                        "colorscale": [
                          [
                            0,
                            "#0d0887"
                          ],
                          [
                            0.1111111111111111,
                            "#46039f"
                          ],
                          [
                            0.2222222222222222,
                            "#7201a8"
                          ],
                          [
                            0.3333333333333333,
                            "#9c179e"
                          ],
                          [
                            0.4444444444444444,
                            "#bd3786"
                          ],
                          [
                            0.5555555555555556,
                            "#d8576b"
                          ],
                          [
                            0.6666666666666666,
                            "#ed7953"
                          ],
                          [
                            0.7777777777777778,
                            "#fb9f3a"
                          ],
                          [
                            0.8888888888888888,
                            "#fdca26"
                          ],
                          [
                            1,
                            "#f0f921"
                          ]
                        ],
                        "type": "surface"
                      }
                    ],
                    "table": [
                      {
                        "cells": {
                          "fill": {
                            "color": "#EBF0F8"
                          },
                          "line": {
                            "color": "white"
                          }
                        },
                        "header": {
                          "fill": {
                            "color": "#C8D4E3"
                          },
                          "line": {
                            "color": "white"
                          }
                        },
                        "type": "table"
                      }
                    ]
                  },
                  "layout": {
                    "annotationdefaults": {
                      "arrowcolor": "#2a3f5f",
                      "arrowhead": 0,
                      "arrowwidth": 1
                    },
                    "autotypenumbers": "strict",
                    "coloraxis": {
                      "colorbar": {
                        "outlinewidth": 0,
                        "ticks": ""
                      }
                    },
                    "colorscale": {
                      "diverging": [
                        [
                          0,
                          "#8e0152"
                        ],
                        [
                          0.1,
                          "#c51b7d"
                        ],
                        [
                          0.2,
                          "#de77ae"
                        ],
                        [
                          0.3,
                          "#f1b6da"
                        ],
                        [
                          0.4,
                          "#fde0ef"
                        ],
                        [
                          0.5,
                          "#f7f7f7"
                        ],
                        [
                          0.6,
                          "#e6f5d0"
                        ],
                        [
                          0.7,
                          "#b8e186"
                        ],
                        [
                          0.8,
                          "#7fbc41"
                        ],
                        [
                          0.9,
                          "#4d9221"
                        ],
                        [
                          1,
                          "#276419"
                        ]
                      ],
                      "sequential": [
                        [
                          0,
                          "#0d0887"
                        ],
                        [
                          0.1111111111111111,
                          "#46039f"
                        ],
                        [
                          0.2222222222222222,
                          "#7201a8"
                        ],
                        [
                          0.3333333333333333,
                          "#9c179e"
                        ],
                        [
                          0.4444444444444444,
                          "#bd3786"
                        ],
                        [
                          0.5555555555555556,
                          "#d8576b"
                        ],
                        [
                          0.6666666666666666,
                          "#ed7953"
                        ],
                        [
                          0.7777777777777778,
                          "#fb9f3a"
                        ],
                        [
                          0.8888888888888888,
                          "#fdca26"
                        ],
                        [
                          1,
                          "#f0f921"
                        ]
                      ],
                      "sequentialminus": [
                        [
                          0,
                          "#0d0887"
                        ],
                        [
                          0.1111111111111111,
                          "#46039f"
                        ],
                        [
                          0.2222222222222222,
                          "#7201a8"
                        ],
                        [
                          0.3333333333333333,
                          "#9c179e"
                        ],
                        [
                          0.4444444444444444,
                          "#bd3786"
                        ],
                        [
                          0.5555555555555556,
                          "#d8576b"
                        ],
                        [
                          0.6666666666666666,
                          "#ed7953"
                        ],
                        [
                          0.7777777777777778,
                          "#fb9f3a"
                        ],
                        [
                          0.8888888888888888,
                          "#fdca26"
                        ],
                        [
                          1,
                          "#f0f921"
                        ]
                      ]
                    },
                    "colorway": [
                      "#636efa",
                      "#EF553B",
                      "#00cc96",
                      "#ab63fa",
                      "#FFA15A",
                      "#19d3f3",
                      "#FF6692",
                      "#B6E880",
                      "#FF97FF",
                      "#FECB52"
                    ],
                    "font": {
                      "color": "#2a3f5f"
                    },
                    "geo": {
                      "bgcolor": "white",
                      "lakecolor": "white",
                      "landcolor": "#E5ECF6",
                      "showlakes": true,
                      "showland": true,
                      "subunitcolor": "white"
                    },
                    "hoverlabel": {
                      "align": "left"
                    },
                    "hovermode": "closest",
                    "mapbox": {
                      "style": "light"
                    },
                    "paper_bgcolor": "white",
                    "plot_bgcolor": "#E5ECF6",
                    "polar": {
                      "angularaxis": {
                        "gridcolor": "white",
                        "linecolor": "white",
                        "ticks": ""
                      },
                      "bgcolor": "#E5ECF6",
                      "radialaxis": {
                        "gridcolor": "white",
                        "linecolor": "white",
                        "ticks": ""
                      }
                    },
                    "scene": {
                      "xaxis": {
                        "backgroundcolor": "#E5ECF6",
                        "gridcolor": "white",
                        "gridwidth": 2,
                        "linecolor": "white",
                        "showbackground": true,
                        "ticks": "",
                        "zerolinecolor": "white"
                      },
                      "yaxis": {
                        "backgroundcolor": "#E5ECF6",
                        "gridcolor": "white",
                        "gridwidth": 2,
                        "linecolor": "white",
                        "showbackground": true,
                        "ticks": "",
                        "zerolinecolor": "white"
                      },
                      "zaxis": {
                        "backgroundcolor": "#E5ECF6",
                        "gridcolor": "white",
                        "gridwidth": 2,
                        "linecolor": "white",
                        "showbackground": true,
                        "ticks": "",
                        "zerolinecolor": "white"
                      }
                    },
                    "shapedefaults": {
                      "line": {
                        "color": "#2a3f5f"
                      }
                    },
                    "ternary": {
                      "aaxis": {
                        "gridcolor": "white",
                        "linecolor": "white",
                        "ticks": ""
                      },
                      "baxis": {
                        "gridcolor": "white",
                        "linecolor": "white",
                        "ticks": ""
                      },
                      "bgcolor": "#E5ECF6",
                      "caxis": {
                        "gridcolor": "white",
                        "linecolor": "white",
                        "ticks": ""
                      }
                    },
                    "title": {
                      "x": 0.05
                    },
                    "xaxis": {
                      "automargin": true,
                      "gridcolor": "white",
                      "linecolor": "white",
                      "ticks": "",
                      "title": {
                        "standoff": 15
                      },
                      "zerolinecolor": "white",
                      "zerolinewidth": 2
                    },
                    "yaxis": {
                      "automargin": true,
                      "gridcolor": "white",
                      "linecolor": "white",
                      "ticks": "",
                      "title": {
                        "standoff": 15
                      },
                      "zerolinecolor": "white",
                      "zerolinewidth": 2
                    }
                  }
                },
                "title": {
                  "font": {
                    "size": 20
                  }
                },
                "updatemenus": [
                  {
                    "buttons": [
                      {
                        "args": [
                          {
                            "text": [
                              [
                                "Đã phân bổ",
                                "Đã gọi",
                                "Đã gặp",
                                " Định giá",
                                " Đã trình",
                                "Thu thập hồ sơ",
                                " Đã phê duyệt",
                                "Đã active hạn mức"
                              ]
                            ],
                            "values": [
                              [
                                47252,
                                21090,
                                3556,
                                676,
                                649,
                                619,
                                474,
                                325
                              ]
                            ]
                          }
                        ],
                        "label": "Toàn Hàng",
                        "method": "restyle"
                      },
                      {
                        "args": [
                          {
                            "text": [
                              [
                                "Đã phân bổ",
                                "Đã gọi",
                                "Đã gặp",
                                "Thu thập hồ sơ",
                                " Định giá",
                                " Đã trình",
                                " Đã phê duyệt",
                                "Đã active hạn mức"
                              ]
                            ],
                            "values": [
                              [
                                4519,
                                1701,
                                598,
                                58,
                                65,
                                63,
                                44,
                                30
                              ]
                            ]
                          }
                        ],
                        "label": "Miền Bắc",
                        "method": "restyle"
                      },
                      {
                        "args": [
                          {
                            "text": [
                              [
                                "Đã phân bổ",
                                "Đã gọi",
                                "Đã gặp",
                                "Thu thập hồ sơ",
                                " Định giá",
                                " Đã trình",
                                " Đã phê duyệt",
                                "Đã active hạn mức"
                              ]
                            ],
                            "values": [
                              [
                                2127,
                                1096,
                                280,
                                45,
                                53,
                                44,
                                37,
                                21
                              ]
                            ]
                          }
                        ],
                        "label": "Miền Nam",
                        "method": "restyle"
                      },
                      {
                        "args": [
                          {
                            "text": [
                              [
                                "Đã phân bổ",
                                "Đã gọi",
                                "Đã gặp",
                                "Thu thập hồ sơ",
                                " Định giá",
                                " Đã trình",
                                " Đã phê duyệt",
                                "Đã active hạn mức"
                              ]
                            ],
                            "values": [
                              [
                                4519,
                                1701,
                                598,
                                58,
                                65,
                                63,
                                44,
                                30
                              ]
                            ]
                          }
                        ],
                        "label": "Miền Trung",
                        "method": "restyle"
                      }
                    ],
                    "direction": "down",
                    "showactive": true,
                    "x": 0.1,
                    "y": 1.1
                  }
                ],
                "width": 1000
              }
            }
          },
          "metadata": {},
          "output_type": "display_data"
        }
      ],
      "source": [
        "import plotly.express as px\n",
        "import pandas as pd\n",
        "\n",
        "\n",
        "\n",
        "# Create the initial plot\n",
        "fig = px.funnel_area(sum_nor_pro_df, names='State', values='Values',\n",
        "                    #  title='Funnel Area Chart of State Values',\n",
        "                     color_discrete_sequence=px.colors.qualitative.Set2)\n",
        "\n",
        "\n",
        "# Add the dropdown menu to the layout\n",
        "fig.update_layout(\n",
        "    updatemenus=[\n",
        "        dict(\n",
        "            buttons=list([\n",
        "                dict(\n",
        "                    args=[{'values': [Toan_Hang_df['Values']],\n",
        "                           'text': [Toan_Hang_df['State']]}],\n",
        "                    label='Toàn Hàng',\n",
        "                    method='restyle'\n",
        "                ),\n",
        "                dict(\n",
        "                    args=[{'values': [sum_nor_pro_df['Values']],\n",
        "                           'text': [sum_nor_pro_df['State']]}],\n",
        "                    label='Miền Bắc',\n",
        "                    method='restyle'\n",
        "                ),\n",
        "                dict(\n",
        "                    args=[{'values': [sum_south_pro_df['Values']],\n",
        "                           'text': [sum_south_pro_df['State']]}],\n",
        "                    label='Miền Nam',\n",
        "                    method='restyle'\n",
        "                ),\n",
        "                dict(\n",
        "                    args=[{'values': [sum_trung_pro_df['Values']],\n",
        "                           'text': [sum_trung_pro_df['State']]}],\n",
        "                    label='Miền Trung',\n",
        "                    method='restyle'\n",
        "                )\n",
        "\n",
        "            ]),\n",
        "            direction='down',\n",
        "            showactive=True,\n",
        "            x=0.1,\n",
        "            y=1.1\n",
        "        )\n",
        "    ]\n",
        ")\n",
        "\n",
        "# Update the layout and display the plot\n",
        "fig.update_layout(\n",
        "    # title=\"Biểu đồ phễu\",\n",
        "    title_font_size=20,\n",
        "    font=dict(size=20),\n",
        "    width=1000,\n",
        "    height=800\n",
        ")\n",
        "\n",
        "fig.show()\n",
        "\n"
      ]
    },
    {
      "cell_type": "code",
      "execution_count": 26,
      "metadata": {
        "colab": {
          "base_uri": "https://localhost:8080/"
        },
        "id": "JfaRI8DTOrl3",
        "outputId": "667f4620-42c5-453f-f9fb-a6b250aada8e"
      },
      "outputs": [
        {
          "name": "stdout",
          "output_type": "stream",
          "text": [
            "Dash is running on http://127.0.0.1:8050/\n",
            "\n",
            " * Serving Flask app '__main__'\n",
            " * Debug mode: on\n"
          ]
        }
      ],
      "source": [
        "import plotly.graph_objects as go # or plotly.express as px\n",
        "fig = go.Figure() # or any Plotly Express function e.g. px.bar(...)\n",
        "# fig.add_trace( ... )\n",
        "# fig.update_layout( ... )\n",
        "\n",
        "import dash\n",
        "import dash_core_components as dcc\n",
        "import dash_html_components as html\n",
        "\n",
        "app = dash.Dash()\n",
        "app.layout = html.Div([\n",
        "    dcc.Graph(figure=fig)\n",
        "])\n",
        "\n",
        "app.run_server(debug=True, use_reloader=False)  # Turn off reloader if inside Jupyter"
      ]
    },
    {
      "cell_type": "code",
      "execution_count": 24,
      "metadata": {
        "id": "hG3aqxud9VOv"
      },
      "outputs": [],
      "source": [
        "import dash\n",
        "import dash_core_components as dcc\n",
        "import dash_html_components as html\n",
        "import plotly.express as px\n",
        "import pandas as pd\n",
        "\n",
        "# Load data\n",
        "\n",
        "\n",
        "# Create the initial plot\n",
        "fig = px.funnel_area(sum_nor_pro_df, names='State', values='Values',\n",
        "                    color_discrete_sequence=px.colors.qualitative.Set2)\n",
        "\n",
        "# Define the dropdown menu options\n",
        "dropdown_options = [\n",
        "    {'label': 'Toàn Hàng', 'value': 'Toan_Hang'},\n",
        "    {'label': 'Miền Bắc', 'value': 'sum_nor_pro'},\n",
        "    {'label': 'Miền Nam', 'value': 'sum_south_pro'},\n",
        "    {'label': 'Miền Trung', 'value': 'sum_trung_pro'}\n",
        "]\n",
        "\n",
        "# Define the app and its layout\n",
        "app = dash.Dash(__name__)\n",
        "app.layout = html.Div(children=[\n",
        "    html.H1(children='Biểu đồ phễu'),\n",
        "\n",
        "    # Add the dropdown menu to the layout\n",
        "    dcc.Dropdown(\n",
        "        id='dropdown',\n",
        "        options=dropdown_options,\n",
        "        value='sum_nor_pro'\n",
        "    ),\n",
        "\n",
        "    # Add the plot to the layout\n",
        "    dcc.Graph(\n",
        "        id='funnel-chart',\n",
        "        figure=fig\n",
        "    )\n",
        "])\n",
        "\n",
        "# Define the callback function for the dropdown menu\n",
        "@app.callback(\n",
        "    dash.dependencies.Output('funnel-chart', 'figure'),\n",
        "    [dash.dependencies.Input('dropdown', 'value')]\n",
        ")\n",
        "def update_funnel_chart(selected_value):\n",
        "    if selected_value == 'Toan_Hang':\n",
        "        # Update plot for Toan_Hang\n",
        "        new_fig = px.funnel_area(Toan_Hang_df, names='State', values='Values',\n",
        "                                 color_discrete_sequence=px.colors.qualitative.Set2)\n",
        "    elif selected_value == 'sum_nor_pro':\n",
        "        # Update plot for sum_nor_pro\n",
        "        new_fig = px.funnel_area(sum_nor_pro_df, names='State', values='Values',\n",
        "                                 color_discrete_sequence=px.colors.qualitative.Set2)\n",
        "    elif selected_value == 'sum_south_pro':\n",
        "        # Update plot for sum_south_pro\n",
        "        new_fig = px.funnel_area(sum_south_pro_df, names='State', values='Values',\n",
        "                                 color_discrete_sequence=px.colors.qualitative.Set2)\n",
        "    else:\n",
        "        # Update plot for sum_trung_pro\n",
        "        new_fig = px.funnel_area(sum_trung_pro_df, names='State', values='Values',\n",
        "                                 color_discrete_sequence=px.colors.qualitative.Set2)\n",
        "\n",
        "    # Update the layout of the new plot\n",
        "    new_fig.update_layout(\n",
        "        title_font_size=20,\n",
        "        font=dict(size=20),\n",
        "        width=1000,\n",
        "        height=800\n",
        "    )\n",
        "\n",
        "    # Return the new plot\n",
        "    return new_fig\n",
        "\n",
        "if __name__ == '__main__':\n",
        "    app.run_server"
      ]
    },
    {
      "cell_type": "code",
      "execution_count": 25,
      "metadata": {
        "colab": {
          "background_save": true,
          "base_uri": "https://localhost:8080/"
        },
        "id": "tz1GLtxF9VTl",
        "outputId": "de19c07c-34b4-4327-ef35-a77e51b3127e"
      },
      "outputs": [
        {
          "name": "stdout",
          "output_type": "stream",
          "text": [
            "Dash is running on http://127.0.0.1:8050/\n",
            "\n",
            " * Serving Flask app '__main__'\n",
            " * Debug mode: on\n"
          ]
        }
      ],
      "source": [
        "import plotly.graph_objects as go # or plotly.express as px\n",
        "fig = go.Figure() # or any Plotly Express function e.g. px.bar(...)\n",
        "# fig.add_trace( ... )\n",
        "# fig.update_layout( ... )\n",
        "\n",
        "import dash\n",
        "import dash_core_components as dcc\n",
        "import dash_html_components as html\n",
        "\n",
        "app = dash.Dash()\n",
        "app.layout = html.Div([\n",
        "    dcc.Graph(figure=fig)\n",
        "])\n",
        "\n",
        "app.run_server(debug=True, use_reloader=False)  # Turn off reloader if inside Jupyter"
      ]
    },
    {
      "cell_type": "code",
      "execution_count": null,
      "metadata": {
        "id": "DvCoe2Sz9VW8"
      },
      "outputs": [],
      "source": []
    },
    {
      "cell_type": "code",
      "execution_count": null,
      "metadata": {
        "id": "1Tenl7vy9VbJ"
      },
      "outputs": [],
      "source": []
    },
    {
      "cell_type": "code",
      "execution_count": null,
      "metadata": {
        "id": "y81bAor99Vdw"
      },
      "outputs": [],
      "source": []
    },
    {
      "cell_type": "code",
      "execution_count": null,
      "metadata": {
        "id": "KzaJO6Fx9VgV"
      },
      "outputs": [],
      "source": []
    },
    {
      "cell_type": "code",
      "execution_count": null,
      "metadata": {
        "id": "R6QEWH7j9Vio"
      },
      "outputs": [],
      "source": []
    },
    {
      "cell_type": "code",
      "execution_count": null,
      "metadata": {
        "id": "0jVXxHWe9Vkv"
      },
      "outputs": [],
      "source": []
    },
    {
      "cell_type": "code",
      "execution_count": null,
      "metadata": {
        "id": "w_63OXx29VnN"
      },
      "outputs": [],
      "source": []
    },
    {
      "cell_type": "code",
      "execution_count": null,
      "metadata": {
        "id": "iEUe2PNy9Vqd"
      },
      "outputs": [],
      "source": []
    },
    {
      "cell_type": "code",
      "execution_count": null,
      "metadata": {
        "id": "aeU8YLt29Vty"
      },
      "outputs": [],
      "source": []
    },
    {
      "cell_type": "code",
      "execution_count": null,
      "metadata": {
        "id": "fv8hxBGX9VvF"
      },
      "outputs": [],
      "source": []
    },
    {
      "cell_type": "code",
      "execution_count": null,
      "metadata": {
        "id": "1fu215gA9Vwr"
      },
      "outputs": [],
      "source": []
    },
    {
      "cell_type": "code",
      "execution_count": null,
      "metadata": {
        "id": "GJBnWR-I9Vyq"
      },
      "outputs": [],
      "source": []
    },
    {
      "cell_type": "code",
      "execution_count": null,
      "metadata": {
        "id": "R8yDAIMF9V0T"
      },
      "outputs": [],
      "source": []
    },
    {
      "cell_type": "code",
      "execution_count": null,
      "metadata": {
        "id": "dtklfO239V2H"
      },
      "outputs": [],
      "source": []
    },
    {
      "cell_type": "code",
      "execution_count": null,
      "metadata": {
        "id": "I95u2BLl9V5h"
      },
      "outputs": [],
      "source": []
    },
    {
      "cell_type": "markdown",
      "metadata": {
        "id": "xgOyHEEyIFuH"
      },
      "source": [
        "# Đoạn này nháp - các kiểu mà vẫn thấy k ổn"
      ]
    },
    {
      "cell_type": "code",
      "execution_count": null,
      "metadata": {
        "colab": {
          "base_uri": "https://localhost:8080/",
          "height": 269
        },
        "id": "EXjiiQby1GyL",
        "outputId": "fecf892a-4ed3-402f-ec30-8041cd2603cc"
      },
      "outputs": [
        {
          "data": {
            "text/html": [
              "\n",
              "  <div id=\"df-f332c2a2-47e5-4686-96ca-44f33cfebe0d\">\n",
              "    <div class=\"colab-df-container\">\n",
              "      <div>\n",
              "<style scoped>\n",
              "    .dataframe tbody tr th:only-of-type {\n",
              "        vertical-align: middle;\n",
              "    }\n",
              "\n",
              "    .dataframe tbody tr th {\n",
              "        vertical-align: top;\n",
              "    }\n",
              "\n",
              "    .dataframe thead th {\n",
              "        text-align: right;\n",
              "    }\n",
              "</style>\n",
              "<table border=\"1\" class=\"dataframe\">\n",
              "  <thead>\n",
              "    <tr style=\"text-align: right;\">\n",
              "      <th></th>\n",
              "      <th>State</th>\n",
              "      <th>Values</th>\n",
              "    </tr>\n",
              "  </thead>\n",
              "  <tbody>\n",
              "    <tr>\n",
              "      <th>2</th>\n",
              "      <td>Đã gọi</td>\n",
              "      <td>2053</td>\n",
              "    </tr>\n",
              "    <tr>\n",
              "      <th>3</th>\n",
              "      <td>Đã gặp</td>\n",
              "      <td>322</td>\n",
              "    </tr>\n",
              "    <tr>\n",
              "      <th>5</th>\n",
              "      <td>Định giá</td>\n",
              "      <td>59</td>\n",
              "    </tr>\n",
              "    <tr>\n",
              "      <th>4</th>\n",
              "      <td>Thu thập hồ sơ</td>\n",
              "      <td>52</td>\n",
              "    </tr>\n",
              "    <tr>\n",
              "      <th>6</th>\n",
              "      <td>Đã trình</td>\n",
              "      <td>35</td>\n",
              "    </tr>\n",
              "    <tr>\n",
              "      <th>7</th>\n",
              "      <td>Đã phê duyệt</td>\n",
              "      <td>24</td>\n",
              "    </tr>\n",
              "    <tr>\n",
              "      <th>8</th>\n",
              "      <td>Đã active hạn mức</td>\n",
              "      <td>20</td>\n",
              "    </tr>\n",
              "  </tbody>\n",
              "</table>\n",
              "</div>\n",
              "      <button class=\"colab-df-convert\" onclick=\"convertToInteractive('df-f332c2a2-47e5-4686-96ca-44f33cfebe0d')\"\n",
              "              title=\"Convert this dataframe to an interactive table.\"\n",
              "              style=\"display:none;\">\n",
              "        \n",
              "  <svg xmlns=\"http://www.w3.org/2000/svg\" height=\"24px\"viewBox=\"0 0 24 24\"\n",
              "       width=\"24px\">\n",
              "    <path d=\"M0 0h24v24H0V0z\" fill=\"none\"/>\n",
              "    <path d=\"M18.56 5.44l.94 2.06.94-2.06 2.06-.94-2.06-.94-.94-2.06-.94 2.06-2.06.94zm-11 1L8.5 8.5l.94-2.06 2.06-.94-2.06-.94L8.5 2.5l-.94 2.06-2.06.94zm10 10l.94 2.06.94-2.06 2.06-.94-2.06-.94-.94-2.06-.94 2.06-2.06.94z\"/><path d=\"M17.41 7.96l-1.37-1.37c-.4-.4-.92-.59-1.43-.59-.52 0-1.04.2-1.43.59L10.3 9.45l-7.72 7.72c-.78.78-.78 2.05 0 2.83L4 21.41c.39.39.9.59 1.41.59.51 0 1.02-.2 1.41-.59l7.78-7.78 2.81-2.81c.8-.78.8-2.07 0-2.86zM5.41 20L4 18.59l7.72-7.72 1.47 1.35L5.41 20z\"/>\n",
              "  </svg>\n",
              "      </button>\n",
              "      \n",
              "  <style>\n",
              "    .colab-df-container {\n",
              "      display:flex;\n",
              "      flex-wrap:wrap;\n",
              "      gap: 12px;\n",
              "    }\n",
              "\n",
              "    .colab-df-convert {\n",
              "      background-color: #E8F0FE;\n",
              "      border: none;\n",
              "      border-radius: 50%;\n",
              "      cursor: pointer;\n",
              "      display: none;\n",
              "      fill: #1967D2;\n",
              "      height: 32px;\n",
              "      padding: 0 0 0 0;\n",
              "      width: 32px;\n",
              "    }\n",
              "\n",
              "    .colab-df-convert:hover {\n",
              "      background-color: #E2EBFA;\n",
              "      box-shadow: 0px 1px 2px rgba(60, 64, 67, 0.3), 0px 1px 3px 1px rgba(60, 64, 67, 0.15);\n",
              "      fill: #174EA6;\n",
              "    }\n",
              "\n",
              "    [theme=dark] .colab-df-convert {\n",
              "      background-color: #3B4455;\n",
              "      fill: #D2E3FC;\n",
              "    }\n",
              "\n",
              "    [theme=dark] .colab-df-convert:hover {\n",
              "      background-color: #434B5C;\n",
              "      box-shadow: 0px 1px 3px 1px rgba(0, 0, 0, 0.15);\n",
              "      filter: drop-shadow(0px 1px 2px rgba(0, 0, 0, 0.3));\n",
              "      fill: #FFFFFF;\n",
              "    }\n",
              "  </style>\n",
              "\n",
              "      <script>\n",
              "        const buttonEl =\n",
              "          document.querySelector('#df-f332c2a2-47e5-4686-96ca-44f33cfebe0d button.colab-df-convert');\n",
              "        buttonEl.style.display =\n",
              "          google.colab.kernel.accessAllowed ? 'block' : 'none';\n",
              "\n",
              "        async function convertToInteractive(key) {\n",
              "          const element = document.querySelector('#df-f332c2a2-47e5-4686-96ca-44f33cfebe0d');\n",
              "          const dataTable =\n",
              "            await google.colab.kernel.invokeFunction('convertToInteractive',\n",
              "                                                     [key], {});\n",
              "          if (!dataTable) return;\n",
              "\n",
              "          const docLinkHtml = 'Like what you see? Visit the ' +\n",
              "            '<a target=\"_blank\" href=https://colab.research.google.com/notebooks/data_table.ipynb>data table notebook</a>'\n",
              "            + ' to learn more about interactive tables.';\n",
              "          element.innerHTML = '';\n",
              "          dataTable['output_type'] = 'display_data';\n",
              "          await google.colab.output.renderOutput(dataTable, element);\n",
              "          const docLink = document.createElement('div');\n",
              "          docLink.innerHTML = docLinkHtml;\n",
              "          element.appendChild(docLink);\n",
              "        }\n",
              "      </script>\n",
              "    </div>\n",
              "  </div>\n",
              "  "
            ],
            "text/plain": [
              "               State  Values\n",
              "2             Đã gọi    2053\n",
              "3             Đã gặp     322\n",
              "5           Định giá      59\n",
              "4     Thu thập hồ sơ      52\n",
              "6           Đã trình      35\n",
              "7       Đã phê duyệt      24\n",
              "8  Đã active hạn mức      20"
            ]
          },
          "execution_count": 23,
          "metadata": {},
          "output_type": "execute_result"
        }
      ],
      "source": [
        "binh_duong_hub = df_hub[df_hub['Hub']=='Bình Dương'].T.reset_index().drop(0).drop(1)\n",
        "binh_duong_hub = binh_duong_hub.rename(columns= {1 : 'Values' ,'index' : 'State'})\n",
        "\n",
        "binh_duong_hub['Values'] = binh_duong_hub['Values'].astype('int64')\n",
        "binh_duong_hub = binh_duong_hub.sort_values(by = ['Values'],ascending  = False)\n",
        "binh_duong_hub"
      ]
    },
    {
      "cell_type": "code",
      "execution_count": null,
      "metadata": {
        "colab": {
          "base_uri": "https://localhost:8080/",
          "height": 617
        },
        "id": "CLEvHaZN2SG5",
        "outputId": "44cdcf7d-be79-489e-c2d7-4529f89c72d2"
      },
      "outputs": [
        {
          "data": {
            "text/html": [
              "<html>\n",
              "<head><meta charset=\"utf-8\" /></head>\n",
              "<body>\n",
              "    <div>            <script src=\"https://cdnjs.cloudflare.com/ajax/libs/mathjax/2.7.5/MathJax.js?config=TeX-AMS-MML_SVG\"></script><script type=\"text/javascript\">if (window.MathJax && window.MathJax.Hub && window.MathJax.Hub.Config) {window.MathJax.Hub.Config({SVG: {font: \"STIX-Web\"}});}</script>                <script type=\"text/javascript\">window.PlotlyConfig = {MathJaxConfig: 'local'};</script>\n",
              "        <script src=\"https://cdn.plot.ly/plotly-2.18.2.min.js\"></script>                <div id=\"072d526b-260f-46ed-8413-1c4767445603\" class=\"plotly-graph-div\" style=\"height:600px; width:1000px;\"></div>            <script type=\"text/javascript\">                                    window.PLOTLYENV=window.PLOTLYENV || {};                                    if (document.getElementById(\"072d526b-260f-46ed-8413-1c4767445603\")) {                    Plotly.newPlot(                        \"072d526b-260f-46ed-8413-1c4767445603\",                        [{\"text\":[\"\\u0110\\u00e3 g\\u1ecdi\",\"\\u0110\\u00e3 g\\u1eb7p\",\" \\u0110\\u1ecbnh gi\\u00e1\",\"Thu th\\u1eadp h\\u1ed3 s\\u01a1\",\" \\u0110\\u00e3 tr\\u00ecnh\",\" \\u0110\\u00e3 ph\\u00ea duy\\u1ec7t\",\"\\u0110\\u00e3 active h\\u1ea1n m\\u1ee9c\"],\"values\":[2053,322,59,52,35,24,20],\"type\":\"funnelarea\"}],                        {\"template\":{\"data\":{\"histogram2dcontour\":[{\"type\":\"histogram2dcontour\",\"colorbar\":{\"outlinewidth\":0,\"ticks\":\"\"},\"colorscale\":[[0.0,\"#0d0887\"],[0.1111111111111111,\"#46039f\"],[0.2222222222222222,\"#7201a8\"],[0.3333333333333333,\"#9c179e\"],[0.4444444444444444,\"#bd3786\"],[0.5555555555555556,\"#d8576b\"],[0.6666666666666666,\"#ed7953\"],[0.7777777777777778,\"#fb9f3a\"],[0.8888888888888888,\"#fdca26\"],[1.0,\"#f0f921\"]]}],\"choropleth\":[{\"type\":\"choropleth\",\"colorbar\":{\"outlinewidth\":0,\"ticks\":\"\"}}],\"histogram2d\":[{\"type\":\"histogram2d\",\"colorbar\":{\"outlinewidth\":0,\"ticks\":\"\"},\"colorscale\":[[0.0,\"#0d0887\"],[0.1111111111111111,\"#46039f\"],[0.2222222222222222,\"#7201a8\"],[0.3333333333333333,\"#9c179e\"],[0.4444444444444444,\"#bd3786\"],[0.5555555555555556,\"#d8576b\"],[0.6666666666666666,\"#ed7953\"],[0.7777777777777778,\"#fb9f3a\"],[0.8888888888888888,\"#fdca26\"],[1.0,\"#f0f921\"]]}],\"heatmap\":[{\"type\":\"heatmap\",\"colorbar\":{\"outlinewidth\":0,\"ticks\":\"\"},\"colorscale\":[[0.0,\"#0d0887\"],[0.1111111111111111,\"#46039f\"],[0.2222222222222222,\"#7201a8\"],[0.3333333333333333,\"#9c179e\"],[0.4444444444444444,\"#bd3786\"],[0.5555555555555556,\"#d8576b\"],[0.6666666666666666,\"#ed7953\"],[0.7777777777777778,\"#fb9f3a\"],[0.8888888888888888,\"#fdca26\"],[1.0,\"#f0f921\"]]}],\"heatmapgl\":[{\"type\":\"heatmapgl\",\"colorbar\":{\"outlinewidth\":0,\"ticks\":\"\"},\"colorscale\":[[0.0,\"#0d0887\"],[0.1111111111111111,\"#46039f\"],[0.2222222222222222,\"#7201a8\"],[0.3333333333333333,\"#9c179e\"],[0.4444444444444444,\"#bd3786\"],[0.5555555555555556,\"#d8576b\"],[0.6666666666666666,\"#ed7953\"],[0.7777777777777778,\"#fb9f3a\"],[0.8888888888888888,\"#fdca26\"],[1.0,\"#f0f921\"]]}],\"contourcarpet\":[{\"type\":\"contourcarpet\",\"colorbar\":{\"outlinewidth\":0,\"ticks\":\"\"}}],\"contour\":[{\"type\":\"contour\",\"colorbar\":{\"outlinewidth\":0,\"ticks\":\"\"},\"colorscale\":[[0.0,\"#0d0887\"],[0.1111111111111111,\"#46039f\"],[0.2222222222222222,\"#7201a8\"],[0.3333333333333333,\"#9c179e\"],[0.4444444444444444,\"#bd3786\"],[0.5555555555555556,\"#d8576b\"],[0.6666666666666666,\"#ed7953\"],[0.7777777777777778,\"#fb9f3a\"],[0.8888888888888888,\"#fdca26\"],[1.0,\"#f0f921\"]]}],\"surface\":[{\"type\":\"surface\",\"colorbar\":{\"outlinewidth\":0,\"ticks\":\"\"},\"colorscale\":[[0.0,\"#0d0887\"],[0.1111111111111111,\"#46039f\"],[0.2222222222222222,\"#7201a8\"],[0.3333333333333333,\"#9c179e\"],[0.4444444444444444,\"#bd3786\"],[0.5555555555555556,\"#d8576b\"],[0.6666666666666666,\"#ed7953\"],[0.7777777777777778,\"#fb9f3a\"],[0.8888888888888888,\"#fdca26\"],[1.0,\"#f0f921\"]]}],\"mesh3d\":[{\"type\":\"mesh3d\",\"colorbar\":{\"outlinewidth\":0,\"ticks\":\"\"}}],\"scatter\":[{\"fillpattern\":{\"fillmode\":\"overlay\",\"size\":10,\"solidity\":0.2},\"type\":\"scatter\"}],\"parcoords\":[{\"type\":\"parcoords\",\"line\":{\"colorbar\":{\"outlinewidth\":0,\"ticks\":\"\"}}}],\"scatterpolargl\":[{\"type\":\"scatterpolargl\",\"marker\":{\"colorbar\":{\"outlinewidth\":0,\"ticks\":\"\"}}}],\"bar\":[{\"error_x\":{\"color\":\"#2a3f5f\"},\"error_y\":{\"color\":\"#2a3f5f\"},\"marker\":{\"line\":{\"color\":\"#E5ECF6\",\"width\":0.5},\"pattern\":{\"fillmode\":\"overlay\",\"size\":10,\"solidity\":0.2}},\"type\":\"bar\"}],\"scattergeo\":[{\"type\":\"scattergeo\",\"marker\":{\"colorbar\":{\"outlinewidth\":0,\"ticks\":\"\"}}}],\"scatterpolar\":[{\"type\":\"scatterpolar\",\"marker\":{\"colorbar\":{\"outlinewidth\":0,\"ticks\":\"\"}}}],\"histogram\":[{\"marker\":{\"pattern\":{\"fillmode\":\"overlay\",\"size\":10,\"solidity\":0.2}},\"type\":\"histogram\"}],\"scattergl\":[{\"type\":\"scattergl\",\"marker\":{\"colorbar\":{\"outlinewidth\":0,\"ticks\":\"\"}}}],\"scatter3d\":[{\"type\":\"scatter3d\",\"line\":{\"colorbar\":{\"outlinewidth\":0,\"ticks\":\"\"}},\"marker\":{\"colorbar\":{\"outlinewidth\":0,\"ticks\":\"\"}}}],\"scattermapbox\":[{\"type\":\"scattermapbox\",\"marker\":{\"colorbar\":{\"outlinewidth\":0,\"ticks\":\"\"}}}],\"scatterternary\":[{\"type\":\"scatterternary\",\"marker\":{\"colorbar\":{\"outlinewidth\":0,\"ticks\":\"\"}}}],\"scattercarpet\":[{\"type\":\"scattercarpet\",\"marker\":{\"colorbar\":{\"outlinewidth\":0,\"ticks\":\"\"}}}],\"carpet\":[{\"aaxis\":{\"endlinecolor\":\"#2a3f5f\",\"gridcolor\":\"white\",\"linecolor\":\"white\",\"minorgridcolor\":\"white\",\"startlinecolor\":\"#2a3f5f\"},\"baxis\":{\"endlinecolor\":\"#2a3f5f\",\"gridcolor\":\"white\",\"linecolor\":\"white\",\"minorgridcolor\":\"white\",\"startlinecolor\":\"#2a3f5f\"},\"type\":\"carpet\"}],\"table\":[{\"cells\":{\"fill\":{\"color\":\"#EBF0F8\"},\"line\":{\"color\":\"white\"}},\"header\":{\"fill\":{\"color\":\"#C8D4E3\"},\"line\":{\"color\":\"white\"}},\"type\":\"table\"}],\"barpolar\":[{\"marker\":{\"line\":{\"color\":\"#E5ECF6\",\"width\":0.5},\"pattern\":{\"fillmode\":\"overlay\",\"size\":10,\"solidity\":0.2}},\"type\":\"barpolar\"}],\"pie\":[{\"automargin\":true,\"type\":\"pie\"}]},\"layout\":{\"autotypenumbers\":\"strict\",\"colorway\":[\"#636efa\",\"#EF553B\",\"#00cc96\",\"#ab63fa\",\"#FFA15A\",\"#19d3f3\",\"#FF6692\",\"#B6E880\",\"#FF97FF\",\"#FECB52\"],\"font\":{\"color\":\"#2a3f5f\"},\"hovermode\":\"closest\",\"hoverlabel\":{\"align\":\"left\"},\"paper_bgcolor\":\"white\",\"plot_bgcolor\":\"#E5ECF6\",\"polar\":{\"bgcolor\":\"#E5ECF6\",\"angularaxis\":{\"gridcolor\":\"white\",\"linecolor\":\"white\",\"ticks\":\"\"},\"radialaxis\":{\"gridcolor\":\"white\",\"linecolor\":\"white\",\"ticks\":\"\"}},\"ternary\":{\"bgcolor\":\"#E5ECF6\",\"aaxis\":{\"gridcolor\":\"white\",\"linecolor\":\"white\",\"ticks\":\"\"},\"baxis\":{\"gridcolor\":\"white\",\"linecolor\":\"white\",\"ticks\":\"\"},\"caxis\":{\"gridcolor\":\"white\",\"linecolor\":\"white\",\"ticks\":\"\"}},\"coloraxis\":{\"colorbar\":{\"outlinewidth\":0,\"ticks\":\"\"}},\"colorscale\":{\"sequential\":[[0.0,\"#0d0887\"],[0.1111111111111111,\"#46039f\"],[0.2222222222222222,\"#7201a8\"],[0.3333333333333333,\"#9c179e\"],[0.4444444444444444,\"#bd3786\"],[0.5555555555555556,\"#d8576b\"],[0.6666666666666666,\"#ed7953\"],[0.7777777777777778,\"#fb9f3a\"],[0.8888888888888888,\"#fdca26\"],[1.0,\"#f0f921\"]],\"sequentialminus\":[[0.0,\"#0d0887\"],[0.1111111111111111,\"#46039f\"],[0.2222222222222222,\"#7201a8\"],[0.3333333333333333,\"#9c179e\"],[0.4444444444444444,\"#bd3786\"],[0.5555555555555556,\"#d8576b\"],[0.6666666666666666,\"#ed7953\"],[0.7777777777777778,\"#fb9f3a\"],[0.8888888888888888,\"#fdca26\"],[1.0,\"#f0f921\"]],\"diverging\":[[0,\"#8e0152\"],[0.1,\"#c51b7d\"],[0.2,\"#de77ae\"],[0.3,\"#f1b6da\"],[0.4,\"#fde0ef\"],[0.5,\"#f7f7f7\"],[0.6,\"#e6f5d0\"],[0.7,\"#b8e186\"],[0.8,\"#7fbc41\"],[0.9,\"#4d9221\"],[1,\"#276419\"]]},\"xaxis\":{\"gridcolor\":\"white\",\"linecolor\":\"white\",\"ticks\":\"\",\"title\":{\"standoff\":15},\"zerolinecolor\":\"white\",\"automargin\":true,\"zerolinewidth\":2},\"yaxis\":{\"gridcolor\":\"white\",\"linecolor\":\"white\",\"ticks\":\"\",\"title\":{\"standoff\":15},\"zerolinecolor\":\"white\",\"automargin\":true,\"zerolinewidth\":2},\"scene\":{\"xaxis\":{\"backgroundcolor\":\"#E5ECF6\",\"gridcolor\":\"white\",\"linecolor\":\"white\",\"showbackground\":true,\"ticks\":\"\",\"zerolinecolor\":\"white\",\"gridwidth\":2},\"yaxis\":{\"backgroundcolor\":\"#E5ECF6\",\"gridcolor\":\"white\",\"linecolor\":\"white\",\"showbackground\":true,\"ticks\":\"\",\"zerolinecolor\":\"white\",\"gridwidth\":2},\"zaxis\":{\"backgroundcolor\":\"#E5ECF6\",\"gridcolor\":\"white\",\"linecolor\":\"white\",\"showbackground\":true,\"ticks\":\"\",\"zerolinecolor\":\"white\",\"gridwidth\":2}},\"shapedefaults\":{\"line\":{\"color\":\"#2a3f5f\"}},\"annotationdefaults\":{\"arrowcolor\":\"#2a3f5f\",\"arrowhead\":0,\"arrowwidth\":1},\"geo\":{\"bgcolor\":\"white\",\"landcolor\":\"#E5ECF6\",\"subunitcolor\":\"white\",\"showland\":true,\"showlakes\":true,\"lakecolor\":\"white\"},\"title\":{\"x\":0.05},\"mapbox\":{\"style\":\"light\"}}},\"title\":{\"text\":\"Bi\\u1ec3u \\u0111\\u1ed3 ph\\u1ec5u t\\u1ec9nh b\\u00ecnh d\\u01b0\\u01a1ng\",\"font\":{\"size\":30}},\"font\":{\"size\":20},\"width\":1000,\"height\":600},                        {\"responsive\": true}                    ).then(function(){\n",
              "                            \n",
              "var gd = document.getElementById('072d526b-260f-46ed-8413-1c4767445603');\n",
              "var x = new MutationObserver(function (mutations, observer) {{\n",
              "        var display = window.getComputedStyle(gd).display;\n",
              "        if (!display || display === 'none') {{\n",
              "            console.log([gd, 'removed!']);\n",
              "            Plotly.purge(gd);\n",
              "            observer.disconnect();\n",
              "        }}\n",
              "}});\n",
              "\n",
              "// Listen for the removal of the full notebook cells\n",
              "var notebookContainer = gd.closest('#notebook-container');\n",
              "if (notebookContainer) {{\n",
              "    x.observe(notebookContainer, {childList: true});\n",
              "}}\n",
              "\n",
              "// Listen for the clearing of the current output cell\n",
              "var outputEl = gd.closest('.output');\n",
              "if (outputEl) {{\n",
              "    x.observe(outputEl, {childList: true});\n",
              "}}\n",
              "\n",
              "                        })                };                            </script>        </div>\n",
              "</body>\n",
              "</html>"
            ]
          },
          "metadata": {},
          "output_type": "display_data"
        }
      ],
      "source": [
        "from plotly import graph_objects as go\n",
        "\n",
        "fig = go.Figure(go.Funnelarea(\n",
        "      values = binh_duong_hub['Values'], text = binh_duong_hub['State'],\n",
        "  ))\n",
        "\n",
        "fig.update_layout(\n",
        "    title=\"Biểu đồ phễu tỉnh bình dương\",\n",
        "    title_font_size=30,\n",
        "    font=dict(size=20),\n",
        "    width=1000,\n",
        "    height=600\n",
        ")\n",
        "fig.show()"
      ]
    },
    {
      "cell_type": "code",
      "execution_count": null,
      "metadata": {
        "colab": {
          "base_uri": "https://localhost:8080/",
          "height": 542
        },
        "id": "Sa7Lh3SF3A9V",
        "outputId": "cc98851a-b578-4d7e-c873-4fe50554af89"
      },
      "outputs": [
        {
          "data": {
            "text/html": [
              "<html>\n",
              "<head><meta charset=\"utf-8\" /></head>\n",
              "<body>\n",
              "    <div>            <script src=\"https://cdnjs.cloudflare.com/ajax/libs/mathjax/2.7.5/MathJax.js?config=TeX-AMS-MML_SVG\"></script><script type=\"text/javascript\">if (window.MathJax && window.MathJax.Hub && window.MathJax.Hub.Config) {window.MathJax.Hub.Config({SVG: {font: \"STIX-Web\"}});}</script>                <script type=\"text/javascript\">window.PlotlyConfig = {MathJaxConfig: 'local'};</script>\n",
              "        <script src=\"https://cdn.plot.ly/plotly-2.18.2.min.js\"></script>                <div id=\"1d5f9eaf-86fc-4baa-a16c-bb097c0fe672\" class=\"plotly-graph-div\" style=\"height:525px; width:100%;\"></div>            <script type=\"text/javascript\">                                    window.PLOTLYENV=window.PLOTLYENV || {};                                    if (document.getElementById(\"1d5f9eaf-86fc-4baa-a16c-bb097c0fe672\")) {                    Plotly.newPlot(                        \"1d5f9eaf-86fc-4baa-a16c-bb097c0fe672\",                        [{\"connector\":{\"line\":{\"color\":\"royalblue\",\"dash\":\"dot\",\"width\":3}},\"marker\":{\"color\":[\"deepskyblue\",\"lightsalmon\",\"tan\",\"teal\",\"silver\"],\"line\":{\"color\":[\"wheat\",\"wheat\",\"blue\",\"wheat\",\"wheat\"],\"width\":[4,2,2,3,1,1]}},\"opacity\":0.65,\"textinfo\":\"value+percent initial\",\"textposition\":\"inside\",\"x\":[2053,322,59,52,35,24,20],\"y\":[\"\\u0110\\u00e3 g\\u1ecdi\",\"\\u0110\\u00e3 g\\u1eb7p\",\" \\u0110\\u1ecbnh gi\\u00e1\",\"Thu th\\u1eadp h\\u1ed3 s\\u01a1\",\" \\u0110\\u00e3 tr\\u00ecnh\",\" \\u0110\\u00e3 ph\\u00ea duy\\u1ec7t\",\"\\u0110\\u00e3 active h\\u1ea1n m\\u1ee9c\"],\"type\":\"funnel\"}],                        {\"template\":{\"data\":{\"histogram2dcontour\":[{\"type\":\"histogram2dcontour\",\"colorbar\":{\"outlinewidth\":0,\"ticks\":\"\"},\"colorscale\":[[0.0,\"#0d0887\"],[0.1111111111111111,\"#46039f\"],[0.2222222222222222,\"#7201a8\"],[0.3333333333333333,\"#9c179e\"],[0.4444444444444444,\"#bd3786\"],[0.5555555555555556,\"#d8576b\"],[0.6666666666666666,\"#ed7953\"],[0.7777777777777778,\"#fb9f3a\"],[0.8888888888888888,\"#fdca26\"],[1.0,\"#f0f921\"]]}],\"choropleth\":[{\"type\":\"choropleth\",\"colorbar\":{\"outlinewidth\":0,\"ticks\":\"\"}}],\"histogram2d\":[{\"type\":\"histogram2d\",\"colorbar\":{\"outlinewidth\":0,\"ticks\":\"\"},\"colorscale\":[[0.0,\"#0d0887\"],[0.1111111111111111,\"#46039f\"],[0.2222222222222222,\"#7201a8\"],[0.3333333333333333,\"#9c179e\"],[0.4444444444444444,\"#bd3786\"],[0.5555555555555556,\"#d8576b\"],[0.6666666666666666,\"#ed7953\"],[0.7777777777777778,\"#fb9f3a\"],[0.8888888888888888,\"#fdca26\"],[1.0,\"#f0f921\"]]}],\"heatmap\":[{\"type\":\"heatmap\",\"colorbar\":{\"outlinewidth\":0,\"ticks\":\"\"},\"colorscale\":[[0.0,\"#0d0887\"],[0.1111111111111111,\"#46039f\"],[0.2222222222222222,\"#7201a8\"],[0.3333333333333333,\"#9c179e\"],[0.4444444444444444,\"#bd3786\"],[0.5555555555555556,\"#d8576b\"],[0.6666666666666666,\"#ed7953\"],[0.7777777777777778,\"#fb9f3a\"],[0.8888888888888888,\"#fdca26\"],[1.0,\"#f0f921\"]]}],\"heatmapgl\":[{\"type\":\"heatmapgl\",\"colorbar\":{\"outlinewidth\":0,\"ticks\":\"\"},\"colorscale\":[[0.0,\"#0d0887\"],[0.1111111111111111,\"#46039f\"],[0.2222222222222222,\"#7201a8\"],[0.3333333333333333,\"#9c179e\"],[0.4444444444444444,\"#bd3786\"],[0.5555555555555556,\"#d8576b\"],[0.6666666666666666,\"#ed7953\"],[0.7777777777777778,\"#fb9f3a\"],[0.8888888888888888,\"#fdca26\"],[1.0,\"#f0f921\"]]}],\"contourcarpet\":[{\"type\":\"contourcarpet\",\"colorbar\":{\"outlinewidth\":0,\"ticks\":\"\"}}],\"contour\":[{\"type\":\"contour\",\"colorbar\":{\"outlinewidth\":0,\"ticks\":\"\"},\"colorscale\":[[0.0,\"#0d0887\"],[0.1111111111111111,\"#46039f\"],[0.2222222222222222,\"#7201a8\"],[0.3333333333333333,\"#9c179e\"],[0.4444444444444444,\"#bd3786\"],[0.5555555555555556,\"#d8576b\"],[0.6666666666666666,\"#ed7953\"],[0.7777777777777778,\"#fb9f3a\"],[0.8888888888888888,\"#fdca26\"],[1.0,\"#f0f921\"]]}],\"surface\":[{\"type\":\"surface\",\"colorbar\":{\"outlinewidth\":0,\"ticks\":\"\"},\"colorscale\":[[0.0,\"#0d0887\"],[0.1111111111111111,\"#46039f\"],[0.2222222222222222,\"#7201a8\"],[0.3333333333333333,\"#9c179e\"],[0.4444444444444444,\"#bd3786\"],[0.5555555555555556,\"#d8576b\"],[0.6666666666666666,\"#ed7953\"],[0.7777777777777778,\"#fb9f3a\"],[0.8888888888888888,\"#fdca26\"],[1.0,\"#f0f921\"]]}],\"mesh3d\":[{\"type\":\"mesh3d\",\"colorbar\":{\"outlinewidth\":0,\"ticks\":\"\"}}],\"scatter\":[{\"fillpattern\":{\"fillmode\":\"overlay\",\"size\":10,\"solidity\":0.2},\"type\":\"scatter\"}],\"parcoords\":[{\"type\":\"parcoords\",\"line\":{\"colorbar\":{\"outlinewidth\":0,\"ticks\":\"\"}}}],\"scatterpolargl\":[{\"type\":\"scatterpolargl\",\"marker\":{\"colorbar\":{\"outlinewidth\":0,\"ticks\":\"\"}}}],\"bar\":[{\"error_x\":{\"color\":\"#2a3f5f\"},\"error_y\":{\"color\":\"#2a3f5f\"},\"marker\":{\"line\":{\"color\":\"#E5ECF6\",\"width\":0.5},\"pattern\":{\"fillmode\":\"overlay\",\"size\":10,\"solidity\":0.2}},\"type\":\"bar\"}],\"scattergeo\":[{\"type\":\"scattergeo\",\"marker\":{\"colorbar\":{\"outlinewidth\":0,\"ticks\":\"\"}}}],\"scatterpolar\":[{\"type\":\"scatterpolar\",\"marker\":{\"colorbar\":{\"outlinewidth\":0,\"ticks\":\"\"}}}],\"histogram\":[{\"marker\":{\"pattern\":{\"fillmode\":\"overlay\",\"size\":10,\"solidity\":0.2}},\"type\":\"histogram\"}],\"scattergl\":[{\"type\":\"scattergl\",\"marker\":{\"colorbar\":{\"outlinewidth\":0,\"ticks\":\"\"}}}],\"scatter3d\":[{\"type\":\"scatter3d\",\"line\":{\"colorbar\":{\"outlinewidth\":0,\"ticks\":\"\"}},\"marker\":{\"colorbar\":{\"outlinewidth\":0,\"ticks\":\"\"}}}],\"scattermapbox\":[{\"type\":\"scattermapbox\",\"marker\":{\"colorbar\":{\"outlinewidth\":0,\"ticks\":\"\"}}}],\"scatterternary\":[{\"type\":\"scatterternary\",\"marker\":{\"colorbar\":{\"outlinewidth\":0,\"ticks\":\"\"}}}],\"scattercarpet\":[{\"type\":\"scattercarpet\",\"marker\":{\"colorbar\":{\"outlinewidth\":0,\"ticks\":\"\"}}}],\"carpet\":[{\"aaxis\":{\"endlinecolor\":\"#2a3f5f\",\"gridcolor\":\"white\",\"linecolor\":\"white\",\"minorgridcolor\":\"white\",\"startlinecolor\":\"#2a3f5f\"},\"baxis\":{\"endlinecolor\":\"#2a3f5f\",\"gridcolor\":\"white\",\"linecolor\":\"white\",\"minorgridcolor\":\"white\",\"startlinecolor\":\"#2a3f5f\"},\"type\":\"carpet\"}],\"table\":[{\"cells\":{\"fill\":{\"color\":\"#EBF0F8\"},\"line\":{\"color\":\"white\"}},\"header\":{\"fill\":{\"color\":\"#C8D4E3\"},\"line\":{\"color\":\"white\"}},\"type\":\"table\"}],\"barpolar\":[{\"marker\":{\"line\":{\"color\":\"#E5ECF6\",\"width\":0.5},\"pattern\":{\"fillmode\":\"overlay\",\"size\":10,\"solidity\":0.2}},\"type\":\"barpolar\"}],\"pie\":[{\"automargin\":true,\"type\":\"pie\"}]},\"layout\":{\"autotypenumbers\":\"strict\",\"colorway\":[\"#636efa\",\"#EF553B\",\"#00cc96\",\"#ab63fa\",\"#FFA15A\",\"#19d3f3\",\"#FF6692\",\"#B6E880\",\"#FF97FF\",\"#FECB52\"],\"font\":{\"color\":\"#2a3f5f\"},\"hovermode\":\"closest\",\"hoverlabel\":{\"align\":\"left\"},\"paper_bgcolor\":\"white\",\"plot_bgcolor\":\"#E5ECF6\",\"polar\":{\"bgcolor\":\"#E5ECF6\",\"angularaxis\":{\"gridcolor\":\"white\",\"linecolor\":\"white\",\"ticks\":\"\"},\"radialaxis\":{\"gridcolor\":\"white\",\"linecolor\":\"white\",\"ticks\":\"\"}},\"ternary\":{\"bgcolor\":\"#E5ECF6\",\"aaxis\":{\"gridcolor\":\"white\",\"linecolor\":\"white\",\"ticks\":\"\"},\"baxis\":{\"gridcolor\":\"white\",\"linecolor\":\"white\",\"ticks\":\"\"},\"caxis\":{\"gridcolor\":\"white\",\"linecolor\":\"white\",\"ticks\":\"\"}},\"coloraxis\":{\"colorbar\":{\"outlinewidth\":0,\"ticks\":\"\"}},\"colorscale\":{\"sequential\":[[0.0,\"#0d0887\"],[0.1111111111111111,\"#46039f\"],[0.2222222222222222,\"#7201a8\"],[0.3333333333333333,\"#9c179e\"],[0.4444444444444444,\"#bd3786\"],[0.5555555555555556,\"#d8576b\"],[0.6666666666666666,\"#ed7953\"],[0.7777777777777778,\"#fb9f3a\"],[0.8888888888888888,\"#fdca26\"],[1.0,\"#f0f921\"]],\"sequentialminus\":[[0.0,\"#0d0887\"],[0.1111111111111111,\"#46039f\"],[0.2222222222222222,\"#7201a8\"],[0.3333333333333333,\"#9c179e\"],[0.4444444444444444,\"#bd3786\"],[0.5555555555555556,\"#d8576b\"],[0.6666666666666666,\"#ed7953\"],[0.7777777777777778,\"#fb9f3a\"],[0.8888888888888888,\"#fdca26\"],[1.0,\"#f0f921\"]],\"diverging\":[[0,\"#8e0152\"],[0.1,\"#c51b7d\"],[0.2,\"#de77ae\"],[0.3,\"#f1b6da\"],[0.4,\"#fde0ef\"],[0.5,\"#f7f7f7\"],[0.6,\"#e6f5d0\"],[0.7,\"#b8e186\"],[0.8,\"#7fbc41\"],[0.9,\"#4d9221\"],[1,\"#276419\"]]},\"xaxis\":{\"gridcolor\":\"white\",\"linecolor\":\"white\",\"ticks\":\"\",\"title\":{\"standoff\":15},\"zerolinecolor\":\"white\",\"automargin\":true,\"zerolinewidth\":2},\"yaxis\":{\"gridcolor\":\"white\",\"linecolor\":\"white\",\"ticks\":\"\",\"title\":{\"standoff\":15},\"zerolinecolor\":\"white\",\"automargin\":true,\"zerolinewidth\":2},\"scene\":{\"xaxis\":{\"backgroundcolor\":\"#E5ECF6\",\"gridcolor\":\"white\",\"linecolor\":\"white\",\"showbackground\":true,\"ticks\":\"\",\"zerolinecolor\":\"white\",\"gridwidth\":2},\"yaxis\":{\"backgroundcolor\":\"#E5ECF6\",\"gridcolor\":\"white\",\"linecolor\":\"white\",\"showbackground\":true,\"ticks\":\"\",\"zerolinecolor\":\"white\",\"gridwidth\":2},\"zaxis\":{\"backgroundcolor\":\"#E5ECF6\",\"gridcolor\":\"white\",\"linecolor\":\"white\",\"showbackground\":true,\"ticks\":\"\",\"zerolinecolor\":\"white\",\"gridwidth\":2}},\"shapedefaults\":{\"line\":{\"color\":\"#2a3f5f\"}},\"annotationdefaults\":{\"arrowcolor\":\"#2a3f5f\",\"arrowhead\":0,\"arrowwidth\":1},\"geo\":{\"bgcolor\":\"white\",\"landcolor\":\"#E5ECF6\",\"subunitcolor\":\"white\",\"showland\":true,\"showlakes\":true,\"lakecolor\":\"white\"},\"title\":{\"x\":0.05},\"mapbox\":{\"style\":\"light\"}}}},                        {\"responsive\": true}                    ).then(function(){\n",
              "                            \n",
              "var gd = document.getElementById('1d5f9eaf-86fc-4baa-a16c-bb097c0fe672');\n",
              "var x = new MutationObserver(function (mutations, observer) {{\n",
              "        var display = window.getComputedStyle(gd).display;\n",
              "        if (!display || display === 'none') {{\n",
              "            console.log([gd, 'removed!']);\n",
              "            Plotly.purge(gd);\n",
              "            observer.disconnect();\n",
              "        }}\n",
              "}});\n",
              "\n",
              "// Listen for the removal of the full notebook cells\n",
              "var notebookContainer = gd.closest('#notebook-container');\n",
              "if (notebookContainer) {{\n",
              "    x.observe(notebookContainer, {childList: true});\n",
              "}}\n",
              "\n",
              "// Listen for the clearing of the current output cell\n",
              "var outputEl = gd.closest('.output');\n",
              "if (outputEl) {{\n",
              "    x.observe(outputEl, {childList: true});\n",
              "}}\n",
              "\n",
              "                        })                };                            </script>        </div>\n",
              "</body>\n",
              "</html>"
            ]
          },
          "metadata": {},
          "output_type": "display_data"
        }
      ],
      "source": [
        "from plotly import graph_objects as go\n",
        "\n",
        "fig = go.Figure(go.Funnel(\n",
        "    x = binh_duong_hub['Values'], y = binh_duong_hub['State'],\n",
        "\n",
        "    textposition = \"inside\",\n",
        "    textinfo = \"value+percent initial\",\n",
        "    opacity = 0.65, marker = {\"color\": [\"deepskyblue\", \"lightsalmon\", \"tan\", \"teal\", \"silver\"],\n",
        "    \"line\": {\"width\": [4, 2, 2, 3, 1, 1], \"color\": [\"wheat\", \"wheat\", \"blue\", \"wheat\", \"wheat\"]}},\n",
        "    connector = {\"line\": {\"color\": \"royalblue\", \"dash\": \"dot\", \"width\": 3}})\n",
        "    )\n",
        "\n",
        "fig.show()"
      ]
    },
    {
      "cell_type": "markdown",
      "metadata": {
        "id": "hywLSGa04bb5"
      },
      "source": [
        "# Code"
      ]
    },
    {
      "cell_type": "code",
      "execution_count": null,
      "metadata": {
        "colab": {
          "base_uri": "https://localhost:8080/",
          "height": 644
        },
        "id": "7CW9HMTK4cMs",
        "outputId": "71fb2bb4-3e08-48ca-8678-dffb5042936a"
      },
      "outputs": [
        {
          "name": "stderr",
          "output_type": "stream",
          "text": [
            "<ipython-input-13-3b39bc007190>:1: FutureWarning:\n",
            "\n",
            "The default value of numeric_only in DataFrameGroupBy.sum is deprecated. In a future version, numeric_only will default to False. Either specify numeric_only or select only columns which should be valid for the function.\n",
            "\n"
          ]
        },
        {
          "data": {
            "text/html": [
              "\n",
              "  <div id=\"df-203e3b3e-ad49-4400-b728-2aa859cad859\">\n",
              "    <div class=\"colab-df-container\">\n",
              "      <div>\n",
              "<style scoped>\n",
              "    .dataframe tbody tr th:only-of-type {\n",
              "        vertical-align: middle;\n",
              "    }\n",
              "\n",
              "    .dataframe tbody tr th {\n",
              "        vertical-align: top;\n",
              "    }\n",
              "\n",
              "    .dataframe thead th {\n",
              "        text-align: right;\n",
              "    }\n",
              "</style>\n",
              "<table border=\"1\" class=\"dataframe\">\n",
              "  <thead>\n",
              "    <tr style=\"text-align: right;\">\n",
              "      <th></th>\n",
              "      <th>index</th>\n",
              "      <th>State</th>\n",
              "      <th>State</th>\n",
              "      <th>Values</th>\n",
              "      <th>Name</th>\n",
              "    </tr>\n",
              "  </thead>\n",
              "  <tbody>\n",
              "    <tr>\n",
              "      <th>0</th>\n",
              "      <td>0</td>\n",
              "      <td>1</td>\n",
              "      <td>Đã phân bổ</td>\n",
              "      <td>1303</td>\n",
              "      <td>Miền Bắc</td>\n",
              "    </tr>\n",
              "    <tr>\n",
              "      <th>1</th>\n",
              "      <td>1</td>\n",
              "      <td>2</td>\n",
              "      <td>Đã gọi</td>\n",
              "      <td>334</td>\n",
              "      <td>Miền Bắc</td>\n",
              "    </tr>\n",
              "    <tr>\n",
              "      <th>2</th>\n",
              "      <td>2</td>\n",
              "      <td>3</td>\n",
              "      <td>Đã gặp</td>\n",
              "      <td>174</td>\n",
              "      <td>Miền Bắc</td>\n",
              "    </tr>\n",
              "    <tr>\n",
              "      <th>3</th>\n",
              "      <td>3</td>\n",
              "      <td>4</td>\n",
              "      <td>Thu thập hồ sơ</td>\n",
              "      <td>27</td>\n",
              "      <td>Miền Bắc</td>\n",
              "    </tr>\n",
              "    <tr>\n",
              "      <th>4</th>\n",
              "      <td>4</td>\n",
              "      <td>5</td>\n",
              "      <td>Định giá</td>\n",
              "      <td>35</td>\n",
              "      <td>Miền Bắc</td>\n",
              "    </tr>\n",
              "    <tr>\n",
              "      <th>5</th>\n",
              "      <td>5</td>\n",
              "      <td>6</td>\n",
              "      <td>Đã trình</td>\n",
              "      <td>35</td>\n",
              "      <td>Miền Bắc</td>\n",
              "    </tr>\n",
              "    <tr>\n",
              "      <th>6</th>\n",
              "      <td>6</td>\n",
              "      <td>7</td>\n",
              "      <td>Đã phê duyệt</td>\n",
              "      <td>21</td>\n",
              "      <td>Miền Bắc</td>\n",
              "    </tr>\n",
              "    <tr>\n",
              "      <th>7</th>\n",
              "      <td>7</td>\n",
              "      <td>8</td>\n",
              "      <td>Đã active hạn mức</td>\n",
              "      <td>8</td>\n",
              "      <td>Miền Bắc</td>\n",
              "    </tr>\n",
              "    <tr>\n",
              "      <th>8</th>\n",
              "      <td>0</td>\n",
              "      <td>1</td>\n",
              "      <td>Đã phân bổ</td>\n",
              "      <td>446</td>\n",
              "      <td>Miền Nam</td>\n",
              "    </tr>\n",
              "    <tr>\n",
              "      <th>9</th>\n",
              "      <td>1</td>\n",
              "      <td>2</td>\n",
              "      <td>Đã gọi</td>\n",
              "      <td>466</td>\n",
              "      <td>Miền Nam</td>\n",
              "    </tr>\n",
              "    <tr>\n",
              "      <th>10</th>\n",
              "      <td>2</td>\n",
              "      <td>3</td>\n",
              "      <td>Đã gặp</td>\n",
              "      <td>75</td>\n",
              "      <td>Miền Nam</td>\n",
              "    </tr>\n",
              "    <tr>\n",
              "      <th>11</th>\n",
              "      <td>3</td>\n",
              "      <td>4</td>\n",
              "      <td>Thu thập hồ sơ</td>\n",
              "      <td>23</td>\n",
              "      <td>Miền Nam</td>\n",
              "    </tr>\n",
              "    <tr>\n",
              "      <th>12</th>\n",
              "      <td>4</td>\n",
              "      <td>5</td>\n",
              "      <td>Định giá</td>\n",
              "      <td>29</td>\n",
              "      <td>Miền Nam</td>\n",
              "    </tr>\n",
              "    <tr>\n",
              "      <th>13</th>\n",
              "      <td>5</td>\n",
              "      <td>6</td>\n",
              "      <td>Đã trình</td>\n",
              "      <td>21</td>\n",
              "      <td>Miền Nam</td>\n",
              "    </tr>\n",
              "    <tr>\n",
              "      <th>14</th>\n",
              "      <td>6</td>\n",
              "      <td>7</td>\n",
              "      <td>Đã phê duyệt</td>\n",
              "      <td>21</td>\n",
              "      <td>Miền Nam</td>\n",
              "    </tr>\n",
              "    <tr>\n",
              "      <th>15</th>\n",
              "      <td>7</td>\n",
              "      <td>8</td>\n",
              "      <td>Đã active hạn mức</td>\n",
              "      <td>3</td>\n",
              "      <td>Miền Nam</td>\n",
              "    </tr>\n",
              "  </tbody>\n",
              "</table>\n",
              "</div>\n",
              "      <button class=\"colab-df-convert\" onclick=\"convertToInteractive('df-203e3b3e-ad49-4400-b728-2aa859cad859')\"\n",
              "              title=\"Convert this dataframe to an interactive table.\"\n",
              "              style=\"display:none;\">\n",
              "        \n",
              "  <svg xmlns=\"http://www.w3.org/2000/svg\" height=\"24px\"viewBox=\"0 0 24 24\"\n",
              "       width=\"24px\">\n",
              "    <path d=\"M0 0h24v24H0V0z\" fill=\"none\"/>\n",
              "    <path d=\"M18.56 5.44l.94 2.06.94-2.06 2.06-.94-2.06-.94-.94-2.06-.94 2.06-2.06.94zm-11 1L8.5 8.5l.94-2.06 2.06-.94-2.06-.94L8.5 2.5l-.94 2.06-2.06.94zm10 10l.94 2.06.94-2.06 2.06-.94-2.06-.94-.94-2.06-.94 2.06-2.06.94z\"/><path d=\"M17.41 7.96l-1.37-1.37c-.4-.4-.92-.59-1.43-.59-.52 0-1.04.2-1.43.59L10.3 9.45l-7.72 7.72c-.78.78-.78 2.05 0 2.83L4 21.41c.39.39.9.59 1.41.59.51 0 1.02-.2 1.41-.59l7.78-7.78 2.81-2.81c.8-.78.8-2.07 0-2.86zM5.41 20L4 18.59l7.72-7.72 1.47 1.35L5.41 20z\"/>\n",
              "  </svg>\n",
              "      </button>\n",
              "      \n",
              "  <style>\n",
              "    .colab-df-container {\n",
              "      display:flex;\n",
              "      flex-wrap:wrap;\n",
              "      gap: 12px;\n",
              "    }\n",
              "\n",
              "    .colab-df-convert {\n",
              "      background-color: #E8F0FE;\n",
              "      border: none;\n",
              "      border-radius: 50%;\n",
              "      cursor: pointer;\n",
              "      display: none;\n",
              "      fill: #1967D2;\n",
              "      height: 32px;\n",
              "      padding: 0 0 0 0;\n",
              "      width: 32px;\n",
              "    }\n",
              "\n",
              "    .colab-df-convert:hover {\n",
              "      background-color: #E2EBFA;\n",
              "      box-shadow: 0px 1px 2px rgba(60, 64, 67, 0.3), 0px 1px 3px 1px rgba(60, 64, 67, 0.15);\n",
              "      fill: #174EA6;\n",
              "    }\n",
              "\n",
              "    [theme=dark] .colab-df-convert {\n",
              "      background-color: #3B4455;\n",
              "      fill: #D2E3FC;\n",
              "    }\n",
              "\n",
              "    [theme=dark] .colab-df-convert:hover {\n",
              "      background-color: #434B5C;\n",
              "      box-shadow: 0px 1px 3px 1px rgba(0, 0, 0, 0.15);\n",
              "      filter: drop-shadow(0px 1px 2px rgba(0, 0, 0, 0.3));\n",
              "      fill: #FFFFFF;\n",
              "    }\n",
              "  </style>\n",
              "\n",
              "      <script>\n",
              "        const buttonEl =\n",
              "          document.querySelector('#df-203e3b3e-ad49-4400-b728-2aa859cad859 button.colab-df-convert');\n",
              "        buttonEl.style.display =\n",
              "          google.colab.kernel.accessAllowed ? 'block' : 'none';\n",
              "\n",
              "        async function convertToInteractive(key) {\n",
              "          const element = document.querySelector('#df-203e3b3e-ad49-4400-b728-2aa859cad859');\n",
              "          const dataTable =\n",
              "            await google.colab.kernel.invokeFunction('convertToInteractive',\n",
              "                                                     [key], {});\n",
              "          if (!dataTable) return;\n",
              "\n",
              "          const docLinkHtml = 'Like what you see? Visit the ' +\n",
              "            '<a target=\"_blank\" href=https://colab.research.google.com/notebooks/data_table.ipynb>data table notebook</a>'\n",
              "            + ' to learn more about interactive tables.';\n",
              "          element.innerHTML = '';\n",
              "          dataTable['output_type'] = 'display_data';\n",
              "          await google.colab.output.renderOutput(dataTable, element);\n",
              "          const docLink = document.createElement('div');\n",
              "          docLink.innerHTML = docLinkHtml;\n",
              "          element.appendChild(docLink);\n",
              "        }\n",
              "      </script>\n",
              "    </div>\n",
              "  </div>\n",
              "  "
            ],
            "text/plain": [
              "    index State              State  Values      Name\n",
              "0       0     1         Đã phân bổ    1303  Miền Bắc\n",
              "1       1     2             Đã gọi     334  Miền Bắc\n",
              "2       2     3             Đã gặp     174  Miền Bắc\n",
              "3       3     4     Thu thập hồ sơ      27  Miền Bắc\n",
              "4       4     5           Định giá      35  Miền Bắc\n",
              "5       5     6           Đã trình      35  Miền Bắc\n",
              "6       6     7       Đã phê duyệt      21  Miền Bắc\n",
              "7       7     8  Đã active hạn mức       8  Miền Bắc\n",
              "8       0     1         Đã phân bổ     446  Miền Nam\n",
              "9       1     2             Đã gọi     466  Miền Nam\n",
              "10      2     3             Đã gặp      75  Miền Nam\n",
              "11      3     4     Thu thập hồ sơ      23  Miền Nam\n",
              "12      4     5           Định giá      29  Miền Nam\n",
              "13      5     6           Đã trình      21  Miền Nam\n",
              "14      6     7       Đã phê duyệt      21  Miền Nam\n",
              "15      7     8  Đã active hạn mức       3  Miền Nam"
            ]
          },
          "execution_count": 13,
          "metadata": {},
          "output_type": "execute_result"
        }
      ],
      "source": [
        "\n",
        "\n",
        "\n",
        "northern_provinces = ['Hà Nội', 'Bắc Ninh', 'Hải Phòng', 'Hải Dương', 'Hưng Yên','Bắc Giang']\n",
        "southern_provinces = ['HCM', 'Đồng Nai', 'Bình Dương', 'Long An', 'Tiền Giang']\n",
        "\n",
        "\n",
        "nor_pro_df = df_hub[df_hub['Hub'].isin(northern_provinces)] \n",
        "sum_nor_pro_df = nor_pro_df.sum().reset_index()\n",
        "sum_nor_pro_df = sum_nor_pro_df.drop(0)\n",
        "sum_nor_pro_df['Name'] = 'Miền Bắc'\n",
        "sum_nor_pro_df = sum_nor_pro_df.rename(columns= {0 : 'Values' ,'index' : 'State'})\n",
        "sum_nor_pro_df = sum_nor_pro_df.reset_index()\n",
        "sum_nor_pro_df['Values'] = sum_nor_pro_df['Values'].astype('int64')\n",
        "\n",
        "\n",
        "south_pro_df = df_hub[df_hub['Hub'].isin(southern_provinces)] \n",
        "sum_south_pro_df = south_pro_df.sum().reset_index()\n",
        "sum_south_pro_df = sum_south_pro_df.drop(0)\n",
        "sum_south_pro_df['Name'] = 'Miền Nam'\n",
        "sum_south_pro_df = sum_south_pro_df.rename(columns= {0 : 'Values' ,'index' : 'State'})\n",
        "sum_south_pro_df = sum_south_pro_df.reset_index()\n",
        "sum_south_pro_df['Values'] = sum_south_pro_df['Values'].astype('int64')\n",
        "\n",
        "\n",
        "\n",
        "total_df = pd.concat([sum_nor_pro_df,sum_south_pro_df])\n",
        "total_df = total_df.rename(columns= {0 : 'Values' ,'index' : 'State'})\n",
        "total_df = total_df.reset_index()\n",
        "\n",
        "total_df['Values'] = total_df['Values'].astype('int64')\n",
        "total_df"
      ]
    },
    {
      "cell_type": "code",
      "execution_count": null,
      "metadata": {
        "colab": {
          "base_uri": "https://localhost:8080/"
        },
        "id": "PH0RfTpy7IxJ",
        "outputId": "5f618c76-995c-4836-9192-bb7a05e9a195"
      },
      "outputs": [
        {
          "name": "stdout",
          "output_type": "stream",
          "text": [
            "0     1303\n",
            "1      334\n",
            "2      174\n",
            "3       27\n",
            "4       35\n",
            "5       35\n",
            "6       21\n",
            "7        8\n",
            "8      446\n",
            "9      466\n",
            "10      75\n",
            "11      23\n",
            "12      29\n",
            "13      21\n",
            "14      21\n",
            "15       3\n",
            "Name: Values, dtype: int64\n"
          ]
        }
      ],
      "source": [
        "print(total_df['Values'])\n"
      ]
    },
    {
      "cell_type": "code",
      "execution_count": null,
      "metadata": {
        "id": "t5jk0Znb4mdo"
      },
      "outputs": [],
      "source": [
        "# fig = px.funnel(total_df, x='Values', y='State', color='Name')\n",
        "# fig.update_layout(\n",
        "#     title='Funnel Plot',\n",
        "#     xaxis_title='Values',\n",
        "#     yaxis_title='State',\n",
        "#     funnelmode='stack',\n",
        "#     plot_bgcolor='white',\n",
        "#     paper_bgcolor='white',\n",
        "#     font=dict(size=14),\n",
        "#     margin=dict(l=50, r=50, b=50, t=80, pad=4)\n",
        "# )\n",
        "# # update the text format\n",
        "# fig.update_traces(textinfo='value+percent initial')\n",
        "# fig.show()"
      ]
    },
    {
      "cell_type": "code",
      "execution_count": null,
      "metadata": {
        "colab": {
          "base_uri": "https://localhost:8080/",
          "height": 269
        },
        "id": "HfywecvlGbJC",
        "outputId": "f86c7c0c-fe00-48f1-a729-81835e9cb5cc"
      },
      "outputs": [
        {
          "data": {
            "text/html": [
              "\n",
              "  <div id=\"df-5fb09cc6-ed52-4a94-9253-423065e6dbd6\">\n",
              "    <div class=\"colab-df-container\">\n",
              "      <div>\n",
              "<style scoped>\n",
              "    .dataframe tbody tr th:only-of-type {\n",
              "        vertical-align: middle;\n",
              "    }\n",
              "\n",
              "    .dataframe tbody tr th {\n",
              "        vertical-align: top;\n",
              "    }\n",
              "\n",
              "    .dataframe thead th {\n",
              "        text-align: right;\n",
              "    }\n",
              "</style>\n",
              "<table border=\"1\" class=\"dataframe\">\n",
              "  <thead>\n",
              "    <tr style=\"text-align: right;\">\n",
              "      <th></th>\n",
              "      <th>State</th>\n",
              "      <th>Values</th>\n",
              "    </tr>\n",
              "  </thead>\n",
              "  <tbody>\n",
              "    <tr>\n",
              "      <th>2</th>\n",
              "      <td>Đã gọi</td>\n",
              "      <td>3690</td>\n",
              "    </tr>\n",
              "    <tr>\n",
              "      <th>3</th>\n",
              "      <td>Đã gặp</td>\n",
              "      <td>632</td>\n",
              "    </tr>\n",
              "    <tr>\n",
              "      <th>6</th>\n",
              "      <td>Đã trình</td>\n",
              "      <td>139</td>\n",
              "    </tr>\n",
              "    <tr>\n",
              "      <th>5</th>\n",
              "      <td>Định giá</td>\n",
              "      <td>138</td>\n",
              "    </tr>\n",
              "    <tr>\n",
              "      <th>4</th>\n",
              "      <td>Thu thập hồ sơ</td>\n",
              "      <td>130</td>\n",
              "    </tr>\n",
              "    <tr>\n",
              "      <th>7</th>\n",
              "      <td>Đã phê duyệt</td>\n",
              "      <td>96</td>\n",
              "    </tr>\n",
              "    <tr>\n",
              "      <th>8</th>\n",
              "      <td>Đã active hạn mức</td>\n",
              "      <td>62</td>\n",
              "    </tr>\n",
              "  </tbody>\n",
              "</table>\n",
              "</div>\n",
              "      <button class=\"colab-df-convert\" onclick=\"convertToInteractive('df-5fb09cc6-ed52-4a94-9253-423065e6dbd6')\"\n",
              "              title=\"Convert this dataframe to an interactive table.\"\n",
              "              style=\"display:none;\">\n",
              "        \n",
              "  <svg xmlns=\"http://www.w3.org/2000/svg\" height=\"24px\"viewBox=\"0 0 24 24\"\n",
              "       width=\"24px\">\n",
              "    <path d=\"M0 0h24v24H0V0z\" fill=\"none\"/>\n",
              "    <path d=\"M18.56 5.44l.94 2.06.94-2.06 2.06-.94-2.06-.94-.94-2.06-.94 2.06-2.06.94zm-11 1L8.5 8.5l.94-2.06 2.06-.94-2.06-.94L8.5 2.5l-.94 2.06-2.06.94zm10 10l.94 2.06.94-2.06 2.06-.94-2.06-.94-.94-2.06-.94 2.06-2.06.94z\"/><path d=\"M17.41 7.96l-1.37-1.37c-.4-.4-.92-.59-1.43-.59-.52 0-1.04.2-1.43.59L10.3 9.45l-7.72 7.72c-.78.78-.78 2.05 0 2.83L4 21.41c.39.39.9.59 1.41.59.51 0 1.02-.2 1.41-.59l7.78-7.78 2.81-2.81c.8-.78.8-2.07 0-2.86zM5.41 20L4 18.59l7.72-7.72 1.47 1.35L5.41 20z\"/>\n",
              "  </svg>\n",
              "      </button>\n",
              "      \n",
              "  <style>\n",
              "    .colab-df-container {\n",
              "      display:flex;\n",
              "      flex-wrap:wrap;\n",
              "      gap: 12px;\n",
              "    }\n",
              "\n",
              "    .colab-df-convert {\n",
              "      background-color: #E8F0FE;\n",
              "      border: none;\n",
              "      border-radius: 50%;\n",
              "      cursor: pointer;\n",
              "      display: none;\n",
              "      fill: #1967D2;\n",
              "      height: 32px;\n",
              "      padding: 0 0 0 0;\n",
              "      width: 32px;\n",
              "    }\n",
              "\n",
              "    .colab-df-convert:hover {\n",
              "      background-color: #E2EBFA;\n",
              "      box-shadow: 0px 1px 2px rgba(60, 64, 67, 0.3), 0px 1px 3px 1px rgba(60, 64, 67, 0.15);\n",
              "      fill: #174EA6;\n",
              "    }\n",
              "\n",
              "    [theme=dark] .colab-df-convert {\n",
              "      background-color: #3B4455;\n",
              "      fill: #D2E3FC;\n",
              "    }\n",
              "\n",
              "    [theme=dark] .colab-df-convert:hover {\n",
              "      background-color: #434B5C;\n",
              "      box-shadow: 0px 1px 3px 1px rgba(0, 0, 0, 0.15);\n",
              "      filter: drop-shadow(0px 1px 2px rgba(0, 0, 0, 0.3));\n",
              "      fill: #FFFFFF;\n",
              "    }\n",
              "  </style>\n",
              "\n",
              "      <script>\n",
              "        const buttonEl =\n",
              "          document.querySelector('#df-5fb09cc6-ed52-4a94-9253-423065e6dbd6 button.colab-df-convert');\n",
              "        buttonEl.style.display =\n",
              "          google.colab.kernel.accessAllowed ? 'block' : 'none';\n",
              "\n",
              "        async function convertToInteractive(key) {\n",
              "          const element = document.querySelector('#df-5fb09cc6-ed52-4a94-9253-423065e6dbd6');\n",
              "          const dataTable =\n",
              "            await google.colab.kernel.invokeFunction('convertToInteractive',\n",
              "                                                     [key], {});\n",
              "          if (!dataTable) return;\n",
              "\n",
              "          const docLinkHtml = 'Like what you see? Visit the ' +\n",
              "            '<a target=\"_blank\" href=https://colab.research.google.com/notebooks/data_table.ipynb>data table notebook</a>'\n",
              "            + ' to learn more about interactive tables.';\n",
              "          element.innerHTML = '';\n",
              "          dataTable['output_type'] = 'display_data';\n",
              "          await google.colab.output.renderOutput(dataTable, element);\n",
              "          const docLink = document.createElement('div');\n",
              "          docLink.innerHTML = docLinkHtml;\n",
              "          element.appendChild(docLink);\n",
              "        }\n",
              "      </script>\n",
              "    </div>\n",
              "  </div>\n",
              "  "
            ],
            "text/plain": [
              "               State  Values\n",
              "2             Đã gọi    3690\n",
              "3             Đã gặp     632\n",
              "6           Đã trình     139\n",
              "5           Định giá     138\n",
              "4     Thu thập hồ sơ     130\n",
              "7       Đã phê duyệt      96\n",
              "8  Đã active hạn mức      62"
            ]
          },
          "execution_count": 81,
          "metadata": {},
          "output_type": "execute_result"
        }
      ],
      "source": [
        "Toan_Hang_df = df_hub[df_hub['Hub']=='0.Toàn hàng'].T.reset_index()\n",
        "Toan_Hang_df = Toan_Hang_df.drop(0)\n",
        "Toan_Hang_df = Toan_Hang_df.drop(1)\n",
        "Toan_Hang_df = Toan_Hang_df.rename(columns= {0 : 'Values' ,'index' : 'State'})\n",
        "Toan_Hang_df = Toan_Hang_df.sort_values(by = ['Values'],ascending = False)\n",
        "\n",
        "Toan_Hang_df['Values'] = Toan_Hang_df['Values'].astype('int64')\n",
        "Toan_Hang_df"
      ]
    },
    {
      "cell_type": "code",
      "execution_count": null,
      "metadata": {
        "colab": {
          "base_uri": "https://localhost:8080/",
          "height": 1000
        },
        "id": "enfyFkNw7JYG",
        "outputId": "27bea807-ad93-4338-db0e-197c6f175f68"
      },
      "outputs": [
        {
          "data": {
            "text/html": [
              "<html>\n",
              "<head><meta charset=\"utf-8\" /></head>\n",
              "<body>\n",
              "    <div>            <script src=\"https://cdnjs.cloudflare.com/ajax/libs/mathjax/2.7.5/MathJax.js?config=TeX-AMS-MML_SVG\"></script><script type=\"text/javascript\">if (window.MathJax && window.MathJax.Hub && window.MathJax.Hub.Config) {window.MathJax.Hub.Config({SVG: {font: \"STIX-Web\"}});}</script>                <script type=\"text/javascript\">window.PlotlyConfig = {MathJaxConfig: 'local'};</script>\n",
              "        <script src=\"https://cdn.plot.ly/plotly-2.18.2.min.js\"></script>                <div id=\"f061d876-a166-4b47-8373-8c415baa8c9a\" class=\"plotly-graph-div\" style=\"height:1000px; width:800px;\"></div>            <script type=\"text/javascript\">                                    window.PLOTLYENV=window.PLOTLYENV || {};                                    if (document.getElementById(\"f061d876-a166-4b47-8373-8c415baa8c9a\")) {                    Plotly.newPlot(                        \"f061d876-a166-4b47-8373-8c415baa8c9a\",                        [{\"text\":[\"\\u0110\\u00e3 g\\u1ecdi\",\"\\u0110\\u00e3 g\\u1eb7p\",\" \\u0110\\u00e3 tr\\u00ecnh\",\" \\u0110\\u1ecbnh gi\\u00e1\",\"Thu th\\u1eadp h\\u1ed3 s\\u01a1\",\" \\u0110\\u00e3 ph\\u00ea duy\\u1ec7t\",\"\\u0110\\u00e3 active h\\u1ea1n m\\u1ee9c\"],\"values\":[3690,632,139,138,130,96,62],\"type\":\"funnelarea\"}],                        {\"template\":{\"data\":{\"histogram2dcontour\":[{\"type\":\"histogram2dcontour\",\"colorbar\":{\"outlinewidth\":0,\"ticks\":\"\"},\"colorscale\":[[0.0,\"#0d0887\"],[0.1111111111111111,\"#46039f\"],[0.2222222222222222,\"#7201a8\"],[0.3333333333333333,\"#9c179e\"],[0.4444444444444444,\"#bd3786\"],[0.5555555555555556,\"#d8576b\"],[0.6666666666666666,\"#ed7953\"],[0.7777777777777778,\"#fb9f3a\"],[0.8888888888888888,\"#fdca26\"],[1.0,\"#f0f921\"]]}],\"choropleth\":[{\"type\":\"choropleth\",\"colorbar\":{\"outlinewidth\":0,\"ticks\":\"\"}}],\"histogram2d\":[{\"type\":\"histogram2d\",\"colorbar\":{\"outlinewidth\":0,\"ticks\":\"\"},\"colorscale\":[[0.0,\"#0d0887\"],[0.1111111111111111,\"#46039f\"],[0.2222222222222222,\"#7201a8\"],[0.3333333333333333,\"#9c179e\"],[0.4444444444444444,\"#bd3786\"],[0.5555555555555556,\"#d8576b\"],[0.6666666666666666,\"#ed7953\"],[0.7777777777777778,\"#fb9f3a\"],[0.8888888888888888,\"#fdca26\"],[1.0,\"#f0f921\"]]}],\"heatmap\":[{\"type\":\"heatmap\",\"colorbar\":{\"outlinewidth\":0,\"ticks\":\"\"},\"colorscale\":[[0.0,\"#0d0887\"],[0.1111111111111111,\"#46039f\"],[0.2222222222222222,\"#7201a8\"],[0.3333333333333333,\"#9c179e\"],[0.4444444444444444,\"#bd3786\"],[0.5555555555555556,\"#d8576b\"],[0.6666666666666666,\"#ed7953\"],[0.7777777777777778,\"#fb9f3a\"],[0.8888888888888888,\"#fdca26\"],[1.0,\"#f0f921\"]]}],\"heatmapgl\":[{\"type\":\"heatmapgl\",\"colorbar\":{\"outlinewidth\":0,\"ticks\":\"\"},\"colorscale\":[[0.0,\"#0d0887\"],[0.1111111111111111,\"#46039f\"],[0.2222222222222222,\"#7201a8\"],[0.3333333333333333,\"#9c179e\"],[0.4444444444444444,\"#bd3786\"],[0.5555555555555556,\"#d8576b\"],[0.6666666666666666,\"#ed7953\"],[0.7777777777777778,\"#fb9f3a\"],[0.8888888888888888,\"#fdca26\"],[1.0,\"#f0f921\"]]}],\"contourcarpet\":[{\"type\":\"contourcarpet\",\"colorbar\":{\"outlinewidth\":0,\"ticks\":\"\"}}],\"contour\":[{\"type\":\"contour\",\"colorbar\":{\"outlinewidth\":0,\"ticks\":\"\"},\"colorscale\":[[0.0,\"#0d0887\"],[0.1111111111111111,\"#46039f\"],[0.2222222222222222,\"#7201a8\"],[0.3333333333333333,\"#9c179e\"],[0.4444444444444444,\"#bd3786\"],[0.5555555555555556,\"#d8576b\"],[0.6666666666666666,\"#ed7953\"],[0.7777777777777778,\"#fb9f3a\"],[0.8888888888888888,\"#fdca26\"],[1.0,\"#f0f921\"]]}],\"surface\":[{\"type\":\"surface\",\"colorbar\":{\"outlinewidth\":0,\"ticks\":\"\"},\"colorscale\":[[0.0,\"#0d0887\"],[0.1111111111111111,\"#46039f\"],[0.2222222222222222,\"#7201a8\"],[0.3333333333333333,\"#9c179e\"],[0.4444444444444444,\"#bd3786\"],[0.5555555555555556,\"#d8576b\"],[0.6666666666666666,\"#ed7953\"],[0.7777777777777778,\"#fb9f3a\"],[0.8888888888888888,\"#fdca26\"],[1.0,\"#f0f921\"]]}],\"mesh3d\":[{\"type\":\"mesh3d\",\"colorbar\":{\"outlinewidth\":0,\"ticks\":\"\"}}],\"scatter\":[{\"fillpattern\":{\"fillmode\":\"overlay\",\"size\":10,\"solidity\":0.2},\"type\":\"scatter\"}],\"parcoords\":[{\"type\":\"parcoords\",\"line\":{\"colorbar\":{\"outlinewidth\":0,\"ticks\":\"\"}}}],\"scatterpolargl\":[{\"type\":\"scatterpolargl\",\"marker\":{\"colorbar\":{\"outlinewidth\":0,\"ticks\":\"\"}}}],\"bar\":[{\"error_x\":{\"color\":\"#2a3f5f\"},\"error_y\":{\"color\":\"#2a3f5f\"},\"marker\":{\"line\":{\"color\":\"#E5ECF6\",\"width\":0.5},\"pattern\":{\"fillmode\":\"overlay\",\"size\":10,\"solidity\":0.2}},\"type\":\"bar\"}],\"scattergeo\":[{\"type\":\"scattergeo\",\"marker\":{\"colorbar\":{\"outlinewidth\":0,\"ticks\":\"\"}}}],\"scatterpolar\":[{\"type\":\"scatterpolar\",\"marker\":{\"colorbar\":{\"outlinewidth\":0,\"ticks\":\"\"}}}],\"histogram\":[{\"marker\":{\"pattern\":{\"fillmode\":\"overlay\",\"size\":10,\"solidity\":0.2}},\"type\":\"histogram\"}],\"scattergl\":[{\"type\":\"scattergl\",\"marker\":{\"colorbar\":{\"outlinewidth\":0,\"ticks\":\"\"}}}],\"scatter3d\":[{\"type\":\"scatter3d\",\"line\":{\"colorbar\":{\"outlinewidth\":0,\"ticks\":\"\"}},\"marker\":{\"colorbar\":{\"outlinewidth\":0,\"ticks\":\"\"}}}],\"scattermapbox\":[{\"type\":\"scattermapbox\",\"marker\":{\"colorbar\":{\"outlinewidth\":0,\"ticks\":\"\"}}}],\"scatterternary\":[{\"type\":\"scatterternary\",\"marker\":{\"colorbar\":{\"outlinewidth\":0,\"ticks\":\"\"}}}],\"scattercarpet\":[{\"type\":\"scattercarpet\",\"marker\":{\"colorbar\":{\"outlinewidth\":0,\"ticks\":\"\"}}}],\"carpet\":[{\"aaxis\":{\"endlinecolor\":\"#2a3f5f\",\"gridcolor\":\"white\",\"linecolor\":\"white\",\"minorgridcolor\":\"white\",\"startlinecolor\":\"#2a3f5f\"},\"baxis\":{\"endlinecolor\":\"#2a3f5f\",\"gridcolor\":\"white\",\"linecolor\":\"white\",\"minorgridcolor\":\"white\",\"startlinecolor\":\"#2a3f5f\"},\"type\":\"carpet\"}],\"table\":[{\"cells\":{\"fill\":{\"color\":\"#EBF0F8\"},\"line\":{\"color\":\"white\"}},\"header\":{\"fill\":{\"color\":\"#C8D4E3\"},\"line\":{\"color\":\"white\"}},\"type\":\"table\"}],\"barpolar\":[{\"marker\":{\"line\":{\"color\":\"#E5ECF6\",\"width\":0.5},\"pattern\":{\"fillmode\":\"overlay\",\"size\":10,\"solidity\":0.2}},\"type\":\"barpolar\"}],\"pie\":[{\"automargin\":true,\"type\":\"pie\"}]},\"layout\":{\"autotypenumbers\":\"strict\",\"colorway\":[\"#636efa\",\"#EF553B\",\"#00cc96\",\"#ab63fa\",\"#FFA15A\",\"#19d3f3\",\"#FF6692\",\"#B6E880\",\"#FF97FF\",\"#FECB52\"],\"font\":{\"color\":\"#2a3f5f\"},\"hovermode\":\"closest\",\"hoverlabel\":{\"align\":\"left\"},\"paper_bgcolor\":\"white\",\"plot_bgcolor\":\"#E5ECF6\",\"polar\":{\"bgcolor\":\"#E5ECF6\",\"angularaxis\":{\"gridcolor\":\"white\",\"linecolor\":\"white\",\"ticks\":\"\"},\"radialaxis\":{\"gridcolor\":\"white\",\"linecolor\":\"white\",\"ticks\":\"\"}},\"ternary\":{\"bgcolor\":\"#E5ECF6\",\"aaxis\":{\"gridcolor\":\"white\",\"linecolor\":\"white\",\"ticks\":\"\"},\"baxis\":{\"gridcolor\":\"white\",\"linecolor\":\"white\",\"ticks\":\"\"},\"caxis\":{\"gridcolor\":\"white\",\"linecolor\":\"white\",\"ticks\":\"\"}},\"coloraxis\":{\"colorbar\":{\"outlinewidth\":0,\"ticks\":\"\"}},\"colorscale\":{\"sequential\":[[0.0,\"#0d0887\"],[0.1111111111111111,\"#46039f\"],[0.2222222222222222,\"#7201a8\"],[0.3333333333333333,\"#9c179e\"],[0.4444444444444444,\"#bd3786\"],[0.5555555555555556,\"#d8576b\"],[0.6666666666666666,\"#ed7953\"],[0.7777777777777778,\"#fb9f3a\"],[0.8888888888888888,\"#fdca26\"],[1.0,\"#f0f921\"]],\"sequentialminus\":[[0.0,\"#0d0887\"],[0.1111111111111111,\"#46039f\"],[0.2222222222222222,\"#7201a8\"],[0.3333333333333333,\"#9c179e\"],[0.4444444444444444,\"#bd3786\"],[0.5555555555555556,\"#d8576b\"],[0.6666666666666666,\"#ed7953\"],[0.7777777777777778,\"#fb9f3a\"],[0.8888888888888888,\"#fdca26\"],[1.0,\"#f0f921\"]],\"diverging\":[[0,\"#8e0152\"],[0.1,\"#c51b7d\"],[0.2,\"#de77ae\"],[0.3,\"#f1b6da\"],[0.4,\"#fde0ef\"],[0.5,\"#f7f7f7\"],[0.6,\"#e6f5d0\"],[0.7,\"#b8e186\"],[0.8,\"#7fbc41\"],[0.9,\"#4d9221\"],[1,\"#276419\"]]},\"xaxis\":{\"gridcolor\":\"white\",\"linecolor\":\"white\",\"ticks\":\"\",\"title\":{\"standoff\":15},\"zerolinecolor\":\"white\",\"automargin\":true,\"zerolinewidth\":2},\"yaxis\":{\"gridcolor\":\"white\",\"linecolor\":\"white\",\"ticks\":\"\",\"title\":{\"standoff\":15},\"zerolinecolor\":\"white\",\"automargin\":true,\"zerolinewidth\":2},\"scene\":{\"xaxis\":{\"backgroundcolor\":\"#E5ECF6\",\"gridcolor\":\"white\",\"linecolor\":\"white\",\"showbackground\":true,\"ticks\":\"\",\"zerolinecolor\":\"white\",\"gridwidth\":2},\"yaxis\":{\"backgroundcolor\":\"#E5ECF6\",\"gridcolor\":\"white\",\"linecolor\":\"white\",\"showbackground\":true,\"ticks\":\"\",\"zerolinecolor\":\"white\",\"gridwidth\":2},\"zaxis\":{\"backgroundcolor\":\"#E5ECF6\",\"gridcolor\":\"white\",\"linecolor\":\"white\",\"showbackground\":true,\"ticks\":\"\",\"zerolinecolor\":\"white\",\"gridwidth\":2}},\"shapedefaults\":{\"line\":{\"color\":\"#2a3f5f\"}},\"annotationdefaults\":{\"arrowcolor\":\"#2a3f5f\",\"arrowhead\":0,\"arrowwidth\":1},\"geo\":{\"bgcolor\":\"white\",\"landcolor\":\"#E5ECF6\",\"subunitcolor\":\"white\",\"showland\":true,\"showlakes\":true,\"lakecolor\":\"white\"},\"title\":{\"x\":0.05},\"mapbox\":{\"style\":\"light\"}}},\"title\":{\"text\":\"Bi\\u1ec3u \\u0111\\u1ed3 ph\\u1ec5u\",\"font\":{\"size\":50}},\"font\":{\"size\":30},\"width\":800,\"height\":1000},                        {\"responsive\": true}                    ).then(function(){\n",
              "                            \n",
              "var gd = document.getElementById('f061d876-a166-4b47-8373-8c415baa8c9a');\n",
              "var x = new MutationObserver(function (mutations, observer) {{\n",
              "        var display = window.getComputedStyle(gd).display;\n",
              "        if (!display || display === 'none') {{\n",
              "            console.log([gd, 'removed!']);\n",
              "            Plotly.purge(gd);\n",
              "            observer.disconnect();\n",
              "        }}\n",
              "}});\n",
              "\n",
              "// Listen for the removal of the full notebook cells\n",
              "var notebookContainer = gd.closest('#notebook-container');\n",
              "if (notebookContainer) {{\n",
              "    x.observe(notebookContainer, {childList: true});\n",
              "}}\n",
              "\n",
              "// Listen for the clearing of the current output cell\n",
              "var outputEl = gd.closest('.output');\n",
              "if (outputEl) {{\n",
              "    x.observe(outputEl, {childList: true});\n",
              "}}\n",
              "\n",
              "                        })                };                            </script>        </div>\n",
              "</body>\n",
              "</html>"
            ]
          },
          "metadata": {},
          "output_type": "display_data"
        }
      ],
      "source": [
        "from plotly import graph_objects as go\n",
        "\n",
        "fig = go.Figure(go.Funnelarea(\n",
        "      values = Toan_Hang_df['Values'], text = Toan_Hang_df['State'],\n",
        "))\n",
        "\n",
        "fig.update_layout(\n",
        "    title=\"Biểu đồ phễu\",\n",
        "    title_font_size=50,\n",
        "    font=dict(size=30),\n",
        "    width=800,\n",
        "    height=1000\n",
        ")\n",
        "fig.show()"
      ]
    },
    {
      "cell_type": "code",
      "execution_count": null,
      "metadata": {
        "colab": {
          "base_uri": "https://localhost:8080/",
          "height": 542
        },
        "id": "sqQejHw58MRJ",
        "outputId": "7ab384c7-2a9f-4fce-ff9b-2262b905d9cb"
      },
      "outputs": [
        {
          "data": {
            "text/html": [
              "<html>\n",
              "<head><meta charset=\"utf-8\" /></head>\n",
              "<body>\n",
              "    <div>            <script src=\"https://cdnjs.cloudflare.com/ajax/libs/mathjax/2.7.5/MathJax.js?config=TeX-AMS-MML_SVG\"></script><script type=\"text/javascript\">if (window.MathJax && window.MathJax.Hub && window.MathJax.Hub.Config) {window.MathJax.Hub.Config({SVG: {font: \"STIX-Web\"}});}</script>                <script type=\"text/javascript\">window.PlotlyConfig = {MathJaxConfig: 'local'};</script>\n",
              "        <script src=\"https://cdn.plot.ly/plotly-2.18.2.min.js\"></script>                <div id=\"ff28e6da-9a9b-42b7-90eb-022edce96910\" class=\"plotly-graph-div\" style=\"height:525px; width:100%;\"></div>            <script type=\"text/javascript\">                                    window.PLOTLYENV=window.PLOTLYENV || {};                                    if (document.getElementById(\"ff28e6da-9a9b-42b7-90eb-022edce96910\")) {                    Plotly.newPlot(                        \"ff28e6da-9a9b-42b7-90eb-022edce96910\",                        [{\"domain\":{\"x\":[0.0,1.0],\"y\":[0.0,1.0]},\"hovertemplate\":\"State=%{label}<br>Values=%{value}<extra></extra>\",\"labels\":[\"\\u0110\\u00e3 g\\u1ecdi\",\"\\u0110\\u00e3 g\\u1eb7p\",\" \\u0110\\u00e3 tr\\u00ecnh\",\" \\u0110\\u1ecbnh gi\\u00e1\",\"Thu th\\u1eadp h\\u1ed3 s\\u01a1\",\" \\u0110\\u00e3 ph\\u00ea duy\\u1ec7t\",\"\\u0110\\u00e3 active h\\u1ea1n m\\u1ee9c\"],\"legendgroup\":\"\",\"name\":\"\",\"showlegend\":true,\"values\":[3690,632,139,138,130,96,62],\"type\":\"funnelarea\"}],                        {\"template\":{\"data\":{\"histogram2dcontour\":[{\"type\":\"histogram2dcontour\",\"colorbar\":{\"outlinewidth\":0,\"ticks\":\"\"},\"colorscale\":[[0.0,\"#0d0887\"],[0.1111111111111111,\"#46039f\"],[0.2222222222222222,\"#7201a8\"],[0.3333333333333333,\"#9c179e\"],[0.4444444444444444,\"#bd3786\"],[0.5555555555555556,\"#d8576b\"],[0.6666666666666666,\"#ed7953\"],[0.7777777777777778,\"#fb9f3a\"],[0.8888888888888888,\"#fdca26\"],[1.0,\"#f0f921\"]]}],\"choropleth\":[{\"type\":\"choropleth\",\"colorbar\":{\"outlinewidth\":0,\"ticks\":\"\"}}],\"histogram2d\":[{\"type\":\"histogram2d\",\"colorbar\":{\"outlinewidth\":0,\"ticks\":\"\"},\"colorscale\":[[0.0,\"#0d0887\"],[0.1111111111111111,\"#46039f\"],[0.2222222222222222,\"#7201a8\"],[0.3333333333333333,\"#9c179e\"],[0.4444444444444444,\"#bd3786\"],[0.5555555555555556,\"#d8576b\"],[0.6666666666666666,\"#ed7953\"],[0.7777777777777778,\"#fb9f3a\"],[0.8888888888888888,\"#fdca26\"],[1.0,\"#f0f921\"]]}],\"heatmap\":[{\"type\":\"heatmap\",\"colorbar\":{\"outlinewidth\":0,\"ticks\":\"\"},\"colorscale\":[[0.0,\"#0d0887\"],[0.1111111111111111,\"#46039f\"],[0.2222222222222222,\"#7201a8\"],[0.3333333333333333,\"#9c179e\"],[0.4444444444444444,\"#bd3786\"],[0.5555555555555556,\"#d8576b\"],[0.6666666666666666,\"#ed7953\"],[0.7777777777777778,\"#fb9f3a\"],[0.8888888888888888,\"#fdca26\"],[1.0,\"#f0f921\"]]}],\"heatmapgl\":[{\"type\":\"heatmapgl\",\"colorbar\":{\"outlinewidth\":0,\"ticks\":\"\"},\"colorscale\":[[0.0,\"#0d0887\"],[0.1111111111111111,\"#46039f\"],[0.2222222222222222,\"#7201a8\"],[0.3333333333333333,\"#9c179e\"],[0.4444444444444444,\"#bd3786\"],[0.5555555555555556,\"#d8576b\"],[0.6666666666666666,\"#ed7953\"],[0.7777777777777778,\"#fb9f3a\"],[0.8888888888888888,\"#fdca26\"],[1.0,\"#f0f921\"]]}],\"contourcarpet\":[{\"type\":\"contourcarpet\",\"colorbar\":{\"outlinewidth\":0,\"ticks\":\"\"}}],\"contour\":[{\"type\":\"contour\",\"colorbar\":{\"outlinewidth\":0,\"ticks\":\"\"},\"colorscale\":[[0.0,\"#0d0887\"],[0.1111111111111111,\"#46039f\"],[0.2222222222222222,\"#7201a8\"],[0.3333333333333333,\"#9c179e\"],[0.4444444444444444,\"#bd3786\"],[0.5555555555555556,\"#d8576b\"],[0.6666666666666666,\"#ed7953\"],[0.7777777777777778,\"#fb9f3a\"],[0.8888888888888888,\"#fdca26\"],[1.0,\"#f0f921\"]]}],\"surface\":[{\"type\":\"surface\",\"colorbar\":{\"outlinewidth\":0,\"ticks\":\"\"},\"colorscale\":[[0.0,\"#0d0887\"],[0.1111111111111111,\"#46039f\"],[0.2222222222222222,\"#7201a8\"],[0.3333333333333333,\"#9c179e\"],[0.4444444444444444,\"#bd3786\"],[0.5555555555555556,\"#d8576b\"],[0.6666666666666666,\"#ed7953\"],[0.7777777777777778,\"#fb9f3a\"],[0.8888888888888888,\"#fdca26\"],[1.0,\"#f0f921\"]]}],\"mesh3d\":[{\"type\":\"mesh3d\",\"colorbar\":{\"outlinewidth\":0,\"ticks\":\"\"}}],\"scatter\":[{\"fillpattern\":{\"fillmode\":\"overlay\",\"size\":10,\"solidity\":0.2},\"type\":\"scatter\"}],\"parcoords\":[{\"type\":\"parcoords\",\"line\":{\"colorbar\":{\"outlinewidth\":0,\"ticks\":\"\"}}}],\"scatterpolargl\":[{\"type\":\"scatterpolargl\",\"marker\":{\"colorbar\":{\"outlinewidth\":0,\"ticks\":\"\"}}}],\"bar\":[{\"error_x\":{\"color\":\"#2a3f5f\"},\"error_y\":{\"color\":\"#2a3f5f\"},\"marker\":{\"line\":{\"color\":\"#E5ECF6\",\"width\":0.5},\"pattern\":{\"fillmode\":\"overlay\",\"size\":10,\"solidity\":0.2}},\"type\":\"bar\"}],\"scattergeo\":[{\"type\":\"scattergeo\",\"marker\":{\"colorbar\":{\"outlinewidth\":0,\"ticks\":\"\"}}}],\"scatterpolar\":[{\"type\":\"scatterpolar\",\"marker\":{\"colorbar\":{\"outlinewidth\":0,\"ticks\":\"\"}}}],\"histogram\":[{\"marker\":{\"pattern\":{\"fillmode\":\"overlay\",\"size\":10,\"solidity\":0.2}},\"type\":\"histogram\"}],\"scattergl\":[{\"type\":\"scattergl\",\"marker\":{\"colorbar\":{\"outlinewidth\":0,\"ticks\":\"\"}}}],\"scatter3d\":[{\"type\":\"scatter3d\",\"line\":{\"colorbar\":{\"outlinewidth\":0,\"ticks\":\"\"}},\"marker\":{\"colorbar\":{\"outlinewidth\":0,\"ticks\":\"\"}}}],\"scattermapbox\":[{\"type\":\"scattermapbox\",\"marker\":{\"colorbar\":{\"outlinewidth\":0,\"ticks\":\"\"}}}],\"scatterternary\":[{\"type\":\"scatterternary\",\"marker\":{\"colorbar\":{\"outlinewidth\":0,\"ticks\":\"\"}}}],\"scattercarpet\":[{\"type\":\"scattercarpet\",\"marker\":{\"colorbar\":{\"outlinewidth\":0,\"ticks\":\"\"}}}],\"carpet\":[{\"aaxis\":{\"endlinecolor\":\"#2a3f5f\",\"gridcolor\":\"white\",\"linecolor\":\"white\",\"minorgridcolor\":\"white\",\"startlinecolor\":\"#2a3f5f\"},\"baxis\":{\"endlinecolor\":\"#2a3f5f\",\"gridcolor\":\"white\",\"linecolor\":\"white\",\"minorgridcolor\":\"white\",\"startlinecolor\":\"#2a3f5f\"},\"type\":\"carpet\"}],\"table\":[{\"cells\":{\"fill\":{\"color\":\"#EBF0F8\"},\"line\":{\"color\":\"white\"}},\"header\":{\"fill\":{\"color\":\"#C8D4E3\"},\"line\":{\"color\":\"white\"}},\"type\":\"table\"}],\"barpolar\":[{\"marker\":{\"line\":{\"color\":\"#E5ECF6\",\"width\":0.5},\"pattern\":{\"fillmode\":\"overlay\",\"size\":10,\"solidity\":0.2}},\"type\":\"barpolar\"}],\"pie\":[{\"automargin\":true,\"type\":\"pie\"}]},\"layout\":{\"autotypenumbers\":\"strict\",\"colorway\":[\"#636efa\",\"#EF553B\",\"#00cc96\",\"#ab63fa\",\"#FFA15A\",\"#19d3f3\",\"#FF6692\",\"#B6E880\",\"#FF97FF\",\"#FECB52\"],\"font\":{\"color\":\"#2a3f5f\"},\"hovermode\":\"closest\",\"hoverlabel\":{\"align\":\"left\"},\"paper_bgcolor\":\"white\",\"plot_bgcolor\":\"#E5ECF6\",\"polar\":{\"bgcolor\":\"#E5ECF6\",\"angularaxis\":{\"gridcolor\":\"white\",\"linecolor\":\"white\",\"ticks\":\"\"},\"radialaxis\":{\"gridcolor\":\"white\",\"linecolor\":\"white\",\"ticks\":\"\"}},\"ternary\":{\"bgcolor\":\"#E5ECF6\",\"aaxis\":{\"gridcolor\":\"white\",\"linecolor\":\"white\",\"ticks\":\"\"},\"baxis\":{\"gridcolor\":\"white\",\"linecolor\":\"white\",\"ticks\":\"\"},\"caxis\":{\"gridcolor\":\"white\",\"linecolor\":\"white\",\"ticks\":\"\"}},\"coloraxis\":{\"colorbar\":{\"outlinewidth\":0,\"ticks\":\"\"}},\"colorscale\":{\"sequential\":[[0.0,\"#0d0887\"],[0.1111111111111111,\"#46039f\"],[0.2222222222222222,\"#7201a8\"],[0.3333333333333333,\"#9c179e\"],[0.4444444444444444,\"#bd3786\"],[0.5555555555555556,\"#d8576b\"],[0.6666666666666666,\"#ed7953\"],[0.7777777777777778,\"#fb9f3a\"],[0.8888888888888888,\"#fdca26\"],[1.0,\"#f0f921\"]],\"sequentialminus\":[[0.0,\"#0d0887\"],[0.1111111111111111,\"#46039f\"],[0.2222222222222222,\"#7201a8\"],[0.3333333333333333,\"#9c179e\"],[0.4444444444444444,\"#bd3786\"],[0.5555555555555556,\"#d8576b\"],[0.6666666666666666,\"#ed7953\"],[0.7777777777777778,\"#fb9f3a\"],[0.8888888888888888,\"#fdca26\"],[1.0,\"#f0f921\"]],\"diverging\":[[0,\"#8e0152\"],[0.1,\"#c51b7d\"],[0.2,\"#de77ae\"],[0.3,\"#f1b6da\"],[0.4,\"#fde0ef\"],[0.5,\"#f7f7f7\"],[0.6,\"#e6f5d0\"],[0.7,\"#b8e186\"],[0.8,\"#7fbc41\"],[0.9,\"#4d9221\"],[1,\"#276419\"]]},\"xaxis\":{\"gridcolor\":\"white\",\"linecolor\":\"white\",\"ticks\":\"\",\"title\":{\"standoff\":15},\"zerolinecolor\":\"white\",\"automargin\":true,\"zerolinewidth\":2},\"yaxis\":{\"gridcolor\":\"white\",\"linecolor\":\"white\",\"ticks\":\"\",\"title\":{\"standoff\":15},\"zerolinecolor\":\"white\",\"automargin\":true,\"zerolinewidth\":2},\"scene\":{\"xaxis\":{\"backgroundcolor\":\"#E5ECF6\",\"gridcolor\":\"white\",\"linecolor\":\"white\",\"showbackground\":true,\"ticks\":\"\",\"zerolinecolor\":\"white\",\"gridwidth\":2},\"yaxis\":{\"backgroundcolor\":\"#E5ECF6\",\"gridcolor\":\"white\",\"linecolor\":\"white\",\"showbackground\":true,\"ticks\":\"\",\"zerolinecolor\":\"white\",\"gridwidth\":2},\"zaxis\":{\"backgroundcolor\":\"#E5ECF6\",\"gridcolor\":\"white\",\"linecolor\":\"white\",\"showbackground\":true,\"ticks\":\"\",\"zerolinecolor\":\"white\",\"gridwidth\":2}},\"shapedefaults\":{\"line\":{\"color\":\"#2a3f5f\"}},\"annotationdefaults\":{\"arrowcolor\":\"#2a3f5f\",\"arrowhead\":0,\"arrowwidth\":1},\"geo\":{\"bgcolor\":\"white\",\"landcolor\":\"#E5ECF6\",\"subunitcolor\":\"white\",\"showland\":true,\"showlakes\":true,\"lakecolor\":\"white\"},\"title\":{\"x\":0.05},\"mapbox\":{\"style\":\"light\"}}},\"legend\":{\"tracegroupgap\":0},\"margin\":{\"t\":60}},                        {\"responsive\": true}                    ).then(function(){\n",
              "                            \n",
              "var gd = document.getElementById('ff28e6da-9a9b-42b7-90eb-022edce96910');\n",
              "var x = new MutationObserver(function (mutations, observer) {{\n",
              "        var display = window.getComputedStyle(gd).display;\n",
              "        if (!display || display === 'none') {{\n",
              "            console.log([gd, 'removed!']);\n",
              "            Plotly.purge(gd);\n",
              "            observer.disconnect();\n",
              "        }}\n",
              "}});\n",
              "\n",
              "// Listen for the removal of the full notebook cells\n",
              "var notebookContainer = gd.closest('#notebook-container');\n",
              "if (notebookContainer) {{\n",
              "    x.observe(notebookContainer, {childList: true});\n",
              "}}\n",
              "\n",
              "// Listen for the clearing of the current output cell\n",
              "var outputEl = gd.closest('.output');\n",
              "if (outputEl) {{\n",
              "    x.observe(outputEl, {childList: true});\n",
              "}}\n",
              "\n",
              "                        })                };                            </script>        </div>\n",
              "</body>\n",
              "</html>"
            ]
          },
          "metadata": {},
          "output_type": "display_data"
        }
      ],
      "source": [
        "import plotly.express as px\n",
        "import pandas as pd\n",
        "\n",
        "# Sample data\n",
        "\n",
        "# values = Toan_Hang_df['Values'], text = Toan_Hang_df['State'],\n",
        "fig = px.funnel_area(Toan_Hang_df, names = 'State', values = 'Values')\n",
        "\n",
        "fig.show()"
      ]
    },
    {
      "cell_type": "code",
      "execution_count": null,
      "metadata": {
        "id": "x8v7Uk7BuXDf"
      },
      "outputs": [],
      "source": []
    },
    {
      "cell_type": "code",
      "execution_count": null,
      "metadata": {
        "colab": {
          "base_uri": "https://localhost:8080/",
          "height": 542
        },
        "id": "TWyDpQ_87NjH",
        "outputId": "2f08762a-dcf0-4d67-e199-7e6899cb84c2"
      },
      "outputs": [
        {
          "data": {
            "text/html": [
              "<html>\n",
              "<head><meta charset=\"utf-8\" /></head>\n",
              "<body>\n",
              "    <div>            <script src=\"https://cdnjs.cloudflare.com/ajax/libs/mathjax/2.7.5/MathJax.js?config=TeX-AMS-MML_SVG\"></script><script type=\"text/javascript\">if (window.MathJax && window.MathJax.Hub && window.MathJax.Hub.Config) {window.MathJax.Hub.Config({SVG: {font: \"STIX-Web\"}});}</script>                <script type=\"text/javascript\">window.PlotlyConfig = {MathJaxConfig: 'local'};</script>\n",
              "        <script src=\"https://cdn.plot.ly/plotly-2.18.2.min.js\"></script>                <div id=\"16876930-8091-4be8-8ea4-0e0b5f42f8c5\" class=\"plotly-graph-div\" style=\"height:525px; width:100%;\"></div>            <script type=\"text/javascript\">                                    window.PLOTLYENV=window.PLOTLYENV || {};                                    if (document.getElementById(\"16876930-8091-4be8-8ea4-0e0b5f42f8c5\")) {                    Plotly.newPlot(                        \"16876930-8091-4be8-8ea4-0e0b5f42f8c5\",                        [{\"name\":\"Mi\\u1ec1n nam\",\"textinfo\":\"value+percent initial\",\"x\":[446,466,75,23,29,21,21,3],\"y\":[\"\\u0110\\u00e3 ph\\u00e2n b\\u1ed5\",\"\\u0110\\u00e3 g\\u1ecdi\",\"\\u0110\\u00e3 g\\u1eb7p\",\"Thu th\\u1eadp h\\u1ed3 s\\u01a1\",\" \\u0110\\u1ecbnh gi\\u00e1\",\" \\u0110\\u00e3 tr\\u00ecnh\",\" \\u0110\\u00e3 ph\\u00ea duy\\u1ec7t\",\"\\u0110\\u00e3 active h\\u1ea1n m\\u1ee9c\"],\"type\":\"funnel\"},{\"name\":\"Mi\\u1ec1n B\\u1eafc\",\"orientation\":\"h\",\"textinfo\":\"value+percent previous\",\"textposition\":\"inside\",\"x\":[1303,334,174,27,35,35,21,8],\"y\":[\"\\u0110\\u00e3 ph\\u00e2n b\\u1ed5\",\"\\u0110\\u00e3 g\\u1ecdi\",\"\\u0110\\u00e3 g\\u1eb7p\",\"Thu th\\u1eadp h\\u1ed3 s\\u01a1\",\" \\u0110\\u1ecbnh gi\\u00e1\",\" \\u0110\\u00e3 tr\\u00ecnh\",\" \\u0110\\u00e3 ph\\u00ea duy\\u1ec7t\",\"\\u0110\\u00e3 active h\\u1ea1n m\\u1ee9c\"],\"type\":\"funnel\"}],                        {\"template\":{\"data\":{\"histogram2dcontour\":[{\"type\":\"histogram2dcontour\",\"colorbar\":{\"outlinewidth\":0,\"ticks\":\"\"},\"colorscale\":[[0.0,\"#0d0887\"],[0.1111111111111111,\"#46039f\"],[0.2222222222222222,\"#7201a8\"],[0.3333333333333333,\"#9c179e\"],[0.4444444444444444,\"#bd3786\"],[0.5555555555555556,\"#d8576b\"],[0.6666666666666666,\"#ed7953\"],[0.7777777777777778,\"#fb9f3a\"],[0.8888888888888888,\"#fdca26\"],[1.0,\"#f0f921\"]]}],\"choropleth\":[{\"type\":\"choropleth\",\"colorbar\":{\"outlinewidth\":0,\"ticks\":\"\"}}],\"histogram2d\":[{\"type\":\"histogram2d\",\"colorbar\":{\"outlinewidth\":0,\"ticks\":\"\"},\"colorscale\":[[0.0,\"#0d0887\"],[0.1111111111111111,\"#46039f\"],[0.2222222222222222,\"#7201a8\"],[0.3333333333333333,\"#9c179e\"],[0.4444444444444444,\"#bd3786\"],[0.5555555555555556,\"#d8576b\"],[0.6666666666666666,\"#ed7953\"],[0.7777777777777778,\"#fb9f3a\"],[0.8888888888888888,\"#fdca26\"],[1.0,\"#f0f921\"]]}],\"heatmap\":[{\"type\":\"heatmap\",\"colorbar\":{\"outlinewidth\":0,\"ticks\":\"\"},\"colorscale\":[[0.0,\"#0d0887\"],[0.1111111111111111,\"#46039f\"],[0.2222222222222222,\"#7201a8\"],[0.3333333333333333,\"#9c179e\"],[0.4444444444444444,\"#bd3786\"],[0.5555555555555556,\"#d8576b\"],[0.6666666666666666,\"#ed7953\"],[0.7777777777777778,\"#fb9f3a\"],[0.8888888888888888,\"#fdca26\"],[1.0,\"#f0f921\"]]}],\"heatmapgl\":[{\"type\":\"heatmapgl\",\"colorbar\":{\"outlinewidth\":0,\"ticks\":\"\"},\"colorscale\":[[0.0,\"#0d0887\"],[0.1111111111111111,\"#46039f\"],[0.2222222222222222,\"#7201a8\"],[0.3333333333333333,\"#9c179e\"],[0.4444444444444444,\"#bd3786\"],[0.5555555555555556,\"#d8576b\"],[0.6666666666666666,\"#ed7953\"],[0.7777777777777778,\"#fb9f3a\"],[0.8888888888888888,\"#fdca26\"],[1.0,\"#f0f921\"]]}],\"contourcarpet\":[{\"type\":\"contourcarpet\",\"colorbar\":{\"outlinewidth\":0,\"ticks\":\"\"}}],\"contour\":[{\"type\":\"contour\",\"colorbar\":{\"outlinewidth\":0,\"ticks\":\"\"},\"colorscale\":[[0.0,\"#0d0887\"],[0.1111111111111111,\"#46039f\"],[0.2222222222222222,\"#7201a8\"],[0.3333333333333333,\"#9c179e\"],[0.4444444444444444,\"#bd3786\"],[0.5555555555555556,\"#d8576b\"],[0.6666666666666666,\"#ed7953\"],[0.7777777777777778,\"#fb9f3a\"],[0.8888888888888888,\"#fdca26\"],[1.0,\"#f0f921\"]]}],\"surface\":[{\"type\":\"surface\",\"colorbar\":{\"outlinewidth\":0,\"ticks\":\"\"},\"colorscale\":[[0.0,\"#0d0887\"],[0.1111111111111111,\"#46039f\"],[0.2222222222222222,\"#7201a8\"],[0.3333333333333333,\"#9c179e\"],[0.4444444444444444,\"#bd3786\"],[0.5555555555555556,\"#d8576b\"],[0.6666666666666666,\"#ed7953\"],[0.7777777777777778,\"#fb9f3a\"],[0.8888888888888888,\"#fdca26\"],[1.0,\"#f0f921\"]]}],\"mesh3d\":[{\"type\":\"mesh3d\",\"colorbar\":{\"outlinewidth\":0,\"ticks\":\"\"}}],\"scatter\":[{\"fillpattern\":{\"fillmode\":\"overlay\",\"size\":10,\"solidity\":0.2},\"type\":\"scatter\"}],\"parcoords\":[{\"type\":\"parcoords\",\"line\":{\"colorbar\":{\"outlinewidth\":0,\"ticks\":\"\"}}}],\"scatterpolargl\":[{\"type\":\"scatterpolargl\",\"marker\":{\"colorbar\":{\"outlinewidth\":0,\"ticks\":\"\"}}}],\"bar\":[{\"error_x\":{\"color\":\"#2a3f5f\"},\"error_y\":{\"color\":\"#2a3f5f\"},\"marker\":{\"line\":{\"color\":\"#E5ECF6\",\"width\":0.5},\"pattern\":{\"fillmode\":\"overlay\",\"size\":10,\"solidity\":0.2}},\"type\":\"bar\"}],\"scattergeo\":[{\"type\":\"scattergeo\",\"marker\":{\"colorbar\":{\"outlinewidth\":0,\"ticks\":\"\"}}}],\"scatterpolar\":[{\"type\":\"scatterpolar\",\"marker\":{\"colorbar\":{\"outlinewidth\":0,\"ticks\":\"\"}}}],\"histogram\":[{\"marker\":{\"pattern\":{\"fillmode\":\"overlay\",\"size\":10,\"solidity\":0.2}},\"type\":\"histogram\"}],\"scattergl\":[{\"type\":\"scattergl\",\"marker\":{\"colorbar\":{\"outlinewidth\":0,\"ticks\":\"\"}}}],\"scatter3d\":[{\"type\":\"scatter3d\",\"line\":{\"colorbar\":{\"outlinewidth\":0,\"ticks\":\"\"}},\"marker\":{\"colorbar\":{\"outlinewidth\":0,\"ticks\":\"\"}}}],\"scattermapbox\":[{\"type\":\"scattermapbox\",\"marker\":{\"colorbar\":{\"outlinewidth\":0,\"ticks\":\"\"}}}],\"scatterternary\":[{\"type\":\"scatterternary\",\"marker\":{\"colorbar\":{\"outlinewidth\":0,\"ticks\":\"\"}}}],\"scattercarpet\":[{\"type\":\"scattercarpet\",\"marker\":{\"colorbar\":{\"outlinewidth\":0,\"ticks\":\"\"}}}],\"carpet\":[{\"aaxis\":{\"endlinecolor\":\"#2a3f5f\",\"gridcolor\":\"white\",\"linecolor\":\"white\",\"minorgridcolor\":\"white\",\"startlinecolor\":\"#2a3f5f\"},\"baxis\":{\"endlinecolor\":\"#2a3f5f\",\"gridcolor\":\"white\",\"linecolor\":\"white\",\"minorgridcolor\":\"white\",\"startlinecolor\":\"#2a3f5f\"},\"type\":\"carpet\"}],\"table\":[{\"cells\":{\"fill\":{\"color\":\"#EBF0F8\"},\"line\":{\"color\":\"white\"}},\"header\":{\"fill\":{\"color\":\"#C8D4E3\"},\"line\":{\"color\":\"white\"}},\"type\":\"table\"}],\"barpolar\":[{\"marker\":{\"line\":{\"color\":\"#E5ECF6\",\"width\":0.5},\"pattern\":{\"fillmode\":\"overlay\",\"size\":10,\"solidity\":0.2}},\"type\":\"barpolar\"}],\"pie\":[{\"automargin\":true,\"type\":\"pie\"}]},\"layout\":{\"autotypenumbers\":\"strict\",\"colorway\":[\"#636efa\",\"#EF553B\",\"#00cc96\",\"#ab63fa\",\"#FFA15A\",\"#19d3f3\",\"#FF6692\",\"#B6E880\",\"#FF97FF\",\"#FECB52\"],\"font\":{\"color\":\"#2a3f5f\"},\"hovermode\":\"closest\",\"hoverlabel\":{\"align\":\"left\"},\"paper_bgcolor\":\"white\",\"plot_bgcolor\":\"#E5ECF6\",\"polar\":{\"bgcolor\":\"#E5ECF6\",\"angularaxis\":{\"gridcolor\":\"white\",\"linecolor\":\"white\",\"ticks\":\"\"},\"radialaxis\":{\"gridcolor\":\"white\",\"linecolor\":\"white\",\"ticks\":\"\"}},\"ternary\":{\"bgcolor\":\"#E5ECF6\",\"aaxis\":{\"gridcolor\":\"white\",\"linecolor\":\"white\",\"ticks\":\"\"},\"baxis\":{\"gridcolor\":\"white\",\"linecolor\":\"white\",\"ticks\":\"\"},\"caxis\":{\"gridcolor\":\"white\",\"linecolor\":\"white\",\"ticks\":\"\"}},\"coloraxis\":{\"colorbar\":{\"outlinewidth\":0,\"ticks\":\"\"}},\"colorscale\":{\"sequential\":[[0.0,\"#0d0887\"],[0.1111111111111111,\"#46039f\"],[0.2222222222222222,\"#7201a8\"],[0.3333333333333333,\"#9c179e\"],[0.4444444444444444,\"#bd3786\"],[0.5555555555555556,\"#d8576b\"],[0.6666666666666666,\"#ed7953\"],[0.7777777777777778,\"#fb9f3a\"],[0.8888888888888888,\"#fdca26\"],[1.0,\"#f0f921\"]],\"sequentialminus\":[[0.0,\"#0d0887\"],[0.1111111111111111,\"#46039f\"],[0.2222222222222222,\"#7201a8\"],[0.3333333333333333,\"#9c179e\"],[0.4444444444444444,\"#bd3786\"],[0.5555555555555556,\"#d8576b\"],[0.6666666666666666,\"#ed7953\"],[0.7777777777777778,\"#fb9f3a\"],[0.8888888888888888,\"#fdca26\"],[1.0,\"#f0f921\"]],\"diverging\":[[0,\"#8e0152\"],[0.1,\"#c51b7d\"],[0.2,\"#de77ae\"],[0.3,\"#f1b6da\"],[0.4,\"#fde0ef\"],[0.5,\"#f7f7f7\"],[0.6,\"#e6f5d0\"],[0.7,\"#b8e186\"],[0.8,\"#7fbc41\"],[0.9,\"#4d9221\"],[1,\"#276419\"]]},\"xaxis\":{\"gridcolor\":\"white\",\"linecolor\":\"white\",\"ticks\":\"\",\"title\":{\"standoff\":15},\"zerolinecolor\":\"white\",\"automargin\":true,\"zerolinewidth\":2},\"yaxis\":{\"gridcolor\":\"white\",\"linecolor\":\"white\",\"ticks\":\"\",\"title\":{\"standoff\":15},\"zerolinecolor\":\"white\",\"automargin\":true,\"zerolinewidth\":2},\"scene\":{\"xaxis\":{\"backgroundcolor\":\"#E5ECF6\",\"gridcolor\":\"white\",\"linecolor\":\"white\",\"showbackground\":true,\"ticks\":\"\",\"zerolinecolor\":\"white\",\"gridwidth\":2},\"yaxis\":{\"backgroundcolor\":\"#E5ECF6\",\"gridcolor\":\"white\",\"linecolor\":\"white\",\"showbackground\":true,\"ticks\":\"\",\"zerolinecolor\":\"white\",\"gridwidth\":2},\"zaxis\":{\"backgroundcolor\":\"#E5ECF6\",\"gridcolor\":\"white\",\"linecolor\":\"white\",\"showbackground\":true,\"ticks\":\"\",\"zerolinecolor\":\"white\",\"gridwidth\":2}},\"shapedefaults\":{\"line\":{\"color\":\"#2a3f5f\"}},\"annotationdefaults\":{\"arrowcolor\":\"#2a3f5f\",\"arrowhead\":0,\"arrowwidth\":1},\"geo\":{\"bgcolor\":\"white\",\"landcolor\":\"#E5ECF6\",\"subunitcolor\":\"white\",\"showland\":true,\"showlakes\":true,\"lakecolor\":\"white\"},\"title\":{\"x\":0.05},\"mapbox\":{\"style\":\"light\"}}}},                        {\"responsive\": true}                    ).then(function(){\n",
              "                            \n",
              "var gd = document.getElementById('16876930-8091-4be8-8ea4-0e0b5f42f8c5');\n",
              "var x = new MutationObserver(function (mutations, observer) {{\n",
              "        var display = window.getComputedStyle(gd).display;\n",
              "        if (!display || display === 'none') {{\n",
              "            console.log([gd, 'removed!']);\n",
              "            Plotly.purge(gd);\n",
              "            observer.disconnect();\n",
              "        }}\n",
              "}});\n",
              "\n",
              "// Listen for the removal of the full notebook cells\n",
              "var notebookContainer = gd.closest('#notebook-container');\n",
              "if (notebookContainer) {{\n",
              "    x.observe(notebookContainer, {childList: true});\n",
              "}}\n",
              "\n",
              "// Listen for the clearing of the current output cell\n",
              "var outputEl = gd.closest('.output');\n",
              "if (outputEl) {{\n",
              "    x.observe(outputEl, {childList: true});\n",
              "}}\n",
              "\n",
              "                        })                };                            </script>        </div>\n",
              "</body>\n",
              "</html>"
            ]
          },
          "metadata": {},
          "output_type": "display_data"
        }
      ],
      "source": [
        "from plotly import graph_objects as go\n",
        "\n",
        "\n",
        "# values = Toan_Hang_df['Values'], text = Toan_Hang_df['State'], \n",
        "fig = go.Figure()\n",
        "\n",
        "fig.add_trace(go.Funnel(\n",
        "    name = 'Miền nam',\n",
        "    y = sum_south_pro_df['State'],\n",
        "    x = sum_south_pro_df['Values'],\n",
        "    textinfo = \"value+percent initial\"))\n",
        "\n",
        "fig.add_trace(go.Funnel(\n",
        "    name = 'Miền Bắc',\n",
        "    orientation = \"h\",\n",
        "    y = sum_nor_pro_df['State'],\n",
        "    x = sum_nor_pro_df['Values'],\n",
        "    textposition = \"inside\",\n",
        "    textinfo = \"value+percent previous\"))\n",
        "\n",
        "\n",
        "\n",
        "fig.show()"
      ]
    },
    {
      "cell_type": "code",
      "execution_count": null,
      "metadata": {
        "id": "LaVNVVs4ucFN"
      },
      "outputs": [],
      "source": [
        "\n",
        "fig = go.Figure(go.Funnelarea(\n",
        "      values = Toan_Hang_df['Values'], text = Toan_Hang_df['State'],\n",
        "      marker = {\"colors\": [\"deepskyblue\", \"lightsalmon\", \"tan\", \"teal\", \"silver\",\"silver\",\"silver\"],\n",
        "                \"line\": {\"color\": [\"wheat\", \"wheat\", \"blue\", \"wheat\", \"wheat\"], \"width\": [0, 1, 5, 0, 4,1,1]}},\n",
        "      textfont = {\"family\": \"Old Standard TT, serif\", \"size\": 13, \"color\": \"black\"}, opacity = 0.65))\n"
      ]
    },
    {
      "cell_type": "code",
      "execution_count": null,
      "metadata": {
        "id": "HHaXaz5dvKT5"
      },
      "outputs": [],
      "source": [
        "        # - The 'type' property specifies the trace type\n",
        "        #     One of: ['bar', 'barpolar', 'box', 'candlestick',\n",
        "        #              'carpet', 'choropleth', 'choroplethmapbox',\n",
        "        #              'cone', 'contour', 'contourcarpet',\n",
        "        #              'densitymapbox', 'funnel', 'funnelarea',\n",
        "        #              'heatmap', 'heatmapgl', 'histogram',\n",
        "        #              'histogram2d', 'histogram2dcontour', 'icicle',\n",
        "        #              'image', 'indicator', 'isosurface', 'mesh3d',\n",
        "        #              'ohlc', 'parcats', 'parcoords', 'pie',\n",
        "        #              'pointcloud', 'sankey', 'scatter',\n",
        "        #              'scatter3d', 'scattercarpet', 'scattergeo',\n",
        "        #              'scattergl', 'scattermapbox', 'scatterpolar',\n",
        "        #              'scatterpolargl', 'scattersmith',\n",
        "        #              'scatterternary', 'splom', 'streamtube',\n",
        "        #              'sunburst', 'surface', 'table', 'treemap',\n",
        "        #              'violin', 'volume', 'waterfall']"
      ]
    },
    {
      "cell_type": "code",
      "execution_count": null,
      "metadata": {
        "colab": {
          "base_uri": "https://localhost:8080/",
          "height": 542
        },
        "id": "5-PLwsn7zwV4",
        "outputId": "3648a177-5e2e-46c3-be32-fc005883fcb2"
      },
      "outputs": [
        {
          "data": {
            "text/html": [
              "<html>\n",
              "<head><meta charset=\"utf-8\" /></head>\n",
              "<body>\n",
              "    <div>            <script src=\"https://cdnjs.cloudflare.com/ajax/libs/mathjax/2.7.5/MathJax.js?config=TeX-AMS-MML_SVG\"></script><script type=\"text/javascript\">if (window.MathJax && window.MathJax.Hub && window.MathJax.Hub.Config) {window.MathJax.Hub.Config({SVG: {font: \"STIX-Web\"}});}</script>                <script type=\"text/javascript\">window.PlotlyConfig = {MathJaxConfig: 'local'};</script>\n",
              "        <script src=\"https://cdn.plot.ly/plotly-2.18.2.min.js\"></script>                <div id=\"23ef9b2d-ca14-492a-a7e1-cc9d4b95881c\" class=\"plotly-graph-div\" style=\"height:525px; width:100%;\"></div>            <script type=\"text/javascript\">                                    window.PLOTLYENV=window.PLOTLYENV || {};                                    if (document.getElementById(\"23ef9b2d-ca14-492a-a7e1-cc9d4b95881c\")) {                    Plotly.newPlot(                        \"23ef9b2d-ca14-492a-a7e1-cc9d4b95881c\",                        [{\"domain\":{\"x\":[0.0,1.0],\"y\":[0.0,1.0]},\"hovertemplate\":\"stage=%{label}<br>number=%{value}<extra></extra>\",\"labels\":[\"Sent\",\"Received\",\"Clicks\",\"Sales\"],\"legendgroup\":\"\",\"name\":\"\",\"showlegend\":true,\"values\":[1000,20,15,10],\"type\":\"funnelarea\"}],                        {\"template\":{\"data\":{\"histogram2dcontour\":[{\"type\":\"histogram2dcontour\",\"colorbar\":{\"outlinewidth\":0,\"ticks\":\"\"},\"colorscale\":[[0.0,\"#0d0887\"],[0.1111111111111111,\"#46039f\"],[0.2222222222222222,\"#7201a8\"],[0.3333333333333333,\"#9c179e\"],[0.4444444444444444,\"#bd3786\"],[0.5555555555555556,\"#d8576b\"],[0.6666666666666666,\"#ed7953\"],[0.7777777777777778,\"#fb9f3a\"],[0.8888888888888888,\"#fdca26\"],[1.0,\"#f0f921\"]]}],\"choropleth\":[{\"type\":\"choropleth\",\"colorbar\":{\"outlinewidth\":0,\"ticks\":\"\"}}],\"histogram2d\":[{\"type\":\"histogram2d\",\"colorbar\":{\"outlinewidth\":0,\"ticks\":\"\"},\"colorscale\":[[0.0,\"#0d0887\"],[0.1111111111111111,\"#46039f\"],[0.2222222222222222,\"#7201a8\"],[0.3333333333333333,\"#9c179e\"],[0.4444444444444444,\"#bd3786\"],[0.5555555555555556,\"#d8576b\"],[0.6666666666666666,\"#ed7953\"],[0.7777777777777778,\"#fb9f3a\"],[0.8888888888888888,\"#fdca26\"],[1.0,\"#f0f921\"]]}],\"heatmap\":[{\"type\":\"heatmap\",\"colorbar\":{\"outlinewidth\":0,\"ticks\":\"\"},\"colorscale\":[[0.0,\"#0d0887\"],[0.1111111111111111,\"#46039f\"],[0.2222222222222222,\"#7201a8\"],[0.3333333333333333,\"#9c179e\"],[0.4444444444444444,\"#bd3786\"],[0.5555555555555556,\"#d8576b\"],[0.6666666666666666,\"#ed7953\"],[0.7777777777777778,\"#fb9f3a\"],[0.8888888888888888,\"#fdca26\"],[1.0,\"#f0f921\"]]}],\"heatmapgl\":[{\"type\":\"heatmapgl\",\"colorbar\":{\"outlinewidth\":0,\"ticks\":\"\"},\"colorscale\":[[0.0,\"#0d0887\"],[0.1111111111111111,\"#46039f\"],[0.2222222222222222,\"#7201a8\"],[0.3333333333333333,\"#9c179e\"],[0.4444444444444444,\"#bd3786\"],[0.5555555555555556,\"#d8576b\"],[0.6666666666666666,\"#ed7953\"],[0.7777777777777778,\"#fb9f3a\"],[0.8888888888888888,\"#fdca26\"],[1.0,\"#f0f921\"]]}],\"contourcarpet\":[{\"type\":\"contourcarpet\",\"colorbar\":{\"outlinewidth\":0,\"ticks\":\"\"}}],\"contour\":[{\"type\":\"contour\",\"colorbar\":{\"outlinewidth\":0,\"ticks\":\"\"},\"colorscale\":[[0.0,\"#0d0887\"],[0.1111111111111111,\"#46039f\"],[0.2222222222222222,\"#7201a8\"],[0.3333333333333333,\"#9c179e\"],[0.4444444444444444,\"#bd3786\"],[0.5555555555555556,\"#d8576b\"],[0.6666666666666666,\"#ed7953\"],[0.7777777777777778,\"#fb9f3a\"],[0.8888888888888888,\"#fdca26\"],[1.0,\"#f0f921\"]]}],\"surface\":[{\"type\":\"surface\",\"colorbar\":{\"outlinewidth\":0,\"ticks\":\"\"},\"colorscale\":[[0.0,\"#0d0887\"],[0.1111111111111111,\"#46039f\"],[0.2222222222222222,\"#7201a8\"],[0.3333333333333333,\"#9c179e\"],[0.4444444444444444,\"#bd3786\"],[0.5555555555555556,\"#d8576b\"],[0.6666666666666666,\"#ed7953\"],[0.7777777777777778,\"#fb9f3a\"],[0.8888888888888888,\"#fdca26\"],[1.0,\"#f0f921\"]]}],\"mesh3d\":[{\"type\":\"mesh3d\",\"colorbar\":{\"outlinewidth\":0,\"ticks\":\"\"}}],\"scatter\":[{\"fillpattern\":{\"fillmode\":\"overlay\",\"size\":10,\"solidity\":0.2},\"type\":\"scatter\"}],\"parcoords\":[{\"type\":\"parcoords\",\"line\":{\"colorbar\":{\"outlinewidth\":0,\"ticks\":\"\"}}}],\"scatterpolargl\":[{\"type\":\"scatterpolargl\",\"marker\":{\"colorbar\":{\"outlinewidth\":0,\"ticks\":\"\"}}}],\"bar\":[{\"error_x\":{\"color\":\"#2a3f5f\"},\"error_y\":{\"color\":\"#2a3f5f\"},\"marker\":{\"line\":{\"color\":\"#E5ECF6\",\"width\":0.5},\"pattern\":{\"fillmode\":\"overlay\",\"size\":10,\"solidity\":0.2}},\"type\":\"bar\"}],\"scattergeo\":[{\"type\":\"scattergeo\",\"marker\":{\"colorbar\":{\"outlinewidth\":0,\"ticks\":\"\"}}}],\"scatterpolar\":[{\"type\":\"scatterpolar\",\"marker\":{\"colorbar\":{\"outlinewidth\":0,\"ticks\":\"\"}}}],\"histogram\":[{\"marker\":{\"pattern\":{\"fillmode\":\"overlay\",\"size\":10,\"solidity\":0.2}},\"type\":\"histogram\"}],\"scattergl\":[{\"type\":\"scattergl\",\"marker\":{\"colorbar\":{\"outlinewidth\":0,\"ticks\":\"\"}}}],\"scatter3d\":[{\"type\":\"scatter3d\",\"line\":{\"colorbar\":{\"outlinewidth\":0,\"ticks\":\"\"}},\"marker\":{\"colorbar\":{\"outlinewidth\":0,\"ticks\":\"\"}}}],\"scattermapbox\":[{\"type\":\"scattermapbox\",\"marker\":{\"colorbar\":{\"outlinewidth\":0,\"ticks\":\"\"}}}],\"scatterternary\":[{\"type\":\"scatterternary\",\"marker\":{\"colorbar\":{\"outlinewidth\":0,\"ticks\":\"\"}}}],\"scattercarpet\":[{\"type\":\"scattercarpet\",\"marker\":{\"colorbar\":{\"outlinewidth\":0,\"ticks\":\"\"}}}],\"carpet\":[{\"aaxis\":{\"endlinecolor\":\"#2a3f5f\",\"gridcolor\":\"white\",\"linecolor\":\"white\",\"minorgridcolor\":\"white\",\"startlinecolor\":\"#2a3f5f\"},\"baxis\":{\"endlinecolor\":\"#2a3f5f\",\"gridcolor\":\"white\",\"linecolor\":\"white\",\"minorgridcolor\":\"white\",\"startlinecolor\":\"#2a3f5f\"},\"type\":\"carpet\"}],\"table\":[{\"cells\":{\"fill\":{\"color\":\"#EBF0F8\"},\"line\":{\"color\":\"white\"}},\"header\":{\"fill\":{\"color\":\"#C8D4E3\"},\"line\":{\"color\":\"white\"}},\"type\":\"table\"}],\"barpolar\":[{\"marker\":{\"line\":{\"color\":\"#E5ECF6\",\"width\":0.5},\"pattern\":{\"fillmode\":\"overlay\",\"size\":10,\"solidity\":0.2}},\"type\":\"barpolar\"}],\"pie\":[{\"automargin\":true,\"type\":\"pie\"}]},\"layout\":{\"autotypenumbers\":\"strict\",\"colorway\":[\"#636efa\",\"#EF553B\",\"#00cc96\",\"#ab63fa\",\"#FFA15A\",\"#19d3f3\",\"#FF6692\",\"#B6E880\",\"#FF97FF\",\"#FECB52\"],\"font\":{\"color\":\"#2a3f5f\"},\"hovermode\":\"closest\",\"hoverlabel\":{\"align\":\"left\"},\"paper_bgcolor\":\"white\",\"plot_bgcolor\":\"#E5ECF6\",\"polar\":{\"bgcolor\":\"#E5ECF6\",\"angularaxis\":{\"gridcolor\":\"white\",\"linecolor\":\"white\",\"ticks\":\"\"},\"radialaxis\":{\"gridcolor\":\"white\",\"linecolor\":\"white\",\"ticks\":\"\"}},\"ternary\":{\"bgcolor\":\"#E5ECF6\",\"aaxis\":{\"gridcolor\":\"white\",\"linecolor\":\"white\",\"ticks\":\"\"},\"baxis\":{\"gridcolor\":\"white\",\"linecolor\":\"white\",\"ticks\":\"\"},\"caxis\":{\"gridcolor\":\"white\",\"linecolor\":\"white\",\"ticks\":\"\"}},\"coloraxis\":{\"colorbar\":{\"outlinewidth\":0,\"ticks\":\"\"}},\"colorscale\":{\"sequential\":[[0.0,\"#0d0887\"],[0.1111111111111111,\"#46039f\"],[0.2222222222222222,\"#7201a8\"],[0.3333333333333333,\"#9c179e\"],[0.4444444444444444,\"#bd3786\"],[0.5555555555555556,\"#d8576b\"],[0.6666666666666666,\"#ed7953\"],[0.7777777777777778,\"#fb9f3a\"],[0.8888888888888888,\"#fdca26\"],[1.0,\"#f0f921\"]],\"sequentialminus\":[[0.0,\"#0d0887\"],[0.1111111111111111,\"#46039f\"],[0.2222222222222222,\"#7201a8\"],[0.3333333333333333,\"#9c179e\"],[0.4444444444444444,\"#bd3786\"],[0.5555555555555556,\"#d8576b\"],[0.6666666666666666,\"#ed7953\"],[0.7777777777777778,\"#fb9f3a\"],[0.8888888888888888,\"#fdca26\"],[1.0,\"#f0f921\"]],\"diverging\":[[0,\"#8e0152\"],[0.1,\"#c51b7d\"],[0.2,\"#de77ae\"],[0.3,\"#f1b6da\"],[0.4,\"#fde0ef\"],[0.5,\"#f7f7f7\"],[0.6,\"#e6f5d0\"],[0.7,\"#b8e186\"],[0.8,\"#7fbc41\"],[0.9,\"#4d9221\"],[1,\"#276419\"]]},\"xaxis\":{\"gridcolor\":\"white\",\"linecolor\":\"white\",\"ticks\":\"\",\"title\":{\"standoff\":15},\"zerolinecolor\":\"white\",\"automargin\":true,\"zerolinewidth\":2},\"yaxis\":{\"gridcolor\":\"white\",\"linecolor\":\"white\",\"ticks\":\"\",\"title\":{\"standoff\":15},\"zerolinecolor\":\"white\",\"automargin\":true,\"zerolinewidth\":2},\"scene\":{\"xaxis\":{\"backgroundcolor\":\"#E5ECF6\",\"gridcolor\":\"white\",\"linecolor\":\"white\",\"showbackground\":true,\"ticks\":\"\",\"zerolinecolor\":\"white\",\"gridwidth\":2},\"yaxis\":{\"backgroundcolor\":\"#E5ECF6\",\"gridcolor\":\"white\",\"linecolor\":\"white\",\"showbackground\":true,\"ticks\":\"\",\"zerolinecolor\":\"white\",\"gridwidth\":2},\"zaxis\":{\"backgroundcolor\":\"#E5ECF6\",\"gridcolor\":\"white\",\"linecolor\":\"white\",\"showbackground\":true,\"ticks\":\"\",\"zerolinecolor\":\"white\",\"gridwidth\":2}},\"shapedefaults\":{\"line\":{\"color\":\"#2a3f5f\"}},\"annotationdefaults\":{\"arrowcolor\":\"#2a3f5f\",\"arrowhead\":0,\"arrowwidth\":1},\"geo\":{\"bgcolor\":\"white\",\"landcolor\":\"#E5ECF6\",\"subunitcolor\":\"white\",\"showland\":true,\"showlakes\":true,\"lakecolor\":\"white\"},\"title\":{\"x\":0.05},\"mapbox\":{\"style\":\"light\"}}},\"legend\":{\"tracegroupgap\":0},\"margin\":{\"t\":60},\"funnelareacolorway\":[\"red\",\"blue\",\"orange\",\"green\"]},                        {\"responsive\": true}                    ).then(function(){\n",
              "                            \n",
              "var gd = document.getElementById('23ef9b2d-ca14-492a-a7e1-cc9d4b95881c');\n",
              "var x = new MutationObserver(function (mutations, observer) {{\n",
              "        var display = window.getComputedStyle(gd).display;\n",
              "        if (!display || display === 'none') {{\n",
              "            console.log([gd, 'removed!']);\n",
              "            Plotly.purge(gd);\n",
              "            observer.disconnect();\n",
              "        }}\n",
              "}});\n",
              "\n",
              "// Listen for the removal of the full notebook cells\n",
              "var notebookContainer = gd.closest('#notebook-container');\n",
              "if (notebookContainer) {{\n",
              "    x.observe(notebookContainer, {childList: true});\n",
              "}}\n",
              "\n",
              "// Listen for the clearing of the current output cell\n",
              "var outputEl = gd.closest('.output');\n",
              "if (outputEl) {{\n",
              "    x.observe(outputEl, {childList: true});\n",
              "}}\n",
              "\n",
              "                        })                };                            </script>        </div>\n",
              "</body>\n",
              "</html>"
            ]
          },
          "metadata": {},
          "output_type": "display_data"
        }
      ],
      "source": [
        "# fig = go.Figure(go.Funnelarea(\n",
        "#       values = Toan_Hang_df['Values'], text = Toan_Hang_df['State'],\n",
        "#       marker = {\"colors\": [\"deepskyblue\", \"lightsalmon\", \"tan\", \"teal\", \"silver\",\"silver\",\"silver\"],\n",
        "#                 \"line\": {\"color\": [\"wheat\", \"wheat\", \"blue\", \"wheat\", \"wheat\"], \"width\": [0, 1, 5, 0, 4,1,1]}},\n",
        "#       textfont = {\"family\": \"Old Standard TT, serif\", \"size\": 13, \"color\": \"black\"}, opacity = 0.65))\n",
        "\n",
        "\n",
        "\n",
        "import plotly.express as px\n",
        "import pandas as pd\n",
        "\n",
        "# Sample data\n",
        "df = pd.DataFrame(dict(\n",
        "    stage = ['Sent', 'Received', 'Clicks', 'Sales'],\n",
        "    number = [1000, 20, 15, 10]))\n",
        "\n",
        "fig = px.funnel_area(df, names = 'stage', values = 'number',\n",
        "                     color_discrete_sequence = ['red', 'blue', 'orange', 'green'])\n",
        "\n",
        "fig.show() \n"
      ]
    },
    {
      "cell_type": "code",
      "execution_count": null,
      "metadata": {
        "colab": {
          "base_uri": "https://localhost:8080/",
          "height": 542
        },
        "id": "uEzhLThI4zcz",
        "outputId": "750d8dd6-bc61-4fd3-b05d-7182e3149535"
      },
      "outputs": [
        {
          "data": {
            "text/html": [
              "<html>\n",
              "<head><meta charset=\"utf-8\" /></head>\n",
              "<body>\n",
              "    <div>            <script src=\"https://cdnjs.cloudflare.com/ajax/libs/mathjax/2.7.5/MathJax.js?config=TeX-AMS-MML_SVG\"></script><script type=\"text/javascript\">if (window.MathJax && window.MathJax.Hub && window.MathJax.Hub.Config) {window.MathJax.Hub.Config({SVG: {font: \"STIX-Web\"}});}</script>                <script type=\"text/javascript\">window.PlotlyConfig = {MathJaxConfig: 'local'};</script>\n",
              "        <script src=\"https://cdn.plot.ly/plotly-2.18.2.min.js\"></script>                <div id=\"550e10d1-b1e7-4a20-ae17-bde208520ebc\" class=\"plotly-graph-div\" style=\"height:525px; width:100%;\"></div>            <script type=\"text/javascript\">                                    window.PLOTLYENV=window.PLOTLYENV || {};                                    if (document.getElementById(\"550e10d1-b1e7-4a20-ae17-bde208520ebc\")) {                    Plotly.newPlot(                        \"550e10d1-b1e7-4a20-ae17-bde208520ebc\",                        [{\"marker\":{\"color\":[345,25,20,14,12,9,3],\"colorscale\":[[0.0,\"rgb(247,251,255)\"],[0.125,\"rgb(222,235,247)\"],[0.25,\"rgb(198,219,239)\"],[0.375,\"rgb(158,202,225)\"],[0.5,\"rgb(107,174,214)\"],[0.625,\"rgb(66,146,198)\"],[0.75,\"rgb(33,113,181)\"],[0.875,\"rgb(8,81,156)\"],[1.0,\"rgb(8,48,107)\"]]},\"text\":[\"80.6%\",\"5.8%\",\"4.7%\",\"3.3%\",\"2.8%\",\"2.1%\",\"0.7%\"],\"x\":[345,25,20,14,12,9,3],\"y\":[\"\\u0110\\u00e3 g\\u1ecdi\",\"\\u0110\\u00e3 g\\u1eb7p\",\"\\u0110\\u1ecbnh gi\\u00e1\",\"\\u0110\\u00e3 tr\\u00ecnh\",\"\\u0110\\u00e3 ph\\u00ea duy\\u1ec7t\",\"Thu th\\u1eadp h\\u1ed3 s\\u01a1\",\"\\u0110\\u00e3 active h\\u1ea1n m\\u1ee9c\"],\"type\":\"funnel\"}],                        {\"template\":{\"data\":{\"histogram2dcontour\":[{\"type\":\"histogram2dcontour\",\"colorbar\":{\"outlinewidth\":0,\"ticks\":\"\"},\"colorscale\":[[0.0,\"#0d0887\"],[0.1111111111111111,\"#46039f\"],[0.2222222222222222,\"#7201a8\"],[0.3333333333333333,\"#9c179e\"],[0.4444444444444444,\"#bd3786\"],[0.5555555555555556,\"#d8576b\"],[0.6666666666666666,\"#ed7953\"],[0.7777777777777778,\"#fb9f3a\"],[0.8888888888888888,\"#fdca26\"],[1.0,\"#f0f921\"]]}],\"choropleth\":[{\"type\":\"choropleth\",\"colorbar\":{\"outlinewidth\":0,\"ticks\":\"\"}}],\"histogram2d\":[{\"type\":\"histogram2d\",\"colorbar\":{\"outlinewidth\":0,\"ticks\":\"\"},\"colorscale\":[[0.0,\"#0d0887\"],[0.1111111111111111,\"#46039f\"],[0.2222222222222222,\"#7201a8\"],[0.3333333333333333,\"#9c179e\"],[0.4444444444444444,\"#bd3786\"],[0.5555555555555556,\"#d8576b\"],[0.6666666666666666,\"#ed7953\"],[0.7777777777777778,\"#fb9f3a\"],[0.8888888888888888,\"#fdca26\"],[1.0,\"#f0f921\"]]}],\"heatmap\":[{\"type\":\"heatmap\",\"colorbar\":{\"outlinewidth\":0,\"ticks\":\"\"},\"colorscale\":[[0.0,\"#0d0887\"],[0.1111111111111111,\"#46039f\"],[0.2222222222222222,\"#7201a8\"],[0.3333333333333333,\"#9c179e\"],[0.4444444444444444,\"#bd3786\"],[0.5555555555555556,\"#d8576b\"],[0.6666666666666666,\"#ed7953\"],[0.7777777777777778,\"#fb9f3a\"],[0.8888888888888888,\"#fdca26\"],[1.0,\"#f0f921\"]]}],\"heatmapgl\":[{\"type\":\"heatmapgl\",\"colorbar\":{\"outlinewidth\":0,\"ticks\":\"\"},\"colorscale\":[[0.0,\"#0d0887\"],[0.1111111111111111,\"#46039f\"],[0.2222222222222222,\"#7201a8\"],[0.3333333333333333,\"#9c179e\"],[0.4444444444444444,\"#bd3786\"],[0.5555555555555556,\"#d8576b\"],[0.6666666666666666,\"#ed7953\"],[0.7777777777777778,\"#fb9f3a\"],[0.8888888888888888,\"#fdca26\"],[1.0,\"#f0f921\"]]}],\"contourcarpet\":[{\"type\":\"contourcarpet\",\"colorbar\":{\"outlinewidth\":0,\"ticks\":\"\"}}],\"contour\":[{\"type\":\"contour\",\"colorbar\":{\"outlinewidth\":0,\"ticks\":\"\"},\"colorscale\":[[0.0,\"#0d0887\"],[0.1111111111111111,\"#46039f\"],[0.2222222222222222,\"#7201a8\"],[0.3333333333333333,\"#9c179e\"],[0.4444444444444444,\"#bd3786\"],[0.5555555555555556,\"#d8576b\"],[0.6666666666666666,\"#ed7953\"],[0.7777777777777778,\"#fb9f3a\"],[0.8888888888888888,\"#fdca26\"],[1.0,\"#f0f921\"]]}],\"surface\":[{\"type\":\"surface\",\"colorbar\":{\"outlinewidth\":0,\"ticks\":\"\"},\"colorscale\":[[0.0,\"#0d0887\"],[0.1111111111111111,\"#46039f\"],[0.2222222222222222,\"#7201a8\"],[0.3333333333333333,\"#9c179e\"],[0.4444444444444444,\"#bd3786\"],[0.5555555555555556,\"#d8576b\"],[0.6666666666666666,\"#ed7953\"],[0.7777777777777778,\"#fb9f3a\"],[0.8888888888888888,\"#fdca26\"],[1.0,\"#f0f921\"]]}],\"mesh3d\":[{\"type\":\"mesh3d\",\"colorbar\":{\"outlinewidth\":0,\"ticks\":\"\"}}],\"scatter\":[{\"fillpattern\":{\"fillmode\":\"overlay\",\"size\":10,\"solidity\":0.2},\"type\":\"scatter\"}],\"parcoords\":[{\"type\":\"parcoords\",\"line\":{\"colorbar\":{\"outlinewidth\":0,\"ticks\":\"\"}}}],\"scatterpolargl\":[{\"type\":\"scatterpolargl\",\"marker\":{\"colorbar\":{\"outlinewidth\":0,\"ticks\":\"\"}}}],\"bar\":[{\"error_x\":{\"color\":\"#2a3f5f\"},\"error_y\":{\"color\":\"#2a3f5f\"},\"marker\":{\"line\":{\"color\":\"#E5ECF6\",\"width\":0.5},\"pattern\":{\"fillmode\":\"overlay\",\"size\":10,\"solidity\":0.2}},\"type\":\"bar\"}],\"scattergeo\":[{\"type\":\"scattergeo\",\"marker\":{\"colorbar\":{\"outlinewidth\":0,\"ticks\":\"\"}}}],\"scatterpolar\":[{\"type\":\"scatterpolar\",\"marker\":{\"colorbar\":{\"outlinewidth\":0,\"ticks\":\"\"}}}],\"histogram\":[{\"marker\":{\"pattern\":{\"fillmode\":\"overlay\",\"size\":10,\"solidity\":0.2}},\"type\":\"histogram\"}],\"scattergl\":[{\"type\":\"scattergl\",\"marker\":{\"colorbar\":{\"outlinewidth\":0,\"ticks\":\"\"}}}],\"scatter3d\":[{\"type\":\"scatter3d\",\"line\":{\"colorbar\":{\"outlinewidth\":0,\"ticks\":\"\"}},\"marker\":{\"colorbar\":{\"outlinewidth\":0,\"ticks\":\"\"}}}],\"scattermapbox\":[{\"type\":\"scattermapbox\",\"marker\":{\"colorbar\":{\"outlinewidth\":0,\"ticks\":\"\"}}}],\"scatterternary\":[{\"type\":\"scatterternary\",\"marker\":{\"colorbar\":{\"outlinewidth\":0,\"ticks\":\"\"}}}],\"scattercarpet\":[{\"type\":\"scattercarpet\",\"marker\":{\"colorbar\":{\"outlinewidth\":0,\"ticks\":\"\"}}}],\"carpet\":[{\"aaxis\":{\"endlinecolor\":\"#2a3f5f\",\"gridcolor\":\"white\",\"linecolor\":\"white\",\"minorgridcolor\":\"white\",\"startlinecolor\":\"#2a3f5f\"},\"baxis\":{\"endlinecolor\":\"#2a3f5f\",\"gridcolor\":\"white\",\"linecolor\":\"white\",\"minorgridcolor\":\"white\",\"startlinecolor\":\"#2a3f5f\"},\"type\":\"carpet\"}],\"table\":[{\"cells\":{\"fill\":{\"color\":\"#EBF0F8\"},\"line\":{\"color\":\"white\"}},\"header\":{\"fill\":{\"color\":\"#C8D4E3\"},\"line\":{\"color\":\"white\"}},\"type\":\"table\"}],\"barpolar\":[{\"marker\":{\"line\":{\"color\":\"#E5ECF6\",\"width\":0.5},\"pattern\":{\"fillmode\":\"overlay\",\"size\":10,\"solidity\":0.2}},\"type\":\"barpolar\"}],\"pie\":[{\"automargin\":true,\"type\":\"pie\"}]},\"layout\":{\"autotypenumbers\":\"strict\",\"colorway\":[\"#636efa\",\"#EF553B\",\"#00cc96\",\"#ab63fa\",\"#FFA15A\",\"#19d3f3\",\"#FF6692\",\"#B6E880\",\"#FF97FF\",\"#FECB52\"],\"font\":{\"color\":\"#2a3f5f\"},\"hovermode\":\"closest\",\"hoverlabel\":{\"align\":\"left\"},\"paper_bgcolor\":\"white\",\"plot_bgcolor\":\"#E5ECF6\",\"polar\":{\"bgcolor\":\"#E5ECF6\",\"angularaxis\":{\"gridcolor\":\"white\",\"linecolor\":\"white\",\"ticks\":\"\"},\"radialaxis\":{\"gridcolor\":\"white\",\"linecolor\":\"white\",\"ticks\":\"\"}},\"ternary\":{\"bgcolor\":\"#E5ECF6\",\"aaxis\":{\"gridcolor\":\"white\",\"linecolor\":\"white\",\"ticks\":\"\"},\"baxis\":{\"gridcolor\":\"white\",\"linecolor\":\"white\",\"ticks\":\"\"},\"caxis\":{\"gridcolor\":\"white\",\"linecolor\":\"white\",\"ticks\":\"\"}},\"coloraxis\":{\"colorbar\":{\"outlinewidth\":0,\"ticks\":\"\"}},\"colorscale\":{\"sequential\":[[0.0,\"#0d0887\"],[0.1111111111111111,\"#46039f\"],[0.2222222222222222,\"#7201a8\"],[0.3333333333333333,\"#9c179e\"],[0.4444444444444444,\"#bd3786\"],[0.5555555555555556,\"#d8576b\"],[0.6666666666666666,\"#ed7953\"],[0.7777777777777778,\"#fb9f3a\"],[0.8888888888888888,\"#fdca26\"],[1.0,\"#f0f921\"]],\"sequentialminus\":[[0.0,\"#0d0887\"],[0.1111111111111111,\"#46039f\"],[0.2222222222222222,\"#7201a8\"],[0.3333333333333333,\"#9c179e\"],[0.4444444444444444,\"#bd3786\"],[0.5555555555555556,\"#d8576b\"],[0.6666666666666666,\"#ed7953\"],[0.7777777777777778,\"#fb9f3a\"],[0.8888888888888888,\"#fdca26\"],[1.0,\"#f0f921\"]],\"diverging\":[[0,\"#8e0152\"],[0.1,\"#c51b7d\"],[0.2,\"#de77ae\"],[0.3,\"#f1b6da\"],[0.4,\"#fde0ef\"],[0.5,\"#f7f7f7\"],[0.6,\"#e6f5d0\"],[0.7,\"#b8e186\"],[0.8,\"#7fbc41\"],[0.9,\"#4d9221\"],[1,\"#276419\"]]},\"xaxis\":{\"gridcolor\":\"white\",\"linecolor\":\"white\",\"ticks\":\"\",\"title\":{\"standoff\":15},\"zerolinecolor\":\"white\",\"automargin\":true,\"zerolinewidth\":2},\"yaxis\":{\"gridcolor\":\"white\",\"linecolor\":\"white\",\"ticks\":\"\",\"title\":{\"standoff\":15},\"zerolinecolor\":\"white\",\"automargin\":true,\"zerolinewidth\":2},\"scene\":{\"xaxis\":{\"backgroundcolor\":\"#E5ECF6\",\"gridcolor\":\"white\",\"linecolor\":\"white\",\"showbackground\":true,\"ticks\":\"\",\"zerolinecolor\":\"white\",\"gridwidth\":2},\"yaxis\":{\"backgroundcolor\":\"#E5ECF6\",\"gridcolor\":\"white\",\"linecolor\":\"white\",\"showbackground\":true,\"ticks\":\"\",\"zerolinecolor\":\"white\",\"gridwidth\":2},\"zaxis\":{\"backgroundcolor\":\"#E5ECF6\",\"gridcolor\":\"white\",\"linecolor\":\"white\",\"showbackground\":true,\"ticks\":\"\",\"zerolinecolor\":\"white\",\"gridwidth\":2}},\"shapedefaults\":{\"line\":{\"color\":\"#2a3f5f\"}},\"annotationdefaults\":{\"arrowcolor\":\"#2a3f5f\",\"arrowhead\":0,\"arrowwidth\":1},\"geo\":{\"bgcolor\":\"white\",\"landcolor\":\"#E5ECF6\",\"subunitcolor\":\"white\",\"showland\":true,\"showlakes\":true,\"lakecolor\":\"white\"},\"title\":{\"x\":0.05},\"mapbox\":{\"style\":\"light\"}}},\"title\":{\"text\":\"Qu\\u00e1 tr\\u00ecnh x\\u1eed l\\u00fd \\u0111\\u01a1n h\\u00e0ng\",\"font\":{\"size\":28,\"family\":\"Arial\"},\"x\":0.5,\"y\":0.9},\"font\":{\"family\":\"Arial\",\"size\":18,\"color\":\"#7f7f7f\"},\"annotations\":[{\"font\":{\"color\":\"black\",\"family\":\"Arial\",\"size\":20},\"showarrow\":false,\"text\":\"T\\u1ed5ng gi\\u00e1 tr\\u1ecb: 428\",\"x\":0.5,\"xref\":\"paper\",\"y\":1.1,\"yref\":\"paper\"}]},                        {\"responsive\": true}                    ).then(function(){\n",
              "                            \n",
              "var gd = document.getElementById('550e10d1-b1e7-4a20-ae17-bde208520ebc');\n",
              "var x = new MutationObserver(function (mutations, observer) {{\n",
              "        var display = window.getComputedStyle(gd).display;\n",
              "        if (!display || display === 'none') {{\n",
              "            console.log([gd, 'removed!']);\n",
              "            Plotly.purge(gd);\n",
              "            observer.disconnect();\n",
              "        }}\n",
              "}});\n",
              "\n",
              "// Listen for the removal of the full notebook cells\n",
              "var notebookContainer = gd.closest('#notebook-container');\n",
              "if (notebookContainer) {{\n",
              "    x.observe(notebookContainer, {childList: true});\n",
              "}}\n",
              "\n",
              "// Listen for the clearing of the current output cell\n",
              "var outputEl = gd.closest('.output');\n",
              "if (outputEl) {{\n",
              "    x.observe(outputEl, {childList: true});\n",
              "}}\n",
              "\n",
              "                        })                };                            </script>        </div>\n",
              "</body>\n",
              "</html>"
            ]
          },
          "metadata": {},
          "output_type": "display_data"
        }
      ],
      "source": [
        "import pandas as pd\n",
        "import plotly.graph_objects as go\n",
        "\n",
        "data = {'State': ['Đã gọi', 'Đã gặp', 'Thu thập hồ sơ', 'Định giá', 'Đã trình', 'Đã phê duyệt', 'Đã active hạn mức'],\n",
        "        'Values': [345, 25, 9, 20, 14, 12, 3]}\n",
        "df = pd.DataFrame(data)\n",
        "\n",
        "df = df.sort_values(by=['Values'], ascending=False)\n",
        "\n",
        "# Tính tổng giá trị của toàn bộ quá trình\n",
        "total_value = df['Values'].sum()\n",
        "\n",
        "# Thêm cột Percentages tính phần trăm của giá trị từng bước\n",
        "df['Percentages'] = df['Values'] / total_value * 100\n",
        "\n",
        "# Biểu đồ funnel\n",
        "fig = go.Figure(go.Funnel(\n",
        "    y=df['State'],\n",
        "    x=df['Values'],\n",
        "    text=df['Percentages'].apply(lambda x: f'{x:.1f}%'),\n",
        "    marker={'color': df['Values'], 'colorscale': 'blues'},\n",
        "    # textinfo='text',\n",
        "    # opacity=0.8,\n",
        "    # width=800,\n",
        "    # height=600,\n",
        "))\n",
        "\n",
        "# Thêm title và subtitle\n",
        "fig.update_layout(\n",
        "    title='Quá trình xử lý đơn hàng',\n",
        "    title_font_size=28,\n",
        "    title_font_family='Arial',\n",
        "    title_x=0.5,\n",
        "    title_y=0.9,\n",
        "    font=dict(\n",
        "        family='Arial',\n",
        "        size=18,\n",
        "        color='#7f7f7f'\n",
        "    ),\n",
        "    annotations=[dict(\n",
        "        x=0.5,\n",
        "        y=1.1,\n",
        "        xref='paper',\n",
        "        yref='paper',\n",
        "        text=f'Tổng giá trị: {total_value}',\n",
        "        showarrow=False,\n",
        "        font=dict(\n",
        "            family='Arial',\n",
        "            size=20,\n",
        "            color='black'\n",
        "        )\n",
        "    )]\n",
        ")\n",
        "\n",
        "fig.show()"
      ]
    },
    {
      "cell_type": "code",
      "execution_count": null,
      "metadata": {
        "colab": {
          "base_uri": "https://localhost:8080/",
          "height": 269
        },
        "id": "mp_fclBK5JsV",
        "outputId": "daa2e9ae-d913-4342-840d-0c3d85641685"
      },
      "outputs": [
        {
          "data": {
            "text/html": [
              "\n",
              "  <div id=\"df-35a87a49-2dc4-44dd-9481-2b6f6905ee47\">\n",
              "    <div class=\"colab-df-container\">\n",
              "      <div>\n",
              "<style scoped>\n",
              "    .dataframe tbody tr th:only-of-type {\n",
              "        vertical-align: middle;\n",
              "    }\n",
              "\n",
              "    .dataframe tbody tr th {\n",
              "        vertical-align: top;\n",
              "    }\n",
              "\n",
              "    .dataframe thead th {\n",
              "        text-align: right;\n",
              "    }\n",
              "</style>\n",
              "<table border=\"1\" class=\"dataframe\">\n",
              "  <thead>\n",
              "    <tr style=\"text-align: right;\">\n",
              "      <th></th>\n",
              "      <th>State</th>\n",
              "      <th>Values</th>\n",
              "    </tr>\n",
              "  </thead>\n",
              "  <tbody>\n",
              "    <tr>\n",
              "      <th>0</th>\n",
              "      <td>Đã gọi</td>\n",
              "      <td>345</td>\n",
              "    </tr>\n",
              "    <tr>\n",
              "      <th>1</th>\n",
              "      <td>Đã gặp</td>\n",
              "      <td>25</td>\n",
              "    </tr>\n",
              "    <tr>\n",
              "      <th>3</th>\n",
              "      <td>Định giá</td>\n",
              "      <td>20</td>\n",
              "    </tr>\n",
              "    <tr>\n",
              "      <th>4</th>\n",
              "      <td>Đã trình</td>\n",
              "      <td>14</td>\n",
              "    </tr>\n",
              "    <tr>\n",
              "      <th>5</th>\n",
              "      <td>Đã phê duyệt</td>\n",
              "      <td>12</td>\n",
              "    </tr>\n",
              "    <tr>\n",
              "      <th>2</th>\n",
              "      <td>Thu thập hồ sơ</td>\n",
              "      <td>9</td>\n",
              "    </tr>\n",
              "    <tr>\n",
              "      <th>6</th>\n",
              "      <td>Đã active hạn mức</td>\n",
              "      <td>3</td>\n",
              "    </tr>\n",
              "  </tbody>\n",
              "</table>\n",
              "</div>\n",
              "      <button class=\"colab-df-convert\" onclick=\"convertToInteractive('df-35a87a49-2dc4-44dd-9481-2b6f6905ee47')\"\n",
              "              title=\"Convert this dataframe to an interactive table.\"\n",
              "              style=\"display:none;\">\n",
              "        \n",
              "  <svg xmlns=\"http://www.w3.org/2000/svg\" height=\"24px\"viewBox=\"0 0 24 24\"\n",
              "       width=\"24px\">\n",
              "    <path d=\"M0 0h24v24H0V0z\" fill=\"none\"/>\n",
              "    <path d=\"M18.56 5.44l.94 2.06.94-2.06 2.06-.94-2.06-.94-.94-2.06-.94 2.06-2.06.94zm-11 1L8.5 8.5l.94-2.06 2.06-.94-2.06-.94L8.5 2.5l-.94 2.06-2.06.94zm10 10l.94 2.06.94-2.06 2.06-.94-2.06-.94-.94-2.06-.94 2.06-2.06.94z\"/><path d=\"M17.41 7.96l-1.37-1.37c-.4-.4-.92-.59-1.43-.59-.52 0-1.04.2-1.43.59L10.3 9.45l-7.72 7.72c-.78.78-.78 2.05 0 2.83L4 21.41c.39.39.9.59 1.41.59.51 0 1.02-.2 1.41-.59l7.78-7.78 2.81-2.81c.8-.78.8-2.07 0-2.86zM5.41 20L4 18.59l7.72-7.72 1.47 1.35L5.41 20z\"/>\n",
              "  </svg>\n",
              "      </button>\n",
              "      \n",
              "  <style>\n",
              "    .colab-df-container {\n",
              "      display:flex;\n",
              "      flex-wrap:wrap;\n",
              "      gap: 12px;\n",
              "    }\n",
              "\n",
              "    .colab-df-convert {\n",
              "      background-color: #E8F0FE;\n",
              "      border: none;\n",
              "      border-radius: 50%;\n",
              "      cursor: pointer;\n",
              "      display: none;\n",
              "      fill: #1967D2;\n",
              "      height: 32px;\n",
              "      padding: 0 0 0 0;\n",
              "      width: 32px;\n",
              "    }\n",
              "\n",
              "    .colab-df-convert:hover {\n",
              "      background-color: #E2EBFA;\n",
              "      box-shadow: 0px 1px 2px rgba(60, 64, 67, 0.3), 0px 1px 3px 1px rgba(60, 64, 67, 0.15);\n",
              "      fill: #174EA6;\n",
              "    }\n",
              "\n",
              "    [theme=dark] .colab-df-convert {\n",
              "      background-color: #3B4455;\n",
              "      fill: #D2E3FC;\n",
              "    }\n",
              "\n",
              "    [theme=dark] .colab-df-convert:hover {\n",
              "      background-color: #434B5C;\n",
              "      box-shadow: 0px 1px 3px 1px rgba(0, 0, 0, 0.15);\n",
              "      filter: drop-shadow(0px 1px 2px rgba(0, 0, 0, 0.3));\n",
              "      fill: #FFFFFF;\n",
              "    }\n",
              "  </style>\n",
              "\n",
              "      <script>\n",
              "        const buttonEl =\n",
              "          document.querySelector('#df-35a87a49-2dc4-44dd-9481-2b6f6905ee47 button.colab-df-convert');\n",
              "        buttonEl.style.display =\n",
              "          google.colab.kernel.accessAllowed ? 'block' : 'none';\n",
              "\n",
              "        async function convertToInteractive(key) {\n",
              "          const element = document.querySelector('#df-35a87a49-2dc4-44dd-9481-2b6f6905ee47');\n",
              "          const dataTable =\n",
              "            await google.colab.kernel.invokeFunction('convertToInteractive',\n",
              "                                                     [key], {});\n",
              "          if (!dataTable) return;\n",
              "\n",
              "          const docLinkHtml = 'Like what you see? Visit the ' +\n",
              "            '<a target=\"_blank\" href=https://colab.research.google.com/notebooks/data_table.ipynb>data table notebook</a>'\n",
              "            + ' to learn more about interactive tables.';\n",
              "          element.innerHTML = '';\n",
              "          dataTable['output_type'] = 'display_data';\n",
              "          await google.colab.output.renderOutput(dataTable, element);\n",
              "          const docLink = document.createElement('div');\n",
              "          docLink.innerHTML = docLinkHtml;\n",
              "          element.appendChild(docLink);\n",
              "        }\n",
              "      </script>\n",
              "    </div>\n",
              "  </div>\n",
              "  "
            ],
            "text/plain": [
              "               State  Values\n",
              "0             Đã gọi     345\n",
              "1             Đã gặp      25\n",
              "3           Định giá      20\n",
              "4           Đã trình      14\n",
              "5       Đã phê duyệt      12\n",
              "2     Thu thập hồ sơ       9\n",
              "6  Đã active hạn mức       3"
            ]
          },
          "execution_count": 61,
          "metadata": {},
          "output_type": "execute_result"
        }
      ],
      "source": [
        "df = df.sort_values(by = ['Values'],ascending  = False)\n",
        "df"
      ]
    }
  ],
  "metadata": {
    "colab": {
      "collapsed_sections": [
        "GjwhiTm-NJdX",
        "hywLSGa04bb5"
      ],
      "provenance": []
    },
    "kernelspec": {
      "display_name": "Python 3",
      "name": "python3"
    },
    "language_info": {
      "codemirror_mode": {
        "name": "ipython",
        "version": 3
      },
      "file_extension": ".py",
      "mimetype": "text/x-python",
      "name": "python",
      "nbconvert_exporter": "python",
      "pygments_lexer": "ipython3",
      "version": "3.10.6"
    }
  },
  "nbformat": 4,
  "nbformat_minor": 0
}
