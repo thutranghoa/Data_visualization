{
 "cells": [
  {
   "cell_type": "code",
   "execution_count": 41,
   "metadata": {},
   "outputs": [],
   "source": [
    "import pandas as pd\n",
    "import plotly.graph_objects as go\n",
    "import plotly.express as px\n",
    "# from jupyter_dash import JupyterDash\n",
    "import dash_core_components as dcc\n",
    "import dash_html_components as html\n",
    "from dash.dependencies import Input, Output\n",
    "import numpy as np"
   ]
  },
  {
   "cell_type": "code",
   "execution_count": 42,
   "metadata": {},
   "outputs": [],
   "source": [
    "path = 'Hoạt động bán hàng All RM Tháng 3 theo tuần.xlsx'"
   ]
  },
  {
   "cell_type": "code",
   "execution_count": 43,
   "metadata": {},
   "outputs": [],
   "source": [
    "def get_data(path):\n",
    "  sheets = pd.ExcelFile(path)\n",
    "  toan_quoc = []\n",
    "  hubs = []\n",
    "  fields = ['Hub', 'Đã Gọi','Đã Gặp', 'Thu Thập Hồ Sơ', \n",
    "          'Định Giá', 'Đã Trình', 'Đã Phê Duyệt','Đã Active Hạn Mức']\n",
    "  for sheet_name in sheets.sheet_names:\n",
    "    sheet = sheets.parse(sheet_name)\n",
    "    sheet.columns = [x.strip().title() for x in sheet.columns]\n",
    "    toan_quoc.append(sheet[sheet['Rm Name'].str.startswith('0.')].loc[:,fields[1:]])\n",
    "    hubs_sheet = sheet[sheet['Rm Name'].str.startswith('1.')].sort_values(by=['Đã Active Hạn Mức'], ascending=False).loc[:,fields]\n",
    "    hubs.append(hubs_sheet)\n",
    "    # hubs.append(hubs_sheet.loc[(hubs_sheet[fields[1:]]!=0).any(axis=1)])\n",
    "  hub_names = hubs[0].sort_values(by=['Hub']).Hub.values.tolist()\n",
    "  return toan_quoc, hubs, sheets.sheet_names, hub_names"
   ]
  },
  {
   "cell_type": "code",
   "execution_count": 44,
   "metadata": {},
   "outputs": [],
   "source": [
    "toan_quoc, hubs, weeks, hub_names= get_data(path)\n",
    "\n"
   ]
  },
  {
   "cell_type": "code",
   "execution_count": 45,
   "metadata": {},
   "outputs": [
    {
     "data": {
      "text/plain": [
       "['Tuần 27.02-05.03',\n",
       " 'Tuần 06.03-12.03',\n",
       " 'Tuần 13.03-19.03',\n",
       " 'Tuần 20.03-26.03',\n",
       " 'Tuần 27.03-01.04']"
      ]
     },
     "execution_count": 45,
     "metadata": {},
     "output_type": "execute_result"
    }
   ],
   "source": [
    "weeks"
   ]
  },
  {
   "cell_type": "code",
   "execution_count": 46,
   "metadata": {},
   "outputs": [],
   "source": [
    "df = pd.read_excel('Hoạt động bán hàng All RM Tháng 3 theo tuần.xlsx',\n",
    "                   sheet_name= [0,1,2,3,4])\n",
    "\n",
    "\n",
    "df_week1 = df[0]\n",
    "df_week2 = df[1]\n",
    "df_week3 = df[2]\n",
    "df_week4 = df[3]\n",
    "df_week5 = df[4]\n",
    "\n",
    "df_filter_w1 = df_week1.loc[(df_week1['Hub'] == '0.Toàn hàng')]\n",
    "df_filter_w2 = df_week2.loc[(df_week2['Hub'] == '0.Toàn hàng')]\n",
    "df_filter_w3 = df_week3.loc[(df_week3['Hub'] == '0.Toàn hàng')]\n",
    "df_filter_w4 = df_week4.loc[(df_week4['Hub'] == '0.Toàn hàng')]\n",
    "df_filter_w5 = df_week5.loc[(df_week5['Hub'] == '0.Toàn hàng')]"
   ]
  },
  {
   "cell_type": "code",
   "execution_count": 47,
   "metadata": {},
   "outputs": [],
   "source": [
    "df = pd.concat([df_filter_w1,df_filter_w2,df_filter_w3,df_filter_w4,df_filter_w5])\n",
    "df.to_csv('test.csv')"
   ]
  },
  {
   "cell_type": "code",
   "execution_count": 48,
   "metadata": {},
   "outputs": [
    {
     "data": {
      "text/html": [
       "<div>\n",
       "<style scoped>\n",
       "    .dataframe tbody tr th:only-of-type {\n",
       "        vertical-align: middle;\n",
       "    }\n",
       "\n",
       "    .dataframe tbody tr th {\n",
       "        vertical-align: top;\n",
       "    }\n",
       "\n",
       "    .dataframe thead th {\n",
       "        text-align: right;\n",
       "    }\n",
       "</style>\n",
       "<table border=\"1\" class=\"dataframe\">\n",
       "  <thead>\n",
       "    <tr style=\"text-align: right;\">\n",
       "      <th></th>\n",
       "      <th>month</th>\n",
       "      <th>week</th>\n",
       "      <th>value</th>\n",
       "    </tr>\n",
       "  </thead>\n",
       "  <tbody>\n",
       "    <tr>\n",
       "      <th>0</th>\n",
       "      <td>Tỉ lệ gặp/gọi</td>\n",
       "      <td>Tuần 27.02-05.03</td>\n",
       "      <td>18.156121</td>\n",
       "    </tr>\n",
       "    <tr>\n",
       "      <th>1</th>\n",
       "      <td>Tỉ lệ gặp/gọi</td>\n",
       "      <td>Tuần 06.03-12.03</td>\n",
       "      <td>15.013966</td>\n",
       "    </tr>\n",
       "    <tr>\n",
       "      <th>2</th>\n",
       "      <td>Tỉ lệ gặp/gọi</td>\n",
       "      <td>Tuần 13.03-19.03</td>\n",
       "      <td>14.257028</td>\n",
       "    </tr>\n",
       "    <tr>\n",
       "      <th>3</th>\n",
       "      <td>Tỉ lệ gặp/gọi</td>\n",
       "      <td>Tuần 20.03-26.03</td>\n",
       "      <td>17.127371</td>\n",
       "    </tr>\n",
       "    <tr>\n",
       "      <th>4</th>\n",
       "      <td>Tỉ lệ gặp/gọi</td>\n",
       "      <td>Tuần 27.03-01.04</td>\n",
       "      <td>20.009943</td>\n",
       "    </tr>\n",
       "    <tr>\n",
       "      <th>5</th>\n",
       "      <td>Tỉ lệ thu hồ sơ/gặp</td>\n",
       "      <td>Tuần 27.02-05.03</td>\n",
       "      <td>16.407186</td>\n",
       "    </tr>\n",
       "    <tr>\n",
       "      <th>6</th>\n",
       "      <td>Tỉ lệ thu hồ sơ/gặp</td>\n",
       "      <td>Tuần 06.03-12.03</td>\n",
       "      <td>15.658915</td>\n",
       "    </tr>\n",
       "    <tr>\n",
       "      <th>7</th>\n",
       "      <td>Tỉ lệ thu hồ sơ/gặp</td>\n",
       "      <td>Tuần 13.03-19.03</td>\n",
       "      <td>20.031299</td>\n",
       "    </tr>\n",
       "    <tr>\n",
       "      <th>8</th>\n",
       "      <td>Tỉ lệ thu hồ sơ/gặp</td>\n",
       "      <td>Tuần 20.03-26.03</td>\n",
       "      <td>20.569620</td>\n",
       "    </tr>\n",
       "    <tr>\n",
       "      <th>9</th>\n",
       "      <td>Tỉ lệ thu hồ sơ/gặp</td>\n",
       "      <td>Tuần 27.03-01.04</td>\n",
       "      <td>15.279503</td>\n",
       "    </tr>\n",
       "    <tr>\n",
       "      <th>10</th>\n",
       "      <td>Tỉ lệ định giá/thu hồ sơ</td>\n",
       "      <td>Tuần 27.02-05.03</td>\n",
       "      <td>102.189781</td>\n",
       "    </tr>\n",
       "    <tr>\n",
       "      <th>11</th>\n",
       "      <td>Tỉ lệ định giá/thu hồ sơ</td>\n",
       "      <td>Tuần 06.03-12.03</td>\n",
       "      <td>127.722772</td>\n",
       "    </tr>\n",
       "    <tr>\n",
       "      <th>12</th>\n",
       "      <td>Tỉ lệ định giá/thu hồ sơ</td>\n",
       "      <td>Tuần 13.03-19.03</td>\n",
       "      <td>101.562500</td>\n",
       "    </tr>\n",
       "    <tr>\n",
       "      <th>13</th>\n",
       "      <td>Tỉ lệ định giá/thu hồ sơ</td>\n",
       "      <td>Tuần 20.03-26.03</td>\n",
       "      <td>106.153846</td>\n",
       "    </tr>\n",
       "    <tr>\n",
       "      <th>14</th>\n",
       "      <td>Tỉ lệ định giá/thu hồ sơ</td>\n",
       "      <td>Tuần 27.03-01.04</td>\n",
       "      <td>113.008130</td>\n",
       "    </tr>\n",
       "    <tr>\n",
       "      <th>15</th>\n",
       "      <td>Tỉ lệ đã trình/định giá</td>\n",
       "      <td>Tuần 27.02-05.03</td>\n",
       "      <td>100.000000</td>\n",
       "    </tr>\n",
       "    <tr>\n",
       "      <th>16</th>\n",
       "      <td>Tỉ lệ đã trình/định giá</td>\n",
       "      <td>Tuần 06.03-12.03</td>\n",
       "      <td>86.046512</td>\n",
       "    </tr>\n",
       "    <tr>\n",
       "      <th>17</th>\n",
       "      <td>Tỉ lệ đã trình/định giá</td>\n",
       "      <td>Tuần 13.03-19.03</td>\n",
       "      <td>96.153846</td>\n",
       "    </tr>\n",
       "    <tr>\n",
       "      <th>18</th>\n",
       "      <td>Tỉ lệ đã trình/định giá</td>\n",
       "      <td>Tuần 20.03-26.03</td>\n",
       "      <td>100.724638</td>\n",
       "    </tr>\n",
       "    <tr>\n",
       "      <th>19</th>\n",
       "      <td>Tỉ lệ đã trình/định giá</td>\n",
       "      <td>Tuần 27.03-01.04</td>\n",
       "      <td>96.402878</td>\n",
       "    </tr>\n",
       "    <tr>\n",
       "      <th>20</th>\n",
       "      <td>Tỉ lệ phê duyệt/đã trình</td>\n",
       "      <td>Tuần 27.02-05.03</td>\n",
       "      <td>64.285714</td>\n",
       "    </tr>\n",
       "    <tr>\n",
       "      <th>21</th>\n",
       "      <td>Tỉ lệ phê duyệt/đã trình</td>\n",
       "      <td>Tuần 06.03-12.03</td>\n",
       "      <td>69.369369</td>\n",
       "    </tr>\n",
       "    <tr>\n",
       "      <th>22</th>\n",
       "      <td>Tỉ lệ phê duyệt/đã trình</td>\n",
       "      <td>Tuần 13.03-19.03</td>\n",
       "      <td>64.800000</td>\n",
       "    </tr>\n",
       "    <tr>\n",
       "      <th>23</th>\n",
       "      <td>Tỉ lệ phê duyệt/đã trình</td>\n",
       "      <td>Tuần 20.03-26.03</td>\n",
       "      <td>69.064748</td>\n",
       "    </tr>\n",
       "    <tr>\n",
       "      <th>24</th>\n",
       "      <td>Tỉ lệ phê duyệt/đã trình</td>\n",
       "      <td>Tuần 27.03-01.04</td>\n",
       "      <td>97.014925</td>\n",
       "    </tr>\n",
       "    <tr>\n",
       "      <th>25</th>\n",
       "      <td>Tỉ lệ đã active/phê duyệt</td>\n",
       "      <td>Tuần 27.02-05.03</td>\n",
       "      <td>65.555556</td>\n",
       "    </tr>\n",
       "    <tr>\n",
       "      <th>26</th>\n",
       "      <td>Tỉ lệ đã active/phê duyệt</td>\n",
       "      <td>Tuần 06.03-12.03</td>\n",
       "      <td>75.324675</td>\n",
       "    </tr>\n",
       "    <tr>\n",
       "      <th>27</th>\n",
       "      <td>Tỉ lệ đã active/phê duyệt</td>\n",
       "      <td>Tuần 13.03-19.03</td>\n",
       "      <td>76.543210</td>\n",
       "    </tr>\n",
       "    <tr>\n",
       "      <th>28</th>\n",
       "      <td>Tỉ lệ đã active/phê duyệt</td>\n",
       "      <td>Tuần 20.03-26.03</td>\n",
       "      <td>64.583333</td>\n",
       "    </tr>\n",
       "    <tr>\n",
       "      <th>29</th>\n",
       "      <td>Tỉ lệ đã active/phê duyệt</td>\n",
       "      <td>Tuần 27.03-01.04</td>\n",
       "      <td>64.615385</td>\n",
       "    </tr>\n",
       "  </tbody>\n",
       "</table>\n",
       "</div>"
      ],
      "text/plain": [
       "                        month              week       value\n",
       "0               Tỉ lệ gặp/gọi  Tuần 27.02-05.03   18.156121\n",
       "1               Tỉ lệ gặp/gọi  Tuần 06.03-12.03   15.013966\n",
       "2               Tỉ lệ gặp/gọi  Tuần 13.03-19.03   14.257028\n",
       "3               Tỉ lệ gặp/gọi  Tuần 20.03-26.03   17.127371\n",
       "4               Tỉ lệ gặp/gọi  Tuần 27.03-01.04   20.009943\n",
       "5         Tỉ lệ thu hồ sơ/gặp  Tuần 27.02-05.03   16.407186\n",
       "6         Tỉ lệ thu hồ sơ/gặp  Tuần 06.03-12.03   15.658915\n",
       "7         Tỉ lệ thu hồ sơ/gặp  Tuần 13.03-19.03   20.031299\n",
       "8         Tỉ lệ thu hồ sơ/gặp  Tuần 20.03-26.03   20.569620\n",
       "9         Tỉ lệ thu hồ sơ/gặp  Tuần 27.03-01.04   15.279503\n",
       "10   Tỉ lệ định giá/thu hồ sơ  Tuần 27.02-05.03  102.189781\n",
       "11   Tỉ lệ định giá/thu hồ sơ  Tuần 06.03-12.03  127.722772\n",
       "12   Tỉ lệ định giá/thu hồ sơ  Tuần 13.03-19.03  101.562500\n",
       "13   Tỉ lệ định giá/thu hồ sơ  Tuần 20.03-26.03  106.153846\n",
       "14   Tỉ lệ định giá/thu hồ sơ  Tuần 27.03-01.04  113.008130\n",
       "15    Tỉ lệ đã trình/định giá  Tuần 27.02-05.03  100.000000\n",
       "16    Tỉ lệ đã trình/định giá  Tuần 06.03-12.03   86.046512\n",
       "17    Tỉ lệ đã trình/định giá  Tuần 13.03-19.03   96.153846\n",
       "18    Tỉ lệ đã trình/định giá  Tuần 20.03-26.03  100.724638\n",
       "19    Tỉ lệ đã trình/định giá  Tuần 27.03-01.04   96.402878\n",
       "20   Tỉ lệ phê duyệt/đã trình  Tuần 27.02-05.03   64.285714\n",
       "21   Tỉ lệ phê duyệt/đã trình  Tuần 06.03-12.03   69.369369\n",
       "22   Tỉ lệ phê duyệt/đã trình  Tuần 13.03-19.03   64.800000\n",
       "23   Tỉ lệ phê duyệt/đã trình  Tuần 20.03-26.03   69.064748\n",
       "24   Tỉ lệ phê duyệt/đã trình  Tuần 27.03-01.04   97.014925\n",
       "25  Tỉ lệ đã active/phê duyệt  Tuần 27.02-05.03   65.555556\n",
       "26  Tỉ lệ đã active/phê duyệt  Tuần 06.03-12.03   75.324675\n",
       "27  Tỉ lệ đã active/phê duyệt  Tuần 13.03-19.03   76.543210\n",
       "28  Tỉ lệ đã active/phê duyệt  Tuần 20.03-26.03   64.583333\n",
       "29  Tỉ lệ đã active/phê duyệt  Tuần 27.03-01.04   64.615385"
      ]
     },
     "execution_count": 48,
     "metadata": {},
     "output_type": "execute_result"
    }
   ],
   "source": [
    "df = pd.read_csv('a.csv')\n",
    "df"
   ]
  },
  {
   "cell_type": "code",
   "execution_count": 49,
   "metadata": {},
   "outputs": [
    {
     "data": {
      "application/vnd.plotly.v1+json": {
       "config": {
        "plotlyServerURL": "https://plotly.com"
       },
       "data": [
        {
         "branchvalues": "total",
         "customdata": [
          [
           15.0139664804469
          ],
          [
           69.3693693693694
          ],
          [
           15.6589147286822
          ],
          [
           75.3246753246753
          ],
          [
           86.046511627907
          ],
          [
           127.722772277228
          ],
          [
           14.2570281124498
          ],
          [
           64.8
          ],
          [
           20.0312989045383
          ],
          [
           76.5432098765432
          ],
          [
           96.1538461538462
          ],
          [
           101.5625
          ],
          [
           17.1273712737127
          ],
          [
           69.0647482014388
          ],
          [
           20.5696202531646
          ],
          [
           64.5833333333333
          ],
          [
           100.724637681159
          ],
          [
           106.153846153846
          ],
          [
           18.1561208958469
          ],
          [
           64.2857142857143
          ],
          [
           16.4071856287425
          ],
          [
           65.5555555555556
          ],
          [
           100
          ],
          [
           102.189781021898
          ],
          [
           20.0099428287348
          ],
          [
           97.0149253731343
          ],
          [
           15.2795031055901
          ],
          [
           64.6153846153846
          ],
          [
           96.40287769784169
          ],
          [
           113.00813008130102
          ],
          [
           17.17118452564917
          ],
          [
           74.96030794121592
          ],
          [
           17.8770317711445
          ],
          [
           69.74844170060639
          ],
          [
           96.15241328241716
          ],
          [
           110.98105021950238
          ]
         ],
         "domain": {
          "x": [
           0,
           1
          ],
          "y": [
           0,
           1
          ]
         },
         "hovertemplate": "labels=%{label}<br>value_sum=%{value}<br>parent=%{parent}<br>id=%{id}<br>value=%{color}<extra></extra>",
         "ids": [
          "Tỉ lệ gặp/gọi/Tuần 06.03-12.03",
          "Tỉ lệ phê duyệt/đã trình/Tuần 06.03-12.03",
          "Tỉ lệ thu hồ sơ/gặp/Tuần 06.03-12.03",
          "Tỉ lệ đã active/phê duyệt/Tuần 06.03-12.03",
          "Tỉ lệ đã trình/định giá/Tuần 06.03-12.03",
          "Tỉ lệ định giá/thu hồ sơ/Tuần 06.03-12.03",
          "Tỉ lệ gặp/gọi/Tuần 13.03-19.03",
          "Tỉ lệ phê duyệt/đã trình/Tuần 13.03-19.03",
          "Tỉ lệ thu hồ sơ/gặp/Tuần 13.03-19.03",
          "Tỉ lệ đã active/phê duyệt/Tuần 13.03-19.03",
          "Tỉ lệ đã trình/định giá/Tuần 13.03-19.03",
          "Tỉ lệ định giá/thu hồ sơ/Tuần 13.03-19.03",
          "Tỉ lệ gặp/gọi/Tuần 20.03-26.03",
          "Tỉ lệ phê duyệt/đã trình/Tuần 20.03-26.03",
          "Tỉ lệ thu hồ sơ/gặp/Tuần 20.03-26.03",
          "Tỉ lệ đã active/phê duyệt/Tuần 20.03-26.03",
          "Tỉ lệ đã trình/định giá/Tuần 20.03-26.03",
          "Tỉ lệ định giá/thu hồ sơ/Tuần 20.03-26.03",
          "Tỉ lệ gặp/gọi/Tuần 27.02-05.03",
          "Tỉ lệ phê duyệt/đã trình/Tuần 27.02-05.03",
          "Tỉ lệ thu hồ sơ/gặp/Tuần 27.02-05.03",
          "Tỉ lệ đã active/phê duyệt/Tuần 27.02-05.03",
          "Tỉ lệ đã trình/định giá/Tuần 27.02-05.03",
          "Tỉ lệ định giá/thu hồ sơ/Tuần 27.02-05.03",
          "Tỉ lệ gặp/gọi/Tuần 27.03-01.04",
          "Tỉ lệ phê duyệt/đã trình/Tuần 27.03-01.04",
          "Tỉ lệ thu hồ sơ/gặp/Tuần 27.03-01.04",
          "Tỉ lệ đã active/phê duyệt/Tuần 27.03-01.04",
          "Tỉ lệ đã trình/định giá/Tuần 27.03-01.04",
          "Tỉ lệ định giá/thu hồ sơ/Tuần 27.03-01.04",
          "Tỉ lệ gặp/gọi",
          "Tỉ lệ phê duyệt/đã trình",
          "Tỉ lệ thu hồ sơ/gặp",
          "Tỉ lệ đã active/phê duyệt",
          "Tỉ lệ đã trình/định giá",
          "Tỉ lệ định giá/thu hồ sơ"
         ],
         "labels": [
          "Tuần 06.03-12.03",
          "Tuần 06.03-12.03",
          "Tuần 06.03-12.03",
          "Tuần 06.03-12.03",
          "Tuần 06.03-12.03",
          "Tuần 06.03-12.03",
          "Tuần 13.03-19.03",
          "Tuần 13.03-19.03",
          "Tuần 13.03-19.03",
          "Tuần 13.03-19.03",
          "Tuần 13.03-19.03",
          "Tuần 13.03-19.03",
          "Tuần 20.03-26.03",
          "Tuần 20.03-26.03",
          "Tuần 20.03-26.03",
          "Tuần 20.03-26.03",
          "Tuần 20.03-26.03",
          "Tuần 20.03-26.03",
          "Tuần 27.02-05.03",
          "Tuần 27.02-05.03",
          "Tuần 27.02-05.03",
          "Tuần 27.02-05.03",
          "Tuần 27.02-05.03",
          "Tuần 27.02-05.03",
          "Tuần 27.03-01.04",
          "Tuần 27.03-01.04",
          "Tuần 27.03-01.04",
          "Tuần 27.03-01.04",
          "Tuần 27.03-01.04",
          "Tuần 27.03-01.04",
          "Tỉ lệ gặp/gọi",
          "Tỉ lệ phê duyệt/đã trình",
          "Tỉ lệ thu hồ sơ/gặp",
          "Tỉ lệ đã active/phê duyệt",
          "Tỉ lệ đã trình/định giá",
          "Tỉ lệ định giá/thu hồ sơ"
         ],
         "marker": {
          "coloraxis": "coloraxis",
          "colors": [
           15.0139664804469,
           69.3693693693694,
           15.6589147286822,
           75.3246753246753,
           86.046511627907,
           127.722772277228,
           14.2570281124498,
           64.8,
           20.0312989045383,
           76.5432098765432,
           96.1538461538462,
           101.5625,
           17.1273712737127,
           69.0647482014388,
           20.5696202531646,
           64.5833333333333,
           100.724637681159,
           106.153846153846,
           18.1561208958469,
           64.2857142857143,
           16.4071856287425,
           65.5555555555556,
           100,
           102.189781021898,
           20.0099428287348,
           97.0149253731343,
           15.2795031055901,
           64.6153846153846,
           96.40287769784169,
           113.00813008130102,
           17.17118452564917,
           74.96030794121592,
           17.8770317711445,
           69.74844170060639,
           96.15241328241716,
           110.98105021950238
          ]
         },
         "name": "",
         "parents": [
          "Tỉ lệ gặp/gọi",
          "Tỉ lệ phê duyệt/đã trình",
          "Tỉ lệ thu hồ sơ/gặp",
          "Tỉ lệ đã active/phê duyệt",
          "Tỉ lệ đã trình/định giá",
          "Tỉ lệ định giá/thu hồ sơ",
          "Tỉ lệ gặp/gọi",
          "Tỉ lệ phê duyệt/đã trình",
          "Tỉ lệ thu hồ sơ/gặp",
          "Tỉ lệ đã active/phê duyệt",
          "Tỉ lệ đã trình/định giá",
          "Tỉ lệ định giá/thu hồ sơ",
          "Tỉ lệ gặp/gọi",
          "Tỉ lệ phê duyệt/đã trình",
          "Tỉ lệ thu hồ sơ/gặp",
          "Tỉ lệ đã active/phê duyệt",
          "Tỉ lệ đã trình/định giá",
          "Tỉ lệ định giá/thu hồ sơ",
          "Tỉ lệ gặp/gọi",
          "Tỉ lệ phê duyệt/đã trình",
          "Tỉ lệ thu hồ sơ/gặp",
          "Tỉ lệ đã active/phê duyệt",
          "Tỉ lệ đã trình/định giá",
          "Tỉ lệ định giá/thu hồ sơ",
          "Tỉ lệ gặp/gọi",
          "Tỉ lệ phê duyệt/đã trình",
          "Tỉ lệ thu hồ sơ/gặp",
          "Tỉ lệ đã active/phê duyệt",
          "Tỉ lệ đã trình/định giá",
          "Tỉ lệ định giá/thu hồ sơ",
          "",
          "",
          "",
          "",
          "",
          ""
         ],
         "type": "sunburst",
         "values": [
          15.0139664804469,
          69.3693693693694,
          15.6589147286822,
          75.3246753246753,
          86.046511627907,
          127.722772277228,
          14.2570281124498,
          64.8,
          20.0312989045383,
          76.5432098765432,
          96.1538461538462,
          101.5625,
          17.1273712737127,
          69.0647482014388,
          20.5696202531646,
          64.5833333333333,
          100.724637681159,
          106.153846153846,
          18.1561208958469,
          64.2857142857143,
          16.4071856287425,
          65.5555555555556,
          100,
          102.189781021898,
          20.0099428287348,
          97.0149253731343,
          15.2795031055901,
          64.6153846153846,
          96.4028776978417,
          113.008130081301,
          84.5644295911911,
          364.5347572296568,
          87.9465226207177,
          346.622158705492,
          479.3278731607539,
          550.637029534273
         ]
        }
       ],
       "layout": {
        "coloraxis": {
         "colorbar": {
          "title": {
           "text": "value"
          }
         },
         "colorscale": [
          [
           0,
           "#e2d9e2"
          ],
          [
           0.1111111111111111,
           "#9ebbc9"
          ],
          [
           0.2222222222222222,
           "#6785be"
          ],
          [
           0.3333333333333333,
           "#5e43a5"
          ],
          [
           0.4444444444444444,
           "#421257"
          ],
          [
           0.5555555555555556,
           "#471340"
          ],
          [
           0.6666666666666666,
           "#8e2c50"
          ],
          [
           0.7777777777777778,
           "#ba6657"
          ],
          [
           0.8888888888888888,
           "#ceac94"
          ],
          [
           1,
           "#e2d9e2"
          ]
         ]
        },
        "legend": {
         "tracegroupgap": 0
        },
        "margin": {
         "t": 60
        },
        "template": {
         "data": {
          "bar": [
           {
            "error_x": {
             "color": "#2a3f5f"
            },
            "error_y": {
             "color": "#2a3f5f"
            },
            "marker": {
             "line": {
              "color": "#E5ECF6",
              "width": 0.5
             },
             "pattern": {
              "fillmode": "overlay",
              "size": 10,
              "solidity": 0.2
             }
            },
            "type": "bar"
           }
          ],
          "barpolar": [
           {
            "marker": {
             "line": {
              "color": "#E5ECF6",
              "width": 0.5
             },
             "pattern": {
              "fillmode": "overlay",
              "size": 10,
              "solidity": 0.2
             }
            },
            "type": "barpolar"
           }
          ],
          "carpet": [
           {
            "aaxis": {
             "endlinecolor": "#2a3f5f",
             "gridcolor": "white",
             "linecolor": "white",
             "minorgridcolor": "white",
             "startlinecolor": "#2a3f5f"
            },
            "baxis": {
             "endlinecolor": "#2a3f5f",
             "gridcolor": "white",
             "linecolor": "white",
             "minorgridcolor": "white",
             "startlinecolor": "#2a3f5f"
            },
            "type": "carpet"
           }
          ],
          "choropleth": [
           {
            "colorbar": {
             "outlinewidth": 0,
             "ticks": ""
            },
            "type": "choropleth"
           }
          ],
          "contour": [
           {
            "colorbar": {
             "outlinewidth": 0,
             "ticks": ""
            },
            "colorscale": [
             [
              0,
              "#0d0887"
             ],
             [
              0.1111111111111111,
              "#46039f"
             ],
             [
              0.2222222222222222,
              "#7201a8"
             ],
             [
              0.3333333333333333,
              "#9c179e"
             ],
             [
              0.4444444444444444,
              "#bd3786"
             ],
             [
              0.5555555555555556,
              "#d8576b"
             ],
             [
              0.6666666666666666,
              "#ed7953"
             ],
             [
              0.7777777777777778,
              "#fb9f3a"
             ],
             [
              0.8888888888888888,
              "#fdca26"
             ],
             [
              1,
              "#f0f921"
             ]
            ],
            "type": "contour"
           }
          ],
          "contourcarpet": [
           {
            "colorbar": {
             "outlinewidth": 0,
             "ticks": ""
            },
            "type": "contourcarpet"
           }
          ],
          "heatmap": [
           {
            "colorbar": {
             "outlinewidth": 0,
             "ticks": ""
            },
            "colorscale": [
             [
              0,
              "#0d0887"
             ],
             [
              0.1111111111111111,
              "#46039f"
             ],
             [
              0.2222222222222222,
              "#7201a8"
             ],
             [
              0.3333333333333333,
              "#9c179e"
             ],
             [
              0.4444444444444444,
              "#bd3786"
             ],
             [
              0.5555555555555556,
              "#d8576b"
             ],
             [
              0.6666666666666666,
              "#ed7953"
             ],
             [
              0.7777777777777778,
              "#fb9f3a"
             ],
             [
              0.8888888888888888,
              "#fdca26"
             ],
             [
              1,
              "#f0f921"
             ]
            ],
            "type": "heatmap"
           }
          ],
          "heatmapgl": [
           {
            "colorbar": {
             "outlinewidth": 0,
             "ticks": ""
            },
            "colorscale": [
             [
              0,
              "#0d0887"
             ],
             [
              0.1111111111111111,
              "#46039f"
             ],
             [
              0.2222222222222222,
              "#7201a8"
             ],
             [
              0.3333333333333333,
              "#9c179e"
             ],
             [
              0.4444444444444444,
              "#bd3786"
             ],
             [
              0.5555555555555556,
              "#d8576b"
             ],
             [
              0.6666666666666666,
              "#ed7953"
             ],
             [
              0.7777777777777778,
              "#fb9f3a"
             ],
             [
              0.8888888888888888,
              "#fdca26"
             ],
             [
              1,
              "#f0f921"
             ]
            ],
            "type": "heatmapgl"
           }
          ],
          "histogram": [
           {
            "marker": {
             "pattern": {
              "fillmode": "overlay",
              "size": 10,
              "solidity": 0.2
             }
            },
            "type": "histogram"
           }
          ],
          "histogram2d": [
           {
            "colorbar": {
             "outlinewidth": 0,
             "ticks": ""
            },
            "colorscale": [
             [
              0,
              "#0d0887"
             ],
             [
              0.1111111111111111,
              "#46039f"
             ],
             [
              0.2222222222222222,
              "#7201a8"
             ],
             [
              0.3333333333333333,
              "#9c179e"
             ],
             [
              0.4444444444444444,
              "#bd3786"
             ],
             [
              0.5555555555555556,
              "#d8576b"
             ],
             [
              0.6666666666666666,
              "#ed7953"
             ],
             [
              0.7777777777777778,
              "#fb9f3a"
             ],
             [
              0.8888888888888888,
              "#fdca26"
             ],
             [
              1,
              "#f0f921"
             ]
            ],
            "type": "histogram2d"
           }
          ],
          "histogram2dcontour": [
           {
            "colorbar": {
             "outlinewidth": 0,
             "ticks": ""
            },
            "colorscale": [
             [
              0,
              "#0d0887"
             ],
             [
              0.1111111111111111,
              "#46039f"
             ],
             [
              0.2222222222222222,
              "#7201a8"
             ],
             [
              0.3333333333333333,
              "#9c179e"
             ],
             [
              0.4444444444444444,
              "#bd3786"
             ],
             [
              0.5555555555555556,
              "#d8576b"
             ],
             [
              0.6666666666666666,
              "#ed7953"
             ],
             [
              0.7777777777777778,
              "#fb9f3a"
             ],
             [
              0.8888888888888888,
              "#fdca26"
             ],
             [
              1,
              "#f0f921"
             ]
            ],
            "type": "histogram2dcontour"
           }
          ],
          "mesh3d": [
           {
            "colorbar": {
             "outlinewidth": 0,
             "ticks": ""
            },
            "type": "mesh3d"
           }
          ],
          "parcoords": [
           {
            "line": {
             "colorbar": {
              "outlinewidth": 0,
              "ticks": ""
             }
            },
            "type": "parcoords"
           }
          ],
          "pie": [
           {
            "automargin": true,
            "type": "pie"
           }
          ],
          "scatter": [
           {
            "fillpattern": {
             "fillmode": "overlay",
             "size": 10,
             "solidity": 0.2
            },
            "type": "scatter"
           }
          ],
          "scatter3d": [
           {
            "line": {
             "colorbar": {
              "outlinewidth": 0,
              "ticks": ""
             }
            },
            "marker": {
             "colorbar": {
              "outlinewidth": 0,
              "ticks": ""
             }
            },
            "type": "scatter3d"
           }
          ],
          "scattercarpet": [
           {
            "marker": {
             "colorbar": {
              "outlinewidth": 0,
              "ticks": ""
             }
            },
            "type": "scattercarpet"
           }
          ],
          "scattergeo": [
           {
            "marker": {
             "colorbar": {
              "outlinewidth": 0,
              "ticks": ""
             }
            },
            "type": "scattergeo"
           }
          ],
          "scattergl": [
           {
            "marker": {
             "colorbar": {
              "outlinewidth": 0,
              "ticks": ""
             }
            },
            "type": "scattergl"
           }
          ],
          "scattermapbox": [
           {
            "marker": {
             "colorbar": {
              "outlinewidth": 0,
              "ticks": ""
             }
            },
            "type": "scattermapbox"
           }
          ],
          "scatterpolar": [
           {
            "marker": {
             "colorbar": {
              "outlinewidth": 0,
              "ticks": ""
             }
            },
            "type": "scatterpolar"
           }
          ],
          "scatterpolargl": [
           {
            "marker": {
             "colorbar": {
              "outlinewidth": 0,
              "ticks": ""
             }
            },
            "type": "scatterpolargl"
           }
          ],
          "scatterternary": [
           {
            "marker": {
             "colorbar": {
              "outlinewidth": 0,
              "ticks": ""
             }
            },
            "type": "scatterternary"
           }
          ],
          "surface": [
           {
            "colorbar": {
             "outlinewidth": 0,
             "ticks": ""
            },
            "colorscale": [
             [
              0,
              "#0d0887"
             ],
             [
              0.1111111111111111,
              "#46039f"
             ],
             [
              0.2222222222222222,
              "#7201a8"
             ],
             [
              0.3333333333333333,
              "#9c179e"
             ],
             [
              0.4444444444444444,
              "#bd3786"
             ],
             [
              0.5555555555555556,
              "#d8576b"
             ],
             [
              0.6666666666666666,
              "#ed7953"
             ],
             [
              0.7777777777777778,
              "#fb9f3a"
             ],
             [
              0.8888888888888888,
              "#fdca26"
             ],
             [
              1,
              "#f0f921"
             ]
            ],
            "type": "surface"
           }
          ],
          "table": [
           {
            "cells": {
             "fill": {
              "color": "#EBF0F8"
             },
             "line": {
              "color": "white"
             }
            },
            "header": {
             "fill": {
              "color": "#C8D4E3"
             },
             "line": {
              "color": "white"
             }
            },
            "type": "table"
           }
          ]
         },
         "layout": {
          "annotationdefaults": {
           "arrowcolor": "#2a3f5f",
           "arrowhead": 0,
           "arrowwidth": 1
          },
          "autotypenumbers": "strict",
          "coloraxis": {
           "colorbar": {
            "outlinewidth": 0,
            "ticks": ""
           }
          },
          "colorscale": {
           "diverging": [
            [
             0,
             "#8e0152"
            ],
            [
             0.1,
             "#c51b7d"
            ],
            [
             0.2,
             "#de77ae"
            ],
            [
             0.3,
             "#f1b6da"
            ],
            [
             0.4,
             "#fde0ef"
            ],
            [
             0.5,
             "#f7f7f7"
            ],
            [
             0.6,
             "#e6f5d0"
            ],
            [
             0.7,
             "#b8e186"
            ],
            [
             0.8,
             "#7fbc41"
            ],
            [
             0.9,
             "#4d9221"
            ],
            [
             1,
             "#276419"
            ]
           ],
           "sequential": [
            [
             0,
             "#0d0887"
            ],
            [
             0.1111111111111111,
             "#46039f"
            ],
            [
             0.2222222222222222,
             "#7201a8"
            ],
            [
             0.3333333333333333,
             "#9c179e"
            ],
            [
             0.4444444444444444,
             "#bd3786"
            ],
            [
             0.5555555555555556,
             "#d8576b"
            ],
            [
             0.6666666666666666,
             "#ed7953"
            ],
            [
             0.7777777777777778,
             "#fb9f3a"
            ],
            [
             0.8888888888888888,
             "#fdca26"
            ],
            [
             1,
             "#f0f921"
            ]
           ],
           "sequentialminus": [
            [
             0,
             "#0d0887"
            ],
            [
             0.1111111111111111,
             "#46039f"
            ],
            [
             0.2222222222222222,
             "#7201a8"
            ],
            [
             0.3333333333333333,
             "#9c179e"
            ],
            [
             0.4444444444444444,
             "#bd3786"
            ],
            [
             0.5555555555555556,
             "#d8576b"
            ],
            [
             0.6666666666666666,
             "#ed7953"
            ],
            [
             0.7777777777777778,
             "#fb9f3a"
            ],
            [
             0.8888888888888888,
             "#fdca26"
            ],
            [
             1,
             "#f0f921"
            ]
           ]
          },
          "colorway": [
           "#636efa",
           "#EF553B",
           "#00cc96",
           "#ab63fa",
           "#FFA15A",
           "#19d3f3",
           "#FF6692",
           "#B6E880",
           "#FF97FF",
           "#FECB52"
          ],
          "font": {
           "color": "#2a3f5f"
          },
          "geo": {
           "bgcolor": "white",
           "lakecolor": "white",
           "landcolor": "#E5ECF6",
           "showlakes": true,
           "showland": true,
           "subunitcolor": "white"
          },
          "hoverlabel": {
           "align": "left"
          },
          "hovermode": "closest",
          "mapbox": {
           "style": "light"
          },
          "paper_bgcolor": "white",
          "plot_bgcolor": "#E5ECF6",
          "polar": {
           "angularaxis": {
            "gridcolor": "white",
            "linecolor": "white",
            "ticks": ""
           },
           "bgcolor": "#E5ECF6",
           "radialaxis": {
            "gridcolor": "white",
            "linecolor": "white",
            "ticks": ""
           }
          },
          "scene": {
           "xaxis": {
            "backgroundcolor": "#E5ECF6",
            "gridcolor": "white",
            "gridwidth": 2,
            "linecolor": "white",
            "showbackground": true,
            "ticks": "",
            "zerolinecolor": "white"
           },
           "yaxis": {
            "backgroundcolor": "#E5ECF6",
            "gridcolor": "white",
            "gridwidth": 2,
            "linecolor": "white",
            "showbackground": true,
            "ticks": "",
            "zerolinecolor": "white"
           },
           "zaxis": {
            "backgroundcolor": "#E5ECF6",
            "gridcolor": "white",
            "gridwidth": 2,
            "linecolor": "white",
            "showbackground": true,
            "ticks": "",
            "zerolinecolor": "white"
           }
          },
          "shapedefaults": {
           "line": {
            "color": "#2a3f5f"
           }
          },
          "ternary": {
           "aaxis": {
            "gridcolor": "white",
            "linecolor": "white",
            "ticks": ""
           },
           "baxis": {
            "gridcolor": "white",
            "linecolor": "white",
            "ticks": ""
           },
           "bgcolor": "#E5ECF6",
           "caxis": {
            "gridcolor": "white",
            "linecolor": "white",
            "ticks": ""
           }
          },
          "title": {
           "x": 0.05
          },
          "xaxis": {
           "automargin": true,
           "gridcolor": "white",
           "linecolor": "white",
           "ticks": "",
           "title": {
            "standoff": 15
           },
           "zerolinecolor": "white",
           "zerolinewidth": 2
          },
          "yaxis": {
           "automargin": true,
           "gridcolor": "white",
           "linecolor": "white",
           "ticks": "",
           "title": {
            "standoff": 15
           },
           "zerolinecolor": "white",
           "zerolinewidth": 2
          }
         }
        }
       }
      }
     },
     "metadata": {},
     "output_type": "display_data"
    }
   ],
   "source": [
    "import plotly.express as px\n",
    "fig = px.sunburst(df, path=['month', 'week'], values='value', color = 'value', color_continuous_scale='twilight')\n",
    "fig.show()"
   ]
  }
 ],
 "metadata": {
  "kernelspec": {
   "display_name": "Python 3",
   "language": "python",
   "name": "python3"
  },
  "language_info": {
   "codemirror_mode": {
    "name": "ipython",
    "version": 3
   },
   "file_extension": ".py",
   "mimetype": "text/x-python",
   "name": "python",
   "nbconvert_exporter": "python",
   "pygments_lexer": "ipython3",
   "version": "3.10.6"
  },
  "orig_nbformat": 4
 },
 "nbformat": 4,
 "nbformat_minor": 2
}
