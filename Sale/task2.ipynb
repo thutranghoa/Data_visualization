{
 "cells": [
  {
   "cell_type": "code",
   "execution_count": 2,
   "metadata": {},
   "outputs": [
    {
     "name": "stderr",
     "output_type": "stream",
     "text": [
      "/tmp/ipykernel_118439/2972912146.py:5: UserWarning: \n",
      "The dash_core_components package is deprecated. Please replace\n",
      "`import dash_core_components as dcc` with `from dash import dcc`\n",
      "  import dash_core_components as dcc\n",
      "/tmp/ipykernel_118439/2972912146.py:6: UserWarning: \n",
      "The dash_html_components package is deprecated. Please replace\n",
      "`import dash_html_components as html` with `from dash import html`\n",
      "  import dash_html_components as html\n"
     ]
    }
   ],
   "source": [
    "import pandas as pd\n",
    "import plotly.graph_objects as go\n",
    "import plotly.express as px\n",
    "# from jupyter_dash import JupyterDash\n",
    "import dash_core_components as dcc\n",
    "import dash_html_components as html\n",
    "from dash.dependencies import Input, Output\n",
    "import numpy as np"
   ]
  },
  {
   "cell_type": "code",
   "execution_count": 2,
   "metadata": {},
   "outputs": [],
   "source": [
    "path = 'Hoạt động bán hàng All RM Tháng 3 theo tuần.xlsx'"
   ]
  },
  {
   "cell_type": "code",
   "execution_count": 3,
   "metadata": {},
   "outputs": [],
   "source": [
    "def get_data(path):\n",
    "  sheets = pd.ExcelFile(path)\n",
    "  toan_quoc = []\n",
    "  hubs = []\n",
    "  fields = ['Hub', 'Đã Gọi','Đã Gặp', 'Thu Thập Hồ Sơ', \n",
    "          'Định Giá', 'Đã Trình', 'Đã Phê Duyệt','Đã Active Hạn Mức']\n",
    "  for sheet_name in sheets.sheet_names:\n",
    "    sheet = sheets.parse(sheet_name)\n",
    "    sheet.columns = [x.strip().title() for x in sheet.columns]\n",
    "    toan_quoc.append(sheet[sheet['Rm Name'].str.startswith('0.')].loc[:,fields[1:]])\n",
    "    hubs_sheet = sheet[sheet['Rm Name'].str.startswith('1.')].sort_values(by=['Đã Active Hạn Mức'], ascending=False).loc[:,fields]\n",
    "    hubs.append(hubs_sheet)\n",
    "    # hubs.append(hubs_sheet.loc[(hubs_sheet[fields[1:]]!=0).any(axis=1)])\n",
    "  hub_names = hubs[0].sort_values(by=['Hub']).Hub.values.tolist()\n",
    "  return toan_quoc, hubs, sheets.sheet_names, hub_names"
   ]
  },
  {
   "cell_type": "code",
   "execution_count": 4,
   "metadata": {},
   "outputs": [
    {
     "ename": "ImportError",
     "evalue": "Missing optional dependency 'openpyxl'.  Use pip or conda to install openpyxl.",
     "output_type": "error",
     "traceback": [
      "\u001b[0;31m---------------------------------------------------------------------------\u001b[0m",
      "\u001b[0;31mModuleNotFoundError\u001b[0m                       Traceback (most recent call last)",
      "File \u001b[0;32m~/.local/lib/python3.8/site-packages/pandas/compat/_optional.py:126\u001b[0m, in \u001b[0;36mimport_optional_dependency\u001b[0;34m(name, extra, errors, min_version)\u001b[0m\n\u001b[1;32m    125\u001b[0m \u001b[39mtry\u001b[39;00m:\n\u001b[0;32m--> 126\u001b[0m     module \u001b[39m=\u001b[39m importlib\u001b[39m.\u001b[39;49mimport_module(name)\n\u001b[1;32m    127\u001b[0m \u001b[39mexcept\u001b[39;00m \u001b[39mImportError\u001b[39;00m:\n",
      "File \u001b[0;32m/usr/lib/python3.8/importlib/__init__.py:127\u001b[0m, in \u001b[0;36mimport_module\u001b[0;34m(name, package)\u001b[0m\n\u001b[1;32m    126\u001b[0m         level \u001b[39m+\u001b[39m\u001b[39m=\u001b[39m \u001b[39m1\u001b[39m\n\u001b[0;32m--> 127\u001b[0m \u001b[39mreturn\u001b[39;00m _bootstrap\u001b[39m.\u001b[39;49m_gcd_import(name[level:], package, level)\n",
      "File \u001b[0;32m<frozen importlib._bootstrap>:1014\u001b[0m, in \u001b[0;36m_gcd_import\u001b[0;34m(name, package, level)\u001b[0m\n",
      "File \u001b[0;32m<frozen importlib._bootstrap>:991\u001b[0m, in \u001b[0;36m_find_and_load\u001b[0;34m(name, import_)\u001b[0m\n",
      "File \u001b[0;32m<frozen importlib._bootstrap>:973\u001b[0m, in \u001b[0;36m_find_and_load_unlocked\u001b[0;34m(name, import_)\u001b[0m\n",
      "\u001b[0;31mModuleNotFoundError\u001b[0m: No module named 'openpyxl'",
      "\nDuring handling of the above exception, another exception occurred:\n",
      "\u001b[0;31mImportError\u001b[0m                               Traceback (most recent call last)",
      "\u001b[1;32m/home/totoo/Code/university/Data_visualization/Sale/task2.ipynb Cell 4\u001b[0m in \u001b[0;36m<cell line: 1>\u001b[0;34m()\u001b[0m\n\u001b[0;32m----> <a href='vscode-notebook-cell:/home/totoo/Code/university/Data_visualization/Sale/task2.ipynb#W3sZmlsZQ%3D%3D?line=0'>1</a>\u001b[0m toan_quoc, hubs, weeks, hub_names\u001b[39m=\u001b[39m get_data(path)\n",
      "\u001b[1;32m/home/totoo/Code/university/Data_visualization/Sale/task2.ipynb Cell 4\u001b[0m in \u001b[0;36mget_data\u001b[0;34m(path)\u001b[0m\n\u001b[1;32m      <a href='vscode-notebook-cell:/home/totoo/Code/university/Data_visualization/Sale/task2.ipynb#W3sZmlsZQ%3D%3D?line=0'>1</a>\u001b[0m \u001b[39mdef\u001b[39;00m \u001b[39mget_data\u001b[39m(path):\n\u001b[0;32m----> <a href='vscode-notebook-cell:/home/totoo/Code/university/Data_visualization/Sale/task2.ipynb#W3sZmlsZQ%3D%3D?line=1'>2</a>\u001b[0m   sheets \u001b[39m=\u001b[39m pd\u001b[39m.\u001b[39;49mExcelFile(path)\n\u001b[1;32m      <a href='vscode-notebook-cell:/home/totoo/Code/university/Data_visualization/Sale/task2.ipynb#W3sZmlsZQ%3D%3D?line=2'>3</a>\u001b[0m   toan_quoc \u001b[39m=\u001b[39m []\n\u001b[1;32m      <a href='vscode-notebook-cell:/home/totoo/Code/university/Data_visualization/Sale/task2.ipynb#W3sZmlsZQ%3D%3D?line=3'>4</a>\u001b[0m   hubs \u001b[39m=\u001b[39m []\n",
      "File \u001b[0;32m~/.local/lib/python3.8/site-packages/pandas/io/excel/_base.py:1419\u001b[0m, in \u001b[0;36mExcelFile.__init__\u001b[0;34m(self, path_or_buffer, engine, storage_options)\u001b[0m\n\u001b[1;32m   1416\u001b[0m \u001b[39mself\u001b[39m\u001b[39m.\u001b[39mengine \u001b[39m=\u001b[39m engine\n\u001b[1;32m   1417\u001b[0m \u001b[39mself\u001b[39m\u001b[39m.\u001b[39mstorage_options \u001b[39m=\u001b[39m storage_options\n\u001b[0;32m-> 1419\u001b[0m \u001b[39mself\u001b[39m\u001b[39m.\u001b[39m_reader \u001b[39m=\u001b[39m \u001b[39mself\u001b[39;49m\u001b[39m.\u001b[39;49m_engines[engine](\u001b[39mself\u001b[39;49m\u001b[39m.\u001b[39;49m_io, storage_options\u001b[39m=\u001b[39;49mstorage_options)\n",
      "File \u001b[0;32m~/.local/lib/python3.8/site-packages/pandas/io/excel/_openpyxl.py:524\u001b[0m, in \u001b[0;36mOpenpyxlReader.__init__\u001b[0;34m(self, filepath_or_buffer, storage_options)\u001b[0m\n\u001b[1;32m    509\u001b[0m \u001b[39mdef\u001b[39;00m \u001b[39m__init__\u001b[39m(\n\u001b[1;32m    510\u001b[0m     \u001b[39mself\u001b[39m,\n\u001b[1;32m    511\u001b[0m     filepath_or_buffer: FilePath \u001b[39m|\u001b[39m ReadBuffer[\u001b[39mbytes\u001b[39m],\n\u001b[1;32m    512\u001b[0m     storage_options: StorageOptions \u001b[39m=\u001b[39m \u001b[39mNone\u001b[39;00m,\n\u001b[1;32m    513\u001b[0m ) \u001b[39m-\u001b[39m\u001b[39m>\u001b[39m \u001b[39mNone\u001b[39;00m:\n\u001b[1;32m    514\u001b[0m     \u001b[39m\"\"\"\u001b[39;00m\n\u001b[1;32m    515\u001b[0m \u001b[39m    Reader using openpyxl engine.\u001b[39;00m\n\u001b[1;32m    516\u001b[0m \n\u001b[0;32m   (...)\u001b[0m\n\u001b[1;32m    522\u001b[0m \u001b[39m        passed to fsspec for appropriate URLs (see ``_get_filepath_or_buffer``)\u001b[39;00m\n\u001b[1;32m    523\u001b[0m \u001b[39m    \"\"\"\u001b[39;00m\n\u001b[0;32m--> 524\u001b[0m     import_optional_dependency(\u001b[39m\"\u001b[39;49m\u001b[39mopenpyxl\u001b[39;49m\u001b[39m\"\u001b[39;49m)\n\u001b[1;32m    525\u001b[0m     \u001b[39msuper\u001b[39m()\u001b[39m.\u001b[39m\u001b[39m__init__\u001b[39m(filepath_or_buffer, storage_options\u001b[39m=\u001b[39mstorage_options)\n",
      "File \u001b[0;32m~/.local/lib/python3.8/site-packages/pandas/compat/_optional.py:129\u001b[0m, in \u001b[0;36mimport_optional_dependency\u001b[0;34m(name, extra, errors, min_version)\u001b[0m\n\u001b[1;32m    127\u001b[0m \u001b[39mexcept\u001b[39;00m \u001b[39mImportError\u001b[39;00m:\n\u001b[1;32m    128\u001b[0m     \u001b[39mif\u001b[39;00m errors \u001b[39m==\u001b[39m \u001b[39m\"\u001b[39m\u001b[39mraise\u001b[39m\u001b[39m\"\u001b[39m:\n\u001b[0;32m--> 129\u001b[0m         \u001b[39mraise\u001b[39;00m \u001b[39mImportError\u001b[39;00m(msg)\n\u001b[1;32m    130\u001b[0m     \u001b[39melse\u001b[39;00m:\n\u001b[1;32m    131\u001b[0m         \u001b[39mreturn\u001b[39;00m \u001b[39mNone\u001b[39;00m\n",
      "\u001b[0;31mImportError\u001b[0m: Missing optional dependency 'openpyxl'.  Use pip or conda to install openpyxl."
     ]
    }
   ],
   "source": [
    "toan_quoc, hubs, weeks, hub_names= get_data(path)\n",
    "\n"
   ]
  },
  {
   "cell_type": "code",
   "execution_count": null,
   "metadata": {},
   "outputs": [
    {
     "data": {
      "text/plain": [
       "['Tuần 27.02-05.03',\n",
       " 'Tuần 06.03-12.03',\n",
       " 'Tuần 13.03-19.03',\n",
       " 'Tuần 20.03-26.03',\n",
       " 'Tuần 27.03-01.04']"
      ]
     },
     "execution_count": 45,
     "metadata": {},
     "output_type": "execute_result"
    }
   ],
   "source": [
    "weeks"
   ]
  },
  {
   "cell_type": "code",
   "execution_count": null,
   "metadata": {},
   "outputs": [],
   "source": [
    "df = pd.read_excel('Hoạt động bán hàng All RM Tháng 3 theo tuần.xlsx',\n",
    "                   sheet_name= [0,1,2,3,4])\n",
    "\n",
    "\n",
    "df_week1 = df[0]\n",
    "df_week2 = df[1]\n",
    "df_week3 = df[2]\n",
    "df_week4 = df[3]\n",
    "df_week5 = df[4]\n",
    "\n",
    "df_filter_w1 = df_week1.loc[(df_week1['Hub'] == '0.Toàn hàng')]\n",
    "df_filter_w2 = df_week2.loc[(df_week2['Hub'] == '0.Toàn hàng')]\n",
    "df_filter_w3 = df_week3.loc[(df_week3['Hub'] == '0.Toàn hàng')]\n",
    "df_filter_w4 = df_week4.loc[(df_week4['Hub'] == '0.Toàn hàng')]\n",
    "df_filter_w5 = df_week5.loc[(df_week5['Hub'] == '0.Toàn hàng')]"
   ]
  },
  {
   "cell_type": "code",
   "execution_count": null,
   "metadata": {},
   "outputs": [],
   "source": [
    "df = pd.concat([df_filter_w1,df_filter_w2,df_filter_w3,df_filter_w4,df_filter_w5])\n",
    "df.to_csv('test.csv')"
   ]
  },
  {
   "cell_type": "code",
   "execution_count": null,
   "metadata": {},
   "outputs": [
    {
     "data": {
      "text/html": [
       "<div>\n",
       "<style scoped>\n",
       "    .dataframe tbody tr th:only-of-type {\n",
       "        vertical-align: middle;\n",
       "    }\n",
       "\n",
       "    .dataframe tbody tr th {\n",
       "        vertical-align: top;\n",
       "    }\n",
       "\n",
       "    .dataframe thead th {\n",
       "        text-align: right;\n",
       "    }\n",
       "</style>\n",
       "<table border=\"1\" class=\"dataframe\">\n",
       "  <thead>\n",
       "    <tr style=\"text-align: right;\">\n",
       "      <th></th>\n",
       "      <th>month</th>\n",
       "      <th>week</th>\n",
       "      <th>value</th>\n",
       "    </tr>\n",
       "  </thead>\n",
       "  <tbody>\n",
       "    <tr>\n",
       "      <th>0</th>\n",
       "      <td>Tỉ lệ gặp/gọi</td>\n",
       "      <td>Tuần 27.02-05.03</td>\n",
       "      <td>18.156121</td>\n",
       "    </tr>\n",
       "    <tr>\n",
       "      <th>1</th>\n",
       "      <td>Tỉ lệ gặp/gọi</td>\n",
       "      <td>Tuần 06.03-12.03</td>\n",
       "      <td>15.013966</td>\n",
       "    </tr>\n",
       "    <tr>\n",
       "      <th>2</th>\n",
       "      <td>Tỉ lệ gặp/gọi</td>\n",
       "      <td>Tuần 13.03-19.03</td>\n",
       "      <td>14.257028</td>\n",
       "    </tr>\n",
       "    <tr>\n",
       "      <th>3</th>\n",
       "      <td>Tỉ lệ gặp/gọi</td>\n",
       "      <td>Tuần 20.03-26.03</td>\n",
       "      <td>17.127371</td>\n",
       "    </tr>\n",
       "    <tr>\n",
       "      <th>4</th>\n",
       "      <td>Tỉ lệ gặp/gọi</td>\n",
       "      <td>Tuần 27.03-01.04</td>\n",
       "      <td>20.009943</td>\n",
       "    </tr>\n",
       "    <tr>\n",
       "      <th>5</th>\n",
       "      <td>Tỉ lệ thu hồ sơ/gặp</td>\n",
       "      <td>Tuần 27.02-05.03</td>\n",
       "      <td>16.407186</td>\n",
       "    </tr>\n",
       "    <tr>\n",
       "      <th>6</th>\n",
       "      <td>Tỉ lệ thu hồ sơ/gặp</td>\n",
       "      <td>Tuần 06.03-12.03</td>\n",
       "      <td>15.658915</td>\n",
       "    </tr>\n",
       "    <tr>\n",
       "      <th>7</th>\n",
       "      <td>Tỉ lệ thu hồ sơ/gặp</td>\n",
       "      <td>Tuần 13.03-19.03</td>\n",
       "      <td>20.031299</td>\n",
       "    </tr>\n",
       "    <tr>\n",
       "      <th>8</th>\n",
       "      <td>Tỉ lệ thu hồ sơ/gặp</td>\n",
       "      <td>Tuần 20.03-26.03</td>\n",
       "      <td>20.569620</td>\n",
       "    </tr>\n",
       "    <tr>\n",
       "      <th>9</th>\n",
       "      <td>Tỉ lệ thu hồ sơ/gặp</td>\n",
       "      <td>Tuần 27.03-01.04</td>\n",
       "      <td>15.279503</td>\n",
       "    </tr>\n",
       "    <tr>\n",
       "      <th>10</th>\n",
       "      <td>Tỉ lệ định giá/thu hồ sơ</td>\n",
       "      <td>Tuần 27.02-05.03</td>\n",
       "      <td>102.189781</td>\n",
       "    </tr>\n",
       "    <tr>\n",
       "      <th>11</th>\n",
       "      <td>Tỉ lệ định giá/thu hồ sơ</td>\n",
       "      <td>Tuần 06.03-12.03</td>\n",
       "      <td>127.722772</td>\n",
       "    </tr>\n",
       "    <tr>\n",
       "      <th>12</th>\n",
       "      <td>Tỉ lệ định giá/thu hồ sơ</td>\n",
       "      <td>Tuần 13.03-19.03</td>\n",
       "      <td>101.562500</td>\n",
       "    </tr>\n",
       "    <tr>\n",
       "      <th>13</th>\n",
       "      <td>Tỉ lệ định giá/thu hồ sơ</td>\n",
       "      <td>Tuần 20.03-26.03</td>\n",
       "      <td>106.153846</td>\n",
       "    </tr>\n",
       "    <tr>\n",
       "      <th>14</th>\n",
       "      <td>Tỉ lệ định giá/thu hồ sơ</td>\n",
       "      <td>Tuần 27.03-01.04</td>\n",
       "      <td>113.008130</td>\n",
       "    </tr>\n",
       "    <tr>\n",
       "      <th>15</th>\n",
       "      <td>Tỉ lệ đã trình/định giá</td>\n",
       "      <td>Tuần 27.02-05.03</td>\n",
       "      <td>100.000000</td>\n",
       "    </tr>\n",
       "    <tr>\n",
       "      <th>16</th>\n",
       "      <td>Tỉ lệ đã trình/định giá</td>\n",
       "      <td>Tuần 06.03-12.03</td>\n",
       "      <td>86.046512</td>\n",
       "    </tr>\n",
       "    <tr>\n",
       "      <th>17</th>\n",
       "      <td>Tỉ lệ đã trình/định giá</td>\n",
       "      <td>Tuần 13.03-19.03</td>\n",
       "      <td>96.153846</td>\n",
       "    </tr>\n",
       "    <tr>\n",
       "      <th>18</th>\n",
       "      <td>Tỉ lệ đã trình/định giá</td>\n",
       "      <td>Tuần 20.03-26.03</td>\n",
       "      <td>100.724638</td>\n",
       "    </tr>\n",
       "    <tr>\n",
       "      <th>19</th>\n",
       "      <td>Tỉ lệ đã trình/định giá</td>\n",
       "      <td>Tuần 27.03-01.04</td>\n",
       "      <td>96.402878</td>\n",
       "    </tr>\n",
       "    <tr>\n",
       "      <th>20</th>\n",
       "      <td>Tỉ lệ phê duyệt/đã trình</td>\n",
       "      <td>Tuần 27.02-05.03</td>\n",
       "      <td>64.285714</td>\n",
       "    </tr>\n",
       "    <tr>\n",
       "      <th>21</th>\n",
       "      <td>Tỉ lệ phê duyệt/đã trình</td>\n",
       "      <td>Tuần 06.03-12.03</td>\n",
       "      <td>69.369369</td>\n",
       "    </tr>\n",
       "    <tr>\n",
       "      <th>22</th>\n",
       "      <td>Tỉ lệ phê duyệt/đã trình</td>\n",
       "      <td>Tuần 13.03-19.03</td>\n",
       "      <td>64.800000</td>\n",
       "    </tr>\n",
       "    <tr>\n",
       "      <th>23</th>\n",
       "      <td>Tỉ lệ phê duyệt/đã trình</td>\n",
       "      <td>Tuần 20.03-26.03</td>\n",
       "      <td>69.064748</td>\n",
       "    </tr>\n",
       "    <tr>\n",
       "      <th>24</th>\n",
       "      <td>Tỉ lệ phê duyệt/đã trình</td>\n",
       "      <td>Tuần 27.03-01.04</td>\n",
       "      <td>97.014925</td>\n",
       "    </tr>\n",
       "    <tr>\n",
       "      <th>25</th>\n",
       "      <td>Tỉ lệ đã active/phê duyệt</td>\n",
       "      <td>Tuần 27.02-05.03</td>\n",
       "      <td>65.555556</td>\n",
       "    </tr>\n",
       "    <tr>\n",
       "      <th>26</th>\n",
       "      <td>Tỉ lệ đã active/phê duyệt</td>\n",
       "      <td>Tuần 06.03-12.03</td>\n",
       "      <td>75.324675</td>\n",
       "    </tr>\n",
       "    <tr>\n",
       "      <th>27</th>\n",
       "      <td>Tỉ lệ đã active/phê duyệt</td>\n",
       "      <td>Tuần 13.03-19.03</td>\n",
       "      <td>76.543210</td>\n",
       "    </tr>\n",
       "    <tr>\n",
       "      <th>28</th>\n",
       "      <td>Tỉ lệ đã active/phê duyệt</td>\n",
       "      <td>Tuần 20.03-26.03</td>\n",
       "      <td>64.583333</td>\n",
       "    </tr>\n",
       "    <tr>\n",
       "      <th>29</th>\n",
       "      <td>Tỉ lệ đã active/phê duyệt</td>\n",
       "      <td>Tuần 27.03-01.04</td>\n",
       "      <td>64.615385</td>\n",
       "    </tr>\n",
       "  </tbody>\n",
       "</table>\n",
       "</div>"
      ],
      "text/plain": [
       "                        month              week       value\n",
       "0               Tỉ lệ gặp/gọi  Tuần 27.02-05.03   18.156121\n",
       "1               Tỉ lệ gặp/gọi  Tuần 06.03-12.03   15.013966\n",
       "2               Tỉ lệ gặp/gọi  Tuần 13.03-19.03   14.257028\n",
       "3               Tỉ lệ gặp/gọi  Tuần 20.03-26.03   17.127371\n",
       "4               Tỉ lệ gặp/gọi  Tuần 27.03-01.04   20.009943\n",
       "5         Tỉ lệ thu hồ sơ/gặp  Tuần 27.02-05.03   16.407186\n",
       "6         Tỉ lệ thu hồ sơ/gặp  Tuần 06.03-12.03   15.658915\n",
       "7         Tỉ lệ thu hồ sơ/gặp  Tuần 13.03-19.03   20.031299\n",
       "8         Tỉ lệ thu hồ sơ/gặp  Tuần 20.03-26.03   20.569620\n",
       "9         Tỉ lệ thu hồ sơ/gặp  Tuần 27.03-01.04   15.279503\n",
       "10   Tỉ lệ định giá/thu hồ sơ  Tuần 27.02-05.03  102.189781\n",
       "11   Tỉ lệ định giá/thu hồ sơ  Tuần 06.03-12.03  127.722772\n",
       "12   Tỉ lệ định giá/thu hồ sơ  Tuần 13.03-19.03  101.562500\n",
       "13   Tỉ lệ định giá/thu hồ sơ  Tuần 20.03-26.03  106.153846\n",
       "14   Tỉ lệ định giá/thu hồ sơ  Tuần 27.03-01.04  113.008130\n",
       "15    Tỉ lệ đã trình/định giá  Tuần 27.02-05.03  100.000000\n",
       "16    Tỉ lệ đã trình/định giá  Tuần 06.03-12.03   86.046512\n",
       "17    Tỉ lệ đã trình/định giá  Tuần 13.03-19.03   96.153846\n",
       "18    Tỉ lệ đã trình/định giá  Tuần 20.03-26.03  100.724638\n",
       "19    Tỉ lệ đã trình/định giá  Tuần 27.03-01.04   96.402878\n",
       "20   Tỉ lệ phê duyệt/đã trình  Tuần 27.02-05.03   64.285714\n",
       "21   Tỉ lệ phê duyệt/đã trình  Tuần 06.03-12.03   69.369369\n",
       "22   Tỉ lệ phê duyệt/đã trình  Tuần 13.03-19.03   64.800000\n",
       "23   Tỉ lệ phê duyệt/đã trình  Tuần 20.03-26.03   69.064748\n",
       "24   Tỉ lệ phê duyệt/đã trình  Tuần 27.03-01.04   97.014925\n",
       "25  Tỉ lệ đã active/phê duyệt  Tuần 27.02-05.03   65.555556\n",
       "26  Tỉ lệ đã active/phê duyệt  Tuần 06.03-12.03   75.324675\n",
       "27  Tỉ lệ đã active/phê duyệt  Tuần 13.03-19.03   76.543210\n",
       "28  Tỉ lệ đã active/phê duyệt  Tuần 20.03-26.03   64.583333\n",
       "29  Tỉ lệ đã active/phê duyệt  Tuần 27.03-01.04   64.615385"
      ]
     },
     "execution_count": 48,
     "metadata": {},
     "output_type": "execute_result"
    }
   ],
   "source": [
    "df = pd.read_csv('a.csv')\n",
    "df"
   ]
  },
  {
   "cell_type": "code",
   "execution_count": null,
   "metadata": {},
   "outputs": [
    {
     "data": {
      "application/vnd.plotly.v1+json": {
       "config": {
        "plotlyServerURL": "https://plotly.com"
       },
       "data": [
        {
         "branchvalues": "total",
         "customdata": [
          [
           15.0139664804469
          ],
          [
           69.3693693693694
          ],
          [
           15.6589147286822
          ],
          [
           75.3246753246753
          ],
          [
           86.046511627907
          ],
          [
           127.722772277228
          ],
          [
           14.2570281124498
          ],
          [
           64.8
          ],
          [
           20.0312989045383
          ],
          [
           76.5432098765432
          ],
          [
           96.1538461538462
          ],
          [
           101.5625
          ],
          [
           17.1273712737127
          ],
          [
           69.0647482014388
          ],
          [
           20.5696202531646
          ],
          [
           64.5833333333333
          ],
          [
           100.724637681159
          ],
          [
           106.153846153846
          ],
          [
           18.1561208958469
          ],
          [
           64.2857142857143
          ],
          [
           16.4071856287425
          ],
          [
           65.5555555555556
          ],
          [
           100
          ],
          [
           102.189781021898
          ],
          [
           20.0099428287348
          ],
          [
           97.0149253731343
          ],
          [
           15.2795031055901
          ],
          [
           64.6153846153846
          ],
          [
           96.40287769784169
          ],
          [
           113.00813008130102
          ],
          [
           17.17118452564917
          ],
          [
           74.96030794121592
          ],
          [
           17.8770317711445
          ],
          [
           69.74844170060639
          ],
          [
           96.15241328241716
          ],
          [
           110.98105021950238
          ]
         ],
         "domain": {
          "x": [
           0,
           1
          ],
          "y": [
           0,
           1
          ]
         },
         "hovertemplate": "labels=%{label}<br>value_sum=%{value}<br>parent=%{parent}<br>id=%{id}<br>value=%{color}<extra></extra>",
         "ids": [
          "Tỉ lệ gặp/gọi/Tuần 06.03-12.03",
          "Tỉ lệ phê duyệt/đã trình/Tuần 06.03-12.03",
          "Tỉ lệ thu hồ sơ/gặp/Tuần 06.03-12.03",
          "Tỉ lệ đã active/phê duyệt/Tuần 06.03-12.03",
          "Tỉ lệ đã trình/định giá/Tuần 06.03-12.03",
          "Tỉ lệ định giá/thu hồ sơ/Tuần 06.03-12.03",
          "Tỉ lệ gặp/gọi/Tuần 13.03-19.03",
          "Tỉ lệ phê duyệt/đã trình/Tuần 13.03-19.03",
          "Tỉ lệ thu hồ sơ/gặp/Tuần 13.03-19.03",
          "Tỉ lệ đã active/phê duyệt/Tuần 13.03-19.03",
          "Tỉ lệ đã trình/định giá/Tuần 13.03-19.03",
          "Tỉ lệ định giá/thu hồ sơ/Tuần 13.03-19.03",
          "Tỉ lệ gặp/gọi/Tuần 20.03-26.03",
          "Tỉ lệ phê duyệt/đã trình/Tuần 20.03-26.03",
          "Tỉ lệ thu hồ sơ/gặp/Tuần 20.03-26.03",
          "Tỉ lệ đã active/phê duyệt/Tuần 20.03-26.03",
          "Tỉ lệ đã trình/định giá/Tuần 20.03-26.03",
          "Tỉ lệ định giá/thu hồ sơ/Tuần 20.03-26.03",
          "Tỉ lệ gặp/gọi/Tuần 27.02-05.03",
          "Tỉ lệ phê duyệt/đã trình/Tuần 27.02-05.03",
          "Tỉ lệ thu hồ sơ/gặp/Tuần 27.02-05.03",
          "Tỉ lệ đã active/phê duyệt/Tuần 27.02-05.03",
          "Tỉ lệ đã trình/định giá/Tuần 27.02-05.03",
          "Tỉ lệ định giá/thu hồ sơ/Tuần 27.02-05.03",
          "Tỉ lệ gặp/gọi/Tuần 27.03-01.04",
          "Tỉ lệ phê duyệt/đã trình/Tuần 27.03-01.04",
          "Tỉ lệ thu hồ sơ/gặp/Tuần 27.03-01.04",
          "Tỉ lệ đã active/phê duyệt/Tuần 27.03-01.04",
          "Tỉ lệ đã trình/định giá/Tuần 27.03-01.04",
          "Tỉ lệ định giá/thu hồ sơ/Tuần 27.03-01.04",
          "Tỉ lệ gặp/gọi",
          "Tỉ lệ phê duyệt/đã trình",
          "Tỉ lệ thu hồ sơ/gặp",
          "Tỉ lệ đã active/phê duyệt",
          "Tỉ lệ đã trình/định giá",
          "Tỉ lệ định giá/thu hồ sơ"
         ],
         "labels": [
          "Tuần 06.03-12.03",
          "Tuần 06.03-12.03",
          "Tuần 06.03-12.03",
          "Tuần 06.03-12.03",
          "Tuần 06.03-12.03",
          "Tuần 06.03-12.03",
          "Tuần 13.03-19.03",
          "Tuần 13.03-19.03",
          "Tuần 13.03-19.03",
          "Tuần 13.03-19.03",
          "Tuần 13.03-19.03",
          "Tuần 13.03-19.03",
          "Tuần 20.03-26.03",
          "Tuần 20.03-26.03",
          "Tuần 20.03-26.03",
          "Tuần 20.03-26.03",
          "Tuần 20.03-26.03",
          "Tuần 20.03-26.03",
          "Tuần 27.02-05.03",
          "Tuần 27.02-05.03",
          "Tuần 27.02-05.03",
          "Tuần 27.02-05.03",
          "Tuần 27.02-05.03",
          "Tuần 27.02-05.03",
          "Tuần 27.03-01.04",
          "Tuần 27.03-01.04",
          "Tuần 27.03-01.04",
          "Tuần 27.03-01.04",
          "Tuần 27.03-01.04",
          "Tuần 27.03-01.04",
          "Tỉ lệ gặp/gọi",
          "Tỉ lệ phê duyệt/đã trình",
          "Tỉ lệ thu hồ sơ/gặp",
          "Tỉ lệ đã active/phê duyệt",
          "Tỉ lệ đã trình/định giá",
          "Tỉ lệ định giá/thu hồ sơ"
         ],
         "marker": {
          "coloraxis": "coloraxis",
          "colors": [
           15.0139664804469,
           69.3693693693694,
           15.6589147286822,
           75.3246753246753,
           86.046511627907,
           127.722772277228,
           14.2570281124498,
           64.8,
           20.0312989045383,
           76.5432098765432,
           96.1538461538462,
           101.5625,
           17.1273712737127,
           69.0647482014388,
           20.5696202531646,
           64.5833333333333,
           100.724637681159,
           106.153846153846,
           18.1561208958469,
           64.2857142857143,
           16.4071856287425,
           65.5555555555556,
           100,
           102.189781021898,
           20.0099428287348,
           97.0149253731343,
           15.2795031055901,
           64.6153846153846,
           96.40287769784169,
           113.00813008130102,
           17.17118452564917,
           74.96030794121592,
           17.8770317711445,
           69.74844170060639,
           96.15241328241716,
           110.98105021950238
          ]
         },
         "name": "",
         "parents": [
          "Tỉ lệ gặp/gọi",
          "Tỉ lệ phê duyệt/đã trình",
          "Tỉ lệ thu hồ sơ/gặp",
          "Tỉ lệ đã active/phê duyệt",
          "Tỉ lệ đã trình/định giá",
          "Tỉ lệ định giá/thu hồ sơ",
          "Tỉ lệ gặp/gọi",
          "Tỉ lệ phê duyệt/đã trình",
          "Tỉ lệ thu hồ sơ/gặp",
          "Tỉ lệ đã active/phê duyệt",
          "Tỉ lệ đã trình/định giá",
          "Tỉ lệ định giá/thu hồ sơ",
          "Tỉ lệ gặp/gọi",
          "Tỉ lệ phê duyệt/đã trình",
          "Tỉ lệ thu hồ sơ/gặp",
          "Tỉ lệ đã active/phê duyệt",
          "Tỉ lệ đã trình/định giá",
          "Tỉ lệ định giá/thu hồ sơ",
          "Tỉ lệ gặp/gọi",
          "Tỉ lệ phê duyệt/đã trình",
          "Tỉ lệ thu hồ sơ/gặp",
          "Tỉ lệ đã active/phê duyệt",
          "Tỉ lệ đã trình/định giá",
          "Tỉ lệ định giá/thu hồ sơ",
          "Tỉ lệ gặp/gọi",
          "Tỉ lệ phê duyệt/đã trình",
          "Tỉ lệ thu hồ sơ/gặp",
          "Tỉ lệ đã active/phê duyệt",
          "Tỉ lệ đã trình/định giá",
          "Tỉ lệ định giá/thu hồ sơ",
          "",
          "",
          "",
          "",
          "",
          ""
         ],
         "type": "sunburst",
         "values": [
          15.0139664804469,
          69.3693693693694,
          15.6589147286822,
          75.3246753246753,
          86.046511627907,
          127.722772277228,
          14.2570281124498,
          64.8,
          20.0312989045383,
          76.5432098765432,
          96.1538461538462,
          101.5625,
          17.1273712737127,
          69.0647482014388,
          20.5696202531646,
          64.5833333333333,
          100.724637681159,
          106.153846153846,
          18.1561208958469,
          64.2857142857143,
          16.4071856287425,
          65.5555555555556,
          100,
          102.189781021898,
          20.0099428287348,
          97.0149253731343,
          15.2795031055901,
          64.6153846153846,
          96.4028776978417,
          113.008130081301,
          84.5644295911911,
          364.5347572296568,
          87.9465226207177,
          346.622158705492,
          479.3278731607539,
          550.637029534273
         ]
        }
       ],
       "layout": {
        "coloraxis": {
         "colorbar": {
          "title": {
           "text": "value"
          }
         },
         "colorscale": [
          [
           0,
           "#e2d9e2"
          ],
          [
           0.1111111111111111,
           "#9ebbc9"
          ],
          [
           0.2222222222222222,
           "#6785be"
          ],
          [
           0.3333333333333333,
           "#5e43a5"
          ],
          [
           0.4444444444444444,
           "#421257"
          ],
          [
           0.5555555555555556,
           "#471340"
          ],
          [
           0.6666666666666666,
           "#8e2c50"
          ],
          [
           0.7777777777777778,
           "#ba6657"
          ],
          [
           0.8888888888888888,
           "#ceac94"
          ],
          [
           1,
           "#e2d9e2"
          ]
         ]
        },
        "legend": {
         "tracegroupgap": 0
        },
        "margin": {
         "t": 60
        },
        "template": {
         "data": {
          "bar": [
           {
            "error_x": {
             "color": "#2a3f5f"
            },
            "error_y": {
             "color": "#2a3f5f"
            },
            "marker": {
             "line": {
              "color": "#E5ECF6",
              "width": 0.5
             },
             "pattern": {
              "fillmode": "overlay",
              "size": 10,
              "solidity": 0.2
             }
            },
            "type": "bar"
           }
          ],
          "barpolar": [
           {
            "marker": {
             "line": {
              "color": "#E5ECF6",
              "width": 0.5
             },
             "pattern": {
              "fillmode": "overlay",
              "size": 10,
              "solidity": 0.2
             }
            },
            "type": "barpolar"
           }
          ],
          "carpet": [
           {
            "aaxis": {
             "endlinecolor": "#2a3f5f",
             "gridcolor": "white",
             "linecolor": "white",
             "minorgridcolor": "white",
             "startlinecolor": "#2a3f5f"
            },
            "baxis": {
             "endlinecolor": "#2a3f5f",
             "gridcolor": "white",
             "linecolor": "white",
             "minorgridcolor": "white",
             "startlinecolor": "#2a3f5f"
            },
            "type": "carpet"
           }
          ],
          "choropleth": [
           {
            "colorbar": {
             "outlinewidth": 0,
             "ticks": ""
            },
            "type": "choropleth"
           }
          ],
          "contour": [
           {
            "colorbar": {
             "outlinewidth": 0,
             "ticks": ""
            },
            "colorscale": [
             [
              0,
              "#0d0887"
             ],
             [
              0.1111111111111111,
              "#46039f"
             ],
             [
              0.2222222222222222,
              "#7201a8"
             ],
             [
              0.3333333333333333,
              "#9c179e"
             ],
             [
              0.4444444444444444,
              "#bd3786"
             ],
             [
              0.5555555555555556,
              "#d8576b"
             ],
             [
              0.6666666666666666,
              "#ed7953"
             ],
             [
              0.7777777777777778,
              "#fb9f3a"
             ],
             [
              0.8888888888888888,
              "#fdca26"
             ],
             [
              1,
              "#f0f921"
             ]
            ],
            "type": "contour"
           }
          ],
          "contourcarpet": [
           {
            "colorbar": {
             "outlinewidth": 0,
             "ticks": ""
            },
            "type": "contourcarpet"
           }
          ],
          "heatmap": [
           {
            "colorbar": {
             "outlinewidth": 0,
             "ticks": ""
            },
            "colorscale": [
             [
              0,
              "#0d0887"
             ],
             [
              0.1111111111111111,
              "#46039f"
             ],
             [
              0.2222222222222222,
              "#7201a8"
             ],
             [
              0.3333333333333333,
              "#9c179e"
             ],
             [
              0.4444444444444444,
              "#bd3786"
             ],
             [
              0.5555555555555556,
              "#d8576b"
             ],
             [
              0.6666666666666666,
              "#ed7953"
             ],
             [
              0.7777777777777778,
              "#fb9f3a"
             ],
             [
              0.8888888888888888,
              "#fdca26"
             ],
             [
              1,
              "#f0f921"
             ]
            ],
            "type": "heatmap"
           }
          ],
          "heatmapgl": [
           {
            "colorbar": {
             "outlinewidth": 0,
             "ticks": ""
            },
            "colorscale": [
             [
              0,
              "#0d0887"
             ],
             [
              0.1111111111111111,
              "#46039f"
             ],
             [
              0.2222222222222222,
              "#7201a8"
             ],
             [
              0.3333333333333333,
              "#9c179e"
             ],
             [
              0.4444444444444444,
              "#bd3786"
             ],
             [
              0.5555555555555556,
              "#d8576b"
             ],
             [
              0.6666666666666666,
              "#ed7953"
             ],
             [
              0.7777777777777778,
              "#fb9f3a"
             ],
             [
              0.8888888888888888,
              "#fdca26"
             ],
             [
              1,
              "#f0f921"
             ]
            ],
            "type": "heatmapgl"
           }
          ],
          "histogram": [
           {
            "marker": {
             "pattern": {
              "fillmode": "overlay",
              "size": 10,
              "solidity": 0.2
             }
            },
            "type": "histogram"
           }
          ],
          "histogram2d": [
           {
            "colorbar": {
             "outlinewidth": 0,
             "ticks": ""
            },
            "colorscale": [
             [
              0,
              "#0d0887"
             ],
             [
              0.1111111111111111,
              "#46039f"
             ],
             [
              0.2222222222222222,
              "#7201a8"
             ],
             [
              0.3333333333333333,
              "#9c179e"
             ],
             [
              0.4444444444444444,
              "#bd3786"
             ],
             [
              0.5555555555555556,
              "#d8576b"
             ],
             [
              0.6666666666666666,
              "#ed7953"
             ],
             [
              0.7777777777777778,
              "#fb9f3a"
             ],
             [
              0.8888888888888888,
              "#fdca26"
             ],
             [
              1,
              "#f0f921"
             ]
            ],
            "type": "histogram2d"
           }
          ],
          "histogram2dcontour": [
           {
            "colorbar": {
             "outlinewidth": 0,
             "ticks": ""
            },
            "colorscale": [
             [
              0,
              "#0d0887"
             ],
             [
              0.1111111111111111,
              "#46039f"
             ],
             [
              0.2222222222222222,
              "#7201a8"
             ],
             [
              0.3333333333333333,
              "#9c179e"
             ],
             [
              0.4444444444444444,
              "#bd3786"
             ],
             [
              0.5555555555555556,
              "#d8576b"
             ],
             [
              0.6666666666666666,
              "#ed7953"
             ],
             [
              0.7777777777777778,
              "#fb9f3a"
             ],
             [
              0.8888888888888888,
              "#fdca26"
             ],
             [
              1,
              "#f0f921"
             ]
            ],
            "type": "histogram2dcontour"
           }
          ],
          "mesh3d": [
           {
            "colorbar": {
             "outlinewidth": 0,
             "ticks": ""
            },
            "type": "mesh3d"
           }
          ],
          "parcoords": [
           {
            "line": {
             "colorbar": {
              "outlinewidth": 0,
              "ticks": ""
             }
            },
            "type": "parcoords"
           }
          ],
          "pie": [
           {
            "automargin": true,
            "type": "pie"
           }
          ],
          "scatter": [
           {
            "fillpattern": {
             "fillmode": "overlay",
             "size": 10,
             "solidity": 0.2
            },
            "type": "scatter"
           }
          ],
          "scatter3d": [
           {
            "line": {
             "colorbar": {
              "outlinewidth": 0,
              "ticks": ""
             }
            },
            "marker": {
             "colorbar": {
              "outlinewidth": 0,
              "ticks": ""
             }
            },
            "type": "scatter3d"
           }
          ],
          "scattercarpet": [
           {
            "marker": {
             "colorbar": {
              "outlinewidth": 0,
              "ticks": ""
             }
            },
            "type": "scattercarpet"
           }
          ],
          "scattergeo": [
           {
            "marker": {
             "colorbar": {
              "outlinewidth": 0,
              "ticks": ""
             }
            },
            "type": "scattergeo"
           }
          ],
          "scattergl": [
           {
            "marker": {
             "colorbar": {
              "outlinewidth": 0,
              "ticks": ""
             }
            },
            "type": "scattergl"
           }
          ],
          "scattermapbox": [
           {
            "marker": {
             "colorbar": {
              "outlinewidth": 0,
              "ticks": ""
             }
            },
            "type": "scattermapbox"
           }
          ],
          "scatterpolar": [
           {
            "marker": {
             "colorbar": {
              "outlinewidth": 0,
              "ticks": ""
             }
            },
            "type": "scatterpolar"
           }
          ],
          "scatterpolargl": [
           {
            "marker": {
             "colorbar": {
              "outlinewidth": 0,
              "ticks": ""
             }
            },
            "type": "scatterpolargl"
           }
          ],
          "scatterternary": [
           {
            "marker": {
             "colorbar": {
              "outlinewidth": 0,
              "ticks": ""
             }
            },
            "type": "scatterternary"
           }
          ],
          "surface": [
           {
            "colorbar": {
             "outlinewidth": 0,
             "ticks": ""
            },
            "colorscale": [
             [
              0,
              "#0d0887"
             ],
             [
              0.1111111111111111,
              "#46039f"
             ],
             [
              0.2222222222222222,
              "#7201a8"
             ],
             [
              0.3333333333333333,
              "#9c179e"
             ],
             [
              0.4444444444444444,
              "#bd3786"
             ],
             [
              0.5555555555555556,
              "#d8576b"
             ],
             [
              0.6666666666666666,
              "#ed7953"
             ],
             [
              0.7777777777777778,
              "#fb9f3a"
             ],
             [
              0.8888888888888888,
              "#fdca26"
             ],
             [
              1,
              "#f0f921"
             ]
            ],
            "type": "surface"
           }
          ],
          "table": [
           {
            "cells": {
             "fill": {
              "color": "#EBF0F8"
             },
             "line": {
              "color": "white"
             }
            },
            "header": {
             "fill": {
              "color": "#C8D4E3"
             },
             "line": {
              "color": "white"
             }
            },
            "type": "table"
           }
          ]
         },
         "layout": {
          "annotationdefaults": {
           "arrowcolor": "#2a3f5f",
           "arrowhead": 0,
           "arrowwidth": 1
          },
          "autotypenumbers": "strict",
          "coloraxis": {
           "colorbar": {
            "outlinewidth": 0,
            "ticks": ""
           }
          },
          "colorscale": {
           "diverging": [
            [
             0,
             "#8e0152"
            ],
            [
             0.1,
             "#c51b7d"
            ],
            [
             0.2,
             "#de77ae"
            ],
            [
             0.3,
             "#f1b6da"
            ],
            [
             0.4,
             "#fde0ef"
            ],
            [
             0.5,
             "#f7f7f7"
            ],
            [
             0.6,
             "#e6f5d0"
            ],
            [
             0.7,
             "#b8e186"
            ],
            [
             0.8,
             "#7fbc41"
            ],
            [
             0.9,
             "#4d9221"
            ],
            [
             1,
             "#276419"
            ]
           ],
           "sequential": [
            [
             0,
             "#0d0887"
            ],
            [
             0.1111111111111111,
             "#46039f"
            ],
            [
             0.2222222222222222,
             "#7201a8"
            ],
            [
             0.3333333333333333,
             "#9c179e"
            ],
            [
             0.4444444444444444,
             "#bd3786"
            ],
            [
             0.5555555555555556,
             "#d8576b"
            ],
            [
             0.6666666666666666,
             "#ed7953"
            ],
            [
             0.7777777777777778,
             "#fb9f3a"
            ],
            [
             0.8888888888888888,
             "#fdca26"
            ],
            [
             1,
             "#f0f921"
            ]
           ],
           "sequentialminus": [
            [
             0,
             "#0d0887"
            ],
            [
             0.1111111111111111,
             "#46039f"
            ],
            [
             0.2222222222222222,
             "#7201a8"
            ],
            [
             0.3333333333333333,
             "#9c179e"
            ],
            [
             0.4444444444444444,
             "#bd3786"
            ],
            [
             0.5555555555555556,
             "#d8576b"
            ],
            [
             0.6666666666666666,
             "#ed7953"
            ],
            [
             0.7777777777777778,
             "#fb9f3a"
            ],
            [
             0.8888888888888888,
             "#fdca26"
            ],
            [
             1,
             "#f0f921"
            ]
           ]
          },
          "colorway": [
           "#636efa",
           "#EF553B",
           "#00cc96",
           "#ab63fa",
           "#FFA15A",
           "#19d3f3",
           "#FF6692",
           "#B6E880",
           "#FF97FF",
           "#FECB52"
          ],
          "font": {
           "color": "#2a3f5f"
          },
          "geo": {
           "bgcolor": "white",
           "lakecolor": "white",
           "landcolor": "#E5ECF6",
           "showlakes": true,
           "showland": true,
           "subunitcolor": "white"
          },
          "hoverlabel": {
           "align": "left"
          },
          "hovermode": "closest",
          "mapbox": {
           "style": "light"
          },
          "paper_bgcolor": "white",
          "plot_bgcolor": "#E5ECF6",
          "polar": {
           "angularaxis": {
            "gridcolor": "white",
            "linecolor": "white",
            "ticks": ""
           },
           "bgcolor": "#E5ECF6",
           "radialaxis": {
            "gridcolor": "white",
            "linecolor": "white",
            "ticks": ""
           }
          },
          "scene": {
           "xaxis": {
            "backgroundcolor": "#E5ECF6",
            "gridcolor": "white",
            "gridwidth": 2,
            "linecolor": "white",
            "showbackground": true,
            "ticks": "",
            "zerolinecolor": "white"
           },
           "yaxis": {
            "backgroundcolor": "#E5ECF6",
            "gridcolor": "white",
            "gridwidth": 2,
            "linecolor": "white",
            "showbackground": true,
            "ticks": "",
            "zerolinecolor": "white"
           },
           "zaxis": {
            "backgroundcolor": "#E5ECF6",
            "gridcolor": "white",
            "gridwidth": 2,
            "linecolor": "white",
            "showbackground": true,
            "ticks": "",
            "zerolinecolor": "white"
           }
          },
          "shapedefaults": {
           "line": {
            "color": "#2a3f5f"
           }
          },
          "ternary": {
           "aaxis": {
            "gridcolor": "white",
            "linecolor": "white",
            "ticks": ""
           },
           "baxis": {
            "gridcolor": "white",
            "linecolor": "white",
            "ticks": ""
           },
           "bgcolor": "#E5ECF6",
           "caxis": {
            "gridcolor": "white",
            "linecolor": "white",
            "ticks": ""
           }
          },
          "title": {
           "x": 0.05
          },
          "xaxis": {
           "automargin": true,
           "gridcolor": "white",
           "linecolor": "white",
           "ticks": "",
           "title": {
            "standoff": 15
           },
           "zerolinecolor": "white",
           "zerolinewidth": 2
          },
          "yaxis": {
           "automargin": true,
           "gridcolor": "white",
           "linecolor": "white",
           "ticks": "",
           "title": {
            "standoff": 15
           },
           "zerolinecolor": "white",
           "zerolinewidth": 2
          }
         }
        }
       }
      }
     },
     "metadata": {},
     "output_type": "display_data"
    }
   ],
   "source": [
    "import plotly.express as px\n",
    "fig = px.sunburst(df, path=['month', 'week'], values='value', color = 'value', color_continuous_scale='twilight')\n",
    "fig.show()"
   ]
  },
  {
   "cell_type": "code",
   "execution_count": 4,
   "metadata": {},
   "outputs": [
    {
     "data": {
      "text/html": [
       "<div>\n",
       "<style scoped>\n",
       "    .dataframe tbody tr th:only-of-type {\n",
       "        vertical-align: middle;\n",
       "    }\n",
       "\n",
       "    .dataframe tbody tr th {\n",
       "        vertical-align: top;\n",
       "    }\n",
       "\n",
       "    .dataframe thead th {\n",
       "        text-align: right;\n",
       "    }\n",
       "</style>\n",
       "<table border=\"1\" class=\"dataframe\">\n",
       "  <thead>\n",
       "    <tr style=\"text-align: right;\">\n",
       "      <th></th>\n",
       "      <th>thập</th>\n",
       "      <th>week</th>\n",
       "      <th>value</th>\n",
       "    </tr>\n",
       "  </thead>\n",
       "  <tbody>\n",
       "    <tr>\n",
       "      <th>0</th>\n",
       "      <td>gọi</td>\n",
       "      <td>Tuần 27.02-05.03</td>\n",
       "      <td>4599</td>\n",
       "    </tr>\n",
       "    <tr>\n",
       "      <th>1</th>\n",
       "      <td>gọi</td>\n",
       "      <td>Tuần 06.03-12.03</td>\n",
       "      <td>4296</td>\n",
       "    </tr>\n",
       "    <tr>\n",
       "      <th>2</th>\n",
       "      <td>gọi</td>\n",
       "      <td>Tuần 13.03-19.03</td>\n",
       "      <td>4482</td>\n",
       "    </tr>\n",
       "    <tr>\n",
       "      <th>3</th>\n",
       "      <td>gọi</td>\n",
       "      <td>Tuần 20.03-26.03</td>\n",
       "      <td>3690</td>\n",
       "    </tr>\n",
       "    <tr>\n",
       "      <th>4</th>\n",
       "      <td>gọi</td>\n",
       "      <td>Tuần 27.03-01.04</td>\n",
       "      <td>4023</td>\n",
       "    </tr>\n",
       "    <tr>\n",
       "      <th>5</th>\n",
       "      <td>gặp</td>\n",
       "      <td>Tuần 27.02-05.03</td>\n",
       "      <td>835</td>\n",
       "    </tr>\n",
       "    <tr>\n",
       "      <th>6</th>\n",
       "      <td>gặp</td>\n",
       "      <td>Tuần 06.03-12.03</td>\n",
       "      <td>645</td>\n",
       "    </tr>\n",
       "    <tr>\n",
       "      <th>7</th>\n",
       "      <td>gặp</td>\n",
       "      <td>Tuần 13.03-19.03</td>\n",
       "      <td>639</td>\n",
       "    </tr>\n",
       "    <tr>\n",
       "      <th>8</th>\n",
       "      <td>gặp</td>\n",
       "      <td>Tuần 20.03-26.03</td>\n",
       "      <td>632</td>\n",
       "    </tr>\n",
       "    <tr>\n",
       "      <th>9</th>\n",
       "      <td>gặp</td>\n",
       "      <td>Tuần 27.03-01.04</td>\n",
       "      <td>805</td>\n",
       "    </tr>\n",
       "    <tr>\n",
       "      <th>10</th>\n",
       "      <td>thu_thập</td>\n",
       "      <td>Tuần 27.02-05.03</td>\n",
       "      <td>137</td>\n",
       "    </tr>\n",
       "    <tr>\n",
       "      <th>11</th>\n",
       "      <td>thu_thập</td>\n",
       "      <td>Tuần 06.03-12.03</td>\n",
       "      <td>101</td>\n",
       "    </tr>\n",
       "    <tr>\n",
       "      <th>12</th>\n",
       "      <td>thu_thập</td>\n",
       "      <td>Tuần 13.03-19.03</td>\n",
       "      <td>128</td>\n",
       "    </tr>\n",
       "    <tr>\n",
       "      <th>13</th>\n",
       "      <td>thu_thập</td>\n",
       "      <td>Tuần 20.03-26.03</td>\n",
       "      <td>130</td>\n",
       "    </tr>\n",
       "    <tr>\n",
       "      <th>14</th>\n",
       "      <td>thu_thập</td>\n",
       "      <td>Tuần 27.03-01.04</td>\n",
       "      <td>123</td>\n",
       "    </tr>\n",
       "    <tr>\n",
       "      <th>15</th>\n",
       "      <td>định</td>\n",
       "      <td>Tuần 27.02-05.03</td>\n",
       "      <td>140</td>\n",
       "    </tr>\n",
       "    <tr>\n",
       "      <th>16</th>\n",
       "      <td>định</td>\n",
       "      <td>Tuần 06.03-12.03</td>\n",
       "      <td>129</td>\n",
       "    </tr>\n",
       "    <tr>\n",
       "      <th>17</th>\n",
       "      <td>định</td>\n",
       "      <td>Tuần 13.03-19.03</td>\n",
       "      <td>130</td>\n",
       "    </tr>\n",
       "    <tr>\n",
       "      <th>18</th>\n",
       "      <td>định</td>\n",
       "      <td>Tuần 20.03-26.03</td>\n",
       "      <td>138</td>\n",
       "    </tr>\n",
       "    <tr>\n",
       "      <th>19</th>\n",
       "      <td>định</td>\n",
       "      <td>Tuần 27.03-01.04</td>\n",
       "      <td>139</td>\n",
       "    </tr>\n",
       "    <tr>\n",
       "      <th>20</th>\n",
       "      <td>trình</td>\n",
       "      <td>Tuần 27.02-05.03</td>\n",
       "      <td>140</td>\n",
       "    </tr>\n",
       "    <tr>\n",
       "      <th>21</th>\n",
       "      <td>trình</td>\n",
       "      <td>Tuần 06.03-12.03</td>\n",
       "      <td>111</td>\n",
       "    </tr>\n",
       "    <tr>\n",
       "      <th>22</th>\n",
       "      <td>trình</td>\n",
       "      <td>Tuần 13.03-19.03</td>\n",
       "      <td>125</td>\n",
       "    </tr>\n",
       "    <tr>\n",
       "      <th>23</th>\n",
       "      <td>trình</td>\n",
       "      <td>Tuần 20.03-26.03</td>\n",
       "      <td>139</td>\n",
       "    </tr>\n",
       "    <tr>\n",
       "      <th>24</th>\n",
       "      <td>trình</td>\n",
       "      <td>Tuần 27.03-01.04</td>\n",
       "      <td>134</td>\n",
       "    </tr>\n",
       "    <tr>\n",
       "      <th>25</th>\n",
       "      <td>phê</td>\n",
       "      <td>Tuần 27.02-05.03</td>\n",
       "      <td>90</td>\n",
       "    </tr>\n",
       "    <tr>\n",
       "      <th>26</th>\n",
       "      <td>phê</td>\n",
       "      <td>Tuần 06.03-12.03</td>\n",
       "      <td>77</td>\n",
       "    </tr>\n",
       "    <tr>\n",
       "      <th>27</th>\n",
       "      <td>phê</td>\n",
       "      <td>Tuần 13.03-19.03</td>\n",
       "      <td>81</td>\n",
       "    </tr>\n",
       "    <tr>\n",
       "      <th>28</th>\n",
       "      <td>phê</td>\n",
       "      <td>Tuần 20.03-26.03</td>\n",
       "      <td>96</td>\n",
       "    </tr>\n",
       "    <tr>\n",
       "      <th>29</th>\n",
       "      <td>phê</td>\n",
       "      <td>Tuần 27.03-01.04</td>\n",
       "      <td>130</td>\n",
       "    </tr>\n",
       "    <tr>\n",
       "      <th>30</th>\n",
       "      <td>active</td>\n",
       "      <td>Tuần 27.02-05.03</td>\n",
       "      <td>59</td>\n",
       "    </tr>\n",
       "    <tr>\n",
       "      <th>31</th>\n",
       "      <td>active</td>\n",
       "      <td>Tuần 06.03-12.03</td>\n",
       "      <td>58</td>\n",
       "    </tr>\n",
       "    <tr>\n",
       "      <th>32</th>\n",
       "      <td>active</td>\n",
       "      <td>Tuần 13.03-19.03</td>\n",
       "      <td>62</td>\n",
       "    </tr>\n",
       "    <tr>\n",
       "      <th>33</th>\n",
       "      <td>active</td>\n",
       "      <td>Tuần 20.03-26.03</td>\n",
       "      <td>62</td>\n",
       "    </tr>\n",
       "    <tr>\n",
       "      <th>34</th>\n",
       "      <td>active</td>\n",
       "      <td>Tuần 27.03-01.04</td>\n",
       "      <td>84</td>\n",
       "    </tr>\n",
       "  </tbody>\n",
       "</table>\n",
       "</div>"
      ],
      "text/plain": [
       "        thập              week  value\n",
       "0        gọi  Tuần 27.02-05.03   4599\n",
       "1        gọi  Tuần 06.03-12.03   4296\n",
       "2        gọi  Tuần 13.03-19.03   4482\n",
       "3        gọi  Tuần 20.03-26.03   3690\n",
       "4        gọi  Tuần 27.03-01.04   4023\n",
       "5        gặp  Tuần 27.02-05.03    835\n",
       "6        gặp  Tuần 06.03-12.03    645\n",
       "7        gặp  Tuần 13.03-19.03    639\n",
       "8        gặp  Tuần 20.03-26.03    632\n",
       "9        gặp  Tuần 27.03-01.04    805\n",
       "10  thu_thập  Tuần 27.02-05.03    137\n",
       "11  thu_thập  Tuần 06.03-12.03    101\n",
       "12  thu_thập  Tuần 13.03-19.03    128\n",
       "13  thu_thập  Tuần 20.03-26.03    130\n",
       "14  thu_thập  Tuần 27.03-01.04    123\n",
       "15      định  Tuần 27.02-05.03    140\n",
       "16      định  Tuần 06.03-12.03    129\n",
       "17      định  Tuần 13.03-19.03    130\n",
       "18      định  Tuần 20.03-26.03    138\n",
       "19      định  Tuần 27.03-01.04    139\n",
       "20     trình  Tuần 27.02-05.03    140\n",
       "21     trình  Tuần 06.03-12.03    111\n",
       "22     trình  Tuần 13.03-19.03    125\n",
       "23     trình  Tuần 20.03-26.03    139\n",
       "24     trình  Tuần 27.03-01.04    134\n",
       "25       phê  Tuần 27.02-05.03     90\n",
       "26       phê  Tuần 06.03-12.03     77\n",
       "27       phê  Tuần 13.03-19.03     81\n",
       "28       phê  Tuần 20.03-26.03     96\n",
       "29       phê  Tuần 27.03-01.04    130\n",
       "30    active  Tuần 27.02-05.03     59\n",
       "31    active  Tuần 06.03-12.03     58\n",
       "32    active  Tuần 13.03-19.03     62\n",
       "33    active  Tuần 20.03-26.03     62\n",
       "34    active  Tuần 27.03-01.04     84"
      ]
     },
     "execution_count": 4,
     "metadata": {},
     "output_type": "execute_result"
    }
   ],
   "source": [
    "df = pd.read_csv('b.csv')\n",
    "df\n"
   ]
  },
  {
   "cell_type": "code",
   "execution_count": 10,
   "metadata": {},
   "outputs": [
    {
     "data": {
      "application/vnd.plotly.v1+json": {
       "config": {
        "plotlyServerURL": "https://plotly.com"
       },
       "data": [
        {
         "hovertemplate": "thập=gọi<br>week=%{x}<br>value=%{marker.size}<extra></extra>",
         "legendgroup": "gọi",
         "marker": {
          "color": "#636efa",
          "size": [
           4599,
           4296,
           4482,
           3690,
           4023
          ],
          "sizemode": "area",
          "sizeref": 11.4975,
          "symbol": "circle"
         },
         "mode": "markers",
         "name": "gọi",
         "orientation": "v",
         "showlegend": true,
         "type": "scatter",
         "x": [
          "Tuần 27.02-05.03",
          "Tuần 06.03-12.03",
          "Tuần 13.03-19.03",
          "Tuần 20.03-26.03",
          "Tuần 27.03-01.04"
         ],
         "xaxis": "x",
         "y": [
          4599,
          4296,
          4482,
          3690,
          4023
         ],
         "yaxis": "y"
        },
        {
         "hovertemplate": "thập=gặp<br>week=%{x}<br>value=%{marker.size}<extra></extra>",
         "legendgroup": "gặp",
         "marker": {
          "color": "#EF553B",
          "size": [
           835,
           645,
           639,
           632,
           805
          ],
          "sizemode": "area",
          "sizeref": 11.4975,
          "symbol": "circle"
         },
         "mode": "markers",
         "name": "gặp",
         "orientation": "v",
         "showlegend": true,
         "type": "scatter",
         "x": [
          "Tuần 27.02-05.03",
          "Tuần 06.03-12.03",
          "Tuần 13.03-19.03",
          "Tuần 20.03-26.03",
          "Tuần 27.03-01.04"
         ],
         "xaxis": "x",
         "y": [
          835,
          645,
          639,
          632,
          805
         ],
         "yaxis": "y"
        },
        {
         "hovertemplate": "thập=thu_thập<br>week=%{x}<br>value=%{marker.size}<extra></extra>",
         "legendgroup": "thu_thập",
         "marker": {
          "color": "#00cc96",
          "size": [
           137,
           101,
           128,
           130,
           123
          ],
          "sizemode": "area",
          "sizeref": 11.4975,
          "symbol": "circle"
         },
         "mode": "markers",
         "name": "thu_thập",
         "orientation": "v",
         "showlegend": true,
         "type": "scatter",
         "x": [
          "Tuần 27.02-05.03",
          "Tuần 06.03-12.03",
          "Tuần 13.03-19.03",
          "Tuần 20.03-26.03",
          "Tuần 27.03-01.04"
         ],
         "xaxis": "x",
         "y": [
          137,
          101,
          128,
          130,
          123
         ],
         "yaxis": "y"
        },
        {
         "hovertemplate": "thập=định<br>week=%{x}<br>value=%{marker.size}<extra></extra>",
         "legendgroup": "định",
         "marker": {
          "color": "#ab63fa",
          "size": [
           140,
           129,
           130,
           138,
           139
          ],
          "sizemode": "area",
          "sizeref": 11.4975,
          "symbol": "circle"
         },
         "mode": "markers",
         "name": "định",
         "orientation": "v",
         "showlegend": true,
         "type": "scatter",
         "x": [
          "Tuần 27.02-05.03",
          "Tuần 06.03-12.03",
          "Tuần 13.03-19.03",
          "Tuần 20.03-26.03",
          "Tuần 27.03-01.04"
         ],
         "xaxis": "x",
         "y": [
          140,
          129,
          130,
          138,
          139
         ],
         "yaxis": "y"
        },
        {
         "hovertemplate": "thập=trình<br>week=%{x}<br>value=%{marker.size}<extra></extra>",
         "legendgroup": "trình",
         "marker": {
          "color": "#FFA15A",
          "size": [
           140,
           111,
           125,
           139,
           134
          ],
          "sizemode": "area",
          "sizeref": 11.4975,
          "symbol": "circle"
         },
         "mode": "markers",
         "name": "trình",
         "orientation": "v",
         "showlegend": true,
         "type": "scatter",
         "x": [
          "Tuần 27.02-05.03",
          "Tuần 06.03-12.03",
          "Tuần 13.03-19.03",
          "Tuần 20.03-26.03",
          "Tuần 27.03-01.04"
         ],
         "xaxis": "x",
         "y": [
          140,
          111,
          125,
          139,
          134
         ],
         "yaxis": "y"
        },
        {
         "hovertemplate": "thập=phê<br>week=%{x}<br>value=%{marker.size}<extra></extra>",
         "legendgroup": "phê",
         "marker": {
          "color": "#19d3f3",
          "size": [
           90,
           77,
           81,
           96,
           130
          ],
          "sizemode": "area",
          "sizeref": 11.4975,
          "symbol": "circle"
         },
         "mode": "markers",
         "name": "phê",
         "orientation": "v",
         "showlegend": true,
         "type": "scatter",
         "x": [
          "Tuần 27.02-05.03",
          "Tuần 06.03-12.03",
          "Tuần 13.03-19.03",
          "Tuần 20.03-26.03",
          "Tuần 27.03-01.04"
         ],
         "xaxis": "x",
         "y": [
          90,
          77,
          81,
          96,
          130
         ],
         "yaxis": "y"
        },
        {
         "hovertemplate": "thập=active<br>week=%{x}<br>value=%{marker.size}<extra></extra>",
         "legendgroup": "active",
         "marker": {
          "color": "#FF6692",
          "size": [
           59,
           58,
           62,
           62,
           84
          ],
          "sizemode": "area",
          "sizeref": 11.4975,
          "symbol": "circle"
         },
         "mode": "markers",
         "name": "active",
         "orientation": "v",
         "showlegend": true,
         "type": "scatter",
         "x": [
          "Tuần 27.02-05.03",
          "Tuần 06.03-12.03",
          "Tuần 13.03-19.03",
          "Tuần 20.03-26.03",
          "Tuần 27.03-01.04"
         ],
         "xaxis": "x",
         "y": [
          59,
          58,
          62,
          62,
          84
         ],
         "yaxis": "y"
        }
       ],
       "layout": {
        "legend": {
         "itemsizing": "constant",
         "title": {
          "text": "thập"
         },
         "tracegroupgap": 0
        },
        "margin": {
         "t": 60
        },
        "template": {
         "data": {
          "bar": [
           {
            "error_x": {
             "color": "#2a3f5f"
            },
            "error_y": {
             "color": "#2a3f5f"
            },
            "marker": {
             "line": {
              "color": "#E5ECF6",
              "width": 0.5
             },
             "pattern": {
              "fillmode": "overlay",
              "size": 10,
              "solidity": 0.2
             }
            },
            "type": "bar"
           }
          ],
          "barpolar": [
           {
            "marker": {
             "line": {
              "color": "#E5ECF6",
              "width": 0.5
             },
             "pattern": {
              "fillmode": "overlay",
              "size": 10,
              "solidity": 0.2
             }
            },
            "type": "barpolar"
           }
          ],
          "carpet": [
           {
            "aaxis": {
             "endlinecolor": "#2a3f5f",
             "gridcolor": "white",
             "linecolor": "white",
             "minorgridcolor": "white",
             "startlinecolor": "#2a3f5f"
            },
            "baxis": {
             "endlinecolor": "#2a3f5f",
             "gridcolor": "white",
             "linecolor": "white",
             "minorgridcolor": "white",
             "startlinecolor": "#2a3f5f"
            },
            "type": "carpet"
           }
          ],
          "choropleth": [
           {
            "colorbar": {
             "outlinewidth": 0,
             "ticks": ""
            },
            "type": "choropleth"
           }
          ],
          "contour": [
           {
            "colorbar": {
             "outlinewidth": 0,
             "ticks": ""
            },
            "colorscale": [
             [
              0,
              "#0d0887"
             ],
             [
              0.1111111111111111,
              "#46039f"
             ],
             [
              0.2222222222222222,
              "#7201a8"
             ],
             [
              0.3333333333333333,
              "#9c179e"
             ],
             [
              0.4444444444444444,
              "#bd3786"
             ],
             [
              0.5555555555555556,
              "#d8576b"
             ],
             [
              0.6666666666666666,
              "#ed7953"
             ],
             [
              0.7777777777777778,
              "#fb9f3a"
             ],
             [
              0.8888888888888888,
              "#fdca26"
             ],
             [
              1,
              "#f0f921"
             ]
            ],
            "type": "contour"
           }
          ],
          "contourcarpet": [
           {
            "colorbar": {
             "outlinewidth": 0,
             "ticks": ""
            },
            "type": "contourcarpet"
           }
          ],
          "heatmap": [
           {
            "colorbar": {
             "outlinewidth": 0,
             "ticks": ""
            },
            "colorscale": [
             [
              0,
              "#0d0887"
             ],
             [
              0.1111111111111111,
              "#46039f"
             ],
             [
              0.2222222222222222,
              "#7201a8"
             ],
             [
              0.3333333333333333,
              "#9c179e"
             ],
             [
              0.4444444444444444,
              "#bd3786"
             ],
             [
              0.5555555555555556,
              "#d8576b"
             ],
             [
              0.6666666666666666,
              "#ed7953"
             ],
             [
              0.7777777777777778,
              "#fb9f3a"
             ],
             [
              0.8888888888888888,
              "#fdca26"
             ],
             [
              1,
              "#f0f921"
             ]
            ],
            "type": "heatmap"
           }
          ],
          "heatmapgl": [
           {
            "colorbar": {
             "outlinewidth": 0,
             "ticks": ""
            },
            "colorscale": [
             [
              0,
              "#0d0887"
             ],
             [
              0.1111111111111111,
              "#46039f"
             ],
             [
              0.2222222222222222,
              "#7201a8"
             ],
             [
              0.3333333333333333,
              "#9c179e"
             ],
             [
              0.4444444444444444,
              "#bd3786"
             ],
             [
              0.5555555555555556,
              "#d8576b"
             ],
             [
              0.6666666666666666,
              "#ed7953"
             ],
             [
              0.7777777777777778,
              "#fb9f3a"
             ],
             [
              0.8888888888888888,
              "#fdca26"
             ],
             [
              1,
              "#f0f921"
             ]
            ],
            "type": "heatmapgl"
           }
          ],
          "histogram": [
           {
            "marker": {
             "pattern": {
              "fillmode": "overlay",
              "size": 10,
              "solidity": 0.2
             }
            },
            "type": "histogram"
           }
          ],
          "histogram2d": [
           {
            "colorbar": {
             "outlinewidth": 0,
             "ticks": ""
            },
            "colorscale": [
             [
              0,
              "#0d0887"
             ],
             [
              0.1111111111111111,
              "#46039f"
             ],
             [
              0.2222222222222222,
              "#7201a8"
             ],
             [
              0.3333333333333333,
              "#9c179e"
             ],
             [
              0.4444444444444444,
              "#bd3786"
             ],
             [
              0.5555555555555556,
              "#d8576b"
             ],
             [
              0.6666666666666666,
              "#ed7953"
             ],
             [
              0.7777777777777778,
              "#fb9f3a"
             ],
             [
              0.8888888888888888,
              "#fdca26"
             ],
             [
              1,
              "#f0f921"
             ]
            ],
            "type": "histogram2d"
           }
          ],
          "histogram2dcontour": [
           {
            "colorbar": {
             "outlinewidth": 0,
             "ticks": ""
            },
            "colorscale": [
             [
              0,
              "#0d0887"
             ],
             [
              0.1111111111111111,
              "#46039f"
             ],
             [
              0.2222222222222222,
              "#7201a8"
             ],
             [
              0.3333333333333333,
              "#9c179e"
             ],
             [
              0.4444444444444444,
              "#bd3786"
             ],
             [
              0.5555555555555556,
              "#d8576b"
             ],
             [
              0.6666666666666666,
              "#ed7953"
             ],
             [
              0.7777777777777778,
              "#fb9f3a"
             ],
             [
              0.8888888888888888,
              "#fdca26"
             ],
             [
              1,
              "#f0f921"
             ]
            ],
            "type": "histogram2dcontour"
           }
          ],
          "mesh3d": [
           {
            "colorbar": {
             "outlinewidth": 0,
             "ticks": ""
            },
            "type": "mesh3d"
           }
          ],
          "parcoords": [
           {
            "line": {
             "colorbar": {
              "outlinewidth": 0,
              "ticks": ""
             }
            },
            "type": "parcoords"
           }
          ],
          "pie": [
           {
            "automargin": true,
            "type": "pie"
           }
          ],
          "scatter": [
           {
            "fillpattern": {
             "fillmode": "overlay",
             "size": 10,
             "solidity": 0.2
            },
            "type": "scatter"
           }
          ],
          "scatter3d": [
           {
            "line": {
             "colorbar": {
              "outlinewidth": 0,
              "ticks": ""
             }
            },
            "marker": {
             "colorbar": {
              "outlinewidth": 0,
              "ticks": ""
             }
            },
            "type": "scatter3d"
           }
          ],
          "scattercarpet": [
           {
            "marker": {
             "colorbar": {
              "outlinewidth": 0,
              "ticks": ""
             }
            },
            "type": "scattercarpet"
           }
          ],
          "scattergeo": [
           {
            "marker": {
             "colorbar": {
              "outlinewidth": 0,
              "ticks": ""
             }
            },
            "type": "scattergeo"
           }
          ],
          "scattergl": [
           {
            "marker": {
             "colorbar": {
              "outlinewidth": 0,
              "ticks": ""
             }
            },
            "type": "scattergl"
           }
          ],
          "scattermapbox": [
           {
            "marker": {
             "colorbar": {
              "outlinewidth": 0,
              "ticks": ""
             }
            },
            "type": "scattermapbox"
           }
          ],
          "scatterpolar": [
           {
            "marker": {
             "colorbar": {
              "outlinewidth": 0,
              "ticks": ""
             }
            },
            "type": "scatterpolar"
           }
          ],
          "scatterpolargl": [
           {
            "marker": {
             "colorbar": {
              "outlinewidth": 0,
              "ticks": ""
             }
            },
            "type": "scatterpolargl"
           }
          ],
          "scatterternary": [
           {
            "marker": {
             "colorbar": {
              "outlinewidth": 0,
              "ticks": ""
             }
            },
            "type": "scatterternary"
           }
          ],
          "surface": [
           {
            "colorbar": {
             "outlinewidth": 0,
             "ticks": ""
            },
            "colorscale": [
             [
              0,
              "#0d0887"
             ],
             [
              0.1111111111111111,
              "#46039f"
             ],
             [
              0.2222222222222222,
              "#7201a8"
             ],
             [
              0.3333333333333333,
              "#9c179e"
             ],
             [
              0.4444444444444444,
              "#bd3786"
             ],
             [
              0.5555555555555556,
              "#d8576b"
             ],
             [
              0.6666666666666666,
              "#ed7953"
             ],
             [
              0.7777777777777778,
              "#fb9f3a"
             ],
             [
              0.8888888888888888,
              "#fdca26"
             ],
             [
              1,
              "#f0f921"
             ]
            ],
            "type": "surface"
           }
          ],
          "table": [
           {
            "cells": {
             "fill": {
              "color": "#EBF0F8"
             },
             "line": {
              "color": "white"
             }
            },
            "header": {
             "fill": {
              "color": "#C8D4E3"
             },
             "line": {
              "color": "white"
             }
            },
            "type": "table"
           }
          ]
         },
         "layout": {
          "annotationdefaults": {
           "arrowcolor": "#2a3f5f",
           "arrowhead": 0,
           "arrowwidth": 1
          },
          "autotypenumbers": "strict",
          "coloraxis": {
           "colorbar": {
            "outlinewidth": 0,
            "ticks": ""
           }
          },
          "colorscale": {
           "diverging": [
            [
             0,
             "#8e0152"
            ],
            [
             0.1,
             "#c51b7d"
            ],
            [
             0.2,
             "#de77ae"
            ],
            [
             0.3,
             "#f1b6da"
            ],
            [
             0.4,
             "#fde0ef"
            ],
            [
             0.5,
             "#f7f7f7"
            ],
            [
             0.6,
             "#e6f5d0"
            ],
            [
             0.7,
             "#b8e186"
            ],
            [
             0.8,
             "#7fbc41"
            ],
            [
             0.9,
             "#4d9221"
            ],
            [
             1,
             "#276419"
            ]
           ],
           "sequential": [
            [
             0,
             "#0d0887"
            ],
            [
             0.1111111111111111,
             "#46039f"
            ],
            [
             0.2222222222222222,
             "#7201a8"
            ],
            [
             0.3333333333333333,
             "#9c179e"
            ],
            [
             0.4444444444444444,
             "#bd3786"
            ],
            [
             0.5555555555555556,
             "#d8576b"
            ],
            [
             0.6666666666666666,
             "#ed7953"
            ],
            [
             0.7777777777777778,
             "#fb9f3a"
            ],
            [
             0.8888888888888888,
             "#fdca26"
            ],
            [
             1,
             "#f0f921"
            ]
           ],
           "sequentialminus": [
            [
             0,
             "#0d0887"
            ],
            [
             0.1111111111111111,
             "#46039f"
            ],
            [
             0.2222222222222222,
             "#7201a8"
            ],
            [
             0.3333333333333333,
             "#9c179e"
            ],
            [
             0.4444444444444444,
             "#bd3786"
            ],
            [
             0.5555555555555556,
             "#d8576b"
            ],
            [
             0.6666666666666666,
             "#ed7953"
            ],
            [
             0.7777777777777778,
             "#fb9f3a"
            ],
            [
             0.8888888888888888,
             "#fdca26"
            ],
            [
             1,
             "#f0f921"
            ]
           ]
          },
          "colorway": [
           "#636efa",
           "#EF553B",
           "#00cc96",
           "#ab63fa",
           "#FFA15A",
           "#19d3f3",
           "#FF6692",
           "#B6E880",
           "#FF97FF",
           "#FECB52"
          ],
          "font": {
           "color": "#2a3f5f"
          },
          "geo": {
           "bgcolor": "white",
           "lakecolor": "white",
           "landcolor": "#E5ECF6",
           "showlakes": true,
           "showland": true,
           "subunitcolor": "white"
          },
          "hoverlabel": {
           "align": "left"
          },
          "hovermode": "closest",
          "mapbox": {
           "style": "light"
          },
          "paper_bgcolor": "white",
          "plot_bgcolor": "#E5ECF6",
          "polar": {
           "angularaxis": {
            "gridcolor": "white",
            "linecolor": "white",
            "ticks": ""
           },
           "bgcolor": "#E5ECF6",
           "radialaxis": {
            "gridcolor": "white",
            "linecolor": "white",
            "ticks": ""
           }
          },
          "scene": {
           "xaxis": {
            "backgroundcolor": "#E5ECF6",
            "gridcolor": "white",
            "gridwidth": 2,
            "linecolor": "white",
            "showbackground": true,
            "ticks": "",
            "zerolinecolor": "white"
           },
           "yaxis": {
            "backgroundcolor": "#E5ECF6",
            "gridcolor": "white",
            "gridwidth": 2,
            "linecolor": "white",
            "showbackground": true,
            "ticks": "",
            "zerolinecolor": "white"
           },
           "zaxis": {
            "backgroundcolor": "#E5ECF6",
            "gridcolor": "white",
            "gridwidth": 2,
            "linecolor": "white",
            "showbackground": true,
            "ticks": "",
            "zerolinecolor": "white"
           }
          },
          "shapedefaults": {
           "line": {
            "color": "#2a3f5f"
           }
          },
          "ternary": {
           "aaxis": {
            "gridcolor": "white",
            "linecolor": "white",
            "ticks": ""
           },
           "baxis": {
            "gridcolor": "white",
            "linecolor": "white",
            "ticks": ""
           },
           "bgcolor": "#E5ECF6",
           "caxis": {
            "gridcolor": "white",
            "linecolor": "white",
            "ticks": ""
           }
          },
          "title": {
           "x": 0.05
          },
          "xaxis": {
           "automargin": true,
           "gridcolor": "white",
           "linecolor": "white",
           "ticks": "",
           "title": {
            "standoff": 15
           },
           "zerolinecolor": "white",
           "zerolinewidth": 2
          },
          "yaxis": {
           "automargin": true,
           "gridcolor": "white",
           "linecolor": "white",
           "ticks": "",
           "title": {
            "standoff": 15
           },
           "zerolinecolor": "white",
           "zerolinewidth": 2
          }
         }
        },
        "xaxis": {
         "anchor": "y",
         "domain": [
          0,
          1
         ],
         "title": {
          "text": "week"
         }
        },
        "yaxis": {
         "anchor": "x",
         "domain": [
          0,
          1
         ],
         "title": {
          "text": "value"
         }
        }
       }
      }
     },
     "metadata": {},
     "output_type": "display_data"
    }
   ],
   "source": [
    "fix = px.scatter(df, x = 'week', y = 'value',size = 'value',  color = 'thập')\n",
    "fix.show()"
   ]
  }
 ],
 "metadata": {
  "kernelspec": {
   "display_name": "Python 3",
   "language": "python",
   "name": "python3"
  },
  "language_info": {
   "codemirror_mode": {
    "name": "ipython",
    "version": 3
   },
   "file_extension": ".py",
   "mimetype": "text/x-python",
   "name": "python",
   "nbconvert_exporter": "python",
   "pygments_lexer": "ipython3",
   "version": "3.8.10"
  },
  "orig_nbformat": 4
 },
 "nbformat": 4,
 "nbformat_minor": 2
}
