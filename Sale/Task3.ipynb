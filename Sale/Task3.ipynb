{
  "cells": [
    {
      "cell_type": "code",
      "execution_count": 3,
      "metadata": {
        "id": "-PdW-Wmhc9Mb"
      },
      "outputs": [],
      "source": [
        "import pandas as pd \n",
        "import numpy as np\n",
        "import matplotlib.pyplot as plt\n",
        "import plotly.express as px"
      ]
    },
    {
      "cell_type": "code",
      "execution_count": 4,
      "metadata": {
        "id": "9NEode09dHBn"
      },
      "outputs": [],
      "source": [
        "df = pd.read_excel('Hoạt động bán hàng All RM Tháng 3 theo tuần.xlsx',\n",
        "                   sheet_name= [0,1,2,3,4])"
      ]
    },
    {
      "cell_type": "markdown",
      "metadata": {
        "id": "fKE9TyysdicB"
      },
      "source": [
        "* week1     Tuần 27.02-05.03\n",
        "* week2     Tuần 06.03-12.03\n",
        "* week3     Tuần 13.03-19.03\n",
        "* week4     Tuần 20.03-26.03\n",
        "* week5     Tuần 27.03-01.04"
      ]
    },
    {
      "cell_type": "code",
      "execution_count": 5,
      "metadata": {
        "id": "VxpMTfqMdTO0"
      },
      "outputs": [],
      "source": [
        "df_week1 = df[0]\n",
        "df_week2 = df[1]\n",
        "df_week3 = df[2]\n",
        "df_week4 = df[3]\n",
        "df_week5 = df[4]"
      ]
    },
    {
      "cell_type": "code",
      "execution_count": 15,
      "metadata": {},
      "outputs": [
        {
          "data": {
            "text/html": [
              "<div>\n",
              "<style scoped>\n",
              "    .dataframe tbody tr th:only-of-type {\n",
              "        vertical-align: middle;\n",
              "    }\n",
              "\n",
              "    .dataframe tbody tr th {\n",
              "        vertical-align: top;\n",
              "    }\n",
              "\n",
              "    .dataframe thead th {\n",
              "        text-align: right;\n",
              "    }\n",
              "</style>\n",
              "<table border=\"1\" class=\"dataframe\">\n",
              "  <thead>\n",
              "    <tr style=\"text-align: right;\">\n",
              "      <th></th>\n",
              "      <th>Hub</th>\n",
              "      <th>Rm</th>\n",
              "      <th>Rm name</th>\n",
              "      <th>Team</th>\n",
              "      <th>Phân khúc</th>\n",
              "      <th>Đã phân bổ</th>\n",
              "      <th>Đã gọi</th>\n",
              "      <th>Đã gặp</th>\n",
              "      <th>Thu thập hồ sơ</th>\n",
              "      <th>Định giá</th>\n",
              "      <th>Đã trình</th>\n",
              "      <th>Đã phê duyệt</th>\n",
              "      <th>Đã active hạn mức</th>\n",
              "    </tr>\n",
              "  </thead>\n",
              "  <tbody>\n",
              "    <tr>\n",
              "      <th>0</th>\n",
              "      <td>0.Toàn hàng</td>\n",
              "      <td>0</td>\n",
              "      <td>0.Toàn hàng</td>\n",
              "      <td>0</td>\n",
              "      <td>0</td>\n",
              "      <td>15965</td>\n",
              "      <td>4599</td>\n",
              "      <td>835</td>\n",
              "      <td>137</td>\n",
              "      <td>140</td>\n",
              "      <td>140</td>\n",
              "      <td>90</td>\n",
              "      <td>59</td>\n",
              "    </tr>\n",
              "    <tr>\n",
              "      <th>1</th>\n",
              "      <td>Bắc Ninh</td>\n",
              "      <td>0</td>\n",
              "      <td>1.Toàn chi nhánh</td>\n",
              "      <td>0</td>\n",
              "      <td>0</td>\n",
              "      <td>169</td>\n",
              "      <td>135</td>\n",
              "      <td>23</td>\n",
              "      <td>3</td>\n",
              "      <td>3</td>\n",
              "      <td>2</td>\n",
              "      <td>1</td>\n",
              "      <td>3</td>\n",
              "    </tr>\n",
              "    <tr>\n",
              "      <th>2</th>\n",
              "      <td>Bắc Ninh</td>\n",
              "      <td>0</td>\n",
              "      <td>2.Toàn team</td>\n",
              "      <td>Bắc Ninh 1</td>\n",
              "      <td>0</td>\n",
              "      <td>65</td>\n",
              "      <td>26</td>\n",
              "      <td>13</td>\n",
              "      <td>2</td>\n",
              "      <td>2</td>\n",
              "      <td>2</td>\n",
              "      <td>1</td>\n",
              "      <td>2</td>\n",
              "    </tr>\n",
              "    <tr>\n",
              "      <th>3</th>\n",
              "      <td>Bắc Ninh</td>\n",
              "      <td>nhungptt</td>\n",
              "      <td>Phạm Thị Trang Nhung</td>\n",
              "      <td>Bắc Ninh 1</td>\n",
              "      <td>SME</td>\n",
              "      <td>2</td>\n",
              "      <td>7</td>\n",
              "      <td>4</td>\n",
              "      <td>2</td>\n",
              "      <td>1</td>\n",
              "      <td>1</td>\n",
              "      <td>1</td>\n",
              "      <td>1</td>\n",
              "    </tr>\n",
              "    <tr>\n",
              "      <th>4</th>\n",
              "      <td>Bến Thành</td>\n",
              "      <td>0</td>\n",
              "      <td>1.Toàn chi nhánh</td>\n",
              "      <td>0</td>\n",
              "      <td>0</td>\n",
              "      <td>215</td>\n",
              "      <td>57</td>\n",
              "      <td>50</td>\n",
              "      <td>11</td>\n",
              "      <td>6</td>\n",
              "      <td>6</td>\n",
              "      <td>3</td>\n",
              "      <td>1</td>\n",
              "    </tr>\n",
              "    <tr>\n",
              "      <th>...</th>\n",
              "      <td>...</td>\n",
              "      <td>...</td>\n",
              "      <td>...</td>\n",
              "      <td>...</td>\n",
              "      <td>...</td>\n",
              "      <td>...</td>\n",
              "      <td>...</td>\n",
              "      <td>...</td>\n",
              "      <td>...</td>\n",
              "      <td>...</td>\n",
              "      <td>...</td>\n",
              "      <td>...</td>\n",
              "      <td>...</td>\n",
              "    </tr>\n",
              "    <tr>\n",
              "      <th>1055</th>\n",
              "      <td>Đống Đa</td>\n",
              "      <td>chinhhn1</td>\n",
              "      <td>2.Toàn team</td>\n",
              "      <td>Hoàng Ngọc Chinh</td>\n",
              "      <td>0</td>\n",
              "      <td>50</td>\n",
              "      <td>3</td>\n",
              "      <td>3</td>\n",
              "      <td>1</td>\n",
              "      <td>2</td>\n",
              "      <td>2</td>\n",
              "      <td>2</td>\n",
              "      <td>1</td>\n",
              "    </tr>\n",
              "    <tr>\n",
              "      <th>1056</th>\n",
              "      <td>Đống Đa</td>\n",
              "      <td>toantv5</td>\n",
              "      <td>Trần Văn Toàn</td>\n",
              "      <td>Hoàng Ngọc Chinh</td>\n",
              "      <td>SME</td>\n",
              "      <td>33</td>\n",
              "      <td>2</td>\n",
              "      <td>2</td>\n",
              "      <td>0</td>\n",
              "      <td>0</td>\n",
              "      <td>0</td>\n",
              "      <td>1</td>\n",
              "      <td>1</td>\n",
              "    </tr>\n",
              "    <tr>\n",
              "      <th>1057</th>\n",
              "      <td>Đống Đa</td>\n",
              "      <td>andn2</td>\n",
              "      <td>Đặng Ngọc An</td>\n",
              "      <td>Hoàng Ngọc Chinh</td>\n",
              "      <td>SME</td>\n",
              "      <td>1</td>\n",
              "      <td>1</td>\n",
              "      <td>1</td>\n",
              "      <td>1</td>\n",
              "      <td>1</td>\n",
              "      <td>1</td>\n",
              "      <td>1</td>\n",
              "      <td>0</td>\n",
              "    </tr>\n",
              "    <tr>\n",
              "      <th>1058</th>\n",
              "      <td>Đống Đa</td>\n",
              "      <td>cuongnx6</td>\n",
              "      <td>Nguyễn Xuân Cường</td>\n",
              "      <td>0</td>\n",
              "      <td>SME</td>\n",
              "      <td>39</td>\n",
              "      <td>1</td>\n",
              "      <td>1</td>\n",
              "      <td>1</td>\n",
              "      <td>1</td>\n",
              "      <td>1</td>\n",
              "      <td>1</td>\n",
              "      <td>0</td>\n",
              "    </tr>\n",
              "    <tr>\n",
              "      <th>1059</th>\n",
              "      <td>Đống Đa</td>\n",
              "      <td>huyennt65</td>\n",
              "      <td>Nguyễn Thị Huyền</td>\n",
              "      <td>0</td>\n",
              "      <td>SME</td>\n",
              "      <td>37</td>\n",
              "      <td>37</td>\n",
              "      <td>0</td>\n",
              "      <td>0</td>\n",
              "      <td>1</td>\n",
              "      <td>1</td>\n",
              "      <td>1</td>\n",
              "      <td>0</td>\n",
              "    </tr>\n",
              "  </tbody>\n",
              "</table>\n",
              "<p>1060 rows × 13 columns</p>\n",
              "</div>"
            ],
            "text/plain": [
              "              Hub         Rm               Rm name              Team  \\\n",
              "0     0.Toàn hàng          0           0.Toàn hàng                 0   \n",
              "1        Bắc Ninh          0      1.Toàn chi nhánh                 0   \n",
              "2        Bắc Ninh          0           2.Toàn team        Bắc Ninh 1   \n",
              "3        Bắc Ninh   nhungptt  Phạm Thị Trang Nhung        Bắc Ninh 1   \n",
              "4       Bến Thành          0      1.Toàn chi nhánh                 0   \n",
              "...           ...        ...                   ...               ...   \n",
              "1055      Đống Đa   chinhhn1           2.Toàn team  Hoàng Ngọc Chinh   \n",
              "1056      Đống Đa    toantv5         Trần Văn Toàn  Hoàng Ngọc Chinh   \n",
              "1057      Đống Đa      andn2          Đặng Ngọc An  Hoàng Ngọc Chinh   \n",
              "1058      Đống Đa   cuongnx6     Nguyễn Xuân Cường                 0   \n",
              "1059      Đống Đa  huyennt65      Nguyễn Thị Huyền                 0   \n",
              "\n",
              "      Phân khúc  Đã phân bổ  Đã gọi  Đã gặp  Thu thập hồ sơ   Định giá  \\\n",
              "0             0       15965    4599     835             137        140   \n",
              "1             0         169     135      23               3          3   \n",
              "2             0          65      26      13               2          2   \n",
              "3           SME           2       7       4               2          1   \n",
              "4             0         215      57      50              11          6   \n",
              "...         ...         ...     ...     ...             ...        ...   \n",
              "1055          0          50       3       3               1          2   \n",
              "1056        SME          33       2       2               0          0   \n",
              "1057        SME           1       1       1               1          1   \n",
              "1058        SME          39       1       1               1          1   \n",
              "1059        SME          37      37       0               0          1   \n",
              "\n",
              "       Đã trình   Đã phê duyệt  Đã active hạn mức  \n",
              "0           140             90                 59  \n",
              "1             2              1                  3  \n",
              "2             2              1                  2  \n",
              "3             1              1                  1  \n",
              "4             6              3                  1  \n",
              "...         ...            ...                ...  \n",
              "1055          2              2                  1  \n",
              "1056          0              1                  1  \n",
              "1057          1              1                  0  \n",
              "1058          1              1                  0  \n",
              "1059          1              1                  0  \n",
              "\n",
              "[1060 rows x 13 columns]"
            ]
          },
          "execution_count": 15,
          "metadata": {},
          "output_type": "execute_result"
        }
      ],
      "source": []
    },
    {
      "cell_type": "code",
      "execution_count": 6,
      "metadata": {
        "id": "AKz9_wvcdWx3"
      },
      "outputs": [],
      "source": [
        "df_week1 = df_week1.fillna(0)\n",
        "df_week2 = df_week2.fillna(0)\n",
        "df_week3 = df_week3.fillna(0)\n",
        "df_week4 = df_week4.fillna(0)\n",
        "df_week5 = df_week5.fillna(0)"
      ]
    },
    {
      "cell_type": "code",
      "execution_count": 7,
      "metadata": {
        "id": "x2926o8_dXz9"
      },
      "outputs": [],
      "source": [
        "df_filter_w1 = df_week1.loc[(df_week1[' Rm name'] == '1.Toàn chi nhánh')]\n",
        "df_filter_w2 = df_week2.loc[(df_week2[' Rm name'] == '1.Toàn chi nhánh')]\n",
        "df_filter_w3 = df_week3.loc[(df_week3[' Rm name'] == '1.Toàn chi nhánh')]\n",
        "df_filter_w4 = df_week4.loc[(df_week4[' Rm name'] == '1.Toàn chi nhánh')]\n",
        "df_filter_w5 = df_week5.loc[(df_week5[' Rm name'] == '1.Toàn chi nhánh')]"
      ]
    },
    {
      "cell_type": "code",
      "execution_count": 8,
      "metadata": {
        "colab": {
          "base_uri": "https://localhost:8080/"
        },
        "id": "v6LSkWNfdxMj",
        "outputId": "326eebbb-fac3-46da-efa8-ff8f44c1ffff"
      },
      "outputs": [
        {
          "name": "stderr",
          "output_type": "stream",
          "text": [
            "/tmp/ipykernel_7666/3224165378.py:1: SettingWithCopyWarning: \n",
            "A value is trying to be set on a copy of a slice from a DataFrame.\n",
            "Try using .loc[row_indexer,col_indexer] = value instead\n",
            "\n",
            "See the caveats in the documentation: https://pandas.pydata.org/pandas-docs/stable/user_guide/indexing.html#returning-a-view-versus-a-copy\n",
            "  df_filter_w1['rate'] = df_filter_w1['Đã active hạn mức'] / df_filter_w1['Đã gọi']\n",
            "/tmp/ipykernel_7666/3224165378.py:3: SettingWithCopyWarning: \n",
            "A value is trying to be set on a copy of a slice from a DataFrame.\n",
            "Try using .loc[row_indexer,col_indexer] = value instead\n",
            "\n",
            "See the caveats in the documentation: https://pandas.pydata.org/pandas-docs/stable/user_guide/indexing.html#returning-a-view-versus-a-copy\n",
            "  df_filter_w2['rate'] = df_filter_w2['Đã active hạn mức'] / df_filter_w2['Đã gọi']\n",
            "/tmp/ipykernel_7666/3224165378.py:5: SettingWithCopyWarning: \n",
            "A value is trying to be set on a copy of a slice from a DataFrame.\n",
            "Try using .loc[row_indexer,col_indexer] = value instead\n",
            "\n",
            "See the caveats in the documentation: https://pandas.pydata.org/pandas-docs/stable/user_guide/indexing.html#returning-a-view-versus-a-copy\n",
            "  df_filter_w3['rate'] = df_filter_w3['Đã active hạn mức'] / df_filter_w3['Đã gọi']\n",
            "/tmp/ipykernel_7666/3224165378.py:7: SettingWithCopyWarning: \n",
            "A value is trying to be set on a copy of a slice from a DataFrame.\n",
            "Try using .loc[row_indexer,col_indexer] = value instead\n",
            "\n",
            "See the caveats in the documentation: https://pandas.pydata.org/pandas-docs/stable/user_guide/indexing.html#returning-a-view-versus-a-copy\n",
            "  df_filter_w4['rate'] = df_filter_w4['Đã active hạn mức'] / df_filter_w4['Đã gọi']\n",
            "/tmp/ipykernel_7666/3224165378.py:9: SettingWithCopyWarning: \n",
            "A value is trying to be set on a copy of a slice from a DataFrame.\n",
            "Try using .loc[row_indexer,col_indexer] = value instead\n",
            "\n",
            "See the caveats in the documentation: https://pandas.pydata.org/pandas-docs/stable/user_guide/indexing.html#returning-a-view-versus-a-copy\n",
            "  df_filter_w5['rate'] = df_filter_w5['Đã active hạn mức'] / df_filter_w5['Đã gọi']\n"
          ]
        }
      ],
      "source": [
        "df_filter_w1['rate'] = df_filter_w1['Đã active hạn mức'] / df_filter_w1['Đã gọi']\n",
        "\n",
        "df_filter_w2['rate'] = df_filter_w2['Đã active hạn mức'] / df_filter_w2['Đã gọi']\n",
        "\n",
        "df_filter_w3['rate'] = df_filter_w3['Đã active hạn mức'] / df_filter_w3['Đã gọi']\n",
        "\n",
        "df_filter_w4['rate'] = df_filter_w4['Đã active hạn mức'] / df_filter_w4['Đã gọi']\n",
        "\n",
        "df_filter_w5['rate'] = df_filter_w5['Đã active hạn mức'] / df_filter_w5['Đã gọi']\n"
      ]
    },
    {
      "cell_type": "code",
      "execution_count": 9,
      "metadata": {
        "id": "G6BU5qn9dz5t"
      },
      "outputs": [],
      "source": [
        "df_filter_w1 = df_filter_w1.sort_values(by = 'rate', ascending = False)\n",
        "\n",
        "df_filter_w2 = df_filter_w2.sort_values(by = 'rate', ascending = False)\n",
        "\n",
        "df_filter_w3 = df_filter_w3.sort_values(by = 'rate', ascending = False)\n",
        "\n",
        "df_filter_w4 = df_filter_w4.sort_values(by = 'rate', ascending = False)\n",
        "\n",
        "df_filter_w5 = df_filter_w5.sort_values(by = 'rate', ascending = False)"
      ]
    },
    {
      "cell_type": "code",
      "execution_count": 10,
      "metadata": {
        "id": "8tW7WX4od1xl"
      },
      "outputs": [],
      "source": [
        "\n",
        "df_10_w1 = df_filter_w1.iloc[:10,:]\n",
        "\n",
        "df_10_w2 = df_filter_w2.iloc[:10,:]\n",
        "\n",
        "df_10_w3 = df_filter_w3.iloc[:10,:]\n",
        "\n",
        "df_10_w4 = df_filter_w4.iloc[:10,:]\n",
        "\n",
        "df_10_w5 = df_filter_w5.iloc[1:11,:]"
      ]
    },
    {
      "cell_type": "code",
      "execution_count": 11,
      "metadata": {
        "colab": {
          "base_uri": "https://localhost:8080/",
          "height": 658
        },
        "id": "aqKv2QP-gswR",
        "outputId": "9757f961-a9eb-4736-8572-492b9a261340"
      },
      "outputs": [
        {
          "data": {
            "text/html": [
              "<div>\n",
              "<style scoped>\n",
              "    .dataframe tbody tr th:only-of-type {\n",
              "        vertical-align: middle;\n",
              "    }\n",
              "\n",
              "    .dataframe tbody tr th {\n",
              "        vertical-align: top;\n",
              "    }\n",
              "\n",
              "    .dataframe thead th {\n",
              "        text-align: right;\n",
              "    }\n",
              "</style>\n",
              "<table border=\"1\" class=\"dataframe\">\n",
              "  <thead>\n",
              "    <tr style=\"text-align: right;\">\n",
              "      <th></th>\n",
              "      <th>Hub</th>\n",
              "      <th>Rm</th>\n",
              "      <th>Rm name</th>\n",
              "      <th>Team</th>\n",
              "      <th>Phân khúc</th>\n",
              "      <th>Đã phân bổ</th>\n",
              "      <th>Đã gọi</th>\n",
              "      <th>Đã gặp</th>\n",
              "      <th>Thu thập hồ sơ</th>\n",
              "      <th>Định giá</th>\n",
              "      <th>Đã trình</th>\n",
              "      <th>Đã phê duyệt</th>\n",
              "      <th>Đã active hạn mức</th>\n",
              "      <th>rate</th>\n",
              "    </tr>\n",
              "  </thead>\n",
              "  <tbody>\n",
              "    <tr>\n",
              "      <th>446</th>\n",
              "      <td>LC Miền Bắc</td>\n",
              "      <td>0</td>\n",
              "      <td>1.Toàn chi nhánh</td>\n",
              "      <td>0</td>\n",
              "      <td>0</td>\n",
              "      <td>9</td>\n",
              "      <td>0</td>\n",
              "      <td>0</td>\n",
              "      <td>0</td>\n",
              "      <td>0</td>\n",
              "      <td>0</td>\n",
              "      <td>0</td>\n",
              "      <td>1</td>\n",
              "      <td>inf</td>\n",
              "    </tr>\n",
              "    <tr>\n",
              "      <th>1040</th>\n",
              "      <td>Đắk Lắk</td>\n",
              "      <td>0</td>\n",
              "      <td>1.Toàn chi nhánh</td>\n",
              "      <td>0</td>\n",
              "      <td>0</td>\n",
              "      <td>6</td>\n",
              "      <td>1</td>\n",
              "      <td>5</td>\n",
              "      <td>1</td>\n",
              "      <td>0</td>\n",
              "      <td>0</td>\n",
              "      <td>1</td>\n",
              "      <td>1</td>\n",
              "      <td>1.000000</td>\n",
              "    </tr>\n",
              "    <tr>\n",
              "      <th>1042</th>\n",
              "      <td>Đống Đa</td>\n",
              "      <td>0</td>\n",
              "      <td>1.Toàn chi nhánh</td>\n",
              "      <td>0</td>\n",
              "      <td>0</td>\n",
              "      <td>237</td>\n",
              "      <td>34</td>\n",
              "      <td>17</td>\n",
              "      <td>8</td>\n",
              "      <td>13</td>\n",
              "      <td>11</td>\n",
              "      <td>15</td>\n",
              "      <td>10</td>\n",
              "      <td>0.294118</td>\n",
              "    </tr>\n",
              "    <tr>\n",
              "      <th>83</th>\n",
              "      <td>SSE Miền Nam</td>\n",
              "      <td>0</td>\n",
              "      <td>1.Toàn chi nhánh</td>\n",
              "      <td>0</td>\n",
              "      <td>0</td>\n",
              "      <td>13</td>\n",
              "      <td>24</td>\n",
              "      <td>19</td>\n",
              "      <td>5</td>\n",
              "      <td>3</td>\n",
              "      <td>4</td>\n",
              "      <td>5</td>\n",
              "      <td>5</td>\n",
              "      <td>0.208333</td>\n",
              "    </tr>\n",
              "    <tr>\n",
              "      <th>46</th>\n",
              "      <td>Hải Châu</td>\n",
              "      <td>0</td>\n",
              "      <td>1.Toàn chi nhánh</td>\n",
              "      <td>0</td>\n",
              "      <td>0</td>\n",
              "      <td>206</td>\n",
              "      <td>66</td>\n",
              "      <td>44</td>\n",
              "      <td>17</td>\n",
              "      <td>12</td>\n",
              "      <td>7</td>\n",
              "      <td>9</td>\n",
              "      <td>13</td>\n",
              "      <td>0.196970</td>\n",
              "    </tr>\n",
              "    <tr>\n",
              "      <th>...</th>\n",
              "      <td>...</td>\n",
              "      <td>...</td>\n",
              "      <td>...</td>\n",
              "      <td>...</td>\n",
              "      <td>...</td>\n",
              "      <td>...</td>\n",
              "      <td>...</td>\n",
              "      <td>...</td>\n",
              "      <td>...</td>\n",
              "      <td>...</td>\n",
              "      <td>...</td>\n",
              "      <td>...</td>\n",
              "      <td>...</td>\n",
              "      <td>...</td>\n",
              "    </tr>\n",
              "    <tr>\n",
              "      <th>865</th>\n",
              "      <td>SSE Văn Quán</td>\n",
              "      <td>0</td>\n",
              "      <td>1.Toàn chi nhánh</td>\n",
              "      <td>0</td>\n",
              "      <td>0</td>\n",
              "      <td>0</td>\n",
              "      <td>0</td>\n",
              "      <td>0</td>\n",
              "      <td>0</td>\n",
              "      <td>0</td>\n",
              "      <td>0</td>\n",
              "      <td>0</td>\n",
              "      <td>0</td>\n",
              "      <td>NaN</td>\n",
              "    </tr>\n",
              "    <tr>\n",
              "      <th>867</th>\n",
              "      <td>SSE Xuân Tô</td>\n",
              "      <td>0</td>\n",
              "      <td>1.Toàn chi nhánh</td>\n",
              "      <td>0</td>\n",
              "      <td>0</td>\n",
              "      <td>0</td>\n",
              "      <td>0</td>\n",
              "      <td>0</td>\n",
              "      <td>0</td>\n",
              "      <td>0</td>\n",
              "      <td>0</td>\n",
              "      <td>0</td>\n",
              "      <td>0</td>\n",
              "      <td>NaN</td>\n",
              "    </tr>\n",
              "    <tr>\n",
              "      <th>869</th>\n",
              "      <td>SSE Ô Môn</td>\n",
              "      <td>0</td>\n",
              "      <td>1.Toàn chi nhánh</td>\n",
              "      <td>0</td>\n",
              "      <td>0</td>\n",
              "      <td>0</td>\n",
              "      <td>0</td>\n",
              "      <td>0</td>\n",
              "      <td>0</td>\n",
              "      <td>0</td>\n",
              "      <td>0</td>\n",
              "      <td>0</td>\n",
              "      <td>0</td>\n",
              "      <td>NaN</td>\n",
              "    </tr>\n",
              "    <tr>\n",
              "      <th>871</th>\n",
              "      <td>SSE Đà Nẵng</td>\n",
              "      <td>0</td>\n",
              "      <td>1.Toàn chi nhánh</td>\n",
              "      <td>0</td>\n",
              "      <td>0</td>\n",
              "      <td>0</td>\n",
              "      <td>0</td>\n",
              "      <td>0</td>\n",
              "      <td>0</td>\n",
              "      <td>0</td>\n",
              "      <td>0</td>\n",
              "      <td>0</td>\n",
              "      <td>0</td>\n",
              "      <td>NaN</td>\n",
              "    </tr>\n",
              "    <tr>\n",
              "      <th>873</th>\n",
              "      <td>SnD</td>\n",
              "      <td>0</td>\n",
              "      <td>1.Toàn chi nhánh</td>\n",
              "      <td>0</td>\n",
              "      <td>0</td>\n",
              "      <td>0</td>\n",
              "      <td>0</td>\n",
              "      <td>0</td>\n",
              "      <td>0</td>\n",
              "      <td>0</td>\n",
              "      <td>0</td>\n",
              "      <td>0</td>\n",
              "      <td>0</td>\n",
              "      <td>NaN</td>\n",
              "    </tr>\n",
              "  </tbody>\n",
              "</table>\n",
              "<p>92 rows × 14 columns</p>\n",
              "</div>"
            ],
            "text/plain": [
              "               Hub  Rm           Rm name  Team  Phân khúc  Đã phân bổ  Đã gọi  \\\n",
              "446    LC Miền Bắc   0  1.Toàn chi nhánh     0          0           9       0   \n",
              "1040       Đắk Lắk   0  1.Toàn chi nhánh     0          0           6       1   \n",
              "1042       Đống Đa   0  1.Toàn chi nhánh     0          0         237      34   \n",
              "83    SSE Miền Nam   0  1.Toàn chi nhánh     0          0          13      24   \n",
              "46        Hải Châu   0  1.Toàn chi nhánh     0          0         206      66   \n",
              "...            ...  ..               ...   ...        ...         ...     ...   \n",
              "865   SSE Văn Quán   0  1.Toàn chi nhánh     0          0           0       0   \n",
              "867    SSE Xuân Tô   0  1.Toàn chi nhánh     0          0           0       0   \n",
              "869      SSE Ô Môn   0  1.Toàn chi nhánh     0          0           0       0   \n",
              "871    SSE Đà Nẵng   0  1.Toàn chi nhánh     0          0           0       0   \n",
              "873            SnD   0  1.Toàn chi nhánh     0          0           0       0   \n",
              "\n",
              "      Đã gặp  Thu thập hồ sơ   Định giá   Đã trình   Đã phê duyệt  \\\n",
              "446        0               0          0          0              0   \n",
              "1040       5               1          0          0              1   \n",
              "1042      17               8         13         11             15   \n",
              "83        19               5          3          4              5   \n",
              "46        44              17         12          7              9   \n",
              "...      ...             ...        ...        ...            ...   \n",
              "865        0               0          0          0              0   \n",
              "867        0               0          0          0              0   \n",
              "869        0               0          0          0              0   \n",
              "871        0               0          0          0              0   \n",
              "873        0               0          0          0              0   \n",
              "\n",
              "      Đã active hạn mức      rate  \n",
              "446                   1       inf  \n",
              "1040                  1  1.000000  \n",
              "1042                 10  0.294118  \n",
              "83                    5  0.208333  \n",
              "46                   13  0.196970  \n",
              "...                 ...       ...  \n",
              "865                   0       NaN  \n",
              "867                   0       NaN  \n",
              "869                   0       NaN  \n",
              "871                   0       NaN  \n",
              "873                   0       NaN  \n",
              "\n",
              "[92 rows x 14 columns]"
            ]
          },
          "execution_count": 11,
          "metadata": {},
          "output_type": "execute_result"
        }
      ],
      "source": [
        "df_filter_w5"
      ]
    },
    {
      "cell_type": "code",
      "execution_count": 12,
      "metadata": {
        "id": "oh-UOX4JcWXX"
      },
      "outputs": [],
      "source": [
        "sum_w1 = df_filter_w1['Đã active hạn mức'].sum() / df_filter_w1['Đã gọi'].sum()\n",
        "\n",
        "sum_w2 = df_filter_w2['Đã active hạn mức'].sum() / df_filter_w2['Đã gọi'].sum()\n",
        "\n",
        "sum_w3 = df_filter_w3['Đã active hạn mức'].sum() / df_filter_w3['Đã gọi'].sum()\n",
        "\n",
        "sum_w4 = df_filter_w4['Đã active hạn mức'].sum() / df_filter_w4['Đã gọi'].sum()\n",
        "\n",
        "sum_w5 = df_filter_w5['Đã active hạn mức'].sum() / df_filter_w5['Đã gọi'].sum()"
      ]
    },
    {
      "cell_type": "code",
      "execution_count": 13,
      "metadata": {
        "id": "m2LcsoBacJfK"
      },
      "outputs": [],
      "source": [
        "sum_month ={ 'Week': ['week 1', 'week 2', 'week 3', 'week 4', 'week 5'],\n",
        "            'Sum_month':[sum_w1,sum_w2,sum_w3,sum_w4,sum_w5]\n",
        "  } \n",
        "\n",
        "df_month = pd.DataFrame(sum_month)"
      ]
    },
    {
      "cell_type": "code",
      "execution_count": 14,
      "metadata": {
        "colab": {
          "base_uri": "https://localhost:8080/",
          "height": 542
        },
        "id": "oulKVxaYnDg7",
        "outputId": "8347f216-e2bf-4297-f94f-f5e1256356c3"
      },
      "outputs": [
        {
          "data": {
            "application/vnd.plotly.v1+json": {
              "config": {
                "plotlyServerURL": "https://plotly.com"
              },
              "data": [
                {
                  "name": "Tuan 1",
                  "type": "bar",
                  "x": [
                    "Lâm Đồng",
                    "SSE Quảng Nam",
                    "MC Miền Nam",
                    "Long An",
                    "SSE Miền Nam",
                    "Tân Bình",
                    "Hải Dương",
                    "Tân Thuận",
                    "Cần Thơ",
                    "Quảng Ninh"
                  ],
                  "y": [
                    0.5,
                    0.2857142857142857,
                    0.15384615384615385,
                    0.14285714285714285,
                    0.12903225806451613,
                    0.08695652173913043,
                    0.08333333333333333,
                    0.08163265306122448,
                    0.07142857142857142,
                    0.0625
                  ]
                }
              ],
              "layout": {
                "colorway": [
                  "teal"
                ],
                "template": {
                  "data": {
                    "bar": [
                      {
                        "error_x": {
                          "color": "rgb(36,36,36)"
                        },
                        "error_y": {
                          "color": "rgb(36,36,36)"
                        },
                        "marker": {
                          "line": {
                            "color": "white",
                            "width": 0.5
                          },
                          "pattern": {
                            "fillmode": "overlay",
                            "size": 10,
                            "solidity": 0.2
                          }
                        },
                        "type": "bar"
                      }
                    ],
                    "barpolar": [
                      {
                        "marker": {
                          "line": {
                            "color": "white",
                            "width": 0.5
                          },
                          "pattern": {
                            "fillmode": "overlay",
                            "size": 10,
                            "solidity": 0.2
                          }
                        },
                        "type": "barpolar"
                      }
                    ],
                    "carpet": [
                      {
                        "aaxis": {
                          "endlinecolor": "rgb(36,36,36)",
                          "gridcolor": "white",
                          "linecolor": "white",
                          "minorgridcolor": "white",
                          "startlinecolor": "rgb(36,36,36)"
                        },
                        "baxis": {
                          "endlinecolor": "rgb(36,36,36)",
                          "gridcolor": "white",
                          "linecolor": "white",
                          "minorgridcolor": "white",
                          "startlinecolor": "rgb(36,36,36)"
                        },
                        "type": "carpet"
                      }
                    ],
                    "choropleth": [
                      {
                        "colorbar": {
                          "outlinewidth": 1,
                          "tickcolor": "rgb(36,36,36)",
                          "ticks": "outside"
                        },
                        "type": "choropleth"
                      }
                    ],
                    "contour": [
                      {
                        "colorbar": {
                          "outlinewidth": 1,
                          "tickcolor": "rgb(36,36,36)",
                          "ticks": "outside"
                        },
                        "colorscale": [
                          [
                            0,
                            "#440154"
                          ],
                          [
                            0.1111111111111111,
                            "#482878"
                          ],
                          [
                            0.2222222222222222,
                            "#3e4989"
                          ],
                          [
                            0.3333333333333333,
                            "#31688e"
                          ],
                          [
                            0.4444444444444444,
                            "#26828e"
                          ],
                          [
                            0.5555555555555556,
                            "#1f9e89"
                          ],
                          [
                            0.6666666666666666,
                            "#35b779"
                          ],
                          [
                            0.7777777777777778,
                            "#6ece58"
                          ],
                          [
                            0.8888888888888888,
                            "#b5de2b"
                          ],
                          [
                            1,
                            "#fde725"
                          ]
                        ],
                        "type": "contour"
                      }
                    ],
                    "contourcarpet": [
                      {
                        "colorbar": {
                          "outlinewidth": 1,
                          "tickcolor": "rgb(36,36,36)",
                          "ticks": "outside"
                        },
                        "type": "contourcarpet"
                      }
                    ],
                    "heatmap": [
                      {
                        "colorbar": {
                          "outlinewidth": 1,
                          "tickcolor": "rgb(36,36,36)",
                          "ticks": "outside"
                        },
                        "colorscale": [
                          [
                            0,
                            "#440154"
                          ],
                          [
                            0.1111111111111111,
                            "#482878"
                          ],
                          [
                            0.2222222222222222,
                            "#3e4989"
                          ],
                          [
                            0.3333333333333333,
                            "#31688e"
                          ],
                          [
                            0.4444444444444444,
                            "#26828e"
                          ],
                          [
                            0.5555555555555556,
                            "#1f9e89"
                          ],
                          [
                            0.6666666666666666,
                            "#35b779"
                          ],
                          [
                            0.7777777777777778,
                            "#6ece58"
                          ],
                          [
                            0.8888888888888888,
                            "#b5de2b"
                          ],
                          [
                            1,
                            "#fde725"
                          ]
                        ],
                        "type": "heatmap"
                      }
                    ],
                    "heatmapgl": [
                      {
                        "colorbar": {
                          "outlinewidth": 1,
                          "tickcolor": "rgb(36,36,36)",
                          "ticks": "outside"
                        },
                        "colorscale": [
                          [
                            0,
                            "#440154"
                          ],
                          [
                            0.1111111111111111,
                            "#482878"
                          ],
                          [
                            0.2222222222222222,
                            "#3e4989"
                          ],
                          [
                            0.3333333333333333,
                            "#31688e"
                          ],
                          [
                            0.4444444444444444,
                            "#26828e"
                          ],
                          [
                            0.5555555555555556,
                            "#1f9e89"
                          ],
                          [
                            0.6666666666666666,
                            "#35b779"
                          ],
                          [
                            0.7777777777777778,
                            "#6ece58"
                          ],
                          [
                            0.8888888888888888,
                            "#b5de2b"
                          ],
                          [
                            1,
                            "#fde725"
                          ]
                        ],
                        "type": "heatmapgl"
                      }
                    ],
                    "histogram": [
                      {
                        "marker": {
                          "line": {
                            "color": "white",
                            "width": 0.6
                          }
                        },
                        "type": "histogram"
                      }
                    ],
                    "histogram2d": [
                      {
                        "colorbar": {
                          "outlinewidth": 1,
                          "tickcolor": "rgb(36,36,36)",
                          "ticks": "outside"
                        },
                        "colorscale": [
                          [
                            0,
                            "#440154"
                          ],
                          [
                            0.1111111111111111,
                            "#482878"
                          ],
                          [
                            0.2222222222222222,
                            "#3e4989"
                          ],
                          [
                            0.3333333333333333,
                            "#31688e"
                          ],
                          [
                            0.4444444444444444,
                            "#26828e"
                          ],
                          [
                            0.5555555555555556,
                            "#1f9e89"
                          ],
                          [
                            0.6666666666666666,
                            "#35b779"
                          ],
                          [
                            0.7777777777777778,
                            "#6ece58"
                          ],
                          [
                            0.8888888888888888,
                            "#b5de2b"
                          ],
                          [
                            1,
                            "#fde725"
                          ]
                        ],
                        "type": "histogram2d"
                      }
                    ],
                    "histogram2dcontour": [
                      {
                        "colorbar": {
                          "outlinewidth": 1,
                          "tickcolor": "rgb(36,36,36)",
                          "ticks": "outside"
                        },
                        "colorscale": [
                          [
                            0,
                            "#440154"
                          ],
                          [
                            0.1111111111111111,
                            "#482878"
                          ],
                          [
                            0.2222222222222222,
                            "#3e4989"
                          ],
                          [
                            0.3333333333333333,
                            "#31688e"
                          ],
                          [
                            0.4444444444444444,
                            "#26828e"
                          ],
                          [
                            0.5555555555555556,
                            "#1f9e89"
                          ],
                          [
                            0.6666666666666666,
                            "#35b779"
                          ],
                          [
                            0.7777777777777778,
                            "#6ece58"
                          ],
                          [
                            0.8888888888888888,
                            "#b5de2b"
                          ],
                          [
                            1,
                            "#fde725"
                          ]
                        ],
                        "type": "histogram2dcontour"
                      }
                    ],
                    "mesh3d": [
                      {
                        "colorbar": {
                          "outlinewidth": 1,
                          "tickcolor": "rgb(36,36,36)",
                          "ticks": "outside"
                        },
                        "type": "mesh3d"
                      }
                    ],
                    "parcoords": [
                      {
                        "line": {
                          "colorbar": {
                            "outlinewidth": 1,
                            "tickcolor": "rgb(36,36,36)",
                            "ticks": "outside"
                          }
                        },
                        "type": "parcoords"
                      }
                    ],
                    "pie": [
                      {
                        "automargin": true,
                        "type": "pie"
                      }
                    ],
                    "scatter": [
                      {
                        "fillpattern": {
                          "fillmode": "overlay",
                          "size": 10,
                          "solidity": 0.2
                        },
                        "type": "scatter"
                      }
                    ],
                    "scatter3d": [
                      {
                        "line": {
                          "colorbar": {
                            "outlinewidth": 1,
                            "tickcolor": "rgb(36,36,36)",
                            "ticks": "outside"
                          }
                        },
                        "marker": {
                          "colorbar": {
                            "outlinewidth": 1,
                            "tickcolor": "rgb(36,36,36)",
                            "ticks": "outside"
                          }
                        },
                        "type": "scatter3d"
                      }
                    ],
                    "scattercarpet": [
                      {
                        "marker": {
                          "colorbar": {
                            "outlinewidth": 1,
                            "tickcolor": "rgb(36,36,36)",
                            "ticks": "outside"
                          }
                        },
                        "type": "scattercarpet"
                      }
                    ],
                    "scattergeo": [
                      {
                        "marker": {
                          "colorbar": {
                            "outlinewidth": 1,
                            "tickcolor": "rgb(36,36,36)",
                            "ticks": "outside"
                          }
                        },
                        "type": "scattergeo"
                      }
                    ],
                    "scattergl": [
                      {
                        "marker": {
                          "colorbar": {
                            "outlinewidth": 1,
                            "tickcolor": "rgb(36,36,36)",
                            "ticks": "outside"
                          }
                        },
                        "type": "scattergl"
                      }
                    ],
                    "scattermapbox": [
                      {
                        "marker": {
                          "colorbar": {
                            "outlinewidth": 1,
                            "tickcolor": "rgb(36,36,36)",
                            "ticks": "outside"
                          }
                        },
                        "type": "scattermapbox"
                      }
                    ],
                    "scatterpolar": [
                      {
                        "marker": {
                          "colorbar": {
                            "outlinewidth": 1,
                            "tickcolor": "rgb(36,36,36)",
                            "ticks": "outside"
                          }
                        },
                        "type": "scatterpolar"
                      }
                    ],
                    "scatterpolargl": [
                      {
                        "marker": {
                          "colorbar": {
                            "outlinewidth": 1,
                            "tickcolor": "rgb(36,36,36)",
                            "ticks": "outside"
                          }
                        },
                        "type": "scatterpolargl"
                      }
                    ],
                    "scatterternary": [
                      {
                        "marker": {
                          "colorbar": {
                            "outlinewidth": 1,
                            "tickcolor": "rgb(36,36,36)",
                            "ticks": "outside"
                          }
                        },
                        "type": "scatterternary"
                      }
                    ],
                    "surface": [
                      {
                        "colorbar": {
                          "outlinewidth": 1,
                          "tickcolor": "rgb(36,36,36)",
                          "ticks": "outside"
                        },
                        "colorscale": [
                          [
                            0,
                            "#440154"
                          ],
                          [
                            0.1111111111111111,
                            "#482878"
                          ],
                          [
                            0.2222222222222222,
                            "#3e4989"
                          ],
                          [
                            0.3333333333333333,
                            "#31688e"
                          ],
                          [
                            0.4444444444444444,
                            "#26828e"
                          ],
                          [
                            0.5555555555555556,
                            "#1f9e89"
                          ],
                          [
                            0.6666666666666666,
                            "#35b779"
                          ],
                          [
                            0.7777777777777778,
                            "#6ece58"
                          ],
                          [
                            0.8888888888888888,
                            "#b5de2b"
                          ],
                          [
                            1,
                            "#fde725"
                          ]
                        ],
                        "type": "surface"
                      }
                    ],
                    "table": [
                      {
                        "cells": {
                          "fill": {
                            "color": "rgb(237,237,237)"
                          },
                          "line": {
                            "color": "white"
                          }
                        },
                        "header": {
                          "fill": {
                            "color": "rgb(217,217,217)"
                          },
                          "line": {
                            "color": "white"
                          }
                        },
                        "type": "table"
                      }
                    ]
                  },
                  "layout": {
                    "annotationdefaults": {
                      "arrowhead": 0,
                      "arrowwidth": 1
                    },
                    "autotypenumbers": "strict",
                    "coloraxis": {
                      "colorbar": {
                        "outlinewidth": 1,
                        "tickcolor": "rgb(36,36,36)",
                        "ticks": "outside"
                      }
                    },
                    "colorscale": {
                      "diverging": [
                        [
                          0,
                          "rgb(103,0,31)"
                        ],
                        [
                          0.1,
                          "rgb(178,24,43)"
                        ],
                        [
                          0.2,
                          "rgb(214,96,77)"
                        ],
                        [
                          0.3,
                          "rgb(244,165,130)"
                        ],
                        [
                          0.4,
                          "rgb(253,219,199)"
                        ],
                        [
                          0.5,
                          "rgb(247,247,247)"
                        ],
                        [
                          0.6,
                          "rgb(209,229,240)"
                        ],
                        [
                          0.7,
                          "rgb(146,197,222)"
                        ],
                        [
                          0.8,
                          "rgb(67,147,195)"
                        ],
                        [
                          0.9,
                          "rgb(33,102,172)"
                        ],
                        [
                          1,
                          "rgb(5,48,97)"
                        ]
                      ],
                      "sequential": [
                        [
                          0,
                          "#440154"
                        ],
                        [
                          0.1111111111111111,
                          "#482878"
                        ],
                        [
                          0.2222222222222222,
                          "#3e4989"
                        ],
                        [
                          0.3333333333333333,
                          "#31688e"
                        ],
                        [
                          0.4444444444444444,
                          "#26828e"
                        ],
                        [
                          0.5555555555555556,
                          "#1f9e89"
                        ],
                        [
                          0.6666666666666666,
                          "#35b779"
                        ],
                        [
                          0.7777777777777778,
                          "#6ece58"
                        ],
                        [
                          0.8888888888888888,
                          "#b5de2b"
                        ],
                        [
                          1,
                          "#fde725"
                        ]
                      ],
                      "sequentialminus": [
                        [
                          0,
                          "#440154"
                        ],
                        [
                          0.1111111111111111,
                          "#482878"
                        ],
                        [
                          0.2222222222222222,
                          "#3e4989"
                        ],
                        [
                          0.3333333333333333,
                          "#31688e"
                        ],
                        [
                          0.4444444444444444,
                          "#26828e"
                        ],
                        [
                          0.5555555555555556,
                          "#1f9e89"
                        ],
                        [
                          0.6666666666666666,
                          "#35b779"
                        ],
                        [
                          0.7777777777777778,
                          "#6ece58"
                        ],
                        [
                          0.8888888888888888,
                          "#b5de2b"
                        ],
                        [
                          1,
                          "#fde725"
                        ]
                      ]
                    },
                    "colorway": [
                      "#1F77B4",
                      "#FF7F0E",
                      "#2CA02C",
                      "#D62728",
                      "#9467BD",
                      "#8C564B",
                      "#E377C2",
                      "#7F7F7F",
                      "#BCBD22",
                      "#17BECF"
                    ],
                    "font": {
                      "color": "rgb(36,36,36)"
                    },
                    "geo": {
                      "bgcolor": "white",
                      "lakecolor": "white",
                      "landcolor": "white",
                      "showlakes": true,
                      "showland": true,
                      "subunitcolor": "white"
                    },
                    "hoverlabel": {
                      "align": "left"
                    },
                    "hovermode": "closest",
                    "mapbox": {
                      "style": "light"
                    },
                    "paper_bgcolor": "white",
                    "plot_bgcolor": "white",
                    "polar": {
                      "angularaxis": {
                        "gridcolor": "rgb(232,232,232)",
                        "linecolor": "rgb(36,36,36)",
                        "showgrid": false,
                        "showline": true,
                        "ticks": "outside"
                      },
                      "bgcolor": "white",
                      "radialaxis": {
                        "gridcolor": "rgb(232,232,232)",
                        "linecolor": "rgb(36,36,36)",
                        "showgrid": false,
                        "showline": true,
                        "ticks": "outside"
                      }
                    },
                    "scene": {
                      "xaxis": {
                        "backgroundcolor": "white",
                        "gridcolor": "rgb(232,232,232)",
                        "gridwidth": 2,
                        "linecolor": "rgb(36,36,36)",
                        "showbackground": true,
                        "showgrid": false,
                        "showline": true,
                        "ticks": "outside",
                        "zeroline": false,
                        "zerolinecolor": "rgb(36,36,36)"
                      },
                      "yaxis": {
                        "backgroundcolor": "white",
                        "gridcolor": "rgb(232,232,232)",
                        "gridwidth": 2,
                        "linecolor": "rgb(36,36,36)",
                        "showbackground": true,
                        "showgrid": false,
                        "showline": true,
                        "ticks": "outside",
                        "zeroline": false,
                        "zerolinecolor": "rgb(36,36,36)"
                      },
                      "zaxis": {
                        "backgroundcolor": "white",
                        "gridcolor": "rgb(232,232,232)",
                        "gridwidth": 2,
                        "linecolor": "rgb(36,36,36)",
                        "showbackground": true,
                        "showgrid": false,
                        "showline": true,
                        "ticks": "outside",
                        "zeroline": false,
                        "zerolinecolor": "rgb(36,36,36)"
                      }
                    },
                    "shapedefaults": {
                      "fillcolor": "black",
                      "line": {
                        "width": 0
                      },
                      "opacity": 0.3
                    },
                    "ternary": {
                      "aaxis": {
                        "gridcolor": "rgb(232,232,232)",
                        "linecolor": "rgb(36,36,36)",
                        "showgrid": false,
                        "showline": true,
                        "ticks": "outside"
                      },
                      "baxis": {
                        "gridcolor": "rgb(232,232,232)",
                        "linecolor": "rgb(36,36,36)",
                        "showgrid": false,
                        "showline": true,
                        "ticks": "outside"
                      },
                      "bgcolor": "white",
                      "caxis": {
                        "gridcolor": "rgb(232,232,232)",
                        "linecolor": "rgb(36,36,36)",
                        "showgrid": false,
                        "showline": true,
                        "ticks": "outside"
                      }
                    },
                    "title": {
                      "x": 0.05
                    },
                    "xaxis": {
                      "automargin": true,
                      "gridcolor": "rgb(232,232,232)",
                      "linecolor": "rgb(36,36,36)",
                      "showgrid": false,
                      "showline": true,
                      "ticks": "outside",
                      "title": {
                        "standoff": 15
                      },
                      "zeroline": false,
                      "zerolinecolor": "rgb(36,36,36)"
                    },
                    "yaxis": {
                      "automargin": true,
                      "gridcolor": "rgb(232,232,232)",
                      "linecolor": "rgb(36,36,36)",
                      "showgrid": false,
                      "showline": true,
                      "ticks": "outside",
                      "title": {
                        "standoff": 15
                      },
                      "zeroline": false,
                      "zerolinecolor": "rgb(36,36,36)"
                    }
                  }
                },
                "title": {
                  "text": "Bar chart top 10 hub có tỉ lệ active/gọi cao nhất trong từng tuần và trong cả tháng 3 ",
                  "x": 0.5,
                  "y": 0.9
                },
                "updatemenus": [
                  {
                    "active": 0,
                    "buttons": [
                      {
                        "args": [
                          {
                            "x": [
                              [
                                "Lâm Đồng",
                                "SSE Quảng Nam",
                                "MC Miền Nam",
                                "Long An",
                                "SSE Miền Nam",
                                "Tân Bình",
                                "Hải Dương",
                                "Tân Thuận",
                                "Cần Thơ",
                                "Quảng Ninh"
                              ]
                            ],
                            "y": [
                              [
                                0.5,
                                0.2857142857142857,
                                0.15384615384615385,
                                0.14285714285714285,
                                0.12903225806451613,
                                0.08695652173913043,
                                0.08333333333333333,
                                0.08163265306122448,
                                0.07142857142857142,
                                0.0625
                              ]
                            ]
                          }
                        ],
                        "label": "Tuần 27.02 - 05.03",
                        "method": "restyle"
                      },
                      {
                        "args": [
                          {
                            "x": [
                              [
                                "Sở Giao dịch",
                                "Cần Thơ",
                                "Trần Hưng Đạo",
                                "Tân Bình",
                                "Hải Dương",
                                "Hà Đông",
                                "MC Miền Bắc",
                                "Hoàng Mai",
                                "Quảng Ninh",
                                "Hải Châu"
                              ]
                            ],
                            "y": [
                              [
                                0.3,
                                0.25,
                                0.22727272727272727,
                                0.13333333333333333,
                                0.09090909090909091,
                                0.0784313725490196,
                                0.07692307692307693,
                                0.07142857142857142,
                                0.06666666666666667,
                                0.047619047619047616
                              ]
                            ]
                          }
                        ],
                        "label": "Tuần 06.03 - 12.03",
                        "method": "restyle"
                      },
                      {
                        "args": [
                          {
                            "x": [
                              [
                                "Long An",
                                "Quảng Nam",
                                "Cần Thơ",
                                "Sở Giao dịch",
                                "Quảng Ninh",
                                "Hải Châu",
                                "SSE Miền Nam",
                                "HCM",
                                "Nam Thăng Long",
                                "Tân Bình"
                              ]
                            ],
                            "y": [
                              [
                                0.8,
                                0.42857142857142855,
                                0.25,
                                0.18181818181818182,
                                0.1111111111111111,
                                0.1,
                                0.08163265306122448,
                                0.07142857142857142,
                                0.06521739130434782,
                                0.05
                              ]
                            ]
                          }
                        ],
                        "label": "Tuần 13.03 - 19.03",
                        "method": "restyle"
                      },
                      {
                        "args": [
                          {
                            "x": [
                              [
                                "Huế",
                                "Đô Thành",
                                "Bắc Giang",
                                "Lâm Đồng",
                                "Đắk Lắk",
                                "Hải Phòng",
                                "Nam Thăng Long",
                                "Long Biên",
                                "Hải Châu",
                                "SSE Miền Nam"
                              ]
                            ],
                            "y": [
                              [
                                0.24242424242424243,
                                0.17647058823529413,
                                0.16666666666666666,
                                0.16666666666666666,
                                0.14285714285714285,
                                0.125,
                                0.125,
                                0.125,
                                0.12121212121212122,
                                0.11764705882352941
                              ]
                            ]
                          }
                        ],
                        "label": "Tuần 20.03 - 26.03",
                        "method": "restyle"
                      },
                      {
                        "args": [
                          {
                            "x": [
                              [
                                "Đắk Lắk",
                                "Đống Đa",
                                "SSE Miền Nam",
                                "Hải Châu",
                                "Đà Nẵng",
                                "Bắc Giang",
                                "Nam Thăng Long",
                                "Phú Thọ",
                                "Đô Thành",
                                "Hải Dương"
                              ]
                            ],
                            "y": [
                              [
                                1,
                                0.29411764705882354,
                                0.20833333333333334,
                                0.19696969696969696,
                                0.17857142857142858,
                                0.16666666666666666,
                                0.14814814814814814,
                                0.125,
                                0.1,
                                0.09090909090909091
                              ]
                            ]
                          }
                        ],
                        "label": "Tuần 27.03 - 01.04",
                        "method": "restyle"
                      },
                      {
                        "args": [
                          {
                            "x": [
                              [
                                "week 1",
                                "week 2",
                                "week 3",
                                "week 4",
                                "week 5"
                              ]
                            ],
                            "y": [
                              [
                                0.012828875842574472,
                                0.013500931098696461,
                                0.013833110218652387,
                                0.016802168021680216,
                                0.020879940343027592
                              ]
                            ]
                          }
                        ],
                        "label": "Tháng 3",
                        "method": "restyle"
                      }
                    ]
                  }
                ],
                "yaxis": {
                  "title": {
                    "text": "Percent"
                  }
                }
              }
            }
          },
          "metadata": {},
          "output_type": "display_data"
        }
      ],
      "source": [
        "import plotly.graph_objects as go\n",
        "\n",
        "# Generate dataset\n",
        "\n",
        "# Create figure\n",
        "fig = go.Figure()\n",
        "\n",
        "# Add traces\n",
        "trace1 = {\n",
        "    'x': df_10_w1.Hub,\n",
        "    'y': df_10_w1.rate,\n",
        "    'type': 'bar',\n",
        "    'name':'Tuan 1'\n",
        "}\n",
        "\n",
        "trace2 = {\n",
        "    'x': df_10_w2.Hub,\n",
        "    'y': df_10_w2.rate,\n",
        "    'type': 'bar',\n",
        "    'name':'A_item'\n",
        "}\n",
        "\n",
        "trace3 = {\n",
        "    'x': df_10_w3.Hub,\n",
        "    'y': df_10_w3.rate,\n",
        "    'type': 'bar',\n",
        "    'name':'A_item'\n",
        "}\n",
        "\n",
        "trace4 = {\n",
        "    'x': df_10_w4.Hub,\n",
        "    'y': df_10_w4.rate,\n",
        "    'type': 'bar',\n",
        "    'name':'A_item'\n",
        "}\n",
        "\n",
        "trace5 = {\n",
        "    'x': df_10_w5.Hub,\n",
        "    'y': df_10_w5.rate,\n",
        "    'type': 'bar',\n",
        "    'name':'A_item'\n",
        "}\n",
        "\n",
        "trace3 = {\n",
        "    'x': df_10_w3.Hub,\n",
        "    'y': df_10_w3.rate,\n",
        "    'type': 'bar',\n",
        "    'name':'A_item'\n",
        "}\n",
        "\n",
        "fig.add_trace(\n",
        "    trace1\n",
        ")\n",
        "\n",
        "button1 =  dict(method = \"restyle\",\n",
        "                args = [{'x': [df_10_w1.Hub],'y': [df_10_w1.rate] }],\n",
        "                label = \"Tuần 27.02 - 05.03\")\n",
        "button2 =  dict(method = \"restyle\",\n",
        "                args = [{'x': [df_10_w2.Hub], 'y': [df_10_w2.rate]}],\n",
        "                label = \"Tuần 06.03 - 12.03\")\n",
        "button3 =  dict(method = \"restyle\",\n",
        "                args = [{'x': [df_10_w3.Hub], 'y': [df_10_w3.rate]}],\n",
        "                label = \"Tuần 13.03 - 19.03\")\n",
        "button4 =  dict(method = \"restyle\",\n",
        "                args = [{'x': [df_10_w4.Hub], 'y': [df_10_w4.rate]}],\n",
        "                label = \"Tuần 20.03 - 26.03\")\n",
        "button5 =  dict(method = \"restyle\",\n",
        "                args = [{'x': [df_10_w5.Hub], 'y': [df_10_w5.rate]}],\n",
        "                label = \"Tuần 27.03 - 01.04\")\n",
        "button6 =  dict(method = \"restyle\",\n",
        "                args = [{'x': [df_month.Week], 'y': [df_month.Sum_month]}],\n",
        "                label = \"Tháng 3\")\n",
        "\n",
        "fig.update_layout(\n",
        "    title={\n",
        "        'text': \"Bar chart top 10 hub có tỉ lệ active/gọi cao nhất trong từng tuần và trong cả tháng 3 \",\n",
        "        'x': 0.5,\n",
        "        'y': 0.9\n",
        "    },\n",
        "    colorway=[\"teal\"],\n",
        "    template='simple_white',\n",
        "    updatemenus=[dict(active=0,\n",
        "                      buttons=[button1, button2, button3, button4, button5, button6])\n",
        "                ],\n",
        "    # xaxis_title=\"Time\",\n",
        "    yaxis_title=\"Percent\",\n",
        ")"
      ]
    }
  ],
  "metadata": {
    "colab": {
      "provenance": []
    },
    "kernelspec": {
      "display_name": "Python 3",
      "name": "python3"
    },
    "language_info": {
      "codemirror_mode": {
        "name": "ipython",
        "version": 3
      },
      "file_extension": ".py",
      "mimetype": "text/x-python",
      "name": "python",
      "nbconvert_exporter": "python",
      "pygments_lexer": "ipython3",
      "version": "3.10.6"
    }
  },
  "nbformat": 4,
  "nbformat_minor": 0
}
