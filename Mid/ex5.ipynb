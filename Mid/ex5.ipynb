{
 "cells": [
  {
   "cell_type": "markdown",
   "metadata": {},
   "source": []
  },
  {
   "cell_type": "code",
   "execution_count": 2,
   "metadata": {},
   "outputs": [],
   "source": [
    "import pandas as pd\n",
    "import numpy as np\n",
    "import geopandas as gpd\n",
    "\n",
    "import geoplot as gplt\n",
    "import matplotlib as plt"
   ]
  },
  {
   "cell_type": "code",
   "execution_count": 3,
   "metadata": {},
   "outputs": [
    {
     "data": {
      "text/html": [
       "<div>\n",
       "<style scoped>\n",
       "    .dataframe tbody tr th:only-of-type {\n",
       "        vertical-align: middle;\n",
       "    }\n",
       "\n",
       "    .dataframe tbody tr th {\n",
       "        vertical-align: top;\n",
       "    }\n",
       "\n",
       "    .dataframe thead th {\n",
       "        text-align: right;\n",
       "    }\n",
       "</style>\n",
       "<table border=\"1\" class=\"dataframe\">\n",
       "  <thead>\n",
       "    <tr style=\"text-align: right;\">\n",
       "      <th></th>\n",
       "      <th>ten_tinh</th>\n",
       "      <th>density</th>\n",
       "    </tr>\n",
       "  </thead>\n",
       "  <tbody>\n",
       "    <tr>\n",
       "      <th>0</th>\n",
       "      <td>CẢ NƯỚC</td>\n",
       "      <td>280.0</td>\n",
       "    </tr>\n",
       "    <tr>\n",
       "      <th>1</th>\n",
       "      <td>Đồng bằng sông Hồng</td>\n",
       "      <td>994.0</td>\n",
       "    </tr>\n",
       "    <tr>\n",
       "      <th>2</th>\n",
       "      <td>Hà Nội</td>\n",
       "      <td>2182.0</td>\n",
       "    </tr>\n",
       "    <tr>\n",
       "      <th>3</th>\n",
       "      <td>Vĩnh Phúc</td>\n",
       "      <td>863.0</td>\n",
       "    </tr>\n",
       "    <tr>\n",
       "      <th>4</th>\n",
       "      <td>Bắc Ninh</td>\n",
       "      <td>1432.0</td>\n",
       "    </tr>\n",
       "    <tr>\n",
       "      <th>5</th>\n",
       "      <td>Quảng Ninh</td>\n",
       "      <td>198.0</td>\n",
       "    </tr>\n",
       "    <tr>\n",
       "      <th>6</th>\n",
       "      <td>Hải Dương</td>\n",
       "      <td>1070.0</td>\n",
       "    </tr>\n",
       "    <tr>\n",
       "      <th>7</th>\n",
       "      <td>Hải Phòng</td>\n",
       "      <td>1268.0</td>\n",
       "    </tr>\n",
       "    <tr>\n",
       "      <th>8</th>\n",
       "      <td>Hưng Yên</td>\n",
       "      <td>1258.0</td>\n",
       "    </tr>\n",
       "    <tr>\n",
       "      <th>9</th>\n",
       "      <td>Thái Bình</td>\n",
       "      <td>1128.0</td>\n",
       "    </tr>\n",
       "  </tbody>\n",
       "</table>\n",
       "</div>"
      ],
      "text/plain": [
       "              ten_tinh  density\n",
       "0              CẢ NƯỚC    280.0\n",
       "1  Đồng bằng sông Hồng    994.0\n",
       "2               Hà Nội   2182.0\n",
       "3            Vĩnh Phúc    863.0\n",
       "4             Bắc Ninh   1432.0\n",
       "5           Quảng Ninh    198.0\n",
       "6            Hải Dương   1070.0\n",
       "7            Hải Phòng   1268.0\n",
       "8             Hưng Yên   1258.0\n",
       "9            Thái Bình   1128.0"
      ]
     },
     "execution_count": 3,
     "metadata": {},
     "output_type": "execute_result"
    }
   ],
   "source": [
    "csv_file = pd.read_csv('mat-do-dan-so.csv')\n",
    "csv_file.rename(columns={'province' : 'ten_tinh'}, inplace=True)\n",
    "csv_file.head(10)"
   ]
  },
  {
   "cell_type": "code",
   "execution_count": 4,
   "metadata": {},
   "outputs": [
    {
     "data": {
      "text/plain": [
       "(70, 2)"
      ]
     },
     "execution_count": 4,
     "metadata": {},
     "output_type": "execute_result"
    }
   ],
   "source": [
    "csv_file.shape"
   ]
  },
  {
   "cell_type": "code",
   "execution_count": 5,
   "metadata": {},
   "outputs": [
    {
     "data": {
      "text/html": [
       "<div>\n",
       "<style scoped>\n",
       "    .dataframe tbody tr th:only-of-type {\n",
       "        vertical-align: middle;\n",
       "    }\n",
       "\n",
       "    .dataframe tbody tr th {\n",
       "        vertical-align: top;\n",
       "    }\n",
       "\n",
       "    .dataframe thead th {\n",
       "        text-align: right;\n",
       "    }\n",
       "</style>\n",
       "<table border=\"1\" class=\"dataframe\">\n",
       "  <thead>\n",
       "    <tr style=\"text-align: right;\">\n",
       "      <th></th>\n",
       "      <th>gid</th>\n",
       "      <th>code</th>\n",
       "      <th>ten_tinh</th>\n",
       "      <th>geometry</th>\n",
       "    </tr>\n",
       "  </thead>\n",
       "  <tbody>\n",
       "    <tr>\n",
       "      <th>0</th>\n",
       "      <td>1</td>\n",
       "      <td>AD01</td>\n",
       "      <td>An Giang</td>\n",
       "      <td>MULTIPOLYGON (((105.11524 10.95566, 105.11463 ...</td>\n",
       "    </tr>\n",
       "    <tr>\n",
       "      <th>1</th>\n",
       "      <td>2</td>\n",
       "      <td>AD01</td>\n",
       "      <td>Bà Rịa -Vũng Tàu</td>\n",
       "      <td>MULTIPOLYGON (((106.08110 8.57754, 106.08069 8...</td>\n",
       "    </tr>\n",
       "    <tr>\n",
       "      <th>2</th>\n",
       "      <td>3</td>\n",
       "      <td>AD01</td>\n",
       "      <td>Bắc Giang</td>\n",
       "      <td>MULTIPOLYGON (((106.16542 21.62022, 106.16925 ...</td>\n",
       "    </tr>\n",
       "    <tr>\n",
       "      <th>3</th>\n",
       "      <td>4</td>\n",
       "      <td>AD01</td>\n",
       "      <td>Bắc Kạn</td>\n",
       "      <td>MULTIPOLYGON (((105.74420 22.73519, 105.74624 ...</td>\n",
       "    </tr>\n",
       "    <tr>\n",
       "      <th>4</th>\n",
       "      <td>5</td>\n",
       "      <td>AD01</td>\n",
       "      <td>Bạc Liêu</td>\n",
       "      <td>MULTIPOLYGON (((105.32591 9.60004, 105.32755 9...</td>\n",
       "    </tr>\n",
       "    <tr>\n",
       "      <th>5</th>\n",
       "      <td>6</td>\n",
       "      <td>AD01</td>\n",
       "      <td>Bắc Ninh</td>\n",
       "      <td>MULTIPOLYGON (((106.03246 21.22488, 106.03217 ...</td>\n",
       "    </tr>\n",
       "    <tr>\n",
       "      <th>6</th>\n",
       "      <td>7</td>\n",
       "      <td>AD01</td>\n",
       "      <td>Bến Tre</td>\n",
       "      <td>MULTIPOLYGON (((106.42508 10.32019, 106.44474 ...</td>\n",
       "    </tr>\n",
       "    <tr>\n",
       "      <th>7</th>\n",
       "      <td>8</td>\n",
       "      <td>AD01</td>\n",
       "      <td>Bình Định</td>\n",
       "      <td>MULTIPOLYGON (((109.36862 13.59160, 109.36824 ...</td>\n",
       "    </tr>\n",
       "    <tr>\n",
       "      <th>8</th>\n",
       "      <td>9</td>\n",
       "      <td>AD01</td>\n",
       "      <td>Bình Dương</td>\n",
       "      <td>MULTIPOLYGON (((106.43608 11.50210, 106.44327 ...</td>\n",
       "    </tr>\n",
       "    <tr>\n",
       "      <th>9</th>\n",
       "      <td>10</td>\n",
       "      <td>AD01</td>\n",
       "      <td>Bình Phước</td>\n",
       "      <td>MULTIPOLYGON (((107.21940 12.20223, 107.22417 ...</td>\n",
       "    </tr>\n",
       "  </tbody>\n",
       "</table>\n",
       "</div>"
      ],
      "text/plain": [
       "   gid  code          ten_tinh  \\\n",
       "0    1  AD01          An Giang   \n",
       "1    2  AD01  Bà Rịa -Vũng Tàu   \n",
       "2    3  AD01         Bắc Giang   \n",
       "3    4  AD01           Bắc Kạn   \n",
       "4    5  AD01          Bạc Liêu   \n",
       "5    6  AD01          Bắc Ninh   \n",
       "6    7  AD01           Bến Tre   \n",
       "7    8  AD01         Bình Định   \n",
       "8    9  AD01        Bình Dương   \n",
       "9   10  AD01        Bình Phước   \n",
       "\n",
       "                                            geometry  \n",
       "0  MULTIPOLYGON (((105.11524 10.95566, 105.11463 ...  \n",
       "1  MULTIPOLYGON (((106.08110 8.57754, 106.08069 8...  \n",
       "2  MULTIPOLYGON (((106.16542 21.62022, 106.16925 ...  \n",
       "3  MULTIPOLYGON (((105.74420 22.73519, 105.74624 ...  \n",
       "4  MULTIPOLYGON (((105.32591 9.60004, 105.32755 9...  \n",
       "5  MULTIPOLYGON (((106.03246 21.22488, 106.03217 ...  \n",
       "6  MULTIPOLYGON (((106.42508 10.32019, 106.44474 ...  \n",
       "7  MULTIPOLYGON (((109.36862 13.59160, 109.36824 ...  \n",
       "8  MULTIPOLYGON (((106.43608 11.50210, 106.44327 ...  \n",
       "9  MULTIPOLYGON (((107.21940 12.20223, 107.22417 ...  "
      ]
     },
     "execution_count": 5,
     "metadata": {},
     "output_type": "execute_result"
    }
   ],
   "source": [
    "geoFile = gpd.read_file('diaphantinh.geojson')\n",
    "geoFile.head(10)"
   ]
  },
  {
   "cell_type": "code",
   "execution_count": 6,
   "metadata": {},
   "outputs": [
    {
     "name": "stdout",
     "output_type": "stream",
     "text": [
      "CẢ NƯỚC\n",
      "Đồng bằng sông Hồng\n",
      "Trung du và miền núi phía Bắc\n",
      "Hoà Bình\n",
      "Bắc Trung Bộ và Duyên hải miền Trung\n",
      "Thanh Hoá\n",
      "Quảng Bình\n",
      "Thừa Thiên - Huế\n",
      "Khánh Hoà\n",
      "Tây Nguyên\n",
      "Đắk Lắk\n",
      "Đắk Nông\n",
      "Đông Nam Bộ\n",
      "Bà Rịa - Vũng Tàu\n",
      "Đồng bằng sông Cửu Long\n",
      "Kiên Giang\n",
      "Cần Thơ\n",
      "['An Giang', 'Bà Rịa -Vũng Tàu', 'Bắc Giang', 'Bắc Kạn', 'Bạc Liêu', 'Bắc Ninh', 'Bến Tre', 'Bình Định', 'Bình Dương', 'Bình Phước', 'Bình Thuận', 'Cà Mau', 'Cần Thơn', 'Cao Bằng', 'Đà Nẵng', 'Đăk Lăk', 'Đăk Nông', 'Điện Biên', 'Đồng Nai', 'Đồng Tháp', 'Gia Lai', 'Hà Giang', 'Hà Nam', 'Hà Nội', 'Hà Tĩnh', 'Hải Dương', 'Hải Phòng', 'Hậu Giang', 'Hòa Bình', 'Hưng Yên', 'Khánh Hòa', 'Kien Giang', 'Kon Tum', 'Lai Châu', 'Lâm Đồng', 'Lạng Sơn', 'Lào Cai', 'Long An', 'Nam Định', 'Nghệ An', 'Ninh Bình', 'Ninh Thuận', 'Phú Thọ', 'Phú Yên', 'Quản Bình', 'Quảng Nam', 'Quảng Ngãi', 'Quảng Ninh', 'Quảng Trị', 'Sóc Trăng', 'Sơn La', 'Tây Ninh', 'Thái Bình', 'Thái Nguyên', 'Thanh Hóa', 'Thừa Thiên Huế', 'Tiền Giang', 'TP. Hồ Chí Minh', 'Trà Vinh', 'Tuyên Quang', 'Vĩnh Long', 'Vĩnh Phúc', 'Yên Bái']\n",
      "17\n"
     ]
    }
   ],
   "source": [
    "a = list (geoFile['ten_tinh'])\n",
    "b = list(csv_file['ten_tinh'])\n",
    "count = 0\n",
    "for i in b:\n",
    "    if i not in a :\n",
    "        print ('{}'.format(i))\n",
    "        count += 1\n",
    "# print (a)\n",
    "print (a)\n",
    "print (count)\n"
   ]
  },
  {
   "cell_type": "code",
   "execution_count": 7,
   "metadata": {},
   "outputs": [
    {
     "data": {
      "text/plain": [
       "(63, 4)"
      ]
     },
     "execution_count": 7,
     "metadata": {},
     "output_type": "execute_result"
    }
   ],
   "source": [
    "geoFile.shape"
   ]
  },
  {
   "cell_type": "code",
   "execution_count": 8,
   "metadata": {},
   "outputs": [
    {
     "data": {
      "text/html": [
       "<div>\n",
       "<style scoped>\n",
       "    .dataframe tbody tr th:only-of-type {\n",
       "        vertical-align: middle;\n",
       "    }\n",
       "\n",
       "    .dataframe tbody tr th {\n",
       "        vertical-align: top;\n",
       "    }\n",
       "\n",
       "    .dataframe thead th {\n",
       "        text-align: right;\n",
       "    }\n",
       "</style>\n",
       "<table border=\"1\" class=\"dataframe\">\n",
       "  <thead>\n",
       "    <tr style=\"text-align: right;\">\n",
       "      <th></th>\n",
       "      <th>gid</th>\n",
       "      <th>code</th>\n",
       "      <th>ten_tinh</th>\n",
       "      <th>geometry</th>\n",
       "    </tr>\n",
       "  </thead>\n",
       "  <tbody>\n",
       "    <tr>\n",
       "      <th>0</th>\n",
       "      <td>1</td>\n",
       "      <td>AD01</td>\n",
       "      <td>An Giang</td>\n",
       "      <td>MULTIPOLYGON (((105.11524 10.95566, 105.11463 ...</td>\n",
       "    </tr>\n",
       "    <tr>\n",
       "      <th>1</th>\n",
       "      <td>2</td>\n",
       "      <td>AD01</td>\n",
       "      <td>Bà Rịa - Vũng Tàu</td>\n",
       "      <td>MULTIPOLYGON (((106.08110 8.57754, 106.08069 8...</td>\n",
       "    </tr>\n",
       "    <tr>\n",
       "      <th>2</th>\n",
       "      <td>3</td>\n",
       "      <td>AD01</td>\n",
       "      <td>Bắc Giang</td>\n",
       "      <td>MULTIPOLYGON (((106.16542 21.62022, 106.16925 ...</td>\n",
       "    </tr>\n",
       "    <tr>\n",
       "      <th>3</th>\n",
       "      <td>4</td>\n",
       "      <td>AD01</td>\n",
       "      <td>Bắc Kạn</td>\n",
       "      <td>MULTIPOLYGON (((105.74420 22.73519, 105.74624 ...</td>\n",
       "    </tr>\n",
       "    <tr>\n",
       "      <th>4</th>\n",
       "      <td>5</td>\n",
       "      <td>AD01</td>\n",
       "      <td>Bạc Liêu</td>\n",
       "      <td>MULTIPOLYGON (((105.32591 9.60004, 105.32755 9...</td>\n",
       "    </tr>\n",
       "  </tbody>\n",
       "</table>\n",
       "</div>"
      ],
      "text/plain": [
       "   gid  code           ten_tinh  \\\n",
       "0    1  AD01           An Giang   \n",
       "1    2  AD01  Bà Rịa - Vũng Tàu   \n",
       "2    3  AD01          Bắc Giang   \n",
       "3    4  AD01            Bắc Kạn   \n",
       "4    5  AD01           Bạc Liêu   \n",
       "\n",
       "                                            geometry  \n",
       "0  MULTIPOLYGON (((105.11524 10.95566, 105.11463 ...  \n",
       "1  MULTIPOLYGON (((106.08110 8.57754, 106.08069 8...  \n",
       "2  MULTIPOLYGON (((106.16542 21.62022, 106.16925 ...  \n",
       "3  MULTIPOLYGON (((105.74420 22.73519, 105.74624 ...  \n",
       "4  MULTIPOLYGON (((105.32591 9.60004, 105.32755 9...  "
      ]
     },
     "execution_count": 8,
     "metadata": {},
     "output_type": "execute_result"
    }
   ],
   "source": [
    "corrections = {\n",
    "    'Bà Rịa -Vũng Tàu': 'Bà Rịa - Vũng Tàu',\n",
    "    'Cần Thơn': 'Cần Thơ',\n",
    "    'Hòa Bình': 'Hoà Bình',\n",
    "    'Khánh Hòa': 'Khánh Hoà',\n",
    "    'Kien Giang': 'Kiên Giang',\n",
    "    'Quản Bình': 'Quảng Bình',\n",
    "    'TP. Hồ Chí Minh': 'TP.Hồ Chí Minh',\n",
    "    'Thanh Hóa': 'Thanh Hoá',\n",
    "    'Đăk Lăk': 'Đắk Lắk',\n",
    "    'Đăk Nông': 'Đắk Nông',\n",
    "    'Thừa Thiên Huế' : 'Thừa Thiên - Huế'\n",
    "}\n",
    "for name in geoFile['ten_tinh']:\n",
    "    if name in corrections:\n",
    "        geoFile['ten_tinh'] = geoFile['ten_tinh'].replace(to_replace = name, value = corrections[name])\n",
    "geoFile.head()\n"
   ]
  },
  {
   "cell_type": "code",
   "execution_count": 17,
   "metadata": {},
   "outputs": [
    {
     "data": {
      "text/html": [
       "<div>\n",
       "<style scoped>\n",
       "    .dataframe tbody tr th:only-of-type {\n",
       "        vertical-align: middle;\n",
       "    }\n",
       "\n",
       "    .dataframe tbody tr th {\n",
       "        vertical-align: top;\n",
       "    }\n",
       "\n",
       "    .dataframe thead th {\n",
       "        text-align: right;\n",
       "    }\n",
       "</style>\n",
       "<table border=\"1\" class=\"dataframe\">\n",
       "  <thead>\n",
       "    <tr style=\"text-align: right;\">\n",
       "      <th></th>\n",
       "      <th>gid</th>\n",
       "      <th>code</th>\n",
       "      <th>ten_tinh</th>\n",
       "      <th>geometry</th>\n",
       "      <th>density</th>\n",
       "    </tr>\n",
       "  </thead>\n",
       "  <tbody>\n",
       "    <tr>\n",
       "      <th>0</th>\n",
       "      <td>1</td>\n",
       "      <td>AD01</td>\n",
       "      <td>An Giang</td>\n",
       "      <td>MULTIPOLYGON (((105.11524 10.95566, 105.11463 ...</td>\n",
       "      <td>611.0</td>\n",
       "    </tr>\n",
       "    <tr>\n",
       "      <th>1</th>\n",
       "      <td>2</td>\n",
       "      <td>AD01</td>\n",
       "      <td>Bà Rịa - Vũng Tàu</td>\n",
       "      <td>MULTIPOLYGON (((106.08110 8.57754, 106.08069 8...</td>\n",
       "      <td>551.0</td>\n",
       "    </tr>\n",
       "    <tr>\n",
       "      <th>2</th>\n",
       "      <td>3</td>\n",
       "      <td>AD01</td>\n",
       "      <td>Bắc Giang</td>\n",
       "      <td>MULTIPOLYGON (((106.16542 21.62022, 106.16925 ...</td>\n",
       "      <td>426.0</td>\n",
       "    </tr>\n",
       "    <tr>\n",
       "      <th>3</th>\n",
       "      <td>4</td>\n",
       "      <td>AD01</td>\n",
       "      <td>Bắc Kạn</td>\n",
       "      <td>MULTIPOLYGON (((105.74420 22.73519, 105.74624 ...</td>\n",
       "      <td>66.0</td>\n",
       "    </tr>\n",
       "    <tr>\n",
       "      <th>4</th>\n",
       "      <td>5</td>\n",
       "      <td>AD01</td>\n",
       "      <td>Bạc Liêu</td>\n",
       "      <td>MULTIPOLYGON (((105.32591 9.60004, 105.32755 9...</td>\n",
       "      <td>332.0</td>\n",
       "    </tr>\n",
       "  </tbody>\n",
       "</table>\n",
       "</div>"
      ],
      "text/plain": [
       "   gid  code           ten_tinh  \\\n",
       "0    1  AD01           An Giang   \n",
       "1    2  AD01  Bà Rịa - Vũng Tàu   \n",
       "2    3  AD01          Bắc Giang   \n",
       "3    4  AD01            Bắc Kạn   \n",
       "4    5  AD01           Bạc Liêu   \n",
       "\n",
       "                                            geometry  density  \n",
       "0  MULTIPOLYGON (((105.11524 10.95566, 105.11463 ...    611.0  \n",
       "1  MULTIPOLYGON (((106.08110 8.57754, 106.08069 8...    551.0  \n",
       "2  MULTIPOLYGON (((106.16542 21.62022, 106.16925 ...    426.0  \n",
       "3  MULTIPOLYGON (((105.74420 22.73519, 105.74624 ...     66.0  \n",
       "4  MULTIPOLYGON (((105.32591 9.60004, 105.32755 9...    332.0  "
      ]
     },
     "execution_count": 17,
     "metadata": {},
     "output_type": "execute_result"
    }
   ],
   "source": [
    "data = geoFile.merge(csv_file, on= 'ten_tinh')\n",
    "data.head()"
   ]
  },
  {
   "cell_type": "code",
   "execution_count": 18,
   "metadata": {},
   "outputs": [
    {
     "data": {
      "text/plain": [
       "Text(0, 0.5, 'Province code')"
      ]
     },
     "execution_count": 18,
     "metadata": {},
     "output_type": "execute_result"
    },
    {
     "data": {
      "image/png": "[encoded data removed]",
      "text/plain": [
       "<Figure size 640x480 with 1 Axes>"
      ]
     },
     "metadata": {},
     "output_type": "display_data"
    }
   ],
   "source": [
    "import matplotlib.pyplot as plt \n",
    "\n",
    "density = data.density\n",
    "# my_range = range(1,len(data.index) + 1 )\n",
    "gid = data.gid\n",
    "\n",
    "plt.hlines(y = gid, xmin= 0, xmax=density, colors='blue')\n",
    "plt.plot(density, gid, \"o\")\n",
    "\n",
    "plt.title (\"Population of Vietnam\")\n",
    "plt.xlabel ('Density')\n",
    "plt.ylabel('Province code')\n"
   ]
  },
  {
   "cell_type": "code",
   "execution_count": 12,
   "metadata": {},
   "outputs": [
    {
     "data": {
      "application/vnd.plotly.v1+json": {
       "config": {
        "plotlyServerURL": "https://plot.ly"
       },
       "data": [
        {
         "alignmentgroup": "True",
         "hovertemplate": "ten_tinh=%{x}<br>density=%{y}<extra></extra>",
         "legendgroup": "",
         "marker": {
          "color": "#636efa",
          "pattern": {
           "shape": ""
          }
         },
         "name": "",
         "offsetgroup": "",
         "orientation": "v",
         "showlegend": false,
         "textposition": "auto",
         "type": "bar",
         "x": [
          "An Giang",
          "Bà Rịa - Vũng Tàu",
          "Bắc Giang",
          "Bắc Kạn",
          "Bạc Liêu",
          "Bắc Ninh",
          "Bến Tre",
          "Bình Định",
          "Bình Dương",
          "Bình Phước",
          "Bình Thuận",
          "Cà Mau",
          "Cần Thơ",
          "Cao Bằng",
          "Đà Nẵng",
          "Đắk Lắk",
          "Đắk Nông",
          "Điện Biên",
          "Đồng Nai",
          "Đồng Tháp",
          "Gia Lai",
          "Hà Giang",
          "Hà Nam",
          "Hà Nội",
          "Hà Tĩnh",
          "Hải Dương",
          "Hải Phòng",
          "Hậu Giang",
          "Hoà Bình",
          "Hưng Yên",
          "Khánh Hoà",
          "Kiên Giang",
          "Kon Tum",
          "Lai Châu",
          "Lâm Đồng",
          "Lạng Sơn",
          "Lào Cai",
          "Long An",
          "Nam Định",
          "Nghệ An",
          "Ninh Bình",
          "Ninh Thuận",
          "Phú Thọ",
          "Phú Yên",
          "Quảng Bình",
          "Quảng Nam",
          "Quảng Ngãi",
          "Quảng Ninh",
          "Quảng Trị",
          "Sóc Trăng",
          "Sơn La",
          "Tây Ninh",
          "Thái Bình",
          "Thái Nguyên",
          "Thanh Hoá",
          "Thừa Thiên - Huế",
          "Tiền Giang",
          "Trà Vinh",
          "Tuyên Quang",
          "Vĩnh Long",
          "Vĩnh Phúc",
          "Yên Bái"
         ],
         "xaxis": "x",
         "y": [
          611,
          551,
          426,
          66,
          332,
          1432,
          528,
          251,
          741,
          139,
          154,
          234,
          874,
          79,
          814,
          144,
          93,
          58,
          505,
          499,
          91,
          103,
          932,
          2182,
          211,
          1070,
          1268,
          476,
          181,
          1258,
          236,
          280,
          52,
          48,
          132,
          92,
          108,
          332,
          1110,
          188,
          687,
          179,
          391,
          179,
          110,
          141,
          243,
          198,
          135,
          396,
          86,
          277,
          1128,
          348,
          317,
          235,
          693,
          441,
          131,
          687,
          863,
          116
         ],
         "yaxis": "y"
        }
       ],
       "layout": {
        "barmode": "relative",
        "legend": {
         "tracegroupgap": 0
        },
        "margin": {
         "t": 60
        },
        "template": {
         "data": {
          "bar": [
           {
            "error_x": {
             "color": "#2a3f5f"
            },
            "error_y": {
             "color": "#2a3f5f"
            },
            "marker": {
             "line": {
              "color": "#E5ECF6",
              "width": 0.5
             },
             "pattern": {
              "fillmode": "overlay",
              "size": 10,
              "solidity": 0.2
             }
            },
            "type": "bar"
           }
          ],
          "barpolar": [
           {
            "marker": {
             "line": {
              "color": "#E5ECF6",
              "width": 0.5
             },
             "pattern": {
              "fillmode": "overlay",
              "size": 10,
              "solidity": 0.2
             }
            },
            "type": "barpolar"
           }
          ],
          "carpet": [
           {
            "aaxis": {
             "endlinecolor": "#2a3f5f",
             "gridcolor": "white",
             "linecolor": "white",
             "minorgridcolor": "white",
             "startlinecolor": "#2a3f5f"
            },
            "baxis": {
             "endlinecolor": "#2a3f5f",
             "gridcolor": "white",
             "linecolor": "white",
             "minorgridcolor": "white",
             "startlinecolor": "#2a3f5f"
            },
            "type": "carpet"
           }
          ],
          "choropleth": [
           {
            "colorbar": {
             "outlinewidth": 0,
             "ticks": ""
            },
            "type": "choropleth"
           }
          ],
          "contour": [
           {
            "colorbar": {
             "outlinewidth": 0,
             "ticks": ""
            },
            "colorscale": [
             [
              0,
              "#0d0887"
             ],
             [
              0.1111111111111111,
              "#46039f"
             ],
             [
              0.2222222222222222,
              "#7201a8"
             ],
             [
              0.3333333333333333,
              "#9c179e"
             ],
             [
              0.4444444444444444,
              "#bd3786"
             ],
             [
              0.5555555555555556,
              "#d8576b"
             ],
             [
              0.6666666666666666,
              "#ed7953"
             ],
             [
              0.7777777777777778,
              "#fb9f3a"
             ],
             [
              0.8888888888888888,
              "#fdca26"
             ],
             [
              1,
              "#f0f921"
             ]
            ],
            "type": "contour"
           }
          ],
          "contourcarpet": [
           {
            "colorbar": {
             "outlinewidth": 0,
             "ticks": ""
            },
            "type": "contourcarpet"
           }
          ],
          "heatmap": [
           {
            "colorbar": {
             "outlinewidth": 0,
             "ticks": ""
            },
            "colorscale": [
             [
              0,
              "#0d0887"
             ],
             [
              0.1111111111111111,
              "#46039f"
             ],
             [
              0.2222222222222222,
              "#7201a8"
             ],
             [
              0.3333333333333333,
              "#9c179e"
             ],
             [
              0.4444444444444444,
              "#bd3786"
             ],
             [
              0.5555555555555556,
              "#d8576b"
             ],
             [
              0.6666666666666666,
              "#ed7953"
             ],
             [
              0.7777777777777778,
              "#fb9f3a"
             ],
             [
              0.8888888888888888,
              "#fdca26"
             ],
             [
              1,
              "#f0f921"
             ]
            ],
            "type": "heatmap"
           }
          ],
          "heatmapgl": [
           {
            "colorbar": {
             "outlinewidth": 0,
             "ticks": ""
            },
            "colorscale": [
             [
              0,
              "#0d0887"
             ],
             [
              0.1111111111111111,
              "#46039f"
             ],
             [
              0.2222222222222222,
              "#7201a8"
             ],
             [
              0.3333333333333333,
              "#9c179e"
             ],
             [
              0.4444444444444444,
              "#bd3786"
             ],
             [
              0.5555555555555556,
              "#d8576b"
             ],
             [
              0.6666666666666666,
              "#ed7953"
             ],
             [
              0.7777777777777778,
              "#fb9f3a"
             ],
             [
              0.8888888888888888,
              "#fdca26"
             ],
             [
              1,
              "#f0f921"
             ]
            ],
            "type": "heatmapgl"
           }
          ],
          "histogram": [
           {
            "marker": {
             "pattern": {
              "fillmode": "overlay",
              "size": 10,
              "solidity": 0.2
             }
            },
            "type": "histogram"
           }
          ],
          "histogram2d": [
           {
            "colorbar": {
             "outlinewidth": 0,
             "ticks": ""
            },
            "colorscale": [
             [
              0,
              "#0d0887"
             ],
             [
              0.1111111111111111,
              "#46039f"
             ],
             [
              0.2222222222222222,
              "#7201a8"
             ],
             [
              0.3333333333333333,
              "#9c179e"
             ],
             [
              0.4444444444444444,
              "#bd3786"
             ],
             [
              0.5555555555555556,
              "#d8576b"
             ],
             [
              0.6666666666666666,
              "#ed7953"
             ],
             [
              0.7777777777777778,
              "#fb9f3a"
             ],
             [
              0.8888888888888888,
              "#fdca26"
             ],
             [
              1,
              "#f0f921"
             ]
            ],
            "type": "histogram2d"
           }
          ],
          "histogram2dcontour": [
           {
            "colorbar": {
             "outlinewidth": 0,
             "ticks": ""
            },
            "colorscale": [
             [
              0,
              "#0d0887"
             ],
             [
              0.1111111111111111,
              "#46039f"
             ],
             [
              0.2222222222222222,
              "#7201a8"
             ],
             [
              0.3333333333333333,
              "#9c179e"
             ],
             [
              0.4444444444444444,
              "#bd3786"
             ],
             [
              0.5555555555555556,
              "#d8576b"
             ],
             [
              0.6666666666666666,
              "#ed7953"
             ],
             [
              0.7777777777777778,
              "#fb9f3a"
             ],
             [
              0.8888888888888888,
              "#fdca26"
             ],
             [
              1,
              "#f0f921"
             ]
            ],
            "type": "histogram2dcontour"
           }
          ],
          "mesh3d": [
           {
            "colorbar": {
             "outlinewidth": 0,
             "ticks": ""
            },
            "type": "mesh3d"
           }
          ],
          "parcoords": [
           {
            "line": {
             "colorbar": {
              "outlinewidth": 0,
              "ticks": ""
             }
            },
            "type": "parcoords"
           }
          ],
          "pie": [
           {
            "automargin": true,
            "type": "pie"
           }
          ],
          "scatter": [
           {
            "fillpattern": {
             "fillmode": "overlay",
             "size": 10,
             "solidity": 0.2
            },
            "type": "scatter"
           }
          ],
          "scatter3d": [
           {
            "line": {
             "colorbar": {
              "outlinewidth": 0,
              "ticks": ""
             }
            },
            "marker": {
             "colorbar": {
              "outlinewidth": 0,
              "ticks": ""
             }
            },
            "type": "scatter3d"
           }
          ],
          "scattercarpet": [
           {
            "marker": {
             "colorbar": {
              "outlinewidth": 0,
              "ticks": ""
             }
            },
            "type": "scattercarpet"
           }
          ],
          "scattergeo": [
           {
            "marker": {
             "colorbar": {
              "outlinewidth": 0,
              "ticks": ""
             }
            },
            "type": "scattergeo"
           }
          ],
          "scattergl": [
           {
            "marker": {
             "colorbar": {
              "outlinewidth": 0,
              "ticks": ""
             }
            },
            "type": "scattergl"
           }
          ],
          "scattermapbox": [
           {
            "marker": {
             "colorbar": {
              "outlinewidth": 0,
              "ticks": ""
             }
            },
            "type": "scattermapbox"
           }
          ],
          "scatterpolar": [
           {
            "marker": {
             "colorbar": {
              "outlinewidth": 0,
              "ticks": ""
             }
            },
            "type": "scatterpolar"
           }
          ],
          "scatterpolargl": [
           {
            "marker": {
             "colorbar": {
              "outlinewidth": 0,
              "ticks": ""
             }
            },
            "type": "scatterpolargl"
           }
          ],
          "scatterternary": [
           {
            "marker": {
             "colorbar": {
              "outlinewidth": 0,
              "ticks": ""
             }
            },
            "type": "scatterternary"
           }
          ],
          "surface": [
           {
            "colorbar": {
             "outlinewidth": 0,
             "ticks": ""
            },
            "colorscale": [
             [
              0,
              "#0d0887"
             ],
             [
              0.1111111111111111,
              "#46039f"
             ],
             [
              0.2222222222222222,
              "#7201a8"
             ],
             [
              0.3333333333333333,
              "#9c179e"
             ],
             [
              0.4444444444444444,
              "#bd3786"
             ],
             [
              0.5555555555555556,
              "#d8576b"
             ],
             [
              0.6666666666666666,
              "#ed7953"
             ],
             [
              0.7777777777777778,
              "#fb9f3a"
             ],
             [
              0.8888888888888888,
              "#fdca26"
             ],
             [
              1,
              "#f0f921"
             ]
            ],
            "type": "surface"
           }
          ],
          "table": [
           {
            "cells": {
             "fill": {
              "color": "#EBF0F8"
             },
             "line": {
              "color": "white"
             }
            },
            "header": {
             "fill": {
              "color": "#C8D4E3"
             },
             "line": {
              "color": "white"
             }
            },
            "type": "table"
           }
          ]
         },
         "layout": {
          "annotationdefaults": {
           "arrowcolor": "#2a3f5f",
           "arrowhead": 0,
           "arrowwidth": 1
          },
          "autotypenumbers": "strict",
          "coloraxis": {
           "colorbar": {
            "outlinewidth": 0,
            "ticks": ""
           }
          },
          "colorscale": {
           "diverging": [
            [
             0,
             "#8e0152"
            ],
            [
             0.1,
             "#c51b7d"
            ],
            [
             0.2,
             "#de77ae"
            ],
            [
             0.3,
             "#f1b6da"
            ],
            [
             0.4,
             "#fde0ef"
            ],
            [
             0.5,
             "#f7f7f7"
            ],
            [
             0.6,
             "#e6f5d0"
            ],
            [
             0.7,
             "#b8e186"
            ],
            [
             0.8,
             "#7fbc41"
            ],
            [
             0.9,
             "#4d9221"
            ],
            [
             1,
             "#276419"
            ]
           ],
           "sequential": [
            [
             0,
             "#0d0887"
            ],
            [
             0.1111111111111111,
             "#46039f"
            ],
            [
             0.2222222222222222,
             "#7201a8"
            ],
            [
             0.3333333333333333,
             "#9c179e"
            ],
            [
             0.4444444444444444,
             "#bd3786"
            ],
            [
             0.5555555555555556,
             "#d8576b"
            ],
            [
             0.6666666666666666,
             "#ed7953"
            ],
            [
             0.7777777777777778,
             "#fb9f3a"
            ],
            [
             0.8888888888888888,
             "#fdca26"
            ],
            [
             1,
             "#f0f921"
            ]
           ],
           "sequentialminus": [
            [
             0,
             "#0d0887"
            ],
            [
             0.1111111111111111,
             "#46039f"
            ],
            [
             0.2222222222222222,
             "#7201a8"
            ],
            [
             0.3333333333333333,
             "#9c179e"
            ],
            [
             0.4444444444444444,
             "#bd3786"
            ],
            [
             0.5555555555555556,
             "#d8576b"
            ],
            [
             0.6666666666666666,
             "#ed7953"
            ],
            [
             0.7777777777777778,
             "#fb9f3a"
            ],
            [
             0.8888888888888888,
             "#fdca26"
            ],
            [
             1,
             "#f0f921"
            ]
           ]
          },
          "colorway": [
           "#636efa",
           "#EF553B",
           "#00cc96",
           "#ab63fa",
           "#FFA15A",
           "#19d3f3",
           "#FF6692",
           "#B6E880",
           "#FF97FF",
           "#FECB52"
          ],
          "font": {
           "color": "#2a3f5f"
          },
          "geo": {
           "bgcolor": "white",
           "lakecolor": "white",
           "landcolor": "#E5ECF6",
           "showlakes": true,
           "showland": true,
           "subunitcolor": "white"
          },
          "hoverlabel": {
           "align": "left"
          },
          "hovermode": "closest",
          "mapbox": {
           "style": "light"
          },
          "paper_bgcolor": "white",
          "plot_bgcolor": "#E5ECF6",
          "polar": {
           "angularaxis": {
            "gridcolor": "white",
            "linecolor": "white",
            "ticks": ""
           },
           "bgcolor": "#E5ECF6",
           "radialaxis": {
            "gridcolor": "white",
            "linecolor": "white",
            "ticks": ""
           }
          },
          "scene": {
           "xaxis": {
            "backgroundcolor": "#E5ECF6",
            "gridcolor": "white",
            "gridwidth": 2,
            "linecolor": "white",
            "showbackground": true,
            "ticks": "",
            "zerolinecolor": "white"
           },
           "yaxis": {
            "backgroundcolor": "#E5ECF6",
            "gridcolor": "white",
            "gridwidth": 2,
            "linecolor": "white",
            "showbackground": true,
            "ticks": "",
            "zerolinecolor": "white"
           },
           "zaxis": {
            "backgroundcolor": "#E5ECF6",
            "gridcolor": "white",
            "gridwidth": 2,
            "linecolor": "white",
            "showbackground": true,
            "ticks": "",
            "zerolinecolor": "white"
           }
          },
          "shapedefaults": {
           "line": {
            "color": "#2a3f5f"
           }
          },
          "ternary": {
           "aaxis": {
            "gridcolor": "white",
            "linecolor": "white",
            "ticks": ""
           },
           "baxis": {
            "gridcolor": "white",
            "linecolor": "white",
            "ticks": ""
           },
           "bgcolor": "#E5ECF6",
           "caxis": {
            "gridcolor": "white",
            "linecolor": "white",
            "ticks": ""
           }
          },
          "title": {
           "x": 0.05
          },
          "xaxis": {
           "automargin": true,
           "gridcolor": "white",
           "linecolor": "white",
           "ticks": "",
           "title": {
            "standoff": 15
           },
           "zerolinecolor": "white",
           "zerolinewidth": 2
          },
          "yaxis": {
           "automargin": true,
           "gridcolor": "white",
           "linecolor": "white",
           "ticks": "",
           "title": {
            "standoff": 15
           },
           "zerolinecolor": "white",
           "zerolinewidth": 2
          }
         }
        },
        "xaxis": {
         "anchor": "y",
         "domain": [
          0,
          1
         ],
         "title": {
          "text": "ten_tinh"
         }
        },
        "yaxis": {
         "anchor": "x",
         "domain": [
          0,
          1
         ],
         "title": {
          "text": "density"
         }
        }
       }
      }
     },
     "metadata": {},
     "output_type": "display_data"
    }
   ],
   "source": [
    "import plotly.express as px\n",
    "fig = px.bar(data, x = 'ten_tinh', y= 'density')\n",
    "fig.show()"
   ]
  },
  {
   "cell_type": "code",
   "execution_count": 13,
   "metadata": {},
   "outputs": [
    {
     "data": {
      "text/plain": [
       "<AxesSubplot: >"
      ]
     },
     "execution_count": 13,
     "metadata": {},
     "output_type": "execute_result"
    },
    {
     "data": {
      "image/png": "[encoded data removed]",
      "text/plain": [
       "<Figure size 2000x1000 with 1 Axes>"
      ]
     },
     "metadata": {},
     "output_type": "display_data"
    }
   ],
   "source": [
    "import geopandas as gpd\n",
    "import geoplot as gplt\n",
    "import matplotlib.pyplot as plt\n",
    "import mapclassify as mc\n",
    "\n",
    "geoData = gpd.read_file('diaphantinh.geojson')\n",
    "# gplt.polyplot(geoData, figsize = (20, 4))\n",
    "geoData.plot(figsize = (20,10))\n",
    "# plt.savefig('out.pdf')\n",
    "\n",
    "# data = pd.read_csv('mat-do-dan-so.csv')\n",
    "\n",
    "# fulldata = geoData.merge(data, left_on = ['ten_tinh'], right_on = ['province'])\n",
    "\n",
    "# fig, ax = plt.subplot (1,1,figsize = (16, 12))\n",
    "# scheme = mc.Quantiles(fulldata['density'], k = 10)\n",
    "\n",
    "# gplt.choropleth(fulldata, hue = 'density', linewidth= .1, scheme = scheme, cmap = 'inferno_r', legend=True, edgecolor = 'black', ax = ax)\n",
    "# ax.set_title ('Viet Nam')"
   ]
  },
  {
   "cell_type": "code",
   "execution_count": 19,
   "metadata": {},
   "outputs": [
    {
     "data": {
      "text/plain": [
       "<AxesSubplot: >"
      ]
     },
     "execution_count": 19,
     "metadata": {},
     "output_type": "execute_result"
    },
    {
     "data": {
      "image/png": "[encoded data removed]",
      "text/plain": [
       "<Figure size 1600x1200 with 1 Axes>"
      ]
     },
     "metadata": {},
     "output_type": "display_data"
    }
   ],
   "source": [
    "# data = pd.read_csv('mat-do-dan-so.csv')\n",
    "# fulldata = geoData.merge(data, left_on = ['ten_tinh'], right_on = ['province'])\n",
    "\n",
    "fig, ax = plt.subplots (1,figsize = (16, 12))\n",
    "scheme = mc.Quantiles(data['density'], k = 10)\n",
    "\n",
    "# gplt.choropleth(fulldata, hue = 'density', linewidth= .1, scheme = scheme, cmap = 'inferno_r', legend=True, edgecolor = 'black', ax = ax)\n",
    "# ax.set_title ('Viet Nam')\n",
    "data.plot (column = 'density', cmap = 'inferno_r', linewidth = 0.7, ax = ax,edgecolor= '0.8' )"
   ]
  }
 ],
 "metadata": {
  "kernelspec": {
   "display_name": "Python 3 (ipykernel)",
   "language": "python",
   "name": "python3"
  },
  "language_info": {
   "codemirror_mode": {
    "name": "ipython",
    "version": 3
   },
   "file_extension": ".py",
   "mimetype": "text/x-python",
   "name": "python",
   "nbconvert_exporter": "python",
   "pygments_lexer": "ipython3",
   "version": "3.10.6"
  },
  "orig_nbformat": 4
 },
 "nbformat": 4,
 "nbformat_minor": 2
}
